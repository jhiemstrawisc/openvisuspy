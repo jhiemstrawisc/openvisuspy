{
 "cells": [
  {
   "cell_type": "markdown",
   "id": "6935afb8",
   "metadata": {},
   "source": [
    "# Import OpenVisus and Load Dataset"
   ]
  },
  {
   "cell_type": "code",
   "execution_count": 1,
   "id": "502716f3",
   "metadata": {},
   "outputs": [
    {
     "name": "stdout",
     "output_type": "stream",
     "text": [
      "Loaded dataset \n",
      "fields=['DATA'] \n",
      "logic_box=([0, 0, 0], [2048, 2048, 2048])\n"
     ]
    }
   ],
   "source": [
    "import os,sys\n",
    "import matplotlib.pyplot as plt, skimage\n",
    "%matplotlib notebook\n",
    "\n",
    "sys.path.append(\"c:/projects/openvisus/build/RelWithDebInfo\")\n",
    "sys.path.append(\"c:/projects/openvisuspy/src\")\n",
    "\n",
    "def ShowData(data,extent):\n",
    "    fig, ax = plt.subplots()\n",
    "    im = ax.imshow(data, extent=extent) \n",
    "    plt.colorbar(im)\n",
    "    return fig,im,ax\n",
    "\n",
    "from openvisuspy import LoadDataset, ExecuteBoxQuery, SetupLogger\n",
    "SetupLogger()\n",
    "\n",
    "url=f\"http://atlantis.sci.utah.edu/mod_visus?dataset=2kbit1&cached=1\"\n",
    "db=LoadDataset(url)\n",
    "print(f\"Loaded dataset \\nfields={db.getFields()} \\nlogic_box={db.getLogicBox()}\")\n",
    "W,H,D=db.getLogicBox()[1]\n",
    "access=db.createAccess()\n"
   ]
  },
  {
   "cell_type": "markdown",
   "id": "23c0f58c",
   "metadata": {},
   "source": [
    "# Extract data"
   ]
  },
  {
   "cell_type": "code",
   "execution_count": 2,
   "id": "6155f76a",
   "metadata": {},
   "outputs": [
    {
     "data": {
      "application/javascript": [
       "console.log(\"[184946][INFO][openvisuspy.backend_cpp:76:createBoxQuery] begin timestep=0.0 field=<VisusKernelPy.Field; proxy of <Swig Object of type 'Visus::Field *' at 0x0000022C06F20FC0> > logic_box=[[0, 0, 0], [2048, 2048, 2048]] num_refinements=1 max_pixels=None endh=21\");\n"
      ],
      "text/plain": [
       "<IPython.core.display.Javascript object>"
      ]
     },
     "metadata": {},
     "output_type": "display_data"
    },
    {
     "data": {
      "application/javascript": [
       "console.log(\"[184946][INFO][openvisuspy.backend_cpp:140:beginBoxQuery] beginBoxQuery timestep=0.0 field=<VisusKernelPy.Field; proxy of <Swig Object of type 'Visus::Field *' at 0x0000022C06F20FC0> > logic_box=[[0, 0, 0], [2048, 2048, 2048]] end_resolutions=[21]\");\n"
      ],
      "text/plain": [
       "<IPython.core.display.Javascript object>"
      ]
     },
     "metadata": {},
     "output_type": "display_data"
    },
    {
     "data": {
      "application/javascript": [
       "console.log(\"[184946][INFO][openvisuspy.backend_cpp:170:returnBoxQueryData] got data 0/[21] timestep=0.0 field=<VisusKernelPy.Field; proxy of <Swig Object of type 'Visus::Field *' at 0x0000022C06F20FC0> > H=21 data.shape=(128, 128, 128) data.dtype=uint8 logic_box=[[0, 0, 0], [2048, 2048, 2048]] m=0 M=230 ms=93\");\n"
      ],
      "text/plain": [
       "<IPython.core.display.Javascript object>"
      ]
     },
     "metadata": {},
     "output_type": "display_data"
    },
    {
     "name": "stdout",
     "output_type": "stream",
     "text": [
      "God data shape=(128, 128, 128) dtype=uint8\n"
     ]
    }
   ],
   "source": [
    "result=list(ExecuteBoxQuery(db,\n",
    "                            access=access,\n",
    "                            logic_box=[[0,0,0],[W,H,D]],\n",
    "                            endh=21,\n",
    "                            num_refinements=1))[0]\n",
    "data=result['data']\n",
    "print(f\"God data shape={data.shape} dtype={data.dtype}\")"
   ]
  },
  {
   "cell_type": "markdown",
   "id": "b731a9f5",
   "metadata": {},
   "source": [
    "# Show volume in pyvista"
   ]
  },
  {
   "cell_type": "code",
   "execution_count": 3,
   "id": "e04d6ff0",
   "metadata": {},
   "outputs": [
    {
     "data": {
      "application/vnd.jupyter.widget-view+json": {
       "model_id": "0fed56cb26074356a74d681895ace5c1",
       "version_major": 2,
       "version_minor": 0
      },
      "text/plain": [
       "Widget(value=\"<iframe src='http://localhost:63881/index.html?ui=P_0x22c06f7e4f0_0&reconnect=auto' style='width…"
      ]
     },
     "metadata": {},
     "output_type": "display_data"
    }
   ],
   "source": [
    "# !pip install pyvista trame trame-vtk  trame-vuetify\n",
    "import pyvista as pv\n",
    "p = pv.Plotter()\n",
    "p.add_volume(data)\n",
    "p.show()"
   ]
  },
  {
   "cell_type": "code",
   "execution_count": null,
   "id": "5ecc7b41",
   "metadata": {},
   "outputs": [],
   "source": []
  }
 ],
 "metadata": {
  "kernelspec": {
   "display_name": "Python 3 (ipykernel)",
   "language": "python",
   "name": "python3"
  },
  "language_info": {
   "codemirror_mode": {
    "name": "ipython",
    "version": 3
   },
   "file_extension": ".py",
   "mimetype": "text/x-python",
   "name": "python",
   "nbconvert_exporter": "python",
   "pygments_lexer": "ipython3",
   "version": "3.8.0"
  }
 },
 "nbformat": 4,
 "nbformat_minor": 5
}
