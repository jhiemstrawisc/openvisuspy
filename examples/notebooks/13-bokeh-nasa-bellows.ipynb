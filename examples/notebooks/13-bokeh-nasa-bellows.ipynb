{
 "cells": [
  {
   "cell_type": "markdown",
   "metadata": {},
   "source": [
    "| ![nsdf](https://www.sci.utah.edu/~pascucci/public/NSDF-smaller.PNG)  | [National Science Data Fabric](https://nationalsciencedatafabric.org/) [Jupyter notebook](https://jupyter.org/) <br> created by  [Valerio Pascucci](http://cedmav.com/) and  [Giorgio Scorzelli](https://www.sci.utah.edu/people/scrgiorgio.html)  |  \n",
    "|---|:---:|\n"
   ]
  },
  {
   "cell_type": "markdown",
   "metadata": {},
   "source": [
    "#  <center> This is a preview of the data:\n",
    "![Preview](https://raw.githubusercontent.com/scrgiorgio/reasources/main/images/2023-05-10_9-56-53.gif)"
   ]
  },
  {
   "cell_type": "code",
   "execution_count": 1,
   "metadata": {},
   "outputs": [
    {
     "data": {
      "application/javascript": [
       "console.log(\"[203606][INFO][openvisuspy:18:<module>] GetBackend=cpp\");\n"
      ],
      "text/plain": [
       "<IPython.core.display.Javascript object>"
      ]
     },
     "metadata": {},
     "output_type": "display_data"
    },
    {
     "data": {
      "text/html": [
       "<style>\n",
       "        .bk-notebook-logo {\n",
       "            display: block;\n",
       "            width: 20px;\n",
       "            height: 20px;\n",
       "            background-image: url(data:image/png;base64,iVBORw0KGgoAAAANSUhEUgAAABQAAAAUCAYAAACNiR0NAAAABHNCSVQICAgIfAhkiAAAAAlwSFlzAAALEgAACxIB0t1+/AAAABx0RVh0U29mdHdhcmUAQWRvYmUgRmlyZXdvcmtzIENTNui8sowAAAOkSURBVDiNjZRtaJVlGMd/1/08zzln5zjP1LWcU9N0NkN8m2CYjpgQYQXqSs0I84OLIC0hkEKoPtiH3gmKoiJDU7QpLgoLjLIQCpEsNJ1vqUOdO7ppbuec5+V+rj4ctwzd8IIbbi6u+8f1539dt3A78eXC7QizUF7gyV1fD1Yqg4JWz84yffhm0qkFqBogB9rM8tZdtwVsPUhWhGcFJngGeWrPzHm5oaMmkfEg1usvLFyc8jLRqDOMru7AyC8saQr7GG7f5fvDeH7Ej8CM66nIF+8yngt6HWaKh7k49Soy9nXurCi1o3qUbS3zWfrYeQDTB/Qj6kX6Ybhw4B+bOYoLKCC9H3Nu/leUTZ1JdRWkkn2ldcCamzrcf47KKXdAJllSlxAOkRgyHsGC/zRday5Qld9DyoM4/q/rUoy/CXh3jzOu3bHUVZeU+DEn8FInkPBFlu3+nW3Nw0mk6vCDiWg8CeJaxEwuHS3+z5RgY+YBR6V1Z1nxSOfoaPa4LASWxxdNp+VWTk7+4vzaou8v8PN+xo+KY2xsw6une2frhw05CTYOmQvsEhjhWjn0bmXPjpE1+kplmmkP3suftwTubK9Vq22qKmrBhpY4jvd5afdRA3wGjFAgcnTK2s4hY0/GPNIb0nErGMCRxWOOX64Z8RAC4oCXdklmEvcL8o0BfkNK4lUg9HTl+oPlQxdNo3Mg4Nv175e/1LDGzZen30MEjRUtmXSfiTVu1kK8W4txyV6BMKlbgk3lMwYCiusNy9fVfvvwMxv8Ynl6vxoByANLTWplvuj/nF9m2+PDtt1eiHPBr1oIfhCChQMBw6Aw0UulqTKZdfVvfG7VcfIqLG9bcldL/+pdWTLxLUy8Qq38heUIjh4XlzZxzQm19lLFlr8vdQ97rjZVOLf8nclzckbcD4wxXMidpX30sFd37Fv/GtwwhzhxGVAprjbg0gCAEeIgwCZyTV2Z1REEW8O4py0wsjeloKoMr6iCY6dP92H6Vw/oTyICIthibxjm/DfN9lVz8IqtqKYLUXfoKVMVQVVJOElGjrnnUt9T9wbgp8AyYKaGlqingHZU/uG2NTZSVqwHQTWkx9hxjkpWDaCg6Ckj5qebgBVbT3V3NNXMSiWSDdGV3hrtzla7J+duwPOToIg42ChPQOQjspnSlp1V+Gjdged7+8UN5CRAV7a5EdFNwCjEaBR27b3W890TE7g24NAP/mMDXRWrGoFPQI9ls/MWO2dWFAar/xcOIImbbpA3zgAAAABJRU5ErkJggg==);\n",
       "        }\n",
       "    </style>\n",
       "    <div>\n",
       "        <a href=\"https://bokeh.org\" target=\"_blank\" class=\"bk-notebook-logo\"></a>\n",
       "        <span id=\"fbe31360-b009-4219-821f-4769021df923\">Loading BokehJS ...</span>\n",
       "    </div>\n"
      ]
     },
     "metadata": {},
     "output_type": "display_data"
    },
    {
     "data": {
      "application/javascript": [
       "(function(root) {\n",
       "  function now() {\n",
       "    return new Date();\n",
       "  }\n",
       "\n",
       "  const force = true;\n",
       "\n",
       "  if (typeof root._bokeh_onload_callbacks === \"undefined\" || force === true) {\n",
       "    root._bokeh_onload_callbacks = [];\n",
       "    root._bokeh_is_loading = undefined;\n",
       "  }\n",
       "\n",
       "const JS_MIME_TYPE = 'application/javascript';\n",
       "  const HTML_MIME_TYPE = 'text/html';\n",
       "  const EXEC_MIME_TYPE = 'application/vnd.bokehjs_exec.v0+json';\n",
       "  const CLASS_NAME = 'output_bokeh rendered_html';\n",
       "\n",
       "  /**\n",
       "   * Render data to the DOM node\n",
       "   */\n",
       "  function render(props, node) {\n",
       "    const script = document.createElement(\"script\");\n",
       "    node.appendChild(script);\n",
       "  }\n",
       "\n",
       "  /**\n",
       "   * Handle when an output is cleared or removed\n",
       "   */\n",
       "  function handleClearOutput(event, handle) {\n",
       "    const cell = handle.cell;\n",
       "\n",
       "    const id = cell.output_area._bokeh_element_id;\n",
       "    const server_id = cell.output_area._bokeh_server_id;\n",
       "    // Clean up Bokeh references\n",
       "    if (id != null && id in Bokeh.index) {\n",
       "      Bokeh.index[id].model.document.clear();\n",
       "      delete Bokeh.index[id];\n",
       "    }\n",
       "\n",
       "    if (server_id !== undefined) {\n",
       "      // Clean up Bokeh references\n",
       "      const cmd_clean = \"from bokeh.io.state import curstate; print(curstate().uuid_to_server['\" + server_id + \"'].get_sessions()[0].document.roots[0]._id)\";\n",
       "      cell.notebook.kernel.execute(cmd_clean, {\n",
       "        iopub: {\n",
       "          output: function(msg) {\n",
       "            const id = msg.content.text.trim();\n",
       "            if (id in Bokeh.index) {\n",
       "              Bokeh.index[id].model.document.clear();\n",
       "              delete Bokeh.index[id];\n",
       "            }\n",
       "          }\n",
       "        }\n",
       "      });\n",
       "      // Destroy server and session\n",
       "      const cmd_destroy = \"import bokeh.io.notebook as ion; ion.destroy_server('\" + server_id + \"')\";\n",
       "      cell.notebook.kernel.execute(cmd_destroy);\n",
       "    }\n",
       "  }\n",
       "\n",
       "  /**\n",
       "   * Handle when a new output is added\n",
       "   */\n",
       "  function handleAddOutput(event, handle) {\n",
       "    const output_area = handle.output_area;\n",
       "    const output = handle.output;\n",
       "\n",
       "    // limit handleAddOutput to display_data with EXEC_MIME_TYPE content only\n",
       "    if ((output.output_type != \"display_data\") || (!Object.prototype.hasOwnProperty.call(output.data, EXEC_MIME_TYPE))) {\n",
       "      return\n",
       "    }\n",
       "\n",
       "    const toinsert = output_area.element.find(\".\" + CLASS_NAME.split(' ')[0]);\n",
       "\n",
       "    if (output.metadata[EXEC_MIME_TYPE][\"id\"] !== undefined) {\n",
       "      toinsert[toinsert.length - 1].firstChild.textContent = output.data[JS_MIME_TYPE];\n",
       "      // store reference to embed id on output_area\n",
       "      output_area._bokeh_element_id = output.metadata[EXEC_MIME_TYPE][\"id\"];\n",
       "    }\n",
       "    if (output.metadata[EXEC_MIME_TYPE][\"server_id\"] !== undefined) {\n",
       "      const bk_div = document.createElement(\"div\");\n",
       "      bk_div.innerHTML = output.data[HTML_MIME_TYPE];\n",
       "      const script_attrs = bk_div.children[0].attributes;\n",
       "      for (let i = 0; i < script_attrs.length; i++) {\n",
       "        toinsert[toinsert.length - 1].firstChild.setAttribute(script_attrs[i].name, script_attrs[i].value);\n",
       "        toinsert[toinsert.length - 1].firstChild.textContent = bk_div.children[0].textContent\n",
       "      }\n",
       "      // store reference to server id on output_area\n",
       "      output_area._bokeh_server_id = output.metadata[EXEC_MIME_TYPE][\"server_id\"];\n",
       "    }\n",
       "  }\n",
       "\n",
       "  function register_renderer(events, OutputArea) {\n",
       "\n",
       "    function append_mime(data, metadata, element) {\n",
       "      // create a DOM node to render to\n",
       "      const toinsert = this.create_output_subarea(\n",
       "        metadata,\n",
       "        CLASS_NAME,\n",
       "        EXEC_MIME_TYPE\n",
       "      );\n",
       "      this.keyboard_manager.register_events(toinsert);\n",
       "      // Render to node\n",
       "      const props = {data: data, metadata: metadata[EXEC_MIME_TYPE]};\n",
       "      render(props, toinsert[toinsert.length - 1]);\n",
       "      element.append(toinsert);\n",
       "      return toinsert\n",
       "    }\n",
       "\n",
       "    /* Handle when an output is cleared or removed */\n",
       "    events.on('clear_output.CodeCell', handleClearOutput);\n",
       "    events.on('delete.Cell', handleClearOutput);\n",
       "\n",
       "    /* Handle when a new output is added */\n",
       "    events.on('output_added.OutputArea', handleAddOutput);\n",
       "\n",
       "    /**\n",
       "     * Register the mime type and append_mime function with output_area\n",
       "     */\n",
       "    OutputArea.prototype.register_mime_type(EXEC_MIME_TYPE, append_mime, {\n",
       "      /* Is output safe? */\n",
       "      safe: true,\n",
       "      /* Index of renderer in `output_area.display_order` */\n",
       "      index: 0\n",
       "    });\n",
       "  }\n",
       "\n",
       "  // register the mime type if in Jupyter Notebook environment and previously unregistered\n",
       "  if (root.Jupyter !== undefined) {\n",
       "    const events = require('base/js/events');\n",
       "    const OutputArea = require('notebook/js/outputarea').OutputArea;\n",
       "\n",
       "    if (OutputArea.prototype.mime_types().indexOf(EXEC_MIME_TYPE) == -1) {\n",
       "      register_renderer(events, OutputArea);\n",
       "    }\n",
       "  }\n",
       "  if (typeof (root._bokeh_timeout) === \"undefined\" || force === true) {\n",
       "    root._bokeh_timeout = Date.now() + 5000;\n",
       "    root._bokeh_failed_load = false;\n",
       "  }\n",
       "\n",
       "  const NB_LOAD_WARNING = {'data': {'text/html':\n",
       "     \"<div style='background-color: #fdd'>\\n\"+\n",
       "     \"<p>\\n\"+\n",
       "     \"BokehJS does not appear to have successfully loaded. If loading BokehJS from CDN, this \\n\"+\n",
       "     \"may be due to a slow or bad network connection. Possible fixes:\\n\"+\n",
       "     \"</p>\\n\"+\n",
       "     \"<ul>\\n\"+\n",
       "     \"<li>re-rerun `output_notebook()` to attempt to load from CDN again, or</li>\\n\"+\n",
       "     \"<li>use INLINE resources instead, as so:</li>\\n\"+\n",
       "     \"</ul>\\n\"+\n",
       "     \"<code>\\n\"+\n",
       "     \"from bokeh.resources import INLINE\\n\"+\n",
       "     \"output_notebook(resources=INLINE)\\n\"+\n",
       "     \"</code>\\n\"+\n",
       "     \"</div>\"}};\n",
       "\n",
       "  function display_loaded() {\n",
       "    const el = document.getElementById(\"fbe31360-b009-4219-821f-4769021df923\");\n",
       "    if (el != null) {\n",
       "      el.textContent = \"BokehJS is loading...\";\n",
       "    }\n",
       "    if (root.Bokeh !== undefined) {\n",
       "      if (el != null) {\n",
       "        el.textContent = \"BokehJS \" + root.Bokeh.version + \" successfully loaded.\";\n",
       "      }\n",
       "    } else if (Date.now() < root._bokeh_timeout) {\n",
       "      setTimeout(display_loaded, 100)\n",
       "    }\n",
       "  }\n",
       "\n",
       "  function run_callbacks() {\n",
       "    try {\n",
       "      root._bokeh_onload_callbacks.forEach(function(callback) {\n",
       "        if (callback != null)\n",
       "          callback();\n",
       "      });\n",
       "    } finally {\n",
       "      delete root._bokeh_onload_callbacks\n",
       "    }\n",
       "    console.debug(\"Bokeh: all callbacks have finished\");\n",
       "  }\n",
       "\n",
       "  function load_libs(css_urls, js_urls, callback) {\n",
       "    if (css_urls == null) css_urls = [];\n",
       "    if (js_urls == null) js_urls = [];\n",
       "\n",
       "    root._bokeh_onload_callbacks.push(callback);\n",
       "    if (root._bokeh_is_loading > 0) {\n",
       "      console.debug(\"Bokeh: BokehJS is being loaded, scheduling callback at\", now());\n",
       "      return null;\n",
       "    }\n",
       "    if (js_urls == null || js_urls.length === 0) {\n",
       "      run_callbacks();\n",
       "      return null;\n",
       "    }\n",
       "    console.debug(\"Bokeh: BokehJS not loaded, scheduling load and callback at\", now());\n",
       "    root._bokeh_is_loading = css_urls.length + js_urls.length;\n",
       "\n",
       "    function on_load() {\n",
       "      root._bokeh_is_loading--;\n",
       "      if (root._bokeh_is_loading === 0) {\n",
       "        console.debug(\"Bokeh: all BokehJS libraries/stylesheets loaded\");\n",
       "        run_callbacks()\n",
       "      }\n",
       "    }\n",
       "\n",
       "    function on_error(url) {\n",
       "      console.error(\"failed to load \" + url);\n",
       "    }\n",
       "\n",
       "    for (let i = 0; i < css_urls.length; i++) {\n",
       "      const url = css_urls[i];\n",
       "      const element = document.createElement(\"link\");\n",
       "      element.onload = on_load;\n",
       "      element.onerror = on_error.bind(null, url);\n",
       "      element.rel = \"stylesheet\";\n",
       "      element.type = \"text/css\";\n",
       "      element.href = url;\n",
       "      console.debug(\"Bokeh: injecting link tag for BokehJS stylesheet: \", url);\n",
       "      document.body.appendChild(element);\n",
       "    }\n",
       "\n",
       "    for (let i = 0; i < js_urls.length; i++) {\n",
       "      const url = js_urls[i];\n",
       "      const element = document.createElement('script');\n",
       "      element.onload = on_load;\n",
       "      element.onerror = on_error.bind(null, url);\n",
       "      element.async = false;\n",
       "      element.src = url;\n",
       "      console.debug(\"Bokeh: injecting script tag for BokehJS library: \", url);\n",
       "      document.head.appendChild(element);\n",
       "    }\n",
       "  };\n",
       "\n",
       "  function inject_raw_css(css) {\n",
       "    const element = document.createElement(\"style\");\n",
       "    element.appendChild(document.createTextNode(css));\n",
       "    document.body.appendChild(element);\n",
       "  }\n",
       "\n",
       "  const js_urls = [\"https://cdn.bokeh.org/bokeh/release/bokeh-3.1.1.min.js\", \"https://cdn.bokeh.org/bokeh/release/bokeh-gl-3.1.1.min.js\", \"https://cdn.bokeh.org/bokeh/release/bokeh-widgets-3.1.1.min.js\", \"https://cdn.bokeh.org/bokeh/release/bokeh-tables-3.1.1.min.js\", \"https://cdn.bokeh.org/bokeh/release/bokeh-mathjax-3.1.1.min.js\"];\n",
       "  const css_urls = [];\n",
       "\n",
       "  const inline_js = [    function(Bokeh) {\n",
       "      Bokeh.set_log_level(\"error\");\n",
       "    },\n",
       "function(Bokeh) {\n",
       "    }\n",
       "  ];\n",
       "\n",
       "  function run_inline_js() {\n",
       "    if (root.Bokeh !== undefined || force === true) {\n",
       "          for (let i = 0; i < inline_js.length; i++) {\n",
       "      inline_js[i].call(root, root.Bokeh);\n",
       "    }\n",
       "if (force === true) {\n",
       "        display_loaded();\n",
       "      }} else if (Date.now() < root._bokeh_timeout) {\n",
       "      setTimeout(run_inline_js, 100);\n",
       "    } else if (!root._bokeh_failed_load) {\n",
       "      console.log(\"Bokeh: BokehJS failed to load within specified timeout.\");\n",
       "      root._bokeh_failed_load = true;\n",
       "    } else if (force !== true) {\n",
       "      const cell = $(document.getElementById(\"fbe31360-b009-4219-821f-4769021df923\")).parents('.cell').data().cell;\n",
       "      cell.output_area.append_execute_result(NB_LOAD_WARNING)\n",
       "    }\n",
       "  }\n",
       "\n",
       "  if (root._bokeh_is_loading === 0) {\n",
       "    console.debug(\"Bokeh: BokehJS loaded, going straight to plotting\");\n",
       "    run_inline_js();\n",
       "  } else {\n",
       "    load_libs(css_urls, js_urls, function() {\n",
       "      console.debug(\"Bokeh: BokehJS plotting callback run at\", now());\n",
       "      run_inline_js();\n",
       "    });\n",
       "  }\n",
       "}(window));"
      ],
      "application/vnd.bokehjs_load.v0+json": "(function(root) {\n  function now() {\n    return new Date();\n  }\n\n  const force = true;\n\n  if (typeof root._bokeh_onload_callbacks === \"undefined\" || force === true) {\n    root._bokeh_onload_callbacks = [];\n    root._bokeh_is_loading = undefined;\n  }\n\n\n  if (typeof (root._bokeh_timeout) === \"undefined\" || force === true) {\n    root._bokeh_timeout = Date.now() + 5000;\n    root._bokeh_failed_load = false;\n  }\n\n  const NB_LOAD_WARNING = {'data': {'text/html':\n     \"<div style='background-color: #fdd'>\\n\"+\n     \"<p>\\n\"+\n     \"BokehJS does not appear to have successfully loaded. If loading BokehJS from CDN, this \\n\"+\n     \"may be due to a slow or bad network connection. Possible fixes:\\n\"+\n     \"</p>\\n\"+\n     \"<ul>\\n\"+\n     \"<li>re-rerun `output_notebook()` to attempt to load from CDN again, or</li>\\n\"+\n     \"<li>use INLINE resources instead, as so:</li>\\n\"+\n     \"</ul>\\n\"+\n     \"<code>\\n\"+\n     \"from bokeh.resources import INLINE\\n\"+\n     \"output_notebook(resources=INLINE)\\n\"+\n     \"</code>\\n\"+\n     \"</div>\"}};\n\n  function display_loaded() {\n    const el = document.getElementById(\"fbe31360-b009-4219-821f-4769021df923\");\n    if (el != null) {\n      el.textContent = \"BokehJS is loading...\";\n    }\n    if (root.Bokeh !== undefined) {\n      if (el != null) {\n        el.textContent = \"BokehJS \" + root.Bokeh.version + \" successfully loaded.\";\n      }\n    } else if (Date.now() < root._bokeh_timeout) {\n      setTimeout(display_loaded, 100)\n    }\n  }\n\n  function run_callbacks() {\n    try {\n      root._bokeh_onload_callbacks.forEach(function(callback) {\n        if (callback != null)\n          callback();\n      });\n    } finally {\n      delete root._bokeh_onload_callbacks\n    }\n    console.debug(\"Bokeh: all callbacks have finished\");\n  }\n\n  function load_libs(css_urls, js_urls, callback) {\n    if (css_urls == null) css_urls = [];\n    if (js_urls == null) js_urls = [];\n\n    root._bokeh_onload_callbacks.push(callback);\n    if (root._bokeh_is_loading > 0) {\n      console.debug(\"Bokeh: BokehJS is being loaded, scheduling callback at\", now());\n      return null;\n    }\n    if (js_urls == null || js_urls.length === 0) {\n      run_callbacks();\n      return null;\n    }\n    console.debug(\"Bokeh: BokehJS not loaded, scheduling load and callback at\", now());\n    root._bokeh_is_loading = css_urls.length + js_urls.length;\n\n    function on_load() {\n      root._bokeh_is_loading--;\n      if (root._bokeh_is_loading === 0) {\n        console.debug(\"Bokeh: all BokehJS libraries/stylesheets loaded\");\n        run_callbacks()\n      }\n    }\n\n    function on_error(url) {\n      console.error(\"failed to load \" + url);\n    }\n\n    for (let i = 0; i < css_urls.length; i++) {\n      const url = css_urls[i];\n      const element = document.createElement(\"link\");\n      element.onload = on_load;\n      element.onerror = on_error.bind(null, url);\n      element.rel = \"stylesheet\";\n      element.type = \"text/css\";\n      element.href = url;\n      console.debug(\"Bokeh: injecting link tag for BokehJS stylesheet: \", url);\n      document.body.appendChild(element);\n    }\n\n    for (let i = 0; i < js_urls.length; i++) {\n      const url = js_urls[i];\n      const element = document.createElement('script');\n      element.onload = on_load;\n      element.onerror = on_error.bind(null, url);\n      element.async = false;\n      element.src = url;\n      console.debug(\"Bokeh: injecting script tag for BokehJS library: \", url);\n      document.head.appendChild(element);\n    }\n  };\n\n  function inject_raw_css(css) {\n    const element = document.createElement(\"style\");\n    element.appendChild(document.createTextNode(css));\n    document.body.appendChild(element);\n  }\n\n  const js_urls = [\"https://cdn.bokeh.org/bokeh/release/bokeh-3.1.1.min.js\", \"https://cdn.bokeh.org/bokeh/release/bokeh-gl-3.1.1.min.js\", \"https://cdn.bokeh.org/bokeh/release/bokeh-widgets-3.1.1.min.js\", \"https://cdn.bokeh.org/bokeh/release/bokeh-tables-3.1.1.min.js\", \"https://cdn.bokeh.org/bokeh/release/bokeh-mathjax-3.1.1.min.js\"];\n  const css_urls = [];\n\n  const inline_js = [    function(Bokeh) {\n      Bokeh.set_log_level(\"error\");\n    },\nfunction(Bokeh) {\n    }\n  ];\n\n  function run_inline_js() {\n    if (root.Bokeh !== undefined || force === true) {\n          for (let i = 0; i < inline_js.length; i++) {\n      inline_js[i].call(root, root.Bokeh);\n    }\nif (force === true) {\n        display_loaded();\n      }} else if (Date.now() < root._bokeh_timeout) {\n      setTimeout(run_inline_js, 100);\n    } else if (!root._bokeh_failed_load) {\n      console.log(\"Bokeh: BokehJS failed to load within specified timeout.\");\n      root._bokeh_failed_load = true;\n    } else if (force !== true) {\n      const cell = $(document.getElementById(\"fbe31360-b009-4219-821f-4769021df923\")).parents('.cell').data().cell;\n      cell.output_area.append_execute_result(NB_LOAD_WARNING)\n    }\n  }\n\n  if (root._bokeh_is_loading === 0) {\n    console.debug(\"Bokeh: BokehJS loaded, going straight to plotting\");\n    run_inline_js();\n  } else {\n    load_libs(css_urls, js_urls, function() {\n      console.debug(\"Bokeh: BokehJS plotting callback run at\", now());\n      run_inline_js();\n    });\n  }\n}(window));"
     },
     "metadata": {},
     "output_type": "display_data"
    },
    {
     "data": {
      "application/javascript": [
       "console.log(\"[203606][INFO][openvisuspy.utils:314:ShowBokehApp] ShowBokehApp VISUS_USE_PUBLIC_IP=False VISUS_SSH_TUNNELS=\");\n"
      ],
      "text/plain": [
       "<IPython.core.display.Javascript object>"
      ]
     },
     "metadata": {},
     "output_type": "display_data"
    },
    {
     "data": {
      "application/vnd.bokehjs_exec.v0+json": "",
      "text/html": [
       "<script id=\"p1001\">\n",
       "  (function() {\n",
       "    const xhr = new XMLHttpRequest()\n",
       "    xhr.responseType = 'blob';\n",
       "    xhr.open('GET', \"http://localhost:55782/autoload.js?bokeh-autoload-element=p1001&bokeh-absolute-url=http://localhost:55782&resources=none\", true);\n",
       "    xhr.onload = function (event) {\n",
       "      const script = document.createElement('script');\n",
       "      const src = URL.createObjectURL(event.target.response);\n",
       "      script.src = src;\n",
       "      document.body.appendChild(script);\n",
       "    };\n",
       "    xhr.send();\n",
       "  })();\n",
       "</script>"
      ]
     },
     "metadata": {
      "application/vnd.bokehjs_exec.v0+json": {
       "server_id": "69bd498cd0c943bb8f1185e5b338bfaa"
      }
     },
     "output_type": "display_data"
    }
   ],
   "source": [
    "import os,sys,logging,time\n",
    "\n",
    "# import bokehds\n",
    "os.environ[\"BOKEH_ALLOW_WS_ORIGIN\"]=\"*\" # for debugging \n",
    "os.environ[\"BOKEH_LOG_LEVEL\"]=\"error\"   # for debugging \n",
    "\n",
    "os.environ[\"VISUS_USE_PUBLIC_IP\"]=str(False)\n",
    "os.environ[\"VISUS_SSL_TUNNELS\"]=\"\"\n",
    "\n",
    "\n",
    "sys.path.append(\"c:/projects/openvisus/build/RelWithDebInfo\")\n",
    "sys.path.append(\"c:/projects/openvisuspy/src\")\n",
    "\n",
    "import openvisuspy\n",
    "from openvisuspy import ShowBokehApp, TestBokehApp, Slice, Slices, GetBackend, SetupLogger\n",
    "\n",
    "logger=SetupLogger()\n",
    "logger.info(f\"GetBackend={GetBackend()}\")\n",
    "\n",
    "import bokeh.io\n",
    "bokeh.io.output_notebook()\n",
    "ShowBokehApp(TestBokehApp)\n",
    "\n",
    "from bokeh.models import Column"
   ]
  },
  {
   "cell_type": "code",
   "execution_count": 2,
   "metadata": {},
   "outputs": [
    {
     "data": {
      "application/javascript": [
       "console.log(\"[203610][INFO][openvisuspy.utils:314:ShowBokehApp] ShowBokehApp VISUS_USE_PUBLIC_IP=False VISUS_SSH_TUNNELS=\");\n"
      ],
      "text/plain": [
       "<IPython.core.display.Javascript object>"
      ]
     },
     "metadata": {},
     "output_type": "display_data"
    },
    {
     "data": {
      "application/vnd.bokehjs_exec.v0+json": "",
      "text/html": [
       "<script id=\"p1009\">\n",
       "  (function() {\n",
       "    const xhr = new XMLHttpRequest()\n",
       "    xhr.responseType = 'blob';\n",
       "    xhr.open('GET', \"http://localhost:55794/autoload.js?bokeh-autoload-element=p1009&bokeh-absolute-url=http://localhost:55794&resources=none\", true);\n",
       "    xhr.onload = function (event) {\n",
       "      const script = document.createElement('script');\n",
       "      const src = URL.createObjectURL(event.target.response);\n",
       "      script.src = src;\n",
       "      document.body.appendChild(script);\n",
       "    };\n",
       "    xhr.send();\n",
       "  })();\n",
       "</script>"
      ]
     },
     "metadata": {
      "application/vnd.bokehjs_exec.v0+json": {
       "server_id": "a9c3e85b7c824bde894de78241c6b3da"
      }
     },
     "output_type": "display_data"
    },
    {
     "data": {
      "application/javascript": [
       "console.log(\"[203610][INFO][openvisuspy.widgets:274:setConfig] [Slice/0]::setConfig\");\n"
      ],
      "text/plain": [
       "<IPython.core.display.Javascript object>"
      ]
     },
     "metadata": {},
     "output_type": "display_data"
    },
    {
     "data": {
      "application/javascript": [
       "console.log(\"[203610][INFO][openvisuspy.widgets:350:setDataset] [Slice/0]::setDataset name=http://atlantis.sci.utah.edu/mod_visus?dataset=bellows_CT_NASA_JHochhalter&cached=idx\");\n"
      ],
      "text/plain": [
       "<IPython.core.display.Javascript object>"
      ]
     },
     "metadata": {},
     "output_type": "display_data"
    },
    {
     "data": {
      "application/javascript": [
       "console.log(\"[203610][INFO][openvisuspy.widgets:508:setTimesteps] [Slice/0]::setTimesteps start=0 end=0\");\n"
      ],
      "text/plain": [
       "<IPython.core.display.Javascript object>"
      ]
     },
     "metadata": {},
     "output_type": "display_data"
    },
    {
     "data": {
      "application/javascript": [
       "console.log(\"[203610][INFO][openvisuspy.widgets:527:setTimestepDelta] [Slice/0]::setTimestepDelta value=1\");\n"
      ],
      "text/plain": [
       "<IPython.core.display.Javascript object>"
      ]
     },
     "metadata": {},
     "output_type": "display_data"
    },
    {
     "data": {
      "application/javascript": [
       "console.log(\"[203610][INFO][openvisuspy.widgets:548:setTimestep] [Slice/0]::setTimestep value=0 A\");\n"
      ],
      "text/plain": [
       "<IPython.core.display.Javascript object>"
      ]
     },
     "metadata": {},
     "output_type": "display_data"
    },
    {
     "data": {
      "application/javascript": [
       "console.log(\"[203610][INFO][openvisuspy.widgets:550:setTimestep] [Slice/0]::setTimestep value=0 B\");\n"
      ],
      "text/plain": [
       "<IPython.core.display.Javascript object>"
      ]
     },
     "metadata": {},
     "output_type": "display_data"
    },
    {
     "data": {
      "application/javascript": [
       "console.log(\"[203610][INFO][openvisuspy.widgets:548:setTimestep] [Slice/0]::setTimestep value=0 A\");\n"
      ],
      "text/plain": [
       "<IPython.core.display.Javascript object>"
      ]
     },
     "metadata": {},
     "output_type": "display_data"
    },
    {
     "data": {
      "application/javascript": [
       "console.log(\"[203610][INFO][openvisuspy.widgets:550:setTimestep] [Slice/0]::setTimestep value=0 B\");\n"
      ],
      "text/plain": [
       "<IPython.core.display.Javascript object>"
      ]
     },
     "metadata": {},
     "output_type": "display_data"
    },
    {
     "data": {
      "application/javascript": [
       "console.log(\"[203610][INFO][openvisuspy.widgets:718:setDirections] [Slice/0]::setDirections value=[('0', 'X'), ('1', 'Y'), ('2', 'Z')]\");\n"
      ],
      "text/plain": [
       "<IPython.core.display.Javascript object>"
      ]
     },
     "metadata": {},
     "output_type": "display_data"
    },
    {
     "data": {
      "application/javascript": [
       "console.log(\"[203610][INFO][openvisuspy.widgets:289:setLogicToPhysic] [Slice/0]::setLogicToPhysic value=[(0.0, 1.0), (0.0, 1.0), (0.0, 1.0)]\");\n"
      ],
      "text/plain": [
       "<IPython.core.display.Javascript object>"
      ]
     },
     "metadata": {},
     "output_type": "display_data"
    },
    {
     "data": {
      "application/javascript": [
       "console.log(\"[203610][INFO][openvisuspy.widgets:561:setFields] [Slice/0]::setFields value=['data']\");\n"
      ],
      "text/plain": [
       "<IPython.core.display.Javascript object>"
      ]
     },
     "metadata": {},
     "output_type": "display_data"
    },
    {
     "data": {
      "application/javascript": [
       "console.log(\"[203610][INFO][openvisuspy.widgets:570:setField] [Slice/0]::setField value=data\");\n"
      ],
      "text/plain": [
       "<IPython.core.display.Javascript object>"
      ]
     },
     "metadata": {},
     "output_type": "display_data"
    },
    {
     "data": {
      "application/javascript": [
       "console.log(\"[203610][INFO][openvisuspy.widgets:729:setDirection] [Slice/0]::setDirection value=2\");\n"
      ],
      "text/plain": [
       "<IPython.core.display.Javascript object>"
      ]
     },
     "metadata": {},
     "output_type": "display_data"
    },
    {
     "data": {
      "application/javascript": [
       "console.log(\"[203610][INFO][openvisuspy.widgets:773:setOffsetStartEndStep] [Slice/0]::setOffsetStartEndStep value=[0, 977, 1]\");\n"
      ],
      "text/plain": [
       "<IPython.core.display.Javascript object>"
      ]
     },
     "metadata": {},
     "output_type": "display_data"
    },
    {
     "data": {
      "application/javascript": [
       "console.log(\"[203610][INFO][openvisuspy.widgets:784:setOffset] [Slice/0]::setOffset new-value=489 old-value=0 A\");\n"
      ],
      "text/plain": [
       "<IPython.core.display.Javascript object>"
      ]
     },
     "metadata": {},
     "output_type": "display_data"
    },
    {
     "data": {
      "application/javascript": [
       "console.log(\"[203610][INFO][openvisuspy.widgets:784:setOffset] [Slice/0]::setOffset new-value=489 old-value=489 A\");\n"
      ],
      "text/plain": [
       "<IPython.core.display.Javascript object>"
      ]
     },
     "metadata": {},
     "output_type": "display_data"
    },
    {
     "data": {
      "application/javascript": [
       "console.log(\"[203610][INFO][openvisuspy.widgets:788:setOffset] [Slice/0]::setOffset value=489 B\");\n"
      ],
      "text/plain": [
       "<IPython.core.display.Javascript object>"
      ]
     },
     "metadata": {},
     "output_type": "display_data"
    },
    {
     "data": {
      "application/javascript": [
       "console.log(\"[203610][INFO][openvisuspy.widgets:788:setOffset] [Slice/0]::setOffset value=489 B\");\n"
      ],
      "text/plain": [
       "<IPython.core.display.Javascript object>"
      ]
     },
     "metadata": {},
     "output_type": "display_data"
    },
    {
     "data": {
      "application/javascript": [
       "console.log(\"[203610][INFO][openvisuspy.slice:136:setQueryLogicBox] [Slice/0]::setQueryLogicBox value=([0, 0, 0], [1003, 1003, 978])\");\n"
      ],
      "text/plain": [
       "<IPython.core.display.Javascript object>"
      ]
     },
     "metadata": {},
     "output_type": "display_data"
    },
    {
     "data": {
      "application/javascript": [
       "console.log(\"[203610][INFO][openvisuspy.canvas:129:setViewport] setViewport 0.0 0.0 1003.0 1003.0 W=0 H=0\");\n"
      ],
      "text/plain": [
       "<IPython.core.display.Javascript object>"
      ]
     },
     "metadata": {},
     "output_type": "display_data"
    },
    {
     "data": {
      "application/javascript": [
       "console.log(\"[203610][INFO][openvisuspy.widgets:583:setPalette] [Slice/0]::setPalette value=Viridis256\");\n"
      ],
      "text/plain": [
       "<IPython.core.display.Javascript object>"
      ]
     },
     "metadata": {},
     "output_type": "display_data"
    },
    {
     "data": {
      "application/javascript": [
       "console.log(\"[203610][INFO][openvisuspy.widgets:608:setPaletteRangeMode] [Slice/0]::setPaletteRangeMode mode=dynamic \");\n"
      ],
      "text/plain": [
       "<IPython.core.display.Javascript object>"
      ]
     },
     "metadata": {},
     "output_type": "display_data"
    },
    {
     "data": {
      "application/javascript": [
       "console.log(\"[203610][INFO][openvisuspy.widgets:608:setPaletteRangeMode] [Slice/0]::setPaletteRangeMode mode=dynamic \");\n"
      ],
      "text/plain": [
       "<IPython.core.display.Javascript object>"
      ]
     },
     "metadata": {},
     "output_type": "display_data"
    },
    {
     "data": {
      "application/javascript": [
       "console.log(\"[203610][INFO][openvisuspy.widgets:657:setColorMapperType] [Slice/0]::setColorMapperType value=linear\");\n"
      ],
      "text/plain": [
       "<IPython.core.display.Javascript object>"
      ]
     },
     "metadata": {},
     "output_type": "display_data"
    },
    {
     "data": {
      "application/javascript": [
       "console.log(\"[203610][INFO][openvisuspy.widgets:657:setColorMapperType] [Slice/0]::setColorMapperType value=linear\");\n"
      ],
      "text/plain": [
       "<IPython.core.display.Javascript object>"
      ]
     },
     "metadata": {},
     "output_type": "display_data"
    },
    {
     "data": {
      "application/javascript": [
       "console.log(\"[203610][INFO][openvisuspy.widgets:706:setViewDependent] [Slice/0]::setViewDependent value=True\");\n"
      ],
      "text/plain": [
       "<IPython.core.display.Javascript object>"
      ]
     },
     "metadata": {},
     "output_type": "display_data"
    },
    {
     "data": {
      "application/javascript": [
       "console.log(\"[203610][INFO][openvisuspy.widgets:706:setViewDependent] [Slice/0]::setViewDependent value=1\");\n"
      ],
      "text/plain": [
       "<IPython.core.display.Javascript object>"
      ]
     },
     "metadata": {},
     "output_type": "display_data"
    },
    {
     "data": {
      "application/javascript": [
       "console.log(\"[203610][INFO][openvisuspy.widgets:694:setQuality] [Slice/0]::setQuality value=0\");\n"
      ],
      "text/plain": [
       "<IPython.core.display.Javascript object>"
      ]
     },
     "metadata": {},
     "output_type": "display_data"
    },
    {
     "data": {
      "application/javascript": [
       "console.log(\"[203610][INFO][openvisuspy.widgets:682:setNumberOfRefinements] [Slice/0]::setNumberOfRefinements value=2\");\n"
      ],
      "text/plain": [
       "<IPython.core.display.Javascript object>"
      ]
     },
     "metadata": {},
     "output_type": "display_data"
    },
    {
     "data": {
      "application/javascript": [
       "console.log(\"[203610][INFO][openvisuspy.widgets:682:setNumberOfRefinements] [Slice/0]::setNumberOfRefinements value=2\");\n"
      ],
      "text/plain": [
       "<IPython.core.display.Javascript object>"
      ]
     },
     "metadata": {},
     "output_type": "display_data"
    },
    {
     "data": {
      "application/javascript": [
       "console.log(\"[203610][INFO][openvisuspy.widgets:729:setDirection] [Slice/0]::setDirection value=2\");\n"
      ],
      "text/plain": [
       "<IPython.core.display.Javascript object>"
      ]
     },
     "metadata": {},
     "output_type": "display_data"
    },
    {
     "data": {
      "application/javascript": [
       "console.log(\"[203610][INFO][openvisuspy.widgets:773:setOffsetStartEndStep] [Slice/0]::setOffsetStartEndStep value=[0, 977, 1]\");\n"
      ],
      "text/plain": [
       "<IPython.core.display.Javascript object>"
      ]
     },
     "metadata": {},
     "output_type": "display_data"
    },
    {
     "data": {
      "application/javascript": [
       "console.log(\"[203610][INFO][openvisuspy.widgets:784:setOffset] [Slice/0]::setOffset new-value=489 old-value=489 A\");\n"
      ],
      "text/plain": [
       "<IPython.core.display.Javascript object>"
      ]
     },
     "metadata": {},
     "output_type": "display_data"
    },
    {
     "data": {
      "application/javascript": [
       "console.log(\"[203610][INFO][openvisuspy.widgets:788:setOffset] [Slice/0]::setOffset value=489 B\");\n"
      ],
      "text/plain": [
       "<IPython.core.display.Javascript object>"
      ]
     },
     "metadata": {},
     "output_type": "display_data"
    },
    {
     "data": {
      "application/javascript": [
       "console.log(\"[203610][INFO][openvisuspy.slice:136:setQueryLogicBox] [Slice/0]::setQueryLogicBox value=([0, 0, 0], [1003, 1003, 978])\");\n"
      ],
      "text/plain": [
       "<IPython.core.display.Javascript object>"
      ]
     },
     "metadata": {},
     "output_type": "display_data"
    },
    {
     "data": {
      "application/javascript": [
       "console.log(\"[203610][INFO][openvisuspy.canvas:129:setViewport] setViewport 0.0 0.0 1003.0 1003.0 W=0 H=0\");\n"
      ],
      "text/plain": [
       "<IPython.core.display.Javascript object>"
      ]
     },
     "metadata": {},
     "output_type": "display_data"
    },
    {
     "data": {
      "application/javascript": [
       "console.log(\"[203610][INFO][openvisuspy.widgets:583:setPalette] [Slice/0]::setPalette value=Greys256\");\n"
      ],
      "text/plain": [
       "<IPython.core.display.Javascript object>"
      ]
     },
     "metadata": {},
     "output_type": "display_data"
    },
    {
     "data": {
      "application/javascript": [
       "console.log(\"[203610][INFO][openvisuspy.widgets:583:setPalette] [Slice/0]::setPalette value=Greys256\");\n"
      ],
      "text/plain": [
       "<IPython.core.display.Javascript object>"
      ]
     },
     "metadata": {},
     "output_type": "display_data"
    },
    {
     "data": {
      "application/javascript": [
       "console.log(\"[203610][INFO][openvisuspy.widgets:548:setTimestep] [Slice/0]::setTimestep value=0 A\");\n"
      ],
      "text/plain": [
       "<IPython.core.display.Javascript object>"
      ]
     },
     "metadata": {},
     "output_type": "display_data"
    },
    {
     "data": {
      "application/javascript": [
       "console.log(\"[203610][INFO][openvisuspy.widgets:550:setTimestep] [Slice/0]::setTimestep value=0 B\");\n"
      ],
      "text/plain": [
       "<IPython.core.display.Javascript object>"
      ]
     },
     "metadata": {},
     "output_type": "display_data"
    },
    {
     "data": {
      "application/javascript": [
       "console.log(\"[203610][INFO][openvisuspy.widgets:570:setField] [Slice/0]::setField value=data\");\n"
      ],
      "text/plain": [
       "<IPython.core.display.Javascript object>"
      ]
     },
     "metadata": {},
     "output_type": "display_data"
    },
    {
     "data": {
      "application/javascript": [
       "console.log(\"[203610][INFO][openvisuspy.backend_cpp:138:_threadLoop] entering _threadLoop ...\");\n"
      ],
      "text/plain": [
       "<IPython.core.display.Javascript object>"
      ]
     },
     "metadata": {},
     "output_type": "display_data"
    },
    {
     "data": {
      "application/javascript": [
       "console.log(\"[203611][INFO][openvisuspy.backend_cpp:144:_threadLoop] _threadLoop is Alive\");\n"
      ],
      "text/plain": [
       "<IPython.core.display.Javascript object>"
      ]
     },
     "metadata": {},
     "output_type": "display_data"
    },
    {
     "data": {
      "application/javascript": [
       "console.log(\"[203611][INFO][openvisuspy.widgets:729:setDirection] [Slice/0]::setDirection value=2\");\n"
      ],
      "text/plain": [
       "<IPython.core.display.Javascript object>"
      ]
     },
     "metadata": {},
     "output_type": "display_data"
    },
    {
     "data": {
      "application/javascript": [
       "console.log(\"[203611][INFO][openvisuspy.widgets:773:setOffsetStartEndStep] [Slice/0]::setOffsetStartEndStep value=[0, 977, 1]\");\n"
      ],
      "text/plain": [
       "<IPython.core.display.Javascript object>"
      ]
     },
     "metadata": {},
     "output_type": "display_data"
    },
    {
     "data": {
      "application/javascript": [
       "console.log(\"[203611][INFO][openvisuspy.widgets:784:setOffset] [Slice/0]::setOffset new-value=489 old-value=489 A\");\n"
      ],
      "text/plain": [
       "<IPython.core.display.Javascript object>"
      ]
     },
     "metadata": {},
     "output_type": "display_data"
    },
    {
     "data": {
      "application/javascript": [
       "console.log(\"[203611][INFO][openvisuspy.widgets:788:setOffset] [Slice/0]::setOffset value=489 B\");\n"
      ],
      "text/plain": [
       "<IPython.core.display.Javascript object>"
      ]
     },
     "metadata": {},
     "output_type": "display_data"
    },
    {
     "data": {
      "application/javascript": [
       "console.log(\"[203611][INFO][openvisuspy.slice:136:setQueryLogicBox] [Slice/0]::setQueryLogicBox value=([0, 0, 0], [1003, 1003, 978])\");\n"
      ],
      "text/plain": [
       "<IPython.core.display.Javascript object>"
      ]
     },
     "metadata": {},
     "output_type": "display_data"
    },
    {
     "data": {
      "application/javascript": [
       "console.log(\"[203611][INFO][openvisuspy.canvas:129:setViewport] setViewport -170.15178571428567 0.0 1173.1517857142858 1003.0 W=900 H=672\");\n"
      ],
      "text/plain": [
       "<IPython.core.display.Javascript object>"
      ]
     },
     "metadata": {},
     "output_type": "display_data"
    },
    {
     "data": {
      "application/javascript": [
       "console.log(\"[203611][INFO][openvisuspy.widgets:784:setOffset] [Slice/0]::setOffset new-value=489 old-value=489 A\");\n"
      ],
      "text/plain": [
       "<IPython.core.display.Javascript object>"
      ]
     },
     "metadata": {},
     "output_type": "display_data"
    },
    {
     "data": {
      "application/javascript": [
       "console.log(\"[203611][INFO][openvisuspy.widgets:788:setOffset] [Slice/0]::setOffset value=489 B\");\n"
      ],
      "text/plain": [
       "<IPython.core.display.Javascript object>"
      ]
     },
     "metadata": {},
     "output_type": "display_data"
    },
    {
     "data": {
      "application/javascript": [
       "console.log(\"[203611][INFO][openvisuspy.slice:243:pushJobIfNeeded] [Slice/0] pushing new job query_logic_box=[[-170.15178571428567, 0.0, 489], [1173.1517857142858, 1003.0, 490]]...\");\n"
      ],
      "text/plain": [
       "<IPython.core.display.Javascript object>"
      ]
     },
     "metadata": {},
     "output_type": "display_data"
    },
    {
     "data": {
      "application/javascript": [
       "console.log(\"[203611][INFO][openvisuspy.slice:286:pushJobIfNeeded] [Slice/0] pushed new job query_logic_box=[[-170.15178571428567, 0.0, 489], [1173.1517857142858, 1003.0, 490]]\");\n"
      ],
      "text/plain": [
       "<IPython.core.display.Javascript object>"
      ]
     },
     "metadata": {},
     "output_type": "display_data"
    },
    {
     "data": {
      "application/javascript": [
       "console.log(\"[203611][INFO][openvisuspy.backend_cpp:76:createBoxQuery] begin timestep=0 field=data logic_box=[[-170.15178571428567, 0.0, 489], [1173.1517857142858, 1003.0, 490]] num_refinements=2 max_pixels=604800 endh=30\");\n"
      ],
      "text/plain": [
       "<IPython.core.display.Javascript object>"
      ]
     },
     "metadata": {},
     "output_type": "display_data"
    },
    {
     "data": {
      "application/javascript": [
       "console.log(\"[203611][INFO][openvisuspy.backend_cpp:112:createBoxQuery] Guess resolution endh=28 original_box=([0, 0, 489], [1003, 1003, 490]) aligned_box=([0, 0, 488], [1003, 1002, 489]) delta=[1, 2, 2] num_pixels=[1003, 501, 1] tot_pixels=502,503 max_pixels=604,800 end=28\");\n"
      ],
      "text/plain": [
       "<IPython.core.display.Javascript object>"
      ]
     },
     "metadata": {},
     "output_type": "display_data"
    },
    {
     "data": {
      "application/javascript": [
       "console.log(\"[203611][INFO][openvisuspy.backend_cpp:140:beginBoxQuery] beginBoxQuery timestep=0 field=data logic_box=[[0, 0, 488], [1003, 1002, 489]] end_resolutions=[25, 28]\");\n"
      ],
      "text/plain": [
       "<IPython.core.display.Javascript object>"
      ]
     },
     "metadata": {},
     "output_type": "display_data"
    },
    {
     "data": {
      "application/javascript": [
       "console.log(\"[203611][INFO][openvisuspy.backend_cpp:170:returnBoxQueryData] got data 0/[25, 28] timestep=0 field=data H=25 data.shape=(251, 502) data.dtype=uint16 logic_box=[[0, 0, 488], [1003, 1002, 489]] m=0 M=59313 ms=75\");\n"
      ],
      "text/plain": [
       "<IPython.core.display.Javascript object>"
      ]
     },
     "metadata": {},
     "output_type": "display_data"
    },
    {
     "data": {
      "application/javascript": [
       "console.log(\"[203611][INFO][openvisuspy.slice:218:renderResultIfNeeded] [Slice/0]::rendering result data.shape=(251, 502) data.dtype=uint16 logic_box=[[0, 0, 488], [1003, 1002, 489]] data-range=(0, 59313) palette-range=[0.0, 59313.0]\");\n"
      ],
      "text/plain": [
       "<IPython.core.display.Javascript object>"
      ]
     },
     "metadata": {},
     "output_type": "display_data"
    },
    {
     "data": {
      "application/javascript": [
       "console.log(\"[203611][INFO][openvisuspy.widgets:729:setDirection] [Slice/0]::setDirection value=2\");\n"
      ],
      "text/plain": [
       "<IPython.core.display.Javascript object>"
      ]
     },
     "metadata": {},
     "output_type": "display_data"
    },
    {
     "data": {
      "application/javascript": [
       "console.log(\"[203611][INFO][openvisuspy.widgets:773:setOffsetStartEndStep] [Slice/0]::setOffsetStartEndStep value=[0, 977, 1]\");\n"
      ],
      "text/plain": [
       "<IPython.core.display.Javascript object>"
      ]
     },
     "metadata": {},
     "output_type": "display_data"
    },
    {
     "data": {
      "application/javascript": [
       "console.log(\"[203611][INFO][openvisuspy.widgets:784:setOffset] [Slice/0]::setOffset new-value=489 old-value=489 A\");\n"
      ],
      "text/plain": [
       "<IPython.core.display.Javascript object>"
      ]
     },
     "metadata": {},
     "output_type": "display_data"
    },
    {
     "data": {
      "application/javascript": [
       "console.log(\"[203611][INFO][openvisuspy.widgets:788:setOffset] [Slice/0]::setOffset value=489 B\");\n"
      ],
      "text/plain": [
       "<IPython.core.display.Javascript object>"
      ]
     },
     "metadata": {},
     "output_type": "display_data"
    },
    {
     "data": {
      "application/javascript": [
       "console.log(\"[203611][INFO][openvisuspy.slice:136:setQueryLogicBox] [Slice/0]::setQueryLogicBox value=([0, 0, 0], [1003, 1003, 978])\");\n"
      ],
      "text/plain": [
       "<IPython.core.display.Javascript object>"
      ]
     },
     "metadata": {},
     "output_type": "display_data"
    },
    {
     "data": {
      "application/javascript": [
       "console.log(\"[203611][INFO][openvisuspy.backend_cpp:76:printStatistics] Stats::printStatistics enlapsed=0.26700544357299805 seconds\");\n"
      ],
      "text/plain": [
       "<IPython.core.display.Javascript object>"
      ]
     },
     "metadata": {},
     "output_type": "display_data"
    },
    {
     "data": {
      "application/javascript": [
       "console.log(\"[203611][INFO][openvisuspy.canvas:129:setViewport] setViewport -146.0454545454545 0.0 1149.0454545454545 1003.0 W=838 H=649\");\n"
      ],
      "text/plain": [
       "<IPython.core.display.Javascript object>"
      ]
     },
     "metadata": {},
     "output_type": "display_data"
    },
    {
     "data": {
      "application/javascript": [
       "console.log(\"[203611][INFO][openvisuspy.widgets:784:setOffset] [Slice/0]::setOffset new-value=489 old-value=489 A\");\n"
      ],
      "text/plain": [
       "<IPython.core.display.Javascript object>"
      ]
     },
     "metadata": {},
     "output_type": "display_data"
    },
    {
     "data": {
      "application/javascript": [
       "console.log(\"[203611][INFO][openvisuspy.widgets:788:setOffset] [Slice/0]::setOffset value=489 B\");\n"
      ],
      "text/plain": [
       "<IPython.core.display.Javascript object>"
      ]
     },
     "metadata": {},
     "output_type": "display_data"
    },
    {
     "data": {
      "application/javascript": [
       "console.log(\"[203611][INFO][openvisuspy.slice:243:pushJobIfNeeded] [Slice/0] pushing new job query_logic_box=[[-146.0454545454545, 0.0, 489], [1149.0454545454545, 1003.0, 490]]...\");\n"
      ],
      "text/plain": [
       "<IPython.core.display.Javascript object>"
      ]
     },
     "metadata": {},
     "output_type": "display_data"
    },
    {
     "data": {
      "application/javascript": [
       "console.log(\"[203611][INFO][openvisuspy.slice:286:pushJobIfNeeded] [Slice/0] pushed new job query_logic_box=[[-146.0454545454545, 0.0, 489], [1149.0454545454545, 1003.0, 490]]\");\n"
      ],
      "text/plain": [
       "<IPython.core.display.Javascript object>"
      ]
     },
     "metadata": {},
     "output_type": "display_data"
    },
    {
     "data": {
      "application/javascript": [
       "console.log(\"[203611][INFO][openvisuspy.backend_cpp:76:createBoxQuery] begin timestep=0 field=data logic_box=[[-146.0454545454545, 0.0, 489], [1149.0454545454545, 1003.0, 490]] num_refinements=2 max_pixels=543862 endh=30\");\n"
      ],
      "text/plain": [
       "<IPython.core.display.Javascript object>"
      ]
     },
     "metadata": {},
     "output_type": "display_data"
    },
    {
     "data": {
      "application/javascript": [
       "console.log(\"[203611][INFO][openvisuspy.backend_cpp:112:createBoxQuery] Guess resolution endh=28 original_box=([0, 0, 489], [1003, 1003, 490]) aligned_box=([0, 0, 488], [1003, 1002, 489]) delta=[1, 2, 2] num_pixels=[1003, 501, 1] tot_pixels=502,503 max_pixels=543,862 end=28\");\n"
      ],
      "text/plain": [
       "<IPython.core.display.Javascript object>"
      ]
     },
     "metadata": {},
     "output_type": "display_data"
    },
    {
     "data": {
      "application/javascript": [
       "console.log(\"[203611][INFO][openvisuspy.backend_cpp:140:beginBoxQuery] beginBoxQuery timestep=0 field=data logic_box=[[0, 0, 488], [1003, 1002, 489]] end_resolutions=[25, 28]\");\n"
      ],
      "text/plain": [
       "<IPython.core.display.Javascript object>"
      ]
     },
     "metadata": {},
     "output_type": "display_data"
    },
    {
     "data": {
      "application/javascript": [
       "console.log(\"[203611][INFO][openvisuspy.backend_cpp:170:returnBoxQueryData] got data 0/[25, 28] timestep=0 field=data H=25 data.shape=(251, 502) data.dtype=uint16 logic_box=[[0, 0, 488], [1003, 1002, 489]] m=0 M=59313 ms=80\");\n"
      ],
      "text/plain": [
       "<IPython.core.display.Javascript object>"
      ]
     },
     "metadata": {},
     "output_type": "display_data"
    },
    {
     "data": {
      "application/javascript": [
       "console.log(\"[203611][INFO][openvisuspy.slice:218:renderResultIfNeeded] [Slice/0]::rendering result data.shape=(251, 502) data.dtype=uint16 logic_box=[[0, 0, 488], [1003, 1002, 489]] data-range=(0, 59313) palette-range=[0.0, 59313.0]\");\n"
      ],
      "text/plain": [
       "<IPython.core.display.Javascript object>"
      ]
     },
     "metadata": {},
     "output_type": "display_data"
    },
    {
     "data": {
      "application/javascript": [
       "console.log(\"[203612][INFO][openvisuspy.backend_cpp:170:returnBoxQueryData] got data 1/[25, 28] timestep=0 field=data H=28 data.shape=(501, 1003) data.dtype=uint16 logic_box=[[0, 0, 488], [1003, 1002, 489]] m=0 M=60124 ms=625\");\n"
      ],
      "text/plain": [
       "<IPython.core.display.Javascript object>"
      ]
     },
     "metadata": {},
     "output_type": "display_data"
    },
    {
     "data": {
      "application/javascript": [
       "console.log(\"[203612][INFO][openvisuspy.backend_cpp:76:printStatistics] Stats::printStatistics enlapsed=0.6430027484893799 seconds\");\n"
      ],
      "text/plain": [
       "<IPython.core.display.Javascript object>"
      ]
     },
     "metadata": {},
     "output_type": "display_data"
    },
    {
     "data": {
      "application/javascript": [
       "console.log(\"[203612][INFO][openvisuspy.slice:218:renderResultIfNeeded] [Slice/0]::rendering result data.shape=(501, 1003) data.dtype=uint16 logic_box=[[0, 0, 488], [1003, 1002, 489]] data-range=(0, 60124) palette-range=[0.0, 60124.0]\");\n"
      ],
      "text/plain": [
       "<IPython.core.display.Javascript object>"
      ]
     },
     "metadata": {},
     "output_type": "display_data"
    },
    {
     "data": {
      "application/javascript": [
       "console.log(\"[203612][INFO][openvisuspy.slice:243:pushJobIfNeeded] [Slice/0] pushing new job query_logic_box=[[-50.13337013938206, 0.0, 489], [1029.1090541030421, 1003.0, 490]]...\");\n"
      ],
      "text/plain": [
       "<IPython.core.display.Javascript object>"
      ]
     },
     "metadata": {},
     "output_type": "display_data"
    },
    {
     "data": {
      "application/javascript": [
       "console.log(\"[203612][INFO][openvisuspy.slice:286:pushJobIfNeeded] [Slice/0] pushed new job query_logic_box=[[-50.13337013938206, 0.0, 489], [1029.1090541030421, 1003.0, 490]]\");\n"
      ],
      "text/plain": [
       "<IPython.core.display.Javascript object>"
      ]
     },
     "metadata": {},
     "output_type": "display_data"
    },
    {
     "data": {
      "application/javascript": [
       "console.log(\"[203612][INFO][openvisuspy.backend_cpp:76:createBoxQuery] begin timestep=0 field=data logic_box=[[-50.13337013938206, 0.0, 489], [1029.1090541030421, 1003.0, 490]] num_refinements=2 max_pixels=543862 endh=30\");\n"
      ],
      "text/plain": [
       "<IPython.core.display.Javascript object>"
      ]
     },
     "metadata": {},
     "output_type": "display_data"
    },
    {
     "data": {
      "application/javascript": [
       "console.log(\"[203612][INFO][openvisuspy.backend_cpp:112:createBoxQuery] Guess resolution endh=28 original_box=([0, 0, 489], [1003, 1003, 490]) aligned_box=([0, 0, 488], [1003, 1002, 489]) delta=[1, 2, 2] num_pixels=[1003, 501, 1] tot_pixels=502,503 max_pixels=543,862 end=28\");\n"
      ],
      "text/plain": [
       "<IPython.core.display.Javascript object>"
      ]
     },
     "metadata": {},
     "output_type": "display_data"
    },
    {
     "data": {
      "application/javascript": [
       "console.log(\"[203612][INFO][openvisuspy.backend_cpp:140:beginBoxQuery] beginBoxQuery timestep=0 field=data logic_box=[[0, 0, 488], [1003, 1002, 489]] end_resolutions=[25, 28]\");\n"
      ],
      "text/plain": [
       "<IPython.core.display.Javascript object>"
      ]
     },
     "metadata": {},
     "output_type": "display_data"
    },
    {
     "data": {
      "application/javascript": [
       "console.log(\"[203612][INFO][openvisuspy.slice:243:pushJobIfNeeded] [Slice/0] pushing new job query_logic_box=[[30.5038905649817, 196.14276292588983, 489], [929.8725774336687, 892.6705407036675, 490]]...\");\n"
      ],
      "text/plain": [
       "<IPython.core.display.Javascript object>"
      ]
     },
     "metadata": {},
     "output_type": "display_data"
    },
    {
     "data": {
      "application/javascript": [
       "console.log(\"[203612][INFO][openvisuspy.backend_cpp:76:printStatistics] Stats::printStatistics enlapsed=0.05000185966491699 seconds\");\n"
      ],
      "text/plain": [
       "<IPython.core.display.Javascript object>"
      ]
     },
     "metadata": {},
     "output_type": "display_data"
    },
    {
     "data": {
      "application/javascript": [
       "console.log(\"[203612][INFO][openvisuspy.slice:286:pushJobIfNeeded] [Slice/0] pushed new job query_logic_box=[[30.5038905649817, 196.14276292588983, 489], [929.8725774336687, 892.6705407036675, 490]]\");\n"
      ],
      "text/plain": [
       "<IPython.core.display.Javascript object>"
      ]
     },
     "metadata": {},
     "output_type": "display_data"
    },
    {
     "data": {
      "application/javascript": [
       "console.log(\"[203612][INFO][openvisuspy.backend_cpp:76:createBoxQuery] begin timestep=0 field=data logic_box=[[30.5038905649817, 196.14276292588983, 489], [929.8725774336687, 892.6705407036675, 490]] num_refinements=2 max_pixels=543862 endh=30\");\n"
      ],
      "text/plain": [
       "<IPython.core.display.Javascript object>"
      ]
     },
     "metadata": {},
     "output_type": "display_data"
    },
    {
     "data": {
      "application/javascript": [
       "console.log(\"[203612][INFO][openvisuspy.slice:243:pushJobIfNeeded] [Slice/0] pushing new job query_logic_box=[[97.70160781861817, 196.14276292588983, 489], [847.1755135425241, 892.6705407036675, 490]]...\");\n"
      ],
      "text/plain": [
       "<IPython.core.display.Javascript object>"
      ]
     },
     "metadata": {},
     "output_type": "display_data"
    },
    {
     "data": {
      "application/javascript": [
       "console.log(\"[203612][INFO][openvisuspy.backend_cpp:112:createBoxQuery] Guess resolution endh=28 original_box=([30, 196, 489], [930, 893, 490]) aligned_box=([30, 196, 488], [930, 892, 489]) delta=[1, 2, 2] num_pixels=[900, 348, 1] tot_pixels=313,200 max_pixels=543,862 end=28\");\n"
      ],
      "text/plain": [
       "<IPython.core.display.Javascript object>"
      ]
     },
     "metadata": {},
     "output_type": "display_data"
    },
    {
     "data": {
      "application/javascript": [
       "console.log(\"[203612][INFO][openvisuspy.backend_cpp:140:beginBoxQuery] beginBoxQuery timestep=0 field=data logic_box=[[30, 196, 488], [930, 892, 489]] end_resolutions=[25, 28]\");\n"
      ],
      "text/plain": [
       "<IPython.core.display.Javascript object>"
      ]
     },
     "metadata": {},
     "output_type": "display_data"
    },
    {
     "data": {
      "application/javascript": [
       "console.log(\"[203612][INFO][openvisuspy.slice:286:pushJobIfNeeded] [Slice/0] pushed new job query_logic_box=[[97.70160781861817, 196.14276292588983, 489], [847.1755135425241, 892.6705407036675, 490]]\");\n"
      ],
      "text/plain": [
       "<IPython.core.display.Javascript object>"
      ]
     },
     "metadata": {},
     "output_type": "display_data"
    },
    {
     "data": {
      "application/javascript": [
       "console.log(\"[203612][INFO][openvisuspy.backend_cpp:76:printStatistics] Stats::printStatistics enlapsed=0.019992589950561523 seconds\");\n"
      ],
      "text/plain": [
       "<IPython.core.display.Javascript object>"
      ]
     },
     "metadata": {},
     "output_type": "display_data"
    },
    {
     "data": {
      "application/javascript": [
       "console.log(\"[203612][INFO][openvisuspy.backend_cpp:76:createBoxQuery] begin timestep=0 field=data logic_box=[[97.70160781861817, 196.14276292588983, 489], [847.1755135425241, 892.6705407036675, 490]] num_refinements=2 max_pixels=543862 endh=30\");\n"
      ],
      "text/plain": [
       "<IPython.core.display.Javascript object>"
      ]
     },
     "metadata": {},
     "output_type": "display_data"
    },
    {
     "data": {
      "application/javascript": [
       "console.log(\"[203612][INFO][openvisuspy.backend_cpp:112:createBoxQuery] Guess resolution endh=30 original_box=([97, 196, 489], [848, 893, 490]) aligned_box=([97, 196, 489], [848, 893, 490]) delta=[1, 1, 1] num_pixels=[751, 697, 1] tot_pixels=523,447 max_pixels=543,862 end=30\");\n"
      ],
      "text/plain": [
       "<IPython.core.display.Javascript object>"
      ]
     },
     "metadata": {},
     "output_type": "display_data"
    },
    {
     "data": {
      "application/javascript": [
       "console.log(\"[203612][INFO][openvisuspy.slice:243:pushJobIfNeeded] [Slice/0] pushing new job query_logic_box=[[153.6997055299819, 270.43926403418146, 489], [778.261293633237, 850.8790788489961, 490]]...\");\n"
      ],
      "text/plain": [
       "<IPython.core.display.Javascript object>"
      ]
     },
     "metadata": {},
     "output_type": "display_data"
    },
    {
     "data": {
      "application/javascript": [
       "console.log(\"[203612][INFO][openvisuspy.backend_cpp:140:beginBoxQuery] beginBoxQuery timestep=0 field=data logic_box=[[97, 196, 489], [848, 893, 490]] end_resolutions=[27, 30]\");\n"
      ],
      "text/plain": [
       "<IPython.core.display.Javascript object>"
      ]
     },
     "metadata": {},
     "output_type": "display_data"
    },
    {
     "data": {
      "application/javascript": [
       "console.log(\"[203612][INFO][openvisuspy.slice:286:pushJobIfNeeded] [Slice/0] pushed new job query_logic_box=[[153.6997055299819, 270.43926403418146, 489], [778.261293633237, 850.8790788489961, 490]]\");\n"
      ],
      "text/plain": [
       "<IPython.core.display.Javascript object>"
      ]
     },
     "metadata": {},
     "output_type": "display_data"
    },
    {
     "data": {
      "application/javascript": [
       "console.log(\"[203612][INFO][openvisuspy.backend_cpp:76:printStatistics] Stats::printStatistics enlapsed=0.017992019653320312 seconds\");\n"
      ],
      "text/plain": [
       "<IPython.core.display.Javascript object>"
      ]
     },
     "metadata": {},
     "output_type": "display_data"
    },
    {
     "data": {
      "application/javascript": [
       "console.log(\"[203612][INFO][openvisuspy.backend_cpp:76:createBoxQuery] begin timestep=0 field=data logic_box=[[153.6997055299819, 270.43926403418146, 489], [778.261293633237, 850.8790788489961, 490]] num_refinements=2 max_pixels=543862 endh=30\");\n"
      ],
      "text/plain": [
       "<IPython.core.display.Javascript object>"
      ]
     },
     "metadata": {},
     "output_type": "display_data"
    },
    {
     "data": {
      "application/javascript": [
       "console.log(\"[203612][INFO][openvisuspy.backend_cpp:112:createBoxQuery] Guess resolution endh=30 original_box=([153, 270, 489], [779, 851, 490]) aligned_box=([153, 270, 489], [779, 851, 490]) delta=[1, 1, 1] num_pixels=[626, 581, 1] tot_pixels=363,706 max_pixels=543,862 end=30\");\n"
      ],
      "text/plain": [
       "<IPython.core.display.Javascript object>"
      ]
     },
     "metadata": {},
     "output_type": "display_data"
    },
    {
     "data": {
      "application/javascript": [
       "console.log(\"[203612][INFO][openvisuspy.slice:243:pushJobIfNeeded] [Slice/0] pushing new job query_logic_box=[[200.36478695611837, 383.9478073940714, 489], [720.8327770421643, 787.0310121265813, 490]]...\");\n"
      ],
      "text/plain": [
       "<IPython.core.display.Javascript object>"
      ]
     },
     "metadata": {},
     "output_type": "display_data"
    },
    {
     "data": {
      "application/javascript": [
       "console.log(\"[203612][INFO][openvisuspy.backend_cpp:140:beginBoxQuery] beginBoxQuery timestep=0 field=data logic_box=[[153, 270, 489], [779, 851, 490]] end_resolutions=[27, 30]\");\n"
      ],
      "text/plain": [
       "<IPython.core.display.Javascript object>"
      ]
     },
     "metadata": {},
     "output_type": "display_data"
    },
    {
     "data": {
      "application/javascript": [
       "console.log(\"[203612][INFO][openvisuspy.slice:286:pushJobIfNeeded] [Slice/0] pushed new job query_logic_box=[[200.36478695611837, 383.9478073940714, 489], [720.8327770421643, 787.0310121265813, 490]]\");\n"
      ],
      "text/plain": [
       "<IPython.core.display.Javascript object>"
      ]
     },
     "metadata": {},
     "output_type": "display_data"
    },
    {
     "data": {
      "application/javascript": [
       "console.log(\"[203612][INFO][openvisuspy.backend_cpp:76:printStatistics] Stats::printStatistics enlapsed=0.015999317169189453 seconds\");\n"
      ],
      "text/plain": [
       "<IPython.core.display.Javascript object>"
      ]
     },
     "metadata": {},
     "output_type": "display_data"
    },
    {
     "data": {
      "application/javascript": [
       "console.log(\"[203612][INFO][openvisuspy.backend_cpp:76:createBoxQuery] begin timestep=0 field=data logic_box=[[200.36478695611837, 383.9478073940714, 489], [720.8327770421643, 787.0310121265813, 490]] num_refinements=2 max_pixels=543862 endh=30\");\n"
      ],
      "text/plain": [
       "<IPython.core.display.Javascript object>"
      ]
     },
     "metadata": {},
     "output_type": "display_data"
    },
    {
     "data": {
      "application/javascript": [
       "console.log(\"[203612][INFO][openvisuspy.backend_cpp:112:createBoxQuery] Guess resolution endh=30 original_box=([200, 383, 489], [721, 788, 490]) aligned_box=([200, 383, 489], [721, 788, 490]) delta=[1, 1, 1] num_pixels=[521, 405, 1] tot_pixels=211,005 max_pixels=543,862 end=30\");\n"
      ],
      "text/plain": [
       "<IPython.core.display.Javascript object>"
      ]
     },
     "metadata": {},
     "output_type": "display_data"
    },
    {
     "data": {
      "application/javascript": [
       "console.log(\"[203612][INFO][openvisuspy.backend_cpp:140:beginBoxQuery] beginBoxQuery timestep=0 field=data logic_box=[[200, 383, 489], [721, 788, 490]] end_resolutions=[27, 30]\");\n"
      ],
      "text/plain": [
       "<IPython.core.display.Javascript object>"
      ]
     },
     "metadata": {},
     "output_type": "display_data"
    },
    {
     "data": {
      "application/javascript": [
       "console.log(\"[203612][INFO][openvisuspy.backend_cpp:170:returnBoxQueryData] got data 0/[27, 30] timestep=0 field=data H=30 data.shape=(405, 521) data.dtype=uint16 logic_box=[[200, 383, 489], [721, 788, 490]] m=13725 M=58195 ms=151\");\n"
      ],
      "text/plain": [
       "<IPython.core.display.Javascript object>"
      ]
     },
     "metadata": {},
     "output_type": "display_data"
    },
    {
     "data": {
      "application/javascript": [
       "console.log(\"[203612][INFO][openvisuspy.backend_cpp:76:printStatistics] Stats::printStatistics enlapsed=0.16501426696777344 seconds\");\n"
      ],
      "text/plain": [
       "<IPython.core.display.Javascript object>"
      ]
     },
     "metadata": {},
     "output_type": "display_data"
    },
    {
     "data": {
      "application/javascript": [
       "console.log(\"[203612][INFO][openvisuspy.slice:218:renderResultIfNeeded] [Slice/0]::rendering result data.shape=(405, 521) data.dtype=uint16 logic_box=[[200, 383, 489], [721, 788, 490]] data-range=(13725, 58195) palette-range=[13725.0, 58195.0]\");\n"
      ],
      "text/plain": [
       "<IPython.core.display.Javascript object>"
      ]
     },
     "metadata": {},
     "output_type": "display_data"
    },
    {
     "data": {
      "application/javascript": [
       "console.log(\"[203613][INFO][openvisuspy.slice:243:pushJobIfNeeded] [Slice/0] pushing new job query_logic_box=[[304.3390426740657, 498.77542489709845, 489], [593.4879260552024, 722.7105386373819, 490]]...\");\n"
      ],
      "text/plain": [
       "<IPython.core.display.Javascript object>"
      ]
     },
     "metadata": {},
     "output_type": "display_data"
    },
    {
     "data": {
      "application/javascript": [
       "console.log(\"[203613][INFO][openvisuspy.slice:286:pushJobIfNeeded] [Slice/0] pushed new job query_logic_box=[[304.3390426740657, 498.77542489709845, 489], [593.4879260552024, 722.7105386373819, 490]]\");\n"
      ],
      "text/plain": [
       "<IPython.core.display.Javascript object>"
      ]
     },
     "metadata": {},
     "output_type": "display_data"
    },
    {
     "data": {
      "application/javascript": [
       "console.log(\"[203613][INFO][openvisuspy.backend_cpp:76:createBoxQuery] begin timestep=0 field=data logic_box=[[304.3390426740657, 498.77542489709845, 489], [593.4879260552024, 722.7105386373819, 490]] num_refinements=2 max_pixels=543862 endh=30\");\n"
      ],
      "text/plain": [
       "<IPython.core.display.Javascript object>"
      ]
     },
     "metadata": {},
     "output_type": "display_data"
    },
    {
     "data": {
      "application/javascript": [
       "console.log(\"[203613][INFO][openvisuspy.backend_cpp:112:createBoxQuery] Guess resolution endh=30 original_box=([304, 498, 489], [594, 723, 490]) aligned_box=([304, 498, 489], [594, 723, 490]) delta=[1, 1, 1] num_pixels=[290, 225, 1] tot_pixels=65,250 max_pixels=543,862 end=30\");\n"
      ],
      "text/plain": [
       "<IPython.core.display.Javascript object>"
      ]
     },
     "metadata": {},
     "output_type": "display_data"
    },
    {
     "data": {
      "application/javascript": [
       "console.log(\"[203613][INFO][openvisuspy.backend_cpp:140:beginBoxQuery] beginBoxQuery timestep=0 field=data logic_box=[[304, 498, 489], [594, 723, 490]] end_resolutions=[27, 30]\");\n"
      ],
      "text/plain": [
       "<IPython.core.display.Javascript object>"
      ]
     },
     "metadata": {},
     "output_type": "display_data"
    },
    {
     "data": {
      "application/javascript": [
       "console.log(\"[203613][INFO][openvisuspy.backend_cpp:170:returnBoxQueryData] got data 0/[27, 30] timestep=0 field=data H=30 data.shape=(225, 290) data.dtype=uint16 logic_box=[[304, 498, 489], [594, 723, 490]] m=14174 M=55163 ms=49\");\n"
      ],
      "text/plain": [
       "<IPython.core.display.Javascript object>"
      ]
     },
     "metadata": {},
     "output_type": "display_data"
    },
    {
     "data": {
      "application/javascript": [
       "console.log(\"[203613][INFO][openvisuspy.backend_cpp:76:printStatistics] Stats::printStatistics enlapsed=0.06500816345214844 seconds\");\n"
      ],
      "text/plain": [
       "<IPython.core.display.Javascript object>"
      ]
     },
     "metadata": {},
     "output_type": "display_data"
    },
    {
     "data": {
      "application/javascript": [
       "console.log(\"[203613][INFO][openvisuspy.slice:218:renderResultIfNeeded] [Slice/0]::rendering result data.shape=(225, 290) data.dtype=uint16 logic_box=[[304, 498, 489], [594, 723, 490]] data-range=(14174, 55163) palette-range=[14174.0, 55163.0]\");\n"
      ],
      "text/plain": [
       "<IPython.core.display.Javascript object>"
      ]
     },
     "metadata": {},
     "output_type": "display_data"
    },
    {
     "data": {
      "application/javascript": [
       "console.log(\"[203613][INFO][openvisuspy.slice:243:pushJobIfNeeded] [Slice/0] pushing new job query_logic_box=[[326.000345948638, 522.7194106102427, 489], [566.9577487662519, 709.3320053938122, 490]]...\");\n"
      ],
      "text/plain": [
       "<IPython.core.display.Javascript object>"
      ]
     },
     "metadata": {},
     "output_type": "display_data"
    },
    {
     "data": {
      "application/javascript": [
       "console.log(\"[203613][INFO][openvisuspy.slice:286:pushJobIfNeeded] [Slice/0] pushed new job query_logic_box=[[326.000345948638, 522.7194106102427, 489], [566.9577487662519, 709.3320053938122, 490]]\");\n"
      ],
      "text/plain": [
       "<IPython.core.display.Javascript object>"
      ]
     },
     "metadata": {},
     "output_type": "display_data"
    },
    {
     "data": {
      "application/javascript": [
       "console.log(\"[203613][INFO][openvisuspy.backend_cpp:76:createBoxQuery] begin timestep=0 field=data logic_box=[[326.000345948638, 522.7194106102427, 489], [566.9577487662519, 709.3320053938122, 490]] num_refinements=2 max_pixels=543862 endh=30\");\n"
      ],
      "text/plain": [
       "<IPython.core.display.Javascript object>"
      ]
     },
     "metadata": {},
     "output_type": "display_data"
    },
    {
     "data": {
      "application/javascript": [
       "console.log(\"[203613][INFO][openvisuspy.backend_cpp:112:createBoxQuery] Guess resolution endh=30 original_box=([326, 522, 489], [567, 710, 490]) aligned_box=([326, 522, 489], [567, 710, 490]) delta=[1, 1, 1] num_pixels=[241, 188, 1] tot_pixels=45,308 max_pixels=543,862 end=30\");\n"
      ],
      "text/plain": [
       "<IPython.core.display.Javascript object>"
      ]
     },
     "metadata": {},
     "output_type": "display_data"
    },
    {
     "data": {
      "application/javascript": [
       "console.log(\"[203613][INFO][openvisuspy.backend_cpp:140:beginBoxQuery] beginBoxQuery timestep=0 field=data logic_box=[[326, 522, 489], [567, 710, 490]] end_resolutions=[27, 30]\");\n"
      ],
      "text/plain": [
       "<IPython.core.display.Javascript object>"
      ]
     },
     "metadata": {},
     "output_type": "display_data"
    },
    {
     "data": {
      "application/javascript": [
       "console.log(\"[203613][INFO][openvisuspy.slice:243:pushJobIfNeeded] [Slice/0] pushing new job query_logic_box=[[359.0940037292347, 559.300499894213, 489], [526.4255334636888, 688.8925796050253, 490]]...\");\n"
      ],
      "text/plain": [
       "<IPython.core.display.Javascript object>"
      ]
     },
     "metadata": {},
     "output_type": "display_data"
    },
    {
     "data": {
      "application/javascript": [
       "console.log(\"[203613][INFO][openvisuspy.backend_cpp:76:printStatistics] Stats::printStatistics enlapsed=0.03600025177001953 seconds\");\n"
      ],
      "text/plain": [
       "<IPython.core.display.Javascript object>"
      ]
     },
     "metadata": {},
     "output_type": "display_data"
    },
    {
     "data": {
      "application/javascript": [
       "console.log(\"[203613][INFO][openvisuspy.slice:286:pushJobIfNeeded] [Slice/0] pushed new job query_logic_box=[[359.0940037292347, 559.300499894213, 489], [526.4255334636888, 688.8925796050253, 490]]\");\n"
      ],
      "text/plain": [
       "<IPython.core.display.Javascript object>"
      ]
     },
     "metadata": {},
     "output_type": "display_data"
    },
    {
     "data": {
      "application/javascript": [
       "console.log(\"[203614][INFO][openvisuspy.backend_cpp:76:createBoxQuery] begin timestep=0 field=data logic_box=[[359.0940037292347, 559.300499894213, 489], [526.4255334636888, 688.8925796050253, 490]] num_refinements=2 max_pixels=543862 endh=30\");\n"
      ],
      "text/plain": [
       "<IPython.core.display.Javascript object>"
      ]
     },
     "metadata": {},
     "output_type": "display_data"
    },
    {
     "data": {
      "application/javascript": [
       "console.log(\"[203614][INFO][openvisuspy.backend_cpp:112:createBoxQuery] Guess resolution endh=30 original_box=([359, 559, 489], [527, 689, 490]) aligned_box=([359, 559, 489], [527, 689, 490]) delta=[1, 1, 1] num_pixels=[168, 130, 1] tot_pixels=21,840 max_pixels=543,862 end=30\");\n"
      ],
      "text/plain": [
       "<IPython.core.display.Javascript object>"
      ]
     },
     "metadata": {},
     "output_type": "display_data"
    },
    {
     "data": {
      "application/javascript": [
       "console.log(\"[203614][INFO][openvisuspy.backend_cpp:140:beginBoxQuery] beginBoxQuery timestep=0 field=data logic_box=[[359, 559, 489], [527, 689, 490]] end_resolutions=[27, 30]\");\n"
      ],
      "text/plain": [
       "<IPython.core.display.Javascript object>"
      ]
     },
     "metadata": {},
     "output_type": "display_data"
    },
    {
     "data": {
      "application/javascript": [
       "console.log(\"[203614][INFO][openvisuspy.slice:243:pushJobIfNeeded] [Slice/0] pushing new job query_logic_box=[[371.62948016127893, 573.1569731078381, 489], [511.0724216066573, 681.1503728668483, 490]]...\");\n"
      ],
      "text/plain": [
       "<IPython.core.display.Javascript object>"
      ]
     },
     "metadata": {},
     "output_type": "display_data"
    },
    {
     "data": {
      "application/javascript": [
       "console.log(\"[203614][INFO][openvisuspy.backend_cpp:76:printStatistics] Stats::printStatistics enlapsed=0.021999835968017578 seconds\");\n"
      ],
      "text/plain": [
       "<IPython.core.display.Javascript object>"
      ]
     },
     "metadata": {},
     "output_type": "display_data"
    },
    {
     "data": {
      "application/javascript": [
       "console.log(\"[203614][INFO][openvisuspy.slice:286:pushJobIfNeeded] [Slice/0] pushed new job query_logic_box=[[371.62948016127893, 573.1569731078381, 489], [511.0724216066573, 681.1503728668483, 490]]\");\n"
      ],
      "text/plain": [
       "<IPython.core.display.Javascript object>"
      ]
     },
     "metadata": {},
     "output_type": "display_data"
    },
    {
     "data": {
      "application/javascript": [
       "console.log(\"[203614][INFO][openvisuspy.backend_cpp:76:createBoxQuery] begin timestep=0 field=data logic_box=[[371.62948016127893, 573.1569731078381, 489], [511.0724216066573, 681.1503728668483, 490]] num_refinements=2 max_pixels=543862 endh=30\");\n"
      ],
      "text/plain": [
       "<IPython.core.display.Javascript object>"
      ]
     },
     "metadata": {},
     "output_type": "display_data"
    },
    {
     "data": {
      "application/javascript": [
       "console.log(\"[203614][INFO][openvisuspy.backend_cpp:112:createBoxQuery] Guess resolution endh=30 original_box=([371, 573, 489], [512, 682, 490]) aligned_box=([371, 573, 489], [512, 682, 490]) delta=[1, 1, 1] num_pixels=[141, 109, 1] tot_pixels=15,369 max_pixels=543,862 end=30\");\n"
      ],
      "text/plain": [
       "<IPython.core.display.Javascript object>"
      ]
     },
     "metadata": {},
     "output_type": "display_data"
    },
    {
     "data": {
      "application/javascript": [
       "console.log(\"[203614][INFO][openvisuspy.backend_cpp:140:beginBoxQuery] beginBoxQuery timestep=0 field=data logic_box=[[371, 573, 489], [512, 682, 490]] end_resolutions=[27, 30]\");\n"
      ],
      "text/plain": [
       "<IPython.core.display.Javascript object>"
      ]
     },
     "metadata": {},
     "output_type": "display_data"
    },
    {
     "data": {
      "application/javascript": [
       "console.log(\"[203614][INFO][openvisuspy.backend_cpp:170:returnBoxQueryData] got data 0/[27, 30] timestep=0 field=data H=30 data.shape=(109, 141) data.dtype=uint16 logic_box=[[371, 573, 489], [512, 682, 490]] m=17139 M=54764 ms=19\");\n"
      ],
      "text/plain": [
       "<IPython.core.display.Javascript object>"
      ]
     },
     "metadata": {},
     "output_type": "display_data"
    },
    {
     "data": {
      "application/javascript": [
       "console.log(\"[203614][INFO][openvisuspy.backend_cpp:76:printStatistics] Stats::printStatistics enlapsed=0.035996437072753906 seconds\");\n"
      ],
      "text/plain": [
       "<IPython.core.display.Javascript object>"
      ]
     },
     "metadata": {},
     "output_type": "display_data"
    },
    {
     "data": {
      "application/javascript": [
       "console.log(\"[203614][INFO][openvisuspy.slice:218:renderResultIfNeeded] [Slice/0]::rendering result data.shape=(109, 141) data.dtype=uint16 logic_box=[[371, 573, 489], [512, 682, 490]] data-range=(17139, 54764) palette-range=[17139.0, 54764.0]\");\n"
      ],
      "text/plain": [
       "<IPython.core.display.Javascript object>"
      ]
     },
     "metadata": {},
     "output_type": "display_data"
    }
   ],
   "source": [
    "def MyApp(doc,url=f\"http://atlantis.sci.utah.edu/mod_visus?dataset=bellows_CT_NASA_JHochhalter&cached=idx\" ):\n",
    "    view=Slice(doc=doc) \n",
    "    view.setDataset(url)   \n",
    "    view.setDirection(2)\n",
    "    view.setPalette(\"Greys256\")\n",
    "    view.setPaletteRange((0,65536))\n",
    "    view.setTimestep(view.getTimestep())\n",
    "    view.setField(view.getField()) \n",
    "    main_layout= Column(view.getMainLayout(),height=800,sizing_mode='stretch_width')\n",
    "    doc.add_root(main_layout)\n",
    "ShowBokehApp(MyApp)"
   ]
  },
  {
   "cell_type": "code",
   "execution_count": null,
   "metadata": {},
   "outputs": [],
   "source": []
  }
 ],
 "metadata": {
  "kernelspec": {
   "display_name": "Python 3 (ipykernel)",
   "language": "python",
   "name": "python3"
  },
  "language_info": {
   "codemirror_mode": {
    "name": "ipython",
    "version": 3
   },
   "file_extension": ".py",
   "mimetype": "text/x-python",
   "name": "python",
   "nbconvert_exporter": "python",
   "pygments_lexer": "ipython3",
   "version": "3.8.0"
  }
 },
 "nbformat": 4,
 "nbformat_minor": 2
}
