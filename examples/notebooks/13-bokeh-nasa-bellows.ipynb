{
 "cells": [
  {
   "cell_type": "markdown",
   "metadata": {},
   "source": [
    "| ![nsdf](https://www.sci.utah.edu/~pascucci/public/NSDF-smaller.PNG)  | [National Science Data Fabric](https://nationalsciencedatafabric.org/) [Jupyter notebook](https://jupyter.org/) <br> created by  [Valerio Pascucci](http://cedmav.com/) and  [Giorgio Scorzelli](https://www.sci.utah.edu/people/scrgiorgio.html)  |  \n",
    "|---|:---:|\n"
   ]
  },
  {
   "cell_type": "markdown",
   "metadata": {},
   "source": [
    "#  <center> This is a preview of the data:\n",
    "![Preview](https://raw.githubusercontent.com/scrgiorgio/reasources/main/images/2023-05-10_9-56-53.gif)"
   ]
  },
  {
   "cell_type": "code",
   "execution_count": 1,
   "metadata": {},
   "outputs": [
    {
     "data": {
      "application/javascript": [
       "console.log(\"[195853][INFO][openvisuspy:18:<module>] GetBackend=cpp\");\n"
      ],
      "text/plain": [
       "<IPython.core.display.Javascript object>"
      ]
     },
     "metadata": {},
     "output_type": "display_data"
    },
    {
     "data": {
      "text/html": [
       "<style>\n",
       "        .bk-notebook-logo {\n",
       "            display: block;\n",
       "            width: 20px;\n",
       "            height: 20px;\n",
       "            background-image: url(data:image/png;base64,iVBORw0KGgoAAAANSUhEUgAAABQAAAAUCAYAAACNiR0NAAAABHNCSVQICAgIfAhkiAAAAAlwSFlzAAALEgAACxIB0t1+/AAAABx0RVh0U29mdHdhcmUAQWRvYmUgRmlyZXdvcmtzIENTNui8sowAAAOkSURBVDiNjZRtaJVlGMd/1/08zzln5zjP1LWcU9N0NkN8m2CYjpgQYQXqSs0I84OLIC0hkEKoPtiH3gmKoiJDU7QpLgoLjLIQCpEsNJ1vqUOdO7ppbuec5+V+rj4ctwzd8IIbbi6u+8f1539dt3A78eXC7QizUF7gyV1fD1Yqg4JWz84yffhm0qkFqBogB9rM8tZdtwVsPUhWhGcFJngGeWrPzHm5oaMmkfEg1usvLFyc8jLRqDOMru7AyC8saQr7GG7f5fvDeH7Ej8CM66nIF+8yngt6HWaKh7k49Soy9nXurCi1o3qUbS3zWfrYeQDTB/Qj6kX6Ybhw4B+bOYoLKCC9H3Nu/leUTZ1JdRWkkn2ldcCamzrcf47KKXdAJllSlxAOkRgyHsGC/zRday5Qld9DyoM4/q/rUoy/CXh3jzOu3bHUVZeU+DEn8FInkPBFlu3+nW3Nw0mk6vCDiWg8CeJaxEwuHS3+z5RgY+YBR6V1Z1nxSOfoaPa4LASWxxdNp+VWTk7+4vzaou8v8PN+xo+KY2xsw6une2frhw05CTYOmQvsEhjhWjn0bmXPjpE1+kplmmkP3suftwTubK9Vq22qKmrBhpY4jvd5afdRA3wGjFAgcnTK2s4hY0/GPNIb0nErGMCRxWOOX64Z8RAC4oCXdklmEvcL8o0BfkNK4lUg9HTl+oPlQxdNo3Mg4Nv175e/1LDGzZen30MEjRUtmXSfiTVu1kK8W4txyV6BMKlbgk3lMwYCiusNy9fVfvvwMxv8Ynl6vxoByANLTWplvuj/nF9m2+PDtt1eiHPBr1oIfhCChQMBw6Aw0UulqTKZdfVvfG7VcfIqLG9bcldL/+pdWTLxLUy8Qq38heUIjh4XlzZxzQm19lLFlr8vdQ97rjZVOLf8nclzckbcD4wxXMidpX30sFd37Fv/GtwwhzhxGVAprjbg0gCAEeIgwCZyTV2Z1REEW8O4py0wsjeloKoMr6iCY6dP92H6Vw/oTyICIthibxjm/DfN9lVz8IqtqKYLUXfoKVMVQVVJOElGjrnnUt9T9wbgp8AyYKaGlqingHZU/uG2NTZSVqwHQTWkx9hxjkpWDaCg6Ckj5qebgBVbT3V3NNXMSiWSDdGV3hrtzla7J+duwPOToIg42ChPQOQjspnSlp1V+Gjdged7+8UN5CRAV7a5EdFNwCjEaBR27b3W890TE7g24NAP/mMDXRWrGoFPQI9ls/MWO2dWFAar/xcOIImbbpA3zgAAAABJRU5ErkJggg==);\n",
       "        }\n",
       "    </style>\n",
       "    <div>\n",
       "        <a href=\"https://bokeh.org\" target=\"_blank\" class=\"bk-notebook-logo\"></a>\n",
       "        <span id=\"cdedc208-5b5a-44ae-a9ec-e5390ef64de3\">Loading BokehJS ...</span>\n",
       "    </div>\n"
      ]
     },
     "metadata": {},
     "output_type": "display_data"
    },
    {
     "data": {
      "application/javascript": [
       "(function(root) {\n",
       "  function now() {\n",
       "    return new Date();\n",
       "  }\n",
       "\n",
       "  const force = true;\n",
       "\n",
       "  if (typeof root._bokeh_onload_callbacks === \"undefined\" || force === true) {\n",
       "    root._bokeh_onload_callbacks = [];\n",
       "    root._bokeh_is_loading = undefined;\n",
       "  }\n",
       "\n",
       "const JS_MIME_TYPE = 'application/javascript';\n",
       "  const HTML_MIME_TYPE = 'text/html';\n",
       "  const EXEC_MIME_TYPE = 'application/vnd.bokehjs_exec.v0+json';\n",
       "  const CLASS_NAME = 'output_bokeh rendered_html';\n",
       "\n",
       "  /**\n",
       "   * Render data to the DOM node\n",
       "   */\n",
       "  function render(props, node) {\n",
       "    const script = document.createElement(\"script\");\n",
       "    node.appendChild(script);\n",
       "  }\n",
       "\n",
       "  /**\n",
       "   * Handle when an output is cleared or removed\n",
       "   */\n",
       "  function handleClearOutput(event, handle) {\n",
       "    const cell = handle.cell;\n",
       "\n",
       "    const id = cell.output_area._bokeh_element_id;\n",
       "    const server_id = cell.output_area._bokeh_server_id;\n",
       "    // Clean up Bokeh references\n",
       "    if (id != null && id in Bokeh.index) {\n",
       "      Bokeh.index[id].model.document.clear();\n",
       "      delete Bokeh.index[id];\n",
       "    }\n",
       "\n",
       "    if (server_id !== undefined) {\n",
       "      // Clean up Bokeh references\n",
       "      const cmd_clean = \"from bokeh.io.state import curstate; print(curstate().uuid_to_server['\" + server_id + \"'].get_sessions()[0].document.roots[0]._id)\";\n",
       "      cell.notebook.kernel.execute(cmd_clean, {\n",
       "        iopub: {\n",
       "          output: function(msg) {\n",
       "            const id = msg.content.text.trim();\n",
       "            if (id in Bokeh.index) {\n",
       "              Bokeh.index[id].model.document.clear();\n",
       "              delete Bokeh.index[id];\n",
       "            }\n",
       "          }\n",
       "        }\n",
       "      });\n",
       "      // Destroy server and session\n",
       "      const cmd_destroy = \"import bokeh.io.notebook as ion; ion.destroy_server('\" + server_id + \"')\";\n",
       "      cell.notebook.kernel.execute(cmd_destroy);\n",
       "    }\n",
       "  }\n",
       "\n",
       "  /**\n",
       "   * Handle when a new output is added\n",
       "   */\n",
       "  function handleAddOutput(event, handle) {\n",
       "    const output_area = handle.output_area;\n",
       "    const output = handle.output;\n",
       "\n",
       "    // limit handleAddOutput to display_data with EXEC_MIME_TYPE content only\n",
       "    if ((output.output_type != \"display_data\") || (!Object.prototype.hasOwnProperty.call(output.data, EXEC_MIME_TYPE))) {\n",
       "      return\n",
       "    }\n",
       "\n",
       "    const toinsert = output_area.element.find(\".\" + CLASS_NAME.split(' ')[0]);\n",
       "\n",
       "    if (output.metadata[EXEC_MIME_TYPE][\"id\"] !== undefined) {\n",
       "      toinsert[toinsert.length - 1].firstChild.textContent = output.data[JS_MIME_TYPE];\n",
       "      // store reference to embed id on output_area\n",
       "      output_area._bokeh_element_id = output.metadata[EXEC_MIME_TYPE][\"id\"];\n",
       "    }\n",
       "    if (output.metadata[EXEC_MIME_TYPE][\"server_id\"] !== undefined) {\n",
       "      const bk_div = document.createElement(\"div\");\n",
       "      bk_div.innerHTML = output.data[HTML_MIME_TYPE];\n",
       "      const script_attrs = bk_div.children[0].attributes;\n",
       "      for (let i = 0; i < script_attrs.length; i++) {\n",
       "        toinsert[toinsert.length - 1].firstChild.setAttribute(script_attrs[i].name, script_attrs[i].value);\n",
       "        toinsert[toinsert.length - 1].firstChild.textContent = bk_div.children[0].textContent\n",
       "      }\n",
       "      // store reference to server id on output_area\n",
       "      output_area._bokeh_server_id = output.metadata[EXEC_MIME_TYPE][\"server_id\"];\n",
       "    }\n",
       "  }\n",
       "\n",
       "  function register_renderer(events, OutputArea) {\n",
       "\n",
       "    function append_mime(data, metadata, element) {\n",
       "      // create a DOM node to render to\n",
       "      const toinsert = this.create_output_subarea(\n",
       "        metadata,\n",
       "        CLASS_NAME,\n",
       "        EXEC_MIME_TYPE\n",
       "      );\n",
       "      this.keyboard_manager.register_events(toinsert);\n",
       "      // Render to node\n",
       "      const props = {data: data, metadata: metadata[EXEC_MIME_TYPE]};\n",
       "      render(props, toinsert[toinsert.length - 1]);\n",
       "      element.append(toinsert);\n",
       "      return toinsert\n",
       "    }\n",
       "\n",
       "    /* Handle when an output is cleared or removed */\n",
       "    events.on('clear_output.CodeCell', handleClearOutput);\n",
       "    events.on('delete.Cell', handleClearOutput);\n",
       "\n",
       "    /* Handle when a new output is added */\n",
       "    events.on('output_added.OutputArea', handleAddOutput);\n",
       "\n",
       "    /**\n",
       "     * Register the mime type and append_mime function with output_area\n",
       "     */\n",
       "    OutputArea.prototype.register_mime_type(EXEC_MIME_TYPE, append_mime, {\n",
       "      /* Is output safe? */\n",
       "      safe: true,\n",
       "      /* Index of renderer in `output_area.display_order` */\n",
       "      index: 0\n",
       "    });\n",
       "  }\n",
       "\n",
       "  // register the mime type if in Jupyter Notebook environment and previously unregistered\n",
       "  if (root.Jupyter !== undefined) {\n",
       "    const events = require('base/js/events');\n",
       "    const OutputArea = require('notebook/js/outputarea').OutputArea;\n",
       "\n",
       "    if (OutputArea.prototype.mime_types().indexOf(EXEC_MIME_TYPE) == -1) {\n",
       "      register_renderer(events, OutputArea);\n",
       "    }\n",
       "  }\n",
       "  if (typeof (root._bokeh_timeout) === \"undefined\" || force === true) {\n",
       "    root._bokeh_timeout = Date.now() + 5000;\n",
       "    root._bokeh_failed_load = false;\n",
       "  }\n",
       "\n",
       "  const NB_LOAD_WARNING = {'data': {'text/html':\n",
       "     \"<div style='background-color: #fdd'>\\n\"+\n",
       "     \"<p>\\n\"+\n",
       "     \"BokehJS does not appear to have successfully loaded. If loading BokehJS from CDN, this \\n\"+\n",
       "     \"may be due to a slow or bad network connection. Possible fixes:\\n\"+\n",
       "     \"</p>\\n\"+\n",
       "     \"<ul>\\n\"+\n",
       "     \"<li>re-rerun `output_notebook()` to attempt to load from CDN again, or</li>\\n\"+\n",
       "     \"<li>use INLINE resources instead, as so:</li>\\n\"+\n",
       "     \"</ul>\\n\"+\n",
       "     \"<code>\\n\"+\n",
       "     \"from bokeh.resources import INLINE\\n\"+\n",
       "     \"output_notebook(resources=INLINE)\\n\"+\n",
       "     \"</code>\\n\"+\n",
       "     \"</div>\"}};\n",
       "\n",
       "  function display_loaded() {\n",
       "    const el = document.getElementById(\"cdedc208-5b5a-44ae-a9ec-e5390ef64de3\");\n",
       "    if (el != null) {\n",
       "      el.textContent = \"BokehJS is loading...\";\n",
       "    }\n",
       "    if (root.Bokeh !== undefined) {\n",
       "      if (el != null) {\n",
       "        el.textContent = \"BokehJS \" + root.Bokeh.version + \" successfully loaded.\";\n",
       "      }\n",
       "    } else if (Date.now() < root._bokeh_timeout) {\n",
       "      setTimeout(display_loaded, 100)\n",
       "    }\n",
       "  }\n",
       "\n",
       "  function run_callbacks() {\n",
       "    try {\n",
       "      root._bokeh_onload_callbacks.forEach(function(callback) {\n",
       "        if (callback != null)\n",
       "          callback();\n",
       "      });\n",
       "    } finally {\n",
       "      delete root._bokeh_onload_callbacks\n",
       "    }\n",
       "    console.debug(\"Bokeh: all callbacks have finished\");\n",
       "  }\n",
       "\n",
       "  function load_libs(css_urls, js_urls, callback) {\n",
       "    if (css_urls == null) css_urls = [];\n",
       "    if (js_urls == null) js_urls = [];\n",
       "\n",
       "    root._bokeh_onload_callbacks.push(callback);\n",
       "    if (root._bokeh_is_loading > 0) {\n",
       "      console.debug(\"Bokeh: BokehJS is being loaded, scheduling callback at\", now());\n",
       "      return null;\n",
       "    }\n",
       "    if (js_urls == null || js_urls.length === 0) {\n",
       "      run_callbacks();\n",
       "      return null;\n",
       "    }\n",
       "    console.debug(\"Bokeh: BokehJS not loaded, scheduling load and callback at\", now());\n",
       "    root._bokeh_is_loading = css_urls.length + js_urls.length;\n",
       "\n",
       "    function on_load() {\n",
       "      root._bokeh_is_loading--;\n",
       "      if (root._bokeh_is_loading === 0) {\n",
       "        console.debug(\"Bokeh: all BokehJS libraries/stylesheets loaded\");\n",
       "        run_callbacks()\n",
       "      }\n",
       "    }\n",
       "\n",
       "    function on_error(url) {\n",
       "      console.error(\"failed to load \" + url);\n",
       "    }\n",
       "\n",
       "    for (let i = 0; i < css_urls.length; i++) {\n",
       "      const url = css_urls[i];\n",
       "      const element = document.createElement(\"link\");\n",
       "      element.onload = on_load;\n",
       "      element.onerror = on_error.bind(null, url);\n",
       "      element.rel = \"stylesheet\";\n",
       "      element.type = \"text/css\";\n",
       "      element.href = url;\n",
       "      console.debug(\"Bokeh: injecting link tag for BokehJS stylesheet: \", url);\n",
       "      document.body.appendChild(element);\n",
       "    }\n",
       "\n",
       "    for (let i = 0; i < js_urls.length; i++) {\n",
       "      const url = js_urls[i];\n",
       "      const element = document.createElement('script');\n",
       "      element.onload = on_load;\n",
       "      element.onerror = on_error.bind(null, url);\n",
       "      element.async = false;\n",
       "      element.src = url;\n",
       "      console.debug(\"Bokeh: injecting script tag for BokehJS library: \", url);\n",
       "      document.head.appendChild(element);\n",
       "    }\n",
       "  };\n",
       "\n",
       "  function inject_raw_css(css) {\n",
       "    const element = document.createElement(\"style\");\n",
       "    element.appendChild(document.createTextNode(css));\n",
       "    document.body.appendChild(element);\n",
       "  }\n",
       "\n",
       "  const js_urls = [\"https://cdn.bokeh.org/bokeh/release/bokeh-3.1.1.min.js\", \"https://cdn.bokeh.org/bokeh/release/bokeh-gl-3.1.1.min.js\", \"https://cdn.bokeh.org/bokeh/release/bokeh-widgets-3.1.1.min.js\", \"https://cdn.bokeh.org/bokeh/release/bokeh-tables-3.1.1.min.js\", \"https://cdn.bokeh.org/bokeh/release/bokeh-mathjax-3.1.1.min.js\"];\n",
       "  const css_urls = [];\n",
       "\n",
       "  const inline_js = [    function(Bokeh) {\n",
       "      Bokeh.set_log_level(\"error\");\n",
       "    },\n",
       "function(Bokeh) {\n",
       "    }\n",
       "  ];\n",
       "\n",
       "  function run_inline_js() {\n",
       "    if (root.Bokeh !== undefined || force === true) {\n",
       "          for (let i = 0; i < inline_js.length; i++) {\n",
       "      inline_js[i].call(root, root.Bokeh);\n",
       "    }\n",
       "if (force === true) {\n",
       "        display_loaded();\n",
       "      }} else if (Date.now() < root._bokeh_timeout) {\n",
       "      setTimeout(run_inline_js, 100);\n",
       "    } else if (!root._bokeh_failed_load) {\n",
       "      console.log(\"Bokeh: BokehJS failed to load within specified timeout.\");\n",
       "      root._bokeh_failed_load = true;\n",
       "    } else if (force !== true) {\n",
       "      const cell = $(document.getElementById(\"cdedc208-5b5a-44ae-a9ec-e5390ef64de3\")).parents('.cell').data().cell;\n",
       "      cell.output_area.append_execute_result(NB_LOAD_WARNING)\n",
       "    }\n",
       "  }\n",
       "\n",
       "  if (root._bokeh_is_loading === 0) {\n",
       "    console.debug(\"Bokeh: BokehJS loaded, going straight to plotting\");\n",
       "    run_inline_js();\n",
       "  } else {\n",
       "    load_libs(css_urls, js_urls, function() {\n",
       "      console.debug(\"Bokeh: BokehJS plotting callback run at\", now());\n",
       "      run_inline_js();\n",
       "    });\n",
       "  }\n",
       "}(window));"
      ],
      "application/vnd.bokehjs_load.v0+json": "(function(root) {\n  function now() {\n    return new Date();\n  }\n\n  const force = true;\n\n  if (typeof root._bokeh_onload_callbacks === \"undefined\" || force === true) {\n    root._bokeh_onload_callbacks = [];\n    root._bokeh_is_loading = undefined;\n  }\n\n\n  if (typeof (root._bokeh_timeout) === \"undefined\" || force === true) {\n    root._bokeh_timeout = Date.now() + 5000;\n    root._bokeh_failed_load = false;\n  }\n\n  const NB_LOAD_WARNING = {'data': {'text/html':\n     \"<div style='background-color: #fdd'>\\n\"+\n     \"<p>\\n\"+\n     \"BokehJS does not appear to have successfully loaded. If loading BokehJS from CDN, this \\n\"+\n     \"may be due to a slow or bad network connection. Possible fixes:\\n\"+\n     \"</p>\\n\"+\n     \"<ul>\\n\"+\n     \"<li>re-rerun `output_notebook()` to attempt to load from CDN again, or</li>\\n\"+\n     \"<li>use INLINE resources instead, as so:</li>\\n\"+\n     \"</ul>\\n\"+\n     \"<code>\\n\"+\n     \"from bokeh.resources import INLINE\\n\"+\n     \"output_notebook(resources=INLINE)\\n\"+\n     \"</code>\\n\"+\n     \"</div>\"}};\n\n  function display_loaded() {\n    const el = document.getElementById(\"cdedc208-5b5a-44ae-a9ec-e5390ef64de3\");\n    if (el != null) {\n      el.textContent = \"BokehJS is loading...\";\n    }\n    if (root.Bokeh !== undefined) {\n      if (el != null) {\n        el.textContent = \"BokehJS \" + root.Bokeh.version + \" successfully loaded.\";\n      }\n    } else if (Date.now() < root._bokeh_timeout) {\n      setTimeout(display_loaded, 100)\n    }\n  }\n\n  function run_callbacks() {\n    try {\n      root._bokeh_onload_callbacks.forEach(function(callback) {\n        if (callback != null)\n          callback();\n      });\n    } finally {\n      delete root._bokeh_onload_callbacks\n    }\n    console.debug(\"Bokeh: all callbacks have finished\");\n  }\n\n  function load_libs(css_urls, js_urls, callback) {\n    if (css_urls == null) css_urls = [];\n    if (js_urls == null) js_urls = [];\n\n    root._bokeh_onload_callbacks.push(callback);\n    if (root._bokeh_is_loading > 0) {\n      console.debug(\"Bokeh: BokehJS is being loaded, scheduling callback at\", now());\n      return null;\n    }\n    if (js_urls == null || js_urls.length === 0) {\n      run_callbacks();\n      return null;\n    }\n    console.debug(\"Bokeh: BokehJS not loaded, scheduling load and callback at\", now());\n    root._bokeh_is_loading = css_urls.length + js_urls.length;\n\n    function on_load() {\n      root._bokeh_is_loading--;\n      if (root._bokeh_is_loading === 0) {\n        console.debug(\"Bokeh: all BokehJS libraries/stylesheets loaded\");\n        run_callbacks()\n      }\n    }\n\n    function on_error(url) {\n      console.error(\"failed to load \" + url);\n    }\n\n    for (let i = 0; i < css_urls.length; i++) {\n      const url = css_urls[i];\n      const element = document.createElement(\"link\");\n      element.onload = on_load;\n      element.onerror = on_error.bind(null, url);\n      element.rel = \"stylesheet\";\n      element.type = \"text/css\";\n      element.href = url;\n      console.debug(\"Bokeh: injecting link tag for BokehJS stylesheet: \", url);\n      document.body.appendChild(element);\n    }\n\n    for (let i = 0; i < js_urls.length; i++) {\n      const url = js_urls[i];\n      const element = document.createElement('script');\n      element.onload = on_load;\n      element.onerror = on_error.bind(null, url);\n      element.async = false;\n      element.src = url;\n      console.debug(\"Bokeh: injecting script tag for BokehJS library: \", url);\n      document.head.appendChild(element);\n    }\n  };\n\n  function inject_raw_css(css) {\n    const element = document.createElement(\"style\");\n    element.appendChild(document.createTextNode(css));\n    document.body.appendChild(element);\n  }\n\n  const js_urls = [\"https://cdn.bokeh.org/bokeh/release/bokeh-3.1.1.min.js\", \"https://cdn.bokeh.org/bokeh/release/bokeh-gl-3.1.1.min.js\", \"https://cdn.bokeh.org/bokeh/release/bokeh-widgets-3.1.1.min.js\", \"https://cdn.bokeh.org/bokeh/release/bokeh-tables-3.1.1.min.js\", \"https://cdn.bokeh.org/bokeh/release/bokeh-mathjax-3.1.1.min.js\"];\n  const css_urls = [];\n\n  const inline_js = [    function(Bokeh) {\n      Bokeh.set_log_level(\"error\");\n    },\nfunction(Bokeh) {\n    }\n  ];\n\n  function run_inline_js() {\n    if (root.Bokeh !== undefined || force === true) {\n          for (let i = 0; i < inline_js.length; i++) {\n      inline_js[i].call(root, root.Bokeh);\n    }\nif (force === true) {\n        display_loaded();\n      }} else if (Date.now() < root._bokeh_timeout) {\n      setTimeout(run_inline_js, 100);\n    } else if (!root._bokeh_failed_load) {\n      console.log(\"Bokeh: BokehJS failed to load within specified timeout.\");\n      root._bokeh_failed_load = true;\n    } else if (force !== true) {\n      const cell = $(document.getElementById(\"cdedc208-5b5a-44ae-a9ec-e5390ef64de3\")).parents('.cell').data().cell;\n      cell.output_area.append_execute_result(NB_LOAD_WARNING)\n    }\n  }\n\n  if (root._bokeh_is_loading === 0) {\n    console.debug(\"Bokeh: BokehJS loaded, going straight to plotting\");\n    run_inline_js();\n  } else {\n    load_libs(css_urls, js_urls, function() {\n      console.debug(\"Bokeh: BokehJS plotting callback run at\", now());\n      run_inline_js();\n    });\n  }\n}(window));"
     },
     "metadata": {},
     "output_type": "display_data"
    },
    {
     "data": {
      "application/javascript": [
       "console.log(\"[195853][INFO][openvisuspy.utils:314:ShowBokehApp] ShowBokehApp VISUS_USE_PUBLIC_IP=False VISUS_SSH_TUNNELS=\");\n"
      ],
      "text/plain": [
       "<IPython.core.display.Javascript object>"
      ]
     },
     "metadata": {},
     "output_type": "display_data"
    },
    {
     "data": {
      "application/vnd.bokehjs_exec.v0+json": "",
      "text/html": [
       "<script id=\"p1001\">\n",
       "  (function() {\n",
       "    const xhr = new XMLHttpRequest()\n",
       "    xhr.responseType = 'blob';\n",
       "    xhr.open('GET', \"http://localhost:52674/autoload.js?bokeh-autoload-element=p1001&bokeh-absolute-url=http://localhost:52674&resources=none\", true);\n",
       "    xhr.onload = function (event) {\n",
       "      const script = document.createElement('script');\n",
       "      const src = URL.createObjectURL(event.target.response);\n",
       "      script.src = src;\n",
       "      document.body.appendChild(script);\n",
       "    };\n",
       "    xhr.send();\n",
       "  })();\n",
       "</script>"
      ]
     },
     "metadata": {
      "application/vnd.bokehjs_exec.v0+json": {
       "server_id": "a67393336fe04528947e833e4a167e7d"
      }
     },
     "output_type": "display_data"
    }
   ],
   "source": [
    "import os,sys,logging,time\n",
    "\n",
    "# import bokehds\n",
    "os.environ[\"BOKEH_ALLOW_WS_ORIGIN\"]=\"*\" # for debugging \n",
    "os.environ[\"BOKEH_LOG_LEVEL\"]=\"error\"   # for debugging \n",
    "\n",
    "os.environ[\"VISUS_USE_PUBLIC_IP\"]=str(False)\n",
    "os.environ[\"VISUS_SSL_TUNNELS\"]=\"\"\n",
    "\n",
    "\n",
    "sys.path.append(\"c:/projects/openvisus/build/RelWithDebInfo\")\n",
    "sys.path.append(\"c:/projects/openvisuspy/src\")\n",
    "\n",
    "import openvisuspy\n",
    "from openvisuspy import ShowBokehApp, TestBokehApp, Slice, Slices, GetBackend, SetupLogger\n",
    "\n",
    "logger=SetupLogger()\n",
    "logger.info(f\"GetBackend={GetBackend()}\")\n",
    "\n",
    "import bokeh.io\n",
    "bokeh.io.output_notebook()\n",
    "ShowBokehApp(TestBokehApp)\n",
    "\n",
    "from bokeh.models import Column"
   ]
  },
  {
   "cell_type": "code",
   "execution_count": 2,
   "metadata": {},
   "outputs": [
    {
     "data": {
      "application/javascript": [
       "console.log(\"[195856][INFO][openvisuspy.utils:314:ShowBokehApp] ShowBokehApp VISUS_USE_PUBLIC_IP=False VISUS_SSH_TUNNELS=\");\n"
      ],
      "text/plain": [
       "<IPython.core.display.Javascript object>"
      ]
     },
     "metadata": {},
     "output_type": "display_data"
    },
    {
     "data": {
      "application/vnd.bokehjs_exec.v0+json": "",
      "text/html": [
       "<script id=\"p1009\">\n",
       "  (function() {\n",
       "    const xhr = new XMLHttpRequest()\n",
       "    xhr.responseType = 'blob';\n",
       "    xhr.open('GET', \"http://localhost:52677/autoload.js?bokeh-autoload-element=p1009&bokeh-absolute-url=http://localhost:52677&resources=none\", true);\n",
       "    xhr.onload = function (event) {\n",
       "      const script = document.createElement('script');\n",
       "      const src = URL.createObjectURL(event.target.response);\n",
       "      script.src = src;\n",
       "      document.body.appendChild(script);\n",
       "    };\n",
       "    xhr.send();\n",
       "  })();\n",
       "</script>"
      ]
     },
     "metadata": {
      "application/vnd.bokehjs_exec.v0+json": {
       "server_id": "172e70fd6b7149f5a8f964c2051be3f6"
      }
     },
     "output_type": "display_data"
    },
    {
     "data": {
      "application/javascript": [
       "console.log(\"[195856][INFO][openvisuspy.widgets:272:setConfig] [Slice/0]::setConfig\");\n"
      ],
      "text/plain": [
       "<IPython.core.display.Javascript object>"
      ]
     },
     "metadata": {},
     "output_type": "display_data"
    },
    {
     "data": {
      "application/javascript": [
       "console.log(\"[195856][INFO][openvisuspy.widgets:348:setDataset] [Slice/0]::setDataset name=http://atlantis.sci.utah.edu/mod_visus?dataset=bellows_CT_NASA_JHochhalter&cached=idx\");\n"
      ],
      "text/plain": [
       "<IPython.core.display.Javascript object>"
      ]
     },
     "metadata": {},
     "output_type": "display_data"
    },
    {
     "data": {
      "application/javascript": [
       "console.log(\"[195857][INFO][openvisuspy.widgets:506:setTimesteps] [Slice/0]::setTimesteps start=0 end=0\");\n"
      ],
      "text/plain": [
       "<IPython.core.display.Javascript object>"
      ]
     },
     "metadata": {},
     "output_type": "display_data"
    },
    {
     "data": {
      "application/javascript": [
       "console.log(\"[195857][INFO][openvisuspy.widgets:525:setTimestepDelta] [Slice/0]::setTimestepDelta value=1\");\n"
      ],
      "text/plain": [
       "<IPython.core.display.Javascript object>"
      ]
     },
     "metadata": {},
     "output_type": "display_data"
    },
    {
     "data": {
      "application/javascript": [
       "console.log(\"[195857][INFO][openvisuspy.widgets:546:setTimestep] [Slice/0]::setTimestep value=0 A\");\n"
      ],
      "text/plain": [
       "<IPython.core.display.Javascript object>"
      ]
     },
     "metadata": {},
     "output_type": "display_data"
    },
    {
     "data": {
      "application/javascript": [
       "console.log(\"[195857][INFO][openvisuspy.widgets:548:setTimestep] [Slice/0]::setTimestep value=0 B\");\n"
      ],
      "text/plain": [
       "<IPython.core.display.Javascript object>"
      ]
     },
     "metadata": {},
     "output_type": "display_data"
    },
    {
     "data": {
      "application/javascript": [
       "console.log(\"[195857][INFO][openvisuspy.widgets:546:setTimestep] [Slice/0]::setTimestep value=0 A\");\n"
      ],
      "text/plain": [
       "<IPython.core.display.Javascript object>"
      ]
     },
     "metadata": {},
     "output_type": "display_data"
    },
    {
     "data": {
      "application/javascript": [
       "console.log(\"[195857][INFO][openvisuspy.widgets:548:setTimestep] [Slice/0]::setTimestep value=0 B\");\n"
      ],
      "text/plain": [
       "<IPython.core.display.Javascript object>"
      ]
     },
     "metadata": {},
     "output_type": "display_data"
    },
    {
     "data": {
      "application/javascript": [
       "console.log(\"[195857][INFO][openvisuspy.widgets:716:setDirections] [Slice/0]::setDirections value=[('0', 'X'), ('1', 'Y'), ('2', 'Z')]\");\n"
      ],
      "text/plain": [
       "<IPython.core.display.Javascript object>"
      ]
     },
     "metadata": {},
     "output_type": "display_data"
    },
    {
     "data": {
      "application/javascript": [
       "console.log(\"[195857][INFO][openvisuspy.widgets:287:setLogicToPhysic] [Slice/0]::setLogicToPhysic value=[(0.0, 1.0), (0.0, 1.0), (0.0, 1.0)]\");\n"
      ],
      "text/plain": [
       "<IPython.core.display.Javascript object>"
      ]
     },
     "metadata": {},
     "output_type": "display_data"
    },
    {
     "data": {
      "application/javascript": [
       "console.log(\"[195857][INFO][openvisuspy.widgets:559:setFields] [Slice/0]::setFields value=['data']\");\n"
      ],
      "text/plain": [
       "<IPython.core.display.Javascript object>"
      ]
     },
     "metadata": {},
     "output_type": "display_data"
    },
    {
     "data": {
      "application/javascript": [
       "console.log(\"[195857][INFO][openvisuspy.widgets:568:setField] [Slice/0]::setField value=data\");\n"
      ],
      "text/plain": [
       "<IPython.core.display.Javascript object>"
      ]
     },
     "metadata": {},
     "output_type": "display_data"
    },
    {
     "data": {
      "application/javascript": [
       "console.log(\"[195857][INFO][openvisuspy.widgets:727:setDirection] [Slice/0]::setDirection value=2\");\n"
      ],
      "text/plain": [
       "<IPython.core.display.Javascript object>"
      ]
     },
     "metadata": {},
     "output_type": "display_data"
    },
    {
     "data": {
      "application/javascript": [
       "console.log(\"[195857][INFO][openvisuspy.widgets:771:setOffsetStartEndStep] [Slice/0]::setOffsetStartEndStep value=[0, 977, 1]\");\n"
      ],
      "text/plain": [
       "<IPython.core.display.Javascript object>"
      ]
     },
     "metadata": {},
     "output_type": "display_data"
    },
    {
     "data": {
      "application/javascript": [
       "console.log(\"[195857][INFO][openvisuspy.widgets:782:setOffset] [Slice/0]::setOffset new-value=489 old-value=0 A\");\n"
      ],
      "text/plain": [
       "<IPython.core.display.Javascript object>"
      ]
     },
     "metadata": {},
     "output_type": "display_data"
    },
    {
     "data": {
      "application/javascript": [
       "console.log(\"[195857][INFO][openvisuspy.widgets:782:setOffset] [Slice/0]::setOffset new-value=489 old-value=489 A\");\n"
      ],
      "text/plain": [
       "<IPython.core.display.Javascript object>"
      ]
     },
     "metadata": {},
     "output_type": "display_data"
    },
    {
     "data": {
      "application/javascript": [
       "console.log(\"[195857][INFO][openvisuspy.widgets:786:setOffset] [Slice/0]::setOffset value=489 B\");\n"
      ],
      "text/plain": [
       "<IPython.core.display.Javascript object>"
      ]
     },
     "metadata": {},
     "output_type": "display_data"
    },
    {
     "data": {
      "application/javascript": [
       "console.log(\"[195857][INFO][openvisuspy.widgets:786:setOffset] [Slice/0]::setOffset value=489 B\");\n"
      ],
      "text/plain": [
       "<IPython.core.display.Javascript object>"
      ]
     },
     "metadata": {},
     "output_type": "display_data"
    },
    {
     "data": {
      "application/javascript": [
       "console.log(\"[195857][INFO][openvisuspy.slice:130:setQueryLogicBox] [Slice/0]::setQueryLogicBox value=([0, 0, 0], [1003, 1003, 978])\");\n"
      ],
      "text/plain": [
       "<IPython.core.display.Javascript object>"
      ]
     },
     "metadata": {},
     "output_type": "display_data"
    },
    {
     "data": {
      "application/javascript": [
       "console.log(\"[195857][INFO][openvisuspy.canvas:129:setViewport] setViewport 0.0 0.0 1003.0 1003.0 W=0 H=0\");\n"
      ],
      "text/plain": [
       "<IPython.core.display.Javascript object>"
      ]
     },
     "metadata": {},
     "output_type": "display_data"
    },
    {
     "data": {
      "application/javascript": [
       "console.log(\"[195857][INFO][openvisuspy.widgets:581:setPalette] [Slice/0]::setPalette value=Viridis256\");\n"
      ],
      "text/plain": [
       "<IPython.core.display.Javascript object>"
      ]
     },
     "metadata": {},
     "output_type": "display_data"
    },
    {
     "data": {
      "application/javascript": [
       "console.log(\"[195857][INFO][openvisuspy.widgets:606:setPaletteRangeMode] [Slice/0]::setPaletteRangeMode mode=dynamic \");\n"
      ],
      "text/plain": [
       "<IPython.core.display.Javascript object>"
      ]
     },
     "metadata": {},
     "output_type": "display_data"
    },
    {
     "data": {
      "application/javascript": [
       "console.log(\"[195857][INFO][openvisuspy.widgets:606:setPaletteRangeMode] [Slice/0]::setPaletteRangeMode mode=dynamic \");\n"
      ],
      "text/plain": [
       "<IPython.core.display.Javascript object>"
      ]
     },
     "metadata": {},
     "output_type": "display_data"
    },
    {
     "data": {
      "application/javascript": [
       "console.log(\"[195857][INFO][openvisuspy.widgets:655:setColorMapperType] [Slice/0]::setColorMapperType value=linear\");\n"
      ],
      "text/plain": [
       "<IPython.core.display.Javascript object>"
      ]
     },
     "metadata": {},
     "output_type": "display_data"
    },
    {
     "data": {
      "application/javascript": [
       "console.log(\"[195857][INFO][openvisuspy.widgets:655:setColorMapperType] [Slice/0]::setColorMapperType value=linear\");\n"
      ],
      "text/plain": [
       "<IPython.core.display.Javascript object>"
      ]
     },
     "metadata": {},
     "output_type": "display_data"
    },
    {
     "data": {
      "application/javascript": [
       "console.log(\"[195857][INFO][openvisuspy.widgets:704:setViewDependent] [Slice/0]::setViewDependent value=True\");\n"
      ],
      "text/plain": [
       "<IPython.core.display.Javascript object>"
      ]
     },
     "metadata": {},
     "output_type": "display_data"
    },
    {
     "data": {
      "application/javascript": [
       "console.log(\"[195857][INFO][openvisuspy.widgets:704:setViewDependent] [Slice/0]::setViewDependent value=1\");\n"
      ],
      "text/plain": [
       "<IPython.core.display.Javascript object>"
      ]
     },
     "metadata": {},
     "output_type": "display_data"
    },
    {
     "data": {
      "application/javascript": [
       "console.log(\"[195857][INFO][openvisuspy.widgets:692:setQuality] [Slice/0]::setQuality value=0\");\n"
      ],
      "text/plain": [
       "<IPython.core.display.Javascript object>"
      ]
     },
     "metadata": {},
     "output_type": "display_data"
    },
    {
     "data": {
      "application/javascript": [
       "console.log(\"[195857][INFO][openvisuspy.widgets:680:setNumberOfRefinements] [Slice/0]::setNumberOfRefinements value=2\");\n"
      ],
      "text/plain": [
       "<IPython.core.display.Javascript object>"
      ]
     },
     "metadata": {},
     "output_type": "display_data"
    },
    {
     "data": {
      "application/javascript": [
       "console.log(\"[195857][INFO][openvisuspy.widgets:680:setNumberOfRefinements] [Slice/0]::setNumberOfRefinements value=2\");\n"
      ],
      "text/plain": [
       "<IPython.core.display.Javascript object>"
      ]
     },
     "metadata": {},
     "output_type": "display_data"
    },
    {
     "data": {
      "application/javascript": [
       "console.log(\"[195857][INFO][openvisuspy.widgets:727:setDirection] [Slice/0]::setDirection value=2\");\n"
      ],
      "text/plain": [
       "<IPython.core.display.Javascript object>"
      ]
     },
     "metadata": {},
     "output_type": "display_data"
    },
    {
     "data": {
      "application/javascript": [
       "console.log(\"[195857][INFO][openvisuspy.widgets:771:setOffsetStartEndStep] [Slice/0]::setOffsetStartEndStep value=[0, 977, 1]\");\n"
      ],
      "text/plain": [
       "<IPython.core.display.Javascript object>"
      ]
     },
     "metadata": {},
     "output_type": "display_data"
    },
    {
     "data": {
      "application/javascript": [
       "console.log(\"[195857][INFO][openvisuspy.widgets:782:setOffset] [Slice/0]::setOffset new-value=489 old-value=489 A\");\n"
      ],
      "text/plain": [
       "<IPython.core.display.Javascript object>"
      ]
     },
     "metadata": {},
     "output_type": "display_data"
    },
    {
     "data": {
      "application/javascript": [
       "console.log(\"[195857][INFO][openvisuspy.widgets:786:setOffset] [Slice/0]::setOffset value=489 B\");\n"
      ],
      "text/plain": [
       "<IPython.core.display.Javascript object>"
      ]
     },
     "metadata": {},
     "output_type": "display_data"
    },
    {
     "data": {
      "application/javascript": [
       "console.log(\"[195857][INFO][openvisuspy.slice:130:setQueryLogicBox] [Slice/0]::setQueryLogicBox value=([0, 0, 0], [1003, 1003, 978])\");\n"
      ],
      "text/plain": [
       "<IPython.core.display.Javascript object>"
      ]
     },
     "metadata": {},
     "output_type": "display_data"
    },
    {
     "data": {
      "application/javascript": [
       "console.log(\"[195857][INFO][openvisuspy.canvas:129:setViewport] setViewport 0.0 0.0 1003.0 1003.0 W=0 H=0\");\n"
      ],
      "text/plain": [
       "<IPython.core.display.Javascript object>"
      ]
     },
     "metadata": {},
     "output_type": "display_data"
    },
    {
     "data": {
      "application/javascript": [
       "console.log(\"[195857][INFO][openvisuspy.widgets:581:setPalette] [Slice/0]::setPalette value=Greys256\");\n"
      ],
      "text/plain": [
       "<IPython.core.display.Javascript object>"
      ]
     },
     "metadata": {},
     "output_type": "display_data"
    },
    {
     "data": {
      "application/javascript": [
       "console.log(\"[195857][INFO][openvisuspy.widgets:581:setPalette] [Slice/0]::setPalette value=Greys256\");\n"
      ],
      "text/plain": [
       "<IPython.core.display.Javascript object>"
      ]
     },
     "metadata": {},
     "output_type": "display_data"
    },
    {
     "data": {
      "application/javascript": [
       "console.log(\"[195857][INFO][openvisuspy.widgets:546:setTimestep] [Slice/0]::setTimestep value=0 A\");\n"
      ],
      "text/plain": [
       "<IPython.core.display.Javascript object>"
      ]
     },
     "metadata": {},
     "output_type": "display_data"
    },
    {
     "data": {
      "application/javascript": [
       "console.log(\"[195857][INFO][openvisuspy.widgets:548:setTimestep] [Slice/0]::setTimestep value=0 B\");\n"
      ],
      "text/plain": [
       "<IPython.core.display.Javascript object>"
      ]
     },
     "metadata": {},
     "output_type": "display_data"
    },
    {
     "data": {
      "application/javascript": [
       "console.log(\"[195857][INFO][openvisuspy.widgets:568:setField] [Slice/0]::setField value=data\");\n"
      ],
      "text/plain": [
       "<IPython.core.display.Javascript object>"
      ]
     },
     "metadata": {},
     "output_type": "display_data"
    },
    {
     "data": {
      "application/javascript": [
       "console.log(\"[195857][INFO][openvisuspy.backend_cpp:138:_threadLoop] entering _threadLoop ...\");\n"
      ],
      "text/plain": [
       "<IPython.core.display.Javascript object>"
      ]
     },
     "metadata": {},
     "output_type": "display_data"
    },
    {
     "data": {
      "application/javascript": [
       "console.log(\"[195857][INFO][openvisuspy.backend_cpp:144:_threadLoop] _threadLoop is Alive\");\n"
      ],
      "text/plain": [
       "<IPython.core.display.Javascript object>"
      ]
     },
     "metadata": {},
     "output_type": "display_data"
    },
    {
     "data": {
      "application/javascript": [
       "console.log(\"[195857][INFO][openvisuspy.widgets:727:setDirection] [Slice/0]::setDirection value=2\");\n"
      ],
      "text/plain": [
       "<IPython.core.display.Javascript object>"
      ]
     },
     "metadata": {},
     "output_type": "display_data"
    },
    {
     "data": {
      "application/javascript": [
       "console.log(\"[195857][INFO][openvisuspy.widgets:771:setOffsetStartEndStep] [Slice/0]::setOffsetStartEndStep value=[0, 977, 1]\");\n"
      ],
      "text/plain": [
       "<IPython.core.display.Javascript object>"
      ]
     },
     "metadata": {},
     "output_type": "display_data"
    },
    {
     "data": {
      "application/javascript": [
       "console.log(\"[195857][INFO][openvisuspy.widgets:782:setOffset] [Slice/0]::setOffset new-value=489 old-value=489 A\");\n"
      ],
      "text/plain": [
       "<IPython.core.display.Javascript object>"
      ]
     },
     "metadata": {},
     "output_type": "display_data"
    },
    {
     "data": {
      "application/javascript": [
       "console.log(\"[195857][INFO][openvisuspy.widgets:786:setOffset] [Slice/0]::setOffset value=489 B\");\n"
      ],
      "text/plain": [
       "<IPython.core.display.Javascript object>"
      ]
     },
     "metadata": {},
     "output_type": "display_data"
    },
    {
     "data": {
      "application/javascript": [
       "console.log(\"[195857][INFO][openvisuspy.slice:130:setQueryLogicBox] [Slice/0]::setQueryLogicBox value=([0, 0, 0], [1003, 1003, 978])\");\n"
      ],
      "text/plain": [
       "<IPython.core.display.Javascript object>"
      ]
     },
     "metadata": {},
     "output_type": "display_data"
    },
    {
     "data": {
      "application/javascript": [
       "console.log(\"[195857][INFO][openvisuspy.canvas:129:setViewport] setViewport -170.15178571428567 0.0 1173.1517857142858 1003.0 W=900 H=672\");\n"
      ],
      "text/plain": [
       "<IPython.core.display.Javascript object>"
      ]
     },
     "metadata": {},
     "output_type": "display_data"
    },
    {
     "data": {
      "application/javascript": [
       "console.log(\"[195857][INFO][openvisuspy.widgets:782:setOffset] [Slice/0]::setOffset new-value=489 old-value=489 A\");\n"
      ],
      "text/plain": [
       "<IPython.core.display.Javascript object>"
      ]
     },
     "metadata": {},
     "output_type": "display_data"
    },
    {
     "data": {
      "application/javascript": [
       "console.log(\"[195857][INFO][openvisuspy.widgets:786:setOffset] [Slice/0]::setOffset value=489 B\");\n"
      ],
      "text/plain": [
       "<IPython.core.display.Javascript object>"
      ]
     },
     "metadata": {},
     "output_type": "display_data"
    },
    {
     "data": {
      "application/javascript": [
       "console.log(\"[195857][INFO][openvisuspy.slice:237:pushJobIfNeeded] [Slice/0] pushing new job query_logic_box=[[-170.15178571428567, 0.0, 489], [1173.1517857142858, 1003.0, 490]]...\");\n"
      ],
      "text/plain": [
       "<IPython.core.display.Javascript object>"
      ]
     },
     "metadata": {},
     "output_type": "display_data"
    },
    {
     "data": {
      "application/javascript": [
       "console.log(\"[195857][INFO][openvisuspy.slice:280:pushJobIfNeeded] [Slice/0] pushed new job query_logic_box=[[-170.15178571428567, 0.0, 489], [1173.1517857142858, 1003.0, 490]]\");\n"
      ],
      "text/plain": [
       "<IPython.core.display.Javascript object>"
      ]
     },
     "metadata": {},
     "output_type": "display_data"
    },
    {
     "data": {
      "application/javascript": [
       "console.log(\"[195857][INFO][openvisuspy.backend_cpp:76:createBoxQuery] begin timestep=0 field=data logic_box=[[-170.15178571428567, 0.0, 489], [1173.1517857142858, 1003.0, 490]] num_refinements=2 max_pixels=604800 endh=30\");\n"
      ],
      "text/plain": [
       "<IPython.core.display.Javascript object>"
      ]
     },
     "metadata": {},
     "output_type": "display_data"
    },
    {
     "data": {
      "application/javascript": [
       "console.log(\"[195857][INFO][openvisuspy.backend_cpp:112:createBoxQuery] Guess resolution endh=28 original_box=([0, 0, 489], [1003, 1003, 490]) aligned_box=([0, 0, 488], [1003, 1002, 489]) delta=[1, 2, 2] num_pixels=[1003, 501, 1] tot_pixels=502,503 max_pixels=604,800 end=28\");\n"
      ],
      "text/plain": [
       "<IPython.core.display.Javascript object>"
      ]
     },
     "metadata": {},
     "output_type": "display_data"
    },
    {
     "data": {
      "application/javascript": [
       "console.log(\"[195857][INFO][openvisuspy.backend_cpp:140:beginBoxQuery] beginBoxQuery timestep=0 field=data logic_box=[[0, 0, 488], [1003, 1002, 489]] end_resolutions=[25, 28]\");\n"
      ],
      "text/plain": [
       "<IPython.core.display.Javascript object>"
      ]
     },
     "metadata": {},
     "output_type": "display_data"
    },
    {
     "data": {
      "application/javascript": [
       "console.log(\"[195857][INFO][openvisuspy.backend_cpp:170:returnBoxQueryData] got data 0/[25, 28] timestep=0 field=data H=25 data.shape=(251, 502) data.dtype=uint16 logic_box=[[0, 0, 488], [1003, 1002, 489]] m=0 M=59313 ms=62\");\n"
      ],
      "text/plain": [
       "<IPython.core.display.Javascript object>"
      ]
     },
     "metadata": {},
     "output_type": "display_data"
    },
    {
     "data": {
      "application/javascript": [
       "console.log(\"[195857][INFO][openvisuspy.slice:212:renderResultIfNeeded] [Slice/0]::rendering result data.shape=(251, 502) data.dtype=uint16 logic_box=[[0, 0, 488], [1003, 1002, 489]] data-range=(0, 59313) palette-range=[0.0, 59313.0]\");\n"
      ],
      "text/plain": [
       "<IPython.core.display.Javascript object>"
      ]
     },
     "metadata": {},
     "output_type": "display_data"
    },
    {
     "data": {
      "application/javascript": [
       "console.log(\"[195857][INFO][openvisuspy.widgets:727:setDirection] [Slice/0]::setDirection value=2\");\n"
      ],
      "text/plain": [
       "<IPython.core.display.Javascript object>"
      ]
     },
     "metadata": {},
     "output_type": "display_data"
    },
    {
     "data": {
      "application/javascript": [
       "console.log(\"[195857][INFO][openvisuspy.widgets:771:setOffsetStartEndStep] [Slice/0]::setOffsetStartEndStep value=[0, 977, 1]\");\n"
      ],
      "text/plain": [
       "<IPython.core.display.Javascript object>"
      ]
     },
     "metadata": {},
     "output_type": "display_data"
    },
    {
     "data": {
      "application/javascript": [
       "console.log(\"[195857][INFO][openvisuspy.widgets:782:setOffset] [Slice/0]::setOffset new-value=489 old-value=489 A\");\n"
      ],
      "text/plain": [
       "<IPython.core.display.Javascript object>"
      ]
     },
     "metadata": {},
     "output_type": "display_data"
    },
    {
     "data": {
      "application/javascript": [
       "console.log(\"[195857][INFO][openvisuspy.widgets:786:setOffset] [Slice/0]::setOffset value=489 B\");\n"
      ],
      "text/plain": [
       "<IPython.core.display.Javascript object>"
      ]
     },
     "metadata": {},
     "output_type": "display_data"
    },
    {
     "data": {
      "application/javascript": [
       "console.log(\"[195857][INFO][openvisuspy.slice:130:setQueryLogicBox] [Slice/0]::setQueryLogicBox value=([0, 0, 0], [1003, 1003, 978])\");\n"
      ],
      "text/plain": [
       "<IPython.core.display.Javascript object>"
      ]
     },
     "metadata": {},
     "output_type": "display_data"
    },
    {
     "data": {
      "application/javascript": [
       "console.log(\"[195857][INFO][openvisuspy.backend_cpp:76:printStatistics] Stats::printStatistics enlapsed=0.24699902534484863 seconds\");\n"
      ],
      "text/plain": [
       "<IPython.core.display.Javascript object>"
      ]
     },
     "metadata": {},
     "output_type": "display_data"
    },
    {
     "data": {
      "application/javascript": [
       "console.log(\"[195857][INFO][openvisuspy.canvas:129:setViewport] setViewport -146.0454545454545 0.0 1149.0454545454545 1003.0 W=838 H=649\");\n"
      ],
      "text/plain": [
       "<IPython.core.display.Javascript object>"
      ]
     },
     "metadata": {},
     "output_type": "display_data"
    },
    {
     "data": {
      "application/javascript": [
       "console.log(\"[195857][INFO][openvisuspy.widgets:782:setOffset] [Slice/0]::setOffset new-value=489 old-value=489 A\");\n"
      ],
      "text/plain": [
       "<IPython.core.display.Javascript object>"
      ]
     },
     "metadata": {},
     "output_type": "display_data"
    },
    {
     "data": {
      "application/javascript": [
       "console.log(\"[195857][INFO][openvisuspy.widgets:786:setOffset] [Slice/0]::setOffset value=489 B\");\n"
      ],
      "text/plain": [
       "<IPython.core.display.Javascript object>"
      ]
     },
     "metadata": {},
     "output_type": "display_data"
    },
    {
     "data": {
      "application/javascript": [
       "console.log(\"[195857][INFO][openvisuspy.slice:237:pushJobIfNeeded] [Slice/0] pushing new job query_logic_box=[[-146.0454545454545, 0.0, 489], [1149.0454545454545, 1003.0, 490]]...\");\n"
      ],
      "text/plain": [
       "<IPython.core.display.Javascript object>"
      ]
     },
     "metadata": {},
     "output_type": "display_data"
    },
    {
     "data": {
      "application/javascript": [
       "console.log(\"[195857][INFO][openvisuspy.slice:280:pushJobIfNeeded] [Slice/0] pushed new job query_logic_box=[[-146.0454545454545, 0.0, 489], [1149.0454545454545, 1003.0, 490]]\");\n"
      ],
      "text/plain": [
       "<IPython.core.display.Javascript object>"
      ]
     },
     "metadata": {},
     "output_type": "display_data"
    },
    {
     "data": {
      "application/javascript": [
       "console.log(\"[195857][INFO][openvisuspy.backend_cpp:76:createBoxQuery] begin timestep=0 field=data logic_box=[[-146.0454545454545, 0.0, 489], [1149.0454545454545, 1003.0, 490]] num_refinements=2 max_pixels=543862 endh=30\");\n"
      ],
      "text/plain": [
       "<IPython.core.display.Javascript object>"
      ]
     },
     "metadata": {},
     "output_type": "display_data"
    },
    {
     "data": {
      "application/javascript": [
       "console.log(\"[195857][INFO][openvisuspy.backend_cpp:112:createBoxQuery] Guess resolution endh=28 original_box=([0, 0, 489], [1003, 1003, 490]) aligned_box=([0, 0, 488], [1003, 1002, 489]) delta=[1, 2, 2] num_pixels=[1003, 501, 1] tot_pixels=502,503 max_pixels=543,862 end=28\");\n"
      ],
      "text/plain": [
       "<IPython.core.display.Javascript object>"
      ]
     },
     "metadata": {},
     "output_type": "display_data"
    },
    {
     "data": {
      "application/javascript": [
       "console.log(\"[195857][INFO][openvisuspy.backend_cpp:140:beginBoxQuery] beginBoxQuery timestep=0 field=data logic_box=[[0, 0, 488], [1003, 1002, 489]] end_resolutions=[25, 28]\");\n"
      ],
      "text/plain": [
       "<IPython.core.display.Javascript object>"
      ]
     },
     "metadata": {},
     "output_type": "display_data"
    },
    {
     "data": {
      "application/javascript": [
       "console.log(\"[195857][INFO][openvisuspy.backend_cpp:170:returnBoxQueryData] got data 0/[25, 28] timestep=0 field=data H=25 data.shape=(251, 502) data.dtype=uint16 logic_box=[[0, 0, 488], [1003, 1002, 489]] m=0 M=59313 ms=57\");\n"
      ],
      "text/plain": [
       "<IPython.core.display.Javascript object>"
      ]
     },
     "metadata": {},
     "output_type": "display_data"
    },
    {
     "data": {
      "application/javascript": [
       "console.log(\"[195857][INFO][openvisuspy.slice:212:renderResultIfNeeded] [Slice/0]::rendering result data.shape=(251, 502) data.dtype=uint16 logic_box=[[0, 0, 488], [1003, 1002, 489]] data-range=(0, 59313) palette-range=[0.0, 59313.0]\");\n"
      ],
      "text/plain": [
       "<IPython.core.display.Javascript object>"
      ]
     },
     "metadata": {},
     "output_type": "display_data"
    },
    {
     "data": {
      "application/javascript": [
       "console.log(\"[195858][INFO][openvisuspy.backend_cpp:170:returnBoxQueryData] got data 1/[25, 28] timestep=0 field=data H=28 data.shape=(501, 1003) data.dtype=uint16 logic_box=[[0, 0, 488], [1003, 1002, 489]] m=0 M=60124 ms=551\");\n"
      ],
      "text/plain": [
       "<IPython.core.display.Javascript object>"
      ]
     },
     "metadata": {},
     "output_type": "display_data"
    },
    {
     "data": {
      "application/javascript": [
       "console.log(\"[195858][INFO][openvisuspy.backend_cpp:76:printStatistics] Stats::printStatistics enlapsed=0.5650107860565186 seconds\");\n"
      ],
      "text/plain": [
       "<IPython.core.display.Javascript object>"
      ]
     },
     "metadata": {},
     "output_type": "display_data"
    },
    {
     "data": {
      "application/javascript": [
       "console.log(\"[195858][INFO][openvisuspy.slice:212:renderResultIfNeeded] [Slice/0]::rendering result data.shape=(501, 1003) data.dtype=uint16 logic_box=[[0, 0, 488], [1003, 1002, 489]] data-range=(0, 60124) palette-range=[0.0, 60124.0]\");\n"
      ],
      "text/plain": [
       "<IPython.core.display.Javascript object>"
      ]
     },
     "metadata": {},
     "output_type": "display_data"
    },
    {
     "data": {
      "application/javascript": [
       "console.log(\"[195859][INFO][openvisuspy.slice:237:pushJobIfNeeded] [Slice/0] pushing new job query_logic_box=[[-28.811823064630637, 96.1687797777581, 489], [1050.4306011777935, 932.0021131110913, 490]]...\");\n"
      ],
      "text/plain": [
       "<IPython.core.display.Javascript object>"
      ]
     },
     "metadata": {},
     "output_type": "display_data"
    },
    {
     "data": {
      "application/javascript": [
       "console.log(\"[195859][INFO][openvisuspy.slice:280:pushJobIfNeeded] [Slice/0] pushed new job query_logic_box=[[-28.811823064630637, 96.1687797777581, 489], [1050.4306011777935, 932.0021131110913, 490]]\");\n"
      ],
      "text/plain": [
       "<IPython.core.display.Javascript object>"
      ]
     },
     "metadata": {},
     "output_type": "display_data"
    },
    {
     "data": {
      "application/javascript": [
       "console.log(\"[195859][INFO][openvisuspy.backend_cpp:76:createBoxQuery] begin timestep=0 field=data logic_box=[[-28.811823064630637, 96.1687797777581, 489], [1050.4306011777935, 932.0021131110913, 490]] num_refinements=2 max_pixels=543862 endh=30\");\n"
      ],
      "text/plain": [
       "<IPython.core.display.Javascript object>"
      ]
     },
     "metadata": {},
     "output_type": "display_data"
    },
    {
     "data": {
      "application/javascript": [
       "console.log(\"[195859][INFO][openvisuspy.backend_cpp:112:createBoxQuery] Guess resolution endh=28 original_box=([0, 96, 489], [1003, 933, 490]) aligned_box=([0, 96, 488], [1003, 932, 489]) delta=[1, 2, 2] num_pixels=[1003, 418, 1] tot_pixels=419,254 max_pixels=543,862 end=28\");\n"
      ],
      "text/plain": [
       "<IPython.core.display.Javascript object>"
      ]
     },
     "metadata": {},
     "output_type": "display_data"
    },
    {
     "data": {
      "application/javascript": [
       "console.log(\"[195859][INFO][openvisuspy.backend_cpp:140:beginBoxQuery] beginBoxQuery timestep=0 field=data logic_box=[[0, 96, 488], [1003, 932, 489]] end_resolutions=[25, 28]\");\n"
      ],
      "text/plain": [
       "<IPython.core.display.Javascript object>"
      ]
     },
     "metadata": {},
     "output_type": "display_data"
    },
    {
     "data": {
      "application/javascript": [
       "console.log(\"[195859][INFO][openvisuspy.slice:237:pushJobIfNeeded] [Slice/0] pushing new job query_logic_box=[[69.46708105268898, 176.3094295925565, 489], [968.8357679213759, 872.8372073703341, 490]]...\");\n"
      ],
      "text/plain": [
       "<IPython.core.display.Javascript object>"
      ]
     },
     "metadata": {},
     "output_type": "display_data"
    },
    {
     "data": {
      "application/javascript": [
       "console.log(\"[195859][INFO][openvisuspy.backend_cpp:76:printStatistics] Stats::printStatistics enlapsed=0.03500556945800781 seconds\");\n"
      ],
      "text/plain": [
       "<IPython.core.display.Javascript object>"
      ]
     },
     "metadata": {},
     "output_type": "display_data"
    },
    {
     "data": {
      "application/javascript": [
       "console.log(\"[195859][INFO][openvisuspy.slice:280:pushJobIfNeeded] [Slice/0] pushed new job query_logic_box=[[69.46708105268898, 176.3094295925565, 489], [968.8357679213759, 872.8372073703341, 490]]\");\n"
      ],
      "text/plain": [
       "<IPython.core.display.Javascript object>"
      ]
     },
     "metadata": {},
     "output_type": "display_data"
    },
    {
     "data": {
      "application/javascript": [
       "console.log(\"[195859][INFO][openvisuspy.backend_cpp:76:createBoxQuery] begin timestep=0 field=data logic_box=[[69.46708105268898, 176.3094295925565, 489], [968.8357679213759, 872.8372073703341, 490]] num_refinements=2 max_pixels=543862 endh=30\");\n"
      ],
      "text/plain": [
       "<IPython.core.display.Javascript object>"
      ]
     },
     "metadata": {},
     "output_type": "display_data"
    },
    {
     "data": {
      "application/javascript": [
       "console.log(\"[195859][INFO][openvisuspy.backend_cpp:112:createBoxQuery] Guess resolution endh=28 original_box=([69, 176, 489], [969, 873, 490]) aligned_box=([69, 176, 488], [969, 872, 489]) delta=[1, 2, 2] num_pixels=[900, 348, 1] tot_pixels=313,200 max_pixels=543,862 end=28\");\n"
      ],
      "text/plain": [
       "<IPython.core.display.Javascript object>"
      ]
     },
     "metadata": {},
     "output_type": "display_data"
    },
    {
     "data": {
      "application/javascript": [
       "console.log(\"[195859][INFO][openvisuspy.backend_cpp:140:beginBoxQuery] beginBoxQuery timestep=0 field=data logic_box=[[69, 176, 488], [969, 872, 489]] end_resolutions=[25, 28]\");\n"
      ],
      "text/plain": [
       "<IPython.core.display.Javascript object>"
      ]
     },
     "metadata": {},
     "output_type": "display_data"
    },
    {
     "data": {
      "application/javascript": [
       "console.log(\"[195859][INFO][openvisuspy.slice:237:pushJobIfNeeded] [Slice/0] pushing new job query_logic_box=[[151.366167817122, 243.09330443822188, 489], [900.8400735410279, 823.5331192530365, 490]]...\");\n"
      ],
      "text/plain": [
       "<IPython.core.display.Javascript object>"
      ]
     },
     "metadata": {},
     "output_type": "display_data"
    },
    {
     "data": {
      "application/javascript": [
       "console.log(\"[195859][INFO][openvisuspy.backend_cpp:76:printStatistics] Stats::printStatistics enlapsed=0.037987709045410156 seconds\");\n"
      ],
      "text/plain": [
       "<IPython.core.display.Javascript object>"
      ]
     },
     "metadata": {},
     "output_type": "display_data"
    },
    {
     "data": {
      "application/javascript": [
       "console.log(\"[195859][INFO][openvisuspy.slice:280:pushJobIfNeeded] [Slice/0] pushed new job query_logic_box=[[151.366167817122, 243.09330443822188, 489], [900.8400735410279, 823.5331192530365, 490]]\");\n"
      ],
      "text/plain": [
       "<IPython.core.display.Javascript object>"
      ]
     },
     "metadata": {},
     "output_type": "display_data"
    },
    {
     "data": {
      "application/javascript": [
       "console.log(\"[195859][INFO][openvisuspy.backend_cpp:76:createBoxQuery] begin timestep=0 field=data logic_box=[[151.366167817122, 243.09330443822188, 489], [900.8400735410279, 823.5331192530365, 490]] num_refinements=2 max_pixels=543862 endh=30\");\n"
      ],
      "text/plain": [
       "<IPython.core.display.Javascript object>"
      ]
     },
     "metadata": {},
     "output_type": "display_data"
    },
    {
     "data": {
      "application/javascript": [
       "console.log(\"[195859][INFO][openvisuspy.backend_cpp:112:createBoxQuery] Guess resolution endh=30 original_box=([151, 243, 489], [901, 824, 490]) aligned_box=([151, 243, 489], [901, 824, 490]) delta=[1, 1, 1] num_pixels=[750, 581, 1] tot_pixels=435,750 max_pixels=543,862 end=30\");\n"
      ],
      "text/plain": [
       "<IPython.core.display.Javascript object>"
      ]
     },
     "metadata": {},
     "output_type": "display_data"
    },
    {
     "data": {
      "application/javascript": [
       "console.log(\"[195859][INFO][openvisuspy.backend_cpp:140:beginBoxQuery] beginBoxQuery timestep=0 field=data logic_box=[[151, 243, 489], [901, 824, 490]] end_resolutions=[27, 30]\");\n"
      ],
      "text/plain": [
       "<IPython.core.display.Javascript object>"
      ]
     },
     "metadata": {},
     "output_type": "display_data"
    },
    {
     "data": {
      "application/javascript": [
       "console.log(\"[195859][INFO][openvisuspy.slice:237:pushJobIfNeeded] [Slice/0] pushing new job query_logic_box=[[219.61540678748287, 298.7465334762763, 489], [844.1769948907379, 782.4463791552884, 490]]...\");\n"
      ],
      "text/plain": [
       "<IPython.core.display.Javascript object>"
      ]
     },
     "metadata": {},
     "output_type": "display_data"
    },
    {
     "data": {
      "application/javascript": [
       "console.log(\"[195859][INFO][openvisuspy.backend_cpp:76:printStatistics] Stats::printStatistics enlapsed=0.24000024795532227 seconds\");\n"
      ],
      "text/plain": [
       "<IPython.core.display.Javascript object>"
      ]
     },
     "metadata": {},
     "output_type": "display_data"
    },
    {
     "data": {
      "application/javascript": [
       "console.log(\"[195859][INFO][openvisuspy.slice:280:pushJobIfNeeded] [Slice/0] pushed new job query_logic_box=[[219.61540678748287, 298.7465334762763, 489], [844.1769948907379, 782.4463791552884, 490]]\");\n"
      ],
      "text/plain": [
       "<IPython.core.display.Javascript object>"
      ]
     },
     "metadata": {},
     "output_type": "display_data"
    },
    {
     "data": {
      "application/javascript": [
       "console.log(\"[195859][INFO][openvisuspy.backend_cpp:76:createBoxQuery] begin timestep=0 field=data logic_box=[[219.61540678748287, 298.7465334762763, 489], [844.1769948907379, 782.4463791552884, 490]] num_refinements=2 max_pixels=543862 endh=30\");\n"
      ],
      "text/plain": [
       "<IPython.core.display.Javascript object>"
      ]
     },
     "metadata": {},
     "output_type": "display_data"
    },
    {
     "data": {
      "application/javascript": [
       "console.log(\"[195859][INFO][openvisuspy.backend_cpp:112:createBoxQuery] Guess resolution endh=30 original_box=([219, 298, 489], [845, 783, 490]) aligned_box=([219, 298, 489], [845, 783, 490]) delta=[1, 1, 1] num_pixels=[626, 485, 1] tot_pixels=303,610 max_pixels=543,862 end=30\");\n"
      ],
      "text/plain": [
       "<IPython.core.display.Javascript object>"
      ]
     },
     "metadata": {},
     "output_type": "display_data"
    },
    {
     "data": {
      "application/javascript": [
       "console.log(\"[195859][INFO][openvisuspy.backend_cpp:140:beginBoxQuery] beginBoxQuery timestep=0 field=data logic_box=[[219, 298, 489], [845, 783, 490]] end_resolutions=[27, 30]\");\n"
      ],
      "text/plain": [
       "<IPython.core.display.Javascript object>"
      ]
     },
     "metadata": {},
     "output_type": "display_data"
    },
    {
     "data": {
      "application/javascript": [
       "console.log(\"[195859][INFO][openvisuspy.slice:237:pushJobIfNeeded] [Slice/0] pushing new job query_logic_box=[[276.4897725961169, 345.1242243413217, 489], [796.9577626821628, 748.2074290738317, 490]]...\");\n"
      ],
      "text/plain": [
       "<IPython.core.display.Javascript object>"
      ]
     },
     "metadata": {},
     "output_type": "display_data"
    },
    {
     "data": {
      "application/javascript": [
       "console.log(\"[195859][INFO][openvisuspy.slice:280:pushJobIfNeeded] [Slice/0] pushed new job query_logic_box=[[276.4897725961169, 345.1242243413217, 489], [796.9577626821628, 748.2074290738317, 490]]\");\n"
      ],
      "text/plain": [
       "<IPython.core.display.Javascript object>"
      ]
     },
     "metadata": {},
     "output_type": "display_data"
    },
    {
     "data": {
      "application/javascript": [
       "console.log(\"[195859][INFO][openvisuspy.backend_cpp:76:printStatistics] Stats::printStatistics enlapsed=0.03300189971923828 seconds\");\n"
      ],
      "text/plain": [
       "<IPython.core.display.Javascript object>"
      ]
     },
     "metadata": {},
     "output_type": "display_data"
    },
    {
     "data": {
      "application/javascript": [
       "console.log(\"[195859][INFO][openvisuspy.backend_cpp:76:createBoxQuery] begin timestep=0 field=data logic_box=[[276.4897725961169, 345.1242243413217, 489], [796.9577626821628, 748.2074290738317, 490]] num_refinements=2 max_pixels=543862 endh=30\");\n"
      ],
      "text/plain": [
       "<IPython.core.display.Javascript object>"
      ]
     },
     "metadata": {},
     "output_type": "display_data"
    },
    {
     "data": {
      "application/javascript": [
       "console.log(\"[195859][INFO][openvisuspy.backend_cpp:112:createBoxQuery] Guess resolution endh=30 original_box=([276, 345, 489], [797, 749, 490]) aligned_box=([276, 345, 489], [797, 749, 490]) delta=[1, 1, 1] num_pixels=[521, 404, 1] tot_pixels=210,484 max_pixels=543,862 end=30\");\n"
      ],
      "text/plain": [
       "<IPython.core.display.Javascript object>"
      ]
     },
     "metadata": {},
     "output_type": "display_data"
    },
    {
     "data": {
      "application/javascript": [
       "console.log(\"[195859][INFO][openvisuspy.backend_cpp:140:beginBoxQuery] beginBoxQuery timestep=0 field=data logic_box=[[276, 345, 489], [797, 749, 490]] end_resolutions=[27, 30]\");\n"
      ],
      "text/plain": [
       "<IPython.core.display.Javascript object>"
      ]
     },
     "metadata": {},
     "output_type": "display_data"
    },
    {
     "data": {
      "application/javascript": [
       "console.log(\"[195900][INFO][openvisuspy.slice:237:pushJobIfNeeded] [Slice/0] pushing new job query_logic_box=[[303.6231749228776, 352.57722658599056, 489], [824.0911650089233, 755.6604313185006, 490]]...\");\n"
      ],
      "text/plain": [
       "<IPython.core.display.Javascript object>"
      ]
     },
     "metadata": {},
     "output_type": "display_data"
    },
    {
     "data": {
      "application/javascript": [
       "console.log(\"[195900][INFO][openvisuspy.backend_cpp:76:printStatistics] Stats::printStatistics enlapsed=0.6900017261505127 seconds\");\n"
      ],
      "text/plain": [
       "<IPython.core.display.Javascript object>"
      ]
     },
     "metadata": {},
     "output_type": "display_data"
    },
    {
     "data": {
      "application/javascript": [
       "console.log(\"[195900][INFO][openvisuspy.slice:280:pushJobIfNeeded] [Slice/0] pushed new job query_logic_box=[[303.6231749228776, 352.57722658599056, 489], [824.0911650089233, 755.6604313185006, 490]]\");\n"
      ],
      "text/plain": [
       "<IPython.core.display.Javascript object>"
      ]
     },
     "metadata": {},
     "output_type": "display_data"
    },
    {
     "data": {
      "application/javascript": [
       "console.log(\"[195900][INFO][openvisuspy.backend_cpp:76:createBoxQuery] begin timestep=0 field=data logic_box=[[303.6231749228776, 352.57722658599056, 489], [824.0911650089233, 755.6604313185006, 490]] num_refinements=2 max_pixels=543862 endh=30\");\n"
      ],
      "text/plain": [
       "<IPython.core.display.Javascript object>"
      ]
     },
     "metadata": {},
     "output_type": "display_data"
    },
    {
     "data": {
      "application/javascript": [
       "console.log(\"[195900][INFO][openvisuspy.backend_cpp:112:createBoxQuery] Guess resolution endh=30 original_box=([303, 352, 489], [825, 756, 490]) aligned_box=([303, 352, 489], [825, 756, 490]) delta=[1, 1, 1] num_pixels=[522, 404, 1] tot_pixels=210,888 max_pixels=543,862 end=30\");\n"
      ],
      "text/plain": [
       "<IPython.core.display.Javascript object>"
      ]
     },
     "metadata": {},
     "output_type": "display_data"
    },
    {
     "data": {
      "application/javascript": [
       "console.log(\"[195900][INFO][openvisuspy.backend_cpp:140:beginBoxQuery] beginBoxQuery timestep=0 field=data logic_box=[[303, 352, 489], [825, 756, 490]] end_resolutions=[27, 30]\");\n"
      ],
      "text/plain": [
       "<IPython.core.display.Javascript object>"
      ]
     },
     "metadata": {},
     "output_type": "display_data"
    },
    {
     "data": {
      "application/javascript": [
       "console.log(\"[195900][INFO][openvisuspy.slice:237:pushJobIfNeeded] [Slice/0] pushing new job query_logic_box=[[327.6732360761427, 360.0302288306595, 489], [848.1412261621884, 763.1134335631696, 490]]...\");\n"
      ],
      "text/plain": [
       "<IPython.core.display.Javascript object>"
      ]
     },
     "metadata": {},
     "output_type": "display_data"
    },
    {
     "data": {
      "application/javascript": [
       "console.log(\"[195900][INFO][openvisuspy.backend_cpp:76:printStatistics] Stats::printStatistics enlapsed=0.023985624313354492 seconds\");\n"
      ],
      "text/plain": [
       "<IPython.core.display.Javascript object>"
      ]
     },
     "metadata": {},
     "output_type": "display_data"
    },
    {
     "data": {
      "application/javascript": [
       "console.log(\"[195900][INFO][openvisuspy.slice:280:pushJobIfNeeded] [Slice/0] pushed new job query_logic_box=[[327.6732360761427, 360.0302288306595, 489], [848.1412261621884, 763.1134335631696, 490]]\");\n"
      ],
      "text/plain": [
       "<IPython.core.display.Javascript object>"
      ]
     },
     "metadata": {},
     "output_type": "display_data"
    },
    {
     "data": {
      "application/javascript": [
       "console.log(\"[195900][INFO][openvisuspy.backend_cpp:76:createBoxQuery] begin timestep=0 field=data logic_box=[[327.6732360761427, 360.0302288306595, 489], [848.1412261621884, 763.1134335631696, 490]] num_refinements=2 max_pixels=543862 endh=30\");\n"
      ],
      "text/plain": [
       "<IPython.core.display.Javascript object>"
      ]
     },
     "metadata": {},
     "output_type": "display_data"
    },
    {
     "data": {
      "application/javascript": [
       "console.log(\"[195900][INFO][openvisuspy.backend_cpp:112:createBoxQuery] Guess resolution endh=30 original_box=([327, 360, 489], [849, 764, 490]) aligned_box=([327, 360, 489], [849, 764, 490]) delta=[1, 1, 1] num_pixels=[522, 404, 1] tot_pixels=210,888 max_pixels=543,862 end=30\");\n"
      ],
      "text/plain": [
       "<IPython.core.display.Javascript object>"
      ]
     },
     "metadata": {},
     "output_type": "display_data"
    },
    {
     "data": {
      "application/javascript": [
       "console.log(\"[195900][INFO][openvisuspy.backend_cpp:140:beginBoxQuery] beginBoxQuery timestep=0 field=data logic_box=[[327, 360, 489], [849, 764, 490]] end_resolutions=[27, 30]\");\n"
      ],
      "text/plain": [
       "<IPython.core.display.Javascript object>"
      ]
     },
     "metadata": {},
     "output_type": "display_data"
    },
    {
     "data": {
      "application/javascript": [
       "console.log(\"[195900][INFO][openvisuspy.slice:237:pushJobIfNeeded] [Slice/0] pushing new job query_logic_box=[[402.2900924747346, 381.1470685238881, 489], [922.7580825607804, 784.2302732563983, 490]]...\");\n"
      ],
      "text/plain": [
       "<IPython.core.display.Javascript object>"
      ]
     },
     "metadata": {},
     "output_type": "display_data"
    },
    {
     "data": {
      "application/javascript": [
       "console.log(\"[195900][INFO][openvisuspy.backend_cpp:76:printStatistics] Stats::printStatistics enlapsed=0.02800440788269043 seconds\");\n"
      ],
      "text/plain": [
       "<IPython.core.display.Javascript object>"
      ]
     },
     "metadata": {},
     "output_type": "display_data"
    },
    {
     "data": {
      "application/javascript": [
       "console.log(\"[195900][INFO][openvisuspy.slice:280:pushJobIfNeeded] [Slice/0] pushed new job query_logic_box=[[402.2900924747346, 381.1470685238881, 489], [922.7580825607804, 784.2302732563983, 490]]\");\n"
      ],
      "text/plain": [
       "<IPython.core.display.Javascript object>"
      ]
     },
     "metadata": {},
     "output_type": "display_data"
    },
    {
     "data": {
      "application/javascript": [
       "console.log(\"[195900][INFO][openvisuspy.backend_cpp:76:createBoxQuery] begin timestep=0 field=data logic_box=[[402.2900924747346, 381.1470685238881, 489], [922.7580825607804, 784.2302732563983, 490]] num_refinements=2 max_pixels=543862 endh=30\");\n"
      ],
      "text/plain": [
       "<IPython.core.display.Javascript object>"
      ]
     },
     "metadata": {},
     "output_type": "display_data"
    },
    {
     "data": {
      "application/javascript": [
       "console.log(\"[195900][INFO][openvisuspy.backend_cpp:112:createBoxQuery] Guess resolution endh=30 original_box=([402, 381, 489], [923, 785, 490]) aligned_box=([402, 381, 489], [923, 785, 490]) delta=[1, 1, 1] num_pixels=[521, 404, 1] tot_pixels=210,484 max_pixels=543,862 end=30\");\n"
      ],
      "text/plain": [
       "<IPython.core.display.Javascript object>"
      ]
     },
     "metadata": {},
     "output_type": "display_data"
    },
    {
     "data": {
      "application/javascript": [
       "console.log(\"[195900][INFO][openvisuspy.backend_cpp:140:beginBoxQuery] beginBoxQuery timestep=0 field=data logic_box=[[402, 381, 489], [923, 785, 490]] end_resolutions=[27, 30]\");\n"
      ],
      "text/plain": [
       "<IPython.core.display.Javascript object>"
      ]
     },
     "metadata": {},
     "output_type": "display_data"
    },
    {
     "data": {
      "application/javascript": [
       "console.log(\"[195900][INFO][openvisuspy.slice:237:pushJobIfNeeded] [Slice/0] pushing new job query_logic_box=[[451.62355125066307, 394.18982245205876, 489], [972.0915413367088, 797.273027184569, 490]]...\");\n"
      ],
      "text/plain": [
       "<IPython.core.display.Javascript object>"
      ]
     },
     "metadata": {},
     "output_type": "display_data"
    },
    {
     "data": {
      "application/javascript": [
       "console.log(\"[195900][INFO][openvisuspy.backend_cpp:76:printStatistics] Stats::printStatistics enlapsed=0.02699899673461914 seconds\");\n"
      ],
      "text/plain": [
       "<IPython.core.display.Javascript object>"
      ]
     },
     "metadata": {},
     "output_type": "display_data"
    },
    {
     "data": {
      "application/javascript": [
       "console.log(\"[195900][INFO][openvisuspy.slice:280:pushJobIfNeeded] [Slice/0] pushed new job query_logic_box=[[451.62355125066307, 394.18982245205876, 489], [972.0915413367088, 797.273027184569, 490]]\");\n"
      ],
      "text/plain": [
       "<IPython.core.display.Javascript object>"
      ]
     },
     "metadata": {},
     "output_type": "display_data"
    },
    {
     "data": {
      "application/javascript": [
       "console.log(\"[195900][INFO][openvisuspy.backend_cpp:76:createBoxQuery] begin timestep=0 field=data logic_box=[[451.62355125066307, 394.18982245205876, 489], [972.0915413367088, 797.273027184569, 490]] num_refinements=2 max_pixels=543862 endh=30\");\n"
      ],
      "text/plain": [
       "<IPython.core.display.Javascript object>"
      ]
     },
     "metadata": {},
     "output_type": "display_data"
    },
    {
     "data": {
      "application/javascript": [
       "console.log(\"[195900][INFO][openvisuspy.backend_cpp:112:createBoxQuery] Guess resolution endh=30 original_box=([451, 394, 489], [973, 798, 490]) aligned_box=([451, 394, 489], [973, 798, 490]) delta=[1, 1, 1] num_pixels=[522, 404, 1] tot_pixels=210,888 max_pixels=543,862 end=30\");\n"
      ],
      "text/plain": [
       "<IPython.core.display.Javascript object>"
      ]
     },
     "metadata": {},
     "output_type": "display_data"
    },
    {
     "data": {
      "application/javascript": [
       "console.log(\"[195900][INFO][openvisuspy.backend_cpp:140:beginBoxQuery] beginBoxQuery timestep=0 field=data logic_box=[[451, 394, 489], [973, 798, 490]] end_resolutions=[27, 30]\");\n"
      ],
      "text/plain": [
       "<IPython.core.display.Javascript object>"
      ]
     },
     "metadata": {},
     "output_type": "display_data"
    },
    {
     "data": {
      "application/javascript": [
       "console.log(\"[195900][INFO][openvisuspy.slice:237:pushJobIfNeeded] [Slice/0] pushing new job query_logic_box=[[489.8569818020077, 406.61149285984027, 489], [1010.3249718880535, 809.6946975923505, 490]]...\");\n"
      ],
      "text/plain": [
       "<IPython.core.display.Javascript object>"
      ]
     },
     "metadata": {},
     "output_type": "display_data"
    },
    {
     "data": {
      "application/javascript": [
       "console.log(\"[195900][INFO][openvisuspy.backend_cpp:76:printStatistics] Stats::printStatistics enlapsed=0.028999805450439453 seconds\");\n"
      ],
      "text/plain": [
       "<IPython.core.display.Javascript object>"
      ]
     },
     "metadata": {},
     "output_type": "display_data"
    },
    {
     "data": {
      "application/javascript": [
       "console.log(\"[195900][INFO][openvisuspy.slice:280:pushJobIfNeeded] [Slice/0] pushed new job query_logic_box=[[489.8569818020077, 406.61149285984027, 489], [1010.3249718880535, 809.6946975923505, 490]]\");\n"
      ],
      "text/plain": [
       "<IPython.core.display.Javascript object>"
      ]
     },
     "metadata": {},
     "output_type": "display_data"
    },
    {
     "data": {
      "application/javascript": [
       "console.log(\"[195900][INFO][openvisuspy.backend_cpp:76:createBoxQuery] begin timestep=0 field=data logic_box=[[489.8569818020077, 406.61149285984027, 489], [1010.3249718880535, 809.6946975923505, 490]] num_refinements=2 max_pixels=543862 endh=30\");\n"
      ],
      "text/plain": [
       "<IPython.core.display.Javascript object>"
      ]
     },
     "metadata": {},
     "output_type": "display_data"
    },
    {
     "data": {
      "application/javascript": [
       "console.log(\"[195900][INFO][openvisuspy.backend_cpp:112:createBoxQuery] Guess resolution endh=30 original_box=([489, 406, 489], [1003, 810, 490]) aligned_box=([489, 406, 489], [1003, 810, 490]) delta=[1, 1, 1] num_pixels=[514, 404, 1] tot_pixels=207,656 max_pixels=543,862 end=30\");\n"
      ],
      "text/plain": [
       "<IPython.core.display.Javascript object>"
      ]
     },
     "metadata": {},
     "output_type": "display_data"
    },
    {
     "data": {
      "application/javascript": [
       "console.log(\"[195900][INFO][openvisuspy.backend_cpp:140:beginBoxQuery] beginBoxQuery timestep=0 field=data logic_box=[[489, 406, 489], [1003, 810, 490]] end_resolutions=[27, 30]\");\n"
      ],
      "text/plain": [
       "<IPython.core.display.Javascript object>"
      ]
     },
     "metadata": {},
     "output_type": "display_data"
    },
    {
     "data": {
      "application/javascript": [
       "console.log(\"[195900][INFO][openvisuspy.slice:237:pushJobIfNeeded] [Slice/0] pushing new job query_logic_box=[[516.3737158940693, 422.75966438995636, 489], [1036.841705980115, 825.8428691224667, 490]]...\");\n"
      ],
      "text/plain": [
       "<IPython.core.display.Javascript object>"
      ]
     },
     "metadata": {},
     "output_type": "display_data"
    },
    {
     "data": {
      "application/javascript": [
       "console.log(\"[195900][INFO][openvisuspy.backend_cpp:76:printStatistics] Stats::printStatistics enlapsed=0.029001235961914062 seconds\");\n"
      ],
      "text/plain": [
       "<IPython.core.display.Javascript object>"
      ]
     },
     "metadata": {},
     "output_type": "display_data"
    },
    {
     "data": {
      "application/javascript": [
       "console.log(\"[195900][INFO][openvisuspy.slice:280:pushJobIfNeeded] [Slice/0] pushed new job query_logic_box=[[516.3737158940693, 422.75966438995636, 489], [1036.841705980115, 825.8428691224667, 490]]\");\n"
      ],
      "text/plain": [
       "<IPython.core.display.Javascript object>"
      ]
     },
     "metadata": {},
     "output_type": "display_data"
    },
    {
     "data": {
      "application/javascript": [
       "console.log(\"[195900][INFO][openvisuspy.backend_cpp:76:createBoxQuery] begin timestep=0 field=data logic_box=[[516.3737158940693, 422.75966438995636, 489], [1036.841705980115, 825.8428691224667, 490]] num_refinements=2 max_pixels=543862 endh=30\");\n"
      ],
      "text/plain": [
       "<IPython.core.display.Javascript object>"
      ]
     },
     "metadata": {},
     "output_type": "display_data"
    },
    {
     "data": {
      "application/javascript": [
       "console.log(\"[195900][INFO][openvisuspy.backend_cpp:112:createBoxQuery] Guess resolution endh=30 original_box=([516, 422, 489], [1003, 826, 490]) aligned_box=([516, 422, 489], [1003, 826, 490]) delta=[1, 1, 1] num_pixels=[487, 404, 1] tot_pixels=196,748 max_pixels=543,862 end=30\");\n"
      ],
      "text/plain": [
       "<IPython.core.display.Javascript object>"
      ]
     },
     "metadata": {},
     "output_type": "display_data"
    },
    {
     "data": {
      "application/javascript": [
       "console.log(\"[195900][INFO][openvisuspy.backend_cpp:140:beginBoxQuery] beginBoxQuery timestep=0 field=data logic_box=[[516, 422, 489], [1003, 826, 490]] end_resolutions=[27, 30]\");\n"
      ],
      "text/plain": [
       "<IPython.core.display.Javascript object>"
      ]
     },
     "metadata": {},
     "output_type": "display_data"
    },
    {
     "data": {
      "application/javascript": [
       "console.log(\"[195900][INFO][openvisuspy.slice:237:pushJobIfNeeded] [Slice/0] pushing new job query_logic_box=[[533.6404264656443, 438.90783592007244, 489], [1054.10841655169, 841.9910406525829, 490]]...\");\n"
      ],
      "text/plain": [
       "<IPython.core.display.Javascript object>"
      ]
     },
     "metadata": {},
     "output_type": "display_data"
    },
    {
     "data": {
      "application/javascript": [
       "console.log(\"[195900][INFO][openvisuspy.backend_cpp:76:printStatistics] Stats::printStatistics enlapsed=0.027999401092529297 seconds\");\n"
      ],
      "text/plain": [
       "<IPython.core.display.Javascript object>"
      ]
     },
     "metadata": {},
     "output_type": "display_data"
    },
    {
     "data": {
      "application/javascript": [
       "console.log(\"[195900][INFO][openvisuspy.slice:280:pushJobIfNeeded] [Slice/0] pushed new job query_logic_box=[[533.6404264656443, 438.90783592007244, 489], [1054.10841655169, 841.9910406525829, 490]]\");\n"
      ],
      "text/plain": [
       "<IPython.core.display.Javascript object>"
      ]
     },
     "metadata": {},
     "output_type": "display_data"
    },
    {
     "data": {
      "application/javascript": [
       "console.log(\"[195900][INFO][openvisuspy.backend_cpp:76:createBoxQuery] begin timestep=0 field=data logic_box=[[533.6404264656443, 438.90783592007244, 489], [1054.10841655169, 841.9910406525829, 490]] num_refinements=2 max_pixels=543862 endh=30\");\n"
      ],
      "text/plain": [
       "<IPython.core.display.Javascript object>"
      ]
     },
     "metadata": {},
     "output_type": "display_data"
    },
    {
     "data": {
      "application/javascript": [
       "console.log(\"[195900][INFO][openvisuspy.backend_cpp:112:createBoxQuery] Guess resolution endh=30 original_box=([533, 438, 489], [1003, 842, 490]) aligned_box=([533, 438, 489], [1003, 842, 490]) delta=[1, 1, 1] num_pixels=[470, 404, 1] tot_pixels=189,880 max_pixels=543,862 end=30\");\n"
      ],
      "text/plain": [
       "<IPython.core.display.Javascript object>"
      ]
     },
     "metadata": {},
     "output_type": "display_data"
    },
    {
     "data": {
      "application/javascript": [
       "console.log(\"[195900][INFO][openvisuspy.backend_cpp:140:beginBoxQuery] beginBoxQuery timestep=0 field=data logic_box=[[533, 438, 489], [1003, 842, 490]] end_resolutions=[27, 30]\");\n"
      ],
      "text/plain": [
       "<IPython.core.display.Javascript object>"
      ]
     },
     "metadata": {},
     "output_type": "display_data"
    },
    {
     "data": {
      "application/javascript": [
       "console.log(\"[195900][INFO][openvisuspy.slice:237:pushJobIfNeeded] [Slice/0] pushing new job query_logic_box=[[538.5737723432371, 444.4975876035742, 489], [1059.041762429283, 847.5807923360846, 490]]...\");\n"
      ],
      "text/plain": [
       "<IPython.core.display.Javascript object>"
      ]
     },
     "metadata": {},
     "output_type": "display_data"
    },
    {
     "data": {
      "application/javascript": [
       "console.log(\"[195900][INFO][openvisuspy.backend_cpp:76:printStatistics] Stats::printStatistics enlapsed=0.02299976348876953 seconds\");\n"
      ],
      "text/plain": [
       "<IPython.core.display.Javascript object>"
      ]
     },
     "metadata": {},
     "output_type": "display_data"
    },
    {
     "data": {
      "application/javascript": [
       "console.log(\"[195900][INFO][openvisuspy.slice:280:pushJobIfNeeded] [Slice/0] pushed new job query_logic_box=[[538.5737723432371, 444.4975876035742, 489], [1059.041762429283, 847.5807923360846, 490]]\");\n"
      ],
      "text/plain": [
       "<IPython.core.display.Javascript object>"
      ]
     },
     "metadata": {},
     "output_type": "display_data"
    },
    {
     "data": {
      "application/javascript": [
       "console.log(\"[195900][INFO][openvisuspy.backend_cpp:76:createBoxQuery] begin timestep=0 field=data logic_box=[[538.5737723432371, 444.4975876035742, 489], [1059.041762429283, 847.5807923360846, 490]] num_refinements=2 max_pixels=543862 endh=30\");\n"
      ],
      "text/plain": [
       "<IPython.core.display.Javascript object>"
      ]
     },
     "metadata": {},
     "output_type": "display_data"
    },
    {
     "data": {
      "application/javascript": [
       "console.log(\"[195900][INFO][openvisuspy.backend_cpp:112:createBoxQuery] Guess resolution endh=30 original_box=([538, 444, 489], [1003, 848, 490]) aligned_box=([538, 444, 489], [1003, 848, 490]) delta=[1, 1, 1] num_pixels=[465, 404, 1] tot_pixels=187,860 max_pixels=543,862 end=30\");\n"
      ],
      "text/plain": [
       "<IPython.core.display.Javascript object>"
      ]
     },
     "metadata": {},
     "output_type": "display_data"
    },
    {
     "data": {
      "application/javascript": [
       "console.log(\"[195900][INFO][openvisuspy.backend_cpp:140:beginBoxQuery] beginBoxQuery timestep=0 field=data logic_box=[[538, 444, 489], [1003, 848, 490]] end_resolutions=[27, 30]\");\n"
      ],
      "text/plain": [
       "<IPython.core.display.Javascript object>"
      ]
     },
     "metadata": {},
     "output_type": "display_data"
    },
    {
     "data": {
      "application/javascript": [
       "console.log(\"[195900][INFO][openvisuspy.slice:237:pushJobIfNeeded] [Slice/0] pushing new job query_logic_box=[[541.0404452820335, 447.6030052055196, 489], [1061.5084353680793, 850.6862099380301, 490]]...\");\n"
      ],
      "text/plain": [
       "<IPython.core.display.Javascript object>"
      ]
     },
     "metadata": {},
     "output_type": "display_data"
    },
    {
     "data": {
      "application/javascript": [
       "console.log(\"[195900][INFO][openvisuspy.backend_cpp:76:printStatistics] Stats::printStatistics enlapsed=0.04599905014038086 seconds\");\n"
      ],
      "text/plain": [
       "<IPython.core.display.Javascript object>"
      ]
     },
     "metadata": {},
     "output_type": "display_data"
    },
    {
     "data": {
      "application/javascript": [
       "console.log(\"[195900][INFO][openvisuspy.slice:280:pushJobIfNeeded] [Slice/0] pushed new job query_logic_box=[[541.0404452820335, 447.6030052055196, 489], [1061.5084353680793, 850.6862099380301, 490]]\");\n"
      ],
      "text/plain": [
       "<IPython.core.display.Javascript object>"
      ]
     },
     "metadata": {},
     "output_type": "display_data"
    },
    {
     "data": {
      "application/javascript": [
       "console.log(\"[195900][INFO][openvisuspy.backend_cpp:76:createBoxQuery] begin timestep=0 field=data logic_box=[[541.0404452820335, 447.6030052055196, 489], [1061.5084353680793, 850.6862099380301, 490]] num_refinements=2 max_pixels=543862 endh=30\");\n"
      ],
      "text/plain": [
       "<IPython.core.display.Javascript object>"
      ]
     },
     "metadata": {},
     "output_type": "display_data"
    },
    {
     "data": {
      "application/javascript": [
       "console.log(\"[195900][INFO][openvisuspy.backend_cpp:112:createBoxQuery] Guess resolution endh=30 original_box=([541, 447, 489], [1003, 851, 490]) aligned_box=([541, 447, 489], [1003, 851, 490]) delta=[1, 1, 1] num_pixels=[462, 404, 1] tot_pixels=186,648 max_pixels=543,862 end=30\");\n"
      ],
      "text/plain": [
       "<IPython.core.display.Javascript object>"
      ]
     },
     "metadata": {},
     "output_type": "display_data"
    },
    {
     "data": {
      "application/javascript": [
       "console.log(\"[195900][INFO][openvisuspy.backend_cpp:140:beginBoxQuery] beginBoxQuery timestep=0 field=data logic_box=[[541, 447, 489], [1003, 851, 490]] end_resolutions=[27, 30]\");\n"
      ],
      "text/plain": [
       "<IPython.core.display.Javascript object>"
      ]
     },
     "metadata": {},
     "output_type": "display_data"
    },
    {
     "data": {
      "application/javascript": [
       "console.log(\"[195900][INFO][openvisuspy.slice:237:pushJobIfNeeded] [Slice/0] pushing new job query_logic_box=[[527.4737441186531, 460.0246756133011, 489], [1047.941734204699, 863.1078803458116, 490]]...\");\n"
      ],
      "text/plain": [
       "<IPython.core.display.Javascript object>"
      ]
     },
     "metadata": {},
     "output_type": "display_data"
    },
    {
     "data": {
      "application/javascript": [
       "console.log(\"[195900][INFO][openvisuspy.backend_cpp:76:printStatistics] Stats::printStatistics enlapsed=0.30299973487854004 seconds\");\n"
      ],
      "text/plain": [
       "<IPython.core.display.Javascript object>"
      ]
     },
     "metadata": {},
     "output_type": "display_data"
    },
    {
     "data": {
      "application/javascript": [
       "console.log(\"[195900][INFO][openvisuspy.slice:280:pushJobIfNeeded] [Slice/0] pushed new job query_logic_box=[[527.4737441186531, 460.0246756133011, 489], [1047.941734204699, 863.1078803458116, 490]]\");\n"
      ],
      "text/plain": [
       "<IPython.core.display.Javascript object>"
      ]
     },
     "metadata": {},
     "output_type": "display_data"
    },
    {
     "data": {
      "application/javascript": [
       "console.log(\"[195900][INFO][openvisuspy.backend_cpp:76:createBoxQuery] begin timestep=0 field=data logic_box=[[527.4737441186531, 460.0246756133011, 489], [1047.941734204699, 863.1078803458116, 490]] num_refinements=2 max_pixels=543862 endh=30\");\n"
      ],
      "text/plain": [
       "<IPython.core.display.Javascript object>"
      ]
     },
     "metadata": {},
     "output_type": "display_data"
    },
    {
     "data": {
      "application/javascript": [
       "console.log(\"[195900][INFO][openvisuspy.backend_cpp:112:createBoxQuery] Guess resolution endh=30 original_box=([527, 460, 489], [1003, 864, 490]) aligned_box=([527, 460, 489], [1003, 864, 490]) delta=[1, 1, 1] num_pixels=[476, 404, 1] tot_pixels=192,304 max_pixels=543,862 end=30\");\n"
      ],
      "text/plain": [
       "<IPython.core.display.Javascript object>"
      ]
     },
     "metadata": {},
     "output_type": "display_data"
    },
    {
     "data": {
      "application/javascript": [
       "console.log(\"[195900][INFO][openvisuspy.backend_cpp:140:beginBoxQuery] beginBoxQuery timestep=0 field=data logic_box=[[527, 460, 489], [1003, 864, 490]] end_resolutions=[27, 30]\");\n"
      ],
      "text/plain": [
       "<IPython.core.display.Javascript object>"
      ]
     },
     "metadata": {},
     "output_type": "display_data"
    },
    {
     "data": {
      "application/javascript": [
       "console.log(\"[195900][INFO][openvisuspy.slice:237:pushJobIfNeeded] [Slice/0] pushing new job query_logic_box=[[508.3570288429808, 472.44634602108266, 489], [1028.8250189290266, 875.5295507535932, 490]]...\");\n"
      ],
      "text/plain": [
       "<IPython.core.display.Javascript object>"
      ]
     },
     "metadata": {},
     "output_type": "display_data"
    },
    {
     "data": {
      "application/javascript": [
       "console.log(\"[195900][INFO][openvisuspy.backend_cpp:76:printStatistics] Stats::printStatistics enlapsed=0.019998788833618164 seconds\");\n"
      ],
      "text/plain": [
       "<IPython.core.display.Javascript object>"
      ]
     },
     "metadata": {},
     "output_type": "display_data"
    },
    {
     "data": {
      "application/javascript": [
       "console.log(\"[195900][INFO][openvisuspy.slice:280:pushJobIfNeeded] [Slice/0] pushed new job query_logic_box=[[508.3570288429808, 472.44634602108266, 489], [1028.8250189290266, 875.5295507535932, 490]]\");\n"
      ],
      "text/plain": [
       "<IPython.core.display.Javascript object>"
      ]
     },
     "metadata": {},
     "output_type": "display_data"
    },
    {
     "data": {
      "application/javascript": [
       "console.log(\"[195900][INFO][openvisuspy.backend_cpp:76:createBoxQuery] begin timestep=0 field=data logic_box=[[508.3570288429808, 472.44634602108266, 489], [1028.8250189290266, 875.5295507535932, 490]] num_refinements=2 max_pixels=543862 endh=30\");\n"
      ],
      "text/plain": [
       "<IPython.core.display.Javascript object>"
      ]
     },
     "metadata": {},
     "output_type": "display_data"
    },
    {
     "data": {
      "application/javascript": [
       "console.log(\"[195900][INFO][openvisuspy.backend_cpp:112:createBoxQuery] Guess resolution endh=30 original_box=([508, 472, 489], [1003, 876, 490]) aligned_box=([508, 472, 489], [1003, 876, 490]) delta=[1, 1, 1] num_pixels=[495, 404, 1] tot_pixels=199,980 max_pixels=543,862 end=30\");\n"
      ],
      "text/plain": [
       "<IPython.core.display.Javascript object>"
      ]
     },
     "metadata": {},
     "output_type": "display_data"
    },
    {
     "data": {
      "application/javascript": [
       "console.log(\"[195900][INFO][openvisuspy.backend_cpp:140:beginBoxQuery] beginBoxQuery timestep=0 field=data logic_box=[[508, 472, 489], [1003, 876, 490]] end_resolutions=[27, 30]\");\n"
      ],
      "text/plain": [
       "<IPython.core.display.Javascript object>"
      ]
     },
     "metadata": {},
     "output_type": "display_data"
    },
    {
     "data": {
      "application/javascript": [
       "console.log(\"[195900][INFO][openvisuspy.slice:237:pushJobIfNeeded] [Slice/0] pushing new job query_logic_box=[[446.69020537307017, 502.87943852014735, 489], [967.158195459116, 905.9626432526578, 490]]...\");\n"
      ],
      "text/plain": [
       "<IPython.core.display.Javascript object>"
      ]
     },
     "metadata": {},
     "output_type": "display_data"
    },
    {
     "data": {
      "application/javascript": [
       "console.log(\"[195900][INFO][openvisuspy.backend_cpp:76:printStatistics] Stats::printStatistics enlapsed=0.030001401901245117 seconds\");\n"
      ],
      "text/plain": [
       "<IPython.core.display.Javascript object>"
      ]
     },
     "metadata": {},
     "output_type": "display_data"
    },
    {
     "data": {
      "application/javascript": [
       "console.log(\"[195900][INFO][openvisuspy.slice:280:pushJobIfNeeded] [Slice/0] pushed new job query_logic_box=[[446.69020537307017, 502.87943852014735, 489], [967.158195459116, 905.9626432526578, 490]]\");\n"
      ],
      "text/plain": [
       "<IPython.core.display.Javascript object>"
      ]
     },
     "metadata": {},
     "output_type": "display_data"
    },
    {
     "data": {
      "application/javascript": [
       "console.log(\"[195900][INFO][openvisuspy.backend_cpp:76:createBoxQuery] begin timestep=0 field=data logic_box=[[446.69020537307017, 502.87943852014735, 489], [967.158195459116, 905.9626432526578, 490]] num_refinements=2 max_pixels=543862 endh=30\");\n"
      ],
      "text/plain": [
       "<IPython.core.display.Javascript object>"
      ]
     },
     "metadata": {},
     "output_type": "display_data"
    },
    {
     "data": {
      "application/javascript": [
       "console.log(\"[195900][INFO][openvisuspy.backend_cpp:112:createBoxQuery] Guess resolution endh=30 original_box=([446, 502, 489], [968, 906, 490]) aligned_box=([446, 502, 489], [968, 906, 490]) delta=[1, 1, 1] num_pixels=[522, 404, 1] tot_pixels=210,888 max_pixels=543,862 end=30\");\n"
      ],
      "text/plain": [
       "<IPython.core.display.Javascript object>"
      ]
     },
     "metadata": {},
     "output_type": "display_data"
    },
    {
     "data": {
      "application/javascript": [
       "console.log(\"[195900][INFO][openvisuspy.backend_cpp:140:beginBoxQuery] beginBoxQuery timestep=0 field=data logic_box=[[446, 502, 489], [968, 906, 490]] end_resolutions=[27, 30]\");\n"
      ],
      "text/plain": [
       "<IPython.core.display.Javascript object>"
      ]
     },
     "metadata": {},
     "output_type": "display_data"
    },
    {
     "data": {
      "application/javascript": [
       "console.log(\"[195900][INFO][openvisuspy.slice:237:pushJobIfNeeded] [Slice/0] pushing new job query_logic_box=[[398.5900830665399, 521.5119441318196, 489], [919.0580731525857, 924.5951488643301, 490]]...\");\n"
      ],
      "text/plain": [
       "<IPython.core.display.Javascript object>"
      ]
     },
     "metadata": {},
     "output_type": "display_data"
    },
    {
     "data": {
      "application/javascript": [
       "console.log(\"[195900][INFO][openvisuspy.slice:280:pushJobIfNeeded] [Slice/0] pushed new job query_logic_box=[[398.5900830665399, 521.5119441318196, 489], [919.0580731525857, 924.5951488643301, 490]]\");\n"
      ],
      "text/plain": [
       "<IPython.core.display.Javascript object>"
      ]
     },
     "metadata": {},
     "output_type": "display_data"
    },
    {
     "data": {
      "application/javascript": [
       "console.log(\"[195900][INFO][openvisuspy.backend_cpp:76:printStatistics] Stats::printStatistics enlapsed=0.029996633529663086 seconds\");\n"
      ],
      "text/plain": [
       "<IPython.core.display.Javascript object>"
      ]
     },
     "metadata": {},
     "output_type": "display_data"
    },
    {
     "data": {
      "application/javascript": [
       "console.log(\"[195901][INFO][openvisuspy.backend_cpp:76:createBoxQuery] begin timestep=0 field=data logic_box=[[398.5900830665399, 521.5119441318196, 489], [919.0580731525857, 924.5951488643301, 490]] num_refinements=2 max_pixels=543862 endh=30\");\n"
      ],
      "text/plain": [
       "<IPython.core.display.Javascript object>"
      ]
     },
     "metadata": {},
     "output_type": "display_data"
    },
    {
     "data": {
      "application/javascript": [
       "console.log(\"[195901][INFO][openvisuspy.backend_cpp:112:createBoxQuery] Guess resolution endh=30 original_box=([398, 521, 489], [920, 925, 490]) aligned_box=([398, 521, 489], [920, 925, 490]) delta=[1, 1, 1] num_pixels=[522, 404, 1] tot_pixels=210,888 max_pixels=543,862 end=30\");\n"
      ],
      "text/plain": [
       "<IPython.core.display.Javascript object>"
      ]
     },
     "metadata": {},
     "output_type": "display_data"
    },
    {
     "data": {
      "application/javascript": [
       "console.log(\"[195901][INFO][openvisuspy.backend_cpp:140:beginBoxQuery] beginBoxQuery timestep=0 field=data logic_box=[[398, 521, 489], [920, 925, 490]] end_resolutions=[27, 30]\");\n"
      ],
      "text/plain": [
       "<IPython.core.display.Javascript object>"
      ]
     },
     "metadata": {},
     "output_type": "display_data"
    },
    {
     "data": {
      "application/javascript": [
       "console.log(\"[195901][INFO][openvisuspy.slice:237:pushJobIfNeeded] [Slice/0] pushing new job query_logic_box=[[364.0566619233899, 531.4492804580449, 489], [884.5246520094357, 934.5324851905553, 490]]...\");\n"
      ],
      "text/plain": [
       "<IPython.core.display.Javascript object>"
      ]
     },
     "metadata": {},
     "output_type": "display_data"
    },
    {
     "data": {
      "application/javascript": [
       "console.log(\"[195901][INFO][openvisuspy.slice:280:pushJobIfNeeded] [Slice/0] pushed new job query_logic_box=[[364.0566619233899, 531.4492804580449, 489], [884.5246520094357, 934.5324851905553, 490]]\");\n"
      ],
      "text/plain": [
       "<IPython.core.display.Javascript object>"
      ]
     },
     "metadata": {},
     "output_type": "display_data"
    },
    {
     "data": {
      "application/javascript": [
       "console.log(\"[195901][INFO][openvisuspy.backend_cpp:76:printStatistics] Stats::printStatistics enlapsed=0.01799631118774414 seconds\");\n"
      ],
      "text/plain": [
       "<IPython.core.display.Javascript object>"
      ]
     },
     "metadata": {},
     "output_type": "display_data"
    },
    {
     "data": {
      "application/javascript": [
       "console.log(\"[195901][INFO][openvisuspy.backend_cpp:76:createBoxQuery] begin timestep=0 field=data logic_box=[[364.0566619233899, 531.4492804580449, 489], [884.5246520094357, 934.5324851905553, 490]] num_refinements=2 max_pixels=543862 endh=30\");\n"
      ],
      "text/plain": [
       "<IPython.core.display.Javascript object>"
      ]
     },
     "metadata": {},
     "output_type": "display_data"
    },
    {
     "data": {
      "application/javascript": [
       "console.log(\"[195901][INFO][openvisuspy.backend_cpp:112:createBoxQuery] Guess resolution endh=30 original_box=([364, 531, 489], [885, 935, 490]) aligned_box=([364, 531, 489], [885, 935, 490]) delta=[1, 1, 1] num_pixels=[521, 404, 1] tot_pixels=210,484 max_pixels=543,862 end=30\");\n"
      ],
      "text/plain": [
       "<IPython.core.display.Javascript object>"
      ]
     },
     "metadata": {},
     "output_type": "display_data"
    },
    {
     "data": {
      "application/javascript": [
       "console.log(\"[195901][INFO][openvisuspy.backend_cpp:140:beginBoxQuery] beginBoxQuery timestep=0 field=data logic_box=[[364, 531, 489], [885, 935, 490]] end_resolutions=[27, 30]\");\n"
      ],
      "text/plain": [
       "<IPython.core.display.Javascript object>"
      ]
     },
     "metadata": {},
     "output_type": "display_data"
    },
    {
     "data": {
      "application/javascript": [
       "console.log(\"[195901][INFO][openvisuspy.slice:237:pushJobIfNeeded] [Slice/0] pushing new job query_logic_box=[[359.1233160457971, 531.4492804580449, 489], [879.5913061318429, 934.5324851905553, 490]]...\");\n"
      ],
      "text/plain": [
       "<IPython.core.display.Javascript object>"
      ]
     },
     "metadata": {},
     "output_type": "display_data"
    },
    {
     "data": {
      "application/javascript": [
       "console.log(\"[195901][INFO][openvisuspy.slice:280:pushJobIfNeeded] [Slice/0] pushed new job query_logic_box=[[359.1233160457971, 531.4492804580449, 489], [879.5913061318429, 934.5324851905553, 490]]\");\n"
      ],
      "text/plain": [
       "<IPython.core.display.Javascript object>"
      ]
     },
     "metadata": {},
     "output_type": "display_data"
    },
    {
     "data": {
      "application/javascript": [
       "console.log(\"[195901][INFO][openvisuspy.backend_cpp:76:printStatistics] Stats::printStatistics enlapsed=0.03300023078918457 seconds\");\n"
      ],
      "text/plain": [
       "<IPython.core.display.Javascript object>"
      ]
     },
     "metadata": {},
     "output_type": "display_data"
    },
    {
     "data": {
      "application/javascript": [
       "console.log(\"[195901][INFO][openvisuspy.backend_cpp:76:createBoxQuery] begin timestep=0 field=data logic_box=[[359.1233160457971, 531.4492804580449, 489], [879.5913061318429, 934.5324851905553, 490]] num_refinements=2 max_pixels=543862 endh=30\");\n"
      ],
      "text/plain": [
       "<IPython.core.display.Javascript object>"
      ]
     },
     "metadata": {},
     "output_type": "display_data"
    },
    {
     "data": {
      "application/javascript": [
       "console.log(\"[195901][INFO][openvisuspy.backend_cpp:112:createBoxQuery] Guess resolution endh=30 original_box=([359, 531, 489], [880, 935, 490]) aligned_box=([359, 531, 489], [880, 935, 490]) delta=[1, 1, 1] num_pixels=[521, 404, 1] tot_pixels=210,484 max_pixels=543,862 end=30\");\n"
      ],
      "text/plain": [
       "<IPython.core.display.Javascript object>"
      ]
     },
     "metadata": {},
     "output_type": "display_data"
    },
    {
     "data": {
      "application/javascript": [
       "console.log(\"[195901][INFO][openvisuspy.backend_cpp:140:beginBoxQuery] beginBoxQuery timestep=0 field=data logic_box=[[359, 531, 489], [880, 935, 490]] end_resolutions=[27, 30]\");\n"
      ],
      "text/plain": [
       "<IPython.core.display.Javascript object>"
      ]
     },
     "metadata": {},
     "output_type": "display_data"
    },
    {
     "data": {
      "application/javascript": [
       "console.log(\"[195901][INFO][openvisuspy.slice:237:pushJobIfNeeded] [Slice/0] pushing new job query_logic_box=[[401.6880530478491, 565.439229775998, 489], [835.411378119554, 901.3419003864234, 490]]...\");\n"
      ],
      "text/plain": [
       "<IPython.core.display.Javascript object>"
      ]
     },
     "metadata": {},
     "output_type": "display_data"
    },
    {
     "data": {
      "application/javascript": [
       "console.log(\"[195901][INFO][openvisuspy.backend_cpp:76:printStatistics] Stats::printStatistics enlapsed=0.238999605178833 seconds\");\n"
      ],
      "text/plain": [
       "<IPython.core.display.Javascript object>"
      ]
     },
     "metadata": {},
     "output_type": "display_data"
    },
    {
     "data": {
      "application/javascript": [
       "console.log(\"[195901][INFO][openvisuspy.slice:280:pushJobIfNeeded] [Slice/0] pushed new job query_logic_box=[[401.6880530478491, 565.439229775998, 489], [835.411378119554, 901.3419003864234, 490]]\");\n"
      ],
      "text/plain": [
       "<IPython.core.display.Javascript object>"
      ]
     },
     "metadata": {},
     "output_type": "display_data"
    },
    {
     "data": {
      "application/javascript": [
       "console.log(\"[195901][INFO][openvisuspy.backend_cpp:76:createBoxQuery] begin timestep=0 field=data logic_box=[[401.6880530478491, 565.439229775998, 489], [835.411378119554, 901.3419003864234, 490]] num_refinements=2 max_pixels=543862 endh=30\");\n"
      ],
      "text/plain": [
       "<IPython.core.display.Javascript object>"
      ]
     },
     "metadata": {},
     "output_type": "display_data"
    },
    {
     "data": {
      "application/javascript": [
       "console.log(\"[195901][INFO][openvisuspy.backend_cpp:112:createBoxQuery] Guess resolution endh=30 original_box=([401, 565, 489], [836, 902, 490]) aligned_box=([401, 565, 489], [836, 902, 490]) delta=[1, 1, 1] num_pixels=[435, 337, 1] tot_pixels=146,595 max_pixels=543,862 end=30\");\n"
      ],
      "text/plain": [
       "<IPython.core.display.Javascript object>"
      ]
     },
     "metadata": {},
     "output_type": "display_data"
    },
    {
     "data": {
      "application/javascript": [
       "console.log(\"[195901][INFO][openvisuspy.backend_cpp:140:beginBoxQuery] beginBoxQuery timestep=0 field=data logic_box=[[401, 565, 489], [836, 902, 490]] end_resolutions=[27, 30]\");\n"
      ],
      "text/plain": [
       "<IPython.core.display.Javascript object>"
      ]
     },
     "metadata": {},
     "output_type": "display_data"
    },
    {
     "data": {
      "application/javascript": [
       "console.log(\"[195901][INFO][openvisuspy.slice:237:pushJobIfNeeded] [Slice/0] pushing new job query_logic_box=[[437.1586672162258, 593.7641875409589, 489], [798.5947714426466, 873.6830797163134, 490]]...\");\n"
      ],
      "text/plain": [
       "<IPython.core.display.Javascript object>"
      ]
     },
     "metadata": {},
     "output_type": "display_data"
    },
    {
     "data": {
      "application/javascript": [
       "console.log(\"[195901][INFO][openvisuspy.backend_cpp:76:printStatistics] Stats::printStatistics enlapsed=0.023001909255981445 seconds\");\n"
      ],
      "text/plain": [
       "<IPython.core.display.Javascript object>"
      ]
     },
     "metadata": {},
     "output_type": "display_data"
    },
    {
     "data": {
      "application/javascript": [
       "console.log(\"[195901][INFO][openvisuspy.slice:280:pushJobIfNeeded] [Slice/0] pushed new job query_logic_box=[[437.1586672162258, 593.7641875409589, 489], [798.5947714426466, 873.6830797163134, 490]]\");\n"
      ],
      "text/plain": [
       "<IPython.core.display.Javascript object>"
      ]
     },
     "metadata": {},
     "output_type": "display_data"
    },
    {
     "data": {
      "application/javascript": [
       "console.log(\"[195901][INFO][openvisuspy.backend_cpp:76:createBoxQuery] begin timestep=0 field=data logic_box=[[437.1586672162258, 593.7641875409589, 489], [798.5947714426466, 873.6830797163134, 490]] num_refinements=2 max_pixels=543862 endh=30\");\n"
      ],
      "text/plain": [
       "<IPython.core.display.Javascript object>"
      ]
     },
     "metadata": {},
     "output_type": "display_data"
    },
    {
     "data": {
      "application/javascript": [
       "console.log(\"[195901][INFO][openvisuspy.backend_cpp:112:createBoxQuery] Guess resolution endh=30 original_box=([437, 593, 489], [799, 874, 490]) aligned_box=([437, 593, 489], [799, 874, 490]) delta=[1, 1, 1] num_pixels=[362, 281, 1] tot_pixels=101,722 max_pixels=543,862 end=30\");\n"
      ],
      "text/plain": [
       "<IPython.core.display.Javascript object>"
      ]
     },
     "metadata": {},
     "output_type": "display_data"
    },
    {
     "data": {
      "application/javascript": [
       "console.log(\"[195901][INFO][openvisuspy.backend_cpp:140:beginBoxQuery] beginBoxQuery timestep=0 field=data logic_box=[[437, 593, 489], [799, 874, 490]] end_resolutions=[27, 30]\");\n"
      ],
      "text/plain": [
       "<IPython.core.display.Javascript object>"
      ]
     },
     "metadata": {},
     "output_type": "display_data"
    },
    {
     "data": {
      "application/javascript": [
       "console.log(\"[195901][INFO][openvisuspy.slice:237:pushJobIfNeeded] [Slice/0] pushing new job query_logic_box=[[491.3498833068014, 637.0384285707603, 489], [742.3471779084824, 831.4265481369787, 490]]...\");\n"
      ],
      "text/plain": [
       "<IPython.core.display.Javascript object>"
      ]
     },
     "metadata": {},
     "output_type": "display_data"
    },
    {
     "data": {
      "application/javascript": [
       "console.log(\"[195901][INFO][openvisuspy.slice:280:pushJobIfNeeded] [Slice/0] pushed new job query_logic_box=[[491.3498833068014, 637.0384285707603, 489], [742.3471779084824, 831.4265481369787, 490]]\");\n"
      ],
      "text/plain": [
       "<IPython.core.display.Javascript object>"
      ]
     },
     "metadata": {},
     "output_type": "display_data"
    },
    {
     "data": {
      "application/javascript": [
       "console.log(\"[195901][INFO][openvisuspy.backend_cpp:76:printStatistics] Stats::printStatistics enlapsed=0.028000354766845703 seconds\");\n"
      ],
      "text/plain": [
       "<IPython.core.display.Javascript object>"
      ]
     },
     "metadata": {},
     "output_type": "display_data"
    },
    {
     "data": {
      "application/javascript": [
       "console.log(\"[195901][INFO][openvisuspy.backend_cpp:76:createBoxQuery] begin timestep=0 field=data logic_box=[[491.3498833068014, 637.0384285707603, 489], [742.3471779084824, 831.4265481369787, 490]] num_refinements=2 max_pixels=543862 endh=30\");\n"
      ],
      "text/plain": [
       "<IPython.core.display.Javascript object>"
      ]
     },
     "metadata": {},
     "output_type": "display_data"
    },
    {
     "data": {
      "application/javascript": [
       "console.log(\"[195901][INFO][openvisuspy.backend_cpp:112:createBoxQuery] Guess resolution endh=30 original_box=([491, 637, 489], [743, 832, 490]) aligned_box=([491, 637, 489], [743, 832, 490]) delta=[1, 1, 1] num_pixels=[252, 195, 1] tot_pixels=49,140 max_pixels=543,862 end=30\");\n"
      ],
      "text/plain": [
       "<IPython.core.display.Javascript object>"
      ]
     },
     "metadata": {},
     "output_type": "display_data"
    },
    {
     "data": {
      "application/javascript": [
       "console.log(\"[195901][INFO][openvisuspy.backend_cpp:140:beginBoxQuery] beginBoxQuery timestep=0 field=data logic_box=[[491, 637, 489], [743, 832, 490]] end_resolutions=[27, 30]\");\n"
      ],
      "text/plain": [
       "<IPython.core.display.Javascript object>"
      ]
     },
     "metadata": {},
     "output_type": "display_data"
    },
    {
     "data": {
      "application/javascript": [
       "console.log(\"[195901][INFO][openvisuspy.slice:237:pushJobIfNeeded] [Slice/0] pushing new job query_logic_box=[[511.8768590986861, 653.4301865365941, 489], [721.0412712667536, 815.4202861751094, 490]]...\");\n"
      ],
      "text/plain": [
       "<IPython.core.display.Javascript object>"
      ]
     },
     "metadata": {},
     "output_type": "display_data"
    },
    {
     "data": {
      "application/javascript": [
       "console.log(\"[195901][INFO][openvisuspy.slice:280:pushJobIfNeeded] [Slice/0] pushed new job query_logic_box=[[511.8768590986861, 653.4301865365941, 489], [721.0412712667536, 815.4202861751094, 490]]\");\n"
      ],
      "text/plain": [
       "<IPython.core.display.Javascript object>"
      ]
     },
     "metadata": {},
     "output_type": "display_data"
    },
    {
     "data": {
      "application/javascript": [
       "console.log(\"[195901][INFO][openvisuspy.backend_cpp:76:printStatistics] Stats::printStatistics enlapsed=0.02500009536743164 seconds\");\n"
      ],
      "text/plain": [
       "<IPython.core.display.Javascript object>"
      ]
     },
     "metadata": {},
     "output_type": "display_data"
    },
    {
     "data": {
      "application/javascript": [
       "console.log(\"[195901][INFO][openvisuspy.backend_cpp:76:createBoxQuery] begin timestep=0 field=data logic_box=[[511.8768590986861, 653.4301865365941, 489], [721.0412712667536, 815.4202861751094, 490]] num_refinements=2 max_pixels=543862 endh=30\");\n"
      ],
      "text/plain": [
       "<IPython.core.display.Javascript object>"
      ]
     },
     "metadata": {},
     "output_type": "display_data"
    },
    {
     "data": {
      "application/javascript": [
       "console.log(\"[195901][INFO][openvisuspy.backend_cpp:112:createBoxQuery] Guess resolution endh=30 original_box=([511, 653, 489], [722, 816, 490]) aligned_box=([511, 653, 489], [722, 816, 490]) delta=[1, 1, 1] num_pixels=[211, 163, 1] tot_pixels=34,393 max_pixels=543,862 end=30\");\n"
      ],
      "text/plain": [
       "<IPython.core.display.Javascript object>"
      ]
     },
     "metadata": {},
     "output_type": "display_data"
    },
    {
     "data": {
      "application/javascript": [
       "console.log(\"[195901][INFO][openvisuspy.backend_cpp:140:beginBoxQuery] beginBoxQuery timestep=0 field=data logic_box=[[511, 653, 489], [722, 816, 490]] end_resolutions=[27, 30]\");\n"
      ],
      "text/plain": [
       "<IPython.core.display.Javascript object>"
      ]
     },
     "metadata": {},
     "output_type": "display_data"
    },
    {
     "data": {
      "application/javascript": [
       "console.log(\"[195901][INFO][openvisuspy.slice:237:pushJobIfNeeded] [Slice/0] pushing new job query_logic_box=[[529.0652806362235, 667.2979844557834, 489], [703.3689574429465, 802.2897341545462, 490]]...\");\n"
      ],
      "text/plain": [
       "<IPython.core.display.Javascript object>"
      ]
     },
     "metadata": {},
     "output_type": "display_data"
    },
    {
     "data": {
      "application/javascript": [
       "console.log(\"[195901][INFO][openvisuspy.slice:280:pushJobIfNeeded] [Slice/0] pushed new job query_logic_box=[[529.0652806362235, 667.2979844557834, 489], [703.3689574429465, 802.2897341545462, 490]]\");\n"
      ],
      "text/plain": [
       "<IPython.core.display.Javascript object>"
      ]
     },
     "metadata": {},
     "output_type": "display_data"
    },
    {
     "data": {
      "application/javascript": [
       "console.log(\"[195901][INFO][openvisuspy.backend_cpp:76:printStatistics] Stats::printStatistics enlapsed=0.040003061294555664 seconds\");\n"
      ],
      "text/plain": [
       "<IPython.core.display.Javascript object>"
      ]
     },
     "metadata": {},
     "output_type": "display_data"
    },
    {
     "data": {
      "application/javascript": [
       "console.log(\"[195901][INFO][openvisuspy.backend_cpp:76:createBoxQuery] begin timestep=0 field=data logic_box=[[529.0652806362235, 667.2979844557834, 489], [703.3689574429465, 802.2897341545462, 490]] num_refinements=2 max_pixels=543862 endh=30\");\n"
      ],
      "text/plain": [
       "<IPython.core.display.Javascript object>"
      ]
     },
     "metadata": {},
     "output_type": "display_data"
    },
    {
     "data": {
      "application/javascript": [
       "console.log(\"[195901][INFO][openvisuspy.backend_cpp:112:createBoxQuery] Guess resolution endh=30 original_box=([529, 667, 489], [704, 803, 490]) aligned_box=([529, 667, 489], [704, 803, 490]) delta=[1, 1, 1] num_pixels=[175, 136, 1] tot_pixels=23,800 max_pixels=543,862 end=30\");\n"
      ],
      "text/plain": [
       "<IPython.core.display.Javascript object>"
      ]
     },
     "metadata": {},
     "output_type": "display_data"
    },
    {
     "data": {
      "application/javascript": [
       "console.log(\"[195901][INFO][openvisuspy.backend_cpp:140:beginBoxQuery] beginBoxQuery timestep=0 field=data logic_box=[[529, 667, 489], [704, 803, 490]] end_resolutions=[27, 30]\");\n"
      ],
      "text/plain": [
       "<IPython.core.display.Javascript object>"
      ]
     },
     "metadata": {},
     "output_type": "display_data"
    },
    {
     "data": {
      "application/javascript": [
       "console.log(\"[195903][INFO][openvisuspy.slice:237:pushJobIfNeeded] [Slice/0] pushing new job query_logic_box=[[514.6727557069144, 655.7068195874043, 489], [718.0270453147579, 813.197194235961, 490]]...\");\n"
      ],
      "text/plain": [
       "<IPython.core.display.Javascript object>"
      ]
     },
     "metadata": {},
     "output_type": "display_data"
    },
    {
     "data": {
      "application/javascript": [
       "console.log(\"[195903][INFO][openvisuspy.backend_cpp:76:printStatistics] Stats::printStatistics enlapsed=1.589998483657837 seconds\");\n"
      ],
      "text/plain": [
       "<IPython.core.display.Javascript object>"
      ]
     },
     "metadata": {},
     "output_type": "display_data"
    },
    {
     "data": {
      "application/javascript": [
       "console.log(\"[195903][INFO][openvisuspy.slice:280:pushJobIfNeeded] [Slice/0] pushed new job query_logic_box=[[514.6727557069144, 655.7068195874043, 489], [718.0270453147579, 813.197194235961, 490]]\");\n"
      ],
      "text/plain": [
       "<IPython.core.display.Javascript object>"
      ]
     },
     "metadata": {},
     "output_type": "display_data"
    },
    {
     "data": {
      "application/javascript": [
       "console.log(\"[195903][INFO][openvisuspy.backend_cpp:144:_threadLoop] _threadLoop is Alive\");\n"
      ],
      "text/plain": [
       "<IPython.core.display.Javascript object>"
      ]
     },
     "metadata": {},
     "output_type": "display_data"
    },
    {
     "data": {
      "application/javascript": [
       "console.log(\"[195903][INFO][openvisuspy.backend_cpp:76:createBoxQuery] begin timestep=0 field=data logic_box=[[514.6727557069144, 655.7068195874043, 489], [718.0270453147579, 813.197194235961, 490]] num_refinements=2 max_pixels=543862 endh=30\");\n"
      ],
      "text/plain": [
       "<IPython.core.display.Javascript object>"
      ]
     },
     "metadata": {},
     "output_type": "display_data"
    },
    {
     "data": {
      "application/javascript": [
       "console.log(\"[195903][INFO][openvisuspy.backend_cpp:112:createBoxQuery] Guess resolution endh=30 original_box=([514, 655, 489], [719, 814, 490]) aligned_box=([514, 655, 489], [719, 814, 490]) delta=[1, 1, 1] num_pixels=[205, 159, 1] tot_pixels=32,595 max_pixels=543,862 end=30\");\n"
      ],
      "text/plain": [
       "<IPython.core.display.Javascript object>"
      ]
     },
     "metadata": {},
     "output_type": "display_data"
    },
    {
     "data": {
      "application/javascript": [
       "console.log(\"[195903][INFO][openvisuspy.backend_cpp:140:beginBoxQuery] beginBoxQuery timestep=0 field=data logic_box=[[514, 655, 489], [719, 814, 490]] end_resolutions=[27, 30]\");\n"
      ],
      "text/plain": [
       "<IPython.core.display.Javascript object>"
      ]
     },
     "metadata": {},
     "output_type": "display_data"
    },
    {
     "data": {
      "application/javascript": [
       "console.log(\"[195903][INFO][openvisuspy.slice:237:pushJobIfNeeded] [Slice/0] pushing new job query_logic_box=[[497.8814766227204, 642.1837939076287, 489], [735.1281478318713, 825.9225643309449, 490]]...\");\n"
      ],
      "text/plain": [
       "<IPython.core.display.Javascript object>"
      ]
     },
     "metadata": {},
     "output_type": "display_data"
    },
    {
     "data": {
      "application/javascript": [
       "console.log(\"[195903][INFO][openvisuspy.backend_cpp:76:printStatistics] Stats::printStatistics enlapsed=0.019002676010131836 seconds\");\n"
      ],
      "text/plain": [
       "<IPython.core.display.Javascript object>"
      ]
     },
     "metadata": {},
     "output_type": "display_data"
    },
    {
     "data": {
      "application/javascript": [
       "console.log(\"[195903][INFO][openvisuspy.slice:280:pushJobIfNeeded] [Slice/0] pushed new job query_logic_box=[[497.8814766227204, 642.1837939076287, 489], [735.1281478318713, 825.9225643309449, 490]]\");\n"
      ],
      "text/plain": [
       "<IPython.core.display.Javascript object>"
      ]
     },
     "metadata": {},
     "output_type": "display_data"
    },
    {
     "data": {
      "application/javascript": [
       "console.log(\"[195903][INFO][openvisuspy.backend_cpp:76:createBoxQuery] begin timestep=0 field=data logic_box=[[497.8814766227204, 642.1837939076287, 489], [735.1281478318713, 825.9225643309449, 490]] num_refinements=2 max_pixels=543862 endh=30\");\n"
      ],
      "text/plain": [
       "<IPython.core.display.Javascript object>"
      ]
     },
     "metadata": {},
     "output_type": "display_data"
    },
    {
     "data": {
      "application/javascript": [
       "console.log(\"[195903][INFO][openvisuspy.backend_cpp:112:createBoxQuery] Guess resolution endh=30 original_box=([497, 642, 489], [736, 826, 490]) aligned_box=([497, 642, 489], [736, 826, 490]) delta=[1, 1, 1] num_pixels=[239, 184, 1] tot_pixels=43,976 max_pixels=543,862 end=30\");\n"
      ],
      "text/plain": [
       "<IPython.core.display.Javascript object>"
      ]
     },
     "metadata": {},
     "output_type": "display_data"
    },
    {
     "data": {
      "application/javascript": [
       "console.log(\"[195903][INFO][openvisuspy.backend_cpp:140:beginBoxQuery] beginBoxQuery timestep=0 field=data logic_box=[[497, 642, 489], [736, 826, 490]] end_resolutions=[27, 30]\");\n"
      ],
      "text/plain": [
       "<IPython.core.display.Javascript object>"
      ]
     },
     "metadata": {},
     "output_type": "display_data"
    },
    {
     "data": {
      "application/javascript": [
       "console.log(\"[195903][INFO][openvisuspy.slice:237:pushJobIfNeeded] [Slice/0] pushing new job query_logic_box=[[455.4368544932301, 608.0005901059734, 489], [778.3559347501299, 858.0894720710428, 490]]...\");\n"
      ],
      "text/plain": [
       "<IPython.core.display.Javascript object>"
      ]
     },
     "metadata": {},
     "output_type": "display_data"
    },
    {
     "data": {
      "application/javascript": [
       "console.log(\"[195903][INFO][openvisuspy.backend_cpp:76:printStatistics] Stats::printStatistics enlapsed=0.02299785614013672 seconds\");\n"
      ],
      "text/plain": [
       "<IPython.core.display.Javascript object>"
      ]
     },
     "metadata": {},
     "output_type": "display_data"
    },
    {
     "data": {
      "application/javascript": [
       "console.log(\"[195903][INFO][openvisuspy.slice:280:pushJobIfNeeded] [Slice/0] pushed new job query_logic_box=[[455.4368544932301, 608.0005901059734, 489], [778.3559347501299, 858.0894720710428, 490]]\");\n"
      ],
      "text/plain": [
       "<IPython.core.display.Javascript object>"
      ]
     },
     "metadata": {},
     "output_type": "display_data"
    },
    {
     "data": {
      "application/javascript": [
       "console.log(\"[195903][INFO][openvisuspy.backend_cpp:76:createBoxQuery] begin timestep=0 field=data logic_box=[[455.4368544932301, 608.0005901059734, 489], [778.3559347501299, 858.0894720710428, 490]] num_refinements=2 max_pixels=543862 endh=30\");\n"
      ],
      "text/plain": [
       "<IPython.core.display.Javascript object>"
      ]
     },
     "metadata": {},
     "output_type": "display_data"
    },
    {
     "data": {
      "application/javascript": [
       "console.log(\"[195903][INFO][openvisuspy.backend_cpp:112:createBoxQuery] Guess resolution endh=30 original_box=([455, 608, 489], [779, 859, 490]) aligned_box=([455, 608, 489], [779, 859, 490]) delta=[1, 1, 1] num_pixels=[324, 251, 1] tot_pixels=81,324 max_pixels=543,862 end=30\");\n"
      ],
      "text/plain": [
       "<IPython.core.display.Javascript object>"
      ]
     },
     "metadata": {},
     "output_type": "display_data"
    },
    {
     "data": {
      "application/javascript": [
       "console.log(\"[195903][INFO][openvisuspy.backend_cpp:140:beginBoxQuery] beginBoxQuery timestep=0 field=data logic_box=[[455, 608, 489], [779, 859, 490]] end_resolutions=[27, 30]\");\n"
      ],
      "text/plain": [
       "<IPython.core.display.Javascript object>"
      ]
     },
     "metadata": {},
     "output_type": "display_data"
    },
    {
     "data": {
      "application/javascript": [
       "console.log(\"[195903][INFO][openvisuspy.slice:237:pushJobIfNeeded] [Slice/0] pushing new job query_logic_box=[[428.7729252067555, 586.5265261792925, 489], [805.5118521731385, 878.2968884718737, 490]]...\");\n"
      ],
      "text/plain": [
       "<IPython.core.display.Javascript object>"
      ]
     },
     "metadata": {},
     "output_type": "display_data"
    },
    {
     "data": {
      "application/javascript": [
       "console.log(\"[195903][INFO][openvisuspy.backend_cpp:76:printStatistics] Stats::printStatistics enlapsed=0.03600025177001953 seconds\");\n"
      ],
      "text/plain": [
       "<IPython.core.display.Javascript object>"
      ]
     },
     "metadata": {},
     "output_type": "display_data"
    },
    {
     "data": {
      "application/javascript": [
       "console.log(\"[195903][INFO][openvisuspy.slice:280:pushJobIfNeeded] [Slice/0] pushed new job query_logic_box=[[428.7729252067555, 586.5265261792925, 489], [805.5118521731385, 878.2968884718737, 490]]\");\n"
      ],
      "text/plain": [
       "<IPython.core.display.Javascript object>"
      ]
     },
     "metadata": {},
     "output_type": "display_data"
    },
    {
     "data": {
      "application/javascript": [
       "console.log(\"[195903][INFO][openvisuspy.backend_cpp:76:createBoxQuery] begin timestep=0 field=data logic_box=[[428.7729252067555, 586.5265261792925, 489], [805.5118521731385, 878.2968884718737, 490]] num_refinements=2 max_pixels=543862 endh=30\");\n"
      ],
      "text/plain": [
       "<IPython.core.display.Javascript object>"
      ]
     },
     "metadata": {},
     "output_type": "display_data"
    },
    {
     "data": {
      "application/javascript": [
       "console.log(\"[195903][INFO][openvisuspy.backend_cpp:112:createBoxQuery] Guess resolution endh=30 original_box=([428, 586, 489], [806, 879, 490]) aligned_box=([428, 586, 489], [806, 879, 490]) delta=[1, 1, 1] num_pixels=[378, 293, 1] tot_pixels=110,754 max_pixels=543,862 end=30\");\n"
      ],
      "text/plain": [
       "<IPython.core.display.Javascript object>"
      ]
     },
     "metadata": {},
     "output_type": "display_data"
    },
    {
     "data": {
      "application/javascript": [
       "console.log(\"[195903][INFO][openvisuspy.backend_cpp:140:beginBoxQuery] beginBoxQuery timestep=0 field=data logic_box=[[428, 586, 489], [806, 879, 490]] end_resolutions=[27, 30]\");\n"
      ],
      "text/plain": [
       "<IPython.core.display.Javascript object>"
      ]
     },
     "metadata": {},
     "output_type": "display_data"
    },
    {
     "data": {
      "application/javascript": [
       "console.log(\"[195905][INFO][openvisuspy.slice:237:pushJobIfNeeded] [Slice/0] pushing new job query_logic_box=[[415.82810425648876, 587.8752335550672, 489], [792.5670312228718, 879.6455958476483, 490]]...\");\n"
      ],
      "text/plain": [
       "<IPython.core.display.Javascript object>"
      ]
     },
     "metadata": {},
     "output_type": "display_data"
    },
    {
     "data": {
      "application/javascript": [
       "console.log(\"[195905][INFO][openvisuspy.slice:280:pushJobIfNeeded] [Slice/0] pushed new job query_logic_box=[[415.82810425648876, 587.8752335550672, 489], [792.5670312228718, 879.6455958476483, 490]]\");\n"
      ],
      "text/plain": [
       "<IPython.core.display.Javascript object>"
      ]
     },
     "metadata": {},
     "output_type": "display_data"
    },
    {
     "data": {
      "application/javascript": [
       "console.log(\"[195905][INFO][openvisuspy.backend_cpp:76:printStatistics] Stats::printStatistics enlapsed=1.868999719619751 seconds\");\n"
      ],
      "text/plain": [
       "<IPython.core.display.Javascript object>"
      ]
     },
     "metadata": {},
     "output_type": "display_data"
    },
    {
     "data": {
      "application/javascript": [
       "console.log(\"[195905][INFO][openvisuspy.backend_cpp:76:createBoxQuery] begin timestep=0 field=data logic_box=[[415.82810425648876, 587.8752335550672, 489], [792.5670312228718, 879.6455958476483, 490]] num_refinements=2 max_pixels=543862 endh=30\");\n"
      ],
      "text/plain": [
       "<IPython.core.display.Javascript object>"
      ]
     },
     "metadata": {},
     "output_type": "display_data"
    },
    {
     "data": {
      "application/javascript": [
       "console.log(\"[195905][INFO][openvisuspy.backend_cpp:112:createBoxQuery] Guess resolution endh=30 original_box=([415, 587, 489], [793, 880, 490]) aligned_box=([415, 587, 489], [793, 880, 490]) delta=[1, 1, 1] num_pixels=[378, 293, 1] tot_pixels=110,754 max_pixels=543,862 end=30\");\n"
      ],
      "text/plain": [
       "<IPython.core.display.Javascript object>"
      ]
     },
     "metadata": {},
     "output_type": "display_data"
    },
    {
     "data": {
      "application/javascript": [
       "console.log(\"[195905][INFO][openvisuspy.backend_cpp:140:beginBoxQuery] beginBoxQuery timestep=0 field=data logic_box=[[415, 587, 489], [793, 880, 490]] end_resolutions=[27, 30]\");\n"
      ],
      "text/plain": [
       "<IPython.core.display.Javascript object>"
      ]
     },
     "metadata": {},
     "output_type": "display_data"
    },
    {
     "data": {
      "application/javascript": [
       "console.log(\"[195905][INFO][openvisuspy.slice:237:pushJobIfNeeded] [Slice/0] pushing new job query_logic_box=[[383.24286531271395, 589.6735100561001, 489], [759.981792279097, 881.4438723486812, 490]]...\");\n"
      ],
      "text/plain": [
       "<IPython.core.display.Javascript object>"
      ]
     },
     "metadata": {},
     "output_type": "display_data"
    },
    {
     "data": {
      "application/javascript": [
       "console.log(\"[195905][INFO][openvisuspy.slice:280:pushJobIfNeeded] [Slice/0] pushed new job query_logic_box=[[383.24286531271395, 589.6735100561001, 489], [759.981792279097, 881.4438723486812, 490]]\");\n"
      ],
      "text/plain": [
       "<IPython.core.display.Javascript object>"
      ]
     },
     "metadata": {},
     "output_type": "display_data"
    },
    {
     "data": {
      "application/javascript": [
       "console.log(\"[195905][INFO][openvisuspy.backend_cpp:76:printStatistics] Stats::printStatistics enlapsed=0.020998716354370117 seconds\");\n"
      ],
      "text/plain": [
       "<IPython.core.display.Javascript object>"
      ]
     },
     "metadata": {},
     "output_type": "display_data"
    },
    {
     "data": {
      "application/javascript": [
       "console.log(\"[195905][INFO][openvisuspy.backend_cpp:76:createBoxQuery] begin timestep=0 field=data logic_box=[[383.24286531271395, 589.6735100561001, 489], [759.981792279097, 881.4438723486812, 490]] num_refinements=2 max_pixels=543862 endh=30\");\n"
      ],
      "text/plain": [
       "<IPython.core.display.Javascript object>"
      ]
     },
     "metadata": {},
     "output_type": "display_data"
    },
    {
     "data": {
      "application/javascript": [
       "console.log(\"[195905][INFO][openvisuspy.backend_cpp:112:createBoxQuery] Guess resolution endh=30 original_box=([383, 589, 489], [760, 882, 490]) aligned_box=([383, 589, 489], [760, 882, 490]) delta=[1, 1, 1] num_pixels=[377, 293, 1] tot_pixels=110,461 max_pixels=543,862 end=30\");\n"
      ],
      "text/plain": [
       "<IPython.core.display.Javascript object>"
      ]
     },
     "metadata": {},
     "output_type": "display_data"
    },
    {
     "data": {
      "application/javascript": [
       "console.log(\"[195905][INFO][openvisuspy.backend_cpp:140:beginBoxQuery] beginBoxQuery timestep=0 field=data logic_box=[[383, 589, 489], [760, 882, 490]] end_resolutions=[27, 30]\");\n"
      ],
      "text/plain": [
       "<IPython.core.display.Javascript object>"
      ]
     },
     "metadata": {},
     "output_type": "display_data"
    },
    {
     "data": {
      "application/javascript": [
       "console.log(\"[195905][INFO][openvisuspy.slice:237:pushJobIfNeeded] [Slice/0] pushing new job query_logic_box=[[351.5503726413713, 590.5726483066165, 489], [728.2892996077543, 882.3430105991976, 490]]...\");\n"
      ],
      "text/plain": [
       "<IPython.core.display.Javascript object>"
      ]
     },
     "metadata": {},
     "output_type": "display_data"
    },
    {
     "data": {
      "application/javascript": [
       "console.log(\"[195905][INFO][openvisuspy.backend_cpp:76:printStatistics] Stats::printStatistics enlapsed=0.028998851776123047 seconds\");\n"
      ],
      "text/plain": [
       "<IPython.core.display.Javascript object>"
      ]
     },
     "metadata": {},
     "output_type": "display_data"
    },
    {
     "data": {
      "application/javascript": [
       "console.log(\"[195905][INFO][openvisuspy.slice:280:pushJobIfNeeded] [Slice/0] pushed new job query_logic_box=[[351.5503726413713, 590.5726483066165, 489], [728.2892996077543, 882.3430105991976, 490]]\");\n"
      ],
      "text/plain": [
       "<IPython.core.display.Javascript object>"
      ]
     },
     "metadata": {},
     "output_type": "display_data"
    },
    {
     "data": {
      "application/javascript": [
       "console.log(\"[195905][INFO][openvisuspy.backend_cpp:76:createBoxQuery] begin timestep=0 field=data logic_box=[[351.5503726413713, 590.5726483066165, 489], [728.2892996077543, 882.3430105991976, 490]] num_refinements=2 max_pixels=543862 endh=30\");\n"
      ],
      "text/plain": [
       "<IPython.core.display.Javascript object>"
      ]
     },
     "metadata": {},
     "output_type": "display_data"
    },
    {
     "data": {
      "application/javascript": [
       "console.log(\"[195905][INFO][openvisuspy.backend_cpp:112:createBoxQuery] Guess resolution endh=30 original_box=([351, 590, 489], [729, 883, 490]) aligned_box=([351, 590, 489], [729, 883, 490]) delta=[1, 1, 1] num_pixels=[378, 293, 1] tot_pixels=110,754 max_pixels=543,862 end=30\");\n"
      ],
      "text/plain": [
       "<IPython.core.display.Javascript object>"
      ]
     },
     "metadata": {},
     "output_type": "display_data"
    },
    {
     "data": {
      "application/javascript": [
       "console.log(\"[195905][INFO][openvisuspy.backend_cpp:140:beginBoxQuery] beginBoxQuery timestep=0 field=data logic_box=[[351, 590, 489], [729, 883, 490]] end_resolutions=[27, 30]\");\n"
      ],
      "text/plain": [
       "<IPython.core.display.Javascript object>"
      ]
     },
     "metadata": {},
     "output_type": "display_data"
    },
    {
     "data": {
      "application/javascript": [
       "console.log(\"[195905][INFO][openvisuspy.slice:237:pushJobIfNeeded] [Slice/0] pushing new job query_logic_box=[[340.8374173721851, 590.5726483066165, 489], [717.5763443385681, 882.3430105991976, 490]]...\");\n"
      ],
      "text/plain": [
       "<IPython.core.display.Javascript object>"
      ]
     },
     "metadata": {},
     "output_type": "display_data"
    },
    {
     "data": {
      "application/javascript": [
       "console.log(\"[195905][INFO][openvisuspy.slice:280:pushJobIfNeeded] [Slice/0] pushed new job query_logic_box=[[340.8374173721851, 590.5726483066165, 489], [717.5763443385681, 882.3430105991976, 490]]\");\n"
      ],
      "text/plain": [
       "<IPython.core.display.Javascript object>"
      ]
     },
     "metadata": {},
     "output_type": "display_data"
    },
    {
     "data": {
      "application/javascript": [
       "console.log(\"[195905][INFO][openvisuspy.backend_cpp:76:printStatistics] Stats::printStatistics enlapsed=0.02299809455871582 seconds\");\n"
      ],
      "text/plain": [
       "<IPython.core.display.Javascript object>"
      ]
     },
     "metadata": {},
     "output_type": "display_data"
    },
    {
     "data": {
      "application/javascript": [
       "console.log(\"[195905][INFO][openvisuspy.backend_cpp:76:createBoxQuery] begin timestep=0 field=data logic_box=[[340.8374173721851, 590.5726483066165, 489], [717.5763443385681, 882.3430105991976, 490]] num_refinements=2 max_pixels=543862 endh=30\");\n"
      ],
      "text/plain": [
       "<IPython.core.display.Javascript object>"
      ]
     },
     "metadata": {},
     "output_type": "display_data"
    },
    {
     "data": {
      "application/javascript": [
       "console.log(\"[195905][INFO][openvisuspy.backend_cpp:112:createBoxQuery] Guess resolution endh=30 original_box=([340, 590, 489], [718, 883, 490]) aligned_box=([340, 590, 489], [718, 883, 490]) delta=[1, 1, 1] num_pixels=[378, 293, 1] tot_pixels=110,754 max_pixels=543,862 end=30\");\n"
      ],
      "text/plain": [
       "<IPython.core.display.Javascript object>"
      ]
     },
     "metadata": {},
     "output_type": "display_data"
    },
    {
     "data": {
      "application/javascript": [
       "console.log(\"[195905][INFO][openvisuspy.backend_cpp:140:beginBoxQuery] beginBoxQuery timestep=0 field=data logic_box=[[340, 590, 489], [718, 883, 490]] end_resolutions=[27, 30]\");\n"
      ],
      "text/plain": [
       "<IPython.core.display.Javascript object>"
      ]
     },
     "metadata": {},
     "output_type": "display_data"
    },
    {
     "data": {
      "application/javascript": [
       "console.log(\"[195905][INFO][openvisuspy.slice:237:pushJobIfNeeded] [Slice/0] pushing new job query_logic_box=[[298.87834256787227, 591.9213556823912, 489], [675.6172695342552, 883.6917179749722, 490]]...\");\n"
      ],
      "text/plain": [
       "<IPython.core.display.Javascript object>"
      ]
     },
     "metadata": {},
     "output_type": "display_data"
    },
    {
     "data": {
      "application/javascript": [
       "console.log(\"[195905][INFO][openvisuspy.slice:280:pushJobIfNeeded] [Slice/0] pushed new job query_logic_box=[[298.87834256787227, 591.9213556823912, 489], [675.6172695342552, 883.6917179749722, 490]]\");\n"
      ],
      "text/plain": [
       "<IPython.core.display.Javascript object>"
      ]
     },
     "metadata": {},
     "output_type": "display_data"
    },
    {
     "data": {
      "application/javascript": [
       "console.log(\"[195905][INFO][openvisuspy.backend_cpp:76:printStatistics] Stats::printStatistics enlapsed=0.026002883911132812 seconds\");\n"
      ],
      "text/plain": [
       "<IPython.core.display.Javascript object>"
      ]
     },
     "metadata": {},
     "output_type": "display_data"
    },
    {
     "data": {
      "application/javascript": [
       "console.log(\"[195905][INFO][openvisuspy.backend_cpp:76:createBoxQuery] begin timestep=0 field=data logic_box=[[298.87834256787227, 591.9213556823912, 489], [675.6172695342552, 883.6917179749722, 490]] num_refinements=2 max_pixels=543862 endh=30\");\n"
      ],
      "text/plain": [
       "<IPython.core.display.Javascript object>"
      ]
     },
     "metadata": {},
     "output_type": "display_data"
    },
    {
     "data": {
      "application/javascript": [
       "console.log(\"[195905][INFO][openvisuspy.backend_cpp:112:createBoxQuery] Guess resolution endh=30 original_box=([298, 591, 489], [676, 884, 490]) aligned_box=([298, 591, 489], [676, 884, 490]) delta=[1, 1, 1] num_pixels=[378, 293, 1] tot_pixels=110,754 max_pixels=543,862 end=30\");\n"
      ],
      "text/plain": [
       "<IPython.core.display.Javascript object>"
      ]
     },
     "metadata": {},
     "output_type": "display_data"
    },
    {
     "data": {
      "application/javascript": [
       "console.log(\"[195905][INFO][openvisuspy.backend_cpp:140:beginBoxQuery] beginBoxQuery timestep=0 field=data logic_box=[[298, 591, 489], [676, 884, 490]] end_resolutions=[27, 30]\");\n"
      ],
      "text/plain": [
       "<IPython.core.display.Javascript object>"
      ]
     },
     "metadata": {},
     "output_type": "display_data"
    },
    {
     "data": {
      "application/javascript": [
       "console.log(\"[195905][INFO][openvisuspy.slice:237:pushJobIfNeeded] [Slice/0] pushing new job query_logic_box=[[269.4177155776101, 595.9674778097152, 489], [646.1566425439931, 887.7378401022961, 490]]...\");\n"
      ],
      "text/plain": [
       "<IPython.core.display.Javascript object>"
      ]
     },
     "metadata": {},
     "output_type": "display_data"
    },
    {
     "data": {
      "application/javascript": [
       "console.log(\"[195905][INFO][openvisuspy.slice:280:pushJobIfNeeded] [Slice/0] pushed new job query_logic_box=[[269.4177155776101, 595.9674778097152, 489], [646.1566425439931, 887.7378401022961, 490]]\");\n"
      ],
      "text/plain": [
       "<IPython.core.display.Javascript object>"
      ]
     },
     "metadata": {},
     "output_type": "display_data"
    },
    {
     "data": {
      "application/javascript": [
       "console.log(\"[195905][INFO][openvisuspy.backend_cpp:76:printStatistics] Stats::printStatistics enlapsed=0.02299952507019043 seconds\");\n"
      ],
      "text/plain": [
       "<IPython.core.display.Javascript object>"
      ]
     },
     "metadata": {},
     "output_type": "display_data"
    },
    {
     "data": {
      "application/javascript": [
       "console.log(\"[195905][INFO][openvisuspy.backend_cpp:76:createBoxQuery] begin timestep=0 field=data logic_box=[[269.4177155776101, 595.9674778097152, 489], [646.1566425439931, 887.7378401022961, 490]] num_refinements=2 max_pixels=543862 endh=30\");\n"
      ],
      "text/plain": [
       "<IPython.core.display.Javascript object>"
      ]
     },
     "metadata": {},
     "output_type": "display_data"
    },
    {
     "data": {
      "application/javascript": [
       "console.log(\"[195905][INFO][openvisuspy.backend_cpp:112:createBoxQuery] Guess resolution endh=30 original_box=([269, 595, 489], [647, 888, 490]) aligned_box=([269, 595, 489], [647, 888, 490]) delta=[1, 1, 1] num_pixels=[378, 293, 1] tot_pixels=110,754 max_pixels=543,862 end=30\");\n"
      ],
      "text/plain": [
       "<IPython.core.display.Javascript object>"
      ]
     },
     "metadata": {},
     "output_type": "display_data"
    },
    {
     "data": {
      "application/javascript": [
       "console.log(\"[195905][INFO][openvisuspy.backend_cpp:140:beginBoxQuery] beginBoxQuery timestep=0 field=data logic_box=[[269, 595, 489], [647, 888, 490]] end_resolutions=[27, 30]\");\n"
      ],
      "text/plain": [
       "<IPython.core.display.Javascript object>"
      ]
     },
     "metadata": {},
     "output_type": "display_data"
    },
    {
     "data": {
      "application/javascript": [
       "console.log(\"[195905][INFO][openvisuspy.slice:237:pushJobIfNeeded] [Slice/0] pushing new job query_logic_box=[[250.22367072031813, 601.3623073128138, 489], [626.9625976867011, 893.1326696053947, 490]]...\");\n"
      ],
      "text/plain": [
       "<IPython.core.display.Javascript object>"
      ]
     },
     "metadata": {},
     "output_type": "display_data"
    },
    {
     "data": {
      "application/javascript": [
       "console.log(\"[195905][INFO][openvisuspy.backend_cpp:76:printStatistics] Stats::printStatistics enlapsed=0.03500103950500488 seconds\");\n"
      ],
      "text/plain": [
       "<IPython.core.display.Javascript object>"
      ]
     },
     "metadata": {},
     "output_type": "display_data"
    },
    {
     "data": {
      "application/javascript": [
       "console.log(\"[195905][INFO][openvisuspy.slice:280:pushJobIfNeeded] [Slice/0] pushed new job query_logic_box=[[250.22367072031813, 601.3623073128138, 489], [626.9625976867011, 893.1326696053947, 490]]\");\n"
      ],
      "text/plain": [
       "<IPython.core.display.Javascript object>"
      ]
     },
     "metadata": {},
     "output_type": "display_data"
    },
    {
     "data": {
      "application/javascript": [
       "console.log(\"[195905][INFO][openvisuspy.backend_cpp:76:createBoxQuery] begin timestep=0 field=data logic_box=[[250.22367072031813, 601.3623073128138, 489], [626.9625976867011, 893.1326696053947, 490]] num_refinements=2 max_pixels=543862 endh=30\");\n"
      ],
      "text/plain": [
       "<IPython.core.display.Javascript object>"
      ]
     },
     "metadata": {},
     "output_type": "display_data"
    },
    {
     "data": {
      "application/javascript": [
       "console.log(\"[195905][INFO][openvisuspy.backend_cpp:112:createBoxQuery] Guess resolution endh=30 original_box=([250, 601, 489], [627, 894, 490]) aligned_box=([250, 601, 489], [627, 894, 490]) delta=[1, 1, 1] num_pixels=[377, 293, 1] tot_pixels=110,461 max_pixels=543,862 end=30\");\n"
      ],
      "text/plain": [
       "<IPython.core.display.Javascript object>"
      ]
     },
     "metadata": {},
     "output_type": "display_data"
    },
    {
     "data": {
      "application/javascript": [
       "console.log(\"[195905][INFO][openvisuspy.backend_cpp:140:beginBoxQuery] beginBoxQuery timestep=0 field=data logic_box=[[250, 601, 489], [627, 894, 490]] end_resolutions=[27, 30]\");\n"
      ],
      "text/plain": [
       "<IPython.core.display.Javascript object>"
      ]
     },
     "metadata": {},
     "output_type": "display_data"
    },
    {
     "data": {
      "application/javascript": [
       "console.log(\"[195905][INFO][openvisuspy.slice:237:pushJobIfNeeded] [Slice/0] pushing new job query_logic_box=[[243.52807367707672, 607.2067059411706, 489], [620.2670006434597, 898.9770682337514, 490]]...\");\n"
      ],
      "text/plain": [
       "<IPython.core.display.Javascript object>"
      ]
     },
     "metadata": {},
     "output_type": "display_data"
    },
    {
     "data": {
      "application/javascript": [
       "console.log(\"[195905][INFO][openvisuspy.slice:280:pushJobIfNeeded] [Slice/0] pushed new job query_logic_box=[[243.52807367707672, 607.2067059411706, 489], [620.2670006434597, 898.9770682337514, 490]]\");\n"
      ],
      "text/plain": [
       "<IPython.core.display.Javascript object>"
      ]
     },
     "metadata": {},
     "output_type": "display_data"
    },
    {
     "data": {
      "application/javascript": [
       "console.log(\"[195905][INFO][openvisuspy.backend_cpp:76:printStatistics] Stats::printStatistics enlapsed=0.026000261306762695 seconds\");\n"
      ],
      "text/plain": [
       "<IPython.core.display.Javascript object>"
      ]
     },
     "metadata": {},
     "output_type": "display_data"
    },
    {
     "data": {
      "application/javascript": [
       "console.log(\"[195905][INFO][openvisuspy.backend_cpp:76:createBoxQuery] begin timestep=0 field=data logic_box=[[243.52807367707672, 607.2067059411706, 489], [620.2670006434597, 898.9770682337514, 490]] num_refinements=2 max_pixels=543862 endh=30\");\n"
      ],
      "text/plain": [
       "<IPython.core.display.Javascript object>"
      ]
     },
     "metadata": {},
     "output_type": "display_data"
    },
    {
     "data": {
      "application/javascript": [
       "console.log(\"[195905][INFO][openvisuspy.backend_cpp:112:createBoxQuery] Guess resolution endh=30 original_box=([243, 607, 489], [621, 899, 490]) aligned_box=([243, 607, 489], [621, 899, 490]) delta=[1, 1, 1] num_pixels=[378, 292, 1] tot_pixels=110,376 max_pixels=543,862 end=30\");\n"
      ],
      "text/plain": [
       "<IPython.core.display.Javascript object>"
      ]
     },
     "metadata": {},
     "output_type": "display_data"
    },
    {
     "data": {
      "application/javascript": [
       "console.log(\"[195905][INFO][openvisuspy.backend_cpp:140:beginBoxQuery] beginBoxQuery timestep=0 field=data logic_box=[[243, 607, 489], [621, 899, 490]] end_resolutions=[27, 30]\");\n"
      ],
      "text/plain": [
       "<IPython.core.display.Javascript object>"
      ]
     },
     "metadata": {},
     "output_type": "display_data"
    },
    {
     "data": {
      "application/javascript": [
       "console.log(\"[195905][INFO][openvisuspy.slice:237:pushJobIfNeeded] [Slice/0] pushing new job query_logic_box=[[243.52807367707672, 613.9502428200439, 489], [620.2670006434597, 905.7206051126246, 490]]...\");\n"
      ],
      "text/plain": [
       "<IPython.core.display.Javascript object>"
      ]
     },
     "metadata": {},
     "output_type": "display_data"
    },
    {
     "data": {
      "application/javascript": [
       "console.log(\"[195905][INFO][openvisuspy.slice:280:pushJobIfNeeded] [Slice/0] pushed new job query_logic_box=[[243.52807367707672, 613.9502428200439, 489], [620.2670006434597, 905.7206051126246, 490]]\");\n"
      ],
      "text/plain": [
       "<IPython.core.display.Javascript object>"
      ]
     },
     "metadata": {},
     "output_type": "display_data"
    },
    {
     "data": {
      "application/javascript": [
       "console.log(\"[195905][INFO][openvisuspy.backend_cpp:76:printStatistics] Stats::printStatistics enlapsed=0.03299880027770996 seconds\");\n"
      ],
      "text/plain": [
       "<IPython.core.display.Javascript object>"
      ]
     },
     "metadata": {},
     "output_type": "display_data"
    },
    {
     "data": {
      "application/javascript": [
       "console.log(\"[195905][INFO][openvisuspy.backend_cpp:76:createBoxQuery] begin timestep=0 field=data logic_box=[[243.52807367707672, 613.9502428200439, 489], [620.2670006434597, 905.7206051126246, 490]] num_refinements=2 max_pixels=543862 endh=30\");\n"
      ],
      "text/plain": [
       "<IPython.core.display.Javascript object>"
      ]
     },
     "metadata": {},
     "output_type": "display_data"
    },
    {
     "data": {
      "application/javascript": [
       "console.log(\"[195905][INFO][openvisuspy.backend_cpp:112:createBoxQuery] Guess resolution endh=30 original_box=([243, 613, 489], [621, 906, 490]) aligned_box=([243, 613, 489], [621, 906, 490]) delta=[1, 1, 1] num_pixels=[378, 293, 1] tot_pixels=110,754 max_pixels=543,862 end=30\");\n"
      ],
      "text/plain": [
       "<IPython.core.display.Javascript object>"
      ]
     },
     "metadata": {},
     "output_type": "display_data"
    },
    {
     "data": {
      "application/javascript": [
       "console.log(\"[195905][INFO][openvisuspy.backend_cpp:140:beginBoxQuery] beginBoxQuery timestep=0 field=data logic_box=[[243, 613, 489], [621, 906, 490]] end_resolutions=[27, 30]\");\n"
      ],
      "text/plain": [
       "<IPython.core.display.Javascript object>"
      ]
     },
     "metadata": {},
     "output_type": "display_data"
    },
    {
     "data": {
      "application/javascript": [
       "console.log(\"[195905][INFO][openvisuspy.slice:237:pushJobIfNeeded] [Slice/0] pushing new job query_logic_box=[[243.52807367707672, 618.8955031978842, 489], [620.2670006434597, 910.665865490465, 490]]...\");\n"
      ],
      "text/plain": [
       "<IPython.core.display.Javascript object>"
      ]
     },
     "metadata": {},
     "output_type": "display_data"
    },
    {
     "data": {
      "application/javascript": [
       "console.log(\"[195905][INFO][openvisuspy.backend_cpp:76:printStatistics] Stats::printStatistics enlapsed=0.020000696182250977 seconds\");\n"
      ],
      "text/plain": [
       "<IPython.core.display.Javascript object>"
      ]
     },
     "metadata": {},
     "output_type": "display_data"
    },
    {
     "data": {
      "application/javascript": [
       "console.log(\"[195905][INFO][openvisuspy.slice:280:pushJobIfNeeded] [Slice/0] pushed new job query_logic_box=[[243.52807367707672, 618.8955031978842, 489], [620.2670006434597, 910.665865490465, 490]]\");\n"
      ],
      "text/plain": [
       "<IPython.core.display.Javascript object>"
      ]
     },
     "metadata": {},
     "output_type": "display_data"
    },
    {
     "data": {
      "application/javascript": [
       "console.log(\"[195905][INFO][openvisuspy.backend_cpp:76:createBoxQuery] begin timestep=0 field=data logic_box=[[243.52807367707672, 618.8955031978842, 489], [620.2670006434597, 910.665865490465, 490]] num_refinements=2 max_pixels=543862 endh=30\");\n"
      ],
      "text/plain": [
       "<IPython.core.display.Javascript object>"
      ]
     },
     "metadata": {},
     "output_type": "display_data"
    },
    {
     "data": {
      "application/javascript": [
       "console.log(\"[195905][INFO][openvisuspy.backend_cpp:112:createBoxQuery] Guess resolution endh=30 original_box=([243, 618, 489], [621, 911, 490]) aligned_box=([243, 618, 489], [621, 911, 490]) delta=[1, 1, 1] num_pixels=[378, 293, 1] tot_pixels=110,754 max_pixels=543,862 end=30\");\n"
      ],
      "text/plain": [
       "<IPython.core.display.Javascript object>"
      ]
     },
     "metadata": {},
     "output_type": "display_data"
    },
    {
     "data": {
      "application/javascript": [
       "console.log(\"[195905][INFO][openvisuspy.backend_cpp:140:beginBoxQuery] beginBoxQuery timestep=0 field=data logic_box=[[243, 618, 489], [621, 911, 490]] end_resolutions=[27, 30]\");\n"
      ],
      "text/plain": [
       "<IPython.core.display.Javascript object>"
      ]
     },
     "metadata": {},
     "output_type": "display_data"
    },
    {
     "data": {
      "application/javascript": [
       "console.log(\"[195905][INFO][openvisuspy.slice:237:pushJobIfNeeded] [Slice/0] pushing new job query_logic_box=[[243.08170054086062, 640.0252520850203, 489], [619.8206275072436, 931.7956143776009, 490]]...\");\n"
      ],
      "text/plain": [
       "<IPython.core.display.Javascript object>"
      ]
     },
     "metadata": {},
     "output_type": "display_data"
    },
    {
     "data": {
      "application/javascript": [
       "console.log(\"[195905][INFO][openvisuspy.slice:280:pushJobIfNeeded] [Slice/0] pushed new job query_logic_box=[[243.08170054086062, 640.0252520850203, 489], [619.8206275072436, 931.7956143776009, 490]]\");\n"
      ],
      "text/plain": [
       "<IPython.core.display.Javascript object>"
      ]
     },
     "metadata": {},
     "output_type": "display_data"
    },
    {
     "data": {
      "application/javascript": [
       "console.log(\"[195905][INFO][openvisuspy.backend_cpp:76:printStatistics] Stats::printStatistics enlapsed=0.029002666473388672 seconds\");\n"
      ],
      "text/plain": [
       "<IPython.core.display.Javascript object>"
      ]
     },
     "metadata": {},
     "output_type": "display_data"
    },
    {
     "data": {
      "application/javascript": [
       "console.log(\"[195905][INFO][openvisuspy.backend_cpp:76:createBoxQuery] begin timestep=0 field=data logic_box=[[243.08170054086062, 640.0252520850203, 489], [619.8206275072436, 931.7956143776009, 490]] num_refinements=2 max_pixels=543862 endh=30\");\n"
      ],
      "text/plain": [
       "<IPython.core.display.Javascript object>"
      ]
     },
     "metadata": {},
     "output_type": "display_data"
    },
    {
     "data": {
      "application/javascript": [
       "console.log(\"[195905][INFO][openvisuspy.backend_cpp:112:createBoxQuery] Guess resolution endh=30 original_box=([243, 640, 489], [620, 932, 490]) aligned_box=([243, 640, 489], [620, 932, 490]) delta=[1, 1, 1] num_pixels=[377, 292, 1] tot_pixels=110,084 max_pixels=543,862 end=30\");\n"
      ],
      "text/plain": [
       "<IPython.core.display.Javascript object>"
      ]
     },
     "metadata": {},
     "output_type": "display_data"
    },
    {
     "data": {
      "application/javascript": [
       "console.log(\"[195905][INFO][openvisuspy.backend_cpp:140:beginBoxQuery] beginBoxQuery timestep=0 field=data logic_box=[[243, 640, 489], [620, 932, 490]] end_resolutions=[27, 30]\");\n"
      ],
      "text/plain": [
       "<IPython.core.display.Javascript object>"
      ]
     },
     "metadata": {},
     "output_type": "display_data"
    },
    {
     "data": {
      "application/javascript": [
       "console.log(\"[195905][INFO][openvisuspy.slice:237:pushJobIfNeeded] [Slice/0] pushing new job query_logic_box=[[243.08170054086062, 665.2011230994801, 489], [619.8206275072436, 956.9714853920608, 490]]...\");\n"
      ],
      "text/plain": [
       "<IPython.core.display.Javascript object>"
      ]
     },
     "metadata": {},
     "output_type": "display_data"
    },
    {
     "data": {
      "application/javascript": [
       "console.log(\"[195905][INFO][openvisuspy.backend_cpp:76:printStatistics] Stats::printStatistics enlapsed=0.021998882293701172 seconds\");\n"
      ],
      "text/plain": [
       "<IPython.core.display.Javascript object>"
      ]
     },
     "metadata": {},
     "output_type": "display_data"
    },
    {
     "data": {
      "application/javascript": [
       "console.log(\"[195905][INFO][openvisuspy.slice:280:pushJobIfNeeded] [Slice/0] pushed new job query_logic_box=[[243.08170054086062, 665.2011230994801, 489], [619.8206275072436, 956.9714853920608, 490]]\");\n"
      ],
      "text/plain": [
       "<IPython.core.display.Javascript object>"
      ]
     },
     "metadata": {},
     "output_type": "display_data"
    },
    {
     "data": {
      "application/javascript": [
       "console.log(\"[195905][INFO][openvisuspy.backend_cpp:76:createBoxQuery] begin timestep=0 field=data logic_box=[[243.08170054086062, 665.2011230994801, 489], [619.8206275072436, 956.9714853920608, 490]] num_refinements=2 max_pixels=543862 endh=30\");\n"
      ],
      "text/plain": [
       "<IPython.core.display.Javascript object>"
      ]
     },
     "metadata": {},
     "output_type": "display_data"
    },
    {
     "data": {
      "application/javascript": [
       "console.log(\"[195905][INFO][openvisuspy.backend_cpp:112:createBoxQuery] Guess resolution endh=30 original_box=([243, 665, 489], [620, 957, 490]) aligned_box=([243, 665, 489], [620, 957, 490]) delta=[1, 1, 1] num_pixels=[377, 292, 1] tot_pixels=110,084 max_pixels=543,862 end=30\");\n"
      ],
      "text/plain": [
       "<IPython.core.display.Javascript object>"
      ]
     },
     "metadata": {},
     "output_type": "display_data"
    },
    {
     "data": {
      "application/javascript": [
       "console.log(\"[195905][INFO][openvisuspy.backend_cpp:140:beginBoxQuery] beginBoxQuery timestep=0 field=data logic_box=[[243, 665, 489], [620, 957, 490]] end_resolutions=[27, 30]\");\n"
      ],
      "text/plain": [
       "<IPython.core.display.Javascript object>"
      ]
     },
     "metadata": {},
     "output_type": "display_data"
    },
    {
     "data": {
      "application/javascript": [
       "console.log(\"[195905][INFO][openvisuspy.slice:237:pushJobIfNeeded] [Slice/0] pushing new job query_logic_box=[[242.63532740464453, 682.2847498592922, 489], [619.3742543710274, 974.0551121518729, 490]]...\");\n"
      ],
      "text/plain": [
       "<IPython.core.display.Javascript object>"
      ]
     },
     "metadata": {},
     "output_type": "display_data"
    },
    {
     "data": {
      "application/javascript": [
       "console.log(\"[195905][INFO][openvisuspy.backend_cpp:76:printStatistics] Stats::printStatistics enlapsed=0.028000593185424805 seconds\");\n"
      ],
      "text/plain": [
       "<IPython.core.display.Javascript object>"
      ]
     },
     "metadata": {},
     "output_type": "display_data"
    },
    {
     "data": {
      "application/javascript": [
       "console.log(\"[195905][INFO][openvisuspy.slice:280:pushJobIfNeeded] [Slice/0] pushed new job query_logic_box=[[242.63532740464453, 682.2847498592922, 489], [619.3742543710274, 974.0551121518729, 490]]\");\n"
      ],
      "text/plain": [
       "<IPython.core.display.Javascript object>"
      ]
     },
     "metadata": {},
     "output_type": "display_data"
    },
    {
     "data": {
      "application/javascript": [
       "console.log(\"[195905][INFO][openvisuspy.backend_cpp:76:createBoxQuery] begin timestep=0 field=data logic_box=[[242.63532740464453, 682.2847498592922, 489], [619.3742543710274, 974.0551121518729, 490]] num_refinements=2 max_pixels=543862 endh=30\");\n"
      ],
      "text/plain": [
       "<IPython.core.display.Javascript object>"
      ]
     },
     "metadata": {},
     "output_type": "display_data"
    },
    {
     "data": {
      "application/javascript": [
       "console.log(\"[195905][INFO][openvisuspy.backend_cpp:112:createBoxQuery] Guess resolution endh=30 original_box=([242, 682, 489], [620, 975, 490]) aligned_box=([242, 682, 489], [620, 975, 490]) delta=[1, 1, 1] num_pixels=[378, 293, 1] tot_pixels=110,754 max_pixels=543,862 end=30\");\n"
      ],
      "text/plain": [
       "<IPython.core.display.Javascript object>"
      ]
     },
     "metadata": {},
     "output_type": "display_data"
    },
    {
     "data": {
      "application/javascript": [
       "console.log(\"[195905][INFO][openvisuspy.backend_cpp:140:beginBoxQuery] beginBoxQuery timestep=0 field=data logic_box=[[242, 682, 489], [620, 975, 490]] end_resolutions=[27, 30]\");\n"
      ],
      "text/plain": [
       "<IPython.core.display.Javascript object>"
      ]
     },
     "metadata": {},
     "output_type": "display_data"
    },
    {
     "data": {
      "application/javascript": [
       "console.log(\"[195905][INFO][openvisuspy.slice:237:pushJobIfNeeded] [Slice/0] pushing new job query_logic_box=[[240.84983485978017, 693.0744088654894, 489], [617.5887618261631, 984.84477115807, 490]]...\");\n"
      ],
      "text/plain": [
       "<IPython.core.display.Javascript object>"
      ]
     },
     "metadata": {},
     "output_type": "display_data"
    },
    {
     "data": {
      "application/javascript": [
       "console.log(\"[195905][INFO][openvisuspy.slice:280:pushJobIfNeeded] [Slice/0] pushed new job query_logic_box=[[240.84983485978017, 693.0744088654894, 489], [617.5887618261631, 984.84477115807, 490]]\");\n"
      ],
      "text/plain": [
       "<IPython.core.display.Javascript object>"
      ]
     },
     "metadata": {},
     "output_type": "display_data"
    },
    {
     "data": {
      "application/javascript": [
       "console.log(\"[195905][INFO][openvisuspy.backend_cpp:76:printStatistics] Stats::printStatistics enlapsed=0.031002044677734375 seconds\");\n"
      ],
      "text/plain": [
       "<IPython.core.display.Javascript object>"
      ]
     },
     "metadata": {},
     "output_type": "display_data"
    },
    {
     "data": {
      "application/javascript": [
       "console.log(\"[195905][INFO][openvisuspy.backend_cpp:76:createBoxQuery] begin timestep=0 field=data logic_box=[[240.84983485978017, 693.0744088654894, 489], [617.5887618261631, 984.84477115807, 490]] num_refinements=2 max_pixels=543862 endh=30\");\n"
      ],
      "text/plain": [
       "<IPython.core.display.Javascript object>"
      ]
     },
     "metadata": {},
     "output_type": "display_data"
    },
    {
     "data": {
      "application/javascript": [
       "console.log(\"[195905][INFO][openvisuspy.backend_cpp:112:createBoxQuery] Guess resolution endh=30 original_box=([240, 693, 489], [618, 985, 490]) aligned_box=([240, 693, 489], [618, 985, 490]) delta=[1, 1, 1] num_pixels=[378, 292, 1] tot_pixels=110,376 max_pixels=543,862 end=30\");\n"
      ],
      "text/plain": [
       "<IPython.core.display.Javascript object>"
      ]
     },
     "metadata": {},
     "output_type": "display_data"
    },
    {
     "data": {
      "application/javascript": [
       "console.log(\"[195905][INFO][openvisuspy.slice:237:pushJobIfNeeded] [Slice/0] pushing new job query_logic_box=[[238.1715960424836, 696.6709618675552, 489], [614.9105230088666, 988.4413241601358, 490]]...\");\n"
      ],
      "text/plain": [
       "<IPython.core.display.Javascript object>"
      ]
     },
     "metadata": {},
     "output_type": "display_data"
    },
    {
     "data": {
      "application/javascript": [
       "console.log(\"[195905][INFO][openvisuspy.backend_cpp:140:beginBoxQuery] beginBoxQuery timestep=0 field=data logic_box=[[240, 693, 489], [618, 985, 490]] end_resolutions=[27, 30]\");\n"
      ],
      "text/plain": [
       "<IPython.core.display.Javascript object>"
      ]
     },
     "metadata": {},
     "output_type": "display_data"
    },
    {
     "data": {
      "application/javascript": [
       "console.log(\"[195905][INFO][openvisuspy.slice:280:pushJobIfNeeded] [Slice/0] pushed new job query_logic_box=[[238.1715960424836, 696.6709618675552, 489], [614.9105230088666, 988.4413241601358, 490]]\");\n"
      ],
      "text/plain": [
       "<IPython.core.display.Javascript object>"
      ]
     },
     "metadata": {},
     "output_type": "display_data"
    },
    {
     "data": {
      "application/javascript": [
       "console.log(\"[195905][INFO][openvisuspy.backend_cpp:76:printStatistics] Stats::printStatistics enlapsed=0.015993833541870117 seconds\");\n"
      ],
      "text/plain": [
       "<IPython.core.display.Javascript object>"
      ]
     },
     "metadata": {},
     "output_type": "display_data"
    },
    {
     "data": {
      "application/javascript": [
       "console.log(\"[195905][INFO][openvisuspy.backend_cpp:76:createBoxQuery] begin timestep=0 field=data logic_box=[[238.1715960424836, 696.6709618675552, 489], [614.9105230088666, 988.4413241601358, 490]] num_refinements=2 max_pixels=543862 endh=30\");\n"
      ],
      "text/plain": [
       "<IPython.core.display.Javascript object>"
      ]
     },
     "metadata": {},
     "output_type": "display_data"
    },
    {
     "data": {
      "application/javascript": [
       "console.log(\"[195905][INFO][openvisuspy.backend_cpp:112:createBoxQuery] Guess resolution endh=30 original_box=([238, 696, 489], [615, 989, 490]) aligned_box=([238, 696, 489], [615, 989, 490]) delta=[1, 1, 1] num_pixels=[377, 293, 1] tot_pixels=110,461 max_pixels=543,862 end=30\");\n"
      ],
      "text/plain": [
       "<IPython.core.display.Javascript object>"
      ]
     },
     "metadata": {},
     "output_type": "display_data"
    },
    {
     "data": {
      "application/javascript": [
       "console.log(\"[195905][INFO][openvisuspy.backend_cpp:140:beginBoxQuery] beginBoxQuery timestep=0 field=data logic_box=[[238, 696, 489], [615, 989, 490]] end_resolutions=[27, 30]\");\n"
      ],
      "text/plain": [
       "<IPython.core.display.Javascript object>"
      ]
     },
     "metadata": {},
     "output_type": "display_data"
    },
    {
     "data": {
      "application/javascript": [
       "console.log(\"[195905][INFO][openvisuspy.slice:237:pushJobIfNeeded] [Slice/0] pushing new job query_logic_box=[[237.2788497700514, 707.0110517484941, 489], [614.0177767364344, 998.7814140410746, 490]]...\");\n"
      ],
      "text/plain": [
       "<IPython.core.display.Javascript object>"
      ]
     },
     "metadata": {},
     "output_type": "display_data"
    },
    {
     "data": {
      "application/javascript": [
       "console.log(\"[195905][INFO][openvisuspy.backend_cpp:76:printStatistics] Stats::printStatistics enlapsed=0.029005050659179688 seconds\");\n"
      ],
      "text/plain": [
       "<IPython.core.display.Javascript object>"
      ]
     },
     "metadata": {},
     "output_type": "display_data"
    },
    {
     "data": {
      "application/javascript": [
       "console.log(\"[195905][INFO][openvisuspy.slice:280:pushJobIfNeeded] [Slice/0] pushed new job query_logic_box=[[237.2788497700514, 707.0110517484941, 489], [614.0177767364344, 998.7814140410746, 490]]\");\n"
      ],
      "text/plain": [
       "<IPython.core.display.Javascript object>"
      ]
     },
     "metadata": {},
     "output_type": "display_data"
    },
    {
     "data": {
      "application/javascript": [
       "console.log(\"[195905][INFO][openvisuspy.backend_cpp:76:createBoxQuery] begin timestep=0 field=data logic_box=[[237.2788497700514, 707.0110517484941, 489], [614.0177767364344, 998.7814140410746, 490]] num_refinements=2 max_pixels=543862 endh=30\");\n"
      ],
      "text/plain": [
       "<IPython.core.display.Javascript object>"
      ]
     },
     "metadata": {},
     "output_type": "display_data"
    },
    {
     "data": {
      "application/javascript": [
       "console.log(\"[195905][INFO][openvisuspy.backend_cpp:112:createBoxQuery] Guess resolution endh=30 original_box=([237, 707, 489], [615, 999, 490]) aligned_box=([237, 707, 489], [615, 999, 490]) delta=[1, 1, 1] num_pixels=[378, 292, 1] tot_pixels=110,376 max_pixels=543,862 end=30\");\n"
      ],
      "text/plain": [
       "<IPython.core.display.Javascript object>"
      ]
     },
     "metadata": {},
     "output_type": "display_data"
    },
    {
     "data": {
      "application/javascript": [
       "console.log(\"[195905][INFO][openvisuspy.backend_cpp:140:beginBoxQuery] beginBoxQuery timestep=0 field=data logic_box=[[237, 707, 489], [615, 999, 490]] end_resolutions=[27, 30]\");\n"
      ],
      "text/plain": [
       "<IPython.core.display.Javascript object>"
      ]
     },
     "metadata": {},
     "output_type": "display_data"
    },
    {
     "data": {
      "application/javascript": [
       "console.log(\"[195905][INFO][openvisuspy.slice:237:pushJobIfNeeded] [Slice/0] pushing new job query_logic_box=[[236.8324766338353, 708.3597591242687, 489], [613.5714036002182, 1000.1301214168493, 490]]...\");\n"
      ],
      "text/plain": [
       "<IPython.core.display.Javascript object>"
      ]
     },
     "metadata": {},
     "output_type": "display_data"
    },
    {
     "data": {
      "application/javascript": [
       "console.log(\"[195905][INFO][openvisuspy.backend_cpp:76:printStatistics] Stats::printStatistics enlapsed=0.0209958553314209 seconds\");\n"
      ],
      "text/plain": [
       "<IPython.core.display.Javascript object>"
      ]
     },
     "metadata": {},
     "output_type": "display_data"
    },
    {
     "data": {
      "application/javascript": [
       "console.log(\"[195905][INFO][openvisuspy.slice:280:pushJobIfNeeded] [Slice/0] pushed new job query_logic_box=[[236.8324766338353, 708.3597591242687, 489], [613.5714036002182, 1000.1301214168493, 490]]\");\n"
      ],
      "text/plain": [
       "<IPython.core.display.Javascript object>"
      ]
     },
     "metadata": {},
     "output_type": "display_data"
    },
    {
     "data": {
      "application/javascript": [
       "console.log(\"[195905][INFO][openvisuspy.backend_cpp:76:createBoxQuery] begin timestep=0 field=data logic_box=[[236.8324766338353, 708.3597591242687, 489], [613.5714036002182, 1000.1301214168493, 490]] num_refinements=2 max_pixels=543862 endh=30\");\n"
      ],
      "text/plain": [
       "<IPython.core.display.Javascript object>"
      ]
     },
     "metadata": {},
     "output_type": "display_data"
    },
    {
     "data": {
      "application/javascript": [
       "console.log(\"[195905][INFO][openvisuspy.backend_cpp:112:createBoxQuery] Guess resolution endh=30 original_box=([236, 708, 489], [614, 1001, 490]) aligned_box=([236, 708, 489], [614, 1001, 490]) delta=[1, 1, 1] num_pixels=[378, 293, 1] tot_pixels=110,754 max_pixels=543,862 end=30\");\n"
      ],
      "text/plain": [
       "<IPython.core.display.Javascript object>"
      ]
     },
     "metadata": {},
     "output_type": "display_data"
    },
    {
     "data": {
      "application/javascript": [
       "console.log(\"[195905][INFO][openvisuspy.backend_cpp:140:beginBoxQuery] beginBoxQuery timestep=0 field=data logic_box=[[236, 708, 489], [614, 1001, 490]] end_resolutions=[27, 30]\");\n"
      ],
      "text/plain": [
       "<IPython.core.display.Javascript object>"
      ]
     },
     "metadata": {},
     "output_type": "display_data"
    },
    {
     "data": {
      "application/javascript": [
       "console.log(\"[195905][INFO][openvisuspy.slice:237:pushJobIfNeeded] [Slice/0] pushing new job query_logic_box=[[236.8324766338353, 708.809328249527, 489], [613.5714036002182, 1000.5796905421075, 490]]...\");\n"
      ],
      "text/plain": [
       "<IPython.core.display.Javascript object>"
      ]
     },
     "metadata": {},
     "output_type": "display_data"
    },
    {
     "data": {
      "application/javascript": [
       "console.log(\"[195905][INFO][openvisuspy.backend_cpp:76:printStatistics] Stats::printStatistics enlapsed=0.04199838638305664 seconds\");\n"
      ],
      "text/plain": [
       "<IPython.core.display.Javascript object>"
      ]
     },
     "metadata": {},
     "output_type": "display_data"
    },
    {
     "data": {
      "application/javascript": [
       "console.log(\"[195905][INFO][openvisuspy.slice:280:pushJobIfNeeded] [Slice/0] pushed new job query_logic_box=[[236.8324766338353, 708.809328249527, 489], [613.5714036002182, 1000.5796905421075, 490]]\");\n"
      ],
      "text/plain": [
       "<IPython.core.display.Javascript object>"
      ]
     },
     "metadata": {},
     "output_type": "display_data"
    },
    {
     "data": {
      "application/javascript": [
       "console.log(\"[195905][INFO][openvisuspy.backend_cpp:76:createBoxQuery] begin timestep=0 field=data logic_box=[[236.8324766338353, 708.809328249527, 489], [613.5714036002182, 1000.5796905421075, 490]] num_refinements=2 max_pixels=543862 endh=30\");\n"
      ],
      "text/plain": [
       "<IPython.core.display.Javascript object>"
      ]
     },
     "metadata": {},
     "output_type": "display_data"
    },
    {
     "data": {
      "application/javascript": [
       "console.log(\"[195905][INFO][openvisuspy.backend_cpp:112:createBoxQuery] Guess resolution endh=30 original_box=([236, 708, 489], [614, 1001, 490]) aligned_box=([236, 708, 489], [614, 1001, 490]) delta=[1, 1, 1] num_pixels=[378, 293, 1] tot_pixels=110,754 max_pixels=543,862 end=30\");\n"
      ],
      "text/plain": [
       "<IPython.core.display.Javascript object>"
      ]
     },
     "metadata": {},
     "output_type": "display_data"
    },
    {
     "data": {
      "application/javascript": [
       "console.log(\"[195905][INFO][openvisuspy.backend_cpp:140:beginBoxQuery] beginBoxQuery timestep=0 field=data logic_box=[[236, 708, 489], [614, 1001, 490]] end_resolutions=[27, 30]\");\n"
      ],
      "text/plain": [
       "<IPython.core.display.Javascript object>"
      ]
     },
     "metadata": {},
     "output_type": "display_data"
    },
    {
     "data": {
      "application/javascript": [
       "console.log(\"[195910][INFO][openvisuspy.backend_cpp:170:returnBoxQueryData] got data 0/[27, 30] timestep=0 field=data H=30 data.shape=(293, 378) data.dtype=uint16 logic_box=[[236, 708, 489], [614, 1001, 490]] m=0 M=58179 ms=4481\");\n"
      ],
      "text/plain": [
       "<IPython.core.display.Javascript object>"
      ]
     },
     "metadata": {},
     "output_type": "display_data"
    },
    {
     "data": {
      "application/javascript": [
       "console.log(\"[195910][INFO][openvisuspy.backend_cpp:76:printStatistics] Stats::printStatistics enlapsed=4.494998455047607 seconds\");\n"
      ],
      "text/plain": [
       "<IPython.core.display.Javascript object>"
      ]
     },
     "metadata": {},
     "output_type": "display_data"
    },
    {
     "data": {
      "application/javascript": [
       "console.log(\"[195910][INFO][openvisuspy.backend_cpp:144:_threadLoop] _threadLoop is Alive\");\n"
      ],
      "text/plain": [
       "<IPython.core.display.Javascript object>"
      ]
     },
     "metadata": {},
     "output_type": "display_data"
    },
    {
     "data": {
      "application/javascript": [
       "console.log(\"[195910][INFO][openvisuspy.slice:212:renderResultIfNeeded] [Slice/0]::rendering result data.shape=(293, 378) data.dtype=uint16 logic_box=[[236, 708, 489], [614, 1001, 490]] data-range=(0, 58179) palette-range=[0.0, 58179.0]\");\n"
      ],
      "text/plain": [
       "<IPython.core.display.Javascript object>"
      ]
     },
     "metadata": {},
     "output_type": "display_data"
    },
    {
     "data": {
      "application/javascript": [
       "console.log(\"[195920][INFO][openvisuspy.slice:237:pushJobIfNeeded] [Slice/0] pushing new job query_logic_box=[[266.43977554080936, 742.9037389852654, 489], [580.3888813461285, 986.0457075624157, 490]]...\");\n"
      ],
      "text/plain": [
       "<IPython.core.display.Javascript object>"
      ]
     },
     "metadata": {},
     "output_type": "display_data"
    },
    {
     "data": {
      "application/javascript": [
       "console.log(\"[195920][INFO][openvisuspy.slice:280:pushJobIfNeeded] [Slice/0] pushed new job query_logic_box=[[266.43977554080936, 742.9037389852654, 489], [580.3888813461285, 986.0457075624157, 490]]\");\n"
      ],
      "text/plain": [
       "<IPython.core.display.Javascript object>"
      ]
     },
     "metadata": {},
     "output_type": "display_data"
    },
    {
     "data": {
      "application/javascript": [
       "console.log(\"[195920][INFO][openvisuspy.backend_cpp:76:createBoxQuery] begin timestep=0 field=data logic_box=[[266.43977554080936, 742.9037389852654, 489], [580.3888813461285, 986.0457075624157, 490]] num_refinements=2 max_pixels=543862 endh=30\");\n"
      ],
      "text/plain": [
       "<IPython.core.display.Javascript object>"
      ]
     },
     "metadata": {},
     "output_type": "display_data"
    },
    {
     "data": {
      "application/javascript": [
       "console.log(\"[195920][INFO][openvisuspy.backend_cpp:112:createBoxQuery] Guess resolution endh=30 original_box=([266, 742, 489], [581, 987, 490]) aligned_box=([266, 742, 489], [581, 987, 490]) delta=[1, 1, 1] num_pixels=[315, 245, 1] tot_pixels=77,175 max_pixels=543,862 end=30\");\n"
      ],
      "text/plain": [
       "<IPython.core.display.Javascript object>"
      ]
     },
     "metadata": {},
     "output_type": "display_data"
    },
    {
     "data": {
      "application/javascript": [
       "console.log(\"[195920][INFO][openvisuspy.backend_cpp:140:beginBoxQuery] beginBoxQuery timestep=0 field=data logic_box=[[266, 742, 489], [581, 987, 490]] end_resolutions=[27, 30]\");\n"
      ],
      "text/plain": [
       "<IPython.core.display.Javascript object>"
      ]
     },
     "metadata": {},
     "output_type": "display_data"
    },
    {
     "data": {
      "application/javascript": [
       "console.log(\"[195920][INFO][openvisuspy.backend_cpp:170:returnBoxQueryData] got data 0/[27, 30] timestep=0 field=data H=30 data.shape=(245, 315) data.dtype=uint16 logic_box=[[266, 742, 489], [581, 987, 490]] m=0 M=58179 ms=48\");\n"
      ],
      "text/plain": [
       "<IPython.core.display.Javascript object>"
      ]
     },
     "metadata": {},
     "output_type": "display_data"
    },
    {
     "data": {
      "application/javascript": [
       "console.log(\"[195920][INFO][openvisuspy.backend_cpp:76:printStatistics] Stats::printStatistics enlapsed=0.05899953842163086 seconds\");\n"
      ],
      "text/plain": [
       "<IPython.core.display.Javascript object>"
      ]
     },
     "metadata": {},
     "output_type": "display_data"
    },
    {
     "data": {
      "application/javascript": [
       "console.log(\"[195920][INFO][openvisuspy.backend_cpp:144:_threadLoop] _threadLoop is Alive\");\n"
      ],
      "text/plain": [
       "<IPython.core.display.Javascript object>"
      ]
     },
     "metadata": {},
     "output_type": "display_data"
    },
    {
     "data": {
      "application/javascript": [
       "console.log(\"[195920][INFO][openvisuspy.slice:212:renderResultIfNeeded] [Slice/0]::rendering result data.shape=(245, 315) data.dtype=uint16 logic_box=[[266, 742, 489], [581, 987, 490]] data-range=(0, 58179) palette-range=[0.0, 58179.0]\");\n"
      ],
      "text/plain": [
       "<IPython.core.display.Javascript object>"
      ]
     },
     "metadata": {},
     "output_type": "display_data"
    },
    {
     "data": {
      "application/javascript": [
       "console.log(\"[195921][INFO][openvisuspy.slice:237:pushJobIfNeeded] [Slice/0] pushing new job query_logic_box=[[241.5704475283581, 714.4917300388167, 489], [607.8444043012305, 998.1573600454923, 490]]...\");\n"
      ],
      "text/plain": [
       "<IPython.core.display.Javascript object>"
      ]
     },
     "metadata": {},
     "output_type": "display_data"
    },
    {
     "data": {
      "application/javascript": [
       "console.log(\"[195921][INFO][openvisuspy.slice:280:pushJobIfNeeded] [Slice/0] pushed new job query_logic_box=[[241.5704475283581, 714.4917300388167, 489], [607.8444043012305, 998.1573600454923, 490]]\");\n"
      ],
      "text/plain": [
       "<IPython.core.display.Javascript object>"
      ]
     },
     "metadata": {},
     "output_type": "display_data"
    },
    {
     "data": {
      "application/javascript": [
       "console.log(\"[195921][INFO][openvisuspy.backend_cpp:76:createBoxQuery] begin timestep=0 field=data logic_box=[[241.5704475283581, 714.4917300388167, 489], [607.8444043012305, 998.1573600454923, 490]] num_refinements=2 max_pixels=543862 endh=30\");\n"
      ],
      "text/plain": [
       "<IPython.core.display.Javascript object>"
      ]
     },
     "metadata": {},
     "output_type": "display_data"
    },
    {
     "data": {
      "application/javascript": [
       "console.log(\"[195921][INFO][openvisuspy.backend_cpp:112:createBoxQuery] Guess resolution endh=30 original_box=([241, 714, 489], [608, 999, 490]) aligned_box=([241, 714, 489], [608, 999, 490]) delta=[1, 1, 1] num_pixels=[367, 285, 1] tot_pixels=104,595 max_pixels=543,862 end=30\");\n"
      ],
      "text/plain": [
       "<IPython.core.display.Javascript object>"
      ]
     },
     "metadata": {},
     "output_type": "display_data"
    },
    {
     "data": {
      "application/javascript": [
       "console.log(\"[195921][INFO][openvisuspy.backend_cpp:140:beginBoxQuery] beginBoxQuery timestep=0 field=data logic_box=[[241, 714, 489], [608, 999, 490]] end_resolutions=[27, 30]\");\n"
      ],
      "text/plain": [
       "<IPython.core.display.Javascript object>"
      ]
     },
     "metadata": {},
     "output_type": "display_data"
    },
    {
     "data": {
      "application/javascript": [
       "console.log(\"[195921][INFO][openvisuspy.slice:237:pushJobIfNeeded] [Slice/0] pushing new job query_logic_box=[[178.97387858693972, 642.6724852019602, 489], [677.5134308611272, 1028.7729260443798, 490]]...\");\n"
      ],
      "text/plain": [
       "<IPython.core.display.Javascript object>"
      ]
     },
     "metadata": {},
     "output_type": "display_data"
    },
    {
     "data": {
      "application/javascript": [
       "console.log(\"[195921][INFO][openvisuspy.backend_cpp:76:printStatistics] Stats::printStatistics enlapsed=0.04900169372558594 seconds\");\n"
      ],
      "text/plain": [
       "<IPython.core.display.Javascript object>"
      ]
     },
     "metadata": {},
     "output_type": "display_data"
    },
    {
     "data": {
      "application/javascript": [
       "console.log(\"[195921][INFO][openvisuspy.slice:280:pushJobIfNeeded] [Slice/0] pushed new job query_logic_box=[[178.97387858693972, 642.6724852019602, 489], [677.5134308611272, 1028.7729260443798, 490]]\");\n"
      ],
      "text/plain": [
       "<IPython.core.display.Javascript object>"
      ]
     },
     "metadata": {},
     "output_type": "display_data"
    },
    {
     "data": {
      "application/javascript": [
       "console.log(\"[195921][INFO][openvisuspy.backend_cpp:76:createBoxQuery] begin timestep=0 field=data logic_box=[[178.97387858693972, 642.6724852019602, 489], [677.5134308611272, 1028.7729260443798, 490]] num_refinements=2 max_pixels=543862 endh=30\");\n"
      ],
      "text/plain": [
       "<IPython.core.display.Javascript object>"
      ]
     },
     "metadata": {},
     "output_type": "display_data"
    },
    {
     "data": {
      "application/javascript": [
       "console.log(\"[195921][INFO][openvisuspy.backend_cpp:112:createBoxQuery] Guess resolution endh=30 original_box=([178, 642, 489], [678, 1003, 490]) aligned_box=([178, 642, 489], [678, 1003, 490]) delta=[1, 1, 1] num_pixels=[500, 361, 1] tot_pixels=180,500 max_pixels=543,862 end=30\");\n"
      ],
      "text/plain": [
       "<IPython.core.display.Javascript object>"
      ]
     },
     "metadata": {},
     "output_type": "display_data"
    },
    {
     "data": {
      "application/javascript": [
       "console.log(\"[195921][INFO][openvisuspy.backend_cpp:140:beginBoxQuery] beginBoxQuery timestep=0 field=data logic_box=[[178, 642, 489], [678, 1003, 490]] end_resolutions=[27, 30]\");\n"
      ],
      "text/plain": [
       "<IPython.core.display.Javascript object>"
      ]
     },
     "metadata": {},
     "output_type": "display_data"
    },
    {
     "data": {
      "application/javascript": [
       "console.log(\"[195921][INFO][openvisuspy.slice:237:pushJobIfNeeded] [Slice/0] pushing new job query_logic_box=[[139.79446683889918, 597.5552672916273, 489], [721.4239444921179, 1048.0057816077835, 490]]...\");\n"
      ],
      "text/plain": [
       "<IPython.core.display.Javascript object>"
      ]
     },
     "metadata": {},
     "output_type": "display_data"
    },
    {
     "data": {
      "application/javascript": [
       "console.log(\"[195921][INFO][openvisuspy.slice:280:pushJobIfNeeded] [Slice/0] pushed new job query_logic_box=[[139.79446683889918, 597.5552672916273, 489], [721.4239444921179, 1048.0057816077835, 490]]\");\n"
      ],
      "text/plain": [
       "<IPython.core.display.Javascript object>"
      ]
     },
     "metadata": {},
     "output_type": "display_data"
    },
    {
     "data": {
      "application/javascript": [
       "console.log(\"[195921][INFO][openvisuspy.backend_cpp:76:printStatistics] Stats::printStatistics enlapsed=0.048004865646362305 seconds\");\n"
      ],
      "text/plain": [
       "<IPython.core.display.Javascript object>"
      ]
     },
     "metadata": {},
     "output_type": "display_data"
    },
    {
     "data": {
      "application/javascript": [
       "console.log(\"[195921][INFO][openvisuspy.backend_cpp:76:createBoxQuery] begin timestep=0 field=data logic_box=[[139.79446683889918, 597.5552672916273, 489], [721.4239444921179, 1048.0057816077835, 490]] num_refinements=2 max_pixels=543862 endh=30\");\n"
      ],
      "text/plain": [
       "<IPython.core.display.Javascript object>"
      ]
     },
     "metadata": {},
     "output_type": "display_data"
    },
    {
     "data": {
      "application/javascript": [
       "console.log(\"[195921][INFO][openvisuspy.backend_cpp:112:createBoxQuery] Guess resolution endh=30 original_box=([139, 597, 489], [722, 1003, 490]) aligned_box=([139, 597, 489], [722, 1003, 490]) delta=[1, 1, 1] num_pixels=[583, 406, 1] tot_pixels=236,698 max_pixels=543,862 end=30\");\n"
      ],
      "text/plain": [
       "<IPython.core.display.Javascript object>"
      ]
     },
     "metadata": {},
     "output_type": "display_data"
    },
    {
     "data": {
      "application/javascript": [
       "console.log(\"[195921][INFO][openvisuspy.backend_cpp:140:beginBoxQuery] beginBoxQuery timestep=0 field=data logic_box=[[139, 597, 489], [722, 1003, 490]] end_resolutions=[27, 30]\");\n"
      ],
      "text/plain": [
       "<IPython.core.display.Javascript object>"
      ]
     },
     "metadata": {},
     "output_type": "display_data"
    },
    {
     "data": {
      "application/javascript": [
       "console.log(\"[195921][INFO][openvisuspy.slice:237:pushJobIfNeeded] [Slice/0] pushing new job query_logic_box=[[141.18260401706917, 589.2264442226075, 489], [722.8120816702879, 1039.6769585387638, 490]]...\");\n"
      ],
      "text/plain": [
       "<IPython.core.display.Javascript object>"
      ]
     },
     "metadata": {},
     "output_type": "display_data"
    },
    {
     "data": {
      "application/javascript": [
       "console.log(\"[195921][INFO][openvisuspy.backend_cpp:76:printStatistics] Stats::printStatistics enlapsed=0.2934582233428955 seconds\");\n"
      ],
      "text/plain": [
       "<IPython.core.display.Javascript object>"
      ]
     },
     "metadata": {},
     "output_type": "display_data"
    },
    {
     "data": {
      "application/javascript": [
       "console.log(\"[195921][INFO][openvisuspy.slice:280:pushJobIfNeeded] [Slice/0] pushed new job query_logic_box=[[141.18260401706917, 589.2264442226075, 489], [722.8120816702879, 1039.6769585387638, 490]]\");\n"
      ],
      "text/plain": [
       "<IPython.core.display.Javascript object>"
      ]
     },
     "metadata": {},
     "output_type": "display_data"
    },
    {
     "data": {
      "application/javascript": [
       "console.log(\"[195921][INFO][openvisuspy.backend_cpp:76:createBoxQuery] begin timestep=0 field=data logic_box=[[141.18260401706917, 589.2264442226075, 489], [722.8120816702879, 1039.6769585387638, 490]] num_refinements=2 max_pixels=543862 endh=30\");\n"
      ],
      "text/plain": [
       "<IPython.core.display.Javascript object>"
      ]
     },
     "metadata": {},
     "output_type": "display_data"
    },
    {
     "data": {
      "application/javascript": [
       "console.log(\"[195921][INFO][openvisuspy.backend_cpp:112:createBoxQuery] Guess resolution endh=30 original_box=([141, 589, 489], [723, 1003, 490]) aligned_box=([141, 589, 489], [723, 1003, 490]) delta=[1, 1, 1] num_pixels=[582, 414, 1] tot_pixels=240,948 max_pixels=543,862 end=30\");\n"
      ],
      "text/plain": [
       "<IPython.core.display.Javascript object>"
      ]
     },
     "metadata": {},
     "output_type": "display_data"
    },
    {
     "data": {
      "application/javascript": [
       "console.log(\"[195921][INFO][openvisuspy.backend_cpp:140:beginBoxQuery] beginBoxQuery timestep=0 field=data logic_box=[[141, 589, 489], [723, 1003, 490]] end_resolutions=[27, 30]\");\n"
      ],
      "text/plain": [
       "<IPython.core.display.Javascript object>"
      ]
     },
     "metadata": {},
     "output_type": "display_data"
    },
    {
     "data": {
      "application/javascript": [
       "console.log(\"[195921][INFO][openvisuspy.slice:237:pushJobIfNeeded] [Slice/0] pushing new job query_logic_box=[[141.87667260615416, 580.8976211535877, 489], [723.5061502593728, 1031.348135469744, 490]]...\");\n"
      ],
      "text/plain": [
       "<IPython.core.display.Javascript object>"
      ]
     },
     "metadata": {},
     "output_type": "display_data"
    },
    {
     "data": {
      "application/javascript": [
       "console.log(\"[195921][INFO][openvisuspy.backend_cpp:76:printStatistics] Stats::printStatistics enlapsed=0.020001888275146484 seconds\");\n"
      ],
      "text/plain": [
       "<IPython.core.display.Javascript object>"
      ]
     },
     "metadata": {},
     "output_type": "display_data"
    },
    {
     "data": {
      "application/javascript": [
       "console.log(\"[195921][INFO][openvisuspy.slice:280:pushJobIfNeeded] [Slice/0] pushed new job query_logic_box=[[141.87667260615416, 580.8976211535877, 489], [723.5061502593728, 1031.348135469744, 490]]\");\n"
      ],
      "text/plain": [
       "<IPython.core.display.Javascript object>"
      ]
     },
     "metadata": {},
     "output_type": "display_data"
    },
    {
     "data": {
      "application/javascript": [
       "console.log(\"[195921][INFO][openvisuspy.backend_cpp:76:createBoxQuery] begin timestep=0 field=data logic_box=[[141.87667260615416, 580.8976211535877, 489], [723.5061502593728, 1031.348135469744, 490]] num_refinements=2 max_pixels=543862 endh=30\");\n"
      ],
      "text/plain": [
       "<IPython.core.display.Javascript object>"
      ]
     },
     "metadata": {},
     "output_type": "display_data"
    },
    {
     "data": {
      "application/javascript": [
       "console.log(\"[195921][INFO][openvisuspy.backend_cpp:112:createBoxQuery] Guess resolution endh=30 original_box=([141, 580, 489], [724, 1003, 490]) aligned_box=([141, 580, 489], [724, 1003, 490]) delta=[1, 1, 1] num_pixels=[583, 423, 1] tot_pixels=246,609 max_pixels=543,862 end=30\");\n"
      ],
      "text/plain": [
       "<IPython.core.display.Javascript object>"
      ]
     },
     "metadata": {},
     "output_type": "display_data"
    },
    {
     "data": {
      "application/javascript": [
       "console.log(\"[195921][INFO][openvisuspy.backend_cpp:140:beginBoxQuery] beginBoxQuery timestep=0 field=data logic_box=[[141, 580, 489], [724, 1003, 490]] end_resolutions=[27, 30]\");\n"
      ],
      "text/plain": [
       "<IPython.core.display.Javascript object>"
      ]
     },
     "metadata": {},
     "output_type": "display_data"
    },
    {
     "data": {
      "application/javascript": [
       "console.log(\"[195921][INFO][openvisuspy.slice:237:pushJobIfNeeded] [Slice/0] pushing new job query_logic_box=[[157.84025015510883, 541.3357115757434, 489], [739.4697278083274, 991.7862258918997, 490]]...\");\n"
      ],
      "text/plain": [
       "<IPython.core.display.Javascript object>"
      ]
     },
     "metadata": {},
     "output_type": "display_data"
    },
    {
     "data": {
      "application/javascript": [
       "console.log(\"[195921][INFO][openvisuspy.slice:280:pushJobIfNeeded] [Slice/0] pushed new job query_logic_box=[[157.84025015510883, 541.3357115757434, 489], [739.4697278083274, 991.7862258918997, 490]]\");\n"
      ],
      "text/plain": [
       "<IPython.core.display.Javascript object>"
      ]
     },
     "metadata": {},
     "output_type": "display_data"
    },
    {
     "data": {
      "application/javascript": [
       "console.log(\"[195921][INFO][openvisuspy.backend_cpp:76:printStatistics] Stats::printStatistics enlapsed=0.028000831604003906 seconds\");\n"
      ],
      "text/plain": [
       "<IPython.core.display.Javascript object>"
      ]
     },
     "metadata": {},
     "output_type": "display_data"
    },
    {
     "data": {
      "application/javascript": [
       "console.log(\"[195921][INFO][openvisuspy.backend_cpp:76:createBoxQuery] begin timestep=0 field=data logic_box=[[157.84025015510883, 541.3357115757434, 489], [739.4697278083274, 991.7862258918997, 490]] num_refinements=2 max_pixels=543862 endh=30\");\n"
      ],
      "text/plain": [
       "<IPython.core.display.Javascript object>"
      ]
     },
     "metadata": {},
     "output_type": "display_data"
    },
    {
     "data": {
      "application/javascript": [
       "console.log(\"[195921][INFO][openvisuspy.backend_cpp:112:createBoxQuery] Guess resolution endh=30 original_box=([157, 541, 489], [740, 992, 490]) aligned_box=([157, 541, 489], [740, 992, 490]) delta=[1, 1, 1] num_pixels=[583, 451, 1] tot_pixels=262,933 max_pixels=543,862 end=30\");\n"
      ],
      "text/plain": [
       "<IPython.core.display.Javascript object>"
      ]
     },
     "metadata": {},
     "output_type": "display_data"
    },
    {
     "data": {
      "application/javascript": [
       "console.log(\"[195921][INFO][openvisuspy.backend_cpp:140:beginBoxQuery] beginBoxQuery timestep=0 field=data logic_box=[[157, 541, 489], [740, 992, 490]] end_resolutions=[27, 30]\");\n"
      ],
      "text/plain": [
       "<IPython.core.display.Javascript object>"
      ]
     },
     "metadata": {},
     "output_type": "display_data"
    },
    {
     "data": {
      "application/javascript": [
       "console.log(\"[195921][INFO][openvisuspy.slice:237:pushJobIfNeeded] [Slice/0] pushing new job query_logic_box=[[166.10986358145792, 491.3627731616244, 489], [747.7393412346765, 941.8132874777807, 490]]...\");\n"
      ],
      "text/plain": [
       "<IPython.core.display.Javascript object>"
      ]
     },
     "metadata": {},
     "output_type": "display_data"
    },
    {
     "data": {
      "application/javascript": [
       "console.log(\"[195921][INFO][openvisuspy.slice:280:pushJobIfNeeded] [Slice/0] pushed new job query_logic_box=[[166.10986358145792, 491.3627731616244, 489], [747.7393412346765, 941.8132874777807, 490]]\");\n"
      ],
      "text/plain": [
       "<IPython.core.display.Javascript object>"
      ]
     },
     "metadata": {},
     "output_type": "display_data"
    },
    {
     "data": {
      "application/javascript": [
       "console.log(\"[195921][INFO][openvisuspy.backend_cpp:76:printStatistics] Stats::printStatistics enlapsed=0.026996374130249023 seconds\");\n"
      ],
      "text/plain": [
       "<IPython.core.display.Javascript object>"
      ]
     },
     "metadata": {},
     "output_type": "display_data"
    },
    {
     "data": {
      "application/javascript": [
       "console.log(\"[195921][INFO][openvisuspy.backend_cpp:76:createBoxQuery] begin timestep=0 field=data logic_box=[[166.10986358145792, 491.3627731616244, 489], [747.7393412346765, 941.8132874777807, 490]] num_refinements=2 max_pixels=543862 endh=30\");\n"
      ],
      "text/plain": [
       "<IPython.core.display.Javascript object>"
      ]
     },
     "metadata": {},
     "output_type": "display_data"
    },
    {
     "data": {
      "application/javascript": [
       "console.log(\"[195922][INFO][openvisuspy.backend_cpp:112:createBoxQuery] Guess resolution endh=30 original_box=([166, 491, 489], [748, 942, 490]) aligned_box=([166, 491, 489], [748, 942, 490]) delta=[1, 1, 1] num_pixels=[582, 451, 1] tot_pixels=262,482 max_pixels=543,862 end=30\");\n"
      ],
      "text/plain": [
       "<IPython.core.display.Javascript object>"
      ]
     },
     "metadata": {},
     "output_type": "display_data"
    },
    {
     "data": {
      "application/javascript": [
       "console.log(\"[195922][INFO][openvisuspy.backend_cpp:140:beginBoxQuery] beginBoxQuery timestep=0 field=data logic_box=[[166, 491, 489], [748, 942, 490]] end_resolutions=[27, 30]\");\n"
      ],
      "text/plain": [
       "<IPython.core.display.Javascript object>"
      ]
     },
     "metadata": {},
     "output_type": "display_data"
    },
    {
     "data": {
      "application/javascript": [
       "console.log(\"[195922][INFO][openvisuspy.slice:237:pushJobIfNeeded] [Slice/0] pushing new job query_logic_box=[[179.892552625373, 442.77797192567533, 489], [761.5220302785916, 893.2284862418317, 490]]...\");\n"
      ],
      "text/plain": [
       "<IPython.core.display.Javascript object>"
      ]
     },
     "metadata": {},
     "output_type": "display_data"
    },
    {
     "data": {
      "application/javascript": [
       "console.log(\"[195922][INFO][openvisuspy.slice:280:pushJobIfNeeded] [Slice/0] pushed new job query_logic_box=[[179.892552625373, 442.77797192567533, 489], [761.5220302785916, 893.2284862418317, 490]]\");\n"
      ],
      "text/plain": [
       "<IPython.core.display.Javascript object>"
      ]
     },
     "metadata": {},
     "output_type": "display_data"
    },
    {
     "data": {
      "application/javascript": [
       "console.log(\"[195922][INFO][openvisuspy.backend_cpp:76:printStatistics] Stats::printStatistics enlapsed=0.024999380111694336 seconds\");\n"
      ],
      "text/plain": [
       "<IPython.core.display.Javascript object>"
      ]
     },
     "metadata": {},
     "output_type": "display_data"
    },
    {
     "data": {
      "application/javascript": [
       "console.log(\"[195922][INFO][openvisuspy.backend_cpp:76:createBoxQuery] begin timestep=0 field=data logic_box=[[179.892552625373, 442.77797192567533, 489], [761.5220302785916, 893.2284862418317, 490]] num_refinements=2 max_pixels=543862 endh=30\");\n"
      ],
      "text/plain": [
       "<IPython.core.display.Javascript object>"
      ]
     },
     "metadata": {},
     "output_type": "display_data"
    },
    {
     "data": {
      "application/javascript": [
       "console.log(\"[195922][INFO][openvisuspy.backend_cpp:112:createBoxQuery] Guess resolution endh=30 original_box=([179, 442, 489], [762, 894, 490]) aligned_box=([179, 442, 489], [762, 894, 490]) delta=[1, 1, 1] num_pixels=[583, 452, 1] tot_pixels=263,516 max_pixels=543,862 end=30\");\n"
      ],
      "text/plain": [
       "<IPython.core.display.Javascript object>"
      ]
     },
     "metadata": {},
     "output_type": "display_data"
    },
    {
     "data": {
      "application/javascript": [
       "console.log(\"[195922][INFO][openvisuspy.backend_cpp:140:beginBoxQuery] beginBoxQuery timestep=0 field=data logic_box=[[179, 442, 489], [762, 894, 490]] end_resolutions=[27, 30]\");\n"
      ],
      "text/plain": [
       "<IPython.core.display.Javascript object>"
      ]
     },
     "metadata": {},
     "output_type": "display_data"
    },
    {
     "data": {
      "application/javascript": [
       "console.log(\"[195922][INFO][openvisuspy.slice:237:pushJobIfNeeded] [Slice/0] pushing new job query_logic_box=[[190.91870386050513, 395.5813078678962, 489], [772.5481815137238, 846.0318221840525, 490]]...\");\n"
      ],
      "text/plain": [
       "<IPython.core.display.Javascript object>"
      ]
     },
     "metadata": {},
     "output_type": "display_data"
    },
    {
     "data": {
      "application/javascript": [
       "console.log(\"[195922][INFO][openvisuspy.backend_cpp:76:printStatistics] Stats::printStatistics enlapsed=0.02600574493408203 seconds\");\n"
      ],
      "text/plain": [
       "<IPython.core.display.Javascript object>"
      ]
     },
     "metadata": {},
     "output_type": "display_data"
    },
    {
     "data": {
      "application/javascript": [
       "console.log(\"[195922][INFO][openvisuspy.slice:280:pushJobIfNeeded] [Slice/0] pushed new job query_logic_box=[[190.91870386050513, 395.5813078678962, 489], [772.5481815137238, 846.0318221840525, 490]]\");\n"
      ],
      "text/plain": [
       "<IPython.core.display.Javascript object>"
      ]
     },
     "metadata": {},
     "output_type": "display_data"
    },
    {
     "data": {
      "application/javascript": [
       "console.log(\"[195922][INFO][openvisuspy.backend_cpp:76:createBoxQuery] begin timestep=0 field=data logic_box=[[190.91870386050513, 395.5813078678962, 489], [772.5481815137238, 846.0318221840525, 490]] num_refinements=2 max_pixels=543862 endh=30\");\n"
      ],
      "text/plain": [
       "<IPython.core.display.Javascript object>"
      ]
     },
     "metadata": {},
     "output_type": "display_data"
    },
    {
     "data": {
      "application/javascript": [
       "console.log(\"[195922][INFO][openvisuspy.backend_cpp:112:createBoxQuery] Guess resolution endh=30 original_box=([190, 395, 489], [773, 847, 490]) aligned_box=([190, 395, 489], [773, 847, 490]) delta=[1, 1, 1] num_pixels=[583, 452, 1] tot_pixels=263,516 max_pixels=543,862 end=30\");\n"
      ],
      "text/plain": [
       "<IPython.core.display.Javascript object>"
      ]
     },
     "metadata": {},
     "output_type": "display_data"
    },
    {
     "data": {
      "application/javascript": [
       "console.log(\"[195922][INFO][openvisuspy.backend_cpp:140:beginBoxQuery] beginBoxQuery timestep=0 field=data logic_box=[[190, 395, 489], [773, 847, 490]] end_resolutions=[27, 30]\");\n"
      ],
      "text/plain": [
       "<IPython.core.display.Javascript object>"
      ]
     },
     "metadata": {},
     "output_type": "display_data"
    },
    {
     "data": {
      "application/javascript": [
       "console.log(\"[195922][INFO][openvisuspy.slice:237:pushJobIfNeeded] [Slice/0] pushing new job query_logic_box=[[197.8100483824627, 373.3711130171767, 489], [779.4395260356813, 823.821627333333, 490]]...\");\n"
      ],
      "text/plain": [
       "<IPython.core.display.Javascript object>"
      ]
     },
     "metadata": {},
     "output_type": "display_data"
    },
    {
     "data": {
      "application/javascript": [
       "console.log(\"[195922][INFO][openvisuspy.slice:280:pushJobIfNeeded] [Slice/0] pushed new job query_logic_box=[[197.8100483824627, 373.3711130171767, 489], [779.4395260356813, 823.821627333333, 490]]\");\n"
      ],
      "text/plain": [
       "<IPython.core.display.Javascript object>"
      ]
     },
     "metadata": {},
     "output_type": "display_data"
    },
    {
     "data": {
      "application/javascript": [
       "console.log(\"[195922][INFO][openvisuspy.backend_cpp:76:printStatistics] Stats::printStatistics enlapsed=0.022000789642333984 seconds\");\n"
      ],
      "text/plain": [
       "<IPython.core.display.Javascript object>"
      ]
     },
     "metadata": {},
     "output_type": "display_data"
    },
    {
     "data": {
      "application/javascript": [
       "console.log(\"[195922][INFO][openvisuspy.backend_cpp:76:createBoxQuery] begin timestep=0 field=data logic_box=[[197.8100483824627, 373.3711130171767, 489], [779.4395260356813, 823.821627333333, 490]] num_refinements=2 max_pixels=543862 endh=30\");\n"
      ],
      "text/plain": [
       "<IPython.core.display.Javascript object>"
      ]
     },
     "metadata": {},
     "output_type": "display_data"
    },
    {
     "data": {
      "application/javascript": [
       "console.log(\"[195922][INFO][openvisuspy.backend_cpp:112:createBoxQuery] Guess resolution endh=30 original_box=([197, 373, 489], [780, 824, 490]) aligned_box=([197, 373, 489], [780, 824, 490]) delta=[1, 1, 1] num_pixels=[583, 451, 1] tot_pixels=262,933 max_pixels=543,862 end=30\");\n"
      ],
      "text/plain": [
       "<IPython.core.display.Javascript object>"
      ]
     },
     "metadata": {},
     "output_type": "display_data"
    },
    {
     "data": {
      "application/javascript": [
       "console.log(\"[195922][INFO][openvisuspy.backend_cpp:140:beginBoxQuery] beginBoxQuery timestep=0 field=data logic_box=[[197, 373, 489], [780, 824, 490]] end_resolutions=[27, 30]\");\n"
      ],
      "text/plain": [
       "<IPython.core.display.Javascript object>"
      ]
     },
     "metadata": {},
     "output_type": "display_data"
    },
    {
     "data": {
      "application/javascript": [
       "console.log(\"[195922][INFO][openvisuspy.slice:237:pushJobIfNeeded] [Slice/0] pushing new job query_logic_box=[[206.07966180881175, 355.325329700967, 489], [787.7091394620305, 805.7758440171233, 490]]...\");\n"
      ],
      "text/plain": [
       "<IPython.core.display.Javascript object>"
      ]
     },
     "metadata": {},
     "output_type": "display_data"
    },
    {
     "data": {
      "application/javascript": [
       "console.log(\"[195922][INFO][openvisuspy.backend_cpp:76:printStatistics] Stats::printStatistics enlapsed=0.03200125694274902 seconds\");\n"
      ],
      "text/plain": [
       "<IPython.core.display.Javascript object>"
      ]
     },
     "metadata": {},
     "output_type": "display_data"
    },
    {
     "data": {
      "application/javascript": [
       "console.log(\"[195922][INFO][openvisuspy.slice:280:pushJobIfNeeded] [Slice/0] pushed new job query_logic_box=[[206.07966180881175, 355.325329700967, 489], [787.7091394620305, 805.7758440171233, 490]]\");\n"
      ],
      "text/plain": [
       "<IPython.core.display.Javascript object>"
      ]
     },
     "metadata": {},
     "output_type": "display_data"
    },
    {
     "data": {
      "application/javascript": [
       "console.log(\"[195922][INFO][openvisuspy.backend_cpp:76:createBoxQuery] begin timestep=0 field=data logic_box=[[206.07966180881175, 355.325329700967, 489], [787.7091394620305, 805.7758440171233, 490]] num_refinements=2 max_pixels=543862 endh=30\");\n"
      ],
      "text/plain": [
       "<IPython.core.display.Javascript object>"
      ]
     },
     "metadata": {},
     "output_type": "display_data"
    },
    {
     "data": {
      "application/javascript": [
       "console.log(\"[195922][INFO][openvisuspy.backend_cpp:112:createBoxQuery] Guess resolution endh=30 original_box=([206, 355, 489], [788, 806, 490]) aligned_box=([206, 355, 489], [788, 806, 490]) delta=[1, 1, 1] num_pixels=[582, 451, 1] tot_pixels=262,482 max_pixels=543,862 end=30\");\n"
      ],
      "text/plain": [
       "<IPython.core.display.Javascript object>"
      ]
     },
     "metadata": {},
     "output_type": "display_data"
    },
    {
     "data": {
      "application/javascript": [
       "console.log(\"[195922][INFO][openvisuspy.backend_cpp:140:beginBoxQuery] beginBoxQuery timestep=0 field=data logic_box=[[206, 355, 489], [788, 806, 490]] end_resolutions=[27, 30]\");\n"
      ],
      "text/plain": [
       "<IPython.core.display.Javascript object>"
      ]
     },
     "metadata": {},
     "output_type": "display_data"
    },
    {
     "data": {
      "application/javascript": [
       "console.log(\"[195922][INFO][openvisuspy.slice:237:pushJobIfNeeded] [Slice/0] pushing new job query_logic_box=[[212.9710063307693, 349.0787123992021, 489], [794.6004839839882, 799.5292267153584, 490]]...\");\n"
      ],
      "text/plain": [
       "<IPython.core.display.Javascript object>"
      ]
     },
     "metadata": {},
     "output_type": "display_data"
    },
    {
     "data": {
      "application/javascript": [
       "console.log(\"[195922][INFO][openvisuspy.backend_cpp:76:printStatistics] Stats::printStatistics enlapsed=0.02199840545654297 seconds\");\n"
      ],
      "text/plain": [
       "<IPython.core.display.Javascript object>"
      ]
     },
     "metadata": {},
     "output_type": "display_data"
    },
    {
     "data": {
      "application/javascript": [
       "console.log(\"[195922][INFO][openvisuspy.slice:280:pushJobIfNeeded] [Slice/0] pushed new job query_logic_box=[[212.9710063307693, 349.0787123992021, 489], [794.6004839839882, 799.5292267153584, 490]]\");\n"
      ],
      "text/plain": [
       "<IPython.core.display.Javascript object>"
      ]
     },
     "metadata": {},
     "output_type": "display_data"
    },
    {
     "data": {
      "application/javascript": [
       "console.log(\"[195922][INFO][openvisuspy.backend_cpp:76:createBoxQuery] begin timestep=0 field=data logic_box=[[212.9710063307693, 349.0787123992021, 489], [794.6004839839882, 799.5292267153584, 490]] num_refinements=2 max_pixels=543862 endh=30\");\n"
      ],
      "text/plain": [
       "<IPython.core.display.Javascript object>"
      ]
     },
     "metadata": {},
     "output_type": "display_data"
    },
    {
     "data": {
      "application/javascript": [
       "console.log(\"[195922][INFO][openvisuspy.backend_cpp:112:createBoxQuery] Guess resolution endh=30 original_box=([212, 349, 489], [795, 800, 490]) aligned_box=([212, 349, 489], [795, 800, 490]) delta=[1, 1, 1] num_pixels=[583, 451, 1] tot_pixels=262,933 max_pixels=543,862 end=30\");\n"
      ],
      "text/plain": [
       "<IPython.core.display.Javascript object>"
      ]
     },
     "metadata": {},
     "output_type": "display_data"
    },
    {
     "data": {
      "application/javascript": [
       "console.log(\"[195922][INFO][openvisuspy.backend_cpp:140:beginBoxQuery] beginBoxQuery timestep=0 field=data logic_box=[[212, 349, 489], [795, 800, 490]] end_resolutions=[27, 30]\");\n"
      ],
      "text/plain": [
       "<IPython.core.display.Javascript object>"
      ]
     },
     "metadata": {},
     "output_type": "display_data"
    },
    {
     "data": {
      "application/javascript": [
       "console.log(\"[195922][INFO][openvisuspy.slice:237:pushJobIfNeeded] [Slice/0] pushing new job query_logic_box=[[213.66014078296507, 340.74988933018227, 489], [795.2896184361839, 791.2004036463386, 490]]...\");\n"
      ],
      "text/plain": [
       "<IPython.core.display.Javascript object>"
      ]
     },
     "metadata": {},
     "output_type": "display_data"
    },
    {
     "data": {
      "application/javascript": [
       "console.log(\"[195922][INFO][openvisuspy.slice:280:pushJobIfNeeded] [Slice/0] pushed new job query_logic_box=[[213.66014078296507, 340.74988933018227, 489], [795.2896184361839, 791.2004036463386, 490]]\");\n"
      ],
      "text/plain": [
       "<IPython.core.display.Javascript object>"
      ]
     },
     "metadata": {},
     "output_type": "display_data"
    },
    {
     "data": {
      "application/javascript": [
       "console.log(\"[195922][INFO][openvisuspy.backend_cpp:76:printStatistics] Stats::printStatistics enlapsed=0.0410006046295166 seconds\");\n"
      ],
      "text/plain": [
       "<IPython.core.display.Javascript object>"
      ]
     },
     "metadata": {},
     "output_type": "display_data"
    },
    {
     "data": {
      "application/javascript": [
       "console.log(\"[195922][INFO][openvisuspy.backend_cpp:76:createBoxQuery] begin timestep=0 field=data logic_box=[[213.66014078296507, 340.74988933018227, 489], [795.2896184361839, 791.2004036463386, 490]] num_refinements=2 max_pixels=543862 endh=30\");\n"
      ],
      "text/plain": [
       "<IPython.core.display.Javascript object>"
      ]
     },
     "metadata": {},
     "output_type": "display_data"
    },
    {
     "data": {
      "application/javascript": [
       "console.log(\"[195922][INFO][openvisuspy.backend_cpp:112:createBoxQuery] Guess resolution endh=30 original_box=([213, 340, 489], [796, 792, 490]) aligned_box=([213, 340, 489], [796, 792, 490]) delta=[1, 1, 1] num_pixels=[583, 452, 1] tot_pixels=263,516 max_pixels=543,862 end=30\");\n"
      ],
      "text/plain": [
       "<IPython.core.display.Javascript object>"
      ]
     },
     "metadata": {},
     "output_type": "display_data"
    },
    {
     "data": {
      "application/javascript": [
       "console.log(\"[195922][INFO][openvisuspy.backend_cpp:140:beginBoxQuery] beginBoxQuery timestep=0 field=data logic_box=[[213, 340, 489], [796, 792, 490]] end_resolutions=[27, 30]\");\n"
      ],
      "text/plain": [
       "<IPython.core.display.Javascript object>"
      ]
     },
     "metadata": {},
     "output_type": "display_data"
    },
    {
     "data": {
      "application/javascript": [
       "console.log(\"[195929][INFO][openvisuspy.backend_cpp:170:returnBoxQueryData] got data 0/[27, 30] timestep=0 field=data H=30 data.shape=(452, 583) data.dtype=uint16 logic_box=[[213, 340, 489], [796, 792, 490]] m=13725 M=56846 ms=7279\");\n"
      ],
      "text/plain": [
       "<IPython.core.display.Javascript object>"
      ]
     },
     "metadata": {},
     "output_type": "display_data"
    },
    {
     "data": {
      "application/javascript": [
       "console.log(\"[195929][INFO][openvisuspy.backend_cpp:76:printStatistics] Stats::printStatistics enlapsed=7.292117595672607 seconds\");\n"
      ],
      "text/plain": [
       "<IPython.core.display.Javascript object>"
      ]
     },
     "metadata": {},
     "output_type": "display_data"
    },
    {
     "data": {
      "application/javascript": [
       "console.log(\"[195929][INFO][openvisuspy.backend_cpp:144:_threadLoop] _threadLoop is Alive\");\n"
      ],
      "text/plain": [
       "<IPython.core.display.Javascript object>"
      ]
     },
     "metadata": {},
     "output_type": "display_data"
    },
    {
     "data": {
      "application/javascript": [
       "console.log(\"[195929][INFO][openvisuspy.slice:212:renderResultIfNeeded] [Slice/0]::rendering result data.shape=(452, 583) data.dtype=uint16 logic_box=[[213, 340, 489], [796, 792, 490]] data-range=(13725, 56846) palette-range=[13725.0, 56846.0]\");\n"
      ],
      "text/plain": [
       "<IPython.core.display.Javascript object>"
      ]
     },
     "metadata": {},
     "output_type": "display_data"
    }
   ],
   "source": [
    "def MyApp(doc,url=f\"http://atlantis.sci.utah.edu/mod_visus?dataset=bellows_CT_NASA_JHochhalter&cached=idx\" ):\n",
    "    view=Slice(doc=doc) \n",
    "    view.setDataset(url)   \n",
    "    view.setDirection(2)\n",
    "    view.setPalette(\"Greys256\")\n",
    "    view.setPaletteRange((0,65536))\n",
    "    view.setTimestep(view.getTimestep())\n",
    "    view.setField(view.getField()) \n",
    "    main_layout= Column(view.getMainLayout(),height=800,sizing_mode='stretch_width')\n",
    "    doc.add_root(main_layout)\n",
    "ShowBokehApp(MyApp)"
   ]
  },
  {
   "cell_type": "code",
   "execution_count": null,
   "metadata": {},
   "outputs": [],
   "source": []
  }
 ],
 "metadata": {
  "kernelspec": {
   "display_name": "Python 3 (ipykernel)",
   "language": "python",
   "name": "python3"
  },
  "language_info": {
   "codemirror_mode": {
    "name": "ipython",
    "version": 3
   },
   "file_extension": ".py",
   "mimetype": "text/x-python",
   "name": "python",
   "nbconvert_exporter": "python",
   "pygments_lexer": "ipython3",
   "version": "3.8.0"
  }
 },
 "nbformat": 4,
 "nbformat_minor": 2
}
