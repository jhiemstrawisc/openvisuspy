{
 "cells": [
  {
   "cell_type": "code",
   "execution_count": 1,
   "id": "c28d88d9",
   "metadata": {},
   "outputs": [
    {
     "data": {
      "text/html": [
       "<style>.container { width:100% !important;  } </style>"
      ],
      "text/plain": [
       "<IPython.core.display.HTML object>"
      ]
     },
     "metadata": {},
     "output_type": "display_data"
    },
    {
     "data": {
      "text/html": [
       "<div class=\"bk-root\">\n",
       "        <a href=\"https://bokeh.org\" target=\"_blank\" class=\"bk-logo bk-logo-small bk-logo-notebook\"></a>\n",
       "        <span id=\"1002\">Loading BokehJS ...</span>\n",
       "    </div>\n"
      ]
     },
     "metadata": {},
     "output_type": "display_data"
    },
    {
     "data": {
      "application/javascript": [
       "(function(root) {\n",
       "  function now() {\n",
       "    return new Date();\n",
       "  }\n",
       "\n",
       "  const force = true;\n",
       "\n",
       "  if (typeof root._bokeh_onload_callbacks === \"undefined\" || force === true) {\n",
       "    root._bokeh_onload_callbacks = [];\n",
       "    root._bokeh_is_loading = undefined;\n",
       "  }\n",
       "\n",
       "const JS_MIME_TYPE = 'application/javascript';\n",
       "  const HTML_MIME_TYPE = 'text/html';\n",
       "  const EXEC_MIME_TYPE = 'application/vnd.bokehjs_exec.v0+json';\n",
       "  const CLASS_NAME = 'output_bokeh rendered_html';\n",
       "\n",
       "  /**\n",
       "   * Render data to the DOM node\n",
       "   */\n",
       "  function render(props, node) {\n",
       "    const script = document.createElement(\"script\");\n",
       "    node.appendChild(script);\n",
       "  }\n",
       "\n",
       "  /**\n",
       "   * Handle when an output is cleared or removed\n",
       "   */\n",
       "  function handleClearOutput(event, handle) {\n",
       "    const cell = handle.cell;\n",
       "\n",
       "    const id = cell.output_area._bokeh_element_id;\n",
       "    const server_id = cell.output_area._bokeh_server_id;\n",
       "    // Clean up Bokeh references\n",
       "    if (id != null && id in Bokeh.index) {\n",
       "      Bokeh.index[id].model.document.clear();\n",
       "      delete Bokeh.index[id];\n",
       "    }\n",
       "\n",
       "    if (server_id !== undefined) {\n",
       "      // Clean up Bokeh references\n",
       "      const cmd_clean = \"from bokeh.io.state import curstate; print(curstate().uuid_to_server['\" + server_id + \"'].get_sessions()[0].document.roots[0]._id)\";\n",
       "      cell.notebook.kernel.execute(cmd_clean, {\n",
       "        iopub: {\n",
       "          output: function(msg) {\n",
       "            const id = msg.content.text.trim();\n",
       "            if (id in Bokeh.index) {\n",
       "              Bokeh.index[id].model.document.clear();\n",
       "              delete Bokeh.index[id];\n",
       "            }\n",
       "          }\n",
       "        }\n",
       "      });\n",
       "      // Destroy server and session\n",
       "      const cmd_destroy = \"import bokeh.io.notebook as ion; ion.destroy_server('\" + server_id + \"')\";\n",
       "      cell.notebook.kernel.execute(cmd_destroy);\n",
       "    }\n",
       "  }\n",
       "\n",
       "  /**\n",
       "   * Handle when a new output is added\n",
       "   */\n",
       "  function handleAddOutput(event, handle) {\n",
       "    const output_area = handle.output_area;\n",
       "    const output = handle.output;\n",
       "\n",
       "    // limit handleAddOutput to display_data with EXEC_MIME_TYPE content only\n",
       "    if ((output.output_type != \"display_data\") || (!Object.prototype.hasOwnProperty.call(output.data, EXEC_MIME_TYPE))) {\n",
       "      return\n",
       "    }\n",
       "\n",
       "    const toinsert = output_area.element.find(\".\" + CLASS_NAME.split(' ')[0]);\n",
       "\n",
       "    if (output.metadata[EXEC_MIME_TYPE][\"id\"] !== undefined) {\n",
       "      toinsert[toinsert.length - 1].firstChild.textContent = output.data[JS_MIME_TYPE];\n",
       "      // store reference to embed id on output_area\n",
       "      output_area._bokeh_element_id = output.metadata[EXEC_MIME_TYPE][\"id\"];\n",
       "    }\n",
       "    if (output.metadata[EXEC_MIME_TYPE][\"server_id\"] !== undefined) {\n",
       "      const bk_div = document.createElement(\"div\");\n",
       "      bk_div.innerHTML = output.data[HTML_MIME_TYPE];\n",
       "      const script_attrs = bk_div.children[0].attributes;\n",
       "      for (let i = 0; i < script_attrs.length; i++) {\n",
       "        toinsert[toinsert.length - 1].firstChild.setAttribute(script_attrs[i].name, script_attrs[i].value);\n",
       "        toinsert[toinsert.length - 1].firstChild.textContent = bk_div.children[0].textContent\n",
       "      }\n",
       "      // store reference to server id on output_area\n",
       "      output_area._bokeh_server_id = output.metadata[EXEC_MIME_TYPE][\"server_id\"];\n",
       "    }\n",
       "  }\n",
       "\n",
       "  function register_renderer(events, OutputArea) {\n",
       "\n",
       "    function append_mime(data, metadata, element) {\n",
       "      // create a DOM node to render to\n",
       "      const toinsert = this.create_output_subarea(\n",
       "        metadata,\n",
       "        CLASS_NAME,\n",
       "        EXEC_MIME_TYPE\n",
       "      );\n",
       "      this.keyboard_manager.register_events(toinsert);\n",
       "      // Render to node\n",
       "      const props = {data: data, metadata: metadata[EXEC_MIME_TYPE]};\n",
       "      render(props, toinsert[toinsert.length - 1]);\n",
       "      element.append(toinsert);\n",
       "      return toinsert\n",
       "    }\n",
       "\n",
       "    /* Handle when an output is cleared or removed */\n",
       "    events.on('clear_output.CodeCell', handleClearOutput);\n",
       "    events.on('delete.Cell', handleClearOutput);\n",
       "\n",
       "    /* Handle when a new output is added */\n",
       "    events.on('output_added.OutputArea', handleAddOutput);\n",
       "\n",
       "    /**\n",
       "     * Register the mime type and append_mime function with output_area\n",
       "     */\n",
       "    OutputArea.prototype.register_mime_type(EXEC_MIME_TYPE, append_mime, {\n",
       "      /* Is output safe? */\n",
       "      safe: true,\n",
       "      /* Index of renderer in `output_area.display_order` */\n",
       "      index: 0\n",
       "    });\n",
       "  }\n",
       "\n",
       "  // register the mime type if in Jupyter Notebook environment and previously unregistered\n",
       "  if (root.Jupyter !== undefined) {\n",
       "    const events = require('base/js/events');\n",
       "    const OutputArea = require('notebook/js/outputarea').OutputArea;\n",
       "\n",
       "    if (OutputArea.prototype.mime_types().indexOf(EXEC_MIME_TYPE) == -1) {\n",
       "      register_renderer(events, OutputArea);\n",
       "    }\n",
       "  }\n",
       "  if (typeof (root._bokeh_timeout) === \"undefined\" || force === true) {\n",
       "    root._bokeh_timeout = Date.now() + 5000;\n",
       "    root._bokeh_failed_load = false;\n",
       "  }\n",
       "\n",
       "  const NB_LOAD_WARNING = {'data': {'text/html':\n",
       "     \"<div style='background-color: #fdd'>\\n\"+\n",
       "     \"<p>\\n\"+\n",
       "     \"BokehJS does not appear to have successfully loaded. If loading BokehJS from CDN, this \\n\"+\n",
       "     \"may be due to a slow or bad network connection. Possible fixes:\\n\"+\n",
       "     \"</p>\\n\"+\n",
       "     \"<ul>\\n\"+\n",
       "     \"<li>re-rerun `output_notebook()` to attempt to load from CDN again, or</li>\\n\"+\n",
       "     \"<li>use INLINE resources instead, as so:</li>\\n\"+\n",
       "     \"</ul>\\n\"+\n",
       "     \"<code>\\n\"+\n",
       "     \"from bokeh.resources import INLINE\\n\"+\n",
       "     \"output_notebook(resources=INLINE)\\n\"+\n",
       "     \"</code>\\n\"+\n",
       "     \"</div>\"}};\n",
       "\n",
       "  function display_loaded() {\n",
       "    const el = document.getElementById(\"1002\");\n",
       "    if (el != null) {\n",
       "      el.textContent = \"BokehJS is loading...\";\n",
       "    }\n",
       "    if (root.Bokeh !== undefined) {\n",
       "      if (el != null) {\n",
       "        el.textContent = \"BokehJS \" + root.Bokeh.version + \" successfully loaded.\";\n",
       "      }\n",
       "    } else if (Date.now() < root._bokeh_timeout) {\n",
       "      setTimeout(display_loaded, 100)\n",
       "    }\n",
       "  }\n",
       "\n",
       "  function run_callbacks() {\n",
       "    try {\n",
       "      root._bokeh_onload_callbacks.forEach(function(callback) {\n",
       "        if (callback != null)\n",
       "          callback();\n",
       "      });\n",
       "    } finally {\n",
       "      delete root._bokeh_onload_callbacks\n",
       "    }\n",
       "    console.debug(\"Bokeh: all callbacks have finished\");\n",
       "  }\n",
       "\n",
       "  function load_libs(css_urls, js_urls, callback) {\n",
       "    if (css_urls == null) css_urls = [];\n",
       "    if (js_urls == null) js_urls = [];\n",
       "\n",
       "    root._bokeh_onload_callbacks.push(callback);\n",
       "    if (root._bokeh_is_loading > 0) {\n",
       "      console.debug(\"Bokeh: BokehJS is being loaded, scheduling callback at\", now());\n",
       "      return null;\n",
       "    }\n",
       "    if (js_urls == null || js_urls.length === 0) {\n",
       "      run_callbacks();\n",
       "      return null;\n",
       "    }\n",
       "    console.debug(\"Bokeh: BokehJS not loaded, scheduling load and callback at\", now());\n",
       "    root._bokeh_is_loading = css_urls.length + js_urls.length;\n",
       "\n",
       "    function on_load() {\n",
       "      root._bokeh_is_loading--;\n",
       "      if (root._bokeh_is_loading === 0) {\n",
       "        console.debug(\"Bokeh: all BokehJS libraries/stylesheets loaded\");\n",
       "        run_callbacks()\n",
       "      }\n",
       "    }\n",
       "\n",
       "    function on_error(url) {\n",
       "      console.error(\"failed to load \" + url);\n",
       "    }\n",
       "\n",
       "    for (let i = 0; i < css_urls.length; i++) {\n",
       "      const url = css_urls[i];\n",
       "      const element = document.createElement(\"link\");\n",
       "      element.onload = on_load;\n",
       "      element.onerror = on_error.bind(null, url);\n",
       "      element.rel = \"stylesheet\";\n",
       "      element.type = \"text/css\";\n",
       "      element.href = url;\n",
       "      console.debug(\"Bokeh: injecting link tag for BokehJS stylesheet: \", url);\n",
       "      document.body.appendChild(element);\n",
       "    }\n",
       "\n",
       "    for (let i = 0; i < js_urls.length; i++) {\n",
       "      const url = js_urls[i];\n",
       "      const element = document.createElement('script');\n",
       "      element.onload = on_load;\n",
       "      element.onerror = on_error.bind(null, url);\n",
       "      element.async = false;\n",
       "      element.src = url;\n",
       "      console.debug(\"Bokeh: injecting script tag for BokehJS library: \", url);\n",
       "      document.head.appendChild(element);\n",
       "    }\n",
       "  };\n",
       "\n",
       "  function inject_raw_css(css) {\n",
       "    const element = document.createElement(\"style\");\n",
       "    element.appendChild(document.createTextNode(css));\n",
       "    document.body.appendChild(element);\n",
       "  }\n",
       "\n",
       "  const js_urls = [\"https://cdn.bokeh.org/bokeh/release/bokeh-2.4.3.min.js\", \"https://cdn.bokeh.org/bokeh/release/bokeh-gl-2.4.3.min.js\", \"https://cdn.bokeh.org/bokeh/release/bokeh-widgets-2.4.3.min.js\", \"https://cdn.bokeh.org/bokeh/release/bokeh-tables-2.4.3.min.js\", \"https://cdn.bokeh.org/bokeh/release/bokeh-mathjax-2.4.3.min.js\"];\n",
       "  const css_urls = [];\n",
       "\n",
       "  const inline_js = [    function(Bokeh) {\n",
       "      Bokeh.set_log_level(\"error\");\n",
       "    },\n",
       "function(Bokeh) {\n",
       "    }\n",
       "  ];\n",
       "\n",
       "  function run_inline_js() {\n",
       "    if (root.Bokeh !== undefined || force === true) {\n",
       "          for (let i = 0; i < inline_js.length; i++) {\n",
       "      inline_js[i].call(root, root.Bokeh);\n",
       "    }\n",
       "if (force === true) {\n",
       "        display_loaded();\n",
       "      }} else if (Date.now() < root._bokeh_timeout) {\n",
       "      setTimeout(run_inline_js, 100);\n",
       "    } else if (!root._bokeh_failed_load) {\n",
       "      console.log(\"Bokeh: BokehJS failed to load within specified timeout.\");\n",
       "      root._bokeh_failed_load = true;\n",
       "    } else if (force !== true) {\n",
       "      const cell = $(document.getElementById(\"1002\")).parents('.cell').data().cell;\n",
       "      cell.output_area.append_execute_result(NB_LOAD_WARNING)\n",
       "    }\n",
       "  }\n",
       "\n",
       "  if (root._bokeh_is_loading === 0) {\n",
       "    console.debug(\"Bokeh: BokehJS loaded, going straight to plotting\");\n",
       "    run_inline_js();\n",
       "  } else {\n",
       "    load_libs(css_urls, js_urls, function() {\n",
       "      console.debug(\"Bokeh: BokehJS plotting callback run at\", now());\n",
       "      run_inline_js();\n",
       "    });\n",
       "  }\n",
       "}(window));"
      ],
      "application/vnd.bokehjs_load.v0+json": "(function(root) {\n  function now() {\n    return new Date();\n  }\n\n  const force = true;\n\n  if (typeof root._bokeh_onload_callbacks === \"undefined\" || force === true) {\n    root._bokeh_onload_callbacks = [];\n    root._bokeh_is_loading = undefined;\n  }\n\n\n  if (typeof (root._bokeh_timeout) === \"undefined\" || force === true) {\n    root._bokeh_timeout = Date.now() + 5000;\n    root._bokeh_failed_load = false;\n  }\n\n  const NB_LOAD_WARNING = {'data': {'text/html':\n     \"<div style='background-color: #fdd'>\\n\"+\n     \"<p>\\n\"+\n     \"BokehJS does not appear to have successfully loaded. If loading BokehJS from CDN, this \\n\"+\n     \"may be due to a slow or bad network connection. Possible fixes:\\n\"+\n     \"</p>\\n\"+\n     \"<ul>\\n\"+\n     \"<li>re-rerun `output_notebook()` to attempt to load from CDN again, or</li>\\n\"+\n     \"<li>use INLINE resources instead, as so:</li>\\n\"+\n     \"</ul>\\n\"+\n     \"<code>\\n\"+\n     \"from bokeh.resources import INLINE\\n\"+\n     \"output_notebook(resources=INLINE)\\n\"+\n     \"</code>\\n\"+\n     \"</div>\"}};\n\n  function display_loaded() {\n    const el = document.getElementById(\"1002\");\n    if (el != null) {\n      el.textContent = \"BokehJS is loading...\";\n    }\n    if (root.Bokeh !== undefined) {\n      if (el != null) {\n        el.textContent = \"BokehJS \" + root.Bokeh.version + \" successfully loaded.\";\n      }\n    } else if (Date.now() < root._bokeh_timeout) {\n      setTimeout(display_loaded, 100)\n    }\n  }\n\n  function run_callbacks() {\n    try {\n      root._bokeh_onload_callbacks.forEach(function(callback) {\n        if (callback != null)\n          callback();\n      });\n    } finally {\n      delete root._bokeh_onload_callbacks\n    }\n    console.debug(\"Bokeh: all callbacks have finished\");\n  }\n\n  function load_libs(css_urls, js_urls, callback) {\n    if (css_urls == null) css_urls = [];\n    if (js_urls == null) js_urls = [];\n\n    root._bokeh_onload_callbacks.push(callback);\n    if (root._bokeh_is_loading > 0) {\n      console.debug(\"Bokeh: BokehJS is being loaded, scheduling callback at\", now());\n      return null;\n    }\n    if (js_urls == null || js_urls.length === 0) {\n      run_callbacks();\n      return null;\n    }\n    console.debug(\"Bokeh: BokehJS not loaded, scheduling load and callback at\", now());\n    root._bokeh_is_loading = css_urls.length + js_urls.length;\n\n    function on_load() {\n      root._bokeh_is_loading--;\n      if (root._bokeh_is_loading === 0) {\n        console.debug(\"Bokeh: all BokehJS libraries/stylesheets loaded\");\n        run_callbacks()\n      }\n    }\n\n    function on_error(url) {\n      console.error(\"failed to load \" + url);\n    }\n\n    for (let i = 0; i < css_urls.length; i++) {\n      const url = css_urls[i];\n      const element = document.createElement(\"link\");\n      element.onload = on_load;\n      element.onerror = on_error.bind(null, url);\n      element.rel = \"stylesheet\";\n      element.type = \"text/css\";\n      element.href = url;\n      console.debug(\"Bokeh: injecting link tag for BokehJS stylesheet: \", url);\n      document.body.appendChild(element);\n    }\n\n    for (let i = 0; i < js_urls.length; i++) {\n      const url = js_urls[i];\n      const element = document.createElement('script');\n      element.onload = on_load;\n      element.onerror = on_error.bind(null, url);\n      element.async = false;\n      element.src = url;\n      console.debug(\"Bokeh: injecting script tag for BokehJS library: \", url);\n      document.head.appendChild(element);\n    }\n  };\n\n  function inject_raw_css(css) {\n    const element = document.createElement(\"style\");\n    element.appendChild(document.createTextNode(css));\n    document.body.appendChild(element);\n  }\n\n  const js_urls = [\"https://cdn.bokeh.org/bokeh/release/bokeh-2.4.3.min.js\", \"https://cdn.bokeh.org/bokeh/release/bokeh-gl-2.4.3.min.js\", \"https://cdn.bokeh.org/bokeh/release/bokeh-widgets-2.4.3.min.js\", \"https://cdn.bokeh.org/bokeh/release/bokeh-tables-2.4.3.min.js\", \"https://cdn.bokeh.org/bokeh/release/bokeh-mathjax-2.4.3.min.js\"];\n  const css_urls = [];\n\n  const inline_js = [    function(Bokeh) {\n      Bokeh.set_log_level(\"error\");\n    },\nfunction(Bokeh) {\n    }\n  ];\n\n  function run_inline_js() {\n    if (root.Bokeh !== undefined || force === true) {\n          for (let i = 0; i < inline_js.length; i++) {\n      inline_js[i].call(root, root.Bokeh);\n    }\nif (force === true) {\n        display_loaded();\n      }} else if (Date.now() < root._bokeh_timeout) {\n      setTimeout(run_inline_js, 100);\n    } else if (!root._bokeh_failed_load) {\n      console.log(\"Bokeh: BokehJS failed to load within specified timeout.\");\n      root._bokeh_failed_load = true;\n    } else if (force !== true) {\n      const cell = $(document.getElementById(\"1002\")).parents('.cell').data().cell;\n      cell.output_area.append_execute_result(NB_LOAD_WARNING)\n    }\n  }\n\n  if (root._bokeh_is_loading === 0) {\n    console.debug(\"Bokeh: BokehJS loaded, going straight to plotting\");\n    run_inline_js();\n  } else {\n    load_libs(css_urls, js_urls, function() {\n      console.debug(\"Bokeh: BokehJS plotting callback run at\", now());\n      run_inline_js();\n    });\n  }\n}(window));"
     },
     "metadata": {},
     "output_type": "display_data"
    },
    {
     "data": {
      "application/vnd.bokehjs_exec.v0+json": "",
      "text/html": [
       "<script id=\"1003\">\n",
       "  (function() {\n",
       "    const xhr = new XMLHttpRequest()\n",
       "    xhr.responseType = 'blob';\n",
       "    xhr.open('GET', \"http://localhost:57759/autoload.js?bokeh-autoload-element=1003&bokeh-absolute-url=http://localhost:57759&resources=none\", true);\n",
       "    xhr.onload = function (event) {\n",
       "      const script = document.createElement('script');\n",
       "      const src = URL.createObjectURL(event.target.response);\n",
       "      script.src = src;\n",
       "      document.body.appendChild(script);\n",
       "    };\n",
       "    xhr.send();\n",
       "  })();\n",
       "</script>"
      ]
     },
     "metadata": {
      "application/vnd.bokehjs_exec.v0+json": {
       "server_id": "0bbb6c66b7d64342bfec35e4b80c0597"
      }
     },
     "output_type": "display_data"
    }
   ],
   "source": [
    "import os,sys,logging,time\n",
    "from IPython.display import display, HTML\n",
    "display(HTML(\"<style>.container { width:100% !important;  } </style>\"))\n",
    "# import bokeh\n",
    "os.environ[\"BOKEH_ALLOW_WS_ORIGIN\"]=\"*\"\n",
    "os.environ[\"BOKEH_LOG_LEVEL\"]=\"error\" \n",
    "\n",
    "# change as needed\n",
    "os.environ[\"VISUS_USE_PUBLIC_IP\"]=str(False)\n",
    "os.environ[\"VISUS_SSL_TUNNELS\"]=\"\"\n",
    "os.environ[\"VISUS_CPP_VERBOSE\"]=\"0\"\n",
    "os.environ[\"VISUS_NETSERVICE_VERBOSE\"]=\"0\"\n",
    "\n",
    "sys.path.append(r\"C:\\projects\\OpenVisus\\build\\RelWithDebInfo\")\n",
    "sys.path.append(r\"C:\\projects\\openvisuspy\\src\")\n",
    "import openvisuspy\n",
    "from openvisuspy import ShowBokehApp, TestBokehApp, Slice, Slices, GetBackend, SetupLogger,ExecuteBoxQuery\n",
    "\n",
    "# by default, it does not print logs\n",
    "logger=SetupLogger(stream=False) \n",
    "logger.info(f\"GetBackend={GetBackend()}\")\n",
    "\n",
    "import bokeh.io\n",
    "bokeh.io.output_notebook()\n",
    "\n",
    "# the `ShowBokehApp` function should take care of all proxy/jupyter hub problem\n",
    "ShowBokehApp(TestBokehApp)\n"
   ]
  },
  {
   "cell_type": "code",
   "execution_count": 4,
   "id": "10c8e161",
   "metadata": {},
   "outputs": [
    {
     "data": {
      "application/javascript": [
       "console.log(\"[113743][INFO][openvisuspy.app:33:ShowBokehApp] ShowBokehApp VISUS_USE_PUBLIC_IP=False VISUS_SSH_TUNNELS=\");\n"
      ],
      "text/plain": [
       "<IPython.core.display.Javascript object>"
      ]
     },
     "metadata": {},
     "output_type": "display_data"
    },
    {
     "data": {
      "application/vnd.bokehjs_exec.v0+json": "",
      "text/html": [
       "<script id=\"1080\">\n",
       "  (function() {\n",
       "    const xhr = new XMLHttpRequest()\n",
       "    xhr.responseType = 'blob';\n",
       "    xhr.open('GET', \"http://localhost:57933/autoload.js?bokeh-autoload-element=1080&bokeh-absolute-url=http://localhost:57933&resources=none\", true);\n",
       "    xhr.onload = function (event) {\n",
       "      const script = document.createElement('script');\n",
       "      const src = URL.createObjectURL(event.target.response);\n",
       "      script.src = src;\n",
       "      document.body.appendChild(script);\n",
       "    };\n",
       "    xhr.send();\n",
       "  })();\n",
       "</script>"
      ]
     },
     "metadata": {
      "application/vnd.bokehjs_exec.v0+json": {
       "server_id": "98cb69e77eae4d888c24e7b0e582525f"
      }
     },
     "output_type": "display_data"
    },
    {
     "data": {
      "application/javascript": [
       "console.log(\"[113743][INFO][openvisuspy.widgets:279:setDataset] Widgets[1]::setDataset value=http://atlantis.sci.utah.edu/mod_visus?dataset=block_raw&cached=1\");\n"
      ],
      "text/plain": [
       "<IPython.core.display.Javascript object>"
      ]
     },
     "metadata": {},
     "output_type": "display_data"
    },
    {
     "data": {
      "application/javascript": [
       "console.log(\"[113744][INFO][openvisuspy.widgets:329:setTimesteps] Widgets[1]::setTimesteps start=0 end=0\");\n"
      ],
      "text/plain": [
       "<IPython.core.display.Javascript object>"
      ]
     },
     "metadata": {},
     "output_type": "display_data"
    },
    {
     "data": {
      "application/javascript": [
       "console.log(\"[113744][INFO][openvisuspy.widgets:348:setTimestepDelta] Widgets[1]::setTimestepDelta value=1\");\n"
      ],
      "text/plain": [
       "<IPython.core.display.Javascript object>"
      ]
     },
     "metadata": {},
     "output_type": "display_data"
    },
    {
     "data": {
      "application/javascript": [
       "console.log(\"[113744][INFO][openvisuspy.widgets:369:setTimestep] Widgets[1]::setTimestep value=0\");\n"
      ],
      "text/plain": [
       "<IPython.core.display.Javascript object>"
      ]
     },
     "metadata": {},
     "output_type": "display_data"
    },
    {
     "data": {
      "application/javascript": [
       "console.log(\"[113744][INFO][openvisuspy.widgets:369:setTimestep] Widgets[1]::setTimestep value=0\");\n"
      ],
      "text/plain": [
       "<IPython.core.display.Javascript object>"
      ]
     },
     "metadata": {},
     "output_type": "display_data"
    },
    {
     "data": {
      "application/javascript": [
       "console.log(\"[113744][INFO][openvisuspy.widgets:475:setDirection] Widgets[1]::setDirection value=2\");\n"
      ],
      "text/plain": [
       "<IPython.core.display.Javascript object>"
      ]
     },
     "metadata": {},
     "output_type": "display_data"
    },
    {
     "data": {
      "application/javascript": [
       "console.log(\"[113744][INFO][openvisuspy.widgets:503:setOffset] Widgets[1]::getOffset value=100\");\n"
      ],
      "text/plain": [
       "<IPython.core.display.Javascript object>"
      ]
     },
     "metadata": {},
     "output_type": "display_data"
    },
    {
     "data": {
      "application/javascript": [
       "console.log(\"[113744][INFO][openvisuspy.slice:142:setLogicBox] Slice[1]::setLogicBox value=([0, 0, 0], [1200, 1200, 200])\");\n"
      ],
      "text/plain": [
       "<IPython.core.display.Javascript object>"
      ]
     },
     "metadata": {},
     "output_type": "display_data"
    },
    {
     "data": {
      "application/javascript": [
       "console.log(\"[113744][INFO][openvisuspy.widgets:381:setFields] Widgets[1]::setFields value=['tomo']\");\n"
      ],
      "text/plain": [
       "<IPython.core.display.Javascript object>"
      ]
     },
     "metadata": {},
     "output_type": "display_data"
    },
    {
     "data": {
      "application/javascript": [
       "console.log(\"[113744][INFO][openvisuspy.widgets:390:setField] Widgets[1]::setField value=tomo\");\n"
      ],
      "text/plain": [
       "<IPython.core.display.Javascript object>"
      ]
     },
     "metadata": {},
     "output_type": "display_data"
    },
    {
     "data": {
      "application/javascript": [
       "console.log(\"[113744][INFO][openvisuspy.widgets:390:setField] Widgets[1]::setField value=tomo\");\n"
      ],
      "text/plain": [
       "<IPython.core.display.Javascript object>"
      ]
     },
     "metadata": {},
     "output_type": "display_data"
    },
    {
     "data": {
      "application/javascript": [
       "console.log(\"[113744][INFO][openvisuspy.widgets:403:setPalette] Widgets[1]::setPalette value=colorcet.coolwarm\");\n"
      ],
      "text/plain": [
       "<IPython.core.display.Javascript object>"
      ]
     },
     "metadata": {},
     "output_type": "display_data"
    },
    {
     "data": {
      "application/javascript": [
       "console.log(\"[113744][INFO][openvisuspy.widgets:403:setPalette] Widgets[1]::setPalette value=colorcet.coolwarm\");\n"
      ],
      "text/plain": [
       "<IPython.core.display.Javascript object>"
      ]
     },
     "metadata": {},
     "output_type": "display_data"
    },
    {
     "data": {
      "application/javascript": [
       "console.log(\"[113744][INFO][openvisuspy.widgets:417:setPaletteRange] Widgets[1]::setPaletteRange value=[8644.0, 16382.0]\");\n"
      ],
      "text/plain": [
       "<IPython.core.display.Javascript object>"
      ]
     },
     "metadata": {},
     "output_type": "display_data"
    },
    {
     "data": {
      "application/javascript": [
       "console.log(\"[113744][INFO][openvisuspy.widgets:475:setDirection] Widgets[1]::setDirection value=2\");\n"
      ],
      "text/plain": [
       "<IPython.core.display.Javascript object>"
      ]
     },
     "metadata": {},
     "output_type": "display_data"
    },
    {
     "data": {
      "application/javascript": [
       "console.log(\"[113744][INFO][openvisuspy.slice:142:setLogicBox] Slice[1]::setLogicBox value=([0, 0, 0], [1200, 1200, 200])\");\n"
      ],
      "text/plain": [
       "<IPython.core.display.Javascript object>"
      ]
     },
     "metadata": {},
     "output_type": "display_data"
    },
    {
     "data": {
      "application/javascript": [
       "console.log(\"[113744][INFO][openvisuspy.widgets:503:setOffset] Widgets[1]::getOffset value=0\");\n"
      ],
      "text/plain": [
       "<IPython.core.display.Javascript object>"
      ]
     },
     "metadata": {},
     "output_type": "display_data"
    },
    {
     "data": {
      "application/javascript": [
       "console.log(\"[113744][INFO][openvisuspy.widgets:503:setOffset] Widgets[1]::getOffset value=0\");\n"
      ],
      "text/plain": [
       "<IPython.core.display.Javascript object>"
      ]
     },
     "metadata": {},
     "output_type": "display_data"
    },
    {
     "data": {
      "application/javascript": [
       "console.log(\"[113744][INFO][openvisuspy.backend_cpp:139:_threadLoop] _threadLoop is Alive\");\n"
      ],
      "text/plain": [
       "<IPython.core.display.Javascript object>"
      ]
     },
     "metadata": {},
     "output_type": "display_data"
    },
    {
     "data": {
      "application/javascript": [
       "console.log(\"[113744][INFO][openvisuspy.canvas:61:onResize] Calling on_resize callback w=614 h=573\");\n"
      ],
      "text/plain": [
       "<IPython.core.display.Javascript object>"
      ]
     },
     "metadata": {},
     "output_type": "display_data"
    },
    {
     "data": {
      "application/javascript": [
       "console.log(\"[113744][INFO][openvisuspy.widgets:475:setDirection] Widgets[1]::setDirection value=2\");\n"
      ],
      "text/plain": [
       "<IPython.core.display.Javascript object>"
      ]
     },
     "metadata": {},
     "output_type": "display_data"
    },
    {
     "data": {
      "application/javascript": [
       "console.log(\"[113744][INFO][openvisuspy.widgets:503:setOffset] Widgets[1]::getOffset value=100\");\n"
      ],
      "text/plain": [
       "<IPython.core.display.Javascript object>"
      ]
     },
     "metadata": {},
     "output_type": "display_data"
    },
    {
     "data": {
      "application/javascript": [
       "console.log(\"[113744][INFO][openvisuspy.slice:142:setLogicBox] Slice[1]::setLogicBox value=([0, 0, 0], [1200, 1200, 200])\");\n"
      ],
      "text/plain": [
       "<IPython.core.display.Javascript object>"
      ]
     },
     "metadata": {},
     "output_type": "display_data"
    },
    {
     "data": {
      "application/javascript": [
       "console.log(\"[113744][INFO][openvisuspy.widgets:503:setOffset] Widgets[1]::getOffset value=0\");\n"
      ],
      "text/plain": [
       "<IPython.core.display.Javascript object>"
      ]
     },
     "metadata": {},
     "output_type": "display_data"
    },
    {
     "data": {
      "application/javascript": [
       "console.log(\"[113744][INFO][openvisuspy.widgets:503:setOffset] Widgets[1]::getOffset value=0\");\n"
      ],
      "text/plain": [
       "<IPython.core.display.Javascript object>"
      ]
     },
     "metadata": {},
     "output_type": "display_data"
    },
    {
     "data": {
      "application/javascript": [
       "console.log(\"[113744][INFO][openvisuspy.widgets:503:setOffset] Widgets[1]::getOffset value=0\");\n"
      ],
      "text/plain": [
       "<IPython.core.display.Javascript object>"
      ]
     },
     "metadata": {},
     "output_type": "display_data"
    },
    {
     "data": {
      "application/javascript": [
       "console.log(\"[113744][INFO][openvisuspy.slice:215:pushJobIfNeeded] pushing new job\");\n"
      ],
      "text/plain": [
       "<IPython.core.display.Javascript object>"
      ]
     },
     "metadata": {},
     "output_type": "display_data"
    },
    {
     "data": {
      "application/javascript": [
       "console.log(\"[113744][INFO][openvisuspy.backend_cpp:76:createBoxQuery] begin timestep=0 field=tomo logic_box=[[-42.93193717277484, 0.0, 0], [1242.9319371727747, 1200.0, 1]] num_refinements=4 max_pixels=351822 endh=30\");\n"
      ],
      "text/plain": [
       "<IPython.core.display.Javascript object>"
      ]
     },
     "metadata": {},
     "output_type": "display_data"
    },
    {
     "data": {
      "application/javascript": [
       "console.log(\"[113744][INFO][openvisuspy.backend_cpp:111:createBoxQuery] Guess resolution endh=25 original_box=([0, 0, 0], [1200, 1200, 1]) aligned_box=([0, 0, 0], [1200, 1200, 1]) delta=[2, 4, 4] num_pixels=[600, 300, 1] tot_pixels=180,000 max_pixels=351,822 end=25\");\n"
      ],
      "text/plain": [
       "<IPython.core.display.Javascript object>"
      ]
     },
     "metadata": {},
     "output_type": "display_data"
    },
    {
     "data": {
      "application/javascript": [
       "console.log(\"[113744][INFO][openvisuspy.backend_cpp:139:beginBoxQuery] beginBoxQuery timestep=0 field=tomo logic_box=[[0, 0, 0], [1200, 1200, 1]] end_resolutions=[16, 19, 22, 25]\");\n"
      ],
      "text/plain": [
       "<IPython.core.display.Javascript object>"
      ]
     },
     "metadata": {},
     "output_type": "display_data"
    },
    {
     "data": {
      "application/javascript": [
       "console.log(\"[113744][INFO][openvisuspy.backend_cpp:169:returnBoxQueryData] got data 0/[16, 19, 22, 25] timestep=0 field=tomo H=16 data.shape=(38, 75) data.dtype=int16 logic_box=[[0, 0, 0], [1200, 1200, 1]] m=9848 M=13673 ms=3\");\n"
      ],
      "text/plain": [
       "<IPython.core.display.Javascript object>"
      ]
     },
     "metadata": {},
     "output_type": "display_data"
    },
    {
     "data": {
      "application/javascript": [
       "console.log(\"[113744][INFO][openvisuspy.backend_cpp:169:returnBoxQueryData] got data 1/[16, 19, 22, 25] timestep=0 field=tomo H=19 data.shape=(75, 150) data.dtype=int16 logic_box=[[0, 0, 0], [1200, 1200, 1]] m=9848 M=14070 ms=7\");\n"
      ],
      "text/plain": [
       "<IPython.core.display.Javascript object>"
      ]
     },
     "metadata": {},
     "output_type": "display_data"
    },
    {
     "data": {
      "application/javascript": [
       "console.log(\"[113744][INFO][openvisuspy.slice:195:renderResultIfNeeded] Slice[1]::rendering result data.shape=(75, 150) data.dtype=int16 logic_box=[[0, 0, 0], [1200, 1200, 1]]\");\n"
      ],
      "text/plain": [
       "<IPython.core.display.Javascript object>"
      ]
     },
     "metadata": {},
     "output_type": "display_data"
    },
    {
     "data": {
      "application/javascript": [
       "console.log(\"[113744][INFO][openvisuspy.backend_cpp:169:returnBoxQueryData] got data 2/[16, 19, 22, 25] timestep=0 field=tomo H=22 data.shape=(150, 300) data.dtype=int16 logic_box=[[0, 0, 0], [1200, 1200, 1]] m=9841 M=15585 ms=34\");\n"
      ],
      "text/plain": [
       "<IPython.core.display.Javascript object>"
      ]
     },
     "metadata": {},
     "output_type": "display_data"
    },
    {
     "data": {
      "application/javascript": [
       "console.log(\"[113744][INFO][openvisuspy.slice:195:renderResultIfNeeded] Slice[1]::rendering result data.shape=(150, 300) data.dtype=int16 logic_box=[[0, 0, 0], [1200, 1200, 1]]\");\n"
      ],
      "text/plain": [
       "<IPython.core.display.Javascript object>"
      ]
     },
     "metadata": {},
     "output_type": "display_data"
    },
    {
     "data": {
      "application/javascript": [
       "console.log(\"[113744][INFO][openvisuspy.backend_cpp:169:returnBoxQueryData] got data 3/[16, 19, 22, 25] timestep=0 field=tomo H=25 data.shape=(300, 600) data.dtype=int16 logic_box=[[0, 0, 0], [1200, 1200, 1]] m=9685 M=17385 ms=102\");\n"
      ],
      "text/plain": [
       "<IPython.core.display.Javascript object>"
      ]
     },
     "metadata": {},
     "output_type": "display_data"
    },
    {
     "data": {
      "application/javascript": [
       "console.log(\"[113744][INFO][openvisuspy.backend_cpp:76:printStatistics] Stats::printStatistics enlapsed=0.11137819290161133 seconds\");\n"
      ],
      "text/plain": [
       "<IPython.core.display.Javascript object>"
      ]
     },
     "metadata": {},
     "output_type": "display_data"
    },
    {
     "data": {
      "application/javascript": [
       "console.log(\"[113744][INFO][openvisuspy.slice:195:renderResultIfNeeded] Slice[1]::rendering result data.shape=(300, 600) data.dtype=int16 logic_box=[[0, 0, 0], [1200, 1200, 1]]\");\n"
      ],
      "text/plain": [
       "<IPython.core.display.Javascript object>"
      ]
     },
     "metadata": {},
     "output_type": "display_data"
    },
    {
     "data": {
      "application/javascript": [
       "console.log(\"[113746][INFO][openvisuspy.backend_cpp:76:createBoxQuery] begin timestep=0.0 field=<VisusKernelPy.Field; proxy of <Swig Object of type 'Visus::Field *' at 0x000002829F840810> > logic_box=[[577, 666, 0], [592, 681, 200]] num_refinements=1 max_pixels=None endh=30\");\n"
      ],
      "text/plain": [
       "<IPython.core.display.Javascript object>"
      ]
     },
     "metadata": {},
     "output_type": "display_data"
    },
    {
     "data": {
      "application/javascript": [
       "console.log(\"[113746][INFO][openvisuspy.backend_cpp:139:beginBoxQuery] beginBoxQuery timestep=0.0 field=<VisusKernelPy.Field; proxy of <Swig Object of type 'Visus::Field *' at 0x000002829F840810> > logic_box=[[577, 666, 0], [592, 681, 200]] end_resolutions=[30]\");\n"
      ],
      "text/plain": [
       "<IPython.core.display.Javascript object>"
      ]
     },
     "metadata": {},
     "output_type": "display_data"
    },
    {
     "data": {
      "application/javascript": [
       "console.log(\"[113746][INFO][openvisuspy.backend_cpp:169:returnBoxQueryData] got data 0/[30] timestep=0.0 field=<VisusKernelPy.Field; proxy of <Swig Object of type 'Visus::Field *' at 0x000002829F840810> > H=30 data.shape=(200, 15, 15) data.dtype=int16 logic_box=[[577, 666, 0], [592, 681, 200]] m=9669 M=13386 ms=15\");\n"
      ],
      "text/plain": [
       "<IPython.core.display.Javascript object>"
      ]
     },
     "metadata": {},
     "output_type": "display_data"
    },
    {
     "data": {
      "application/javascript": [
       "console.log(\"[113747][INFO][openvisuspy.slice:215:pushJobIfNeeded] pushing new job\");\n"
      ],
      "text/plain": [
       "<IPython.core.display.Javascript object>"
      ]
     },
     "metadata": {},
     "output_type": "display_data"
    },
    {
     "data": {
      "application/javascript": [
       "console.log(\"[113747][INFO][openvisuspy.backend_cpp:76:createBoxQuery] begin timestep=0 field=tomo logic_box=[[88.24716005441826, 140.3686763104344, 0], [1106.2227272446448, 1090.3686763104345, 1]] num_refinements=4 max_pixels=351822 endh=30\");\n"
      ],
      "text/plain": [
       "<IPython.core.display.Javascript object>"
      ]
     },
     "metadata": {},
     "output_type": "display_data"
    },
    {
     "data": {
      "application/javascript": [
       "console.log(\"[113747][INFO][openvisuspy.backend_cpp:111:createBoxQuery] Guess resolution endh=27 original_box=([88, 140, 0], [1107, 1091, 1]) aligned_box=([88, 140, 0], [1106, 1090, 1]) delta=[2, 2, 2] num_pixels=[509, 475, 1] tot_pixels=241,775 max_pixels=351,822 end=27\");\n"
      ],
      "text/plain": [
       "<IPython.core.display.Javascript object>"
      ]
     },
     "metadata": {},
     "output_type": "display_data"
    },
    {
     "data": {
      "application/javascript": [
       "console.log(\"[113747][INFO][openvisuspy.backend_cpp:139:beginBoxQuery] beginBoxQuery timestep=0 field=tomo logic_box=[[88, 140, 0], [1106, 1090, 1]] end_resolutions=[18, 21, 24, 27]\");\n"
      ],
      "text/plain": [
       "<IPython.core.display.Javascript object>"
      ]
     },
     "metadata": {},
     "output_type": "display_data"
    },
    {
     "data": {
      "application/javascript": [
       "console.log(\"[113747][INFO][openvisuspy.backend_cpp:169:returnBoxQueryData] got data 0/[18, 21, 24, 27] timestep=0 field=tomo H=18 data.shape=(60, 64) data.dtype=int16 logic_box=[[88, 140, 0], [1106, 1090, 1]] m=10012 M=14070 ms=3\");\n"
      ],
      "text/plain": [
       "<IPython.core.display.Javascript object>"
      ]
     },
     "metadata": {},
     "output_type": "display_data"
    },
    {
     "data": {
      "application/javascript": [
       "console.log(\"[113747][INFO][openvisuspy.backend_cpp:169:returnBoxQueryData] got data 1/[18, 21, 24, 27] timestep=0 field=tomo H=21 data.shape=(119, 128) data.dtype=int16 logic_box=[[88, 140, 0], [1106, 1090, 1]] m=9841 M=14492 ms=10\");\n"
      ],
      "text/plain": [
       "<IPython.core.display.Javascript object>"
      ]
     },
     "metadata": {},
     "output_type": "display_data"
    },
    {
     "data": {
      "application/javascript": [
       "console.log(\"[113747][INFO][openvisuspy.slice:195:renderResultIfNeeded] Slice[1]::rendering result data.shape=(119, 128) data.dtype=int16 logic_box=[[88, 140, 0], [1106, 1090, 1]]\");\n"
      ],
      "text/plain": [
       "<IPython.core.display.Javascript object>"
      ]
     },
     "metadata": {},
     "output_type": "display_data"
    },
    {
     "data": {
      "application/javascript": [
       "console.log(\"[113747][INFO][openvisuspy.slice:215:pushJobIfNeeded] pushing new job\");\n"
      ],
      "text/plain": [
       "<IPython.core.display.Javascript object>"
      ]
     },
     "metadata": {},
     "output_type": "display_data"
    },
    {
     "data": {
      "application/javascript": [
       "console.log(\"[113747][INFO][openvisuspy.backend_cpp:76:printStatistics] Stats::printStatistics enlapsed=0.03195667266845703 seconds\");\n"
      ],
      "text/plain": [
       "<IPython.core.display.Javascript object>"
      ]
     },
     "metadata": {},
     "output_type": "display_data"
    },
    {
     "data": {
      "application/javascript": [
       "console.log(\"[113747][INFO][openvisuspy.backend_cpp:76:createBoxQuery] begin timestep=0 field=tomo logic_box=[[192.09727869261275, 251.49387838952828, 0], [997.9946027182087, 1003.5772117228616, 1]] num_refinements=4 max_pixels=351822 endh=30\");\n"
      ],
      "text/plain": [
       "<IPython.core.display.Javascript object>"
      ]
     },
     "metadata": {},
     "output_type": "display_data"
    },
    {
     "data": {
      "application/javascript": [
       "console.log(\"[113747][INFO][openvisuspy.backend_cpp:111:createBoxQuery] Guess resolution endh=28 original_box=([192, 251, 0], [998, 1004, 1]) aligned_box=([192, 250, 0], [998, 1004, 1]) delta=[1, 2, 2] num_pixels=[806, 377, 1] tot_pixels=303,862 max_pixels=351,822 end=28\");\n"
      ],
      "text/plain": [
       "<IPython.core.display.Javascript object>"
      ]
     },
     "metadata": {},
     "output_type": "display_data"
    },
    {
     "data": {
      "application/javascript": [
       "console.log(\"[113747][INFO][openvisuspy.backend_cpp:139:beginBoxQuery] beginBoxQuery timestep=0 field=tomo logic_box=[[192, 250, 0], [998, 1004, 1]] end_resolutions=[19, 22, 25, 28]\");\n"
      ],
      "text/plain": [
       "<IPython.core.display.Javascript object>"
      ]
     },
     "metadata": {},
     "output_type": "display_data"
    },
    {
     "data": {
      "application/javascript": [
       "console.log(\"[113747][INFO][openvisuspy.backend_cpp:169:returnBoxQueryData] got data 0/[19, 22, 25, 28] timestep=0 field=tomo H=19 data.shape=(47, 101) data.dtype=int16 logic_box=[[192, 250, 0], [998, 1004, 1]] m=9932 M=14070 ms=4\");\n"
      ],
      "text/plain": [
       "<IPython.core.display.Javascript object>"
      ]
     },
     "metadata": {},
     "output_type": "display_data"
    },
    {
     "data": {
      "application/javascript": [
       "console.log(\"[113747][INFO][openvisuspy.backend_cpp:169:returnBoxQueryData] got data 1/[19, 22, 25, 28] timestep=0 field=tomo H=22 data.shape=(94, 202) data.dtype=int16 logic_box=[[192, 250, 0], [998, 1004, 1]] m=9905 M=15585 ms=12\");\n"
      ],
      "text/plain": [
       "<IPython.core.display.Javascript object>"
      ]
     },
     "metadata": {},
     "output_type": "display_data"
    },
    {
     "data": {
      "application/javascript": [
       "console.log(\"[113747][INFO][openvisuspy.slice:195:renderResultIfNeeded] Slice[1]::rendering result data.shape=(94, 202) data.dtype=int16 logic_box=[[192, 250, 0], [998, 1004, 1]]\");\n"
      ],
      "text/plain": [
       "<IPython.core.display.Javascript object>"
      ]
     },
     "metadata": {},
     "output_type": "display_data"
    },
    {
     "data": {
      "application/javascript": [
       "console.log(\"[113747][INFO][openvisuspy.backend_cpp:169:returnBoxQueryData] got data 2/[19, 22, 25, 28] timestep=0 field=tomo H=25 data.shape=(188, 403) data.dtype=int16 logic_box=[[192, 250, 0], [998, 1004, 1]] m=9685 M=16599 ms=52\");\n"
      ],
      "text/plain": [
       "<IPython.core.display.Javascript object>"
      ]
     },
     "metadata": {},
     "output_type": "display_data"
    },
    {
     "data": {
      "application/javascript": [
       "console.log(\"[113747][INFO][openvisuspy.slice:195:renderResultIfNeeded] Slice[1]::rendering result data.shape=(188, 403) data.dtype=int16 logic_box=[[192, 250, 0], [998, 1004, 1]]\");\n"
      ],
      "text/plain": [
       "<IPython.core.display.Javascript object>"
      ]
     },
     "metadata": {},
     "output_type": "display_data"
    },
    {
     "data": {
      "application/javascript": [
       "console.log(\"[113747][INFO][openvisuspy.backend_cpp:169:returnBoxQueryData] got data 3/[19, 22, 25, 28] timestep=0 field=tomo H=28 data.shape=(377, 806) data.dtype=int16 logic_box=[[192, 250, 0], [998, 1004, 1]] m=9685 M=17076 ms=197\");\n"
      ],
      "text/plain": [
       "<IPython.core.display.Javascript object>"
      ]
     },
     "metadata": {},
     "output_type": "display_data"
    },
    {
     "data": {
      "application/javascript": [
       "console.log(\"[113747][INFO][openvisuspy.backend_cpp:76:printStatistics] Stats::printStatistics enlapsed=0.20440268516540527 seconds\");\n"
      ],
      "text/plain": [
       "<IPython.core.display.Javascript object>"
      ]
     },
     "metadata": {},
     "output_type": "display_data"
    },
    {
     "data": {
      "application/javascript": [
       "console.log(\"[113747][INFO][openvisuspy.slice:195:renderResultIfNeeded] Slice[1]::rendering result data.shape=(377, 806) data.dtype=int16 logic_box=[[192, 250, 0], [998, 1004, 1]]\");\n"
      ],
      "text/plain": [
       "<IPython.core.display.Javascript object>"
      ]
     },
     "metadata": {},
     "output_type": "display_data"
    },
    {
     "data": {
      "application/javascript": [
       "console.log(\"[113747][INFO][openvisuspy.slice:215:pushJobIfNeeded] pushing new job\");\n"
      ],
      "text/plain": [
       "<IPython.core.display.Javascript object>"
      ]
     },
     "metadata": {},
     "output_type": "display_data"
    },
    {
     "data": {
      "application/javascript": [
       "console.log(\"[113747][INFO][openvisuspy.backend_cpp:76:createBoxQuery] begin timestep=0 field=tomo logic_box=[[109.88260143737543, 163.5197600769123, 0], [1083.6752013016373, 1072.2871211880235, 1]] num_refinements=4 max_pixels=351822 endh=30\");\n"
      ],
      "text/plain": [
       "<IPython.core.display.Javascript object>"
      ]
     },
     "metadata": {},
     "output_type": "display_data"
    },
    {
     "data": {
      "application/javascript": [
       "console.log(\"[113747][INFO][openvisuspy.backend_cpp:111:createBoxQuery] Guess resolution endh=27 original_box=([109, 163, 0], [1084, 1073, 1]) aligned_box=([108, 162, 0], [1084, 1072, 1]) delta=[2, 2, 2] num_pixels=[488, 455, 1] tot_pixels=222,040 max_pixels=351,822 end=27\");\n"
      ],
      "text/plain": [
       "<IPython.core.display.Javascript object>"
      ]
     },
     "metadata": {},
     "output_type": "display_data"
    },
    {
     "data": {
      "application/javascript": [
       "console.log(\"[113747][INFO][openvisuspy.backend_cpp:139:beginBoxQuery] beginBoxQuery timestep=0 field=tomo logic_box=[[108, 162, 0], [1084, 1072, 1]] end_resolutions=[18, 21, 24, 27]\");\n"
      ],
      "text/plain": [
       "<IPython.core.display.Javascript object>"
      ]
     },
     "metadata": {},
     "output_type": "display_data"
    },
    {
     "data": {
      "application/javascript": [
       "console.log(\"[113747][INFO][openvisuspy.backend_cpp:169:returnBoxQueryData] got data 0/[18, 21, 24, 27] timestep=0 field=tomo H=18 data.shape=(56, 61) data.dtype=int16 logic_box=[[108, 162, 0], [1084, 1072, 1]] m=10012 M=14070 ms=3\");\n"
      ],
      "text/plain": [
       "<IPython.core.display.Javascript object>"
      ]
     },
     "metadata": {},
     "output_type": "display_data"
    },
    {
     "data": {
      "application/javascript": [
       "console.log(\"[113747][INFO][openvisuspy.backend_cpp:169:returnBoxQueryData] got data 1/[18, 21, 24, 27] timestep=0 field=tomo H=21 data.shape=(113, 122) data.dtype=int16 logic_box=[[108, 162, 0], [1084, 1072, 1]] m=9905 M=14492 ms=9\");\n"
      ],
      "text/plain": [
       "<IPython.core.display.Javascript object>"
      ]
     },
     "metadata": {},
     "output_type": "display_data"
    },
    {
     "data": {
      "application/javascript": [
       "console.log(\"[113747][INFO][openvisuspy.backend_cpp:169:returnBoxQueryData] got data 2/[18, 21, 24, 27] timestep=0 field=tomo H=24 data.shape=(227, 244) data.dtype=int16 logic_box=[[108, 162, 0], [1084, 1072, 1]] m=9733 M=17385 ms=31\");\n"
      ],
      "text/plain": [
       "<IPython.core.display.Javascript object>"
      ]
     },
     "metadata": {},
     "output_type": "display_data"
    },
    {
     "data": {
      "application/javascript": [
       "console.log(\"[113747][INFO][openvisuspy.slice:195:renderResultIfNeeded] Slice[1]::rendering result data.shape=(227, 244) data.dtype=int16 logic_box=[[108, 162, 0], [1084, 1072, 1]]\");\n"
      ],
      "text/plain": [
       "<IPython.core.display.Javascript object>"
      ]
     },
     "metadata": {},
     "output_type": "display_data"
    },
    {
     "data": {
      "application/javascript": [
       "console.log(\"[113747][INFO][openvisuspy.slice:215:pushJobIfNeeded] pushing new job\");\n"
      ],
      "text/plain": [
       "<IPython.core.display.Javascript object>"
      ]
     },
     "metadata": {},
     "output_type": "display_data"
    },
    {
     "data": {
      "application/javascript": [
       "console.log(\"[113747][INFO][openvisuspy.backend_cpp:76:printStatistics] Stats::printStatistics enlapsed=0.050627708435058594 seconds\");\n"
      ],
      "text/plain": [
       "<IPython.core.display.Javascript object>"
      ]
     },
     "metadata": {},
     "output_type": "display_data"
    },
    {
     "data": {
      "application/javascript": [
       "console.log(\"[113747][INFO][openvisuspy.backend_cpp:76:createBoxQuery] begin timestep=0 field=tomo logic_box=[[10.539866420630347, 57.21770044916794, 0], [1187.2059245899468, 1155.311595125094, 1]] num_refinements=4 max_pixels=351822 endh=30\");\n"
      ],
      "text/plain": [
       "<IPython.core.display.Javascript object>"
      ]
     },
     "metadata": {},
     "output_type": "display_data"
    },
    {
     "data": {
      "application/javascript": [
       "console.log(\"[113748][INFO][openvisuspy.backend_cpp:111:createBoxQuery] Guess resolution endh=27 original_box=([10, 57, 0], [1188, 1156, 1]) aligned_box=([10, 56, 0], [1188, 1156, 1]) delta=[2, 2, 2] num_pixels=[589, 550, 1] tot_pixels=323,950 max_pixels=351,822 end=27\");\n"
      ],
      "text/plain": [
       "<IPython.core.display.Javascript object>"
      ]
     },
     "metadata": {},
     "output_type": "display_data"
    },
    {
     "data": {
      "application/javascript": [
       "console.log(\"[113748][INFO][openvisuspy.backend_cpp:139:beginBoxQuery] beginBoxQuery timestep=0 field=tomo logic_box=[[10, 56, 0], [1188, 1156, 1]] end_resolutions=[18, 21, 24, 27]\");\n"
      ],
      "text/plain": [
       "<IPython.core.display.Javascript object>"
      ]
     },
     "metadata": {},
     "output_type": "display_data"
    },
    {
     "data": {
      "application/javascript": [
       "console.log(\"[113748][INFO][openvisuspy.backend_cpp:169:returnBoxQueryData] got data 0/[18, 21, 24, 27] timestep=0 field=tomo H=18 data.shape=(69, 74) data.dtype=int16 logic_box=[[10, 56, 0], [1188, 1156, 1]] m=10012 M=14070 ms=2\");\n"
      ],
      "text/plain": [
       "<IPython.core.display.Javascript object>"
      ]
     },
     "metadata": {},
     "output_type": "display_data"
    },
    {
     "data": {
      "application/javascript": [
       "console.log(\"[113748][INFO][openvisuspy.backend_cpp:169:returnBoxQueryData] got data 1/[18, 21, 24, 27] timestep=0 field=tomo H=21 data.shape=(138, 147) data.dtype=int16 logic_box=[[10, 56, 0], [1188, 1156, 1]] m=9841 M=14492 ms=8\");\n"
      ],
      "text/plain": [
       "<IPython.core.display.Javascript object>"
      ]
     },
     "metadata": {},
     "output_type": "display_data"
    },
    {
     "data": {
      "application/javascript": [
       "console.log(\"[113748][INFO][openvisuspy.backend_cpp:169:returnBoxQueryData] got data 2/[18, 21, 24, 27] timestep=0 field=tomo H=24 data.shape=(275, 294) data.dtype=int16 logic_box=[[10, 56, 0], [1188, 1156, 1]] m=9733 M=17385 ms=30\");\n"
      ],
      "text/plain": [
       "<IPython.core.display.Javascript object>"
      ]
     },
     "metadata": {},
     "output_type": "display_data"
    },
    {
     "data": {
      "application/javascript": [
       "console.log(\"[113748][INFO][openvisuspy.slice:195:renderResultIfNeeded] Slice[1]::rendering result data.shape=(275, 294) data.dtype=int16 logic_box=[[10, 56, 0], [1188, 1156, 1]]\");\n"
      ],
      "text/plain": [
       "<IPython.core.display.Javascript object>"
      ]
     },
     "metadata": {},
     "output_type": "display_data"
    },
    {
     "data": {
      "application/javascript": [
       "console.log(\"[113748][INFO][openvisuspy.backend_cpp:169:returnBoxQueryData] got data 3/[18, 21, 24, 27] timestep=0 field=tomo H=27 data.shape=(550, 589) data.dtype=int16 logic_box=[[10, 56, 0], [1188, 1156, 1]] m=9685 M=17871 ms=144\");\n"
      ],
      "text/plain": [
       "<IPython.core.display.Javascript object>"
      ]
     },
     "metadata": {},
     "output_type": "display_data"
    },
    {
     "data": {
      "application/javascript": [
       "console.log(\"[113748][INFO][openvisuspy.backend_cpp:76:printStatistics] Stats::printStatistics enlapsed=0.15123701095581055 seconds\");\n"
      ],
      "text/plain": [
       "<IPython.core.display.Javascript object>"
      ]
     },
     "metadata": {},
     "output_type": "display_data"
    },
    {
     "data": {
      "application/javascript": [
       "console.log(\"[113748][INFO][openvisuspy.slice:195:renderResultIfNeeded] Slice[1]::rendering result data.shape=(550, 589) data.dtype=int16 logic_box=[[10, 56, 0], [1188, 1156, 1]]\");\n"
      ],
      "text/plain": [
       "<IPython.core.display.Javascript object>"
      ]
     },
     "metadata": {},
     "output_type": "display_data"
    },
    {
     "data": {
      "application/javascript": [
       "console.log(\"[113758][INFO][openvisuspy.widgets:279:setDataset] Widgets[2]::setDataset value=http://atlantis.sci.utah.edu/mod_visus?dataset=block_raw&cached=1\");\n"
      ],
      "text/plain": [
       "<IPython.core.display.Javascript object>"
      ]
     },
     "metadata": {},
     "output_type": "display_data"
    },
    {
     "data": {
      "application/javascript": [
       "console.log(\"[113758][INFO][openvisuspy.widgets:329:setTimesteps] Widgets[2]::setTimesteps start=0 end=0\");\n"
      ],
      "text/plain": [
       "<IPython.core.display.Javascript object>"
      ]
     },
     "metadata": {},
     "output_type": "display_data"
    },
    {
     "data": {
      "application/javascript": [
       "console.log(\"[113758][INFO][openvisuspy.widgets:348:setTimestepDelta] Widgets[2]::setTimestepDelta value=1\");\n"
      ],
      "text/plain": [
       "<IPython.core.display.Javascript object>"
      ]
     },
     "metadata": {},
     "output_type": "display_data"
    },
    {
     "data": {
      "application/javascript": [
       "console.log(\"[113758][INFO][openvisuspy.widgets:369:setTimestep] Widgets[2]::setTimestep value=0\");\n"
      ],
      "text/plain": [
       "<IPython.core.display.Javascript object>"
      ]
     },
     "metadata": {},
     "output_type": "display_data"
    },
    {
     "data": {
      "application/javascript": [
       "console.log(\"[113758][INFO][openvisuspy.widgets:369:setTimestep] Widgets[2]::setTimestep value=0\");\n"
      ],
      "text/plain": [
       "<IPython.core.display.Javascript object>"
      ]
     },
     "metadata": {},
     "output_type": "display_data"
    },
    {
     "data": {
      "application/javascript": [
       "console.log(\"[113758][INFO][openvisuspy.widgets:475:setDirection] Widgets[2]::setDirection value=2\");\n"
      ],
      "text/plain": [
       "<IPython.core.display.Javascript object>"
      ]
     },
     "metadata": {},
     "output_type": "display_data"
    },
    {
     "data": {
      "application/javascript": [
       "console.log(\"[113758][INFO][openvisuspy.widgets:503:setOffset] Widgets[2]::getOffset value=100\");\n"
      ],
      "text/plain": [
       "<IPython.core.display.Javascript object>"
      ]
     },
     "metadata": {},
     "output_type": "display_data"
    },
    {
     "data": {
      "application/javascript": [
       "console.log(\"[113758][INFO][openvisuspy.slice:142:setLogicBox] Slice[2]::setLogicBox value=([0, 0, 0], [1200, 1200, 200])\");\n"
      ],
      "text/plain": [
       "<IPython.core.display.Javascript object>"
      ]
     },
     "metadata": {},
     "output_type": "display_data"
    },
    {
     "data": {
      "application/javascript": [
       "console.log(\"[113758][INFO][openvisuspy.widgets:381:setFields] Widgets[2]::setFields value=['tomo']\");\n"
      ],
      "text/plain": [
       "<IPython.core.display.Javascript object>"
      ]
     },
     "metadata": {},
     "output_type": "display_data"
    },
    {
     "data": {
      "application/javascript": [
       "console.log(\"[113758][INFO][openvisuspy.widgets:390:setField] Widgets[2]::setField value=tomo\");\n"
      ],
      "text/plain": [
       "<IPython.core.display.Javascript object>"
      ]
     },
     "metadata": {},
     "output_type": "display_data"
    },
    {
     "data": {
      "application/javascript": [
       "console.log(\"[113758][INFO][openvisuspy.widgets:390:setField] Widgets[2]::setField value=tomo\");\n"
      ],
      "text/plain": [
       "<IPython.core.display.Javascript object>"
      ]
     },
     "metadata": {},
     "output_type": "display_data"
    },
    {
     "data": {
      "application/javascript": [
       "console.log(\"[113758][INFO][openvisuspy.widgets:403:setPalette] Widgets[2]::setPalette value=colorcet.coolwarm\");\n"
      ],
      "text/plain": [
       "<IPython.core.display.Javascript object>"
      ]
     },
     "metadata": {},
     "output_type": "display_data"
    },
    {
     "data": {
      "application/javascript": [
       "console.log(\"[113758][INFO][openvisuspy.widgets:403:setPalette] Widgets[2]::setPalette value=colorcet.coolwarm\");\n"
      ],
      "text/plain": [
       "<IPython.core.display.Javascript object>"
      ]
     },
     "metadata": {},
     "output_type": "display_data"
    },
    {
     "data": {
      "application/javascript": [
       "console.log(\"[113758][INFO][openvisuspy.widgets:417:setPaletteRange] Widgets[2]::setPaletteRange value=[8644.0, 16382.0]\");\n"
      ],
      "text/plain": [
       "<IPython.core.display.Javascript object>"
      ]
     },
     "metadata": {},
     "output_type": "display_data"
    },
    {
     "data": {
      "application/javascript": [
       "console.log(\"[113758][INFO][openvisuspy.widgets:475:setDirection] Widgets[2]::setDirection value=2\");\n"
      ],
      "text/plain": [
       "<IPython.core.display.Javascript object>"
      ]
     },
     "metadata": {},
     "output_type": "display_data"
    },
    {
     "data": {
      "application/javascript": [
       "console.log(\"[113758][INFO][openvisuspy.slice:142:setLogicBox] Slice[2]::setLogicBox value=([0, 0, 0], [1200, 1200, 200])\");\n"
      ],
      "text/plain": [
       "<IPython.core.display.Javascript object>"
      ]
     },
     "metadata": {},
     "output_type": "display_data"
    },
    {
     "data": {
      "application/javascript": [
       "console.log(\"[113758][INFO][openvisuspy.widgets:503:setOffset] Widgets[2]::getOffset value=0\");\n"
      ],
      "text/plain": [
       "<IPython.core.display.Javascript object>"
      ]
     },
     "metadata": {},
     "output_type": "display_data"
    },
    {
     "data": {
      "application/javascript": [
       "console.log(\"[113758][INFO][openvisuspy.widgets:503:setOffset] Widgets[2]::getOffset value=0\");\n"
      ],
      "text/plain": [
       "<IPython.core.display.Javascript object>"
      ]
     },
     "metadata": {},
     "output_type": "display_data"
    },
    {
     "data": {
      "application/javascript": [
       "console.log(\"[113758][INFO][openvisuspy.backend_cpp:139:_threadLoop] _threadLoop is Alive\");\n"
      ],
      "text/plain": [
       "<IPython.core.display.Javascript object>"
      ]
     },
     "metadata": {},
     "output_type": "display_data"
    },
    {
     "data": {
      "application/javascript": [
       "console.log(\"[113758][INFO][openvisuspy.canvas:61:onResize] Calling on_resize callback w=654 h=573\");\n"
      ],
      "text/plain": [
       "<IPython.core.display.Javascript object>"
      ]
     },
     "metadata": {},
     "output_type": "display_data"
    },
    {
     "data": {
      "application/javascript": [
       "console.log(\"[113758][INFO][openvisuspy.widgets:475:setDirection] Widgets[2]::setDirection value=2\");\n"
      ],
      "text/plain": [
       "<IPython.core.display.Javascript object>"
      ]
     },
     "metadata": {},
     "output_type": "display_data"
    },
    {
     "data": {
      "application/javascript": [
       "console.log(\"[113758][INFO][openvisuspy.widgets:503:setOffset] Widgets[2]::getOffset value=100\");\n"
      ],
      "text/plain": [
       "<IPython.core.display.Javascript object>"
      ]
     },
     "metadata": {},
     "output_type": "display_data"
    },
    {
     "data": {
      "application/javascript": [
       "console.log(\"[113758][INFO][openvisuspy.slice:142:setLogicBox] Slice[2]::setLogicBox value=([0, 0, 0], [1200, 1200, 200])\");\n"
      ],
      "text/plain": [
       "<IPython.core.display.Javascript object>"
      ]
     },
     "metadata": {},
     "output_type": "display_data"
    },
    {
     "data": {
      "application/javascript": [
       "console.log(\"[113758][INFO][openvisuspy.widgets:503:setOffset] Widgets[2]::getOffset value=0\");\n"
      ],
      "text/plain": [
       "<IPython.core.display.Javascript object>"
      ]
     },
     "metadata": {},
     "output_type": "display_data"
    },
    {
     "data": {
      "application/javascript": [
       "console.log(\"[113758][INFO][openvisuspy.widgets:503:setOffset] Widgets[2]::getOffset value=0\");\n"
      ],
      "text/plain": [
       "<IPython.core.display.Javascript object>"
      ]
     },
     "metadata": {},
     "output_type": "display_data"
    },
    {
     "data": {
      "application/javascript": [
       "console.log(\"[113758][INFO][openvisuspy.widgets:503:setOffset] Widgets[2]::getOffset value=0\");\n"
      ],
      "text/plain": [
       "<IPython.core.display.Javascript object>"
      ]
     },
     "metadata": {},
     "output_type": "display_data"
    },
    {
     "data": {
      "application/javascript": [
       "console.log(\"[113758][INFO][openvisuspy.slice:215:pushJobIfNeeded] pushing new job\");\n"
      ],
      "text/plain": [
       "<IPython.core.display.Javascript object>"
      ]
     },
     "metadata": {},
     "output_type": "display_data"
    },
    {
     "data": {
      "application/javascript": [
       "console.log(\"[113758][INFO][openvisuspy.backend_cpp:76:createBoxQuery] begin timestep=0 field=tomo logic_box=[[-84.81675392670161, 0.0, 0], [1284.8167539267015, 1200.0, 1]] num_refinements=4 max_pixels=374742 endh=30\");\n"
      ],
      "text/plain": [
       "<IPython.core.display.Javascript object>"
      ]
     },
     "metadata": {},
     "output_type": "display_data"
    },
    {
     "data": {
      "application/javascript": [
       "console.log(\"[113758][INFO][openvisuspy.backend_cpp:111:createBoxQuery] Guess resolution endh=27 original_box=([0, 0, 0], [1200, 1200, 1]) aligned_box=([0, 0, 0], [1200, 1200, 1]) delta=[2, 2, 2] num_pixels=[600, 600, 1] tot_pixels=360,000 max_pixels=374,742 end=27\");\n"
      ],
      "text/plain": [
       "<IPython.core.display.Javascript object>"
      ]
     },
     "metadata": {},
     "output_type": "display_data"
    },
    {
     "data": {
      "application/javascript": [
       "console.log(\"[113758][INFO][openvisuspy.backend_cpp:139:beginBoxQuery] beginBoxQuery timestep=0 field=tomo logic_box=[[0, 0, 0], [1200, 1200, 1]] end_resolutions=[18, 21, 24, 27]\");\n"
      ],
      "text/plain": [
       "<IPython.core.display.Javascript object>"
      ]
     },
     "metadata": {},
     "output_type": "display_data"
    },
    {
     "data": {
      "application/javascript": [
       "console.log(\"[113758][INFO][openvisuspy.backend_cpp:169:returnBoxQueryData] got data 0/[18, 21, 24, 27] timestep=0 field=tomo H=18 data.shape=(75, 75) data.dtype=int16 logic_box=[[0, 0, 0], [1200, 1200, 1]] m=9848 M=14070 ms=4\");\n"
      ],
      "text/plain": [
       "<IPython.core.display.Javascript object>"
      ]
     },
     "metadata": {},
     "output_type": "display_data"
    },
    {
     "data": {
      "application/javascript": [
       "console.log(\"[113758][INFO][openvisuspy.backend_cpp:169:returnBoxQueryData] got data 1/[18, 21, 24, 27] timestep=0 field=tomo H=21 data.shape=(150, 150) data.dtype=int16 logic_box=[[0, 0, 0], [1200, 1200, 1]] m=9841 M=14492 ms=10\");\n"
      ],
      "text/plain": [
       "<IPython.core.display.Javascript object>"
      ]
     },
     "metadata": {},
     "output_type": "display_data"
    },
    {
     "data": {
      "application/javascript": [
       "console.log(\"[113758][INFO][openvisuspy.slice:195:renderResultIfNeeded] Slice[2]::rendering result data.shape=(150, 150) data.dtype=int16 logic_box=[[0, 0, 0], [1200, 1200, 1]]\");\n"
      ],
      "text/plain": [
       "<IPython.core.display.Javascript object>"
      ]
     },
     "metadata": {},
     "output_type": "display_data"
    },
    {
     "data": {
      "application/javascript": [
       "console.log(\"[113758][INFO][openvisuspy.backend_cpp:169:returnBoxQueryData] got data 2/[18, 21, 24, 27] timestep=0 field=tomo H=24 data.shape=(300, 300) data.dtype=int16 logic_box=[[0, 0, 0], [1200, 1200, 1]] m=9733 M=17385 ms=43\");\n"
      ],
      "text/plain": [
       "<IPython.core.display.Javascript object>"
      ]
     },
     "metadata": {},
     "output_type": "display_data"
    },
    {
     "data": {
      "application/javascript": [
       "console.log(\"[113758][INFO][openvisuspy.slice:195:renderResultIfNeeded] Slice[2]::rendering result data.shape=(300, 300) data.dtype=int16 logic_box=[[0, 0, 0], [1200, 1200, 1]]\");\n"
      ],
      "text/plain": [
       "<IPython.core.display.Javascript object>"
      ]
     },
     "metadata": {},
     "output_type": "display_data"
    },
    {
     "data": {
      "application/javascript": [
       "console.log(\"[113758][INFO][openvisuspy.backend_cpp:169:returnBoxQueryData] got data 3/[18, 21, 24, 27] timestep=0 field=tomo H=27 data.shape=(600, 600) data.dtype=int16 logic_box=[[0, 0, 0], [1200, 1200, 1]] m=9603 M=17871 ms=158\");\n"
      ],
      "text/plain": [
       "<IPython.core.display.Javascript object>"
      ]
     },
     "metadata": {},
     "output_type": "display_data"
    },
    {
     "data": {
      "application/javascript": [
       "console.log(\"[113758][INFO][openvisuspy.backend_cpp:76:printStatistics] Stats::printStatistics enlapsed=0.1697077751159668 seconds\");\n"
      ],
      "text/plain": [
       "<IPython.core.display.Javascript object>"
      ]
     },
     "metadata": {},
     "output_type": "display_data"
    },
    {
     "data": {
      "application/javascript": [
       "console.log(\"[113758][INFO][openvisuspy.slice:195:renderResultIfNeeded] Slice[2]::rendering result data.shape=(600, 600) data.dtype=int16 logic_box=[[0, 0, 0], [1200, 1200, 1]]\");\n"
      ],
      "text/plain": [
       "<IPython.core.display.Javascript object>"
      ]
     },
     "metadata": {},
     "output_type": "display_data"
    },
    {
     "data": {
      "application/javascript": [
       "console.log(\"[113809][INFO][openvisuspy.canvas:61:onResize] Calling on_resize callback w=1273 h=559\");\n"
      ],
      "text/plain": [
       "<IPython.core.display.Javascript object>"
      ]
     },
     "metadata": {},
     "output_type": "display_data"
    },
    {
     "data": {
      "application/javascript": [
       "console.log(\"[113809][INFO][openvisuspy.widgets:475:setDirection] Widgets[2]::setDirection value=2\");\n"
      ],
      "text/plain": [
       "<IPython.core.display.Javascript object>"
      ]
     },
     "metadata": {},
     "output_type": "display_data"
    },
    {
     "data": {
      "application/javascript": [
       "console.log(\"[113809][INFO][openvisuspy.widgets:503:setOffset] Widgets[2]::getOffset value=100\");\n"
      ],
      "text/plain": [
       "<IPython.core.display.Javascript object>"
      ]
     },
     "metadata": {},
     "output_type": "display_data"
    },
    {
     "data": {
      "application/javascript": [
       "console.log(\"[113809][INFO][openvisuspy.slice:142:setLogicBox] Slice[2]::setLogicBox value=([0, 0, 0], [1200, 1200, 200])\");\n"
      ],
      "text/plain": [
       "<IPython.core.display.Javascript object>"
      ]
     },
     "metadata": {},
     "output_type": "display_data"
    },
    {
     "data": {
      "application/javascript": [
       "console.log(\"[113809][INFO][openvisuspy.widgets:503:setOffset] Widgets[2]::getOffset value=0\");\n"
      ],
      "text/plain": [
       "<IPython.core.display.Javascript object>"
      ]
     },
     "metadata": {},
     "output_type": "display_data"
    },
    {
     "data": {
      "application/javascript": [
       "console.log(\"[113809][INFO][openvisuspy.widgets:503:setOffset] Widgets[2]::getOffset value=0\");\n"
      ],
      "text/plain": [
       "<IPython.core.display.Javascript object>"
      ]
     },
     "metadata": {},
     "output_type": "display_data"
    },
    {
     "data": {
      "application/javascript": [
       "console.log(\"[113809][INFO][openvisuspy.widgets:503:setOffset] Widgets[2]::getOffset value=0\");\n"
      ],
      "text/plain": [
       "<IPython.core.display.Javascript object>"
      ]
     },
     "metadata": {},
     "output_type": "display_data"
    },
    {
     "data": {
      "application/javascript": [
       "console.log(\"[113809][INFO][openvisuspy.slice:215:pushJobIfNeeded] pushing new job\");\n"
      ],
      "text/plain": [
       "<IPython.core.display.Javascript object>"
      ]
     },
     "metadata": {},
     "output_type": "display_data"
    },
    {
     "data": {
      "application/javascript": [
       "console.log(\"[113809][INFO][openvisuspy.backend_cpp:76:createBoxQuery] begin timestep=0 field=tomo logic_box=[[-766.3685152057244, 0.0, 0], [1966.3685152057244, 1200.0, 1]] num_refinements=4 max_pixels=711607 endh=30\");\n"
      ],
      "text/plain": [
       "<IPython.core.display.Javascript object>"
      ]
     },
     "metadata": {},
     "output_type": "display_data"
    },
    {
     "data": {
      "application/javascript": [
       "console.log(\"[113809][INFO][openvisuspy.backend_cpp:111:createBoxQuery] Guess resolution endh=27 original_box=([0, 0, 0], [1200, 1200, 1]) aligned_box=([0, 0, 0], [1200, 1200, 1]) delta=[2, 2, 2] num_pixels=[600, 600, 1] tot_pixels=360,000 max_pixels=711,607 end=27\");\n"
      ],
      "text/plain": [
       "<IPython.core.display.Javascript object>"
      ]
     },
     "metadata": {},
     "output_type": "display_data"
    },
    {
     "data": {
      "application/javascript": [
       "console.log(\"[113809][INFO][openvisuspy.backend_cpp:139:beginBoxQuery] beginBoxQuery timestep=0 field=tomo logic_box=[[0, 0, 0], [1200, 1200, 1]] end_resolutions=[18, 21, 24, 27]\");\n"
      ],
      "text/plain": [
       "<IPython.core.display.Javascript object>"
      ]
     },
     "metadata": {},
     "output_type": "display_data"
    },
    {
     "data": {
      "application/javascript": [
       "console.log(\"[113809][INFO][openvisuspy.backend_cpp:169:returnBoxQueryData] got data 0/[18, 21, 24, 27] timestep=0 field=tomo H=18 data.shape=(75, 75) data.dtype=int16 logic_box=[[0, 0, 0], [1200, 1200, 1]] m=9848 M=14070 ms=5\");\n"
      ],
      "text/plain": [
       "<IPython.core.display.Javascript object>"
      ]
     },
     "metadata": {},
     "output_type": "display_data"
    },
    {
     "data": {
      "application/javascript": [
       "console.log(\"[113809][INFO][openvisuspy.backend_cpp:169:returnBoxQueryData] got data 1/[18, 21, 24, 27] timestep=0 field=tomo H=21 data.shape=(150, 150) data.dtype=int16 logic_box=[[0, 0, 0], [1200, 1200, 1]] m=9841 M=14492 ms=10\");\n"
      ],
      "text/plain": [
       "<IPython.core.display.Javascript object>"
      ]
     },
     "metadata": {},
     "output_type": "display_data"
    },
    {
     "data": {
      "application/javascript": [
       "console.log(\"[113809][INFO][openvisuspy.slice:195:renderResultIfNeeded] Slice[2]::rendering result data.shape=(150, 150) data.dtype=int16 logic_box=[[0, 0, 0], [1200, 1200, 1]]\");\n"
      ],
      "text/plain": [
       "<IPython.core.display.Javascript object>"
      ]
     },
     "metadata": {},
     "output_type": "display_data"
    },
    {
     "data": {
      "application/javascript": [
       "console.log(\"[113809][INFO][openvisuspy.backend_cpp:169:returnBoxQueryData] got data 2/[18, 21, 24, 27] timestep=0 field=tomo H=24 data.shape=(300, 300) data.dtype=int16 logic_box=[[0, 0, 0], [1200, 1200, 1]] m=9733 M=17385 ms=36\");\n"
      ],
      "text/plain": [
       "<IPython.core.display.Javascript object>"
      ]
     },
     "metadata": {},
     "output_type": "display_data"
    },
    {
     "data": {
      "application/javascript": [
       "console.log(\"[113809][INFO][openvisuspy.slice:195:renderResultIfNeeded] Slice[2]::rendering result data.shape=(300, 300) data.dtype=int16 logic_box=[[0, 0, 0], [1200, 1200, 1]]\");\n"
      ],
      "text/plain": [
       "<IPython.core.display.Javascript object>"
      ]
     },
     "metadata": {},
     "output_type": "display_data"
    },
    {
     "data": {
      "application/javascript": [
       "console.log(\"[113809][INFO][openvisuspy.backend_cpp:169:returnBoxQueryData] got data 3/[18, 21, 24, 27] timestep=0 field=tomo H=27 data.shape=(600, 600) data.dtype=int16 logic_box=[[0, 0, 0], [1200, 1200, 1]] m=9603 M=17871 ms=155\");\n"
      ],
      "text/plain": [
       "<IPython.core.display.Javascript object>"
      ]
     },
     "metadata": {},
     "output_type": "display_data"
    },
    {
     "data": {
      "application/javascript": [
       "console.log(\"[113809][INFO][openvisuspy.backend_cpp:76:printStatistics] Stats::printStatistics enlapsed=0.16571950912475586 seconds\");\n"
      ],
      "text/plain": [
       "<IPython.core.display.Javascript object>"
      ]
     },
     "metadata": {},
     "output_type": "display_data"
    },
    {
     "data": {
      "application/javascript": [
       "console.log(\"[113809][INFO][openvisuspy.backend_cpp:139:_threadLoop] _threadLoop is Alive\");\n"
      ],
      "text/plain": [
       "<IPython.core.display.Javascript object>"
      ]
     },
     "metadata": {},
     "output_type": "display_data"
    },
    {
     "data": {
      "application/javascript": [
       "console.log(\"[113809][INFO][openvisuspy.slice:195:renderResultIfNeeded] Slice[2]::rendering result data.shape=(600, 600) data.dtype=int16 logic_box=[[0, 0, 0], [1200, 1200, 1]]\");\n"
      ],
      "text/plain": [
       "<IPython.core.display.Javascript object>"
      ]
     },
     "metadata": {},
     "output_type": "display_data"
    },
    {
     "data": {
      "application/javascript": [
       "console.log(\"[113819][INFO][openvisuspy.widgets:279:setDataset] Widgets[3]::setDataset value=http://atlantis.sci.utah.edu/mod_visus?dataset=block_raw&cached=1\");\n"
      ],
      "text/plain": [
       "<IPython.core.display.Javascript object>"
      ]
     },
     "metadata": {},
     "output_type": "display_data"
    },
    {
     "data": {
      "application/javascript": [
       "console.log(\"[113819][INFO][openvisuspy.widgets:329:setTimesteps] Widgets[3]::setTimesteps start=0 end=0\");\n"
      ],
      "text/plain": [
       "<IPython.core.display.Javascript object>"
      ]
     },
     "metadata": {},
     "output_type": "display_data"
    },
    {
     "data": {
      "application/javascript": [
       "console.log(\"[113819][INFO][openvisuspy.widgets:348:setTimestepDelta] Widgets[3]::setTimestepDelta value=1\");\n"
      ],
      "text/plain": [
       "<IPython.core.display.Javascript object>"
      ]
     },
     "metadata": {},
     "output_type": "display_data"
    },
    {
     "data": {
      "application/javascript": [
       "console.log(\"[113819][INFO][openvisuspy.widgets:369:setTimestep] Widgets[3]::setTimestep value=0\");\n"
      ],
      "text/plain": [
       "<IPython.core.display.Javascript object>"
      ]
     },
     "metadata": {},
     "output_type": "display_data"
    },
    {
     "data": {
      "application/javascript": [
       "console.log(\"[113819][INFO][openvisuspy.widgets:369:setTimestep] Widgets[3]::setTimestep value=0\");\n"
      ],
      "text/plain": [
       "<IPython.core.display.Javascript object>"
      ]
     },
     "metadata": {},
     "output_type": "display_data"
    },
    {
     "data": {
      "application/javascript": [
       "console.log(\"[113819][INFO][openvisuspy.widgets:475:setDirection] Widgets[3]::setDirection value=2\");\n"
      ],
      "text/plain": [
       "<IPython.core.display.Javascript object>"
      ]
     },
     "metadata": {},
     "output_type": "display_data"
    },
    {
     "data": {
      "application/javascript": [
       "console.log(\"[113819][INFO][openvisuspy.widgets:503:setOffset] Widgets[3]::getOffset value=100\");\n"
      ],
      "text/plain": [
       "<IPython.core.display.Javascript object>"
      ]
     },
     "metadata": {},
     "output_type": "display_data"
    },
    {
     "data": {
      "application/javascript": [
       "console.log(\"[113819][INFO][openvisuspy.slice:142:setLogicBox] Slice[3]::setLogicBox value=([0, 0, 0], [1200, 1200, 200])\");\n"
      ],
      "text/plain": [
       "<IPython.core.display.Javascript object>"
      ]
     },
     "metadata": {},
     "output_type": "display_data"
    },
    {
     "data": {
      "application/javascript": [
       "console.log(\"[113819][INFO][openvisuspy.widgets:381:setFields] Widgets[3]::setFields value=['tomo']\");\n"
      ],
      "text/plain": [
       "<IPython.core.display.Javascript object>"
      ]
     },
     "metadata": {},
     "output_type": "display_data"
    },
    {
     "data": {
      "application/javascript": [
       "console.log(\"[113819][INFO][openvisuspy.widgets:390:setField] Widgets[3]::setField value=tomo\");\n"
      ],
      "text/plain": [
       "<IPython.core.display.Javascript object>"
      ]
     },
     "metadata": {},
     "output_type": "display_data"
    },
    {
     "data": {
      "application/javascript": [
       "console.log(\"[113819][INFO][openvisuspy.widgets:390:setField] Widgets[3]::setField value=tomo\");\n"
      ],
      "text/plain": [
       "<IPython.core.display.Javascript object>"
      ]
     },
     "metadata": {},
     "output_type": "display_data"
    },
    {
     "data": {
      "application/javascript": [
       "console.log(\"[113819][INFO][openvisuspy.widgets:403:setPalette] Widgets[3]::setPalette value=colorcet.coolwarm\");\n"
      ],
      "text/plain": [
       "<IPython.core.display.Javascript object>"
      ]
     },
     "metadata": {},
     "output_type": "display_data"
    },
    {
     "data": {
      "application/javascript": [
       "console.log(\"[113819][INFO][openvisuspy.widgets:403:setPalette] Widgets[3]::setPalette value=colorcet.coolwarm\");\n"
      ],
      "text/plain": [
       "<IPython.core.display.Javascript object>"
      ]
     },
     "metadata": {},
     "output_type": "display_data"
    },
    {
     "data": {
      "application/javascript": [
       "console.log(\"[113819][INFO][openvisuspy.widgets:417:setPaletteRange] Widgets[3]::setPaletteRange value=[8644.0, 16382.0]\");\n"
      ],
      "text/plain": [
       "<IPython.core.display.Javascript object>"
      ]
     },
     "metadata": {},
     "output_type": "display_data"
    },
    {
     "data": {
      "application/javascript": [
       "console.log(\"[113819][INFO][openvisuspy.widgets:475:setDirection] Widgets[3]::setDirection value=2\");\n"
      ],
      "text/plain": [
       "<IPython.core.display.Javascript object>"
      ]
     },
     "metadata": {},
     "output_type": "display_data"
    },
    {
     "data": {
      "application/javascript": [
       "console.log(\"[113819][INFO][openvisuspy.slice:142:setLogicBox] Slice[3]::setLogicBox value=([0, 0, 0], [1200, 1200, 200])\");\n"
      ],
      "text/plain": [
       "<IPython.core.display.Javascript object>"
      ]
     },
     "metadata": {},
     "output_type": "display_data"
    },
    {
     "data": {
      "application/javascript": [
       "console.log(\"[113819][INFO][openvisuspy.widgets:503:setOffset] Widgets[3]::getOffset value=0\");\n"
      ],
      "text/plain": [
       "<IPython.core.display.Javascript object>"
      ]
     },
     "metadata": {},
     "output_type": "display_data"
    },
    {
     "data": {
      "application/javascript": [
       "console.log(\"[113819][INFO][openvisuspy.widgets:503:setOffset] Widgets[3]::getOffset value=0\");\n"
      ],
      "text/plain": [
       "<IPython.core.display.Javascript object>"
      ]
     },
     "metadata": {},
     "output_type": "display_data"
    },
    {
     "data": {
      "application/javascript": [
       "console.log(\"[113819][INFO][openvisuspy.backend_cpp:139:_threadLoop] _threadLoop is Alive\");\n"
      ],
      "text/plain": [
       "<IPython.core.display.Javascript object>"
      ]
     },
     "metadata": {},
     "output_type": "display_data"
    },
    {
     "data": {
      "application/javascript": [
       "console.log(\"[113819][INFO][openvisuspy.canvas:61:onResize] Calling on_resize callback w=654 h=573\");\n"
      ],
      "text/plain": [
       "<IPython.core.display.Javascript object>"
      ]
     },
     "metadata": {},
     "output_type": "display_data"
    },
    {
     "data": {
      "application/javascript": [
       "console.log(\"[113819][INFO][openvisuspy.widgets:475:setDirection] Widgets[3]::setDirection value=2\");\n"
      ],
      "text/plain": [
       "<IPython.core.display.Javascript object>"
      ]
     },
     "metadata": {},
     "output_type": "display_data"
    },
    {
     "data": {
      "application/javascript": [
       "console.log(\"[113819][INFO][openvisuspy.widgets:503:setOffset] Widgets[3]::getOffset value=100\");\n"
      ],
      "text/plain": [
       "<IPython.core.display.Javascript object>"
      ]
     },
     "metadata": {},
     "output_type": "display_data"
    },
    {
     "data": {
      "application/javascript": [
       "console.log(\"[113819][INFO][openvisuspy.slice:142:setLogicBox] Slice[3]::setLogicBox value=([0, 0, 0], [1200, 1200, 200])\");\n"
      ],
      "text/plain": [
       "<IPython.core.display.Javascript object>"
      ]
     },
     "metadata": {},
     "output_type": "display_data"
    },
    {
     "data": {
      "application/javascript": [
       "console.log(\"[113819][INFO][openvisuspy.widgets:503:setOffset] Widgets[3]::getOffset value=0\");\n"
      ],
      "text/plain": [
       "<IPython.core.display.Javascript object>"
      ]
     },
     "metadata": {},
     "output_type": "display_data"
    },
    {
     "data": {
      "application/javascript": [
       "console.log(\"[113819][INFO][openvisuspy.widgets:503:setOffset] Widgets[3]::getOffset value=0\");\n"
      ],
      "text/plain": [
       "<IPython.core.display.Javascript object>"
      ]
     },
     "metadata": {},
     "output_type": "display_data"
    },
    {
     "data": {
      "application/javascript": [
       "console.log(\"[113819][INFO][openvisuspy.widgets:503:setOffset] Widgets[3]::getOffset value=0\");\n"
      ],
      "text/plain": [
       "<IPython.core.display.Javascript object>"
      ]
     },
     "metadata": {},
     "output_type": "display_data"
    },
    {
     "data": {
      "application/javascript": [
       "console.log(\"[113819][INFO][openvisuspy.slice:215:pushJobIfNeeded] pushing new job\");\n"
      ],
      "text/plain": [
       "<IPython.core.display.Javascript object>"
      ]
     },
     "metadata": {},
     "output_type": "display_data"
    },
    {
     "data": {
      "application/javascript": [
       "console.log(\"[113819][INFO][openvisuspy.backend_cpp:76:createBoxQuery] begin timestep=0 field=tomo logic_box=[[-84.81675392670161, 0.0, 0], [1284.8167539267015, 1200.0, 1]] num_refinements=4 max_pixels=374742 endh=30\");\n"
      ],
      "text/plain": [
       "<IPython.core.display.Javascript object>"
      ]
     },
     "metadata": {},
     "output_type": "display_data"
    },
    {
     "data": {
      "application/javascript": [
       "console.log(\"[113819][INFO][openvisuspy.backend_cpp:111:createBoxQuery] Guess resolution endh=27 original_box=([0, 0, 0], [1200, 1200, 1]) aligned_box=([0, 0, 0], [1200, 1200, 1]) delta=[2, 2, 2] num_pixels=[600, 600, 1] tot_pixels=360,000 max_pixels=374,742 end=27\");\n"
      ],
      "text/plain": [
       "<IPython.core.display.Javascript object>"
      ]
     },
     "metadata": {},
     "output_type": "display_data"
    },
    {
     "data": {
      "application/javascript": [
       "console.log(\"[113819][INFO][openvisuspy.backend_cpp:139:beginBoxQuery] beginBoxQuery timestep=0 field=tomo logic_box=[[0, 0, 0], [1200, 1200, 1]] end_resolutions=[18, 21, 24, 27]\");\n"
      ],
      "text/plain": [
       "<IPython.core.display.Javascript object>"
      ]
     },
     "metadata": {},
     "output_type": "display_data"
    },
    {
     "data": {
      "application/javascript": [
       "console.log(\"[113819][INFO][openvisuspy.backend_cpp:169:returnBoxQueryData] got data 0/[18, 21, 24, 27] timestep=0 field=tomo H=18 data.shape=(75, 75) data.dtype=int16 logic_box=[[0, 0, 0], [1200, 1200, 1]] m=9848 M=14070 ms=4\");\n"
      ],
      "text/plain": [
       "<IPython.core.display.Javascript object>"
      ]
     },
     "metadata": {},
     "output_type": "display_data"
    },
    {
     "data": {
      "application/javascript": [
       "console.log(\"[113819][INFO][openvisuspy.backend_cpp:169:returnBoxQueryData] got data 1/[18, 21, 24, 27] timestep=0 field=tomo H=21 data.shape=(150, 150) data.dtype=int16 logic_box=[[0, 0, 0], [1200, 1200, 1]] m=9841 M=14492 ms=11\");\n"
      ],
      "text/plain": [
       "<IPython.core.display.Javascript object>"
      ]
     },
     "metadata": {},
     "output_type": "display_data"
    },
    {
     "data": {
      "application/javascript": [
       "console.log(\"[113819][INFO][openvisuspy.slice:195:renderResultIfNeeded] Slice[3]::rendering result data.shape=(75, 75) data.dtype=int16 logic_box=[[0, 0, 0], [1200, 1200, 1]]\");\n"
      ],
      "text/plain": [
       "<IPython.core.display.Javascript object>"
      ]
     },
     "metadata": {},
     "output_type": "display_data"
    },
    {
     "data": {
      "application/javascript": [
       "console.log(\"[113819][INFO][openvisuspy.backend_cpp:169:returnBoxQueryData] got data 2/[18, 21, 24, 27] timestep=0 field=tomo H=24 data.shape=(300, 300) data.dtype=int16 logic_box=[[0, 0, 0], [1200, 1200, 1]] m=9733 M=17385 ms=37\");\n"
      ],
      "text/plain": [
       "<IPython.core.display.Javascript object>"
      ]
     },
     "metadata": {},
     "output_type": "display_data"
    },
    {
     "data": {
      "application/javascript": [
       "console.log(\"[113819][INFO][openvisuspy.slice:195:renderResultIfNeeded] Slice[3]::rendering result data.shape=(300, 300) data.dtype=int16 logic_box=[[0, 0, 0], [1200, 1200, 1]]\");\n"
      ],
      "text/plain": [
       "<IPython.core.display.Javascript object>"
      ]
     },
     "metadata": {},
     "output_type": "display_data"
    },
    {
     "data": {
      "application/javascript": [
       "console.log(\"[113819][INFO][openvisuspy.backend_cpp:169:returnBoxQueryData] got data 3/[18, 21, 24, 27] timestep=0 field=tomo H=27 data.shape=(600, 600) data.dtype=int16 logic_box=[[0, 0, 0], [1200, 1200, 1]] m=9603 M=17871 ms=150\");\n"
      ],
      "text/plain": [
       "<IPython.core.display.Javascript object>"
      ]
     },
     "metadata": {},
     "output_type": "display_data"
    },
    {
     "data": {
      "application/javascript": [
       "console.log(\"[113819][INFO][openvisuspy.backend_cpp:76:printStatistics] Stats::printStatistics enlapsed=0.16087555885314941 seconds\");\n"
      ],
      "text/plain": [
       "<IPython.core.display.Javascript object>"
      ]
     },
     "metadata": {},
     "output_type": "display_data"
    },
    {
     "data": {
      "application/javascript": [
       "console.log(\"[113819][INFO][openvisuspy.slice:195:renderResultIfNeeded] Slice[3]::rendering result data.shape=(600, 600) data.dtype=int16 logic_box=[[0, 0, 0], [1200, 1200, 1]]\");\n"
      ],
      "text/plain": [
       "<IPython.core.display.Javascript object>"
      ]
     },
     "metadata": {},
     "output_type": "display_data"
    },
    {
     "data": {
      "application/javascript": [
       "console.log(\"[113821][INFO][openvisuspy.slice:215:pushJobIfNeeded] pushing new job\");\n"
      ],
      "text/plain": [
       "<IPython.core.display.Javascript object>"
      ]
     },
     "metadata": {},
     "output_type": "display_data"
    },
    {
     "data": {
      "application/javascript": [
       "console.log(\"[113821][INFO][openvisuspy.backend_cpp:76:createBoxQuery] begin timestep=0 field=tomo logic_box=[[155.4180173445499, 222.0775177723779, 0], [1086.9453133952588, 1091.401851057486, 1]] num_refinements=4 max_pixels=429177 endh=30\");\n"
      ],
      "text/plain": [
       "<IPython.core.display.Javascript object>"
      ]
     },
     "metadata": {},
     "output_type": "display_data"
    },
    {
     "data": {
      "application/javascript": [
       "console.log(\"[113821][INFO][openvisuspy.backend_cpp:111:createBoxQuery] Guess resolution endh=28 original_box=([155, 222, 0], [1087, 1092, 1]) aligned_box=([155, 222, 0], [1087, 1092, 1]) delta=[1, 2, 2] num_pixels=[932, 435, 1] tot_pixels=405,420 max_pixels=429,177 end=28\");\n"
      ],
      "text/plain": [
       "<IPython.core.display.Javascript object>"
      ]
     },
     "metadata": {},
     "output_type": "display_data"
    },
    {
     "data": {
      "application/javascript": [
       "console.log(\"[113821][INFO][openvisuspy.backend_cpp:139:beginBoxQuery] beginBoxQuery timestep=0 field=tomo logic_box=[[155, 222, 0], [1087, 1092, 1]] end_resolutions=[19, 22, 25, 28]\");\n"
      ],
      "text/plain": [
       "<IPython.core.display.Javascript object>"
      ]
     },
     "metadata": {},
     "output_type": "display_data"
    },
    {
     "data": {
      "application/javascript": [
       "console.log(\"[113821][INFO][openvisuspy.backend_cpp:169:returnBoxQueryData] got data 0/[19, 22, 25, 28] timestep=0 field=tomo H=19 data.shape=(55, 116) data.dtype=int16 logic_box=[[155, 222, 0], [1087, 1092, 1]] m=9932 M=14070 ms=4\");\n"
      ],
      "text/plain": [
       "<IPython.core.display.Javascript object>"
      ]
     },
     "metadata": {},
     "output_type": "display_data"
    },
    {
     "data": {
      "application/javascript": [
       "console.log(\"[113821][INFO][openvisuspy.backend_cpp:169:returnBoxQueryData] got data 1/[19, 22, 25, 28] timestep=0 field=tomo H=22 data.shape=(109, 233) data.dtype=int16 logic_box=[[155, 222, 0], [1087, 1092, 1]] m=9905 M=15585 ms=16\");\n"
      ],
      "text/plain": [
       "<IPython.core.display.Javascript object>"
      ]
     },
     "metadata": {},
     "output_type": "display_data"
    },
    {
     "data": {
      "application/javascript": [
       "console.log(\"[113821][INFO][openvisuspy.slice:195:renderResultIfNeeded] Slice[1]::rendering result data.shape=(109, 233) data.dtype=int16 logic_box=[[155, 222, 0], [1087, 1092, 1]]\");\n"
      ],
      "text/plain": [
       "<IPython.core.display.Javascript object>"
      ]
     },
     "metadata": {},
     "output_type": "display_data"
    },
    {
     "data": {
      "application/javascript": [
       "console.log(\"[113821][INFO][openvisuspy.backend_cpp:169:returnBoxQueryData] got data 2/[19, 22, 25, 28] timestep=0 field=tomo H=25 data.shape=(217, 466) data.dtype=int16 logic_box=[[155, 222, 0], [1087, 1092, 1]] m=9685 M=16599 ms=67\");\n"
      ],
      "text/plain": [
       "<IPython.core.display.Javascript object>"
      ]
     },
     "metadata": {},
     "output_type": "display_data"
    },
    {
     "data": {
      "application/javascript": [
       "console.log(\"[113821][INFO][openvisuspy.slice:195:renderResultIfNeeded] Slice[1]::rendering result data.shape=(217, 466) data.dtype=int16 logic_box=[[155, 222, 0], [1087, 1092, 1]]\");\n"
      ],
      "text/plain": [
       "<IPython.core.display.Javascript object>"
      ]
     },
     "metadata": {},
     "output_type": "display_data"
    },
    {
     "data": {
      "application/javascript": [
       "console.log(\"[113821][INFO][openvisuspy.backend_cpp:169:returnBoxQueryData] got data 3/[19, 22, 25, 28] timestep=0 field=tomo H=28 data.shape=(435, 932) data.dtype=int16 logic_box=[[155, 222, 0], [1087, 1092, 1]] m=9685 M=17076 ms=255\");\n"
      ],
      "text/plain": [
       "<IPython.core.display.Javascript object>"
      ]
     },
     "metadata": {},
     "output_type": "display_data"
    },
    {
     "data": {
      "application/javascript": [
       "console.log(\"[113821][INFO][openvisuspy.backend_cpp:76:printStatistics] Stats::printStatistics enlapsed=0.26366233825683594 seconds\");\n"
      ],
      "text/plain": [
       "<IPython.core.display.Javascript object>"
      ]
     },
     "metadata": {},
     "output_type": "display_data"
    },
    {
     "data": {
      "application/javascript": [
       "console.log(\"[113821][INFO][openvisuspy.backend_cpp:139:_threadLoop] _threadLoop is Alive\");\n"
      ],
      "text/plain": [
       "<IPython.core.display.Javascript object>"
      ]
     },
     "metadata": {},
     "output_type": "display_data"
    },
    {
     "data": {
      "application/javascript": [
       "console.log(\"[113821][INFO][openvisuspy.slice:195:renderResultIfNeeded] Slice[1]::rendering result data.shape=(435, 932) data.dtype=int16 logic_box=[[155, 222, 0], [1087, 1092, 1]]\");\n"
      ],
      "text/plain": [
       "<IPython.core.display.Javascript object>"
      ]
     },
     "metadata": {},
     "output_type": "display_data"
    }
   ],
   "source": [
    "import os,sys,logging,time,types\n",
    "\n",
    "from openvisuspy import SetupLogger,GetBackend,Slice\n",
    "\n",
    "# **********************************************************\n",
    "# DEVELOPER NODE, if you need to interactively modiy the code, copy the code from https://raw.githubusercontent.com/sci-visus/openvisuspy/main/src/openvisuspy/probes.py\n",
    "# **********************************************************\n",
    "if True:\n",
    "    from openvisuspy.probes import ProbeTool\n",
    "else:\n",
    "    pass\n",
    "\n",
    "\n",
    "# //////////////////////////////////////////////////////////////////////////////////////\n",
    "def MyApp(doc,\n",
    "    url=\"http://atlantis.sci.utah.edu/mod_visus?dataset=block_raw&cached=1\",\n",
    "    palette=\"colorcet.coolwarm\",\n",
    "    palette_range=[ 8644., 65530.//4],\n",
    "    show_options=['palette','field','offset','direction']\n",
    "    ):\n",
    "    \n",
    "\n",
    "    logger=SetupLogger()\n",
    "    #logger.info(f\"GetBackend()={GetBackend()}\")\n",
    "    #logger.info(f\"args={args}\")\n",
    "\n",
    "    view=Slice(show_options=show_options)\n",
    "    view.setDataset(url)\n",
    "    view.setPalette(palette) \n",
    "    view.setPaletteRange(palette_range)\n",
    "\n",
    "    probe=ProbeTool(view)\n",
    "    doc.add_root(probe.getBokehLayout(doc=doc))\n",
    "    \n",
    "\n",
    "ShowBokehApp(MyApp)\n"
   ]
  },
  {
   "cell_type": "code",
   "execution_count": null,
   "id": "fd202006",
   "metadata": {},
   "outputs": [],
   "source": []
  },
  {
   "cell_type": "code",
   "execution_count": null,
   "id": "e73da74f",
   "metadata": {},
   "outputs": [],
   "source": []
  }
 ],
 "metadata": {
  "kernelspec": {
   "display_name": "Python 3 (ipykernel)",
   "language": "python",
   "name": "python3"
  },
  "language_info": {
   "codemirror_mode": {
    "name": "ipython",
    "version": 3
   },
   "file_extension": ".py",
   "mimetype": "text/x-python",
   "name": "python",
   "nbconvert_exporter": "python",
   "pygments_lexer": "ipython3",
   "version": "3.9.13"
  }
 },
 "nbformat": 4,
 "nbformat_minor": 5
}
