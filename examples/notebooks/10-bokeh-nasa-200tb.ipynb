{
 "cells": [
  {
   "cell_type": "markdown",
   "metadata": {},
   "source": [
    "# Import Bokeh"
   ]
  },
  {
   "cell_type": "code",
   "execution_count": 1,
   "metadata": {},
   "outputs": [
    {
     "data": {
      "application/javascript": [
       "console.log(\"[120049][INFO][openvisuspy:14:<module>] GetBackend=cpp\");\n"
      ],
      "text/plain": [
       "<IPython.core.display.Javascript object>"
      ]
     },
     "metadata": {},
     "output_type": "display_data"
    },
    {
     "data": {
      "text/html": [
       "<div class=\"bk-root\">\n",
       "        <a href=\"https://bokeh.org\" target=\"_blank\" class=\"bk-logo bk-logo-small bk-logo-notebook\"></a>\n",
       "        <span id=\"1002\">Loading BokehJS ...</span>\n",
       "    </div>\n"
      ]
     },
     "metadata": {},
     "output_type": "display_data"
    },
    {
     "data": {
      "application/javascript": [
       "(function(root) {\n",
       "  function now() {\n",
       "    return new Date();\n",
       "  }\n",
       "\n",
       "  const force = true;\n",
       "\n",
       "  if (typeof root._bokeh_onload_callbacks === \"undefined\" || force === true) {\n",
       "    root._bokeh_onload_callbacks = [];\n",
       "    root._bokeh_is_loading = undefined;\n",
       "  }\n",
       "\n",
       "const JS_MIME_TYPE = 'application/javascript';\n",
       "  const HTML_MIME_TYPE = 'text/html';\n",
       "  const EXEC_MIME_TYPE = 'application/vnd.bokehjs_exec.v0+json';\n",
       "  const CLASS_NAME = 'output_bokeh rendered_html';\n",
       "\n",
       "  /**\n",
       "   * Render data to the DOM node\n",
       "   */\n",
       "  function render(props, node) {\n",
       "    const script = document.createElement(\"script\");\n",
       "    node.appendChild(script);\n",
       "  }\n",
       "\n",
       "  /**\n",
       "   * Handle when an output is cleared or removed\n",
       "   */\n",
       "  function handleClearOutput(event, handle) {\n",
       "    const cell = handle.cell;\n",
       "\n",
       "    const id = cell.output_area._bokeh_element_id;\n",
       "    const server_id = cell.output_area._bokeh_server_id;\n",
       "    // Clean up Bokeh references\n",
       "    if (id != null && id in Bokeh.index) {\n",
       "      Bokeh.index[id].model.document.clear();\n",
       "      delete Bokeh.index[id];\n",
       "    }\n",
       "\n",
       "    if (server_id !== undefined) {\n",
       "      // Clean up Bokeh references\n",
       "      const cmd_clean = \"from bokeh.io.state import curstate; print(curstate().uuid_to_server['\" + server_id + \"'].get_sessions()[0].document.roots[0]._id)\";\n",
       "      cell.notebook.kernel.execute(cmd_clean, {\n",
       "        iopub: {\n",
       "          output: function(msg) {\n",
       "            const id = msg.content.text.trim();\n",
       "            if (id in Bokeh.index) {\n",
       "              Bokeh.index[id].model.document.clear();\n",
       "              delete Bokeh.index[id];\n",
       "            }\n",
       "          }\n",
       "        }\n",
       "      });\n",
       "      // Destroy server and session\n",
       "      const cmd_destroy = \"import bokeh.io.notebook as ion; ion.destroy_server('\" + server_id + \"')\";\n",
       "      cell.notebook.kernel.execute(cmd_destroy);\n",
       "    }\n",
       "  }\n",
       "\n",
       "  /**\n",
       "   * Handle when a new output is added\n",
       "   */\n",
       "  function handleAddOutput(event, handle) {\n",
       "    const output_area = handle.output_area;\n",
       "    const output = handle.output;\n",
       "\n",
       "    // limit handleAddOutput to display_data with EXEC_MIME_TYPE content only\n",
       "    if ((output.output_type != \"display_data\") || (!Object.prototype.hasOwnProperty.call(output.data, EXEC_MIME_TYPE))) {\n",
       "      return\n",
       "    }\n",
       "\n",
       "    const toinsert = output_area.element.find(\".\" + CLASS_NAME.split(' ')[0]);\n",
       "\n",
       "    if (output.metadata[EXEC_MIME_TYPE][\"id\"] !== undefined) {\n",
       "      toinsert[toinsert.length - 1].firstChild.textContent = output.data[JS_MIME_TYPE];\n",
       "      // store reference to embed id on output_area\n",
       "      output_area._bokeh_element_id = output.metadata[EXEC_MIME_TYPE][\"id\"];\n",
       "    }\n",
       "    if (output.metadata[EXEC_MIME_TYPE][\"server_id\"] !== undefined) {\n",
       "      const bk_div = document.createElement(\"div\");\n",
       "      bk_div.innerHTML = output.data[HTML_MIME_TYPE];\n",
       "      const script_attrs = bk_div.children[0].attributes;\n",
       "      for (let i = 0; i < script_attrs.length; i++) {\n",
       "        toinsert[toinsert.length - 1].firstChild.setAttribute(script_attrs[i].name, script_attrs[i].value);\n",
       "        toinsert[toinsert.length - 1].firstChild.textContent = bk_div.children[0].textContent\n",
       "      }\n",
       "      // store reference to server id on output_area\n",
       "      output_area._bokeh_server_id = output.metadata[EXEC_MIME_TYPE][\"server_id\"];\n",
       "    }\n",
       "  }\n",
       "\n",
       "  function register_renderer(events, OutputArea) {\n",
       "\n",
       "    function append_mime(data, metadata, element) {\n",
       "      // create a DOM node to render to\n",
       "      const toinsert = this.create_output_subarea(\n",
       "        metadata,\n",
       "        CLASS_NAME,\n",
       "        EXEC_MIME_TYPE\n",
       "      );\n",
       "      this.keyboard_manager.register_events(toinsert);\n",
       "      // Render to node\n",
       "      const props = {data: data, metadata: metadata[EXEC_MIME_TYPE]};\n",
       "      render(props, toinsert[toinsert.length - 1]);\n",
       "      element.append(toinsert);\n",
       "      return toinsert\n",
       "    }\n",
       "\n",
       "    /* Handle when an output is cleared or removed */\n",
       "    events.on('clear_output.CodeCell', handleClearOutput);\n",
       "    events.on('delete.Cell', handleClearOutput);\n",
       "\n",
       "    /* Handle when a new output is added */\n",
       "    events.on('output_added.OutputArea', handleAddOutput);\n",
       "\n",
       "    /**\n",
       "     * Register the mime type and append_mime function with output_area\n",
       "     */\n",
       "    OutputArea.prototype.register_mime_type(EXEC_MIME_TYPE, append_mime, {\n",
       "      /* Is output safe? */\n",
       "      safe: true,\n",
       "      /* Index of renderer in `output_area.display_order` */\n",
       "      index: 0\n",
       "    });\n",
       "  }\n",
       "\n",
       "  // register the mime type if in Jupyter Notebook environment and previously unregistered\n",
       "  if (root.Jupyter !== undefined) {\n",
       "    const events = require('base/js/events');\n",
       "    const OutputArea = require('notebook/js/outputarea').OutputArea;\n",
       "\n",
       "    if (OutputArea.prototype.mime_types().indexOf(EXEC_MIME_TYPE) == -1) {\n",
       "      register_renderer(events, OutputArea);\n",
       "    }\n",
       "  }\n",
       "  if (typeof (root._bokeh_timeout) === \"undefined\" || force === true) {\n",
       "    root._bokeh_timeout = Date.now() + 5000;\n",
       "    root._bokeh_failed_load = false;\n",
       "  }\n",
       "\n",
       "  const NB_LOAD_WARNING = {'data': {'text/html':\n",
       "     \"<div style='background-color: #fdd'>\\n\"+\n",
       "     \"<p>\\n\"+\n",
       "     \"BokehJS does not appear to have successfully loaded. If loading BokehJS from CDN, this \\n\"+\n",
       "     \"may be due to a slow or bad network connection. Possible fixes:\\n\"+\n",
       "     \"</p>\\n\"+\n",
       "     \"<ul>\\n\"+\n",
       "     \"<li>re-rerun `output_notebook()` to attempt to load from CDN again, or</li>\\n\"+\n",
       "     \"<li>use INLINE resources instead, as so:</li>\\n\"+\n",
       "     \"</ul>\\n\"+\n",
       "     \"<code>\\n\"+\n",
       "     \"from bokeh.resources import INLINE\\n\"+\n",
       "     \"output_notebook(resources=INLINE)\\n\"+\n",
       "     \"</code>\\n\"+\n",
       "     \"</div>\"}};\n",
       "\n",
       "  function display_loaded() {\n",
       "    const el = document.getElementById(\"1002\");\n",
       "    if (el != null) {\n",
       "      el.textContent = \"BokehJS is loading...\";\n",
       "    }\n",
       "    if (root.Bokeh !== undefined) {\n",
       "      if (el != null) {\n",
       "        el.textContent = \"BokehJS \" + root.Bokeh.version + \" successfully loaded.\";\n",
       "      }\n",
       "    } else if (Date.now() < root._bokeh_timeout) {\n",
       "      setTimeout(display_loaded, 100)\n",
       "    }\n",
       "  }\n",
       "\n",
       "  function run_callbacks() {\n",
       "    try {\n",
       "      root._bokeh_onload_callbacks.forEach(function(callback) {\n",
       "        if (callback != null)\n",
       "          callback();\n",
       "      });\n",
       "    } finally {\n",
       "      delete root._bokeh_onload_callbacks\n",
       "    }\n",
       "    console.debug(\"Bokeh: all callbacks have finished\");\n",
       "  }\n",
       "\n",
       "  function load_libs(css_urls, js_urls, callback) {\n",
       "    if (css_urls == null) css_urls = [];\n",
       "    if (js_urls == null) js_urls = [];\n",
       "\n",
       "    root._bokeh_onload_callbacks.push(callback);\n",
       "    if (root._bokeh_is_loading > 0) {\n",
       "      console.debug(\"Bokeh: BokehJS is being loaded, scheduling callback at\", now());\n",
       "      return null;\n",
       "    }\n",
       "    if (js_urls == null || js_urls.length === 0) {\n",
       "      run_callbacks();\n",
       "      return null;\n",
       "    }\n",
       "    console.debug(\"Bokeh: BokehJS not loaded, scheduling load and callback at\", now());\n",
       "    root._bokeh_is_loading = css_urls.length + js_urls.length;\n",
       "\n",
       "    function on_load() {\n",
       "      root._bokeh_is_loading--;\n",
       "      if (root._bokeh_is_loading === 0) {\n",
       "        console.debug(\"Bokeh: all BokehJS libraries/stylesheets loaded\");\n",
       "        run_callbacks()\n",
       "      }\n",
       "    }\n",
       "\n",
       "    function on_error(url) {\n",
       "      console.error(\"failed to load \" + url);\n",
       "    }\n",
       "\n",
       "    for (let i = 0; i < css_urls.length; i++) {\n",
       "      const url = css_urls[i];\n",
       "      const element = document.createElement(\"link\");\n",
       "      element.onload = on_load;\n",
       "      element.onerror = on_error.bind(null, url);\n",
       "      element.rel = \"stylesheet\";\n",
       "      element.type = \"text/css\";\n",
       "      element.href = url;\n",
       "      console.debug(\"Bokeh: injecting link tag for BokehJS stylesheet: \", url);\n",
       "      document.body.appendChild(element);\n",
       "    }\n",
       "\n",
       "    for (let i = 0; i < js_urls.length; i++) {\n",
       "      const url = js_urls[i];\n",
       "      const element = document.createElement('script');\n",
       "      element.onload = on_load;\n",
       "      element.onerror = on_error.bind(null, url);\n",
       "      element.async = false;\n",
       "      element.src = url;\n",
       "      console.debug(\"Bokeh: injecting script tag for BokehJS library: \", url);\n",
       "      document.head.appendChild(element);\n",
       "    }\n",
       "  };\n",
       "\n",
       "  function inject_raw_css(css) {\n",
       "    const element = document.createElement(\"style\");\n",
       "    element.appendChild(document.createTextNode(css));\n",
       "    document.body.appendChild(element);\n",
       "  }\n",
       "\n",
       "  const js_urls = [\"https://cdn.bokeh.org/bokeh/release/bokeh-2.4.3.min.js\", \"https://cdn.bokeh.org/bokeh/release/bokeh-gl-2.4.3.min.js\", \"https://cdn.bokeh.org/bokeh/release/bokeh-widgets-2.4.3.min.js\", \"https://cdn.bokeh.org/bokeh/release/bokeh-tables-2.4.3.min.js\", \"https://cdn.bokeh.org/bokeh/release/bokeh-mathjax-2.4.3.min.js\"];\n",
       "  const css_urls = [];\n",
       "\n",
       "  const inline_js = [    function(Bokeh) {\n",
       "      Bokeh.set_log_level(\"error\");\n",
       "    },\n",
       "function(Bokeh) {\n",
       "    }\n",
       "  ];\n",
       "\n",
       "  function run_inline_js() {\n",
       "    if (root.Bokeh !== undefined || force === true) {\n",
       "          for (let i = 0; i < inline_js.length; i++) {\n",
       "      inline_js[i].call(root, root.Bokeh);\n",
       "    }\n",
       "if (force === true) {\n",
       "        display_loaded();\n",
       "      }} else if (Date.now() < root._bokeh_timeout) {\n",
       "      setTimeout(run_inline_js, 100);\n",
       "    } else if (!root._bokeh_failed_load) {\n",
       "      console.log(\"Bokeh: BokehJS failed to load within specified timeout.\");\n",
       "      root._bokeh_failed_load = true;\n",
       "    } else if (force !== true) {\n",
       "      const cell = $(document.getElementById(\"1002\")).parents('.cell').data().cell;\n",
       "      cell.output_area.append_execute_result(NB_LOAD_WARNING)\n",
       "    }\n",
       "  }\n",
       "\n",
       "  if (root._bokeh_is_loading === 0) {\n",
       "    console.debug(\"Bokeh: BokehJS loaded, going straight to plotting\");\n",
       "    run_inline_js();\n",
       "  } else {\n",
       "    load_libs(css_urls, js_urls, function() {\n",
       "      console.debug(\"Bokeh: BokehJS plotting callback run at\", now());\n",
       "      run_inline_js();\n",
       "    });\n",
       "  }\n",
       "}(window));"
      ],
      "application/vnd.bokehjs_load.v0+json": "(function(root) {\n  function now() {\n    return new Date();\n  }\n\n  const force = true;\n\n  if (typeof root._bokeh_onload_callbacks === \"undefined\" || force === true) {\n    root._bokeh_onload_callbacks = [];\n    root._bokeh_is_loading = undefined;\n  }\n\n\n  if (typeof (root._bokeh_timeout) === \"undefined\" || force === true) {\n    root._bokeh_timeout = Date.now() + 5000;\n    root._bokeh_failed_load = false;\n  }\n\n  const NB_LOAD_WARNING = {'data': {'text/html':\n     \"<div style='background-color: #fdd'>\\n\"+\n     \"<p>\\n\"+\n     \"BokehJS does not appear to have successfully loaded. If loading BokehJS from CDN, this \\n\"+\n     \"may be due to a slow or bad network connection. Possible fixes:\\n\"+\n     \"</p>\\n\"+\n     \"<ul>\\n\"+\n     \"<li>re-rerun `output_notebook()` to attempt to load from CDN again, or</li>\\n\"+\n     \"<li>use INLINE resources instead, as so:</li>\\n\"+\n     \"</ul>\\n\"+\n     \"<code>\\n\"+\n     \"from bokeh.resources import INLINE\\n\"+\n     \"output_notebook(resources=INLINE)\\n\"+\n     \"</code>\\n\"+\n     \"</div>\"}};\n\n  function display_loaded() {\n    const el = document.getElementById(\"1002\");\n    if (el != null) {\n      el.textContent = \"BokehJS is loading...\";\n    }\n    if (root.Bokeh !== undefined) {\n      if (el != null) {\n        el.textContent = \"BokehJS \" + root.Bokeh.version + \" successfully loaded.\";\n      }\n    } else if (Date.now() < root._bokeh_timeout) {\n      setTimeout(display_loaded, 100)\n    }\n  }\n\n  function run_callbacks() {\n    try {\n      root._bokeh_onload_callbacks.forEach(function(callback) {\n        if (callback != null)\n          callback();\n      });\n    } finally {\n      delete root._bokeh_onload_callbacks\n    }\n    console.debug(\"Bokeh: all callbacks have finished\");\n  }\n\n  function load_libs(css_urls, js_urls, callback) {\n    if (css_urls == null) css_urls = [];\n    if (js_urls == null) js_urls = [];\n\n    root._bokeh_onload_callbacks.push(callback);\n    if (root._bokeh_is_loading > 0) {\n      console.debug(\"Bokeh: BokehJS is being loaded, scheduling callback at\", now());\n      return null;\n    }\n    if (js_urls == null || js_urls.length === 0) {\n      run_callbacks();\n      return null;\n    }\n    console.debug(\"Bokeh: BokehJS not loaded, scheduling load and callback at\", now());\n    root._bokeh_is_loading = css_urls.length + js_urls.length;\n\n    function on_load() {\n      root._bokeh_is_loading--;\n      if (root._bokeh_is_loading === 0) {\n        console.debug(\"Bokeh: all BokehJS libraries/stylesheets loaded\");\n        run_callbacks()\n      }\n    }\n\n    function on_error(url) {\n      console.error(\"failed to load \" + url);\n    }\n\n    for (let i = 0; i < css_urls.length; i++) {\n      const url = css_urls[i];\n      const element = document.createElement(\"link\");\n      element.onload = on_load;\n      element.onerror = on_error.bind(null, url);\n      element.rel = \"stylesheet\";\n      element.type = \"text/css\";\n      element.href = url;\n      console.debug(\"Bokeh: injecting link tag for BokehJS stylesheet: \", url);\n      document.body.appendChild(element);\n    }\n\n    for (let i = 0; i < js_urls.length; i++) {\n      const url = js_urls[i];\n      const element = document.createElement('script');\n      element.onload = on_load;\n      element.onerror = on_error.bind(null, url);\n      element.async = false;\n      element.src = url;\n      console.debug(\"Bokeh: injecting script tag for BokehJS library: \", url);\n      document.head.appendChild(element);\n    }\n  };\n\n  function inject_raw_css(css) {\n    const element = document.createElement(\"style\");\n    element.appendChild(document.createTextNode(css));\n    document.body.appendChild(element);\n  }\n\n  const js_urls = [\"https://cdn.bokeh.org/bokeh/release/bokeh-2.4.3.min.js\", \"https://cdn.bokeh.org/bokeh/release/bokeh-gl-2.4.3.min.js\", \"https://cdn.bokeh.org/bokeh/release/bokeh-widgets-2.4.3.min.js\", \"https://cdn.bokeh.org/bokeh/release/bokeh-tables-2.4.3.min.js\", \"https://cdn.bokeh.org/bokeh/release/bokeh-mathjax-2.4.3.min.js\"];\n  const css_urls = [];\n\n  const inline_js = [    function(Bokeh) {\n      Bokeh.set_log_level(\"error\");\n    },\nfunction(Bokeh) {\n    }\n  ];\n\n  function run_inline_js() {\n    if (root.Bokeh !== undefined || force === true) {\n          for (let i = 0; i < inline_js.length; i++) {\n      inline_js[i].call(root, root.Bokeh);\n    }\nif (force === true) {\n        display_loaded();\n      }} else if (Date.now() < root._bokeh_timeout) {\n      setTimeout(run_inline_js, 100);\n    } else if (!root._bokeh_failed_load) {\n      console.log(\"Bokeh: BokehJS failed to load within specified timeout.\");\n      root._bokeh_failed_load = true;\n    } else if (force !== true) {\n      const cell = $(document.getElementById(\"1002\")).parents('.cell').data().cell;\n      cell.output_area.append_execute_result(NB_LOAD_WARNING)\n    }\n  }\n\n  if (root._bokeh_is_loading === 0) {\n    console.debug(\"Bokeh: BokehJS loaded, going straight to plotting\");\n    run_inline_js();\n  } else {\n    load_libs(css_urls, js_urls, function() {\n      console.debug(\"Bokeh: BokehJS plotting callback run at\", now());\n      run_inline_js();\n    });\n  }\n}(window));"
     },
     "metadata": {},
     "output_type": "display_data"
    },
    {
     "data": {
      "application/javascript": [
       "console.log(\"[120049][INFO][openvisuspy.app:33:ShowBokehApp] ShowBokehApp VISUS_USE_PUBLIC_IP=False VISUS_SSH_TUNNELS=\");\n"
      ],
      "text/plain": [
       "<IPython.core.display.Javascript object>"
      ]
     },
     "metadata": {},
     "output_type": "display_data"
    },
    {
     "data": {
      "application/vnd.bokehjs_exec.v0+json": "",
      "text/html": [
       "<script id=\"1003\">\n",
       "  (function() {\n",
       "    const xhr = new XMLHttpRequest()\n",
       "    xhr.responseType = 'blob';\n",
       "    xhr.open('GET', \"http://localhost:64954/autoload.js?bokeh-autoload-element=1003&bokeh-absolute-url=http://localhost:64954&resources=none\", true);\n",
       "    xhr.onload = function (event) {\n",
       "      const script = document.createElement('script');\n",
       "      const src = URL.createObjectURL(event.target.response);\n",
       "      script.src = src;\n",
       "      document.body.appendChild(script);\n",
       "    };\n",
       "    xhr.send();\n",
       "  })();\n",
       "</script>"
      ]
     },
     "metadata": {
      "application/vnd.bokehjs_exec.v0+json": {
       "server_id": "7db6354b20b5461080d655dbaffb650b"
      }
     },
     "output_type": "display_data"
    }
   ],
   "source": [
    "import os,sys,logging,time\n",
    "\n",
    "# import bokeh\n",
    "os.environ[\"BOKEH_ALLOW_WS_ORIGIN\"]=\"*\" # for debugging \n",
    "os.environ[\"BOKEH_LOG_LEVEL\"]=\"error\"   # for debugging \n",
    "\n",
    "os.environ[\"VISUS_USE_PUBLIC_IP\"]=str(False)\n",
    "os.environ[\"VISUS_SSL_TUNNELS\"]=\"\"\n",
    "\n",
    "import openvisuspy\n",
    "from openvisuspy import ShowBokehApp, TestBokehApp, Slice, Slices, GetBackend, SetupLogger\n",
    "\n",
    "logger=SetupLogger()\n",
    "logger.info(f\"GetBackend={GetBackend()}\")\n",
    "\n",
    "import bokeh.io\n",
    "bokeh.io.output_notebook()\n",
    "ShowBokehApp(TestBokehApp)"
   ]
  },
  {
   "cell_type": "markdown",
   "metadata": {},
   "source": [
    "# Import OpenVisus"
   ]
  },
  {
   "cell_type": "code",
   "execution_count": 2,
   "metadata": {},
   "outputs": [
    {
     "name": "stdout",
     "output_type": "stream",
     "text": [
      "OpenVisus imported\n"
     ]
    }
   ],
   "source": [
    "os.environ[\"VISUS_NETSERVICE_VERBOSE\"]=\"0\"\n",
    "os.environ[\"VISSU_CPP_VERBOSE\"]=\"1\"\n",
    "\n",
    "import OpenVisus as  ov\n",
    "from openvisuspy import Slice,Slices,LoadDataset,ExecuteBoxQuery\n",
    "\n",
    "print(\"OpenVisus imported\")"
   ]
  },
  {
   "cell_type": "markdown",
   "metadata": {},
   "source": [
    "# Load Dataset and compute range"
   ]
  },
  {
   "cell_type": "code",
   "execution_count": 4,
   "metadata": {},
   "outputs": [
    {
     "name": "stdout",
     "output_type": "stream",
     "text": [
      "https://maritime.sealstorage.io/api/v0/s3/utah/nasa/dyamond/mit_output/llc2160_arco/visus.idx?&access_key=any&secret_key=any&endpoint_url=https://maritime.sealstorage.io/api/v0/s3&cached=idx\n",
      "logic box 8640 6480 90\n"
     ]
    }
   ],
   "source": [
    "import os\n",
    "access_key=\"any\"\n",
    "secret_key=\"any\"\n",
    "endpoint_url=\"https://maritime.sealstorage.io/api/v0/s3\"\n",
    "key=\"utah/nasa/dyamond/mit_output/llc2160_arco/visus.idx\"\n",
    "cached=\"idx\"\n",
    "\n",
    "url=\"\".join([\n",
    "    f\"{endpoint_url}/{key}?\",\n",
    "    f\"&access_key={access_key}\"\n",
    "    f\"&secret_key={secret_key}\"\n",
    "    f\"&endpoint_url={endpoint_url}\"\n",
    "    f\"&cached={cached}\"\n",
    "])\n",
    "\n",
    "print(url)\n",
    "db=LoadDataset(url)\n",
    "# print(db.getDatasetBody().toString())\n",
    "W,H,D=db.getLogicBox()[1]\n",
    "print(\"logic box\",W,H,D)\n",
    "access=db.createAccess()"
   ]
  },
  {
   "cell_type": "code",
   "execution_count": 5,
   "metadata": {},
   "outputs": [
    {
     "data": {
      "application/javascript": [
       "console.log(\"[120147][INFO][openvisuspy.backend_cpp:74:createBoxQuery] begin timestep=0.0 field=<VisusKernelPy.Field; proxy of <Swig Object of type 'Visus::Field *' at 0x000002350F9309C0> > logic_box=([0, 0, 44], [8640, 6480, 45]) num_refinements=1 max_pixels=None endh=28\");\n"
      ],
      "text/plain": [
       "<IPython.core.display.Javascript object>"
      ]
     },
     "metadata": {},
     "output_type": "display_data"
    },
    {
     "data": {
      "application/javascript": [
       "console.log(\"[120147][INFO][openvisuspy.backend_cpp:138:beginBoxQuery] beginBoxQuery timestep=0.0 field=<VisusKernelPy.Field; proxy of <Swig Object of type 'Visus::Field *' at 0x000002350F9309C0> > logic_box=[[0, 0, 44], [8640, 6480, 45]] end_resolutions=[28]\");\n"
      ],
      "text/plain": [
       "<IPython.core.display.Javascript object>"
      ]
     },
     "metadata": {},
     "output_type": "display_data"
    },
    {
     "data": {
      "application/javascript": [
       "console.log(\"[120148][INFO][openvisuspy.backend_cpp:168:returnBoxQueryData] got data 0/[28] timestep=0.0 field=<VisusKernelPy.Field; proxy of <Swig Object of type 'Visus::Field *' at 0x000002350F9309C0> > H=28 data.shape=(1620, 2160) data.dtype=float32 logic_box=[[0, 0, 44], [8640, 6480, 45]] m=-1.0102660655975342 M=1.4403735399246216 ms=992\");\n"
      ],
      "text/plain": [
       "<IPython.core.display.Javascript object>"
      ]
     },
     "metadata": {},
     "output_type": "display_data"
    },
    {
     "name": "stdout",
     "output_type": "stream",
     "text": [
      "palette_range (-0.25256651639938354, 0.3600933849811554)\n"
     ]
    }
   ],
   "source": [
    "import numpy as np\n",
    "\n",
    "# get a Z slice in the middle to compute the range of the data\n",
    "quality=-6\n",
    "endh=db.getMaxResolution()+quality\n",
    "Z=D//2\n",
    "logic_box, delta, num_pixels=db.getAlignedBox([[0,0,Z],[W,H,Z]], endh, slice_dir=2)\n",
    "data=list(ExecuteBoxQuery(db, access=access, logic_box=logic_box,  endh=endh, num_refinements=1))[0]['data']\n",
    "\n",
    "# guess the palette range from data min-max\n",
    "palette_range = np.min(data)/4, np.max(data)/4   \n",
    "print(\"palette_range\",palette_range)"
   ]
  },
  {
   "cell_type": "code",
   "execution_count": 6,
   "metadata": {
    "scrolled": false
   },
   "outputs": [
    {
     "data": {
      "application/javascript": [
       "console.log(\"[120156][INFO][openvisuspy.app:33:ShowBokehApp] ShowBokehApp VISUS_USE_PUBLIC_IP=False VISUS_SSH_TUNNELS=\");\n"
      ],
      "text/plain": [
       "<IPython.core.display.Javascript object>"
      ]
     },
     "metadata": {},
     "output_type": "display_data"
    },
    {
     "data": {
      "application/vnd.bokehjs_exec.v0+json": "",
      "text/html": [
       "<script id=\"1011\">\n",
       "  (function() {\n",
       "    const xhr = new XMLHttpRequest()\n",
       "    xhr.responseType = 'blob';\n",
       "    xhr.open('GET', \"http://localhost:64996/autoload.js?bokeh-autoload-element=1011&bokeh-absolute-url=http://localhost:64996&resources=none\", true);\n",
       "    xhr.onload = function (event) {\n",
       "      const script = document.createElement('script');\n",
       "      const src = URL.createObjectURL(event.target.response);\n",
       "      script.src = src;\n",
       "      document.body.appendChild(script);\n",
       "    };\n",
       "    xhr.send();\n",
       "  })();\n",
       "</script>"
      ]
     },
     "metadata": {
      "application/vnd.bokehjs_exec.v0+json": {
       "server_id": "a32835cc809c422c899b6b9999a7cfb4"
      }
     },
     "output_type": "display_data"
    },
    {
     "data": {
      "application/javascript": [
       "console.log(\"[120156][INFO][openvisuspy.widgets:319:setNumberOfViews] Widgets[0]::setNumberOfViews value=2\");\n"
      ],
      "text/plain": [
       "<IPython.core.display.Javascript object>"
      ]
     },
     "metadata": {},
     "output_type": "display_data"
    },
    {
     "data": {
      "application/javascript": [
       "console.log(\"[120156][INFO][openvisuspy.widgets:319:setNumberOfViews] Widgets[0]::setNumberOfViews value=2\");\n"
      ],
      "text/plain": [
       "<IPython.core.display.Javascript object>"
      ]
     },
     "metadata": {},
     "output_type": "display_data"
    },
    {
     "data": {
      "application/javascript": [
       "console.log(\"[120156][INFO][openvisuspy.widgets:147:stop] <class 'openvisuspy.slices.Slices'> stop\");\n"
      ],
      "text/plain": [
       "<IPython.core.display.Javascript object>"
      ]
     },
     "metadata": {},
     "output_type": "display_data"
    },
    {
     "data": {
      "application/javascript": [
       "console.log(\"[120156][INFO][openvisuspy.widgets:147:stop] <class 'openvisuspy.slices.Slices'> stop\");\n"
      ],
      "text/plain": [
       "<IPython.core.display.Javascript object>"
      ]
     },
     "metadata": {},
     "output_type": "display_data"
    },
    {
     "data": {
      "application/javascript": [
       "console.log(\"[120156][INFO][openvisuspy.widgets:147:stop] <class 'openvisuspy.slice.Slice'> stop\");\n"
      ],
      "text/plain": [
       "<IPython.core.display.Javascript object>"
      ]
     },
     "metadata": {},
     "output_type": "display_data"
    },
    {
     "data": {
      "application/javascript": [
       "console.log(\"[120156][INFO][openvisuspy.widgets:147:stop] <class 'openvisuspy.slice.Slice'> stop\");\n"
      ],
      "text/plain": [
       "<IPython.core.display.Javascript object>"
      ]
     },
     "metadata": {},
     "output_type": "display_data"
    },
    {
     "data": {
      "application/javascript": [
       "console.log(\"[120156][INFO][openvisuspy.widgets:319:setNumberOfViews] Widgets[0]::setNumberOfViews value=1\");\n"
      ],
      "text/plain": [
       "<IPython.core.display.Javascript object>"
      ]
     },
     "metadata": {},
     "output_type": "display_data"
    },
    {
     "data": {
      "application/javascript": [
       "console.log(\"[120156][INFO][openvisuspy.widgets:319:setNumberOfViews] Widgets[0]::setNumberOfViews value=1\");\n"
      ],
      "text/plain": [
       "<IPython.core.display.Javascript object>"
      ]
     },
     "metadata": {},
     "output_type": "display_data"
    },
    {
     "data": {
      "application/javascript": [
       "console.log(\"[120156][INFO][openvisuspy.widgets:147:stop] <class 'openvisuspy.slices.Slices'> stop\");\n"
      ],
      "text/plain": [
       "<IPython.core.display.Javascript object>"
      ]
     },
     "metadata": {},
     "output_type": "display_data"
    },
    {
     "data": {
      "application/javascript": [
       "console.log(\"[120156][INFO][openvisuspy.widgets:147:stop] <class 'openvisuspy.slice.Slice'> stop\");\n"
      ],
      "text/plain": [
       "<IPython.core.display.Javascript object>"
      ]
     },
     "metadata": {},
     "output_type": "display_data"
    },
    {
     "data": {
      "application/javascript": [
       "console.log(\"[120156][INFO][openvisuspy.widgets:147:stop] <class 'openvisuspy.slice.Slice'> stop\");\n"
      ],
      "text/plain": [
       "<IPython.core.display.Javascript object>"
      ]
     },
     "metadata": {},
     "output_type": "display_data"
    },
    {
     "data": {
      "application/javascript": [
       "console.log(\"[120156][INFO][openvisuspy.widgets:147:stop] <class 'openvisuspy.slices.Slices'> stop\");\n"
      ],
      "text/plain": [
       "<IPython.core.display.Javascript object>"
      ]
     },
     "metadata": {},
     "output_type": "display_data"
    },
    {
     "data": {
      "application/javascript": [
       "console.log(\"[120156][INFO][openvisuspy.widgets:147:stop] <class 'openvisuspy.slice.Slice'> stop\");\n"
      ],
      "text/plain": [
       "<IPython.core.display.Javascript object>"
      ]
     },
     "metadata": {},
     "output_type": "display_data"
    },
    {
     "data": {
      "application/javascript": [
       "console.log(\"[120156][INFO][openvisuspy.widgets:278:setDataset] Widgets[0]::setDataset value=https://maritime.sealstorage.io/api/v0/s3/utah/nasa/dyamond/mit_output/llc2160_arco/visus.idx?&access_key=any&secret_key=any&endpoint_url=https://maritime.sealstorage.io/api/v0/s3&cached=idx\");\n"
      ],
      "text/plain": [
       "<IPython.core.display.Javascript object>"
      ]
     },
     "metadata": {},
     "output_type": "display_data"
    },
    {
     "data": {
      "application/javascript": [
       "console.log(\"[120156][INFO][openvisuspy.widgets:278:setDataset] Widgets[6]::setDataset value=https://maritime.sealstorage.io/api/v0/s3/utah/nasa/dyamond/mit_output/llc2160_arco/visus.idx?&access_key=any&secret_key=any&endpoint_url=https://maritime.sealstorage.io/api/v0/s3&cached=idx\");\n"
      ],
      "text/plain": [
       "<IPython.core.display.Javascript object>"
      ]
     },
     "metadata": {},
     "output_type": "display_data"
    },
    {
     "data": {
      "application/javascript": [
       "console.log(\"[120156][INFO][openvisuspy.widgets:328:setTimesteps] Widgets[6]::setTimesteps start=0 end=10366\");\n"
      ],
      "text/plain": [
       "<IPython.core.display.Javascript object>"
      ]
     },
     "metadata": {},
     "output_type": "display_data"
    },
    {
     "data": {
      "application/javascript": [
       "console.log(\"[120156][INFO][openvisuspy.widgets:339:setTimestepDelta] Widgets[6]::setTimestepDelta value=1\");\n"
      ],
      "text/plain": [
       "<IPython.core.display.Javascript object>"
      ]
     },
     "metadata": {},
     "output_type": "display_data"
    },
    {
     "data": {
      "application/javascript": [
       "console.log(\"[120156][INFO][openvisuspy.widgets:360:setTimestep] Widgets[6]::setTimestep value=0\");\n"
      ],
      "text/plain": [
       "<IPython.core.display.Javascript object>"
      ]
     },
     "metadata": {},
     "output_type": "display_data"
    },
    {
     "data": {
      "application/javascript": [
       "console.log(\"[120156][INFO][openvisuspy.widgets:360:setTimestep] Widgets[6]::setTimestep value=0\");\n"
      ],
      "text/plain": [
       "<IPython.core.display.Javascript object>"
      ]
     },
     "metadata": {},
     "output_type": "display_data"
    },
    {
     "data": {
      "application/javascript": [
       "console.log(\"[120156][INFO][openvisuspy.widgets:466:setDirection] Widgets[6]::setDirection value=2\");\n"
      ],
      "text/plain": [
       "<IPython.core.display.Javascript object>"
      ]
     },
     "metadata": {},
     "output_type": "display_data"
    },
    {
     "data": {
      "application/javascript": [
       "console.log(\"[120156][INFO][openvisuspy.widgets:494:setOffset] Widgets[6]::getOffset value=45\");\n"
      ],
      "text/plain": [
       "<IPython.core.display.Javascript object>"
      ]
     },
     "metadata": {},
     "output_type": "display_data"
    },
    {
     "data": {
      "application/javascript": [
       "console.log(\"[120156][INFO][openvisuspy.slice:137:setLogicBox] Slice[6]::setLogicBox value=([0, 0, 0], [8640, 6480, 90])\");\n"
      ],
      "text/plain": [
       "<IPython.core.display.Javascript object>"
      ]
     },
     "metadata": {},
     "output_type": "display_data"
    },
    {
     "data": {
      "application/javascript": [
       "console.log(\"[120156][INFO][openvisuspy.widgets:372:setFields] Widgets[6]::setFields value=['u']\");\n"
      ],
      "text/plain": [
       "<IPython.core.display.Javascript object>"
      ]
     },
     "metadata": {},
     "output_type": "display_data"
    },
    {
     "data": {
      "application/javascript": [
       "console.log(\"[120156][INFO][openvisuspy.widgets:381:setField] Widgets[6]::setField value=u\");\n"
      ],
      "text/plain": [
       "<IPython.core.display.Javascript object>"
      ]
     },
     "metadata": {},
     "output_type": "display_data"
    },
    {
     "data": {
      "application/javascript": [
       "console.log(\"[120156][INFO][openvisuspy.widgets:381:setField] Widgets[6]::setField value=u\");\n"
      ],
      "text/plain": [
       "<IPython.core.display.Javascript object>"
      ]
     },
     "metadata": {},
     "output_type": "display_data"
    },
    {
     "data": {
      "application/javascript": [
       "console.log(\"[120156][INFO][openvisuspy.widgets:328:setTimesteps] Widgets[0]::setTimesteps start=0 end=10366\");\n"
      ],
      "text/plain": [
       "<IPython.core.display.Javascript object>"
      ]
     },
     "metadata": {},
     "output_type": "display_data"
    },
    {
     "data": {
      "application/javascript": [
       "console.log(\"[120156][INFO][openvisuspy.widgets:339:setTimestepDelta] Widgets[0]::setTimestepDelta value=1\");\n"
      ],
      "text/plain": [
       "<IPython.core.display.Javascript object>"
      ]
     },
     "metadata": {},
     "output_type": "display_data"
    },
    {
     "data": {
      "application/javascript": [
       "console.log(\"[120156][INFO][openvisuspy.widgets:360:setTimestep] Widgets[0]::setTimestep value=0\");\n"
      ],
      "text/plain": [
       "<IPython.core.display.Javascript object>"
      ]
     },
     "metadata": {},
     "output_type": "display_data"
    },
    {
     "data": {
      "application/javascript": [
       "console.log(\"[120156][INFO][openvisuspy.widgets:360:setTimestep] Widgets[6]::setTimestep value=0\");\n"
      ],
      "text/plain": [
       "<IPython.core.display.Javascript object>"
      ]
     },
     "metadata": {},
     "output_type": "display_data"
    },
    {
     "data": {
      "application/javascript": [
       "console.log(\"[120156][INFO][openvisuspy.widgets:339:setTimestepDelta] Widgets[6]::setTimestepDelta value=1\");\n"
      ],
      "text/plain": [
       "<IPython.core.display.Javascript object>"
      ]
     },
     "metadata": {},
     "output_type": "display_data"
    },
    {
     "data": {
      "application/javascript": [
       "console.log(\"[120156][INFO][openvisuspy.widgets:360:setTimestep] Widgets[6]::setTimestep value=0\");\n"
      ],
      "text/plain": [
       "<IPython.core.display.Javascript object>"
      ]
     },
     "metadata": {},
     "output_type": "display_data"
    },
    {
     "data": {
      "application/javascript": [
       "console.log(\"[120156][INFO][openvisuspy.widgets:360:setTimestep] Widgets[0]::setTimestep value=0\");\n"
      ],
      "text/plain": [
       "<IPython.core.display.Javascript object>"
      ]
     },
     "metadata": {},
     "output_type": "display_data"
    },
    {
     "data": {
      "application/javascript": [
       "console.log(\"[120156][INFO][openvisuspy.widgets:360:setTimestep] Widgets[6]::setTimestep value=0\");\n"
      ],
      "text/plain": [
       "<IPython.core.display.Javascript object>"
      ]
     },
     "metadata": {},
     "output_type": "display_data"
    },
    {
     "data": {
      "application/javascript": [
       "console.log(\"[120156][INFO][openvisuspy.widgets:466:setDirection] Widgets[0]::setDirection value=2\");\n"
      ],
      "text/plain": [
       "<IPython.core.display.Javascript object>"
      ]
     },
     "metadata": {},
     "output_type": "display_data"
    },
    {
     "data": {
      "application/javascript": [
       "console.log(\"[120156][INFO][openvisuspy.widgets:494:setOffset] Widgets[0]::getOffset value=45\");\n"
      ],
      "text/plain": [
       "<IPython.core.display.Javascript object>"
      ]
     },
     "metadata": {},
     "output_type": "display_data"
    },
    {
     "data": {
      "application/javascript": [
       "console.log(\"[120156][INFO][openvisuspy.widgets:466:setDirection] Widgets[6]::setDirection value=0\");\n"
      ],
      "text/plain": [
       "<IPython.core.display.Javascript object>"
      ]
     },
     "metadata": {},
     "output_type": "display_data"
    },
    {
     "data": {
      "application/javascript": [
       "console.log(\"[120156][INFO][openvisuspy.widgets:466:setDirection] Widgets[6]::setDirection value=0\");\n"
      ],
      "text/plain": [
       "<IPython.core.display.Javascript object>"
      ]
     },
     "metadata": {},
     "output_type": "display_data"
    },
    {
     "data": {
      "application/javascript": [
       "console.log(\"[120156][INFO][openvisuspy.widgets:494:setOffset] Widgets[6]::getOffset value=4320\");\n"
      ],
      "text/plain": [
       "<IPython.core.display.Javascript object>"
      ]
     },
     "metadata": {},
     "output_type": "display_data"
    },
    {
     "data": {
      "application/javascript": [
       "console.log(\"[120156][INFO][openvisuspy.slice:137:setLogicBox] Slice[6]::setLogicBox value=([0, 0, 0], [8640, 6480, 90])\");\n"
      ],
      "text/plain": [
       "<IPython.core.display.Javascript object>"
      ]
     },
     "metadata": {},
     "output_type": "display_data"
    },
    {
     "data": {
      "application/javascript": [
       "console.log(\"[120156][INFO][openvisuspy.slice:137:setLogicBox] Slice[6]::setLogicBox value=([0, 0, 0], [8640, 6480, 90])\");\n"
      ],
      "text/plain": [
       "<IPython.core.display.Javascript object>"
      ]
     },
     "metadata": {},
     "output_type": "display_data"
    },
    {
     "data": {
      "application/javascript": [
       "console.log(\"[120156][INFO][openvisuspy.widgets:372:setFields] Widgets[0]::setFields value=['u']\");\n"
      ],
      "text/plain": [
       "<IPython.core.display.Javascript object>"
      ]
     },
     "metadata": {},
     "output_type": "display_data"
    },
    {
     "data": {
      "application/javascript": [
       "console.log(\"[120156][INFO][openvisuspy.widgets:381:setField] Widgets[0]::setField value=u\");\n"
      ],
      "text/plain": [
       "<IPython.core.display.Javascript object>"
      ]
     },
     "metadata": {},
     "output_type": "display_data"
    },
    {
     "data": {
      "application/javascript": [
       "console.log(\"[120156][INFO][openvisuspy.widgets:381:setField] Widgets[0]::setField value=u\");\n"
      ],
      "text/plain": [
       "<IPython.core.display.Javascript object>"
      ]
     },
     "metadata": {},
     "output_type": "display_data"
    },
    {
     "data": {
      "application/javascript": [
       "console.log(\"[120156][INFO][openvisuspy.widgets:381:setField] Widgets[6]::setField value=u\");\n"
      ],
      "text/plain": [
       "<IPython.core.display.Javascript object>"
      ]
     },
     "metadata": {},
     "output_type": "display_data"
    },
    {
     "data": {
      "application/javascript": [
       "console.log(\"[120156][INFO][openvisuspy.widgets:381:setField] Widgets[6]::setField value=u\");\n"
      ],
      "text/plain": [
       "<IPython.core.display.Javascript object>"
      ]
     },
     "metadata": {},
     "output_type": "display_data"
    },
    {
     "data": {
      "application/javascript": [
       "console.log(\"[120156][INFO][openvisuspy.widgets:394:setPalette] Widgets[0]::setPalette value=colorcet.rainbow4\");\n"
      ],
      "text/plain": [
       "<IPython.core.display.Javascript object>"
      ]
     },
     "metadata": {},
     "output_type": "display_data"
    },
    {
     "data": {
      "application/javascript": [
       "console.log(\"[120156][INFO][openvisuspy.widgets:394:setPalette] Widgets[0]::setPalette value=colorcet.rainbow4\");\n"
      ],
      "text/plain": [
       "<IPython.core.display.Javascript object>"
      ]
     },
     "metadata": {},
     "output_type": "display_data"
    },
    {
     "data": {
      "application/javascript": [
       "console.log(\"[120156][INFO][openvisuspy.widgets:394:setPalette] Widgets[6]::setPalette value=colorcet.rainbow4\");\n"
      ],
      "text/plain": [
       "<IPython.core.display.Javascript object>"
      ]
     },
     "metadata": {},
     "output_type": "display_data"
    },
    {
     "data": {
      "application/javascript": [
       "console.log(\"[120156][INFO][openvisuspy.widgets:394:setPalette] Widgets[6]::setPalette value=colorcet.rainbow4\");\n"
      ],
      "text/plain": [
       "<IPython.core.display.Javascript object>"
      ]
     },
     "metadata": {},
     "output_type": "display_data"
    },
    {
     "data": {
      "application/javascript": [
       "console.log(\"[120156][INFO][openvisuspy.widgets:394:setPalette] Widgets[6]::setPalette value=colorcet.rainbow4\");\n"
      ],
      "text/plain": [
       "<IPython.core.display.Javascript object>"
      ]
     },
     "metadata": {},
     "output_type": "display_data"
    },
    {
     "data": {
      "application/javascript": [
       "console.log(\"[120156][INFO][openvisuspy.widgets:408:setPaletteRange] Widgets[0]::setPaletteRange value=(-0.25256651639938354, 0.3600933849811554)\");\n"
      ],
      "text/plain": [
       "<IPython.core.display.Javascript object>"
      ]
     },
     "metadata": {},
     "output_type": "display_data"
    },
    {
     "data": {
      "application/javascript": [
       "console.log(\"[120156][INFO][openvisuspy.widgets:408:setPaletteRange] Widgets[6]::setPaletteRange value=(-0.25256651639938354, 0.3600933849811554)\");\n"
      ],
      "text/plain": [
       "<IPython.core.display.Javascript object>"
      ]
     },
     "metadata": {},
     "output_type": "display_data"
    },
    {
     "data": {
      "application/javascript": [
       "console.log(\"[120156][INFO][openvisuspy.widgets:339:setTimestepDelta] Widgets[0]::setTimestepDelta value=10\");\n"
      ],
      "text/plain": [
       "<IPython.core.display.Javascript object>"
      ]
     },
     "metadata": {},
     "output_type": "display_data"
    },
    {
     "data": {
      "application/javascript": [
       "console.log(\"[120156][INFO][openvisuspy.widgets:339:setTimestepDelta] Widgets[0]::setTimestepDelta value=10\");\n"
      ],
      "text/plain": [
       "<IPython.core.display.Javascript object>"
      ]
     },
     "metadata": {},
     "output_type": "display_data"
    },
    {
     "data": {
      "application/javascript": [
       "console.log(\"[120156][INFO][openvisuspy.widgets:360:setTimestep] Widgets[0]::setTimestep value=0\");\n"
      ],
      "text/plain": [
       "<IPython.core.display.Javascript object>"
      ]
     },
     "metadata": {},
     "output_type": "display_data"
    },
    {
     "data": {
      "application/javascript": [
       "console.log(\"[120156][INFO][openvisuspy.widgets:360:setTimestep] Widgets[6]::setTimestep value=0\");\n"
      ],
      "text/plain": [
       "<IPython.core.display.Javascript object>"
      ]
     },
     "metadata": {},
     "output_type": "display_data"
    },
    {
     "data": {
      "application/javascript": [
       "console.log(\"[120156][INFO][openvisuspy.widgets:339:setTimestepDelta] Widgets[6]::setTimestepDelta value=10\");\n"
      ],
      "text/plain": [
       "<IPython.core.display.Javascript object>"
      ]
     },
     "metadata": {},
     "output_type": "display_data"
    },
    {
     "data": {
      "application/javascript": [
       "console.log(\"[120156][INFO][openvisuspy.widgets:339:setTimestepDelta] Widgets[6]::setTimestepDelta value=10\");\n"
      ],
      "text/plain": [
       "<IPython.core.display.Javascript object>"
      ]
     },
     "metadata": {},
     "output_type": "display_data"
    },
    {
     "data": {
      "application/javascript": [
       "console.log(\"[120156][INFO][openvisuspy.widgets:360:setTimestep] Widgets[6]::setTimestep value=0\");\n"
      ],
      "text/plain": [
       "<IPython.core.display.Javascript object>"
      ]
     },
     "metadata": {},
     "output_type": "display_data"
    },
    {
     "data": {
      "application/javascript": [
       "console.log(\"[120156][INFO][openvisuspy.widgets:360:setTimestep] Widgets[6]::setTimestep value=0\");\n"
      ],
      "text/plain": [
       "<IPython.core.display.Javascript object>"
      ]
     },
     "metadata": {},
     "output_type": "display_data"
    },
    {
     "data": {
      "application/javascript": [
       "console.log(\"[120156][INFO][openvisuspy.widgets:360:setTimestep] Widgets[0]::setTimestep value=0\");\n"
      ],
      "text/plain": [
       "<IPython.core.display.Javascript object>"
      ]
     },
     "metadata": {},
     "output_type": "display_data"
    },
    {
     "data": {
      "application/javascript": [
       "console.log(\"[120156][INFO][openvisuspy.widgets:360:setTimestep] Widgets[6]::setTimestep value=0\");\n"
      ],
      "text/plain": [
       "<IPython.core.display.Javascript object>"
      ]
     },
     "metadata": {},
     "output_type": "display_data"
    },
    {
     "data": {
      "application/javascript": [
       "console.log(\"[120156][INFO][openvisuspy.widgets:339:setTimestepDelta] Widgets[6]::setTimestepDelta value=10\");\n"
      ],
      "text/plain": [
       "<IPython.core.display.Javascript object>"
      ]
     },
     "metadata": {},
     "output_type": "display_data"
    },
    {
     "data": {
      "application/javascript": [
       "console.log(\"[120156][INFO][openvisuspy.widgets:360:setTimestep] Widgets[6]::setTimestep value=0\");\n"
      ],
      "text/plain": [
       "<IPython.core.display.Javascript object>"
      ]
     },
     "metadata": {},
     "output_type": "display_data"
    },
    {
     "data": {
      "application/javascript": [
       "console.log(\"[120156][INFO][openvisuspy.widgets:360:setTimestep] Widgets[0]::setTimestep value=2015\");\n"
      ],
      "text/plain": [
       "<IPython.core.display.Javascript object>"
      ]
     },
     "metadata": {},
     "output_type": "display_data"
    },
    {
     "data": {
      "application/javascript": [
       "console.log(\"[120156][INFO][openvisuspy.widgets:360:setTimestep] Widgets[0]::setTimestep value=2015\");\n"
      ],
      "text/plain": [
       "<IPython.core.display.Javascript object>"
      ]
     },
     "metadata": {},
     "output_type": "display_data"
    },
    {
     "data": {
      "application/javascript": [
       "console.log(\"[120156][INFO][openvisuspy.widgets:360:setTimestep] Widgets[6]::setTimestep value=2015\");\n"
      ],
      "text/plain": [
       "<IPython.core.display.Javascript object>"
      ]
     },
     "metadata": {},
     "output_type": "display_data"
    },
    {
     "data": {
      "application/javascript": [
       "console.log(\"[120156][INFO][openvisuspy.widgets:360:setTimestep] Widgets[6]::setTimestep value=2015\");\n"
      ],
      "text/plain": [
       "<IPython.core.display.Javascript object>"
      ]
     },
     "metadata": {},
     "output_type": "display_data"
    },
    {
     "data": {
      "application/javascript": [
       "console.log(\"[120156][INFO][openvisuspy.widgets:360:setTimestep] Widgets[6]::setTimestep value=2015\");\n"
      ],
      "text/plain": [
       "<IPython.core.display.Javascript object>"
      ]
     },
     "metadata": {},
     "output_type": "display_data"
    },
    {
     "data": {
      "application/javascript": [
       "console.log(\"[120156][INFO][openvisuspy.widgets:381:setField] Widgets[0]::setField value=u\");\n"
      ],
      "text/plain": [
       "<IPython.core.display.Javascript object>"
      ]
     },
     "metadata": {},
     "output_type": "display_data"
    },
    {
     "data": {
      "application/javascript": [
       "console.log(\"[120156][INFO][openvisuspy.widgets:381:setField] Widgets[6]::setField value=u\");\n"
      ],
      "text/plain": [
       "<IPython.core.display.Javascript object>"
      ]
     },
     "metadata": {},
     "output_type": "display_data"
    },
    {
     "data": {
      "application/javascript": [
       "console.log(\"[120156][INFO][openvisuspy.widgets:431:setQuality] Widgets[0]::setQuality value=-6\");\n"
      ],
      "text/plain": [
       "<IPython.core.display.Javascript object>"
      ]
     },
     "metadata": {},
     "output_type": "display_data"
    },
    {
     "data": {
      "application/javascript": [
       "console.log(\"[120156][INFO][openvisuspy.widgets:431:setQuality] Widgets[0]::setQuality value=-6\");\n"
      ],
      "text/plain": [
       "<IPython.core.display.Javascript object>"
      ]
     },
     "metadata": {},
     "output_type": "display_data"
    },
    {
     "data": {
      "application/javascript": [
       "console.log(\"[120156][INFO][openvisuspy.widgets:431:setQuality] Widgets[6]::setQuality value=-6\");\n"
      ],
      "text/plain": [
       "<IPython.core.display.Javascript object>"
      ]
     },
     "metadata": {},
     "output_type": "display_data"
    },
    {
     "data": {
      "application/javascript": [
       "console.log(\"[120156][INFO][openvisuspy.widgets:431:setQuality] Widgets[6]::setQuality value=-6\");\n"
      ],
      "text/plain": [
       "<IPython.core.display.Javascript object>"
      ]
     },
     "metadata": {},
     "output_type": "display_data"
    },
    {
     "data": {
      "application/javascript": [
       "console.log(\"[120156][INFO][openvisuspy.widgets:431:setQuality] Widgets[6]::setQuality value=-6\");\n"
      ],
      "text/plain": [
       "<IPython.core.display.Javascript object>"
      ]
     },
     "metadata": {},
     "output_type": "display_data"
    },
    {
     "data": {
      "application/javascript": [
       "console.log(\"[120156][INFO][openvisuspy.widgets:265:setLogicToPixel] Widgets[0]::setLogicToPixel value=[(0.0, 1.0), (0.0, 1.0), (0.0, 30.0)]\");\n"
      ],
      "text/plain": [
       "<IPython.core.display.Javascript object>"
      ]
     },
     "metadata": {},
     "output_type": "display_data"
    },
    {
     "data": {
      "application/javascript": [
       "console.log(\"[120156][INFO][openvisuspy.widgets:265:setLogicToPixel] Widgets[6]::setLogicToPixel value=[(0.0, 1.0), (0.0, 1.0), (0.0, 30.0)]\");\n"
      ],
      "text/plain": [
       "<IPython.core.display.Javascript object>"
      ]
     },
     "metadata": {},
     "output_type": "display_data"
    },
    {
     "data": {
      "application/javascript": [
       "console.log(\"[120156][INFO][openvisuspy.widgets:466:setDirection] Widgets[6]::setDirection value=2\");\n"
      ],
      "text/plain": [
       "<IPython.core.display.Javascript object>"
      ]
     },
     "metadata": {},
     "output_type": "display_data"
    },
    {
     "data": {
      "application/javascript": [
       "console.log(\"[120156][INFO][openvisuspy.widgets:466:setDirection] Widgets[6]::setDirection value=2\");\n"
      ],
      "text/plain": [
       "<IPython.core.display.Javascript object>"
      ]
     },
     "metadata": {},
     "output_type": "display_data"
    },
    {
     "data": {
      "application/javascript": [
       "console.log(\"[120156][INFO][openvisuspy.widgets:494:setOffset] Widgets[6]::getOffset value=45\");\n"
      ],
      "text/plain": [
       "<IPython.core.display.Javascript object>"
      ]
     },
     "metadata": {},
     "output_type": "display_data"
    },
    {
     "data": {
      "application/javascript": [
       "console.log(\"[120156][INFO][openvisuspy.slice:137:setLogicBox] Slice[6]::setLogicBox value=([0, 0, 0], [8640, 6480, 90])\");\n"
      ],
      "text/plain": [
       "<IPython.core.display.Javascript object>"
      ]
     },
     "metadata": {},
     "output_type": "display_data"
    },
    {
     "data": {
      "application/javascript": [
       "console.log(\"[120156][INFO][openvisuspy.slice:137:setLogicBox] Slice[6]::setLogicBox value=([0, 0, 0], [8640, 6480, 90])\");\n"
      ],
      "text/plain": [
       "<IPython.core.display.Javascript object>"
      ]
     },
     "metadata": {},
     "output_type": "display_data"
    },
    {
     "data": {
      "application/javascript": [
       "console.log(\"[120156][INFO][openvisuspy.backend_cpp:139:_threadLoop] _threadLoop is Alive\");\n"
      ],
      "text/plain": [
       "<IPython.core.display.Javascript object>"
      ]
     },
     "metadata": {},
     "output_type": "display_data"
    },
    {
     "data": {
      "application/javascript": [
       "console.log(\"[120157][INFO][openvisuspy.canvas:61:onResize] Calling on_resize callback w=871 h=543\");\n"
      ],
      "text/plain": [
       "<IPython.core.display.Javascript object>"
      ]
     },
     "metadata": {},
     "output_type": "display_data"
    },
    {
     "data": {
      "application/javascript": [
       "console.log(\"[120157][INFO][openvisuspy.widgets:466:setDirection] Widgets[6]::setDirection value=2\");\n"
      ],
      "text/plain": [
       "<IPython.core.display.Javascript object>"
      ]
     },
     "metadata": {},
     "output_type": "display_data"
    },
    {
     "data": {
      "application/javascript": [
       "console.log(\"[120157][INFO][openvisuspy.slice:137:setLogicBox] Slice[6]::setLogicBox value=([0, 0, 0], [8640, 6480, 90])\");\n"
      ],
      "text/plain": [
       "<IPython.core.display.Javascript object>"
      ]
     },
     "metadata": {},
     "output_type": "display_data"
    },
    {
     "data": {
      "application/javascript": [
       "console.log(\"[120157][INFO][openvisuspy.slice:209:pushJobIfNeeded] pushing new job\");\n"
      ],
      "text/plain": [
       "<IPython.core.display.Javascript object>"
      ]
     },
     "metadata": {},
     "output_type": "display_data"
    },
    {
     "data": {
      "application/javascript": [
       "console.log(\"[120157][INFO][openvisuspy.backend_cpp:74:createBoxQuery] begin timestep=2015 field=u logic_box=[[-877.1270718232045, 0.0, 45], [9517.127071823204, 6480.0, 46]] num_refinements=4 max_pixels=97984 endh=34\");\n"
      ],
      "text/plain": [
       "<IPython.core.display.Javascript object>"
      ]
     },
     "metadata": {},
     "output_type": "display_data"
    },
    {
     "data": {
      "application/javascript": [
       "console.log(\"[120157][INFO][openvisuspy.backend_cpp:109:createBoxQuery] Guess resolution endh=19 original_box=([0, 0, 45], [8640, 6480, 46]) aligned_box=([0, 0, 32], [8640, 6464, 33]) delta=[32, 32, 32] num_pixels=[270, 202, 1] tot_pixels=54,540 max_pixels=97,984 end=19\");\n"
      ],
      "text/plain": [
       "<IPython.core.display.Javascript object>"
      ]
     },
     "metadata": {},
     "output_type": "display_data"
    },
    {
     "data": {
      "application/javascript": [
       "console.log(\"[120157][INFO][openvisuspy.backend_cpp:138:beginBoxQuery] beginBoxQuery timestep=2015 field=u logic_box=[[0, 0, 0], [8448, 6144, 1]] end_resolutions=[10, 13, 16, 19]\");\n"
      ],
      "text/plain": [
       "<IPython.core.display.Javascript object>"
      ]
     },
     "metadata": {},
     "output_type": "display_data"
    },
    {
     "data": {
      "application/javascript": [
       "console.log(\"[120157][INFO][openvisuspy.backend_cpp:168:returnBoxQueryData] got data 0/[10, 13, 16, 19] timestep=2015 field=u H=10 data.shape=(12, 33) data.dtype=float32 logic_box=[[0, 0, 0], [8448, 6144, 1]] m=-0.5703532695770264 M=1.045701265335083 ms=19\");\n"
      ],
      "text/plain": [
       "<IPython.core.display.Javascript object>"
      ]
     },
     "metadata": {},
     "output_type": "display_data"
    },
    {
     "data": {
      "application/javascript": [
       "console.log(\"[120157][INFO][openvisuspy.slice:190:renderResultIfNeeded] Slice[6]::rendering result data.shape=(12, 33) data.dtype=float32 logic_box=[[0, 0, 0], [8448, 6144, 1]]\");\n"
      ],
      "text/plain": [
       "<IPython.core.display.Javascript object>"
      ]
     },
     "metadata": {},
     "output_type": "display_data"
    },
    {
     "data": {
      "application/javascript": [
       "console.log(\"[120157][INFO][openvisuspy.backend_cpp:168:returnBoxQueryData] got data 1/[10, 13, 16, 19] timestep=2015 field=u H=13 data.shape=(48, 66) data.dtype=float32 logic_box=[[0, 0, 0], [8448, 6144, 1]] m=-1.7420029640197754 M=4.046962261199951 ms=55\");\n"
      ],
      "text/plain": [
       "<IPython.core.display.Javascript object>"
      ]
     },
     "metadata": {},
     "output_type": "display_data"
    },
    {
     "data": {
      "application/javascript": [
       "console.log(\"[120157][INFO][openvisuspy.backend_cpp:168:returnBoxQueryData] got data 2/[10, 13, 16, 19] timestep=2015 field=u H=16 data.shape=(96, 132) data.dtype=float32 logic_box=[[0, 0, 0], [8448, 6144, 1]] m=-3.6599512100219727 M=4.046962261199951 ms=75\");\n"
      ],
      "text/plain": [
       "<IPython.core.display.Javascript object>"
      ]
     },
     "metadata": {},
     "output_type": "display_data"
    },
    {
     "data": {
      "application/javascript": [
       "console.log(\"[120157][INFO][openvisuspy.slice:190:renderResultIfNeeded] Slice[6]::rendering result data.shape=(96, 132) data.dtype=float32 logic_box=[[0, 0, 0], [8448, 6144, 1]]\");\n"
      ],
      "text/plain": [
       "<IPython.core.display.Javascript object>"
      ]
     },
     "metadata": {},
     "output_type": "display_data"
    },
    {
     "data": {
      "application/javascript": [
       "console.log(\"[120157][INFO][openvisuspy.backend_cpp:168:returnBoxQueryData] got data 3/[10, 13, 16, 19] timestep=2015 field=u H=19 data.shape=(192, 264) data.dtype=float32 logic_box=[[0, 0, 0], [8448, 6144, 1]] m=-3.6599512100219727 M=5.254993915557861 ms=93\");\n"
      ],
      "text/plain": [
       "<IPython.core.display.Javascript object>"
      ]
     },
     "metadata": {},
     "output_type": "display_data"
    },
    {
     "data": {
      "application/javascript": [
       "console.log(\"[120157][INFO][openvisuspy.backend_cpp:76:printStatistics] Stats::printStatistics enlapsed=0.10852479934692383 seconds\");\n"
      ],
      "text/plain": [
       "<IPython.core.display.Javascript object>"
      ]
     },
     "metadata": {},
     "output_type": "display_data"
    },
    {
     "data": {
      "application/javascript": [
       "console.log(\"[120157][INFO][openvisuspy.slice:190:renderResultIfNeeded] Slice[6]::rendering result data.shape=(192, 264) data.dtype=float32 logic_box=[[0, 0, 0], [8448, 6144, 1]]\");\n"
      ],
      "text/plain": [
       "<IPython.core.display.Javascript object>"
      ]
     },
     "metadata": {},
     "output_type": "display_data"
    },
    {
     "data": {
      "application/javascript": [
       "console.log(\"[120200][INFO][openvisuspy.slice:209:pushJobIfNeeded] pushing new job\");\n"
      ],
      "text/plain": [
       "<IPython.core.display.Javascript object>"
      ]
     },
     "metadata": {},
     "output_type": "display_data"
    },
    {
     "data": {
      "application/javascript": [
       "console.log(\"[120200][INFO][openvisuspy.backend_cpp:74:createBoxQuery] begin timestep=2015 field=u logic_box=[[-2570.6560773480664, -522.192679558011, 45], [9555.973756906078, 7037.807320441989, 46]] num_refinements=4 max_pixels=97984 endh=34\");\n"
      ],
      "text/plain": [
       "<IPython.core.display.Javascript object>"
      ]
     },
     "metadata": {},
     "output_type": "display_data"
    },
    {
     "data": {
      "application/javascript": [
       "console.log(\"[120200][INFO][openvisuspy.backend_cpp:109:createBoxQuery] Guess resolution endh=19 original_box=([0, 0, 45], [8640, 6480, 46]) aligned_box=([0, 0, 32], [8640, 6464, 33]) delta=[32, 32, 32] num_pixels=[270, 202, 1] tot_pixels=54,540 max_pixels=97,984 end=19\");\n"
      ],
      "text/plain": [
       "<IPython.core.display.Javascript object>"
      ]
     },
     "metadata": {},
     "output_type": "display_data"
    },
    {
     "data": {
      "application/javascript": [
       "console.log(\"[120200][INFO][openvisuspy.backend_cpp:138:beginBoxQuery] beginBoxQuery timestep=2015 field=u logic_box=[[0, 0, 0], [8448, 6144, 1]] end_resolutions=[10, 13, 16, 19]\");\n"
      ],
      "text/plain": [
       "<IPython.core.display.Javascript object>"
      ]
     },
     "metadata": {},
     "output_type": "display_data"
    },
    {
     "data": {
      "application/javascript": [
       "console.log(\"[120200][INFO][openvisuspy.backend_cpp:168:returnBoxQueryData] got data 0/[10, 13, 16, 19] timestep=2015 field=u H=10 data.shape=(12, 33) data.dtype=float32 logic_box=[[0, 0, 0], [8448, 6144, 1]] m=-0.5703532695770264 M=1.045701265335083 ms=17\");\n"
      ],
      "text/plain": [
       "<IPython.core.display.Javascript object>"
      ]
     },
     "metadata": {},
     "output_type": "display_data"
    },
    {
     "data": {
      "application/javascript": [
       "console.log(\"[120200][INFO][openvisuspy.slice:190:renderResultIfNeeded] Slice[6]::rendering result data.shape=(12, 33) data.dtype=float32 logic_box=[[0, 0, 0], [8448, 6144, 1]]\");\n"
      ],
      "text/plain": [
       "<IPython.core.display.Javascript object>"
      ]
     },
     "metadata": {},
     "output_type": "display_data"
    },
    {
     "data": {
      "application/javascript": [
       "console.log(\"[120200][INFO][openvisuspy.backend_cpp:168:returnBoxQueryData] got data 1/[10, 13, 16, 19] timestep=2015 field=u H=13 data.shape=(48, 66) data.dtype=float32 logic_box=[[0, 0, 0], [8448, 6144, 1]] m=-1.7420029640197754 M=4.046962261199951 ms=38\");\n"
      ],
      "text/plain": [
       "<IPython.core.display.Javascript object>"
      ]
     },
     "metadata": {},
     "output_type": "display_data"
    },
    {
     "data": {
      "application/javascript": [
       "console.log(\"[120200][INFO][openvisuspy.backend_cpp:168:returnBoxQueryData] got data 2/[10, 13, 16, 19] timestep=2015 field=u H=16 data.shape=(96, 132) data.dtype=float32 logic_box=[[0, 0, 0], [8448, 6144, 1]] m=-3.6599512100219727 M=4.046962261199951 ms=58\");\n"
      ],
      "text/plain": [
       "<IPython.core.display.Javascript object>"
      ]
     },
     "metadata": {},
     "output_type": "display_data"
    },
    {
     "data": {
      "application/javascript": [
       "console.log(\"[120200][INFO][openvisuspy.backend_cpp:168:returnBoxQueryData] got data 3/[10, 13, 16, 19] timestep=2015 field=u H=19 data.shape=(192, 264) data.dtype=float32 logic_box=[[0, 0, 0], [8448, 6144, 1]] m=-3.6599512100219727 M=5.254993915557861 ms=78\");\n"
      ],
      "text/plain": [
       "<IPython.core.display.Javascript object>"
      ]
     },
     "metadata": {},
     "output_type": "display_data"
    },
    {
     "data": {
      "application/javascript": [
       "console.log(\"[120200][INFO][openvisuspy.slice:190:renderResultIfNeeded] Slice[6]::rendering result data.shape=(96, 132) data.dtype=float32 logic_box=[[0, 0, 0], [8448, 6144, 1]]\");\n"
      ],
      "text/plain": [
       "<IPython.core.display.Javascript object>"
      ]
     },
     "metadata": {},
     "output_type": "display_data"
    },
    {
     "data": {
      "application/javascript": [
       "console.log(\"[120200][INFO][openvisuspy.backend_cpp:76:printStatistics] Stats::printStatistics enlapsed=0.09200406074523926 seconds\");\n"
      ],
      "text/plain": [
       "<IPython.core.display.Javascript object>"
      ]
     },
     "metadata": {},
     "output_type": "display_data"
    },
    {
     "data": {
      "application/javascript": [
       "console.log(\"[120200][INFO][openvisuspy.slice:190:renderResultIfNeeded] Slice[6]::rendering result data.shape=(192, 264) data.dtype=float32 logic_box=[[0, 0, 0], [8448, 6144, 1]]\");\n"
      ],
      "text/plain": [
       "<IPython.core.display.Javascript object>"
      ]
     },
     "metadata": {},
     "output_type": "display_data"
    },
    {
     "data": {
      "application/javascript": [
       "console.log(\"[120201][INFO][openvisuspy.slice:209:pushJobIfNeeded] pushing new job\");\n"
      ],
      "text/plain": [
       "<IPython.core.display.Javascript object>"
      ]
     },
     "metadata": {},
     "output_type": "display_data"
    },
    {
     "data": {
      "application/javascript": [
       "console.log(\"[120201][INFO][openvisuspy.backend_cpp:74:createBoxQuery] begin timestep=2015 field=u logic_box=[[358.18888121547, 609.4155732044202, 45], [8779.459599447513, 5859.41557320442, 46]] num_refinements=4 max_pixels=97984 endh=34\");\n"
      ],
      "text/plain": [
       "<IPython.core.display.Javascript object>"
      ]
     },
     "metadata": {},
     "output_type": "display_data"
    },
    {
     "data": {
      "application/javascript": [
       "console.log(\"[120201][INFO][openvisuspy.backend_cpp:109:createBoxQuery] Guess resolution endh=20 original_box=([358, 609, 45], [8640, 5860, 46]) aligned_box=([352, 608, 32], [8640, 5856, 33]) delta=[16, 32, 32] num_pixels=[518, 164, 1] tot_pixels=84,952 max_pixels=97,984 end=20\");\n"
      ],
      "text/plain": [
       "<IPython.core.display.Javascript object>"
      ]
     },
     "metadata": {},
     "output_type": "display_data"
    },
    {
     "data": {
      "application/javascript": [
       "console.log(\"[120201][INFO][openvisuspy.backend_cpp:138:beginBoxQuery] beginBoxQuery timestep=2015 field=u logic_box=[[256, 512, 0], [8448, 5632, 1]] end_resolutions=[11, 14, 17, 20]\");\n"
      ],
      "text/plain": [
       "<IPython.core.display.Javascript object>"
      ]
     },
     "metadata": {},
     "output_type": "display_data"
    },
    {
     "data": {
      "application/javascript": [
       "console.log(\"[120201][INFO][openvisuspy.slice:209:pushJobIfNeeded] pushing new job\");\n"
      ],
      "text/plain": [
       "<IPython.core.display.Javascript object>"
      ]
     },
     "metadata": {},
     "output_type": "display_data"
    },
    {
     "data": {
      "application/javascript": [
       "console.log(\"[120201][INFO][openvisuspy.backend_cpp:76:printStatistics] Stats::printStatistics enlapsed=0.029005050659179688 seconds\");\n"
      ],
      "text/plain": [
       "<IPython.core.display.Javascript object>"
      ]
     },
     "metadata": {},
     "output_type": "display_data"
    },
    {
     "data": {
      "application/javascript": [
       "console.log(\"[120201][INFO][openvisuspy.backend_cpp:74:createBoxQuery] begin timestep=2015 field=u logic_box=[[2389.1547249079194, 1040.545436233886, 45], [8237.25939034684, 5415.545436233887, 46]] num_refinements=4 max_pixels=97984 endh=34\");\n"
      ],
      "text/plain": [
       "<IPython.core.display.Javascript object>"
      ]
     },
     "metadata": {},
     "output_type": "display_data"
    },
    {
     "data": {
      "application/javascript": [
       "console.log(\"[120201][INFO][openvisuspy.backend_cpp:109:createBoxQuery] Guess resolution endh=20 original_box=([2389, 1040, 45], [8238, 5416, 46]) aligned_box=([2384, 1024, 32], [8224, 5408, 33]) delta=[16, 32, 32] num_pixels=[365, 137, 1] tot_pixels=50,005 max_pixels=97,984 end=20\");\n"
      ],
      "text/plain": [
       "<IPython.core.display.Javascript object>"
      ]
     },
     "metadata": {},
     "output_type": "display_data"
    },
    {
     "data": {
      "application/javascript": [
       "console.log(\"[120201][INFO][openvisuspy.backend_cpp:138:beginBoxQuery] beginBoxQuery timestep=2015 field=u logic_box=[[2304, 1024, 0], [8192, 5376, 1]] end_resolutions=[11, 14, 17, 20]\");\n"
      ],
      "text/plain": [
       "<IPython.core.display.Javascript object>"
      ]
     },
     "metadata": {},
     "output_type": "display_data"
    },
    {
     "data": {
      "application/javascript": [
       "console.log(\"[120201][INFO][openvisuspy.slice:209:pushJobIfNeeded] pushing new job\");\n"
      ],
      "text/plain": [
       "<IPython.core.display.Javascript object>"
      ]
     },
     "metadata": {},
     "output_type": "display_data"
    },
    {
     "data": {
      "application/javascript": [
       "console.log(\"[120201][INFO][openvisuspy.backend_cpp:76:printStatistics] Stats::printStatistics enlapsed=0.02801799774169922 seconds\");\n"
      ],
      "text/plain": [
       "<IPython.core.display.Javascript object>"
      ]
     },
     "metadata": {},
     "output_type": "display_data"
    },
    {
     "data": {
      "application/javascript": [
       "console.log(\"[120201][INFO][openvisuspy.backend_cpp:74:createBoxQuery] begin timestep=2015 field=u logic_box=[[2389.1547249079194, 1406.5345639579496, 45], [8237.25939034684, 5052.367897291283, 46]] num_refinements=4 max_pixels=97984 endh=34\");\n"
      ],
      "text/plain": [
       "<IPython.core.display.Javascript object>"
      ]
     },
     "metadata": {},
     "output_type": "display_data"
    },
    {
     "data": {
      "application/javascript": [
       "console.log(\"[120201][INFO][openvisuspy.backend_cpp:109:createBoxQuery] Guess resolution endh=22 original_box=([2389, 1406, 45], [8238, 5053, 46]) aligned_box=([2384, 1392, 32], [8224, 5040, 33]) delta=[16, 16, 16] num_pixels=[365, 228, 1] tot_pixels=83,220 max_pixels=97,984 end=22\");\n"
      ],
      "text/plain": [
       "<IPython.core.display.Javascript object>"
      ]
     },
     "metadata": {},
     "output_type": "display_data"
    },
    {
     "data": {
      "application/javascript": [
       "console.log(\"[120201][INFO][openvisuspy.backend_cpp:138:beginBoxQuery] beginBoxQuery timestep=2015 field=u logic_box=[[2304, 1280, 0], [8192, 4992, 1]] end_resolutions=[13, 16, 19, 22]\");\n"
      ],
      "text/plain": [
       "<IPython.core.display.Javascript object>"
      ]
     },
     "metadata": {},
     "output_type": "display_data"
    },
    {
     "data": {
      "application/javascript": [
       "console.log(\"[120201][INFO][openvisuspy.slice:209:pushJobIfNeeded] pushing new job\");\n"
      ],
      "text/plain": [
       "<IPython.core.display.Javascript object>"
      ]
     },
     "metadata": {},
     "output_type": "display_data"
    },
    {
     "data": {
      "application/javascript": [
       "console.log(\"[120201][INFO][openvisuspy.backend_cpp:76:printStatistics] Stats::printStatistics enlapsed=0.027997732162475586 seconds\");\n"
      ],
      "text/plain": [
       "<IPython.core.display.Javascript object>"
      ]
     },
     "metadata": {},
     "output_type": "display_data"
    },
    {
     "data": {
      "application/javascript": [
       "console.log(\"[120201][INFO][openvisuspy.backend_cpp:74:createBoxQuery] begin timestep=2015 field=u logic_box=[[3160.6980493528754, 1724.9539874603538, 45], [8034.118603885309, 4763.148431904798, 46]] num_refinements=4 max_pixels=97984 endh=34\");\n"
      ],
      "text/plain": [
       "<IPython.core.display.Javascript object>"
      ]
     },
     "metadata": {},
     "output_type": "display_data"
    },
    {
     "data": {
      "application/javascript": [
       "console.log(\"[120201][INFO][openvisuspy.backend_cpp:109:createBoxQuery] Guess resolution endh=22 original_box=([3160, 1724, 45], [8035, 4764, 46]) aligned_box=([3152, 1712, 32], [8032, 4752, 33]) delta=[16, 16, 16] num_pixels=[305, 190, 1] tot_pixels=57,950 max_pixels=97,984 end=22\");\n"
      ],
      "text/plain": [
       "<IPython.core.display.Javascript object>"
      ]
     },
     "metadata": {},
     "output_type": "display_data"
    },
    {
     "data": {
      "application/javascript": [
       "console.log(\"[120201][INFO][openvisuspy.backend_cpp:138:beginBoxQuery] beginBoxQuery timestep=2015 field=u logic_box=[[3072, 1664, 0], [7936, 4736, 1]] end_resolutions=[13, 16, 19, 22]\");\n"
      ],
      "text/plain": [
       "<IPython.core.display.Javascript object>"
      ]
     },
     "metadata": {},
     "output_type": "display_data"
    },
    {
     "data": {
      "application/javascript": [
       "console.log(\"[120201][INFO][openvisuspy.backend_cpp:168:returnBoxQueryData] got data 0/[13, 16, 19, 22] timestep=2015 field=u H=13 data.shape=(24, 38) data.dtype=float32 logic_box=[[3072, 1664, 0], [7936, 4736, 1]] m=-1.7420029640197754 M=0.9524486660957336 ms=18\");\n"
      ],
      "text/plain": [
       "<IPython.core.display.Javascript object>"
      ]
     },
     "metadata": {},
     "output_type": "display_data"
    },
    {
     "data": {
      "application/javascript": [
       "console.log(\"[120201][INFO][openvisuspy.backend_cpp:168:returnBoxQueryData] got data 1/[13, 16, 19, 22] timestep=2015 field=u H=16 data.shape=(48, 76) data.dtype=float32 logic_box=[[3072, 1664, 0], [7936, 4736, 1]] m=-2.123995065689087 M=2.5647056102752686 ms=37\");\n"
      ],
      "text/plain": [
       "<IPython.core.display.Javascript object>"
      ]
     },
     "metadata": {},
     "output_type": "display_data"
    },
    {
     "data": {
      "application/javascript": [
       "console.log(\"[120201][INFO][openvisuspy.backend_cpp:168:returnBoxQueryData] got data 2/[13, 16, 19, 22] timestep=2015 field=u H=19 data.shape=(96, 152) data.dtype=float32 logic_box=[[3072, 1664, 0], [7936, 4736, 1]] m=-2.123995065689087 M=2.5647056102752686 ms=57\");\n"
      ],
      "text/plain": [
       "<IPython.core.display.Javascript object>"
      ]
     },
     "metadata": {},
     "output_type": "display_data"
    },
    {
     "data": {
      "application/javascript": [
       "console.log(\"[120201][INFO][openvisuspy.slice:190:renderResultIfNeeded] Slice[6]::rendering result data.shape=(48, 76) data.dtype=float32 logic_box=[[3072, 1664, 0], [7936, 4736, 1]]\");\n"
      ],
      "text/plain": [
       "<IPython.core.display.Javascript object>"
      ]
     },
     "metadata": {},
     "output_type": "display_data"
    },
    {
     "data": {
      "application/javascript": [
       "console.log(\"[120201][INFO][openvisuspy.backend_cpp:168:returnBoxQueryData] got data 3/[13, 16, 19, 22] timestep=2015 field=u H=22 data.shape=(192, 304) data.dtype=float32 logic_box=[[3072, 1664, 0], [7936, 4736, 1]] m=-2.142925262451172 M=2.5647056102752686 ms=92\");\n"
      ],
      "text/plain": [
       "<IPython.core.display.Javascript object>"
      ]
     },
     "metadata": {},
     "output_type": "display_data"
    },
    {
     "data": {
      "application/javascript": [
       "console.log(\"[120201][INFO][openvisuspy.slice:190:renderResultIfNeeded] Slice[6]::rendering result data.shape=(96, 152) data.dtype=float32 logic_box=[[3072, 1664, 0], [7936, 4736, 1]]\");\n"
      ],
      "text/plain": [
       "<IPython.core.display.Javascript object>"
      ]
     },
     "metadata": {},
     "output_type": "display_data"
    },
    {
     "data": {
      "application/javascript": [
       "console.log(\"[120201][INFO][openvisuspy.backend_cpp:76:printStatistics] Stats::printStatistics enlapsed=0.10554170608520508 seconds\");\n"
      ],
      "text/plain": [
       "<IPython.core.display.Javascript object>"
      ]
     },
     "metadata": {},
     "output_type": "display_data"
    },
    {
     "data": {
      "application/javascript": [
       "console.log(\"[120201][INFO][openvisuspy.slice:190:renderResultIfNeeded] Slice[6]::rendering result data.shape=(192, 304) data.dtype=float32 logic_box=[[3072, 1664, 0], [7936, 4736, 1]]\");\n"
      ],
      "text/plain": [
       "<IPython.core.display.Javascript object>"
      ]
     },
     "metadata": {},
     "output_type": "display_data"
    },
    {
     "data": {
      "application/javascript": [
       "console.log(\"[120202][INFO][openvisuspy.slice:209:pushJobIfNeeded] pushing new job\");\n"
      ],
      "text/plain": [
       "<IPython.core.display.Javascript object>"
      ]
     },
     "metadata": {},
     "output_type": "display_data"
    },
    {
     "data": {
      "application/javascript": [
       "console.log(\"[120202][INFO][openvisuspy.backend_cpp:74:createBoxQuery] begin timestep=2015 field=u logic_box=[[3160.6980493528754, 1786.5012045669632, 45], [8034.118603885309, 4824.695649011407, 46]] num_refinements=4 max_pixels=97984 endh=34\");\n"
      ],
      "text/plain": [
       "<IPython.core.display.Javascript object>"
      ]
     },
     "metadata": {},
     "output_type": "display_data"
    },
    {
     "data": {
      "application/javascript": [
       "console.log(\"[120202][INFO][openvisuspy.backend_cpp:109:createBoxQuery] Guess resolution endh=22 original_box=([3160, 1786, 45], [8035, 4825, 46]) aligned_box=([3152, 1776, 32], [8032, 4816, 33]) delta=[16, 16, 16] num_pixels=[305, 190, 1] tot_pixels=57,950 max_pixels=97,984 end=22\");\n"
      ],
      "text/plain": [
       "<IPython.core.display.Javascript object>"
      ]
     },
     "metadata": {},
     "output_type": "display_data"
    },
    {
     "data": {
      "application/javascript": [
       "console.log(\"[120202][INFO][openvisuspy.backend_cpp:138:beginBoxQuery] beginBoxQuery timestep=2015 field=u logic_box=[[3072, 1664, 0], [7936, 4736, 1]] end_resolutions=[13, 16, 19, 22]\");\n"
      ],
      "text/plain": [
       "<IPython.core.display.Javascript object>"
      ]
     },
     "metadata": {},
     "output_type": "display_data"
    },
    {
     "data": {
      "application/javascript": [
       "console.log(\"[120202][INFO][openvisuspy.backend_cpp:168:returnBoxQueryData] got data 0/[13, 16, 19, 22] timestep=2015 field=u H=13 data.shape=(24, 38) data.dtype=float32 logic_box=[[3072, 1664, 0], [7936, 4736, 1]] m=-1.7420029640197754 M=0.9524486660957336 ms=18\");\n"
      ],
      "text/plain": [
       "<IPython.core.display.Javascript object>"
      ]
     },
     "metadata": {},
     "output_type": "display_data"
    },
    {
     "data": {
      "application/javascript": [
       "console.log(\"[120202][INFO][openvisuspy.slice:209:pushJobIfNeeded] pushing new job\");\n"
      ],
      "text/plain": [
       "<IPython.core.display.Javascript object>"
      ]
     },
     "metadata": {},
     "output_type": "display_data"
    },
    {
     "data": {
      "application/javascript": [
       "console.log(\"[120202][INFO][openvisuspy.backend_cpp:76:printStatistics] Stats::printStatistics enlapsed=0.0483090877532959 seconds\");\n"
      ],
      "text/plain": [
       "<IPython.core.display.Javascript object>"
      ]
     },
     "metadata": {},
     "output_type": "display_data"
    },
    {
     "data": {
      "application/javascript": [
       "console.log(\"[120202][INFO][openvisuspy.slice:190:renderResultIfNeeded] Slice[6]::rendering result data.shape=(24, 38) data.dtype=float32 logic_box=[[3072, 1664, 0], [7936, 4736, 1]]\");\n"
      ],
      "text/plain": [
       "<IPython.core.display.Javascript object>"
      ]
     },
     "metadata": {},
     "output_type": "display_data"
    },
    {
     "data": {
      "application/javascript": [
       "console.log(\"[120202][INFO][openvisuspy.backend_cpp:139:_threadLoop] _threadLoop is Alive\");\n"
      ],
      "text/plain": [
       "<IPython.core.display.Javascript object>"
      ]
     },
     "metadata": {},
     "output_type": "display_data"
    },
    {
     "data": {
      "application/javascript": [
       "console.log(\"[120202][INFO][openvisuspy.slice:209:pushJobIfNeeded] pushing new job\");\n"
      ],
      "text/plain": [
       "<IPython.core.display.Javascript object>"
      ]
     },
     "metadata": {},
     "output_type": "display_data"
    },
    {
     "data": {
      "application/javascript": [
       "console.log(\"[120202][INFO][openvisuspy.backend_cpp:74:createBoxQuery] begin timestep=2015 field=u logic_box=[[3160.6980493528754, 1982.3332589970842, 45], [8034.118603885309, 5020.5277034415285, 46]] num_refinements=4 max_pixels=97984 endh=34\");\n"
      ],
      "text/plain": [
       "<IPython.core.display.Javascript object>"
      ]
     },
     "metadata": {},
     "output_type": "display_data"
    },
    {
     "data": {
      "application/javascript": [
       "console.log(\"[120202][INFO][openvisuspy.backend_cpp:109:createBoxQuery] Guess resolution endh=22 original_box=([3160, 1982, 45], [8035, 5021, 46]) aligned_box=([3152, 1968, 32], [8032, 5008, 33]) delta=[16, 16, 16] num_pixels=[305, 190, 1] tot_pixels=57,950 max_pixels=97,984 end=22\");\n"
      ],
      "text/plain": [
       "<IPython.core.display.Javascript object>"
      ]
     },
     "metadata": {},
     "output_type": "display_data"
    },
    {
     "data": {
      "application/javascript": [
       "console.log(\"[120202][INFO][openvisuspy.backend_cpp:138:beginBoxQuery] beginBoxQuery timestep=2015 field=u logic_box=[[3072, 1920, 0], [7936, 4992, 1]] end_resolutions=[13, 16, 19, 22]\");\n"
      ],
      "text/plain": [
       "<IPython.core.display.Javascript object>"
      ]
     },
     "metadata": {},
     "output_type": "display_data"
    },
    {
     "data": {
      "application/javascript": [
       "console.log(\"[120202][INFO][openvisuspy.backend_cpp:76:printStatistics] Stats::printStatistics enlapsed=0.01599907875061035 seconds\");\n"
      ],
      "text/plain": [
       "<IPython.core.display.Javascript object>"
      ]
     },
     "metadata": {},
     "output_type": "display_data"
    },
    {
     "data": {
      "application/javascript": [
       "console.log(\"[120202][INFO][openvisuspy.backend_cpp:74:createBoxQuery] begin timestep=2015 field=u logic_box=[[3160.6980493528754, 2077.4516854345716, 45], [8034.118603885309, 5115.6461298790155, 46]] num_refinements=4 max_pixels=97984 endh=34\");\n"
      ],
      "text/plain": [
       "<IPython.core.display.Javascript object>"
      ]
     },
     "metadata": {},
     "output_type": "display_data"
    },
    {
     "data": {
      "application/javascript": [
       "console.log(\"[120202][INFO][openvisuspy.backend_cpp:109:createBoxQuery] Guess resolution endh=22 original_box=([3160, 2077, 45], [8035, 5116, 46]) aligned_box=([3152, 2064, 32], [8032, 5104, 33]) delta=[16, 16, 16] num_pixels=[305, 190, 1] tot_pixels=57,950 max_pixels=97,984 end=22\");\n"
      ],
      "text/plain": [
       "<IPython.core.display.Javascript object>"
      ]
     },
     "metadata": {},
     "output_type": "display_data"
    },
    {
     "data": {
      "application/javascript": [
       "console.log(\"[120202][INFO][openvisuspy.slice:209:pushJobIfNeeded] pushing new job\");\n"
      ],
      "text/plain": [
       "<IPython.core.display.Javascript object>"
      ]
     },
     "metadata": {},
     "output_type": "display_data"
    },
    {
     "data": {
      "application/javascript": [
       "console.log(\"[120202][INFO][openvisuspy.backend_cpp:138:beginBoxQuery] beginBoxQuery timestep=2015 field=u logic_box=[[3072, 2048, 0], [7936, 4992, 1]] end_resolutions=[13, 16, 19, 22]\");\n"
      ],
      "text/plain": [
       "<IPython.core.display.Javascript object>"
      ]
     },
     "metadata": {},
     "output_type": "display_data"
    },
    {
     "data": {
      "application/javascript": [
       "console.log(\"[120202][INFO][openvisuspy.backend_cpp:76:printStatistics] Stats::printStatistics enlapsed=0.01694631576538086 seconds\");\n"
      ],
      "text/plain": [
       "<IPython.core.display.Javascript object>"
      ]
     },
     "metadata": {},
     "output_type": "display_data"
    },
    {
     "data": {
      "application/javascript": [
       "console.log(\"[120202][INFO][openvisuspy.backend_cpp:74:createBoxQuery] begin timestep=2015 field=u logic_box=[[3160.6980493528754, 2155.7845072066198, 45], [8034.118603885309, 5193.978951651064, 46]] num_refinements=4 max_pixels=97984 endh=34\");\n"
      ],
      "text/plain": [
       "<IPython.core.display.Javascript object>"
      ]
     },
     "metadata": {},
     "output_type": "display_data"
    },
    {
     "data": {
      "application/javascript": [
       "console.log(\"[120202][INFO][openvisuspy.backend_cpp:109:createBoxQuery] Guess resolution endh=22 original_box=([3160, 2155, 45], [8035, 5194, 46]) aligned_box=([3152, 2144, 32], [8032, 5184, 33]) delta=[16, 16, 16] num_pixels=[305, 190, 1] tot_pixels=57,950 max_pixels=97,984 end=22\");\n"
      ],
      "text/plain": [
       "<IPython.core.display.Javascript object>"
      ]
     },
     "metadata": {},
     "output_type": "display_data"
    },
    {
     "data": {
      "application/javascript": [
       "console.log(\"[120202][INFO][openvisuspy.slice:209:pushJobIfNeeded] pushing new job\");\n"
      ],
      "text/plain": [
       "<IPython.core.display.Javascript object>"
      ]
     },
     "metadata": {},
     "output_type": "display_data"
    },
    {
     "data": {
      "application/javascript": [
       "console.log(\"[120202][INFO][openvisuspy.backend_cpp:138:beginBoxQuery] beginBoxQuery timestep=2015 field=u logic_box=[[3072, 2048, 0], [7936, 5120, 1]] end_resolutions=[13, 16, 19, 22]\");\n"
      ],
      "text/plain": [
       "<IPython.core.display.Javascript object>"
      ]
     },
     "metadata": {},
     "output_type": "display_data"
    },
    {
     "data": {
      "application/javascript": [
       "console.log(\"[120202][INFO][openvisuspy.backend_cpp:76:printStatistics] Stats::printStatistics enlapsed=0.018002748489379883 seconds\");\n"
      ],
      "text/plain": [
       "<IPython.core.display.Javascript object>"
      ]
     },
     "metadata": {},
     "output_type": "display_data"
    },
    {
     "data": {
      "application/javascript": [
       "console.log(\"[120202][INFO][openvisuspy.backend_cpp:74:createBoxQuery] begin timestep=2015 field=u logic_box=[[3110.3412353565586, 2323.6405538610084, 45], [7983.761789888992, 5361.834998305452, 46]] num_refinements=4 max_pixels=97984 endh=34\");\n"
      ],
      "text/plain": [
       "<IPython.core.display.Javascript object>"
      ]
     },
     "metadata": {},
     "output_type": "display_data"
    },
    {
     "data": {
      "application/javascript": [
       "console.log(\"[120202][INFO][openvisuspy.backend_cpp:109:createBoxQuery] Guess resolution endh=22 original_box=([3110, 2323, 45], [7984, 5362, 46]) aligned_box=([3104, 2320, 32], [7984, 5360, 33]) delta=[16, 16, 16] num_pixels=[305, 190, 1] tot_pixels=57,950 max_pixels=97,984 end=22\");\n"
      ],
      "text/plain": [
       "<IPython.core.display.Javascript object>"
      ]
     },
     "metadata": {},
     "output_type": "display_data"
    },
    {
     "data": {
      "application/javascript": [
       "console.log(\"[120202][INFO][openvisuspy.backend_cpp:138:beginBoxQuery] beginBoxQuery timestep=2015 field=u logic_box=[[3072, 2304, 0], [7936, 5248, 1]] end_resolutions=[13, 16, 19, 22]\");\n"
      ],
      "text/plain": [
       "<IPython.core.display.Javascript object>"
      ]
     },
     "metadata": {},
     "output_type": "display_data"
    },
    {
     "data": {
      "application/javascript": [
       "console.log(\"[120202][INFO][openvisuspy.slice:209:pushJobIfNeeded] pushing new job\");\n"
      ],
      "text/plain": [
       "<IPython.core.display.Javascript object>"
      ]
     },
     "metadata": {},
     "output_type": "display_data"
    },
    {
     "data": {
      "application/javascript": [
       "console.log(\"[120202][INFO][openvisuspy.backend_cpp:76:printStatistics] Stats::printStatistics enlapsed=0.0320587158203125 seconds\");\n"
      ],
      "text/plain": [
       "<IPython.core.display.Javascript object>"
      ]
     },
     "metadata": {},
     "output_type": "display_data"
    },
    {
     "data": {
      "application/javascript": [
       "console.log(\"[120202][INFO][openvisuspy.backend_cpp:74:createBoxQuery] begin timestep=2015 field=u logic_box=[[3032.0084135845104, 2530.6630114014224, 45], [7905.428968116943, 5568.857455845867, 46]] num_refinements=4 max_pixels=97984 endh=34\");\n"
      ],
      "text/plain": [
       "<IPython.core.display.Javascript object>"
      ]
     },
     "metadata": {},
     "output_type": "display_data"
    },
    {
     "data": {
      "application/javascript": [
       "console.log(\"[120202][INFO][openvisuspy.backend_cpp:109:createBoxQuery] Guess resolution endh=22 original_box=([3032, 2530, 45], [7906, 5569, 46]) aligned_box=([3024, 2528, 32], [7904, 5568, 33]) delta=[16, 16, 16] num_pixels=[305, 190, 1] tot_pixels=57,950 max_pixels=97,984 end=22\");\n"
      ],
      "text/plain": [
       "<IPython.core.display.Javascript object>"
      ]
     },
     "metadata": {},
     "output_type": "display_data"
    },
    {
     "data": {
      "application/javascript": [
       "console.log(\"[120202][INFO][openvisuspy.backend_cpp:138:beginBoxQuery] beginBoxQuery timestep=2015 field=u logic_box=[[2944, 2432, 0], [7808, 5504, 1]] end_resolutions=[13, 16, 19, 22]\");\n"
      ],
      "text/plain": [
       "<IPython.core.display.Javascript object>"
      ]
     },
     "metadata": {},
     "output_type": "display_data"
    },
    {
     "data": {
      "application/javascript": [
       "console.log(\"[120202][INFO][openvisuspy.slice:209:pushJobIfNeeded] pushing new job\");\n"
      ],
      "text/plain": [
       "<IPython.core.display.Javascript object>"
      ]
     },
     "metadata": {},
     "output_type": "display_data"
    },
    {
     "data": {
      "application/javascript": [
       "console.log(\"[120202][INFO][openvisuspy.backend_cpp:76:printStatistics] Stats::printStatistics enlapsed=0.029037952423095703 seconds\");\n"
      ],
      "text/plain": [
       "<IPython.core.display.Javascript object>"
      ]
     },
     "metadata": {},
     "output_type": "display_data"
    },
    {
     "data": {
      "application/javascript": [
       "console.log(\"[120202][INFO][openvisuspy.backend_cpp:74:createBoxQuery] begin timestep=2015 field=u logic_box=[[2987.2468011433402, 2642.567042504348, 45], [7860.667355675772, 5680.7614869487925, 46]] num_refinements=4 max_pixels=97984 endh=34\");\n"
      ],
      "text/plain": [
       "<IPython.core.display.Javascript object>"
      ]
     },
     "metadata": {},
     "output_type": "display_data"
    },
    {
     "data": {
      "application/javascript": [
       "console.log(\"[120202][INFO][openvisuspy.backend_cpp:109:createBoxQuery] Guess resolution endh=22 original_box=([2987, 2642, 45], [7861, 5681, 46]) aligned_box=([2976, 2640, 32], [7856, 5680, 33]) delta=[16, 16, 16] num_pixels=[305, 190, 1] tot_pixels=57,950 max_pixels=97,984 end=22\");\n"
      ],
      "text/plain": [
       "<IPython.core.display.Javascript object>"
      ]
     },
     "metadata": {},
     "output_type": "display_data"
    },
    {
     "data": {
      "application/javascript": [
       "console.log(\"[120202][INFO][openvisuspy.slice:209:pushJobIfNeeded] pushing new job\");\n"
      ],
      "text/plain": [
       "<IPython.core.display.Javascript object>"
      ]
     },
     "metadata": {},
     "output_type": "display_data"
    },
    {
     "data": {
      "application/javascript": [
       "console.log(\"[120202][INFO][openvisuspy.backend_cpp:138:beginBoxQuery] beginBoxQuery timestep=2015 field=u logic_box=[[2944, 2560, 0], [7808, 5632, 1]] end_resolutions=[13, 16, 19, 22]\");\n"
      ],
      "text/plain": [
       "<IPython.core.display.Javascript object>"
      ]
     },
     "metadata": {},
     "output_type": "display_data"
    },
    {
     "data": {
      "application/javascript": [
       "console.log(\"[120202][INFO][openvisuspy.backend_cpp:76:printStatistics] Stats::printStatistics enlapsed=0.017185211181640625 seconds\");\n"
      ],
      "text/plain": [
       "<IPython.core.display.Javascript object>"
      ]
     },
     "metadata": {},
     "output_type": "display_data"
    },
    {
     "data": {
      "application/javascript": [
       "console.log(\"[120202][INFO][openvisuspy.backend_cpp:74:createBoxQuery] begin timestep=2015 field=u logic_box=[[2964.8659949227545, 2670.54305028008, 45], [7838.286549455187, 5708.737494724524, 46]] num_refinements=4 max_pixels=97984 endh=34\");\n"
      ],
      "text/plain": [
       "<IPython.core.display.Javascript object>"
      ]
     },
     "metadata": {},
     "output_type": "display_data"
    },
    {
     "data": {
      "application/javascript": [
       "console.log(\"[120202][INFO][openvisuspy.backend_cpp:109:createBoxQuery] Guess resolution endh=22 original_box=([2964, 2670, 45], [7839, 5709, 46]) aligned_box=([2960, 2656, 32], [7824, 5696, 33]) delta=[16, 16, 16] num_pixels=[304, 190, 1] tot_pixels=57,760 max_pixels=97,984 end=22\");\n"
      ],
      "text/plain": [
       "<IPython.core.display.Javascript object>"
      ]
     },
     "metadata": {},
     "output_type": "display_data"
    },
    {
     "data": {
      "application/javascript": [
       "console.log(\"[120202][INFO][openvisuspy.backend_cpp:138:beginBoxQuery] beginBoxQuery timestep=2015 field=u logic_box=[[2944, 2560, 0], [7808, 5632, 1]] end_resolutions=[13, 16, 19, 22]\");\n"
      ],
      "text/plain": [
       "<IPython.core.display.Javascript object>"
      ]
     },
     "metadata": {},
     "output_type": "display_data"
    },
    {
     "data": {
      "application/javascript": [
       "console.log(\"[120202][INFO][openvisuspy.backend_cpp:168:returnBoxQueryData] got data 0/[13, 16, 19, 22] timestep=2015 field=u H=13 data.shape=(24, 38) data.dtype=float32 logic_box=[[2944, 2560, 0], [7808, 5632, 1]] m=-1.7420029640197754 M=0.9950410723686218 ms=18\");\n"
      ],
      "text/plain": [
       "<IPython.core.display.Javascript object>"
      ]
     },
     "metadata": {},
     "output_type": "display_data"
    },
    {
     "data": {
      "application/javascript": [
       "console.log(\"[120202][INFO][openvisuspy.slice:209:pushJobIfNeeded] pushing new job\");\n"
      ],
      "text/plain": [
       "<IPython.core.display.Javascript object>"
      ]
     },
     "metadata": {},
     "output_type": "display_data"
    },
    {
     "data": {
      "application/javascript": [
       "console.log(\"[120202][INFO][openvisuspy.backend_cpp:76:printStatistics] Stats::printStatistics enlapsed=0.0478818416595459 seconds\");\n"
      ],
      "text/plain": [
       "<IPython.core.display.Javascript object>"
      ]
     },
     "metadata": {},
     "output_type": "display_data"
    },
    {
     "data": {
      "application/javascript": [
       "console.log(\"[120202][INFO][openvisuspy.backend_cpp:74:createBoxQuery] begin timestep=2015 field=u logic_box=[[2964.8659949227545, 2698.519058055812, 45], [7838.286549455187, 5736.713502500257, 46]] num_refinements=4 max_pixels=97984 endh=34\");\n"
      ],
      "text/plain": [
       "<IPython.core.display.Javascript object>"
      ]
     },
     "metadata": {},
     "output_type": "display_data"
    },
    {
     "data": {
      "application/javascript": [
       "console.log(\"[120202][INFO][openvisuspy.slice:190:renderResultIfNeeded] Slice[6]::rendering result data.shape=(24, 38) data.dtype=float32 logic_box=[[2944, 2560, 0], [7808, 5632, 1]]\");\n"
      ],
      "text/plain": [
       "<IPython.core.display.Javascript object>"
      ]
     },
     "metadata": {},
     "output_type": "display_data"
    },
    {
     "data": {
      "application/javascript": [
       "console.log(\"[120202][INFO][openvisuspy.backend_cpp:109:createBoxQuery] Guess resolution endh=22 original_box=([2964, 2698, 45], [7839, 5737, 46]) aligned_box=([2960, 2688, 32], [7824, 5728, 33]) delta=[16, 16, 16] num_pixels=[304, 190, 1] tot_pixels=57,760 max_pixels=97,984 end=22\");\n"
      ],
      "text/plain": [
       "<IPython.core.display.Javascript object>"
      ]
     },
     "metadata": {},
     "output_type": "display_data"
    },
    {
     "data": {
      "application/javascript": [
       "console.log(\"[120202][INFO][openvisuspy.slice:209:pushJobIfNeeded] pushing new job\");\n"
      ],
      "text/plain": [
       "<IPython.core.display.Javascript object>"
      ]
     },
     "metadata": {},
     "output_type": "display_data"
    },
    {
     "data": {
      "application/javascript": [
       "console.log(\"[120202][INFO][openvisuspy.backend_cpp:138:beginBoxQuery] beginBoxQuery timestep=2015 field=u logic_box=[[2944, 2688, 0], [7808, 5632, 1]] end_resolutions=[13, 16, 19, 22]\");\n"
      ],
      "text/plain": [
       "<IPython.core.display.Javascript object>"
      ]
     },
     "metadata": {},
     "output_type": "display_data"
    },
    {
     "data": {
      "application/javascript": [
       "console.log(\"[120202][INFO][openvisuspy.backend_cpp:76:printStatistics] Stats::printStatistics enlapsed=0.0190277099609375 seconds\");\n"
      ],
      "text/plain": [
       "<IPython.core.display.Javascript object>"
      ]
     },
     "metadata": {},
     "output_type": "display_data"
    },
    {
     "data": {
      "application/javascript": [
       "console.log(\"[120202][INFO][openvisuspy.backend_cpp:74:createBoxQuery] begin timestep=2015 field=u logic_box=[[2964.8659949227545, 2698.5190580558124, 45], [7838.286549455187, 5736.713502500258, 46]] num_refinements=4 max_pixels=97984 endh=34\");\n"
      ],
      "text/plain": [
       "<IPython.core.display.Javascript object>"
      ]
     },
     "metadata": {},
     "output_type": "display_data"
    },
    {
     "data": {
      "application/javascript": [
       "console.log(\"[120202][INFO][openvisuspy.backend_cpp:109:createBoxQuery] Guess resolution endh=22 original_box=([2964, 2698, 45], [7839, 5737, 46]) aligned_box=([2960, 2688, 32], [7824, 5728, 33]) delta=[16, 16, 16] num_pixels=[304, 190, 1] tot_pixels=57,760 max_pixels=97,984 end=22\");\n"
      ],
      "text/plain": [
       "<IPython.core.display.Javascript object>"
      ]
     },
     "metadata": {},
     "output_type": "display_data"
    },
    {
     "data": {
      "application/javascript": [
       "console.log(\"[120202][INFO][openvisuspy.backend_cpp:138:beginBoxQuery] beginBoxQuery timestep=2015 field=u logic_box=[[2944, 2688, 0], [7808, 5632, 1]] end_resolutions=[13, 16, 19, 22]\");\n"
      ],
      "text/plain": [
       "<IPython.core.display.Javascript object>"
      ]
     },
     "metadata": {},
     "output_type": "display_data"
    },
    {
     "data": {
      "application/javascript": [
       "console.log(\"[120202][INFO][openvisuspy.backend_cpp:168:returnBoxQueryData] got data 0/[13, 16, 19, 22] timestep=2015 field=u H=13 data.shape=(23, 38) data.dtype=float32 logic_box=[[2944, 2688, 0], [7808, 5632, 1]] m=-1.7420029640197754 M=0.9950410723686218 ms=19\");\n"
      ],
      "text/plain": [
       "<IPython.core.display.Javascript object>"
      ]
     },
     "metadata": {},
     "output_type": "display_data"
    },
    {
     "data": {
      "application/javascript": [
       "console.log(\"[120202][INFO][openvisuspy.slice:190:renderResultIfNeeded] Slice[6]::rendering result data.shape=(23, 38) data.dtype=float32 logic_box=[[2944, 2688, 0], [7808, 5632, 1]]\");\n"
      ],
      "text/plain": [
       "<IPython.core.display.Javascript object>"
      ]
     },
     "metadata": {},
     "output_type": "display_data"
    },
    {
     "data": {
      "application/javascript": [
       "console.log(\"[120202][INFO][openvisuspy.backend_cpp:168:returnBoxQueryData] got data 1/[13, 16, 19, 22] timestep=2015 field=u H=16 data.shape=(46, 76) data.dtype=float32 logic_box=[[2944, 2688, 0], [7808, 5632, 1]] m=-2.123995065689087 M=2.5647056102752686 ms=39\");\n"
      ],
      "text/plain": [
       "<IPython.core.display.Javascript object>"
      ]
     },
     "metadata": {},
     "output_type": "display_data"
    },
    {
     "data": {
      "application/javascript": [
       "console.log(\"[120202][INFO][openvisuspy.backend_cpp:168:returnBoxQueryData] got data 2/[13, 16, 19, 22] timestep=2015 field=u H=19 data.shape=(92, 152) data.dtype=float32 logic_box=[[2944, 2688, 0], [7808, 5632, 1]] m=-2.123995065689087 M=2.5647056102752686 ms=64\");\n"
      ],
      "text/plain": [
       "<IPython.core.display.Javascript object>"
      ]
     },
     "metadata": {},
     "output_type": "display_data"
    },
    {
     "data": {
      "application/javascript": [
       "console.log(\"[120202][INFO][openvisuspy.slice:190:renderResultIfNeeded] Slice[6]::rendering result data.shape=(92, 152) data.dtype=float32 logic_box=[[2944, 2688, 0], [7808, 5632, 1]]\");\n"
      ],
      "text/plain": [
       "<IPython.core.display.Javascript object>"
      ]
     },
     "metadata": {},
     "output_type": "display_data"
    },
    {
     "data": {
      "application/javascript": [
       "console.log(\"[120202][INFO][openvisuspy.backend_cpp:168:returnBoxQueryData] got data 3/[13, 16, 19, 22] timestep=2015 field=u H=22 data.shape=(184, 304) data.dtype=float32 logic_box=[[2944, 2688, 0], [7808, 5632, 1]] m=-2.142925262451172 M=2.5647056102752686 ms=99\");\n"
      ],
      "text/plain": [
       "<IPython.core.display.Javascript object>"
      ]
     },
     "metadata": {},
     "output_type": "display_data"
    },
    {
     "data": {
      "application/javascript": [
       "console.log(\"[120202][INFO][openvisuspy.backend_cpp:76:printStatistics] Stats::printStatistics enlapsed=0.11337161064147949 seconds\");\n"
      ],
      "text/plain": [
       "<IPython.core.display.Javascript object>"
      ]
     },
     "metadata": {},
     "output_type": "display_data"
    },
    {
     "data": {
      "application/javascript": [
       "console.log(\"[120202][INFO][openvisuspy.slice:190:renderResultIfNeeded] Slice[6]::rendering result data.shape=(184, 304) data.dtype=float32 logic_box=[[2944, 2688, 0], [7808, 5632, 1]]\");\n"
      ],
      "text/plain": [
       "<IPython.core.display.Javascript object>"
      ]
     },
     "metadata": {},
     "output_type": "display_data"
    },
    {
     "data": {
      "application/javascript": [
       "console.log(\"[120207][INFO][openvisuspy.slice:209:pushJobIfNeeded] pushing new job\");\n"
      ],
      "text/plain": [
       "<IPython.core.display.Javascript object>"
      ]
     },
     "metadata": {},
     "output_type": "display_data"
    },
    {
     "data": {
      "application/javascript": [
       "console.log(\"[120207][INFO][openvisuspy.backend_cpp:74:createBoxQuery] begin timestep=2015 field=u logic_box=[[3384.9432366802234, 3083.232877484271, 45], [7446.127032123918, 5615.061581187976, 46]] num_refinements=4 max_pixels=97984 endh=34\");\n"
      ],
      "text/plain": [
       "<IPython.core.display.Javascript object>"
      ]
     },
     "metadata": {},
     "output_type": "display_data"
    },
    {
     "data": {
      "application/javascript": [
       "console.log(\"[120207][INFO][openvisuspy.backend_cpp:109:createBoxQuery] Guess resolution endh=23 original_box=([3384, 3083, 45], [7447, 5616, 46]) aligned_box=([3384, 3072, 32], [7440, 5616, 33]) delta=[8, 16, 16] num_pixels=[507, 159, 1] tot_pixels=80,613 max_pixels=97,984 end=23\");\n"
      ],
      "text/plain": [
       "<IPython.core.display.Javascript object>"
      ]
     },
     "metadata": {},
     "output_type": "display_data"
    },
    {
     "data": {
      "application/javascript": [
       "console.log(\"[120207][INFO][openvisuspy.backend_cpp:138:beginBoxQuery] beginBoxQuery timestep=2015 field=u logic_box=[[3328, 3072, 0], [7424, 5504, 1]] end_resolutions=[14, 17, 20, 23]\");\n"
      ],
      "text/plain": [
       "<IPython.core.display.Javascript object>"
      ]
     },
     "metadata": {},
     "output_type": "display_data"
    },
    {
     "data": {
      "application/javascript": [
       "console.log(\"[120207][INFO][openvisuspy.backend_cpp:168:returnBoxQueryData] got data 0/[14, 17, 20, 23] timestep=2015 field=u H=14 data.shape=(19, 64) data.dtype=float32 logic_box=[[3328, 3072, 0], [7424, 5504, 1]] m=-1.7420029640197754 M=0.9950410723686218 ms=19\");\n"
      ],
      "text/plain": [
       "<IPython.core.display.Javascript object>"
      ]
     },
     "metadata": {},
     "output_type": "display_data"
    },
    {
     "data": {
      "application/javascript": [
       "console.log(\"[120207][INFO][openvisuspy.slice:190:renderResultIfNeeded] Slice[6]::rendering result data.shape=(19, 64) data.dtype=float32 logic_box=[[3328, 3072, 0], [7424, 5504, 1]]\");\n"
      ],
      "text/plain": [
       "<IPython.core.display.Javascript object>"
      ]
     },
     "metadata": {},
     "output_type": "display_data"
    },
    {
     "data": {
      "application/javascript": [
       "console.log(\"[120207][INFO][openvisuspy.slice:209:pushJobIfNeeded] pushing new job\");\n"
      ],
      "text/plain": [
       "<IPython.core.display.Javascript object>"
      ]
     },
     "metadata": {},
     "output_type": "display_data"
    },
    {
     "data": {
      "application/javascript": [
       "console.log(\"[120207][INFO][openvisuspy.backend_cpp:76:printStatistics] Stats::printStatistics enlapsed=0.047039031982421875 seconds\");\n"
      ],
      "text/plain": [
       "<IPython.core.display.Javascript object>"
      ]
     },
     "metadata": {},
     "output_type": "display_data"
    },
    {
     "data": {
      "application/javascript": [
       "console.log(\"[120207][INFO][openvisuspy.backend_cpp:139:_threadLoop] _threadLoop is Alive\");\n"
      ],
      "text/plain": [
       "<IPython.core.display.Javascript object>"
      ]
     },
     "metadata": {},
     "output_type": "display_data"
    },
    {
     "data": {
      "application/javascript": [
       "console.log(\"[120207][INFO][openvisuspy.backend_cpp:74:createBoxQuery] begin timestep=2015 field=u logic_box=[[4026.727911587468, 3670.9901016110825, 45], [6846.994436201145, 5429.2044791831, 46]] num_refinements=4 max_pixels=97984 endh=34\");\n"
      ],
      "text/plain": [
       "<IPython.core.display.Javascript object>"
      ]
     },
     "metadata": {},
     "output_type": "display_data"
    },
    {
     "data": {
      "application/javascript": [
       "console.log(\"[120207][INFO][openvisuspy.slice:209:pushJobIfNeeded] pushing new job\");\n"
      ],
      "text/plain": [
       "<IPython.core.display.Javascript object>"
      ]
     },
     "metadata": {},
     "output_type": "display_data"
    },
    {
     "data": {
      "application/javascript": [
       "console.log(\"[120207][INFO][openvisuspy.backend_cpp:109:createBoxQuery] Guess resolution endh=25 original_box=([4026, 3670, 45], [6847, 5430, 46]) aligned_box=([4024, 3664, 40], [6840, 5424, 41]) delta=[8, 8, 8] num_pixels=[352, 220, 1] tot_pixels=77,440 max_pixels=97,984 end=25\");\n"
      ],
      "text/plain": [
       "<IPython.core.display.Javascript object>"
      ]
     },
     "metadata": {},
     "output_type": "display_data"
    },
    {
     "data": {
      "application/javascript": [
       "console.log(\"[120207][INFO][openvisuspy.backend_cpp:138:beginBoxQuery] beginBoxQuery timestep=2015 field=u logic_box=[[3968, 3648, 0], [6784, 5376, 1]] end_resolutions=[16, 19, 22, 25]\");\n"
      ],
      "text/plain": [
       "<IPython.core.display.Javascript object>"
      ]
     },
     "metadata": {},
     "output_type": "display_data"
    },
    {
     "data": {
      "application/javascript": [
       "console.log(\"[120207][INFO][openvisuspy.backend_cpp:76:printStatistics] Stats::printStatistics enlapsed=0.013999462127685547 seconds\");\n"
      ],
      "text/plain": [
       "<IPython.core.display.Javascript object>"
      ]
     },
     "metadata": {},
     "output_type": "display_data"
    },
    {
     "data": {
      "application/javascript": [
       "console.log(\"[120207][INFO][openvisuspy.backend_cpp:74:createBoxQuery] begin timestep=2015 field=u logic_box=[[4269.828167234151, 3893.6254137803294, 45], [6620.050271078881, 5358.804061757011, 46]] num_refinements=4 max_pixels=97984 endh=34\");\n"
      ],
      "text/plain": [
       "<IPython.core.display.Javascript object>"
      ]
     },
     "metadata": {},
     "output_type": "display_data"
    },
    {
     "data": {
      "application/javascript": [
       "console.log(\"[120207][INFO][openvisuspy.backend_cpp:109:createBoxQuery] Guess resolution endh=25 original_box=([4269, 3893, 45], [6621, 5359, 46]) aligned_box=([4264, 3888, 40], [6616, 5352, 41]) delta=[8, 8, 8] num_pixels=[294, 183, 1] tot_pixels=53,802 max_pixels=97,984 end=25\");\n"
      ],
      "text/plain": [
       "<IPython.core.display.Javascript object>"
      ]
     },
     "metadata": {},
     "output_type": "display_data"
    },
    {
     "data": {
      "application/javascript": [
       "console.log(\"[120207][INFO][openvisuspy.backend_cpp:138:beginBoxQuery] beginBoxQuery timestep=2015 field=u logic_box=[[4224, 3840, 0], [6592, 5312, 1]] end_resolutions=[16, 19, 22, 25]\");\n"
      ],
      "text/plain": [
       "<IPython.core.display.Javascript object>"
      ]
     },
     "metadata": {},
     "output_type": "display_data"
    },
    {
     "data": {
      "application/javascript": [
       "console.log(\"[120207][INFO][openvisuspy.backend_cpp:168:returnBoxQueryData] got data 0/[16, 19, 22, 25] timestep=2015 field=u H=16 data.shape=(23, 37) data.dtype=float32 logic_box=[[4224, 3840, 0], [6592, 5312, 1]] m=-0.711146354675293 M=0.912960946559906 ms=16\");\n"
      ],
      "text/plain": [
       "<IPython.core.display.Javascript object>"
      ]
     },
     "metadata": {},
     "output_type": "display_data"
    },
    {
     "data": {
      "application/javascript": [
       "console.log(\"[120207][INFO][openvisuspy.backend_cpp:168:returnBoxQueryData] got data 1/[16, 19, 22, 25] timestep=2015 field=u H=19 data.shape=(46, 74) data.dtype=float32 logic_box=[[4224, 3840, 0], [6592, 5312, 1]] m=-0.9488640427589417 M=1.230023980140686 ms=37\");\n"
      ],
      "text/plain": [
       "<IPython.core.display.Javascript object>"
      ]
     },
     "metadata": {},
     "output_type": "display_data"
    },
    {
     "data": {
      "application/javascript": [
       "console.log(\"[120207][INFO][openvisuspy.slice:190:renderResultIfNeeded] Slice[6]::rendering result data.shape=(46, 74) data.dtype=float32 logic_box=[[4224, 3840, 0], [6592, 5312, 1]]\");\n"
      ],
      "text/plain": [
       "<IPython.core.display.Javascript object>"
      ]
     },
     "metadata": {},
     "output_type": "display_data"
    },
    {
     "data": {
      "application/javascript": [
       "console.log(\"[120207][INFO][openvisuspy.backend_cpp:168:returnBoxQueryData] got data 2/[16, 19, 22, 25] timestep=2015 field=u H=22 data.shape=(92, 148) data.dtype=float32 logic_box=[[4224, 3840, 0], [6592, 5312, 1]] m=-1.6448888778686523 M=1.925896406173706 ms=67\");\n"
      ],
      "text/plain": [
       "<IPython.core.display.Javascript object>"
      ]
     },
     "metadata": {},
     "output_type": "display_data"
    },
    {
     "data": {
      "application/javascript": [
       "console.log(\"[120207][INFO][openvisuspy.slice:190:renderResultIfNeeded] Slice[6]::rendering result data.shape=(92, 148) data.dtype=float32 logic_box=[[4224, 3840, 0], [6592, 5312, 1]]\");\n"
      ],
      "text/plain": [
       "<IPython.core.display.Javascript object>"
      ]
     },
     "metadata": {},
     "output_type": "display_data"
    },
    {
     "data": {
      "application/javascript": [
       "console.log(\"[120207][INFO][openvisuspy.backend_cpp:168:returnBoxQueryData] got data 3/[16, 19, 22, 25] timestep=2015 field=u H=25 data.shape=(184, 296) data.dtype=float32 logic_box=[[4224, 3840, 0], [6592, 5312, 1]] m=-2.491788864135742 M=1.9683486223220825 ms=126\");\n"
      ],
      "text/plain": [
       "<IPython.core.display.Javascript object>"
      ]
     },
     "metadata": {},
     "output_type": "display_data"
    },
    {
     "data": {
      "application/javascript": [
       "console.log(\"[120207][INFO][openvisuspy.backend_cpp:76:printStatistics] Stats::printStatistics enlapsed=0.13866710662841797 seconds\");\n"
      ],
      "text/plain": [
       "<IPython.core.display.Javascript object>"
      ]
     },
     "metadata": {},
     "output_type": "display_data"
    },
    {
     "data": {
      "application/javascript": [
       "console.log(\"[120207][INFO][openvisuspy.slice:190:renderResultIfNeeded] Slice[6]::rendering result data.shape=(184, 296) data.dtype=float32 logic_box=[[4224, 3840, 0], [6592, 5312, 1]]\");\n"
      ],
      "text/plain": [
       "<IPython.core.display.Javascript object>"
      ]
     },
     "metadata": {},
     "output_type": "display_data"
    },
    {
     "data": {
      "application/javascript": [
       "console.log(\"[120208][INFO][openvisuspy.slice:209:pushJobIfNeeded] pushing new job\");\n"
      ],
      "text/plain": [
       "<IPython.core.display.Javascript object>"
      ]
     },
     "metadata": {},
     "output_type": "display_data"
    },
    {
     "data": {
      "application/javascript": [
       "console.log(\"[120208][INFO][openvisuspy.backend_cpp:74:createBoxQuery] begin timestep=2015 field=u logic_box=[[4221.258709290172, 3993.4626328873965, 45], [6571.480813134903, 5458.641280864078, 46]] num_refinements=4 max_pixels=97984 endh=34\");\n"
      ],
      "text/plain": [
       "<IPython.core.display.Javascript object>"
      ]
     },
     "metadata": {},
     "output_type": "display_data"
    },
    {
     "data": {
      "application/javascript": [
       "console.log(\"[120208][INFO][openvisuspy.backend_cpp:109:createBoxQuery] Guess resolution endh=25 original_box=([4221, 3993, 45], [6572, 5459, 46]) aligned_box=([4216, 3992, 40], [6568, 5456, 41]) delta=[8, 8, 8] num_pixels=[294, 183, 1] tot_pixels=53,802 max_pixels=97,984 end=25\");\n"
      ],
      "text/plain": [
       "<IPython.core.display.Javascript object>"
      ]
     },
     "metadata": {},
     "output_type": "display_data"
    },
    {
     "data": {
      "application/javascript": [
       "console.log(\"[120208][INFO][openvisuspy.backend_cpp:138:beginBoxQuery] beginBoxQuery timestep=2015 field=u logic_box=[[4160, 3968, 0], [6528, 5440, 1]] end_resolutions=[16, 19, 22, 25]\");\n"
      ],
      "text/plain": [
       "<IPython.core.display.Javascript object>"
      ]
     },
     "metadata": {},
     "output_type": "display_data"
    },
    {
     "data": {
      "application/javascript": [
       "console.log(\"[120208][INFO][openvisuspy.backend_cpp:168:returnBoxQueryData] got data 0/[16, 19, 22, 25] timestep=2015 field=u H=16 data.shape=(23, 37) data.dtype=float32 logic_box=[[4160, 3968, 0], [6528, 5440, 1]] m=-0.7854130268096924 M=0.912960946559906 ms=19\");\n"
      ],
      "text/plain": [
       "<IPython.core.display.Javascript object>"
      ]
     },
     "metadata": {},
     "output_type": "display_data"
    },
    {
     "data": {
      "application/javascript": [
       "console.log(\"[120208][INFO][openvisuspy.slice:209:pushJobIfNeeded] pushing new job\");\n"
      ],
      "text/plain": [
       "<IPython.core.display.Javascript object>"
      ]
     },
     "metadata": {},
     "output_type": "display_data"
    },
    {
     "data": {
      "application/javascript": [
       "console.log(\"[120208][INFO][openvisuspy.backend_cpp:76:printStatistics] Stats::printStatistics enlapsed=0.046910762786865234 seconds\");\n"
      ],
      "text/plain": [
       "<IPython.core.display.Javascript object>"
      ]
     },
     "metadata": {},
     "output_type": "display_data"
    },
    {
     "data": {
      "application/javascript": [
       "console.log(\"[120208][INFO][openvisuspy.backend_cpp:74:createBoxQuery] begin timestep=2015 field=u logic_box=[[4153.801128812424, 4093.299851994463, 45], [6504.023232657155, 5558.4784999711455, 46]] num_refinements=4 max_pixels=97984 endh=34\");\n"
      ],
      "text/plain": [
       "<IPython.core.display.Javascript object>"
      ]
     },
     "metadata": {},
     "output_type": "display_data"
    },
    {
     "data": {
      "application/javascript": [
       "console.log(\"[120208][INFO][openvisuspy.slice:190:renderResultIfNeeded] Slice[6]::rendering result data.shape=(23, 37) data.dtype=float32 logic_box=[[4160, 3968, 0], [6528, 5440, 1]]\");\n"
      ],
      "text/plain": [
       "<IPython.core.display.Javascript object>"
      ]
     },
     "metadata": {},
     "output_type": "display_data"
    },
    {
     "data": {
      "application/javascript": [
       "console.log(\"[120208][INFO][openvisuspy.backend_cpp:109:createBoxQuery] Guess resolution endh=25 original_box=([4153, 4093, 45], [6505, 5559, 46]) aligned_box=([4152, 4088, 40], [6504, 5552, 41]) delta=[8, 8, 8] num_pixels=[294, 183, 1] tot_pixels=53,802 max_pixels=97,984 end=25\");\n"
      ],
      "text/plain": [
       "<IPython.core.display.Javascript object>"
      ]
     },
     "metadata": {},
     "output_type": "display_data"
    },
    {
     "data": {
      "application/javascript": [
       "console.log(\"[120208][INFO][openvisuspy.slice:209:pushJobIfNeeded] pushing new job\");\n"
      ],
      "text/plain": [
       "<IPython.core.display.Javascript object>"
      ]
     },
     "metadata": {},
     "output_type": "display_data"
    },
    {
     "data": {
      "application/javascript": [
       "console.log(\"[120208][INFO][openvisuspy.backend_cpp:138:beginBoxQuery] beginBoxQuery timestep=2015 field=u logic_box=[[4096, 4032, 0], [6464, 5504, 1]] end_resolutions=[16, 19, 22, 25]\");\n"
      ],
      "text/plain": [
       "<IPython.core.display.Javascript object>"
      ]
     },
     "metadata": {},
     "output_type": "display_data"
    },
    {
     "data": {
      "application/javascript": [
       "console.log(\"[120208][INFO][openvisuspy.backend_cpp:76:printStatistics] Stats::printStatistics enlapsed=0.0189971923828125 seconds\");\n"
      ],
      "text/plain": [
       "<IPython.core.display.Javascript object>"
      ]
     },
     "metadata": {},
     "output_type": "display_data"
    },
    {
     "data": {
      "application/javascript": [
       "console.log(\"[120208][INFO][openvisuspy.backend_cpp:74:createBoxQuery] begin timestep=2015 field=u logic_box=[[4132.214703059545, 4125.679490623783, 45], [6482.436806904276, 5590.858138600465, 46]] num_refinements=4 max_pixels=97984 endh=34\");\n"
      ],
      "text/plain": [
       "<IPython.core.display.Javascript object>"
      ]
     },
     "metadata": {},
     "output_type": "display_data"
    },
    {
     "data": {
      "application/javascript": [
       "console.log(\"[120208][INFO][openvisuspy.backend_cpp:109:createBoxQuery] Guess resolution endh=25 original_box=([4132, 4125, 45], [6483, 5591, 46]) aligned_box=([4128, 4120, 40], [6480, 5584, 41]) delta=[8, 8, 8] num_pixels=[294, 183, 1] tot_pixels=53,802 max_pixels=97,984 end=25\");\n"
      ],
      "text/plain": [
       "<IPython.core.display.Javascript object>"
      ]
     },
     "metadata": {},
     "output_type": "display_data"
    },
    {
     "data": {
      "application/javascript": [
       "console.log(\"[120208][INFO][openvisuspy.backend_cpp:138:beginBoxQuery] beginBoxQuery timestep=2015 field=u logic_box=[[4096, 4096, 0], [6464, 5568, 1]] end_resolutions=[16, 19, 22, 25]\");\n"
      ],
      "text/plain": [
       "<IPython.core.display.Javascript object>"
      ]
     },
     "metadata": {},
     "output_type": "display_data"
    },
    {
     "data": {
      "application/javascript": [
       "console.log(\"[120208][INFO][openvisuspy.slice:209:pushJobIfNeeded] pushing new job\");\n"
      ],
      "text/plain": [
       "<IPython.core.display.Javascript object>"
      ]
     },
     "metadata": {},
     "output_type": "display_data"
    },
    {
     "data": {
      "application/javascript": [
       "console.log(\"[120208][INFO][openvisuspy.backend_cpp:76:printStatistics] Stats::printStatistics enlapsed=0.03015589714050293 seconds\");\n"
      ],
      "text/plain": [
       "<IPython.core.display.Javascript object>"
      ]
     },
     "metadata": {},
     "output_type": "display_data"
    },
    {
     "data": {
      "application/javascript": [
       "console.log(\"[120208][INFO][openvisuspy.backend_cpp:74:createBoxQuery] begin timestep=2015 field=u logic_box=[[4102.5333676493365, 4217.42180007352, 45], [6452.755471494067, 5682.6004480502015, 46]] num_refinements=4 max_pixels=97984 endh=34\");\n"
      ],
      "text/plain": [
       "<IPython.core.display.Javascript object>"
      ]
     },
     "metadata": {},
     "output_type": "display_data"
    },
    {
     "data": {
      "application/javascript": [
       "console.log(\"[120208][INFO][openvisuspy.backend_cpp:109:createBoxQuery] Guess resolution endh=25 original_box=([4102, 4217, 45], [6453, 5683, 46]) aligned_box=([4096, 4216, 40], [6448, 5680, 41]) delta=[8, 8, 8] num_pixels=[294, 183, 1] tot_pixels=53,802 max_pixels=97,984 end=25\");\n"
      ],
      "text/plain": [
       "<IPython.core.display.Javascript object>"
      ]
     },
     "metadata": {},
     "output_type": "display_data"
    },
    {
     "data": {
      "application/javascript": [
       "console.log(\"[120208][INFO][openvisuspy.slice:209:pushJobIfNeeded] pushing new job\");\n"
      ],
      "text/plain": [
       "<IPython.core.display.Javascript object>"
      ]
     },
     "metadata": {},
     "output_type": "display_data"
    },
    {
     "data": {
      "application/javascript": [
       "console.log(\"[120208][INFO][openvisuspy.backend_cpp:138:beginBoxQuery] beginBoxQuery timestep=2015 field=u logic_box=[[4096, 4160, 0], [6400, 5632, 1]] end_resolutions=[16, 19, 22, 25]\");\n"
      ],
      "text/plain": [
       "<IPython.core.display.Javascript object>"
      ]
     },
     "metadata": {},
     "output_type": "display_data"
    },
    {
     "data": {
      "application/javascript": [
       "console.log(\"[120208][INFO][openvisuspy.backend_cpp:76:printStatistics] Stats::printStatistics enlapsed=0.017003297805786133 seconds\");\n"
      ],
      "text/plain": [
       "<IPython.core.display.Javascript object>"
      ]
     },
     "metadata": {},
     "output_type": "display_data"
    },
    {
     "data": {
      "application/javascript": [
       "console.log(\"[120208][INFO][openvisuspy.backend_cpp:74:createBoxQuery] begin timestep=2015 field=u logic_box=[[4091.7401547728964, 4247.103135483729, 45], [6441.962258617627, 5712.28178346041, 46]] num_refinements=4 max_pixels=97984 endh=34\");\n"
      ],
      "text/plain": [
       "<IPython.core.display.Javascript object>"
      ]
     },
     "metadata": {},
     "output_type": "display_data"
    },
    {
     "data": {
      "application/javascript": [
       "console.log(\"[120208][INFO][openvisuspy.backend_cpp:109:createBoxQuery] Guess resolution endh=25 original_box=([4091, 4247, 45], [6442, 5713, 46]) aligned_box=([4088, 4240, 40], [6440, 5712, 41]) delta=[8, 8, 8] num_pixels=[294, 184, 1] tot_pixels=54,096 max_pixels=97,984 end=25\");\n"
      ],
      "text/plain": [
       "<IPython.core.display.Javascript object>"
      ]
     },
     "metadata": {},
     "output_type": "display_data"
    },
    {
     "data": {
      "application/javascript": [
       "console.log(\"[120208][INFO][openvisuspy.backend_cpp:138:beginBoxQuery] beginBoxQuery timestep=2015 field=u logic_box=[[4032, 4224, 0], [6400, 5696, 1]] end_resolutions=[16, 19, 22, 25]\");\n"
      ],
      "text/plain": [
       "<IPython.core.display.Javascript object>"
      ]
     },
     "metadata": {},
     "output_type": "display_data"
    },
    {
     "data": {
      "application/javascript": [
       "console.log(\"[120208][INFO][openvisuspy.backend_cpp:168:returnBoxQueryData] got data 0/[16, 19, 22, 25] timestep=2015 field=u H=16 data.shape=(23, 37) data.dtype=float32 logic_box=[[4032, 4224, 0], [6400, 5696, 1]] m=-0.7856333255767822 M=0.9950410723686218 ms=18\");\n"
      ],
      "text/plain": [
       "<IPython.core.display.Javascript object>"
      ]
     },
     "metadata": {},
     "output_type": "display_data"
    },
    {
     "data": {
      "application/javascript": [
       "console.log(\"[120208][INFO][openvisuspy.slice:190:renderResultIfNeeded] Slice[6]::rendering result data.shape=(23, 37) data.dtype=float32 logic_box=[[4032, 4224, 0], [6400, 5696, 1]]\");\n"
      ],
      "text/plain": [
       "<IPython.core.display.Javascript object>"
      ]
     },
     "metadata": {},
     "output_type": "display_data"
    },
    {
     "data": {
      "application/javascript": [
       "console.log(\"[120208][INFO][openvisuspy.slice:209:pushJobIfNeeded] pushing new job\");\n"
      ],
      "text/plain": [
       "<IPython.core.display.Javascript object>"
      ]
     },
     "metadata": {},
     "output_type": "display_data"
    },
    {
     "data": {
      "application/javascript": [
       "console.log(\"[120208][INFO][openvisuspy.backend_cpp:76:printStatistics] Stats::printStatistics enlapsed=0.0500330924987793 seconds\");\n"
      ],
      "text/plain": [
       "<IPython.core.display.Javascript object>"
      ]
     },
     "metadata": {},
     "output_type": "display_data"
    },
    {
     "data": {
      "application/javascript": [
       "console.log(\"[120208][INFO][openvisuspy.backend_cpp:74:createBoxQuery] begin timestep=2015 field=u logic_box=[[4072.8520322391273, 4392.811509315664, 45], [6423.074136083859, 5857.9901572923445, 46]] num_refinements=4 max_pixels=97984 endh=34\");\n"
      ],
      "text/plain": [
       "<IPython.core.display.Javascript object>"
      ]
     },
     "metadata": {},
     "output_type": "display_data"
    },
    {
     "data": {
      "application/javascript": [
       "console.log(\"[120208][INFO][openvisuspy.backend_cpp:109:createBoxQuery] Guess resolution endh=25 original_box=([4072, 4392, 45], [6424, 5858, 46]) aligned_box=([4072, 4392, 40], [6424, 5856, 41]) delta=[8, 8, 8] num_pixels=[294, 183, 1] tot_pixels=53,802 max_pixels=97,984 end=25\");\n"
      ],
      "text/plain": [
       "<IPython.core.display.Javascript object>"
      ]
     },
     "metadata": {},
     "output_type": "display_data"
    },
    {
     "data": {
      "application/javascript": [
       "console.log(\"[120208][INFO][openvisuspy.backend_cpp:138:beginBoxQuery] beginBoxQuery timestep=2015 field=u logic_box=[[4032, 4352, 0], [6400, 5824, 1]] end_resolutions=[16, 19, 22, 25]\");\n"
      ],
      "text/plain": [
       "<IPython.core.display.Javascript object>"
      ]
     },
     "metadata": {},
     "output_type": "display_data"
    },
    {
     "data": {
      "application/javascript": [
       "console.log(\"[120208][INFO][openvisuspy.slice:209:pushJobIfNeeded] pushing new job\");\n"
      ],
      "text/plain": [
       "<IPython.core.display.Javascript object>"
      ]
     },
     "metadata": {},
     "output_type": "display_data"
    },
    {
     "data": {
      "application/javascript": [
       "console.log(\"[120208][INFO][openvisuspy.backend_cpp:76:printStatistics] Stats::printStatistics enlapsed=0.02996516227722168 seconds\");\n"
      ],
      "text/plain": [
       "<IPython.core.display.Javascript object>"
      ]
     },
     "metadata": {},
     "output_type": "display_data"
    },
    {
     "data": {
      "application/javascript": [
       "console.log(\"[120208][INFO][openvisuspy.backend_cpp:74:createBoxQuery] begin timestep=2015 field=u logic_box=[[4064.7571225817974, 4446.777573697862, 45], [6414.979226426529, 5911.956221674543, 46]] num_refinements=4 max_pixels=97984 endh=34\");\n"
      ],
      "text/plain": [
       "<IPython.core.display.Javascript object>"
      ]
     },
     "metadata": {},
     "output_type": "display_data"
    },
    {
     "data": {
      "application/javascript": [
       "console.log(\"[120208][INFO][openvisuspy.backend_cpp:109:createBoxQuery] Guess resolution endh=25 original_box=([4064, 4446, 45], [6415, 5912, 46]) aligned_box=([4064, 4440, 40], [6408, 5912, 41]) delta=[8, 8, 8] num_pixels=[293, 184, 1] tot_pixels=53,912 max_pixels=97,984 end=25\");\n"
      ],
      "text/plain": [
       "<IPython.core.display.Javascript object>"
      ]
     },
     "metadata": {},
     "output_type": "display_data"
    },
    {
     "data": {
      "application/javascript": [
       "console.log(\"[120208][INFO][openvisuspy.slice:209:pushJobIfNeeded] pushing new job\");\n"
      ],
      "text/plain": [
       "<IPython.core.display.Javascript object>"
      ]
     },
     "metadata": {},
     "output_type": "display_data"
    },
    {
     "data": {
      "application/javascript": [
       "console.log(\"[120208][INFO][openvisuspy.backend_cpp:138:beginBoxQuery] beginBoxQuery timestep=2015 field=u logic_box=[[4032, 4416, 0], [6400, 5888, 1]] end_resolutions=[16, 19, 22, 25]\");\n"
      ],
      "text/plain": [
       "<IPython.core.display.Javascript object>"
      ]
     },
     "metadata": {},
     "output_type": "display_data"
    },
    {
     "data": {
      "application/javascript": [
       "console.log(\"[120208][INFO][openvisuspy.backend_cpp:76:printStatistics] Stats::printStatistics enlapsed=0.01796698570251465 seconds\");\n"
      ],
      "text/plain": [
       "<IPython.core.display.Javascript object>"
      ]
     },
     "metadata": {},
     "output_type": "display_data"
    },
    {
     "data": {
      "application/javascript": [
       "console.log(\"[120208][INFO][openvisuspy.backend_cpp:74:createBoxQuery] begin timestep=2015 field=u logic_box=[[4062.0588193626877, 4484.5538187654, 45], [6412.28092320742, 5949.732466742081, 46]] num_refinements=4 max_pixels=97984 endh=34\");\n"
      ],
      "text/plain": [
       "<IPython.core.display.Javascript object>"
      ]
     },
     "metadata": {},
     "output_type": "display_data"
    },
    {
     "data": {
      "application/javascript": [
       "console.log(\"[120208][INFO][openvisuspy.backend_cpp:109:createBoxQuery] Guess resolution endh=25 original_box=([4062, 4484, 45], [6413, 5950, 46]) aligned_box=([4056, 4480, 40], [6408, 5944, 41]) delta=[8, 8, 8] num_pixels=[294, 183, 1] tot_pixels=53,802 max_pixels=97,984 end=25\");\n"
      ],
      "text/plain": [
       "<IPython.core.display.Javascript object>"
      ]
     },
     "metadata": {},
     "output_type": "display_data"
    },
    {
     "data": {
      "application/javascript": [
       "console.log(\"[120208][INFO][openvisuspy.backend_cpp:138:beginBoxQuery] beginBoxQuery timestep=2015 field=u logic_box=[[4032, 4480, 0], [6400, 5888, 1]] end_resolutions=[16, 19, 22, 25]\");\n"
      ],
      "text/plain": [
       "<IPython.core.display.Javascript object>"
      ]
     },
     "metadata": {},
     "output_type": "display_data"
    },
    {
     "data": {
      "application/javascript": [
       "console.log(\"[120208][INFO][openvisuspy.slice:209:pushJobIfNeeded] pushing new job\");\n"
      ],
      "text/plain": [
       "<IPython.core.display.Javascript object>"
      ]
     },
     "metadata": {},
     "output_type": "display_data"
    },
    {
     "data": {
      "application/javascript": [
       "console.log(\"[120208][INFO][openvisuspy.backend_cpp:76:printStatistics] Stats::printStatistics enlapsed=0.02954888343811035 seconds\");\n"
      ],
      "text/plain": [
       "<IPython.core.display.Javascript object>"
      ]
     },
     "metadata": {},
     "output_type": "display_data"
    },
    {
     "data": {
      "application/javascript": [
       "console.log(\"[120208][INFO][openvisuspy.backend_cpp:74:createBoxQuery] begin timestep=2015 field=u logic_box=[[4053.9639097053578, 4514.23515417561, 45], [6404.186013550089, 5979.41380215229, 46]] num_refinements=4 max_pixels=97984 endh=34\");\n"
      ],
      "text/plain": [
       "<IPython.core.display.Javascript object>"
      ]
     },
     "metadata": {},
     "output_type": "display_data"
    },
    {
     "data": {
      "application/javascript": [
       "console.log(\"[120208][INFO][openvisuspy.backend_cpp:109:createBoxQuery] Guess resolution endh=25 original_box=([4053, 4514, 45], [6405, 5980, 46]) aligned_box=([4048, 4512, 40], [6400, 5976, 41]) delta=[8, 8, 8] num_pixels=[294, 183, 1] tot_pixels=53,802 max_pixels=97,984 end=25\");\n"
      ],
      "text/plain": [
       "<IPython.core.display.Javascript object>"
      ]
     },
     "metadata": {},
     "output_type": "display_data"
    },
    {
     "data": {
      "application/javascript": [
       "console.log(\"[120208][INFO][openvisuspy.backend_cpp:138:beginBoxQuery] beginBoxQuery timestep=2015 field=u logic_box=[[4032, 4480, 0], [6400, 5952, 1]] end_resolutions=[16, 19, 22, 25]\");\n"
      ],
      "text/plain": [
       "<IPython.core.display.Javascript object>"
      ]
     },
     "metadata": {},
     "output_type": "display_data"
    },
    {
     "data": {
      "application/javascript": [
       "console.log(\"[120208][INFO][openvisuspy.slice:209:pushJobIfNeeded] pushing new job\");\n"
      ],
      "text/plain": [
       "<IPython.core.display.Javascript object>"
      ]
     },
     "metadata": {},
     "output_type": "display_data"
    },
    {
     "data": {
      "application/javascript": [
       "console.log(\"[120208][INFO][openvisuspy.backend_cpp:76:printStatistics] Stats::printStatistics enlapsed=0.030002355575561523 seconds\");\n"
      ],
      "text/plain": [
       "<IPython.core.display.Javascript object>"
      ]
     },
     "metadata": {},
     "output_type": "display_data"
    },
    {
     "data": {
      "application/javascript": [
       "console.log(\"[120208][INFO][openvisuspy.backend_cpp:74:createBoxQuery] begin timestep=2015 field=u logic_box=[[4051.265606486248, 4525.028367052049, 45], [6401.487710330979, 5990.20701502873, 46]] num_refinements=4 max_pixels=97984 endh=34\");\n"
      ],
      "text/plain": [
       "<IPython.core.display.Javascript object>"
      ]
     },
     "metadata": {},
     "output_type": "display_data"
    },
    {
     "data": {
      "application/javascript": [
       "console.log(\"[120208][INFO][openvisuspy.backend_cpp:109:createBoxQuery] Guess resolution endh=25 original_box=([4051, 4525, 45], [6402, 5991, 46]) aligned_box=([4048, 4520, 40], [6400, 5984, 41]) delta=[8, 8, 8] num_pixels=[294, 183, 1] tot_pixels=53,802 max_pixels=97,984 end=25\");\n"
      ],
      "text/plain": [
       "<IPython.core.display.Javascript object>"
      ]
     },
     "metadata": {},
     "output_type": "display_data"
    },
    {
     "data": {
      "application/javascript": [
       "console.log(\"[120208][INFO][openvisuspy.slice:209:pushJobIfNeeded] pushing new job\");\n"
      ],
      "text/plain": [
       "<IPython.core.display.Javascript object>"
      ]
     },
     "metadata": {},
     "output_type": "display_data"
    },
    {
     "data": {
      "application/javascript": [
       "console.log(\"[120208][INFO][openvisuspy.backend_cpp:138:beginBoxQuery] beginBoxQuery timestep=2015 field=u logic_box=[[4032, 4480, 0], [6400, 5952, 1]] end_resolutions=[16, 19, 22, 25]\");\n"
      ],
      "text/plain": [
       "<IPython.core.display.Javascript object>"
      ]
     },
     "metadata": {},
     "output_type": "display_data"
    },
    {
     "data": {
      "application/javascript": [
       "console.log(\"[120208][INFO][openvisuspy.backend_cpp:76:printStatistics] Stats::printStatistics enlapsed=0.018039703369140625 seconds\");\n"
      ],
      "text/plain": [
       "<IPython.core.display.Javascript object>"
      ]
     },
     "metadata": {},
     "output_type": "display_data"
    },
    {
     "data": {
      "application/javascript": [
       "console.log(\"[120208][INFO][openvisuspy.backend_cpp:74:createBoxQuery] begin timestep=2015 field=u logic_box=[[4051.265606486248, 4533.123276709379, 45], [6401.487710330979, 5998.3019246860595, 46]] num_refinements=4 max_pixels=97984 endh=34\");\n"
      ],
      "text/plain": [
       "<IPython.core.display.Javascript object>"
      ]
     },
     "metadata": {},
     "output_type": "display_data"
    },
    {
     "data": {
      "application/javascript": [
       "console.log(\"[120208][INFO][openvisuspy.backend_cpp:109:createBoxQuery] Guess resolution endh=25 original_box=([4051, 4533, 45], [6402, 5999, 46]) aligned_box=([4048, 4528, 40], [6400, 5992, 41]) delta=[8, 8, 8] num_pixels=[294, 183, 1] tot_pixels=53,802 max_pixels=97,984 end=25\");\n"
      ],
      "text/plain": [
       "<IPython.core.display.Javascript object>"
      ]
     },
     "metadata": {},
     "output_type": "display_data"
    },
    {
     "data": {
      "application/javascript": [
       "console.log(\"[120208][INFO][openvisuspy.backend_cpp:138:beginBoxQuery] beginBoxQuery timestep=2015 field=u logic_box=[[4032, 4480, 0], [6400, 5952, 1]] end_resolutions=[16, 19, 22, 25]\");\n"
      ],
      "text/plain": [
       "<IPython.core.display.Javascript object>"
      ]
     },
     "metadata": {},
     "output_type": "display_data"
    },
    {
     "data": {
      "application/javascript": [
       "console.log(\"[120208][INFO][openvisuspy.backend_cpp:168:returnBoxQueryData] got data 0/[16, 19, 22, 25] timestep=2015 field=u H=16 data.shape=(23, 37) data.dtype=float32 logic_box=[[4032, 4480, 0], [6400, 5952, 1]] m=-0.8117637634277344 M=1.3544586896896362 ms=19\");\n"
      ],
      "text/plain": [
       "<IPython.core.display.Javascript object>"
      ]
     },
     "metadata": {},
     "output_type": "display_data"
    },
    {
     "data": {
      "application/javascript": [
       "console.log(\"[120208][INFO][openvisuspy.slice:209:pushJobIfNeeded] pushing new job\");\n"
      ],
      "text/plain": [
       "<IPython.core.display.Javascript object>"
      ]
     },
     "metadata": {},
     "output_type": "display_data"
    },
    {
     "data": {
      "application/javascript": [
       "console.log(\"[120208][INFO][openvisuspy.backend_cpp:76:printStatistics] Stats::printStatistics enlapsed=0.04771780967712402 seconds\");\n"
      ],
      "text/plain": [
       "<IPython.core.display.Javascript object>"
      ]
     },
     "metadata": {},
     "output_type": "display_data"
    },
    {
     "data": {
      "application/javascript": [
       "console.log(\"[120208][INFO][openvisuspy.slice:190:renderResultIfNeeded] Slice[6]::rendering result data.shape=(23, 37) data.dtype=float32 logic_box=[[4032, 4480, 0], [6400, 5952, 1]]\");\n"
      ],
      "text/plain": [
       "<IPython.core.display.Javascript object>"
      ]
     },
     "metadata": {},
     "output_type": "display_data"
    },
    {
     "data": {
      "application/javascript": [
       "console.log(\"[120208][INFO][openvisuspy.backend_cpp:74:createBoxQuery] begin timestep=2015 field=u logic_box=[[4051.265606486248, 4535.821579928489, 45], [6401.48771033098, 6001.00022790517, 46]] num_refinements=4 max_pixels=97984 endh=34\");\n"
      ],
      "text/plain": [
       "<IPython.core.display.Javascript object>"
      ]
     },
     "metadata": {},
     "output_type": "display_data"
    },
    {
     "data": {
      "application/javascript": [
       "console.log(\"[120208][INFO][openvisuspy.slice:209:pushJobIfNeeded] pushing new job\");\n"
      ],
      "text/plain": [
       "<IPython.core.display.Javascript object>"
      ]
     },
     "metadata": {},
     "output_type": "display_data"
    },
    {
     "data": {
      "application/javascript": [
       "console.log(\"[120208][INFO][openvisuspy.backend_cpp:109:createBoxQuery] Guess resolution endh=25 original_box=([4051, 4535, 45], [6402, 6002, 46]) aligned_box=([4048, 4528, 40], [6400, 6000, 41]) delta=[8, 8, 8] num_pixels=[294, 184, 1] tot_pixels=54,096 max_pixels=97,984 end=25\");\n"
      ],
      "text/plain": [
       "<IPython.core.display.Javascript object>"
      ]
     },
     "metadata": {},
     "output_type": "display_data"
    },
    {
     "data": {
      "application/javascript": [
       "console.log(\"[120208][INFO][openvisuspy.backend_cpp:138:beginBoxQuery] beginBoxQuery timestep=2015 field=u logic_box=[[4032, 4480, 0], [6400, 5952, 1]] end_resolutions=[16, 19, 22, 25]\");\n"
      ],
      "text/plain": [
       "<IPython.core.display.Javascript object>"
      ]
     },
     "metadata": {},
     "output_type": "display_data"
    },
    {
     "data": {
      "application/javascript": [
       "console.log(\"[120208][INFO][openvisuspy.backend_cpp:76:printStatistics] Stats::printStatistics enlapsed=0.019058942794799805 seconds\");\n"
      ],
      "text/plain": [
       "<IPython.core.display.Javascript object>"
      ]
     },
     "metadata": {},
     "output_type": "display_data"
    },
    {
     "data": {
      "application/javascript": [
       "console.log(\"[120208][INFO][openvisuspy.backend_cpp:74:createBoxQuery] begin timestep=2015 field=u logic_box=[[4051.265606486248, 4535.821579928489, 45], [6401.487710330979, 6001.00022790517, 46]] num_refinements=4 max_pixels=97984 endh=34\");\n"
      ],
      "text/plain": [
       "<IPython.core.display.Javascript object>"
      ]
     },
     "metadata": {},
     "output_type": "display_data"
    },
    {
     "data": {
      "application/javascript": [
       "console.log(\"[120208][INFO][openvisuspy.backend_cpp:109:createBoxQuery] Guess resolution endh=25 original_box=([4051, 4535, 45], [6402, 6002, 46]) aligned_box=([4048, 4528, 40], [6400, 6000, 41]) delta=[8, 8, 8] num_pixels=[294, 184, 1] tot_pixels=54,096 max_pixels=97,984 end=25\");\n"
      ],
      "text/plain": [
       "<IPython.core.display.Javascript object>"
      ]
     },
     "metadata": {},
     "output_type": "display_data"
    },
    {
     "data": {
      "application/javascript": [
       "console.log(\"[120208][INFO][openvisuspy.backend_cpp:138:beginBoxQuery] beginBoxQuery timestep=2015 field=u logic_box=[[4032, 4480, 0], [6400, 5952, 1]] end_resolutions=[16, 19, 22, 25]\");\n"
      ],
      "text/plain": [
       "<IPython.core.display.Javascript object>"
      ]
     },
     "metadata": {},
     "output_type": "display_data"
    },
    {
     "data": {
      "application/javascript": [
       "console.log(\"[120208][INFO][openvisuspy.backend_cpp:168:returnBoxQueryData] got data 0/[16, 19, 22, 25] timestep=2015 field=u H=16 data.shape=(23, 37) data.dtype=float32 logic_box=[[4032, 4480, 0], [6400, 5952, 1]] m=-0.8117637634277344 M=1.3544586896896362 ms=19\");\n"
      ],
      "text/plain": [
       "<IPython.core.display.Javascript object>"
      ]
     },
     "metadata": {},
     "output_type": "display_data"
    },
    {
     "data": {
      "application/javascript": [
       "console.log(\"[120208][INFO][openvisuspy.slice:190:renderResultIfNeeded] Slice[6]::rendering result data.shape=(23, 37) data.dtype=float32 logic_box=[[4032, 4480, 0], [6400, 5952, 1]]\");\n"
      ],
      "text/plain": [
       "<IPython.core.display.Javascript object>"
      ]
     },
     "metadata": {},
     "output_type": "display_data"
    },
    {
     "data": {
      "application/javascript": [
       "console.log(\"[120208][INFO][openvisuspy.backend_cpp:168:returnBoxQueryData] got data 1/[16, 19, 22, 25] timestep=2015 field=u H=19 data.shape=(46, 74) data.dtype=float32 logic_box=[[4032, 4480, 0], [6400, 5952, 1]] m=-1.076973795890808 M=2.170684337615967 ms=38\");\n"
      ],
      "text/plain": [
       "<IPython.core.display.Javascript object>"
      ]
     },
     "metadata": {},
     "output_type": "display_data"
    },
    {
     "data": {
      "application/javascript": [
       "console.log(\"[120208][INFO][openvisuspy.slice:190:renderResultIfNeeded] Slice[6]::rendering result data.shape=(46, 74) data.dtype=float32 logic_box=[[4032, 4480, 0], [6400, 5952, 1]]\");\n"
      ],
      "text/plain": [
       "<IPython.core.display.Javascript object>"
      ]
     },
     "metadata": {},
     "output_type": "display_data"
    },
    {
     "data": {
      "application/javascript": [
       "console.log(\"[120208][INFO][openvisuspy.backend_cpp:168:returnBoxQueryData] got data 2/[16, 19, 22, 25] timestep=2015 field=u H=22 data.shape=(92, 148) data.dtype=float32 logic_box=[[4032, 4480, 0], [6400, 5952, 1]] m=-1.8077391386032104 M=3.598616600036621 ms=73\");\n"
      ],
      "text/plain": [
       "<IPython.core.display.Javascript object>"
      ]
     },
     "metadata": {},
     "output_type": "display_data"
    },
    {
     "data": {
      "application/javascript": [
       "console.log(\"[120208][INFO][openvisuspy.slice:190:renderResultIfNeeded] Slice[6]::rendering result data.shape=(92, 148) data.dtype=float32 logic_box=[[4032, 4480, 0], [6400, 5952, 1]]\");\n"
      ],
      "text/plain": [
       "<IPython.core.display.Javascript object>"
      ]
     },
     "metadata": {},
     "output_type": "display_data"
    },
    {
     "data": {
      "application/javascript": [
       "console.log(\"[120208][INFO][openvisuspy.backend_cpp:168:returnBoxQueryData] got data 3/[16, 19, 22, 25] timestep=2015 field=u H=25 data.shape=(184, 296) data.dtype=float32 logic_box=[[4032, 4480, 0], [6400, 5952, 1]] m=-3.3751566410064697 M=5.847737789154053 ms=143\");\n"
      ],
      "text/plain": [
       "<IPython.core.display.Javascript object>"
      ]
     },
     "metadata": {},
     "output_type": "display_data"
    },
    {
     "data": {
      "application/javascript": [
       "console.log(\"[120208][INFO][openvisuspy.backend_cpp:76:printStatistics] Stats::printStatistics enlapsed=0.15665292739868164 seconds\");\n"
      ],
      "text/plain": [
       "<IPython.core.display.Javascript object>"
      ]
     },
     "metadata": {},
     "output_type": "display_data"
    },
    {
     "data": {
      "application/javascript": [
       "console.log(\"[120208][INFO][openvisuspy.slice:190:renderResultIfNeeded] Slice[6]::rendering result data.shape=(184, 296) data.dtype=float32 logic_box=[[4032, 4480, 0], [6400, 5952, 1]]\");\n"
      ],
      "text/plain": [
       "<IPython.core.display.Javascript object>"
      ]
     },
     "metadata": {},
     "output_type": "display_data"
    },
    {
     "data": {
      "application/javascript": [
       "console.log(\"[120211][INFO][openvisuspy.slice:209:pushJobIfNeeded] pushing new job\");\n"
      ],
      "text/plain": [
       "<IPython.core.display.Javascript object>"
      ]
     },
     "metadata": {},
     "output_type": "display_data"
    },
    {
     "data": {
      "application/javascript": [
       "console.log(\"[120212][INFO][openvisuspy.backend_cpp:74:createBoxQuery] begin timestep=2015 field=u logic_box=[[4287.577943097358, 4704.71147021835, 45], [6246.096362967967, 5925.693676865584, 46]] num_refinements=4 max_pixels=97984 endh=34\");\n"
      ],
      "text/plain": [
       "<IPython.core.display.Javascript object>"
      ]
     },
     "metadata": {},
     "output_type": "display_data"
    },
    {
     "data": {
      "application/javascript": [
       "console.log(\"[120212][INFO][openvisuspy.backend_cpp:109:createBoxQuery] Guess resolution endh=26 original_box=([4287, 4704, 45], [6247, 5926, 46]) aligned_box=([4284, 4704, 40], [6244, 5920, 41]) delta=[4, 8, 8] num_pixels=[490, 152, 1] tot_pixels=74,480 max_pixels=97,984 end=26\");\n"
      ],
      "text/plain": [
       "<IPython.core.display.Javascript object>"
      ]
     },
     "metadata": {},
     "output_type": "display_data"
    },
    {
     "data": {
      "application/javascript": [
       "console.log(\"[120212][INFO][openvisuspy.backend_cpp:138:beginBoxQuery] beginBoxQuery timestep=2015 field=u logic_box=[[4256, 4672, 0], [6240, 5888, 1]] end_resolutions=[17, 20, 23, 26]\");\n"
      ],
      "text/plain": [
       "<IPython.core.display.Javascript object>"
      ]
     },
     "metadata": {},
     "output_type": "display_data"
    },
    {
     "data": {
      "application/javascript": [
       "console.log(\"[120212][INFO][openvisuspy.backend_cpp:168:returnBoxQueryData] got data 0/[17, 20, 23, 26] timestep=2015 field=u H=17 data.shape=(19, 62) data.dtype=float32 logic_box=[[4256, 4672, 0], [6240, 5888, 1]] m=-1.076973795890808 M=2.0182831287384033 ms=19\");\n"
      ],
      "text/plain": [
       "<IPython.core.display.Javascript object>"
      ]
     },
     "metadata": {},
     "output_type": "display_data"
    },
    {
     "data": {
      "application/javascript": [
       "console.log(\"[120212][INFO][openvisuspy.slice:190:renderResultIfNeeded] Slice[6]::rendering result data.shape=(19, 62) data.dtype=float32 logic_box=[[4256, 4672, 0], [6240, 5888, 1]]\");\n"
      ],
      "text/plain": [
       "<IPython.core.display.Javascript object>"
      ]
     },
     "metadata": {},
     "output_type": "display_data"
    },
    {
     "data": {
      "application/javascript": [
       "console.log(\"[120212][INFO][openvisuspy.backend_cpp:168:returnBoxQueryData] got data 1/[17, 20, 23, 26] timestep=2015 field=u H=20 data.shape=(38, 124) data.dtype=float32 logic_box=[[4256, 4672, 0], [6240, 5888, 1]] m=-1.8077391386032104 M=3.1127405166625977 ms=40\");\n"
      ],
      "text/plain": [
       "<IPython.core.display.Javascript object>"
      ]
     },
     "metadata": {},
     "output_type": "display_data"
    },
    {
     "data": {
      "application/javascript": [
       "console.log(\"[120212][INFO][openvisuspy.slice:190:renderResultIfNeeded] Slice[6]::rendering result data.shape=(38, 124) data.dtype=float32 logic_box=[[4256, 4672, 0], [6240, 5888, 1]]\");\n"
      ],
      "text/plain": [
       "<IPython.core.display.Javascript object>"
      ]
     },
     "metadata": {},
     "output_type": "display_data"
    },
    {
     "data": {
      "application/javascript": [
       "console.log(\"[120212][INFO][openvisuspy.slice:209:pushJobIfNeeded] pushing new job\");\n"
      ],
      "text/plain": [
       "<IPython.core.display.Javascript object>"
      ]
     },
     "metadata": {},
     "output_type": "display_data"
    },
    {
     "data": {
      "application/javascript": [
       "console.log(\"[120212][INFO][openvisuspy.backend_cpp:76:printStatistics] Stats::printStatistics enlapsed=0.08526206016540527 seconds\");\n"
      ],
      "text/plain": [
       "<IPython.core.display.Javascript object>"
      ]
     },
     "metadata": {},
     "output_type": "display_data"
    },
    {
     "data": {
      "application/javascript": [
       "console.log(\"[120212][INFO][openvisuspy.backend_cpp:74:createBoxQuery] begin timestep=2015 field=u logic_box=[[4484.504890273282, 4704.71147021835, 45], [6116.60357349879, 5925.693676865584, 46]] num_refinements=4 max_pixels=97984 endh=34\");\n"
      ],
      "text/plain": [
       "<IPython.core.display.Javascript object>"
      ]
     },
     "metadata": {},
     "output_type": "display_data"
    },
    {
     "data": {
      "application/javascript": [
       "console.log(\"[120212][INFO][openvisuspy.backend_cpp:109:createBoxQuery] Guess resolution endh=26 original_box=([4484, 4704, 45], [6117, 5926, 46]) aligned_box=([4484, 4704, 40], [6116, 5920, 41]) delta=[4, 8, 8] num_pixels=[408, 152, 1] tot_pixels=62,016 max_pixels=97,984 end=26\");\n"
      ],
      "text/plain": [
       "<IPython.core.display.Javascript object>"
      ]
     },
     "metadata": {},
     "output_type": "display_data"
    },
    {
     "data": {
      "application/javascript": [
       "console.log(\"[120212][INFO][openvisuspy.backend_cpp:138:beginBoxQuery] beginBoxQuery timestep=2015 field=u logic_box=[[4480, 4672, 0], [6112, 5888, 1]] end_resolutions=[17, 20, 23, 26]\");\n"
      ],
      "text/plain": [
       "<IPython.core.display.Javascript object>"
      ]
     },
     "metadata": {},
     "output_type": "display_data"
    },
    {
     "data": {
      "application/javascript": [
       "console.log(\"[120212][INFO][openvisuspy.backend_cpp:168:returnBoxQueryData] got data 0/[17, 20, 23, 26] timestep=2015 field=u H=17 data.shape=(19, 51) data.dtype=float32 logic_box=[[4480, 4672, 0], [6112, 5888, 1]] m=-1.076973795890808 M=2.0182831287384033 ms=19\");\n"
      ],
      "text/plain": [
       "<IPython.core.display.Javascript object>"
      ]
     },
     "metadata": {},
     "output_type": "display_data"
    },
    {
     "data": {
      "application/javascript": [
       "console.log(\"[120212][INFO][openvisuspy.slice:209:pushJobIfNeeded] pushing new job\");\n"
      ],
      "text/plain": [
       "<IPython.core.display.Javascript object>"
      ]
     },
     "metadata": {},
     "output_type": "display_data"
    },
    {
     "data": {
      "application/javascript": [
       "console.log(\"[120212][INFO][openvisuspy.backend_cpp:76:printStatistics] Stats::printStatistics enlapsed=0.05002546310424805 seconds\");\n"
      ],
      "text/plain": [
       "<IPython.core.display.Javascript object>"
      ]
     },
     "metadata": {},
     "output_type": "display_data"
    },
    {
     "data": {
      "application/javascript": [
       "console.log(\"[120212][INFO][openvisuspy.backend_cpp:74:createBoxQuery] begin timestep=2015 field=u logic_box=[[4484.504890273282, 4845.453045459902, 45], [6116.60357349879, 5862.93821766593, 46]] num_refinements=4 max_pixels=97984 endh=34\");\n"
      ],
      "text/plain": [
       "<IPython.core.display.Javascript object>"
      ]
     },
     "metadata": {},
     "output_type": "display_data"
    },
    {
     "data": {
      "application/javascript": [
       "console.log(\"[120212][INFO][openvisuspy.backend_cpp:109:createBoxQuery] Guess resolution endh=26 original_box=([4484, 4845, 45], [6117, 5863, 46]) aligned_box=([4484, 4840, 40], [6116, 5856, 41]) delta=[4, 8, 8] num_pixels=[408, 127, 1] tot_pixels=51,816 max_pixels=97,984 end=26\");\n"
      ],
      "text/plain": [
       "<IPython.core.display.Javascript object>"
      ]
     },
     "metadata": {},
     "output_type": "display_data"
    },
    {
     "data": {
      "application/javascript": [
       "console.log(\"[120212][INFO][openvisuspy.backend_cpp:138:beginBoxQuery] beginBoxQuery timestep=2015 field=u logic_box=[[4480, 4800, 0], [6112, 5824, 1]] end_resolutions=[17, 20, 23, 26]\");\n"
      ],
      "text/plain": [
       "<IPython.core.display.Javascript object>"
      ]
     },
     "metadata": {},
     "output_type": "display_data"
    },
    {
     "data": {
      "application/javascript": [
       "console.log(\"[120212][INFO][openvisuspy.slice:190:renderResultIfNeeded] Slice[6]::rendering result data.shape=(19, 51) data.dtype=float32 logic_box=[[4480, 4672, 0], [6112, 5888, 1]]\");\n"
      ],
      "text/plain": [
       "<IPython.core.display.Javascript object>"
      ]
     },
     "metadata": {},
     "output_type": "display_data"
    },
    {
     "data": {
      "application/javascript": [
       "console.log(\"[120212][INFO][openvisuspy.backend_cpp:168:returnBoxQueryData] got data 0/[17, 20, 23, 26] timestep=2015 field=u H=17 data.shape=(16, 51) data.dtype=float32 logic_box=[[4480, 4800, 0], [6112, 5824, 1]] m=-1.076973795890808 M=1.7668108940124512 ms=20\");\n"
      ],
      "text/plain": [
       "<IPython.core.display.Javascript object>"
      ]
     },
     "metadata": {},
     "output_type": "display_data"
    },
    {
     "data": {
      "application/javascript": [
       "console.log(\"[120212][INFO][openvisuspy.backend_cpp:168:returnBoxQueryData] got data 1/[17, 20, 23, 26] timestep=2015 field=u H=20 data.shape=(32, 102) data.dtype=float32 logic_box=[[4480, 4800, 0], [6112, 5824, 1]] m=-1.076973795890808 M=3.1127405166625977 ms=40\");\n"
      ],
      "text/plain": [
       "<IPython.core.display.Javascript object>"
      ]
     },
     "metadata": {},
     "output_type": "display_data"
    },
    {
     "data": {
      "application/javascript": [
       "console.log(\"[120212][INFO][openvisuspy.slice:190:renderResultIfNeeded] Slice[6]::rendering result data.shape=(32, 102) data.dtype=float32 logic_box=[[4480, 4800, 0], [6112, 5824, 1]]\");\n"
      ],
      "text/plain": [
       "<IPython.core.display.Javascript object>"
      ]
     },
     "metadata": {},
     "output_type": "display_data"
    },
    {
     "data": {
      "application/javascript": [
       "console.log(\"[120212][INFO][openvisuspy.backend_cpp:168:returnBoxQueryData] got data 2/[17, 20, 23, 26] timestep=2015 field=u H=23 data.shape=(64, 204) data.dtype=float32 logic_box=[[4480, 4800, 0], [6112, 5824, 1]] m=-2.9559743404388428 M=4.76045036315918 ms=74\");\n"
      ],
      "text/plain": [
       "<IPython.core.display.Javascript object>"
      ]
     },
     "metadata": {},
     "output_type": "display_data"
    },
    {
     "data": {
      "application/javascript": [
       "console.log(\"[120212][INFO][openvisuspy.slice:190:renderResultIfNeeded] Slice[6]::rendering result data.shape=(64, 204) data.dtype=float32 logic_box=[[4480, 4800, 0], [6112, 5824, 1]]\");\n"
      ],
      "text/plain": [
       "<IPython.core.display.Javascript object>"
      ]
     },
     "metadata": {},
     "output_type": "display_data"
    },
    {
     "data": {
      "application/javascript": [
       "console.log(\"[120212][INFO][openvisuspy.backend_cpp:168:returnBoxQueryData] got data 3/[17, 20, 23, 26] timestep=2015 field=u H=26 data.shape=(128, 408) data.dtype=float32 logic_box=[[4480, 4800, 0], [6112, 5824, 1]] m=-4.867165565490723 M=5.847737789154053 ms=115\");\n"
      ],
      "text/plain": [
       "<IPython.core.display.Javascript object>"
      ]
     },
     "metadata": {},
     "output_type": "display_data"
    },
    {
     "data": {
      "application/javascript": [
       "console.log(\"[120212][INFO][openvisuspy.backend_cpp:76:printStatistics] Stats::printStatistics enlapsed=0.1267387866973877 seconds\");\n"
      ],
      "text/plain": [
       "<IPython.core.display.Javascript object>"
      ]
     },
     "metadata": {},
     "output_type": "display_data"
    },
    {
     "data": {
      "application/javascript": [
       "console.log(\"[120212][INFO][openvisuspy.slice:190:renderResultIfNeeded] Slice[6]::rendering result data.shape=(128, 408) data.dtype=float32 logic_box=[[4480, 4800, 0], [6112, 5824, 1]]\");\n"
      ],
      "text/plain": [
       "<IPython.core.display.Javascript object>"
      ]
     },
     "metadata": {},
     "output_type": "display_data"
    },
    {
     "data": {
      "application/javascript": [
       "console.log(\"[120212][INFO][openvisuspy.slice:209:pushJobIfNeeded] pushing new job\");\n"
      ],
      "text/plain": [
       "<IPython.core.display.Javascript object>"
      ]
     },
     "metadata": {},
     "output_type": "display_data"
    },
    {
     "data": {
      "application/javascript": [
       "console.log(\"[120212][INFO][openvisuspy.backend_cpp:74:createBoxQuery] begin timestep=2015 field=u logic_box=[[4320.399100960011, 4728.480703038599, 45], [6224.51423138977, 5915.546737278965, 46]] num_refinements=4 max_pixels=97984 endh=34\");\n"
      ],
      "text/plain": [
       "<IPython.core.display.Javascript object>"
      ]
     },
     "metadata": {},
     "output_type": "display_data"
    },
    {
     "data": {
      "application/javascript": [
       "console.log(\"[120212][INFO][openvisuspy.backend_cpp:109:createBoxQuery] Guess resolution endh=26 original_box=([4320, 4728, 45], [6225, 5916, 46]) aligned_box=([4320, 4728, 40], [6224, 5912, 41]) delta=[4, 8, 8] num_pixels=[476, 148, 1] tot_pixels=70,448 max_pixels=97,984 end=26\");\n"
      ],
      "text/plain": [
       "<IPython.core.display.Javascript object>"
      ]
     },
     "metadata": {},
     "output_type": "display_data"
    },
    {
     "data": {
      "application/javascript": [
       "console.log(\"[120212][INFO][openvisuspy.backend_cpp:138:beginBoxQuery] beginBoxQuery timestep=2015 field=u logic_box=[[4320, 4672, 0], [6208, 5888, 1]] end_resolutions=[17, 20, 23, 26]\");\n"
      ],
      "text/plain": [
       "<IPython.core.display.Javascript object>"
      ]
     },
     "metadata": {},
     "output_type": "display_data"
    },
    {
     "data": {
      "application/javascript": [
       "console.log(\"[120212][INFO][openvisuspy.backend_cpp:168:returnBoxQueryData] got data 0/[17, 20, 23, 26] timestep=2015 field=u H=17 data.shape=(19, 59) data.dtype=float32 logic_box=[[4320, 4672, 0], [6208, 5888, 1]] m=-1.076973795890808 M=2.0182831287384033 ms=19\");\n"
      ],
      "text/plain": [
       "<IPython.core.display.Javascript object>"
      ]
     },
     "metadata": {},
     "output_type": "display_data"
    },
    {
     "data": {
      "application/javascript": [
       "console.log(\"[120212][INFO][openvisuspy.backend_cpp:168:returnBoxQueryData] got data 1/[17, 20, 23, 26] timestep=2015 field=u H=20 data.shape=(38, 118) data.dtype=float32 logic_box=[[4320, 4672, 0], [6208, 5888, 1]] m=-1.8077391386032104 M=3.1127405166625977 ms=42\");\n"
      ],
      "text/plain": [
       "<IPython.core.display.Javascript object>"
      ]
     },
     "metadata": {},
     "output_type": "display_data"
    },
    {
     "data": {
      "application/javascript": [
       "console.log(\"[120212][INFO][openvisuspy.slice:190:renderResultIfNeeded] Slice[6]::rendering result data.shape=(38, 118) data.dtype=float32 logic_box=[[4320, 4672, 0], [6208, 5888, 1]]\");\n"
      ],
      "text/plain": [
       "<IPython.core.display.Javascript object>"
      ]
     },
     "metadata": {},
     "output_type": "display_data"
    },
    {
     "data": {
      "application/javascript": [
       "console.log(\"[120212][INFO][openvisuspy.slice:209:pushJobIfNeeded] pushing new job\");\n"
      ],
      "text/plain": [
       "<IPython.core.display.Javascript object>"
      ]
     },
     "metadata": {},
     "output_type": "display_data"
    },
    {
     "data": {
      "application/javascript": [
       "console.log(\"[120212][INFO][openvisuspy.backend_cpp:76:printStatistics] Stats::printStatistics enlapsed=0.0689847469329834 seconds\");\n"
      ],
      "text/plain": [
       "<IPython.core.display.Javascript object>"
      ]
     },
     "metadata": {},
     "output_type": "display_data"
    },
    {
     "data": {
      "application/javascript": [
       "console.log(\"[120212][INFO][openvisuspy.backend_cpp:139:_threadLoop] _threadLoop is Alive\");\n"
      ],
      "text/plain": [
       "<IPython.core.display.Javascript object>"
      ]
     },
     "metadata": {},
     "output_type": "display_data"
    },
    {
     "data": {
      "application/javascript": [
       "console.log(\"[120212][INFO][openvisuspy.backend_cpp:74:createBoxQuery] begin timestep=2015 field=u logic_box=[[4128.942346761196, 4593.106032860377, 45], [6350.409998929247, 5978.016406140804, 46]] num_refinements=4 max_pixels=97984 endh=34\");\n"
      ],
      "text/plain": [
       "<IPython.core.display.Javascript object>"
      ]
     },
     "metadata": {},
     "output_type": "display_data"
    },
    {
     "data": {
      "application/javascript": [
       "console.log(\"[120212][INFO][openvisuspy.backend_cpp:109:createBoxQuery] Guess resolution endh=26 original_box=([4128, 4593, 45], [6351, 5979, 46]) aligned_box=([4128, 4592, 40], [6348, 5976, 41]) delta=[4, 8, 8] num_pixels=[555, 173, 1] tot_pixels=96,015 max_pixels=97,984 end=26\");\n"
      ],
      "text/plain": [
       "<IPython.core.display.Javascript object>"
      ]
     },
     "metadata": {},
     "output_type": "display_data"
    },
    {
     "data": {
      "application/javascript": [
       "console.log(\"[120212][INFO][openvisuspy.backend_cpp:138:beginBoxQuery] beginBoxQuery timestep=2015 field=u logic_box=[[4128, 4544, 0], [6336, 5952, 1]] end_resolutions=[17, 20, 23, 26]\");\n"
      ],
      "text/plain": [
       "<IPython.core.display.Javascript object>"
      ]
     },
     "metadata": {},
     "output_type": "display_data"
    },
    {
     "data": {
      "application/javascript": [
       "console.log(\"[120212][INFO][openvisuspy.slice:209:pushJobIfNeeded] pushing new job\");\n"
      ],
      "text/plain": [
       "<IPython.core.display.Javascript object>"
      ]
     },
     "metadata": {},
     "output_type": "display_data"
    },
    {
     "data": {
      "application/javascript": [
       "console.log(\"[120212][INFO][openvisuspy.backend_cpp:168:returnBoxQueryData] got data 0/[17, 20, 23, 26] timestep=2015 field=u H=17 data.shape=(22, 69) data.dtype=float32 logic_box=[[4128, 4544, 0], [6336, 5952, 1]] m=-1.076973795890808 M=2.0182831287384033 ms=21\");\n"
      ],
      "text/plain": [
       "<IPython.core.display.Javascript object>"
      ]
     },
     "metadata": {},
     "output_type": "display_data"
    },
    {
     "data": {
      "application/javascript": [
       "console.log(\"[120212][INFO][openvisuspy.backend_cpp:76:printStatistics] Stats::printStatistics enlapsed=0.03471732139587402 seconds\");\n"
      ],
      "text/plain": [
       "<IPython.core.display.Javascript object>"
      ]
     },
     "metadata": {},
     "output_type": "display_data"
    },
    {
     "data": {
      "application/javascript": [
       "console.log(\"[120212][INFO][openvisuspy.backend_cpp:74:createBoxQuery] begin timestep=2015 field=u logic_box=[[3905.576133529244, 4435.168917652451, 45], [6497.2883943919705, 6050.897686479615, 46]] num_refinements=4 max_pixels=97984 endh=34\");\n"
      ],
      "text/plain": [
       "<IPython.core.display.Javascript object>"
      ]
     },
     "metadata": {},
     "output_type": "display_data"
    },
    {
     "data": {
      "application/javascript": [
       "console.log(\"[120212][INFO][openvisuspy.backend_cpp:109:createBoxQuery] Guess resolution endh=25 original_box=([3905, 4435, 45], [6498, 6051, 46]) aligned_box=([3904, 4432, 40], [6496, 6048, 41]) delta=[8, 8, 8] num_pixels=[324, 202, 1] tot_pixels=65,448 max_pixels=97,984 end=25\");\n"
      ],
      "text/plain": [
       "<IPython.core.display.Javascript object>"
      ]
     },
     "metadata": {},
     "output_type": "display_data"
    },
    {
     "data": {
      "application/javascript": [
       "console.log(\"[120212][INFO][openvisuspy.backend_cpp:138:beginBoxQuery] beginBoxQuery timestep=2015 field=u logic_box=[[3904, 4416, 0], [6464, 6016, 1]] end_resolutions=[16, 19, 22, 25]\");\n"
      ],
      "text/plain": [
       "<IPython.core.display.Javascript object>"
      ]
     },
     "metadata": {},
     "output_type": "display_data"
    },
    {
     "data": {
      "application/javascript": [
       "console.log(\"[120212][INFO][openvisuspy.backend_cpp:168:returnBoxQueryData] got data 0/[16, 19, 22, 25] timestep=2015 field=u H=16 data.shape=(25, 40) data.dtype=float32 logic_box=[[3904, 4416, 0], [6464, 6016, 1]] m=-1.0601310729980469 M=1.3544586896896362 ms=19\");\n"
      ],
      "text/plain": [
       "<IPython.core.display.Javascript object>"
      ]
     },
     "metadata": {},
     "output_type": "display_data"
    },
    {
     "data": {
      "application/javascript": [
       "console.log(\"[120212][INFO][openvisuspy.slice:190:renderResultIfNeeded] Slice[6]::rendering result data.shape=(25, 40) data.dtype=float32 logic_box=[[3904, 4416, 0], [6464, 6016, 1]]\");\n"
      ],
      "text/plain": [
       "<IPython.core.display.Javascript object>"
      ]
     },
     "metadata": {},
     "output_type": "display_data"
    },
    {
     "data": {
      "application/javascript": [
       "console.log(\"[120213][INFO][openvisuspy.backend_cpp:168:returnBoxQueryData] got data 1/[16, 19, 22, 25] timestep=2015 field=u H=19 data.shape=(50, 80) data.dtype=float32 logic_box=[[3904, 4416, 0], [6464, 6016, 1]] m=-1.076973795890808 M=2.170684337615967 ms=38\");\n"
      ],
      "text/plain": [
       "<IPython.core.display.Javascript object>"
      ]
     },
     "metadata": {},
     "output_type": "display_data"
    },
    {
     "data": {
      "application/javascript": [
       "console.log(\"[120213][INFO][openvisuspy.slice:190:renderResultIfNeeded] Slice[6]::rendering result data.shape=(50, 80) data.dtype=float32 logic_box=[[3904, 4416, 0], [6464, 6016, 1]]\");\n"
      ],
      "text/plain": [
       "<IPython.core.display.Javascript object>"
      ]
     },
     "metadata": {},
     "output_type": "display_data"
    },
    {
     "data": {
      "application/javascript": [
       "console.log(\"[120213][INFO][openvisuspy.backend_cpp:168:returnBoxQueryData] got data 2/[16, 19, 22, 25] timestep=2015 field=u H=22 data.shape=(100, 160) data.dtype=float32 logic_box=[[3904, 4416, 0], [6464, 6016, 1]] m=-1.8077391386032104 M=3.598616600036621 ms=73\");\n"
      ],
      "text/plain": [
       "<IPython.core.display.Javascript object>"
      ]
     },
     "metadata": {},
     "output_type": "display_data"
    },
    {
     "data": {
      "application/javascript": [
       "console.log(\"[120213][INFO][openvisuspy.slice:190:renderResultIfNeeded] Slice[6]::rendering result data.shape=(100, 160) data.dtype=float32 logic_box=[[3904, 4416, 0], [6464, 6016, 1]]\");\n"
      ],
      "text/plain": [
       "<IPython.core.display.Javascript object>"
      ]
     },
     "metadata": {},
     "output_type": "display_data"
    },
    {
     "data": {
      "application/javascript": [
       "console.log(\"[120213][INFO][openvisuspy.backend_cpp:168:returnBoxQueryData] got data 3/[16, 19, 22, 25] timestep=2015 field=u H=25 data.shape=(200, 320) data.dtype=float32 logic_box=[[3904, 4416, 0], [6464, 6016, 1]] m=-3.3751566410064697 M=5.847737789154053 ms=145\");\n"
      ],
      "text/plain": [
       "<IPython.core.display.Javascript object>"
      ]
     },
     "metadata": {},
     "output_type": "display_data"
    },
    {
     "data": {
      "application/javascript": [
       "console.log(\"[120213][INFO][openvisuspy.backend_cpp:76:printStatistics] Stats::printStatistics enlapsed=0.15704941749572754 seconds\");\n"
      ],
      "text/plain": [
       "<IPython.core.display.Javascript object>"
      ]
     },
     "metadata": {},
     "output_type": "display_data"
    },
    {
     "data": {
      "application/javascript": [
       "console.log(\"[120213][INFO][openvisuspy.slice:190:renderResultIfNeeded] Slice[6]::rendering result data.shape=(200, 320) data.dtype=float32 logic_box=[[3904, 4416, 0], [6464, 6016, 1]]\");\n"
      ],
      "text/plain": [
       "<IPython.core.display.Javascript object>"
      ]
     },
     "metadata": {},
     "output_type": "display_data"
    },
    {
     "data": {
      "application/javascript": [
       "console.log(\"[120213][INFO][openvisuspy.slice:209:pushJobIfNeeded] pushing new job\");\n"
      ],
      "text/plain": [
       "<IPython.core.display.Javascript object>"
      ]
     },
     "metadata": {},
     "output_type": "display_data"
    },
    {
     "data": {
      "application/javascript": [
       "console.log(\"[120213][INFO][openvisuspy.backend_cpp:74:createBoxQuery] begin timestep=2015 field=u logic_box=[[3941.2828466524966, 4435.168917652451, 45], [6532.995107515222, 6050.897686479615, 46]] num_refinements=4 max_pixels=97984 endh=34\");\n"
      ],
      "text/plain": [
       "<IPython.core.display.Javascript object>"
      ]
     },
     "metadata": {},
     "output_type": "display_data"
    },
    {
     "data": {
      "application/javascript": [
       "console.log(\"[120213][INFO][openvisuspy.backend_cpp:109:createBoxQuery] Guess resolution endh=25 original_box=([3941, 4435, 45], [6533, 6051, 46]) aligned_box=([3936, 4432, 40], [6528, 6048, 41]) delta=[8, 8, 8] num_pixels=[324, 202, 1] tot_pixels=65,448 max_pixels=97,984 end=25\");\n"
      ],
      "text/plain": [
       "<IPython.core.display.Javascript object>"
      ]
     },
     "metadata": {},
     "output_type": "display_data"
    },
    {
     "data": {
      "application/javascript": [
       "console.log(\"[120213][INFO][openvisuspy.backend_cpp:138:beginBoxQuery] beginBoxQuery timestep=2015 field=u logic_box=[[3904, 4416, 0], [6528, 6016, 1]] end_resolutions=[16, 19, 22, 25]\");\n"
      ],
      "text/plain": [
       "<IPython.core.display.Javascript object>"
      ]
     },
     "metadata": {},
     "output_type": "display_data"
    },
    {
     "data": {
      "application/javascript": [
       "console.log(\"[120213][INFO][openvisuspy.backend_cpp:168:returnBoxQueryData] got data 0/[16, 19, 22, 25] timestep=2015 field=u H=16 data.shape=(25, 41) data.dtype=float32 logic_box=[[3904, 4416, 0], [6528, 6016, 1]] m=-1.0601310729980469 M=1.3544586896896362 ms=19\");\n"
      ],
      "text/plain": [
       "<IPython.core.display.Javascript object>"
      ]
     },
     "metadata": {},
     "output_type": "display_data"
    },
    {
     "data": {
      "application/javascript": [
       "console.log(\"[120213][INFO][openvisuspy.slice:209:pushJobIfNeeded] pushing new job\");\n"
      ],
      "text/plain": [
       "<IPython.core.display.Javascript object>"
      ]
     },
     "metadata": {},
     "output_type": "display_data"
    },
    {
     "data": {
      "application/javascript": [
       "console.log(\"[120213][INFO][openvisuspy.backend_cpp:76:printStatistics] Stats::printStatistics enlapsed=0.04719209671020508 seconds\");\n"
      ],
      "text/plain": [
       "<IPython.core.display.Javascript object>"
      ]
     },
     "metadata": {},
     "output_type": "display_data"
    },
    {
     "data": {
      "application/javascript": [
       "console.log(\"[120213][INFO][openvisuspy.slice:190:renderResultIfNeeded] Slice[6]::rendering result data.shape=(25, 41) data.dtype=float32 logic_box=[[3904, 4416, 0], [6528, 6016, 1]]\");\n"
      ],
      "text/plain": [
       "<IPython.core.display.Javascript object>"
      ]
     },
     "metadata": {},
     "output_type": "display_data"
    },
    {
     "data": {
      "application/javascript": [
       "console.log(\"[120213][INFO][openvisuspy.backend_cpp:74:createBoxQuery] begin timestep=2015 field=u logic_box=[[4036.5007483145023, 4435.168917652451, 45], [6628.213009177229, 6050.897686479615, 46]] num_refinements=4 max_pixels=97984 endh=34\");\n"
      ],
      "text/plain": [
       "<IPython.core.display.Javascript object>"
      ]
     },
     "metadata": {},
     "output_type": "display_data"
    },
    {
     "data": {
      "application/javascript": [
       "console.log(\"[120213][INFO][openvisuspy.slice:209:pushJobIfNeeded] pushing new job\");\n"
      ],
      "text/plain": [
       "<IPython.core.display.Javascript object>"
      ]
     },
     "metadata": {},
     "output_type": "display_data"
    },
    {
     "data": {
      "application/javascript": [
       "console.log(\"[120213][INFO][openvisuspy.backend_cpp:109:createBoxQuery] Guess resolution endh=25 original_box=([4036, 4435, 45], [6629, 6051, 46]) aligned_box=([4032, 4432, 40], [6624, 6048, 41]) delta=[8, 8, 8] num_pixels=[324, 202, 1] tot_pixels=65,448 max_pixels=97,984 end=25\");\n"
      ],
      "text/plain": [
       "<IPython.core.display.Javascript object>"
      ]
     },
     "metadata": {},
     "output_type": "display_data"
    },
    {
     "data": {
      "application/javascript": [
       "console.log(\"[120213][INFO][openvisuspy.backend_cpp:138:beginBoxQuery] beginBoxQuery timestep=2015 field=u logic_box=[[4032, 4416, 0], [6592, 6016, 1]] end_resolutions=[16, 19, 22, 25]\");\n"
      ],
      "text/plain": [
       "<IPython.core.display.Javascript object>"
      ]
     },
     "metadata": {},
     "output_type": "display_data"
    },
    {
     "data": {
      "application/javascript": [
       "console.log(\"[120213][INFO][openvisuspy.backend_cpp:76:printStatistics] Stats::printStatistics enlapsed=0.01800060272216797 seconds\");\n"
      ],
      "text/plain": [
       "<IPython.core.display.Javascript object>"
      ]
     },
     "metadata": {},
     "output_type": "display_data"
    },
    {
     "data": {
      "application/javascript": [
       "console.log(\"[120213][INFO][openvisuspy.backend_cpp:74:createBoxQuery] begin timestep=2015 field=u logic_box=[[4131.7186499765085, 4435.168917652451, 45], [6723.4309108392345, 6050.897686479615, 46]] num_refinements=4 max_pixels=97984 endh=34\");\n"
      ],
      "text/plain": [
       "<IPython.core.display.Javascript object>"
      ]
     },
     "metadata": {},
     "output_type": "display_data"
    },
    {
     "data": {
      "application/javascript": [
       "console.log(\"[120213][INFO][openvisuspy.slice:209:pushJobIfNeeded] pushing new job\");\n"
      ],
      "text/plain": [
       "<IPython.core.display.Javascript object>"
      ]
     },
     "metadata": {},
     "output_type": "display_data"
    },
    {
     "data": {
      "application/javascript": [
       "console.log(\"[120213][INFO][openvisuspy.backend_cpp:109:createBoxQuery] Guess resolution endh=25 original_box=([4131, 4435, 45], [6724, 6051, 46]) aligned_box=([4128, 4432, 40], [6720, 6048, 41]) delta=[8, 8, 8] num_pixels=[324, 202, 1] tot_pixels=65,448 max_pixels=97,984 end=25\");\n"
      ],
      "text/plain": [
       "<IPython.core.display.Javascript object>"
      ]
     },
     "metadata": {},
     "output_type": "display_data"
    },
    {
     "data": {
      "application/javascript": [
       "console.log(\"[120213][INFO][openvisuspy.backend_cpp:138:beginBoxQuery] beginBoxQuery timestep=2015 field=u logic_box=[[4096, 4416, 0], [6720, 6016, 1]] end_resolutions=[16, 19, 22, 25]\");\n"
      ],
      "text/plain": [
       "<IPython.core.display.Javascript object>"
      ]
     },
     "metadata": {},
     "output_type": "display_data"
    },
    {
     "data": {
      "application/javascript": [
       "console.log(\"[120213][INFO][openvisuspy.backend_cpp:76:printStatistics] Stats::printStatistics enlapsed=0.015572309494018555 seconds\");\n"
      ],
      "text/plain": [
       "<IPython.core.display.Javascript object>"
      ]
     },
     "metadata": {},
     "output_type": "display_data"
    },
    {
     "data": {
      "application/javascript": [
       "console.log(\"[120213][INFO][openvisuspy.backend_cpp:74:createBoxQuery] begin timestep=2015 field=u logic_box=[[4223.960992211577, 4435.168917652451, 45], [6815.673253074303, 6050.897686479615, 46]] num_refinements=4 max_pixels=97984 endh=34\");\n"
      ],
      "text/plain": [
       "<IPython.core.display.Javascript object>"
      ]
     },
     "metadata": {},
     "output_type": "display_data"
    },
    {
     "data": {
      "application/javascript": [
       "console.log(\"[120213][INFO][openvisuspy.backend_cpp:109:createBoxQuery] Guess resolution endh=25 original_box=([4223, 4435, 45], [6816, 6051, 46]) aligned_box=([4216, 4432, 40], [6816, 6048, 41]) delta=[8, 8, 8] num_pixels=[325, 202, 1] tot_pixels=65,650 max_pixels=97,984 end=25\");\n"
      ],
      "text/plain": [
       "<IPython.core.display.Javascript object>"
      ]
     },
     "metadata": {},
     "output_type": "display_data"
    },
    {
     "data": {
      "application/javascript": [
       "console.log(\"[120213][INFO][openvisuspy.backend_cpp:138:beginBoxQuery] beginBoxQuery timestep=2015 field=u logic_box=[[4160, 4416, 0], [6784, 6016, 1]] end_resolutions=[16, 19, 22, 25]\");\n"
      ],
      "text/plain": [
       "<IPython.core.display.Javascript object>"
      ]
     },
     "metadata": {},
     "output_type": "display_data"
    },
    {
     "data": {
      "application/javascript": [
       "console.log(\"[120213][INFO][openvisuspy.slice:209:pushJobIfNeeded] pushing new job\");\n"
      ],
      "text/plain": [
       "<IPython.core.display.Javascript object>"
      ]
     },
     "metadata": {},
     "output_type": "display_data"
    },
    {
     "data": {
      "application/javascript": [
       "console.log(\"[120213][INFO][openvisuspy.backend_cpp:76:printStatistics] Stats::printStatistics enlapsed=0.03226184844970703 seconds\");\n"
      ],
      "text/plain": [
       "<IPython.core.display.Javascript object>"
      ]
     },
     "metadata": {},
     "output_type": "display_data"
    },
    {
     "data": {
      "application/javascript": [
       "console.log(\"[120213][INFO][openvisuspy.backend_cpp:74:createBoxQuery] begin timestep=2015 field=u logic_box=[[4417.372354962526, 4399.462204529198, 45], [7009.084615825251, 6015.1909733563625, 46]] num_refinements=4 max_pixels=97984 endh=34\");\n"
      ],
      "text/plain": [
       "<IPython.core.display.Javascript object>"
      ]
     },
     "metadata": {},
     "output_type": "display_data"
    },
    {
     "data": {
      "application/javascript": [
       "console.log(\"[120213][INFO][openvisuspy.backend_cpp:109:createBoxQuery] Guess resolution endh=25 original_box=([4417, 4399, 45], [7010, 6016, 46]) aligned_box=([4416, 4392, 40], [7008, 6016, 41]) delta=[8, 8, 8] num_pixels=[324, 203, 1] tot_pixels=65,772 max_pixels=97,984 end=25\");\n"
      ],
      "text/plain": [
       "<IPython.core.display.Javascript object>"
      ]
     },
     "metadata": {},
     "output_type": "display_data"
    },
    {
     "data": {
      "application/javascript": [
       "console.log(\"[120213][INFO][openvisuspy.slice:209:pushJobIfNeeded] pushing new job\");\n"
      ],
      "text/plain": [
       "<IPython.core.display.Javascript object>"
      ]
     },
     "metadata": {},
     "output_type": "display_data"
    },
    {
     "data": {
      "application/javascript": [
       "console.log(\"[120213][INFO][openvisuspy.backend_cpp:138:beginBoxQuery] beginBoxQuery timestep=2015 field=u logic_box=[[4416, 4352, 0], [6976, 6016, 1]] end_resolutions=[16, 19, 22, 25]\");\n"
      ],
      "text/plain": [
       "<IPython.core.display.Javascript object>"
      ]
     },
     "metadata": {},
     "output_type": "display_data"
    },
    {
     "data": {
      "application/javascript": [
       "console.log(\"[120213][INFO][openvisuspy.backend_cpp:76:printStatistics] Stats::printStatistics enlapsed=0.01825237274169922 seconds\");\n"
      ],
      "text/plain": [
       "<IPython.core.display.Javascript object>"
      ]
     },
     "metadata": {},
     "output_type": "display_data"
    },
    {
     "data": {
      "application/javascript": [
       "console.log(\"[120213][INFO][openvisuspy.backend_cpp:74:createBoxQuery] begin timestep=2015 field=u logic_box=[[4479.859102928217, 4378.633288540634, 45], [7071.571363790942, 5994.362057367798, 46]] num_refinements=4 max_pixels=97984 endh=34\");\n"
      ],
      "text/plain": [
       "<IPython.core.display.Javascript object>"
      ]
     },
     "metadata": {},
     "output_type": "display_data"
    },
    {
     "data": {
      "application/javascript": [
       "console.log(\"[120213][INFO][openvisuspy.backend_cpp:109:createBoxQuery] Guess resolution endh=25 original_box=([4479, 4378, 45], [7072, 5995, 46]) aligned_box=([4472, 4376, 40], [7072, 5992, 41]) delta=[8, 8, 8] num_pixels=[325, 202, 1] tot_pixels=65,650 max_pixels=97,984 end=25\");\n"
      ],
      "text/plain": [
       "<IPython.core.display.Javascript object>"
      ]
     },
     "metadata": {},
     "output_type": "display_data"
    },
    {
     "data": {
      "application/javascript": [
       "console.log(\"[120213][INFO][openvisuspy.backend_cpp:138:beginBoxQuery] beginBoxQuery timestep=2015 field=u logic_box=[[4416, 4352, 0], [7040, 5952, 1]] end_resolutions=[16, 19, 22, 25]\");\n"
      ],
      "text/plain": [
       "<IPython.core.display.Javascript object>"
      ]
     },
     "metadata": {},
     "output_type": "display_data"
    },
    {
     "data": {
      "application/javascript": [
       "console.log(\"[120213][INFO][openvisuspy.slice:209:pushJobIfNeeded] pushing new job\");\n"
      ],
      "text/plain": [
       "<IPython.core.display.Javascript object>"
      ]
     },
     "metadata": {},
     "output_type": "display_data"
    },
    {
     "data": {
      "application/javascript": [
       "console.log(\"[120213][INFO][openvisuspy.backend_cpp:76:printStatistics] Stats::printStatistics enlapsed=0.032117605209350586 seconds\");\n"
      ],
      "text/plain": [
       "<IPython.core.display.Javascript object>"
      ]
     },
     "metadata": {},
     "output_type": "display_data"
    },
    {
     "data": {
      "application/javascript": [
       "console.log(\"[120213][INFO][openvisuspy.backend_cpp:74:createBoxQuery] begin timestep=2015 field=u logic_box=[[4542.345850893908, 4360.779931979007, 45], [7134.0581117566335, 5976.508700806172, 46]] num_refinements=4 max_pixels=97984 endh=34\");\n"
      ],
      "text/plain": [
       "<IPython.core.display.Javascript object>"
      ]
     },
     "metadata": {},
     "output_type": "display_data"
    },
    {
     "data": {
      "application/javascript": [
       "console.log(\"[120213][INFO][openvisuspy.backend_cpp:109:createBoxQuery] Guess resolution endh=25 original_box=([4542, 4360, 45], [7135, 5977, 46]) aligned_box=([4536, 4360, 40], [7128, 5976, 41]) delta=[8, 8, 8] num_pixels=[324, 202, 1] tot_pixels=65,448 max_pixels=97,984 end=25\");\n"
      ],
      "text/plain": [
       "<IPython.core.display.Javascript object>"
      ]
     },
     "metadata": {},
     "output_type": "display_data"
    },
    {
     "data": {
      "application/javascript": [
       "console.log(\"[120213][INFO][openvisuspy.backend_cpp:138:beginBoxQuery] beginBoxQuery timestep=2015 field=u logic_box=[[4480, 4352, 0], [7104, 5952, 1]] end_resolutions=[16, 19, 22, 25]\");\n"
      ],
      "text/plain": [
       "<IPython.core.display.Javascript object>"
      ]
     },
     "metadata": {},
     "output_type": "display_data"
    },
    {
     "data": {
      "application/javascript": [
       "console.log(\"[120213][INFO][openvisuspy.slice:209:pushJobIfNeeded] pushing new job\");\n"
      ],
      "text/plain": [
       "<IPython.core.display.Javascript object>"
      ]
     },
     "metadata": {},
     "output_type": "display_data"
    },
    {
     "data": {
      "application/javascript": [
       "console.log(\"[120213][INFO][openvisuspy.backend_cpp:76:printStatistics] Stats::printStatistics enlapsed=0.02927875518798828 seconds\");\n"
      ],
      "text/plain": [
       "<IPython.core.display.Javascript object>"
      ]
     },
     "metadata": {},
     "output_type": "display_data"
    },
    {
     "data": {
      "application/javascript": [
       "console.log(\"[120213][INFO][openvisuspy.backend_cpp:74:createBoxQuery] begin timestep=2015 field=u logic_box=[[4598.881480005724, 4354.828813125132, 45], [7190.59374086845, 5970.5575819522965, 46]] num_refinements=4 max_pixels=97984 endh=34\");\n"
      ],
      "text/plain": [
       "<IPython.core.display.Javascript object>"
      ]
     },
     "metadata": {},
     "output_type": "display_data"
    },
    {
     "data": {
      "application/javascript": [
       "console.log(\"[120213][INFO][openvisuspy.backend_cpp:109:createBoxQuery] Guess resolution endh=25 original_box=([4598, 4354, 45], [7191, 5971, 46]) aligned_box=([4592, 4352, 40], [7184, 5968, 41]) delta=[8, 8, 8] num_pixels=[324, 202, 1] tot_pixels=65,448 max_pixels=97,984 end=25\");\n"
      ],
      "text/plain": [
       "<IPython.core.display.Javascript object>"
      ]
     },
     "metadata": {},
     "output_type": "display_data"
    },
    {
     "data": {
      "application/javascript": [
       "console.log(\"[120213][INFO][openvisuspy.backend_cpp:138:beginBoxQuery] beginBoxQuery timestep=2015 field=u logic_box=[[4544, 4352, 0], [7168, 5952, 1]] end_resolutions=[16, 19, 22, 25]\");\n"
      ],
      "text/plain": [
       "<IPython.core.display.Javascript object>"
      ]
     },
     "metadata": {},
     "output_type": "display_data"
    },
    {
     "data": {
      "application/javascript": [
       "console.log(\"[120213][INFO][openvisuspy.backend_cpp:168:returnBoxQueryData] got data 0/[16, 19, 22, 25] timestep=2015 field=u H=16 data.shape=(25, 41) data.dtype=float32 logic_box=[[4544, 4352, 0], [7168, 5952, 1]] m=-1.7182023525238037 M=1.3544586896896362 ms=20\");\n"
      ],
      "text/plain": [
       "<IPython.core.display.Javascript object>"
      ]
     },
     "metadata": {},
     "output_type": "display_data"
    },
    {
     "data": {
      "application/javascript": [
       "console.log(\"[120214][INFO][openvisuspy.slice:190:renderResultIfNeeded] Slice[6]::rendering result data.shape=(25, 41) data.dtype=float32 logic_box=[[4544, 4352, 0], [7168, 5952, 1]]\");\n"
      ],
      "text/plain": [
       "<IPython.core.display.Javascript object>"
      ]
     },
     "metadata": {},
     "output_type": "display_data"
    },
    {
     "data": {
      "application/javascript": [
       "console.log(\"[120214][INFO][openvisuspy.slice:209:pushJobIfNeeded] pushing new job\");\n"
      ],
      "text/plain": [
       "<IPython.core.display.Javascript object>"
      ]
     },
     "metadata": {},
     "output_type": "display_data"
    },
    {
     "data": {
      "application/javascript": [
       "console.log(\"[120214][INFO][openvisuspy.backend_cpp:76:printStatistics] Stats::printStatistics enlapsed=0.05058693885803223 seconds\");\n"
      ],
      "text/plain": [
       "<IPython.core.display.Javascript object>"
      ]
     },
     "metadata": {},
     "output_type": "display_data"
    },
    {
     "data": {
      "application/javascript": [
       "console.log(\"[120214][INFO][openvisuspy.backend_cpp:74:createBoxQuery] begin timestep=2015 field=u logic_box=[[4622.685955421226, 4351.853253698194, 45], [7214.398216283952, 5967.582022525358, 46]] num_refinements=4 max_pixels=97984 endh=34\");\n"
      ],
      "text/plain": [
       "<IPython.core.display.Javascript object>"
      ]
     },
     "metadata": {},
     "output_type": "display_data"
    },
    {
     "data": {
      "application/javascript": [
       "console.log(\"[120214][INFO][openvisuspy.backend_cpp:109:createBoxQuery] Guess resolution endh=25 original_box=([4622, 4351, 45], [7215, 5968, 46]) aligned_box=([4616, 4344, 40], [7208, 5968, 41]) delta=[8, 8, 8] num_pixels=[324, 203, 1] tot_pixels=65,772 max_pixels=97,984 end=25\");\n"
      ],
      "text/plain": [
       "<IPython.core.display.Javascript object>"
      ]
     },
     "metadata": {},
     "output_type": "display_data"
    },
    {
     "data": {
      "application/javascript": [
       "console.log(\"[120214][INFO][openvisuspy.backend_cpp:138:beginBoxQuery] beginBoxQuery timestep=2015 field=u logic_box=[[4608, 4288, 0], [7168, 5952, 1]] end_resolutions=[16, 19, 22, 25]\");\n"
      ],
      "text/plain": [
       "<IPython.core.display.Javascript object>"
      ]
     },
     "metadata": {},
     "output_type": "display_data"
    },
    {
     "data": {
      "application/javascript": [
       "console.log(\"[120214][INFO][openvisuspy.backend_cpp:168:returnBoxQueryData] got data 0/[16, 19, 22, 25] timestep=2015 field=u H=16 data.shape=(26, 40) data.dtype=float32 logic_box=[[4608, 4288, 0], [7168, 5952, 1]] m=-1.7182023525238037 M=1.3544586896896362 ms=19\");\n"
      ],
      "text/plain": [
       "<IPython.core.display.Javascript object>"
      ]
     },
     "metadata": {},
     "output_type": "display_data"
    },
    {
     "data": {
      "application/javascript": [
       "console.log(\"[120214][INFO][openvisuspy.slice:190:renderResultIfNeeded] Slice[6]::rendering result data.shape=(26, 40) data.dtype=float32 logic_box=[[4608, 4288, 0], [7168, 5952, 1]]\");\n"
      ],
      "text/plain": [
       "<IPython.core.display.Javascript object>"
      ]
     },
     "metadata": {},
     "output_type": "display_data"
    },
    {
     "data": {
      "application/javascript": [
       "console.log(\"[120214][INFO][openvisuspy.backend_cpp:168:returnBoxQueryData] got data 1/[16, 19, 22, 25] timestep=2015 field=u H=19 data.shape=(52, 80) data.dtype=float32 logic_box=[[4608, 4288, 0], [7168, 5952, 1]] m=-1.7182023525238037 M=2.170684337615967 ms=40\");\n"
      ],
      "text/plain": [
       "<IPython.core.display.Javascript object>"
      ]
     },
     "metadata": {},
     "output_type": "display_data"
    },
    {
     "data": {
      "application/javascript": [
       "console.log(\"[120214][INFO][openvisuspy.backend_cpp:168:returnBoxQueryData] got data 2/[16, 19, 22, 25] timestep=2015 field=u H=22 data.shape=(104, 160) data.dtype=float32 logic_box=[[4608, 4288, 0], [7168, 5952, 1]] m=-1.8077391386032104 M=3.598616600036621 ms=78\");\n"
      ],
      "text/plain": [
       "<IPython.core.display.Javascript object>"
      ]
     },
     "metadata": {},
     "output_type": "display_data"
    },
    {
     "data": {
      "application/javascript": [
       "console.log(\"[120214][INFO][openvisuspy.slice:190:renderResultIfNeeded] Slice[6]::rendering result data.shape=(104, 160) data.dtype=float32 logic_box=[[4608, 4288, 0], [7168, 5952, 1]]\");\n"
      ],
      "text/plain": [
       "<IPython.core.display.Javascript object>"
      ]
     },
     "metadata": {},
     "output_type": "display_data"
    },
    {
     "data": {
      "application/javascript": [
       "console.log(\"[120214][INFO][openvisuspy.backend_cpp:168:returnBoxQueryData] got data 3/[16, 19, 22, 25] timestep=2015 field=u H=25 data.shape=(208, 320) data.dtype=float32 logic_box=[[4608, 4288, 0], [7168, 5952, 1]] m=-3.3751566410064697 M=5.847737789154053 ms=118\");\n"
      ],
      "text/plain": [
       "<IPython.core.display.Javascript object>"
      ]
     },
     "metadata": {},
     "output_type": "display_data"
    },
    {
     "data": {
      "application/javascript": [
       "console.log(\"[120214][INFO][openvisuspy.backend_cpp:76:printStatistics] Stats::printStatistics enlapsed=0.1309349536895752 seconds\");\n"
      ],
      "text/plain": [
       "<IPython.core.display.Javascript object>"
      ]
     },
     "metadata": {},
     "output_type": "display_data"
    },
    {
     "data": {
      "application/javascript": [
       "console.log(\"[120214][INFO][openvisuspy.slice:190:renderResultIfNeeded] Slice[6]::rendering result data.shape=(208, 320) data.dtype=float32 logic_box=[[4608, 4288, 0], [7168, 5952, 1]]\");\n"
      ],
      "text/plain": [
       "<IPython.core.display.Javascript object>"
      ]
     },
     "metadata": {},
     "output_type": "display_data"
    },
    {
     "data": {
      "application/javascript": [
       "console.log(\"[120214][INFO][openvisuspy.slice:209:pushJobIfNeeded] pushing new job\");\n"
      ],
      "text/plain": [
       "<IPython.core.display.Javascript object>"
      ]
     },
     "metadata": {},
     "output_type": "display_data"
    },
    {
     "data": {
      "application/javascript": [
       "console.log(\"[120214][INFO][openvisuspy.backend_cpp:74:createBoxQuery] begin timestep=2015 field=u logic_box=[[4708.977178802418, 4333.999897136568, 45], [7300.689439665144, 5949.728665963732, 46]] num_refinements=4 max_pixels=97984 endh=34\");\n"
      ],
      "text/plain": [
       "<IPython.core.display.Javascript object>"
      ]
     },
     "metadata": {},
     "output_type": "display_data"
    },
    {
     "data": {
      "application/javascript": [
       "console.log(\"[120214][INFO][openvisuspy.backend_cpp:109:createBoxQuery] Guess resolution endh=25 original_box=([4708, 4333, 45], [7301, 5950, 46]) aligned_box=([4704, 4328, 40], [7296, 5944, 41]) delta=[8, 8, 8] num_pixels=[324, 202, 1] tot_pixels=65,448 max_pixels=97,984 end=25\");\n"
      ],
      "text/plain": [
       "<IPython.core.display.Javascript object>"
      ]
     },
     "metadata": {},
     "output_type": "display_data"
    },
    {
     "data": {
      "application/javascript": [
       "console.log(\"[120214][INFO][openvisuspy.backend_cpp:138:beginBoxQuery] beginBoxQuery timestep=2015 field=u logic_box=[[4672, 4288, 0], [7296, 5888, 1]] end_resolutions=[16, 19, 22, 25]\");\n"
      ],
      "text/plain": [
       "<IPython.core.display.Javascript object>"
      ]
     },
     "metadata": {},
     "output_type": "display_data"
    },
    {
     "data": {
      "application/javascript": [
       "console.log(\"[120214][INFO][openvisuspy.backend_cpp:168:returnBoxQueryData] got data 0/[16, 19, 22, 25] timestep=2015 field=u H=16 data.shape=(25, 41) data.dtype=float32 logic_box=[[4672, 4288, 0], [7296, 5888, 1]] m=-1.7182023525238037 M=1.3544586896896362 ms=20\");\n"
      ],
      "text/plain": [
       "<IPython.core.display.Javascript object>"
      ]
     },
     "metadata": {},
     "output_type": "display_data"
    },
    {
     "data": {
      "application/javascript": [
       "console.log(\"[120214][INFO][openvisuspy.slice:209:pushJobIfNeeded] pushing new job\");\n"
      ],
      "text/plain": [
       "<IPython.core.display.Javascript object>"
      ]
     },
     "metadata": {},
     "output_type": "display_data"
    },
    {
     "data": {
      "application/javascript": [
       "console.log(\"[120214][INFO][openvisuspy.backend_cpp:76:printStatistics] Stats::printStatistics enlapsed=0.04987287521362305 seconds\");\n"
      ],
      "text/plain": [
       "<IPython.core.display.Javascript object>"
      ]
     },
     "metadata": {},
     "output_type": "display_data"
    },
    {
     "data": {
      "application/javascript": [
       "console.log(\"[120214][INFO][openvisuspy.backend_cpp:74:createBoxQuery] begin timestep=2015 field=u logic_box=[[4819.072877599112, 4304.2443028671905, 45], [7410.785138461839, 5919.973071694355, 46]] num_refinements=4 max_pixels=97984 endh=34\");\n"
      ],
      "text/plain": [
       "<IPython.core.display.Javascript object>"
      ]
     },
     "metadata": {},
     "output_type": "display_data"
    },
    {
     "data": {
      "application/javascript": [
       "console.log(\"[120214][INFO][openvisuspy.slice:190:renderResultIfNeeded] Slice[6]::rendering result data.shape=(25, 41) data.dtype=float32 logic_box=[[4672, 4288, 0], [7296, 5888, 1]]\");\n"
      ],
      "text/plain": [
       "<IPython.core.display.Javascript object>"
      ]
     },
     "metadata": {},
     "output_type": "display_data"
    },
    {
     "data": {
      "application/javascript": [
       "console.log(\"[120214][INFO][openvisuspy.backend_cpp:109:createBoxQuery] Guess resolution endh=25 original_box=([4819, 4304, 45], [7411, 5920, 46]) aligned_box=([4816, 4304, 40], [7408, 5920, 41]) delta=[8, 8, 8] num_pixels=[324, 202, 1] tot_pixels=65,448 max_pixels=97,984 end=25\");\n"
      ],
      "text/plain": [
       "<IPython.core.display.Javascript object>"
      ]
     },
     "metadata": {},
     "output_type": "display_data"
    },
    {
     "data": {
      "application/javascript": [
       "console.log(\"[120214][INFO][openvisuspy.slice:209:pushJobIfNeeded] pushing new job\");\n"
      ],
      "text/plain": [
       "<IPython.core.display.Javascript object>"
      ]
     },
     "metadata": {},
     "output_type": "display_data"
    },
    {
     "data": {
      "application/javascript": [
       "console.log(\"[120214][INFO][openvisuspy.backend_cpp:138:beginBoxQuery] beginBoxQuery timestep=2015 field=u logic_box=[[4800, 4288, 0], [7360, 5888, 1]] end_resolutions=[16, 19, 22, 25]\");\n"
      ],
      "text/plain": [
       "<IPython.core.display.Javascript object>"
      ]
     },
     "metadata": {},
     "output_type": "display_data"
    },
    {
     "data": {
      "application/javascript": [
       "console.log(\"[120214][INFO][openvisuspy.backend_cpp:76:printStatistics] Stats::printStatistics enlapsed=0.01902174949645996 seconds\");\n"
      ],
      "text/plain": [
       "<IPython.core.display.Javascript object>"
      ]
     },
     "metadata": {},
     "output_type": "display_data"
    },
    {
     "data": {
      "application/javascript": [
       "console.log(\"[120214][INFO][openvisuspy.backend_cpp:74:createBoxQuery] begin timestep=2015 field=u logic_box=[[4872.632947283991, 4304.2443028671905, 45], [7464.345208146717, 5919.973071694355, 46]] num_refinements=4 max_pixels=97984 endh=34\");\n"
      ],
      "text/plain": [
       "<IPython.core.display.Javascript object>"
      ]
     },
     "metadata": {},
     "output_type": "display_data"
    },
    {
     "data": {
      "application/javascript": [
       "console.log(\"[120214][INFO][openvisuspy.backend_cpp:109:createBoxQuery] Guess resolution endh=25 original_box=([4872, 4304, 45], [7465, 5920, 46]) aligned_box=([4872, 4304, 40], [7464, 5920, 41]) delta=[8, 8, 8] num_pixels=[324, 202, 1] tot_pixels=65,448 max_pixels=97,984 end=25\");\n"
      ],
      "text/plain": [
       "<IPython.core.display.Javascript object>"
      ]
     },
     "metadata": {},
     "output_type": "display_data"
    },
    {
     "data": {
      "application/javascript": [
       "console.log(\"[120214][INFO][openvisuspy.slice:209:pushJobIfNeeded] pushing new job\");\n"
      ],
      "text/plain": [
       "<IPython.core.display.Javascript object>"
      ]
     },
     "metadata": {},
     "output_type": "display_data"
    },
    {
     "data": {
      "application/javascript": [
       "console.log(\"[120214][INFO][openvisuspy.backend_cpp:138:beginBoxQuery] beginBoxQuery timestep=2015 field=u logic_box=[[4864, 4288, 0], [7424, 5888, 1]] end_resolutions=[16, 19, 22, 25]\");\n"
      ],
      "text/plain": [
       "<IPython.core.display.Javascript object>"
      ]
     },
     "metadata": {},
     "output_type": "display_data"
    },
    {
     "data": {
      "application/javascript": [
       "console.log(\"[120214][INFO][openvisuspy.backend_cpp:76:printStatistics] Stats::printStatistics enlapsed=0.016999244689941406 seconds\");\n"
      ],
      "text/plain": [
       "<IPython.core.display.Javascript object>"
      ]
     },
     "metadata": {},
     "output_type": "display_data"
    },
    {
     "data": {
      "application/javascript": [
       "console.log(\"[120214][INFO][openvisuspy.backend_cpp:74:createBoxQuery] begin timestep=2015 field=u logic_box=[[4926.193016968869, 4271.513149170876, 45], [7517.905277831595, 5887.241917998041, 46]] num_refinements=4 max_pixels=97984 endh=34\");\n"
      ],
      "text/plain": [
       "<IPython.core.display.Javascript object>"
      ]
     },
     "metadata": {},
     "output_type": "display_data"
    },
    {
     "data": {
      "application/javascript": [
       "console.log(\"[120214][INFO][openvisuspy.backend_cpp:109:createBoxQuery] Guess resolution endh=25 original_box=([4926, 4271, 45], [7518, 5888, 46]) aligned_box=([4920, 4264, 40], [7512, 5888, 41]) delta=[8, 8, 8] num_pixels=[324, 203, 1] tot_pixels=65,772 max_pixels=97,984 end=25\");\n"
      ],
      "text/plain": [
       "<IPython.core.display.Javascript object>"
      ]
     },
     "metadata": {},
     "output_type": "display_data"
    },
    {
     "data": {
      "application/javascript": [
       "console.log(\"[120214][INFO][openvisuspy.backend_cpp:138:beginBoxQuery] beginBoxQuery timestep=2015 field=u logic_box=[[4864, 4224, 0], [7488, 5888, 1]] end_resolutions=[16, 19, 22, 25]\");\n"
      ],
      "text/plain": [
       "<IPython.core.display.Javascript object>"
      ]
     },
     "metadata": {},
     "output_type": "display_data"
    },
    {
     "data": {
      "application/javascript": [
       "console.log(\"[120214][INFO][openvisuspy.slice:209:pushJobIfNeeded] pushing new job\");\n"
      ],
      "text/plain": [
       "<IPython.core.display.Javascript object>"
      ]
     },
     "metadata": {},
     "output_type": "display_data"
    },
    {
     "data": {
      "application/javascript": [
       "console.log(\"[120214][INFO][openvisuspy.backend_cpp:76:printStatistics] Stats::printStatistics enlapsed=0.031998634338378906 seconds\");\n"
      ],
      "text/plain": [
       "<IPython.core.display.Javascript object>"
      ]
     },
     "metadata": {},
     "output_type": "display_data"
    },
    {
     "data": {
      "application/javascript": [
       "console.log(\"[120214][INFO][openvisuspy.backend_cpp:74:createBoxQuery] begin timestep=2015 field=u logic_box=[[5069.019869461878, 4223.904198339872, 45], [7660.732130324604, 5839.632967167036, 46]] num_refinements=4 max_pixels=97984 endh=34\");\n"
      ],
      "text/plain": [
       "<IPython.core.display.Javascript object>"
      ]
     },
     "metadata": {},
     "output_type": "display_data"
    },
    {
     "data": {
      "application/javascript": [
       "console.log(\"[120214][INFO][openvisuspy.backend_cpp:109:createBoxQuery] Guess resolution endh=25 original_box=([5069, 4223, 45], [7661, 5840, 46]) aligned_box=([5064, 4216, 40], [7656, 5840, 41]) delta=[8, 8, 8] num_pixels=[324, 203, 1] tot_pixels=65,772 max_pixels=97,984 end=25\");\n"
      ],
      "text/plain": [
       "<IPython.core.display.Javascript object>"
      ]
     },
     "metadata": {},
     "output_type": "display_data"
    },
    {
     "data": {
      "application/javascript": [
       "console.log(\"[120214][INFO][openvisuspy.slice:209:pushJobIfNeeded] pushing new job\");\n"
      ],
      "text/plain": [
       "<IPython.core.display.Javascript object>"
      ]
     },
     "metadata": {},
     "output_type": "display_data"
    },
    {
     "data": {
      "application/javascript": [
       "console.log(\"[120214][INFO][openvisuspy.backend_cpp:138:beginBoxQuery] beginBoxQuery timestep=2015 field=u logic_box=[[5056, 4160, 0], [7616, 5824, 1]] end_resolutions=[16, 19, 22, 25]\");\n"
      ],
      "text/plain": [
       "<IPython.core.display.Javascript object>"
      ]
     },
     "metadata": {},
     "output_type": "display_data"
    },
    {
     "data": {
      "application/javascript": [
       "console.log(\"[120214][INFO][openvisuspy.backend_cpp:76:printStatistics] Stats::printStatistics enlapsed=0.019000768661499023 seconds\");\n"
      ],
      "text/plain": [
       "<IPython.core.display.Javascript object>"
      ]
     },
     "metadata": {},
     "output_type": "display_data"
    },
    {
     "data": {
      "application/javascript": [
       "console.log(\"[120214][INFO][openvisuspy.backend_cpp:74:createBoxQuery] begin timestep=2015 field=u logic_box=[[5173.164449404697, 4191.173044643558, 45], [7764.876710267424, 5806.901813470722, 46]] num_refinements=4 max_pixels=97984 endh=34\");\n"
      ],
      "text/plain": [
       "<IPython.core.display.Javascript object>"
      ]
     },
     "metadata": {},
     "output_type": "display_data"
    },
    {
     "data": {
      "application/javascript": [
       "console.log(\"[120214][INFO][openvisuspy.backend_cpp:109:createBoxQuery] Guess resolution endh=25 original_box=([5173, 4191, 45], [7765, 5807, 46]) aligned_box=([5168, 4184, 40], [7760, 5800, 41]) delta=[8, 8, 8] num_pixels=[324, 202, 1] tot_pixels=65,448 max_pixels=97,984 end=25\");\n"
      ],
      "text/plain": [
       "<IPython.core.display.Javascript object>"
      ]
     },
     "metadata": {},
     "output_type": "display_data"
    },
    {
     "data": {
      "application/javascript": [
       "console.log(\"[120214][INFO][openvisuspy.backend_cpp:138:beginBoxQuery] beginBoxQuery timestep=2015 field=u logic_box=[[5120, 4160, 0], [7744, 5760, 1]] end_resolutions=[16, 19, 22, 25]\");\n"
      ],
      "text/plain": [
       "<IPython.core.display.Javascript object>"
      ]
     },
     "metadata": {},
     "output_type": "display_data"
    },
    {
     "data": {
      "application/javascript": [
       "console.log(\"[120214][INFO][openvisuspy.slice:209:pushJobIfNeeded] pushing new job\");\n"
      ],
      "text/plain": [
       "<IPython.core.display.Javascript object>"
      ]
     },
     "metadata": {},
     "output_type": "display_data"
    },
    {
     "data": {
      "application/javascript": [
       "console.log(\"[120214][INFO][openvisuspy.backend_cpp:76:printStatistics] Stats::printStatistics enlapsed=0.032543182373046875 seconds\");\n"
      ],
      "text/plain": [
       "<IPython.core.display.Javascript object>"
      ]
     },
     "metadata": {},
     "output_type": "display_data"
    },
    {
     "data": {
      "application/javascript": [
       "console.log(\"[120214][INFO][openvisuspy.backend_cpp:74:createBoxQuery] begin timestep=2015 field=u logic_box=[[5232.675637943451, 4173.319688081931, 45], [7824.387898806177, 5789.048456909096, 46]] num_refinements=4 max_pixels=97984 endh=34\");\n"
      ],
      "text/plain": [
       "<IPython.core.display.Javascript object>"
      ]
     },
     "metadata": {},
     "output_type": "display_data"
    },
    {
     "data": {
      "application/javascript": [
       "console.log(\"[120214][INFO][openvisuspy.backend_cpp:109:createBoxQuery] Guess resolution endh=25 original_box=([5232, 4173, 45], [7825, 5790, 46]) aligned_box=([5232, 4168, 40], [7824, 5784, 41]) delta=[8, 8, 8] num_pixels=[324, 202, 1] tot_pixels=65,448 max_pixels=97,984 end=25\");\n"
      ],
      "text/plain": [
       "<IPython.core.display.Javascript object>"
      ]
     },
     "metadata": {},
     "output_type": "display_data"
    },
    {
     "data": {
      "application/javascript": [
       "console.log(\"[120214][INFO][openvisuspy.backend_cpp:138:beginBoxQuery] beginBoxQuery timestep=2015 field=u logic_box=[[5184, 4160, 0], [7808, 5760, 1]] end_resolutions=[16, 19, 22, 25]\");\n"
      ],
      "text/plain": [
       "<IPython.core.display.Javascript object>"
      ]
     },
     "metadata": {},
     "output_type": "display_data"
    },
    {
     "data": {
      "application/javascript": [
       "console.log(\"[120214][INFO][openvisuspy.slice:209:pushJobIfNeeded] pushing new job\");\n"
      ],
      "text/plain": [
       "<IPython.core.display.Javascript object>"
      ]
     },
     "metadata": {},
     "output_type": "display_data"
    },
    {
     "data": {
      "application/javascript": [
       "console.log(\"[120214][INFO][openvisuspy.backend_cpp:76:printStatistics] Stats::printStatistics enlapsed=0.03101968765258789 seconds\");\n"
      ],
      "text/plain": [
       "<IPython.core.display.Javascript object>"
      ]
     },
     "metadata": {},
     "output_type": "display_data"
    },
    {
     "data": {
      "application/javascript": [
       "console.log(\"[120214][INFO][openvisuspy.backend_cpp:74:createBoxQuery] begin timestep=2015 field=u logic_box=[[5283.2601482013915, 4161.417450374181, 45], [7874.972409064118, 5777.146219201345, 46]] num_refinements=4 max_pixels=97984 endh=34\");\n"
      ],
      "text/plain": [
       "<IPython.core.display.Javascript object>"
      ]
     },
     "metadata": {},
     "output_type": "display_data"
    },
    {
     "data": {
      "application/javascript": [
       "console.log(\"[120214][INFO][openvisuspy.slice:209:pushJobIfNeeded] pushing new job\");\n"
      ],
      "text/plain": [
       "<IPython.core.display.Javascript object>"
      ]
     },
     "metadata": {},
     "output_type": "display_data"
    },
    {
     "data": {
      "application/javascript": [
       "console.log(\"[120214][INFO][openvisuspy.backend_cpp:109:createBoxQuery] Guess resolution endh=25 original_box=([5283, 4161, 45], [7875, 5778, 46]) aligned_box=([5280, 4160, 40], [7872, 5776, 41]) delta=[8, 8, 8] num_pixels=[324, 202, 1] tot_pixels=65,448 max_pixels=97,984 end=25\");\n"
      ],
      "text/plain": [
       "<IPython.core.display.Javascript object>"
      ]
     },
     "metadata": {},
     "output_type": "display_data"
    },
    {
     "data": {
      "application/javascript": [
       "console.log(\"[120214][INFO][openvisuspy.backend_cpp:138:beginBoxQuery] beginBoxQuery timestep=2015 field=u logic_box=[[5248, 4160, 0], [7872, 5760, 1]] end_resolutions=[16, 19, 22, 25]\");\n"
      ],
      "text/plain": [
       "<IPython.core.display.Javascript object>"
      ]
     },
     "metadata": {},
     "output_type": "display_data"
    },
    {
     "data": {
      "application/javascript": [
       "console.log(\"[120214][INFO][openvisuspy.backend_cpp:76:printStatistics] Stats::printStatistics enlapsed=0.016623735427856445 seconds\");\n"
      ],
      "text/plain": [
       "<IPython.core.display.Javascript object>"
      ]
     },
     "metadata": {},
     "output_type": "display_data"
    },
    {
     "data": {
      "application/javascript": [
       "console.log(\"[120214][INFO][openvisuspy.backend_cpp:74:createBoxQuery] begin timestep=2015 field=u logic_box=[[5298.13794533608, 4158.441890947243, 45], [7889.8502061988065, 5774.170659774408, 46]] num_refinements=4 max_pixels=97984 endh=34\");\n"
      ],
      "text/plain": [
       "<IPython.core.display.Javascript object>"
      ]
     },
     "metadata": {},
     "output_type": "display_data"
    },
    {
     "data": {
      "application/javascript": [
       "console.log(\"[120214][INFO][openvisuspy.backend_cpp:109:createBoxQuery] Guess resolution endh=25 original_box=([5298, 4158, 45], [7890, 5775, 46]) aligned_box=([5296, 4152, 40], [7888, 5768, 41]) delta=[8, 8, 8] num_pixels=[324, 202, 1] tot_pixels=65,448 max_pixels=97,984 end=25\");\n"
      ],
      "text/plain": [
       "<IPython.core.display.Javascript object>"
      ]
     },
     "metadata": {},
     "output_type": "display_data"
    },
    {
     "data": {
      "application/javascript": [
       "console.log(\"[120214][INFO][openvisuspy.backend_cpp:138:beginBoxQuery] beginBoxQuery timestep=2015 field=u logic_box=[[5248, 4096, 0], [7872, 5760, 1]] end_resolutions=[16, 19, 22, 25]\");\n"
      ],
      "text/plain": [
       "<IPython.core.display.Javascript object>"
      ]
     },
     "metadata": {},
     "output_type": "display_data"
    },
    {
     "data": {
      "application/javascript": [
       "console.log(\"[120214][INFO][openvisuspy.backend_cpp:168:returnBoxQueryData] got data 0/[16, 19, 22, 25] timestep=2015 field=u H=16 data.shape=(26, 41) data.dtype=float32 logic_box=[[5248, 4096, 0], [7872, 5760, 1]] m=-1.7182023525238037 M=1.0262596607208252 ms=18\");\n"
      ],
      "text/plain": [
       "<IPython.core.display.Javascript object>"
      ]
     },
     "metadata": {},
     "output_type": "display_data"
    },
    {
     "data": {
      "application/javascript": [
       "console.log(\"[120214][INFO][openvisuspy.backend_cpp:168:returnBoxQueryData] got data 1/[16, 19, 22, 25] timestep=2015 field=u H=19 data.shape=(52, 82) data.dtype=float32 logic_box=[[5248, 4096, 0], [7872, 5760, 1]] m=-1.7182023525238037 M=1.6384899616241455 ms=37\");\n"
      ],
      "text/plain": [
       "<IPython.core.display.Javascript object>"
      ]
     },
     "metadata": {},
     "output_type": "display_data"
    },
    {
     "data": {
      "application/javascript": [
       "console.log(\"[120214][INFO][openvisuspy.slice:190:renderResultIfNeeded] Slice[6]::rendering result data.shape=(52, 82) data.dtype=float32 logic_box=[[5248, 4096, 0], [7872, 5760, 1]]\");\n"
      ],
      "text/plain": [
       "<IPython.core.display.Javascript object>"
      ]
     },
     "metadata": {},
     "output_type": "display_data"
    },
    {
     "data": {
      "application/javascript": [
       "console.log(\"[120214][INFO][openvisuspy.backend_cpp:168:returnBoxQueryData] got data 2/[16, 19, 22, 25] timestep=2015 field=u H=22 data.shape=(104, 164) data.dtype=float32 logic_box=[[5248, 4096, 0], [7872, 5760, 1]] m=-1.7182023525238037 M=2.2262158393859863 ms=67\");\n"
      ],
      "text/plain": [
       "<IPython.core.display.Javascript object>"
      ]
     },
     "metadata": {},
     "output_type": "display_data"
    },
    {
     "data": {
      "application/javascript": [
       "console.log(\"[120214][INFO][openvisuspy.backend_cpp:168:returnBoxQueryData] got data 3/[16, 19, 22, 25] timestep=2015 field=u H=25 data.shape=(208, 328) data.dtype=float32 logic_box=[[5248, 4096, 0], [7872, 5760, 1]] m=-4.5728983879089355 M=2.3354365825653076 ms=104\");\n"
      ],
      "text/plain": [
       "<IPython.core.display.Javascript object>"
      ]
     },
     "metadata": {},
     "output_type": "display_data"
    },
    {
     "data": {
      "application/javascript": [
       "console.log(\"[120214][INFO][openvisuspy.slice:190:renderResultIfNeeded] Slice[6]::rendering result data.shape=(104, 164) data.dtype=float32 logic_box=[[5248, 4096, 0], [7872, 5760, 1]]\");\n"
      ],
      "text/plain": [
       "<IPython.core.display.Javascript object>"
      ]
     },
     "metadata": {},
     "output_type": "display_data"
    },
    {
     "data": {
      "application/javascript": [
       "console.log(\"[120214][INFO][openvisuspy.backend_cpp:76:printStatistics] Stats::printStatistics enlapsed=0.11649751663208008 seconds\");\n"
      ],
      "text/plain": [
       "<IPython.core.display.Javascript object>"
      ]
     },
     "metadata": {},
     "output_type": "display_data"
    },
    {
     "data": {
      "application/javascript": [
       "console.log(\"[120214][INFO][openvisuspy.slice:190:renderResultIfNeeded] Slice[6]::rendering result data.shape=(208, 328) data.dtype=float32 logic_box=[[5248, 4096, 0], [7872, 5760, 1]]\");\n"
      ],
      "text/plain": [
       "<IPython.core.display.Javascript object>"
      ]
     },
     "metadata": {},
     "output_type": "display_data"
    },
    {
     "data": {
      "application/javascript": [
       "console.log(\"[120215][INFO][openvisuspy.slice:209:pushJobIfNeeded] pushing new job\");\n"
      ],
      "text/plain": [
       "<IPython.core.display.Javascript object>"
      ]
     },
     "metadata": {},
     "output_type": "display_data"
    },
    {
     "data": {
      "application/javascript": [
       "console.log(\"[120215][INFO][openvisuspy.backend_cpp:74:createBoxQuery] begin timestep=2015 field=u logic_box=[[5262.431232212827, 4188.19748521662, 45], [7854.143493075554, 5803.926254043784, 46]] num_refinements=4 max_pixels=97984 endh=34\");\n"
      ],
      "text/plain": [
       "<IPython.core.display.Javascript object>"
      ]
     },
     "metadata": {},
     "output_type": "display_data"
    },
    {
     "data": {
      "application/javascript": [
       "console.log(\"[120215][INFO][openvisuspy.backend_cpp:109:createBoxQuery] Guess resolution endh=25 original_box=([5262, 4188, 45], [7855, 5804, 46]) aligned_box=([5256, 4184, 40], [7848, 5800, 41]) delta=[8, 8, 8] num_pixels=[324, 202, 1] tot_pixels=65,448 max_pixels=97,984 end=25\");\n"
      ],
      "text/plain": [
       "<IPython.core.display.Javascript object>"
      ]
     },
     "metadata": {},
     "output_type": "display_data"
    },
    {
     "data": {
      "application/javascript": [
       "console.log(\"[120215][INFO][openvisuspy.backend_cpp:138:beginBoxQuery] beginBoxQuery timestep=2015 field=u logic_box=[[5248, 4160, 0], [7808, 5760, 1]] end_resolutions=[16, 19, 22, 25]\");\n"
      ],
      "text/plain": [
       "<IPython.core.display.Javascript object>"
      ]
     },
     "metadata": {},
     "output_type": "display_data"
    },
    {
     "data": {
      "application/javascript": [
       "console.log(\"[120215][INFO][openvisuspy.slice:209:pushJobIfNeeded] pushing new job\");\n"
      ],
      "text/plain": [
       "<IPython.core.display.Javascript object>"
      ]
     },
     "metadata": {},
     "output_type": "display_data"
    },
    {
     "data": {
      "application/javascript": [
       "console.log(\"[120215][INFO][openvisuspy.backend_cpp:76:printStatistics] Stats::printStatistics enlapsed=0.02800440788269043 seconds\");\n"
      ],
      "text/plain": [
       "<IPython.core.display.Javascript object>"
      ]
     },
     "metadata": {},
     "output_type": "display_data"
    },
    {
     "data": {
      "application/javascript": [
       "console.log(\"[120215][INFO][openvisuspy.backend_cpp:74:createBoxQuery] begin timestep=2015 field=u logic_box=[[5238.626756797326, 4209.026401205185, 45], [7830.339017660052, 5824.755170032348, 46]] num_refinements=4 max_pixels=97984 endh=34\");\n"
      ],
      "text/plain": [
       "<IPython.core.display.Javascript object>"
      ]
     },
     "metadata": {},
     "output_type": "display_data"
    },
    {
     "data": {
      "application/javascript": [
       "console.log(\"[120215][INFO][openvisuspy.backend_cpp:109:createBoxQuery] Guess resolution endh=25 original_box=([5238, 4209, 45], [7831, 5825, 46]) aligned_box=([5232, 4208, 40], [7824, 5824, 41]) delta=[8, 8, 8] num_pixels=[324, 202, 1] tot_pixels=65,448 max_pixels=97,984 end=25\");\n"
      ],
      "text/plain": [
       "<IPython.core.display.Javascript object>"
      ]
     },
     "metadata": {},
     "output_type": "display_data"
    },
    {
     "data": {
      "application/javascript": [
       "console.log(\"[120215][INFO][openvisuspy.slice:209:pushJobIfNeeded] pushing new job\");\n"
      ],
      "text/plain": [
       "<IPython.core.display.Javascript object>"
      ]
     },
     "metadata": {},
     "output_type": "display_data"
    },
    {
     "data": {
      "application/javascript": [
       "console.log(\"[120215][INFO][openvisuspy.backend_cpp:138:beginBoxQuery] beginBoxQuery timestep=2015 field=u logic_box=[[5184, 4160, 0], [7808, 5824, 1]] end_resolutions=[16, 19, 22, 25]\");\n"
      ],
      "text/plain": [
       "<IPython.core.display.Javascript object>"
      ]
     },
     "metadata": {},
     "output_type": "display_data"
    },
    {
     "data": {
      "application/javascript": [
       "console.log(\"[120215][INFO][openvisuspy.backend_cpp:76:printStatistics] Stats::printStatistics enlapsed=0.01799154281616211 seconds\");\n"
      ],
      "text/plain": [
       "<IPython.core.display.Javascript object>"
      ]
     },
     "metadata": {},
     "output_type": "display_data"
    },
    {
     "data": {
      "application/javascript": [
       "console.log(\"[120215][INFO][openvisuspy.backend_cpp:74:createBoxQuery] begin timestep=2015 field=u logic_box=[[5191.017805966324, 4235.806436047625, 45], [7782.73006682905, 5851.535204874788, 46]] num_refinements=4 max_pixels=97984 endh=34\");\n"
      ],
      "text/plain": [
       "<IPython.core.display.Javascript object>"
      ]
     },
     "metadata": {},
     "output_type": "display_data"
    },
    {
     "data": {
      "application/javascript": [
       "console.log(\"[120215][INFO][openvisuspy.backend_cpp:109:createBoxQuery] Guess resolution endh=25 original_box=([5191, 4235, 45], [7783, 5852, 46]) aligned_box=([5184, 4232, 40], [7776, 5848, 41]) delta=[8, 8, 8] num_pixels=[324, 202, 1] tot_pixels=65,448 max_pixels=97,984 end=25\");\n"
      ],
      "text/plain": [
       "<IPython.core.display.Javascript object>"
      ]
     },
     "metadata": {},
     "output_type": "display_data"
    },
    {
     "data": {
      "application/javascript": [
       "console.log(\"[120215][INFO][openvisuspy.backend_cpp:138:beginBoxQuery] beginBoxQuery timestep=2015 field=u logic_box=[[5184, 4224, 0], [7744, 5824, 1]] end_resolutions=[16, 19, 22, 25]\");\n"
      ],
      "text/plain": [
       "<IPython.core.display.Javascript object>"
      ]
     },
     "metadata": {},
     "output_type": "display_data"
    },
    {
     "data": {
      "application/javascript": [
       "console.log(\"[120215][INFO][openvisuspy.slice:209:pushJobIfNeeded] pushing new job\");\n"
      ],
      "text/plain": [
       "<IPython.core.display.Javascript object>"
      ]
     },
     "metadata": {},
     "output_type": "display_data"
    },
    {
     "data": {
      "application/javascript": [
       "console.log(\"[120215][INFO][openvisuspy.backend_cpp:76:printStatistics] Stats::printStatistics enlapsed=0.03099966049194336 seconds\");\n"
      ],
      "text/plain": [
       "<IPython.core.display.Javascript object>"
      ]
     },
     "metadata": {},
     "output_type": "display_data"
    },
    {
     "data": {
      "application/javascript": [
       "console.log(\"[120215][INFO][openvisuspy.backend_cpp:74:createBoxQuery] begin timestep=2015 field=u logic_box=[[5113.653260865944, 4274.4887085978135, 45], [7705.36552172867, 5890.217477424977, 46]] num_refinements=4 max_pixels=97984 endh=34\");\n"
      ],
      "text/plain": [
       "<IPython.core.display.Javascript object>"
      ]
     },
     "metadata": {},
     "output_type": "display_data"
    },
    {
     "data": {
      "application/javascript": [
       "console.log(\"[120215][INFO][openvisuspy.backend_cpp:109:createBoxQuery] Guess resolution endh=25 original_box=([5113, 4274, 45], [7706, 5891, 46]) aligned_box=([5112, 4272, 40], [7704, 5888, 41]) delta=[8, 8, 8] num_pixels=[324, 202, 1] tot_pixels=65,448 max_pixels=97,984 end=25\");\n"
      ],
      "text/plain": [
       "<IPython.core.display.Javascript object>"
      ]
     },
     "metadata": {},
     "output_type": "display_data"
    },
    {
     "data": {
      "application/javascript": [
       "console.log(\"[120215][INFO][openvisuspy.backend_cpp:138:beginBoxQuery] beginBoxQuery timestep=2015 field=u logic_box=[[5056, 4224, 0], [7680, 5888, 1]] end_resolutions=[16, 19, 22, 25]\");\n"
      ],
      "text/plain": [
       "<IPython.core.display.Javascript object>"
      ]
     },
     "metadata": {},
     "output_type": "display_data"
    },
    {
     "data": {
      "application/javascript": [
       "console.log(\"[120215][INFO][openvisuspy.slice:209:pushJobIfNeeded] pushing new job\");\n"
      ],
      "text/plain": [
       "<IPython.core.display.Javascript object>"
      ]
     },
     "metadata": {},
     "output_type": "display_data"
    },
    {
     "data": {
      "application/javascript": [
       "console.log(\"[120215][INFO][openvisuspy.backend_cpp:76:printStatistics] Stats::printStatistics enlapsed=0.031019210815429688 seconds\");\n"
      ],
      "text/plain": [
       "<IPython.core.display.Javascript object>"
      ]
     },
     "metadata": {},
     "output_type": "display_data"
    },
    {
     "data": {
      "application/javascript": [
       "console.log(\"[120215][INFO][openvisuspy.backend_cpp:74:createBoxQuery] begin timestep=2015 field=u logic_box=[[5060.093191181065, 4295.317624586378, 45], [7651.805452043792, 5911.046393413541, 46]] num_refinements=4 max_pixels=97984 endh=34\");\n"
      ],
      "text/plain": [
       "<IPython.core.display.Javascript object>"
      ]
     },
     "metadata": {},
     "output_type": "display_data"
    },
    {
     "data": {
      "application/javascript": [
       "console.log(\"[120215][INFO][openvisuspy.backend_cpp:109:createBoxQuery] Guess resolution endh=25 original_box=([5060, 4295, 45], [7652, 5912, 46]) aligned_box=([5056, 4288, 40], [7648, 5912, 41]) delta=[8, 8, 8] num_pixels=[324, 203, 1] tot_pixels=65,772 max_pixels=97,984 end=25\");\n"
      ],
      "text/plain": [
       "<IPython.core.display.Javascript object>"
      ]
     },
     "metadata": {},
     "output_type": "display_data"
    },
    {
     "data": {
      "application/javascript": [
       "console.log(\"[120215][INFO][openvisuspy.slice:209:pushJobIfNeeded] pushing new job\");\n"
      ],
      "text/plain": [
       "<IPython.core.display.Javascript object>"
      ]
     },
     "metadata": {},
     "output_type": "display_data"
    },
    {
     "data": {
      "application/javascript": [
       "console.log(\"[120215][INFO][openvisuspy.backend_cpp:138:beginBoxQuery] beginBoxQuery timestep=2015 field=u logic_box=[[5056, 4288, 0], [7616, 5888, 1]] end_resolutions=[16, 19, 22, 25]\");\n"
      ],
      "text/plain": [
       "<IPython.core.display.Javascript object>"
      ]
     },
     "metadata": {},
     "output_type": "display_data"
    },
    {
     "data": {
      "application/javascript": [
       "console.log(\"[120215][INFO][openvisuspy.backend_cpp:76:printStatistics] Stats::printStatistics enlapsed=0.019017934799194336 seconds\");\n"
      ],
      "text/plain": [
       "<IPython.core.display.Javascript object>"
      ]
     },
     "metadata": {},
     "output_type": "display_data"
    },
    {
     "data": {
      "application/javascript": [
       "console.log(\"[120215][INFO][openvisuspy.backend_cpp:74:createBoxQuery] begin timestep=2015 field=u logic_box=[[5024.386478057812, 4307.219862294129, 45], [7616.098738920539, 5922.948631121292, 46]] num_refinements=4 max_pixels=97984 endh=34\");\n"
      ],
      "text/plain": [
       "<IPython.core.display.Javascript object>"
      ]
     },
     "metadata": {},
     "output_type": "display_data"
    },
    {
     "data": {
      "application/javascript": [
       "console.log(\"[120215][INFO][openvisuspy.backend_cpp:109:createBoxQuery] Guess resolution endh=25 original_box=([5024, 4307, 45], [7617, 5923, 46]) aligned_box=([5024, 4304, 40], [7616, 5920, 41]) delta=[8, 8, 8] num_pixels=[324, 202, 1] tot_pixels=65,448 max_pixels=97,984 end=25\");\n"
      ],
      "text/plain": [
       "<IPython.core.display.Javascript object>"
      ]
     },
     "metadata": {},
     "output_type": "display_data"
    },
    {
     "data": {
      "application/javascript": [
       "console.log(\"[120215][INFO][openvisuspy.backend_cpp:138:beginBoxQuery] beginBoxQuery timestep=2015 field=u logic_box=[[4992, 4288, 0], [7616, 5888, 1]] end_resolutions=[16, 19, 22, 25]\");\n"
      ],
      "text/plain": [
       "<IPython.core.display.Javascript object>"
      ]
     },
     "metadata": {},
     "output_type": "display_data"
    },
    {
     "data": {
      "application/javascript": [
       "console.log(\"[120215][INFO][openvisuspy.slice:209:pushJobIfNeeded] pushing new job\");\n"
      ],
      "text/plain": [
       "<IPython.core.display.Javascript object>"
      ]
     },
     "metadata": {},
     "output_type": "display_data"
    },
    {
     "data": {
      "application/javascript": [
       "console.log(\"[120215][INFO][openvisuspy.backend_cpp:168:returnBoxQueryData] got data 0/[16, 19, 22, 25] timestep=2015 field=u H=16 data.shape=(25, 41) data.dtype=float32 logic_box=[[4992, 4288, 0], [7616, 5888, 1]] m=-1.7182023525238037 M=1.3544586896896362 ms=20\");\n"
      ],
      "text/plain": [
       "<IPython.core.display.Javascript object>"
      ]
     },
     "metadata": {},
     "output_type": "display_data"
    },
    {
     "data": {
      "application/javascript": [
       "console.log(\"[120215][INFO][openvisuspy.backend_cpp:76:printStatistics] Stats::printStatistics enlapsed=0.03596663475036621 seconds\");\n"
      ],
      "text/plain": [
       "<IPython.core.display.Javascript object>"
      ]
     },
     "metadata": {},
     "output_type": "display_data"
    },
    {
     "data": {
      "application/javascript": [
       "console.log(\"[120215][INFO][openvisuspy.backend_cpp:74:createBoxQuery] begin timestep=2015 field=u logic_box=[[5003.557562069249, 4316.146540574942, 45], [7595.269822931975, 5931.875309402106, 46]] num_refinements=4 max_pixels=97984 endh=34\");\n"
      ],
      "text/plain": [
       "<IPython.core.display.Javascript object>"
      ]
     },
     "metadata": {},
     "output_type": "display_data"
    },
    {
     "data": {
      "application/javascript": [
       "console.log(\"[120215][INFO][openvisuspy.backend_cpp:109:createBoxQuery] Guess resolution endh=25 original_box=([5003, 4316, 45], [7596, 5932, 46]) aligned_box=([5000, 4312, 40], [7592, 5928, 41]) delta=[8, 8, 8] num_pixels=[324, 202, 1] tot_pixels=65,448 max_pixels=97,984 end=25\");\n"
      ],
      "text/plain": [
       "<IPython.core.display.Javascript object>"
      ]
     },
     "metadata": {},
     "output_type": "display_data"
    },
    {
     "data": {
      "application/javascript": [
       "console.log(\"[120215][INFO][openvisuspy.slice:190:renderResultIfNeeded] Slice[6]::rendering result data.shape=(25, 41) data.dtype=float32 logic_box=[[4992, 4288, 0], [7616, 5888, 1]]\");\n"
      ],
      "text/plain": [
       "<IPython.core.display.Javascript object>"
      ]
     },
     "metadata": {},
     "output_type": "display_data"
    },
    {
     "data": {
      "application/javascript": [
       "console.log(\"[120215][INFO][openvisuspy.backend_cpp:138:beginBoxQuery] beginBoxQuery timestep=2015 field=u logic_box=[[4992, 4288, 0], [7552, 5888, 1]] end_resolutions=[16, 19, 22, 25]\");\n"
      ],
      "text/plain": [
       "<IPython.core.display.Javascript object>"
      ]
     },
     "metadata": {},
     "output_type": "display_data"
    },
    {
     "data": {
      "application/javascript": [
       "console.log(\"[120215][INFO][openvisuspy.slice:209:pushJobIfNeeded] pushing new job\");\n"
      ],
      "text/plain": [
       "<IPython.core.display.Javascript object>"
      ]
     },
     "metadata": {},
     "output_type": "display_data"
    },
    {
     "data": {
      "application/javascript": [
       "console.log(\"[120215][INFO][openvisuspy.backend_cpp:76:printStatistics] Stats::printStatistics enlapsed=0.03400993347167969 seconds\");\n"
      ],
      "text/plain": [
       "<IPython.core.display.Javascript object>"
      ]
     },
     "metadata": {},
     "output_type": "display_data"
    },
    {
     "data": {
      "application/javascript": [
       "console.log(\"[120215][INFO][openvisuspy.backend_cpp:74:createBoxQuery] begin timestep=2015 field=u logic_box=[[4961.899730092121, 4322.097659428818, 45], [7553.611990954848, 5937.826428255981, 46]] num_refinements=4 max_pixels=97984 endh=34\");\n"
      ],
      "text/plain": [
       "<IPython.core.display.Javascript object>"
      ]
     },
     "metadata": {},
     "output_type": "display_data"
    },
    {
     "data": {
      "application/javascript": [
       "console.log(\"[120215][INFO][openvisuspy.slice:209:pushJobIfNeeded] pushing new job\");\n"
      ],
      "text/plain": [
       "<IPython.core.display.Javascript object>"
      ]
     },
     "metadata": {},
     "output_type": "display_data"
    },
    {
     "data": {
      "application/javascript": [
       "console.log(\"[120215][INFO][openvisuspy.backend_cpp:109:createBoxQuery] Guess resolution endh=25 original_box=([4961, 4322, 45], [7554, 5938, 46]) aligned_box=([4960, 4320, 40], [7552, 5936, 41]) delta=[8, 8, 8] num_pixels=[324, 202, 1] tot_pixels=65,448 max_pixels=97,984 end=25\");\n"
      ],
      "text/plain": [
       "<IPython.core.display.Javascript object>"
      ]
     },
     "metadata": {},
     "output_type": "display_data"
    },
    {
     "data": {
      "application/javascript": [
       "console.log(\"[120215][INFO][openvisuspy.backend_cpp:138:beginBoxQuery] beginBoxQuery timestep=2015 field=u logic_box=[[4928, 4288, 0], [7552, 5888, 1]] end_resolutions=[16, 19, 22, 25]\");\n"
      ],
      "text/plain": [
       "<IPython.core.display.Javascript object>"
      ]
     },
     "metadata": {},
     "output_type": "display_data"
    },
    {
     "data": {
      "application/javascript": [
       "console.log(\"[120215][INFO][openvisuspy.backend_cpp:76:printStatistics] Stats::printStatistics enlapsed=0.01704716682434082 seconds\");\n"
      ],
      "text/plain": [
       "<IPython.core.display.Javascript object>"
      ]
     },
     "metadata": {},
     "output_type": "display_data"
    },
    {
     "data": {
      "application/javascript": [
       "console.log(\"[120215][INFO][openvisuspy.backend_cpp:74:createBoxQuery] begin timestep=2015 field=u logic_box=[[4961.899730092121, 4333.9998971365685, 45], [7553.611990954848, 5949.728665963732, 46]] num_refinements=4 max_pixels=97984 endh=34\");\n"
      ],
      "text/plain": [
       "<IPython.core.display.Javascript object>"
      ]
     },
     "metadata": {},
     "output_type": "display_data"
    },
    {
     "data": {
      "application/javascript": [
       "console.log(\"[120215][INFO][openvisuspy.backend_cpp:109:createBoxQuery] Guess resolution endh=25 original_box=([4961, 4333, 45], [7554, 5950, 46]) aligned_box=([4960, 4328, 40], [7552, 5944, 41]) delta=[8, 8, 8] num_pixels=[324, 202, 1] tot_pixels=65,448 max_pixels=97,984 end=25\");\n"
      ],
      "text/plain": [
       "<IPython.core.display.Javascript object>"
      ]
     },
     "metadata": {},
     "output_type": "display_data"
    },
    {
     "data": {
      "application/javascript": [
       "console.log(\"[120215][INFO][openvisuspy.slice:209:pushJobIfNeeded] pushing new job\");\n"
      ],
      "text/plain": [
       "<IPython.core.display.Javascript object>"
      ]
     },
     "metadata": {},
     "output_type": "display_data"
    },
    {
     "data": {
      "application/javascript": [
       "console.log(\"[120215][INFO][openvisuspy.backend_cpp:138:beginBoxQuery] beginBoxQuery timestep=2015 field=u logic_box=[[4928, 4288, 0], [7552, 5888, 1]] end_resolutions=[16, 19, 22, 25]\");\n"
      ],
      "text/plain": [
       "<IPython.core.display.Javascript object>"
      ]
     },
     "metadata": {},
     "output_type": "display_data"
    },
    {
     "data": {
      "application/javascript": [
       "console.log(\"[120215][INFO][openvisuspy.backend_cpp:76:printStatistics] Stats::printStatistics enlapsed=0.018518447875976562 seconds\");\n"
      ],
      "text/plain": [
       "<IPython.core.display.Javascript object>"
      ]
     },
     "metadata": {},
     "output_type": "display_data"
    },
    {
     "data": {
      "application/javascript": [
       "console.log(\"[120215][INFO][openvisuspy.backend_cpp:74:createBoxQuery] begin timestep=2015 field=u logic_box=[[4920.241898114993, 4345.902134844319, 45], [7511.95415897772, 5961.630903671483, 46]] num_refinements=4 max_pixels=97984 endh=34\");\n"
      ],
      "text/plain": [
       "<IPython.core.display.Javascript object>"
      ]
     },
     "metadata": {},
     "output_type": "display_data"
    },
    {
     "data": {
      "application/javascript": [
       "console.log(\"[120215][INFO][openvisuspy.backend_cpp:109:createBoxQuery] Guess resolution endh=25 original_box=([4920, 4345, 45], [7512, 5962, 46]) aligned_box=([4920, 4344, 40], [7512, 5960, 41]) delta=[8, 8, 8] num_pixels=[324, 202, 1] tot_pixels=65,448 max_pixels=97,984 end=25\");\n"
      ],
      "text/plain": [
       "<IPython.core.display.Javascript object>"
      ]
     },
     "metadata": {},
     "output_type": "display_data"
    },
    {
     "data": {
      "application/javascript": [
       "console.log(\"[120215][INFO][openvisuspy.backend_cpp:138:beginBoxQuery] beginBoxQuery timestep=2015 field=u logic_box=[[4864, 4288, 0], [7488, 5952, 1]] end_resolutions=[16, 19, 22, 25]\");\n"
      ],
      "text/plain": [
       "<IPython.core.display.Javascript object>"
      ]
     },
     "metadata": {},
     "output_type": "display_data"
    },
    {
     "data": {
      "application/javascript": [
       "console.log(\"[120215][INFO][openvisuspy.slice:209:pushJobIfNeeded] pushing new job\");\n"
      ],
      "text/plain": [
       "<IPython.core.display.Javascript object>"
      ]
     },
     "metadata": {},
     "output_type": "display_data"
    },
    {
     "data": {
      "application/javascript": [
       "console.log(\"[120215][INFO][openvisuspy.backend_cpp:76:printStatistics] Stats::printStatistics enlapsed=0.03338003158569336 seconds\");\n"
      ],
      "text/plain": [
       "<IPython.core.display.Javascript object>"
      ]
     },
     "metadata": {},
     "output_type": "display_data"
    },
    {
     "data": {
      "application/javascript": [
       "console.log(\"[120215][INFO][openvisuspy.backend_cpp:74:createBoxQuery] begin timestep=2015 field=u logic_box=[[4845.85291244155, 4375.657729113696, 45], [7437.565173304278, 5991.38649794086, 46]] num_refinements=4 max_pixels=97984 endh=34\");\n"
      ],
      "text/plain": [
       "<IPython.core.display.Javascript object>"
      ]
     },
     "metadata": {},
     "output_type": "display_data"
    },
    {
     "data": {
      "application/javascript": [
       "console.log(\"[120215][INFO][openvisuspy.backend_cpp:109:createBoxQuery] Guess resolution endh=25 original_box=([4845, 4375, 45], [7438, 5992, 46]) aligned_box=([4840, 4368, 40], [7432, 5992, 41]) delta=[8, 8, 8] num_pixels=[324, 203, 1] tot_pixels=65,772 max_pixels=97,984 end=25\");\n"
      ],
      "text/plain": [
       "<IPython.core.display.Javascript object>"
      ]
     },
     "metadata": {},
     "output_type": "display_data"
    },
    {
     "data": {
      "application/javascript": [
       "console.log(\"[120215][INFO][openvisuspy.slice:209:pushJobIfNeeded] pushing new job\");\n"
      ],
      "text/plain": [
       "<IPython.core.display.Javascript object>"
      ]
     },
     "metadata": {},
     "output_type": "display_data"
    },
    {
     "data": {
      "application/javascript": [
       "console.log(\"[120215][INFO][openvisuspy.backend_cpp:138:beginBoxQuery] beginBoxQuery timestep=2015 field=u logic_box=[[4800, 4352, 0], [7424, 5952, 1]] end_resolutions=[16, 19, 22, 25]\");\n"
      ],
      "text/plain": [
       "<IPython.core.display.Javascript object>"
      ]
     },
     "metadata": {},
     "output_type": "display_data"
    },
    {
     "data": {
      "application/javascript": [
       "console.log(\"[120215][INFO][openvisuspy.backend_cpp:76:printStatistics] Stats::printStatistics enlapsed=0.017050743103027344 seconds\");\n"
      ],
      "text/plain": [
       "<IPython.core.display.Javascript object>"
      ]
     },
     "metadata": {},
     "output_type": "display_data"
    },
    {
     "data": {
      "application/javascript": [
       "console.log(\"[120215][INFO][openvisuspy.backend_cpp:74:createBoxQuery] begin timestep=2015 field=u logic_box=[[4804.195080464423, 4387.559966821447, 45], [7395.907341327151, 6003.288735648611, 46]] num_refinements=4 max_pixels=97984 endh=34\");\n"
      ],
      "text/plain": [
       "<IPython.core.display.Javascript object>"
      ]
     },
     "metadata": {},
     "output_type": "display_data"
    },
    {
     "data": {
      "application/javascript": [
       "console.log(\"[120215][INFO][openvisuspy.backend_cpp:109:createBoxQuery] Guess resolution endh=25 original_box=([4804, 4387, 45], [7396, 6004, 46]) aligned_box=([4800, 4384, 40], [7392, 6000, 41]) delta=[8, 8, 8] num_pixels=[324, 202, 1] tot_pixels=65,448 max_pixels=97,984 end=25\");\n"
      ],
      "text/plain": [
       "<IPython.core.display.Javascript object>"
      ]
     },
     "metadata": {},
     "output_type": "display_data"
    },
    {
     "data": {
      "application/javascript": [
       "console.log(\"[120215][INFO][openvisuspy.backend_cpp:138:beginBoxQuery] beginBoxQuery timestep=2015 field=u logic_box=[[4800, 4352, 0], [7360, 5952, 1]] end_resolutions=[16, 19, 22, 25]\");\n"
      ],
      "text/plain": [
       "<IPython.core.display.Javascript object>"
      ]
     },
     "metadata": {},
     "output_type": "display_data"
    },
    {
     "data": {
      "application/javascript": [
       "console.log(\"[120215][INFO][openvisuspy.slice:209:pushJobIfNeeded] pushing new job\");\n"
      ],
      "text/plain": [
       "<IPython.core.display.Javascript object>"
      ]
     },
     "metadata": {},
     "output_type": "display_data"
    },
    {
     "data": {
      "application/javascript": [
       "console.log(\"[120215][INFO][openvisuspy.backend_cpp:76:printStatistics] Stats::printStatistics enlapsed=0.0323793888092041 seconds\");\n"
      ],
      "text/plain": [
       "<IPython.core.display.Javascript object>"
      ]
     },
     "metadata": {},
     "output_type": "display_data"
    },
    {
     "data": {
      "application/javascript": [
       "console.log(\"[120215][INFO][openvisuspy.backend_cpp:74:createBoxQuery] begin timestep=2015 field=u logic_box=[[4753.6105702064815, 4402.437763956135, 45], [7345.32283106921, 6018.166532783299, 46]] num_refinements=4 max_pixels=97984 endh=34\");\n"
      ],
      "text/plain": [
       "<IPython.core.display.Javascript object>"
      ]
     },
     "metadata": {},
     "output_type": "display_data"
    },
    {
     "data": {
      "application/javascript": [
       "console.log(\"[120215][INFO][openvisuspy.backend_cpp:109:createBoxQuery] Guess resolution endh=25 original_box=([4753, 4402, 45], [7346, 6019, 46]) aligned_box=([4752, 4400, 40], [7344, 6016, 41]) delta=[8, 8, 8] num_pixels=[324, 202, 1] tot_pixels=65,448 max_pixels=97,984 end=25\");\n"
      ],
      "text/plain": [
       "<IPython.core.display.Javascript object>"
      ]
     },
     "metadata": {},
     "output_type": "display_data"
    },
    {
     "data": {
      "application/javascript": [
       "console.log(\"[120215][INFO][openvisuspy.slice:209:pushJobIfNeeded] pushing new job\");\n"
      ],
      "text/plain": [
       "<IPython.core.display.Javascript object>"
      ]
     },
     "metadata": {},
     "output_type": "display_data"
    },
    {
     "data": {
      "application/javascript": [
       "console.log(\"[120215][INFO][openvisuspy.backend_cpp:138:beginBoxQuery] beginBoxQuery timestep=2015 field=u logic_box=[[4736, 4352, 0], [7296, 6016, 1]] end_resolutions=[16, 19, 22, 25]\");\n"
      ],
      "text/plain": [
       "<IPython.core.display.Javascript object>"
      ]
     },
     "metadata": {},
     "output_type": "display_data"
    },
    {
     "data": {
      "application/javascript": [
       "console.log(\"[120215][INFO][openvisuspy.backend_cpp:76:printStatistics] Stats::printStatistics enlapsed=0.018031835556030273 seconds\");\n"
      ],
      "text/plain": [
       "<IPython.core.display.Javascript object>"
      ]
     },
     "metadata": {},
     "output_type": "display_data"
    },
    {
     "data": {
      "application/javascript": [
       "console.log(\"[120215][INFO][openvisuspy.backend_cpp:74:createBoxQuery] begin timestep=2015 field=u logic_box=[[4726.830535364042, 4408.388882810011, 45], [7318.542796226771, 6024.117651637174, 46]] num_refinements=4 max_pixels=97984 endh=34\");\n"
      ],
      "text/plain": [
       "<IPython.core.display.Javascript object>"
      ]
     },
     "metadata": {},
     "output_type": "display_data"
    },
    {
     "data": {
      "application/javascript": [
       "console.log(\"[120215][INFO][openvisuspy.backend_cpp:109:createBoxQuery] Guess resolution endh=25 original_box=([4726, 4408, 45], [7319, 6025, 46]) aligned_box=([4720, 4408, 40], [7312, 6024, 41]) delta=[8, 8, 8] num_pixels=[324, 202, 1] tot_pixels=65,448 max_pixels=97,984 end=25\");\n"
      ],
      "text/plain": [
       "<IPython.core.display.Javascript object>"
      ]
     },
     "metadata": {},
     "output_type": "display_data"
    },
    {
     "data": {
      "application/javascript": [
       "console.log(\"[120215][INFO][openvisuspy.backend_cpp:138:beginBoxQuery] beginBoxQuery timestep=2015 field=u logic_box=[[4672, 4352, 0], [7296, 6016, 1]] end_resolutions=[16, 19, 22, 25]\");\n"
      ],
      "text/plain": [
       "<IPython.core.display.Javascript object>"
      ]
     },
     "metadata": {},
     "output_type": "display_data"
    },
    {
     "data": {
      "application/javascript": [
       "console.log(\"[120215][INFO][openvisuspy.backend_cpp:168:returnBoxQueryData] got data 0/[16, 19, 22, 25] timestep=2015 field=u H=16 data.shape=(26, 41) data.dtype=float32 logic_box=[[4672, 4352, 0], [7296, 6016, 1]] m=-1.7182023525238037 M=1.3544586896896362 ms=19\");\n"
      ],
      "text/plain": [
       "<IPython.core.display.Javascript object>"
      ]
     },
     "metadata": {},
     "output_type": "display_data"
    },
    {
     "data": {
      "application/javascript": [
       "console.log(\"[120215][INFO][openvisuspy.slice:209:pushJobIfNeeded] pushing new job\");\n"
      ],
      "text/plain": [
       "<IPython.core.display.Javascript object>"
      ]
     },
     "metadata": {},
     "output_type": "display_data"
    },
    {
     "data": {
      "application/javascript": [
       "console.log(\"[120215][INFO][openvisuspy.backend_cpp:76:printStatistics] Stats::printStatistics enlapsed=0.0514674186706543 seconds\");\n"
      ],
      "text/plain": [
       "<IPython.core.display.Javascript object>"
      ]
     },
     "metadata": {},
     "output_type": "display_data"
    },
    {
     "data": {
      "application/javascript": [
       "console.log(\"[120215][INFO][openvisuspy.slice:190:renderResultIfNeeded] Slice[6]::rendering result data.shape=(26, 41) data.dtype=float32 logic_box=[[4672, 4352, 0], [7296, 6016, 1]]\");\n"
      ],
      "text/plain": [
       "<IPython.core.display.Javascript object>"
      ]
     },
     "metadata": {},
     "output_type": "display_data"
    },
    {
     "data": {
      "application/javascript": [
       "console.log(\"[120215][INFO][openvisuspy.backend_cpp:74:createBoxQuery] begin timestep=2015 field=u logic_box=[[4714.92829765629, 4411.364442236949, 45], [7306.64055851902, 6027.093211064112, 46]] num_refinements=4 max_pixels=97984 endh=34\");\n"
      ],
      "text/plain": [
       "<IPython.core.display.Javascript object>"
      ]
     },
     "metadata": {},
     "output_type": "display_data"
    },
    {
     "data": {
      "application/javascript": [
       "console.log(\"[120215][INFO][openvisuspy.slice:209:pushJobIfNeeded] pushing new job\");\n"
      ],
      "text/plain": [
       "<IPython.core.display.Javascript object>"
      ]
     },
     "metadata": {},
     "output_type": "display_data"
    },
    {
     "data": {
      "application/javascript": [
       "console.log(\"[120215][INFO][openvisuspy.backend_cpp:109:createBoxQuery] Guess resolution endh=25 original_box=([4714, 4411, 45], [7307, 6028, 46]) aligned_box=([4712, 4408, 40], [7304, 6024, 41]) delta=[8, 8, 8] num_pixels=[324, 202, 1] tot_pixels=65,448 max_pixels=97,984 end=25\");\n"
      ],
      "text/plain": [
       "<IPython.core.display.Javascript object>"
      ]
     },
     "metadata": {},
     "output_type": "display_data"
    },
    {
     "data": {
      "application/javascript": [
       "console.log(\"[120215][INFO][openvisuspy.backend_cpp:138:beginBoxQuery] beginBoxQuery timestep=2015 field=u logic_box=[[4672, 4352, 0], [7296, 6016, 1]] end_resolutions=[16, 19, 22, 25]\");\n"
      ],
      "text/plain": [
       "<IPython.core.display.Javascript object>"
      ]
     },
     "metadata": {},
     "output_type": "display_data"
    },
    {
     "data": {
      "application/javascript": [
       "console.log(\"[120215][INFO][openvisuspy.backend_cpp:76:printStatistics] Stats::printStatistics enlapsed=0.018963098526000977 seconds\");\n"
      ],
      "text/plain": [
       "<IPython.core.display.Javascript object>"
      ]
     },
     "metadata": {},
     "output_type": "display_data"
    },
    {
     "data": {
      "application/javascript": [
       "console.log(\"[120215][INFO][openvisuspy.backend_cpp:74:createBoxQuery] begin timestep=2015 field=u logic_box=[[4706.001619375477, 4411.364442236949, 45], [7297.713880238207, 6027.093211064112, 46]] num_refinements=4 max_pixels=97984 endh=34\");\n"
      ],
      "text/plain": [
       "<IPython.core.display.Javascript object>"
      ]
     },
     "metadata": {},
     "output_type": "display_data"
    },
    {
     "data": {
      "application/javascript": [
       "console.log(\"[120215][INFO][openvisuspy.slice:209:pushJobIfNeeded] pushing new job\");\n"
      ],
      "text/plain": [
       "<IPython.core.display.Javascript object>"
      ]
     },
     "metadata": {},
     "output_type": "display_data"
    },
    {
     "data": {
      "application/javascript": [
       "console.log(\"[120215][INFO][openvisuspy.backend_cpp:109:createBoxQuery] Guess resolution endh=25 original_box=([4706, 4411, 45], [7298, 6028, 46]) aligned_box=([4704, 4408, 40], [7296, 6024, 41]) delta=[8, 8, 8] num_pixels=[324, 202, 1] tot_pixels=65,448 max_pixels=97,984 end=25\");\n"
      ],
      "text/plain": [
       "<IPython.core.display.Javascript object>"
      ]
     },
     "metadata": {},
     "output_type": "display_data"
    },
    {
     "data": {
      "application/javascript": [
       "console.log(\"[120215][INFO][openvisuspy.backend_cpp:138:beginBoxQuery] beginBoxQuery timestep=2015 field=u logic_box=[[4672, 4352, 0], [7296, 6016, 1]] end_resolutions=[16, 19, 22, 25]\");\n"
      ],
      "text/plain": [
       "<IPython.core.display.Javascript object>"
      ]
     },
     "metadata": {},
     "output_type": "display_data"
    },
    {
     "data": {
      "application/javascript": [
       "console.log(\"[120215][INFO][openvisuspy.backend_cpp:76:printStatistics] Stats::printStatistics enlapsed=0.016043424606323242 seconds\");\n"
      ],
      "text/plain": [
       "<IPython.core.display.Javascript object>"
      ]
     },
     "metadata": {},
     "output_type": "display_data"
    },
    {
     "data": {
      "application/javascript": [
       "console.log(\"[120215][INFO][openvisuspy.backend_cpp:74:createBoxQuery] begin timestep=2015 field=u logic_box=[[4706.001619375477, 4414.340001663887, 45], [7297.713880238207, 6030.068770491051, 46]] num_refinements=4 max_pixels=97984 endh=34\");\n"
      ],
      "text/plain": [
       "<IPython.core.display.Javascript object>"
      ]
     },
     "metadata": {},
     "output_type": "display_data"
    },
    {
     "data": {
      "application/javascript": [
       "console.log(\"[120215][INFO][openvisuspy.backend_cpp:109:createBoxQuery] Guess resolution endh=25 original_box=([4706, 4414, 45], [7298, 6031, 46]) aligned_box=([4704, 4408, 40], [7296, 6024, 41]) delta=[8, 8, 8] num_pixels=[324, 202, 1] tot_pixels=65,448 max_pixels=97,984 end=25\");\n"
      ],
      "text/plain": [
       "<IPython.core.display.Javascript object>"
      ]
     },
     "metadata": {},
     "output_type": "display_data"
    },
    {
     "data": {
      "application/javascript": [
       "console.log(\"[120215][INFO][openvisuspy.slice:209:pushJobIfNeeded] pushing new job\");\n"
      ],
      "text/plain": [
       "<IPython.core.display.Javascript object>"
      ]
     },
     "metadata": {},
     "output_type": "display_data"
    },
    {
     "data": {
      "application/javascript": [
       "console.log(\"[120215][INFO][openvisuspy.backend_cpp:138:beginBoxQuery] beginBoxQuery timestep=2015 field=u logic_box=[[4672, 4352, 0], [7296, 6016, 1]] end_resolutions=[16, 19, 22, 25]\");\n"
      ],
      "text/plain": [
       "<IPython.core.display.Javascript object>"
      ]
     },
     "metadata": {},
     "output_type": "display_data"
    },
    {
     "data": {
      "application/javascript": [
       "console.log(\"[120215][INFO][openvisuspy.backend_cpp:76:printStatistics] Stats::printStatistics enlapsed=0.02014446258544922 seconds\");\n"
      ],
      "text/plain": [
       "<IPython.core.display.Javascript object>"
      ]
     },
     "metadata": {},
     "output_type": "display_data"
    },
    {
     "data": {
      "application/javascript": [
       "console.log(\"[120215][INFO][openvisuspy.backend_cpp:74:createBoxQuery] begin timestep=2015 field=u logic_box=[[4697.074941094664, 4417.315561090824, 45], [7288.787201957393, 6033.044329917988, 46]] num_refinements=4 max_pixels=97984 endh=34\");\n"
      ],
      "text/plain": [
       "<IPython.core.display.Javascript object>"
      ]
     },
     "metadata": {},
     "output_type": "display_data"
    },
    {
     "data": {
      "application/javascript": [
       "console.log(\"[120215][INFO][openvisuspy.backend_cpp:109:createBoxQuery] Guess resolution endh=25 original_box=([4697, 4417, 45], [7289, 6034, 46]) aligned_box=([4696, 4416, 40], [7288, 6032, 41]) delta=[8, 8, 8] num_pixels=[324, 202, 1] tot_pixels=65,448 max_pixels=97,984 end=25\");\n"
      ],
      "text/plain": [
       "<IPython.core.display.Javascript object>"
      ]
     },
     "metadata": {},
     "output_type": "display_data"
    },
    {
     "data": {
      "application/javascript": [
       "console.log(\"[120215][INFO][openvisuspy.backend_cpp:138:beginBoxQuery] beginBoxQuery timestep=2015 field=u logic_box=[[4672, 4416, 0], [7232, 6016, 1]] end_resolutions=[16, 19, 22, 25]\");\n"
      ],
      "text/plain": [
       "<IPython.core.display.Javascript object>"
      ]
     },
     "metadata": {},
     "output_type": "display_data"
    },
    {
     "data": {
      "application/javascript": [
       "console.log(\"[120215][INFO][openvisuspy.backend_cpp:168:returnBoxQueryData] got data 0/[16, 19, 22, 25] timestep=2015 field=u H=16 data.shape=(25, 40) data.dtype=float32 logic_box=[[4672, 4416, 0], [7232, 6016, 1]] m=-1.7182023525238037 M=1.3544586896896362 ms=20\");\n"
      ],
      "text/plain": [
       "<IPython.core.display.Javascript object>"
      ]
     },
     "metadata": {},
     "output_type": "display_data"
    },
    {
     "data": {
      "application/javascript": [
       "console.log(\"[120215][INFO][openvisuspy.slice:190:renderResultIfNeeded] Slice[6]::rendering result data.shape=(25, 40) data.dtype=float32 logic_box=[[4672, 4416, 0], [7232, 6016, 1]]\");\n"
      ],
      "text/plain": [
       "<IPython.core.display.Javascript object>"
      ]
     },
     "metadata": {},
     "output_type": "display_data"
    },
    {
     "data": {
      "application/javascript": [
       "console.log(\"[120215][INFO][openvisuspy.backend_cpp:168:returnBoxQueryData] got data 1/[16, 19, 22, 25] timestep=2015 field=u H=19 data.shape=(50, 80) data.dtype=float32 logic_box=[[4672, 4416, 0], [7232, 6016, 1]] m=-1.7182023525238037 M=2.170684337615967 ms=49\");\n"
      ],
      "text/plain": [
       "<IPython.core.display.Javascript object>"
      ]
     },
     "metadata": {},
     "output_type": "display_data"
    },
    {
     "data": {
      "application/javascript": [
       "console.log(\"[120215][INFO][openvisuspy.slice:190:renderResultIfNeeded] Slice[6]::rendering result data.shape=(50, 80) data.dtype=float32 logic_box=[[4672, 4416, 0], [7232, 6016, 1]]\");\n"
      ],
      "text/plain": [
       "<IPython.core.display.Javascript object>"
      ]
     },
     "metadata": {},
     "output_type": "display_data"
    },
    {
     "data": {
      "application/javascript": [
       "console.log(\"[120215][INFO][openvisuspy.backend_cpp:168:returnBoxQueryData] got data 2/[16, 19, 22, 25] timestep=2015 field=u H=22 data.shape=(100, 160) data.dtype=float32 logic_box=[[4672, 4416, 0], [7232, 6016, 1]] m=-1.8077391386032104 M=3.598616600036621 ms=85\");\n"
      ],
      "text/plain": [
       "<IPython.core.display.Javascript object>"
      ]
     },
     "metadata": {},
     "output_type": "display_data"
    },
    {
     "data": {
      "application/javascript": [
       "console.log(\"[120215][INFO][openvisuspy.backend_cpp:168:returnBoxQueryData] got data 3/[16, 19, 22, 25] timestep=2015 field=u H=25 data.shape=(200, 320) data.dtype=float32 logic_box=[[4672, 4416, 0], [7232, 6016, 1]] m=-3.3751566410064697 M=5.847737789154053 ms=125\");\n"
      ],
      "text/plain": [
       "<IPython.core.display.Javascript object>"
      ]
     },
     "metadata": {},
     "output_type": "display_data"
    },
    {
     "data": {
      "application/javascript": [
       "console.log(\"[120215][INFO][openvisuspy.slice:190:renderResultIfNeeded] Slice[6]::rendering result data.shape=(100, 160) data.dtype=float32 logic_box=[[4672, 4416, 0], [7232, 6016, 1]]\");\n"
      ],
      "text/plain": [
       "<IPython.core.display.Javascript object>"
      ]
     },
     "metadata": {},
     "output_type": "display_data"
    },
    {
     "data": {
      "application/javascript": [
       "console.log(\"[120215][INFO][openvisuspy.backend_cpp:76:printStatistics] Stats::printStatistics enlapsed=0.13928699493408203 seconds\");\n"
      ],
      "text/plain": [
       "<IPython.core.display.Javascript object>"
      ]
     },
     "metadata": {},
     "output_type": "display_data"
    },
    {
     "data": {
      "application/javascript": [
       "console.log(\"[120215][INFO][openvisuspy.slice:190:renderResultIfNeeded] Slice[6]::rendering result data.shape=(200, 320) data.dtype=float32 logic_box=[[4672, 4416, 0], [7232, 6016, 1]]\");\n"
      ],
      "text/plain": [
       "<IPython.core.display.Javascript object>"
      ]
     },
     "metadata": {},
     "output_type": "display_data"
    },
    {
     "data": {
      "application/javascript": [
       "console.log(\"[120216][INFO][openvisuspy.slice:209:pushJobIfNeeded] pushing new job\");\n"
      ],
      "text/plain": [
       "<IPython.core.display.Javascript object>"
      ]
     },
     "metadata": {},
     "output_type": "display_data"
    },
    {
     "data": {
      "application/javascript": [
       "console.log(\"[120216][INFO][openvisuspy.backend_cpp:74:createBoxQuery] begin timestep=2015 field=u logic_box=[[4646.490430836722, 4476.8267496295775, 45], [7238.202691699453, 6092.555518456741, 46]] num_refinements=4 max_pixels=97984 endh=34\");\n"
      ],
      "text/plain": [
       "<IPython.core.display.Javascript object>"
      ]
     },
     "metadata": {},
     "output_type": "display_data"
    },
    {
     "data": {
      "application/javascript": [
       "console.log(\"[120216][INFO][openvisuspy.backend_cpp:109:createBoxQuery] Guess resolution endh=25 original_box=([4646, 4476, 45], [7239, 6093, 46]) aligned_box=([4640, 4472, 40], [7232, 6088, 41]) delta=[8, 8, 8] num_pixels=[324, 202, 1] tot_pixels=65,448 max_pixels=97,984 end=25\");\n"
      ],
      "text/plain": [
       "<IPython.core.display.Javascript object>"
      ]
     },
     "metadata": {},
     "output_type": "display_data"
    },
    {
     "data": {
      "application/javascript": [
       "console.log(\"[120216][INFO][openvisuspy.backend_cpp:138:beginBoxQuery] beginBoxQuery timestep=2015 field=u logic_box=[[4608, 4416, 0], [7232, 6080, 1]] end_resolutions=[16, 19, 22, 25]\");\n"
      ],
      "text/plain": [
       "<IPython.core.display.Javascript object>"
      ]
     },
     "metadata": {},
     "output_type": "display_data"
    },
    {
     "data": {
      "application/javascript": [
       "console.log(\"[120216][INFO][openvisuspy.backend_cpp:168:returnBoxQueryData] got data 0/[16, 19, 22, 25] timestep=2015 field=u H=16 data.shape=(26, 41) data.dtype=float32 logic_box=[[4608, 4416, 0], [7232, 6080, 1]] m=-1.7182023525238037 M=4.046962261199951 ms=19\");\n"
      ],
      "text/plain": [
       "<IPython.core.display.Javascript object>"
      ]
     },
     "metadata": {},
     "output_type": "display_data"
    },
    {
     "data": {
      "application/javascript": [
       "console.log(\"[120216][INFO][openvisuspy.slice:209:pushJobIfNeeded] pushing new job\");\n"
      ],
      "text/plain": [
       "<IPython.core.display.Javascript object>"
      ]
     },
     "metadata": {},
     "output_type": "display_data"
    },
    {
     "data": {
      "application/javascript": [
       "console.log(\"[120216][INFO][openvisuspy.backend_cpp:76:printStatistics] Stats::printStatistics enlapsed=0.04907941818237305 seconds\");\n"
      ],
      "text/plain": [
       "<IPython.core.display.Javascript object>"
      ]
     },
     "metadata": {},
     "output_type": "display_data"
    },
    {
     "data": {
      "application/javascript": [
       "console.log(\"[120216][INFO][openvisuspy.backend_cpp:74:createBoxQuery] begin timestep=2015 field=u logic_box=[[4581.028123444093, 4515.509022179768, 45], [7172.740384306823, 6131.237791006932, 46]] num_refinements=4 max_pixels=97984 endh=34\");\n"
      ],
      "text/plain": [
       "<IPython.core.display.Javascript object>"
      ]
     },
     "metadata": {},
     "output_type": "display_data"
    },
    {
     "data": {
      "application/javascript": [
       "console.log(\"[120216][INFO][openvisuspy.slice:190:renderResultIfNeeded] Slice[6]::rendering result data.shape=(26, 41) data.dtype=float32 logic_box=[[4608, 4416, 0], [7232, 6080, 1]]\");\n"
      ],
      "text/plain": [
       "<IPython.core.display.Javascript object>"
      ]
     },
     "metadata": {},
     "output_type": "display_data"
    },
    {
     "data": {
      "application/javascript": [
       "console.log(\"[120217][INFO][openvisuspy.backend_cpp:109:createBoxQuery] Guess resolution endh=25 original_box=([4581, 4515, 45], [7173, 6132, 46]) aligned_box=([4576, 4512, 40], [7168, 6128, 41]) delta=[8, 8, 8] num_pixels=[324, 202, 1] tot_pixels=65,448 max_pixels=97,984 end=25\");\n"
      ],
      "text/plain": [
       "<IPython.core.display.Javascript object>"
      ]
     },
     "metadata": {},
     "output_type": "display_data"
    },
    {
     "data": {
      "application/javascript": [
       "console.log(\"[120217][INFO][openvisuspy.slice:209:pushJobIfNeeded] pushing new job\");\n"
      ],
      "text/plain": [
       "<IPython.core.display.Javascript object>"
      ]
     },
     "metadata": {},
     "output_type": "display_data"
    },
    {
     "data": {
      "application/javascript": [
       "console.log(\"[120217][INFO][openvisuspy.backend_cpp:138:beginBoxQuery] beginBoxQuery timestep=2015 field=u logic_box=[[4544, 4480, 0], [7168, 6080, 1]] end_resolutions=[16, 19, 22, 25]\");\n"
      ],
      "text/plain": [
       "<IPython.core.display.Javascript object>"
      ]
     },
     "metadata": {},
     "output_type": "display_data"
    },
    {
     "data": {
      "application/javascript": [
       "console.log(\"[120217][INFO][openvisuspy.backend_cpp:76:printStatistics] Stats::printStatistics enlapsed=0.018996000289916992 seconds\");\n"
      ],
      "text/plain": [
       "<IPython.core.display.Javascript object>"
      ]
     },
     "metadata": {},
     "output_type": "display_data"
    },
    {
     "data": {
      "application/javascript": [
       "console.log(\"[120217][INFO][openvisuspy.backend_cpp:74:createBoxQuery] begin timestep=2015 field=u logic_box=[[4554.248088601654, 4515.509022179768, 45], [7145.960349464384, 6131.237791006932, 46]] num_refinements=4 max_pixels=97984 endh=34\");\n"
      ],
      "text/plain": [
       "<IPython.core.display.Javascript object>"
      ]
     },
     "metadata": {},
     "output_type": "display_data"
    },
    {
     "data": {
      "application/javascript": [
       "console.log(\"[120217][INFO][openvisuspy.slice:209:pushJobIfNeeded] pushing new job\");\n"
      ],
      "text/plain": [
       "<IPython.core.display.Javascript object>"
      ]
     },
     "metadata": {},
     "output_type": "display_data"
    },
    {
     "data": {
      "application/javascript": [
       "console.log(\"[120217][INFO][openvisuspy.backend_cpp:109:createBoxQuery] Guess resolution endh=25 original_box=([4554, 4515, 45], [7146, 6132, 46]) aligned_box=([4552, 4512, 40], [7144, 6128, 41]) delta=[8, 8, 8] num_pixels=[324, 202, 1] tot_pixels=65,448 max_pixels=97,984 end=25\");\n"
      ],
      "text/plain": [
       "<IPython.core.display.Javascript object>"
      ]
     },
     "metadata": {},
     "output_type": "display_data"
    },
    {
     "data": {
      "application/javascript": [
       "console.log(\"[120217][INFO][openvisuspy.backend_cpp:138:beginBoxQuery] beginBoxQuery timestep=2015 field=u logic_box=[[4544, 4480, 0], [7104, 6080, 1]] end_resolutions=[16, 19, 22, 25]\");\n"
      ],
      "text/plain": [
       "<IPython.core.display.Javascript object>"
      ]
     },
     "metadata": {},
     "output_type": "display_data"
    },
    {
     "data": {
      "application/javascript": [
       "console.log(\"[120217][INFO][openvisuspy.backend_cpp:76:printStatistics] Stats::printStatistics enlapsed=0.016162872314453125 seconds\");\n"
      ],
      "text/plain": [
       "<IPython.core.display.Javascript object>"
      ]
     },
     "metadata": {},
     "output_type": "display_data"
    },
    {
     "data": {
      "application/javascript": [
       "console.log(\"[120217][INFO][openvisuspy.backend_cpp:74:createBoxQuery] begin timestep=2015 field=u logic_box=[[4554.248088601654, 4524.435700460581, 45], [7145.960349464384, 6140.164469287744, 46]] num_refinements=4 max_pixels=97984 endh=34\");\n"
      ],
      "text/plain": [
       "<IPython.core.display.Javascript object>"
      ]
     },
     "metadata": {},
     "output_type": "display_data"
    },
    {
     "data": {
      "application/javascript": [
       "console.log(\"[120217][INFO][openvisuspy.backend_cpp:109:createBoxQuery] Guess resolution endh=25 original_box=([4554, 4524, 45], [7146, 6141, 46]) aligned_box=([4552, 4520, 40], [7144, 6136, 41]) delta=[8, 8, 8] num_pixels=[324, 202, 1] tot_pixels=65,448 max_pixels=97,984 end=25\");\n"
      ],
      "text/plain": [
       "<IPython.core.display.Javascript object>"
      ]
     },
     "metadata": {},
     "output_type": "display_data"
    },
    {
     "data": {
      "application/javascript": [
       "console.log(\"[120217][INFO][openvisuspy.slice:209:pushJobIfNeeded] pushing new job\");\n"
      ],
      "text/plain": [
       "<IPython.core.display.Javascript object>"
      ]
     },
     "metadata": {},
     "output_type": "display_data"
    },
    {
     "data": {
      "application/javascript": [
       "console.log(\"[120217][INFO][openvisuspy.backend_cpp:138:beginBoxQuery] beginBoxQuery timestep=2015 field=u logic_box=[[4544, 4480, 0], [7104, 6080, 1]] end_resolutions=[16, 19, 22, 25]\");\n"
      ],
      "text/plain": [
       "<IPython.core.display.Javascript object>"
      ]
     },
     "metadata": {},
     "output_type": "display_data"
    },
    {
     "data": {
      "application/javascript": [
       "console.log(\"[120217][INFO][openvisuspy.backend_cpp:76:printStatistics] Stats::printStatistics enlapsed=0.019132375717163086 seconds\");\n"
      ],
      "text/plain": [
       "<IPython.core.display.Javascript object>"
      ]
     },
     "metadata": {},
     "output_type": "display_data"
    },
    {
     "data": {
      "application/javascript": [
       "console.log(\"[120217][INFO][openvisuspy.backend_cpp:74:createBoxQuery] begin timestep=2015 field=u logic_box=[[4512.590256624526, 4542.289057022207, 45], [7104.302517487256, 6158.017825849371, 46]] num_refinements=4 max_pixels=97984 endh=34\");\n"
      ],
      "text/plain": [
       "<IPython.core.display.Javascript object>"
      ]
     },
     "metadata": {},
     "output_type": "display_data"
    },
    {
     "data": {
      "application/javascript": [
       "console.log(\"[120217][INFO][openvisuspy.backend_cpp:109:createBoxQuery] Guess resolution endh=25 original_box=([4512, 4542, 45], [7105, 6159, 46]) aligned_box=([4512, 4536, 40], [7104, 6152, 41]) delta=[8, 8, 8] num_pixels=[324, 202, 1] tot_pixels=65,448 max_pixels=97,984 end=25\");\n"
      ],
      "text/plain": [
       "<IPython.core.display.Javascript object>"
      ]
     },
     "metadata": {},
     "output_type": "display_data"
    },
    {
     "data": {
      "application/javascript": [
       "console.log(\"[120217][INFO][openvisuspy.backend_cpp:138:beginBoxQuery] beginBoxQuery timestep=2015 field=u logic_box=[[4480, 4480, 0], [7104, 6144, 1]] end_resolutions=[16, 19, 22, 25]\");\n"
      ],
      "text/plain": [
       "<IPython.core.display.Javascript object>"
      ]
     },
     "metadata": {},
     "output_type": "display_data"
    },
    {
     "data": {
      "application/javascript": [
       "console.log(\"[120217][INFO][openvisuspy.slice:209:pushJobIfNeeded] pushing new job\");\n"
      ],
      "text/plain": [
       "<IPython.core.display.Javascript object>"
      ]
     },
     "metadata": {},
     "output_type": "display_data"
    },
    {
     "data": {
      "application/javascript": [
       "console.log(\"[120217][INFO][openvisuspy.backend_cpp:168:returnBoxQueryData] got data 0/[16, 19, 22, 25] timestep=2015 field=u H=16 data.shape=(26, 41) data.dtype=float32 logic_box=[[4480, 4480, 0], [7104, 6144, 1]] m=-1.7182023525238037 M=4.046962261199951 ms=21\");\n"
      ],
      "text/plain": [
       "<IPython.core.display.Javascript object>"
      ]
     },
     "metadata": {},
     "output_type": "display_data"
    },
    {
     "data": {
      "application/javascript": [
       "console.log(\"[120217][INFO][openvisuspy.backend_cpp:76:printStatistics] Stats::printStatistics enlapsed=0.06134486198425293 seconds\");\n"
      ],
      "text/plain": [
       "<IPython.core.display.Javascript object>"
      ]
     },
     "metadata": {},
     "output_type": "display_data"
    },
    {
     "data": {
      "application/javascript": [
       "console.log(\"[120217][INFO][openvisuspy.slice:190:renderResultIfNeeded] Slice[6]::rendering result data.shape=(26, 41) data.dtype=float32 logic_box=[[4480, 4480, 0], [7104, 6144, 1]]\");\n"
      ],
      "text/plain": [
       "<IPython.core.display.Javascript object>"
      ]
     },
     "metadata": {},
     "output_type": "display_data"
    },
    {
     "data": {
      "application/javascript": [
       "console.log(\"[120217][INFO][openvisuspy.backend_cpp:74:createBoxQuery] begin timestep=2015 field=u logic_box=[[4482.834662355149, 4554.191294729958, 45], [7074.546923217879, 6169.9200635571215, 46]] num_refinements=4 max_pixels=97984 endh=34\");\n"
      ],
      "text/plain": [
       "<IPython.core.display.Javascript object>"
      ]
     },
     "metadata": {},
     "output_type": "display_data"
    },
    {
     "data": {
      "application/javascript": [
       "console.log(\"[120217][INFO][openvisuspy.backend_cpp:109:createBoxQuery] Guess resolution endh=25 original_box=([4482, 4554, 45], [7075, 6170, 46]) aligned_box=([4480, 4552, 40], [7072, 6168, 41]) delta=[8, 8, 8] num_pixels=[324, 202, 1] tot_pixels=65,448 max_pixels=97,984 end=25\");\n"
      ],
      "text/plain": [
       "<IPython.core.display.Javascript object>"
      ]
     },
     "metadata": {},
     "output_type": "display_data"
    },
    {
     "data": {
      "application/javascript": [
       "console.log(\"[120217][INFO][openvisuspy.backend_cpp:138:beginBoxQuery] beginBoxQuery timestep=2015 field=u logic_box=[[4480, 4544, 0], [7040, 6144, 1]] end_resolutions=[16, 19, 22, 25]\");\n"
      ],
      "text/plain": [
       "<IPython.core.display.Javascript object>"
      ]
     },
     "metadata": {},
     "output_type": "display_data"
    },
    {
     "data": {
      "application/javascript": [
       "console.log(\"[120217][INFO][openvisuspy.backend_cpp:168:returnBoxQueryData] got data 0/[16, 19, 22, 25] timestep=2015 field=u H=16 data.shape=(25, 40) data.dtype=float32 logic_box=[[4480, 4544, 0], [7040, 6144, 1]] m=-1.7182023525238037 M=4.046962261199951 ms=20\");\n"
      ],
      "text/plain": [
       "<IPython.core.display.Javascript object>"
      ]
     },
     "metadata": {},
     "output_type": "display_data"
    },
    {
     "data": {
      "application/javascript": [
       "console.log(\"[120217][INFO][openvisuspy.slice:190:renderResultIfNeeded] Slice[6]::rendering result data.shape=(25, 40) data.dtype=float32 logic_box=[[4480, 4544, 0], [7040, 6144, 1]]\");\n"
      ],
      "text/plain": [
       "<IPython.core.display.Javascript object>"
      ]
     },
     "metadata": {},
     "output_type": "display_data"
    },
    {
     "data": {
      "application/javascript": [
       "console.log(\"[120217][INFO][openvisuspy.backend_cpp:168:returnBoxQueryData] got data 1/[16, 19, 22, 25] timestep=2015 field=u H=19 data.shape=(50, 80) data.dtype=float32 logic_box=[[4480, 4544, 0], [7040, 6144, 1]] m=-1.7182023525238037 M=4.046962261199951 ms=44\");\n"
      ],
      "text/plain": [
       "<IPython.core.display.Javascript object>"
      ]
     },
     "metadata": {},
     "output_type": "display_data"
    },
    {
     "data": {
      "application/javascript": [
       "console.log(\"[120217][INFO][openvisuspy.slice:209:pushJobIfNeeded] pushing new job\");\n"
      ],
      "text/plain": [
       "<IPython.core.display.Javascript object>"
      ]
     },
     "metadata": {},
     "output_type": "display_data"
    },
    {
     "data": {
      "application/javascript": [
       "console.log(\"[120217][INFO][openvisuspy.backend_cpp:76:printStatistics] Stats::printStatistics enlapsed=0.08199715614318848 seconds\");\n"
      ],
      "text/plain": [
       "<IPython.core.display.Javascript object>"
      ]
     },
     "metadata": {},
     "output_type": "display_data"
    },
    {
     "data": {
      "application/javascript": [
       "console.log(\"[120217][INFO][openvisuspy.backend_cpp:74:createBoxQuery] begin timestep=2015 field=u logic_box=[[4473.907984074336, 4560.142413583833, 45], [7065.620244937067, 6175.871182410997, 46]] num_refinements=4 max_pixels=97984 endh=34\");\n"
      ],
      "text/plain": [
       "<IPython.core.display.Javascript object>"
      ]
     },
     "metadata": {},
     "output_type": "display_data"
    },
    {
     "data": {
      "application/javascript": [
       "console.log(\"[120217][INFO][openvisuspy.slice:190:renderResultIfNeeded] Slice[6]::rendering result data.shape=(50, 80) data.dtype=float32 logic_box=[[4480, 4544, 0], [7040, 6144, 1]]\");\n"
      ],
      "text/plain": [
       "<IPython.core.display.Javascript object>"
      ]
     },
     "metadata": {},
     "output_type": "display_data"
    },
    {
     "data": {
      "application/javascript": [
       "console.log(\"[120217][INFO][openvisuspy.backend_cpp:109:createBoxQuery] Guess resolution endh=25 original_box=([4473, 4560, 45], [7066, 6176, 46]) aligned_box=([4472, 4560, 40], [7064, 6176, 41]) delta=[8, 8, 8] num_pixels=[324, 202, 1] tot_pixels=65,448 max_pixels=97,984 end=25\");\n"
      ],
      "text/plain": [
       "<IPython.core.display.Javascript object>"
      ]
     },
     "metadata": {},
     "output_type": "display_data"
    },
    {
     "data": {
      "application/javascript": [
       "console.log(\"[120217][INFO][openvisuspy.slice:209:pushJobIfNeeded] pushing new job\");\n"
      ],
      "text/plain": [
       "<IPython.core.display.Javascript object>"
      ]
     },
     "metadata": {},
     "output_type": "display_data"
    },
    {
     "data": {
      "application/javascript": [
       "console.log(\"[120217][INFO][openvisuspy.backend_cpp:138:beginBoxQuery] beginBoxQuery timestep=2015 field=u logic_box=[[4416, 4544, 0], [7040, 6144, 1]] end_resolutions=[16, 19, 22, 25]\");\n"
      ],
      "text/plain": [
       "<IPython.core.display.Javascript object>"
      ]
     },
     "metadata": {},
     "output_type": "display_data"
    },
    {
     "data": {
      "application/javascript": [
       "console.log(\"[120217][INFO][openvisuspy.backend_cpp:76:printStatistics] Stats::printStatistics enlapsed=0.02101588249206543 seconds\");\n"
      ],
      "text/plain": [
       "<IPython.core.display.Javascript object>"
      ]
     },
     "metadata": {},
     "output_type": "display_data"
    },
    {
     "data": {
      "application/javascript": [
       "console.log(\"[120217][INFO][openvisuspy.backend_cpp:74:createBoxQuery] begin timestep=2015 field=u logic_box=[[4470.932424647398, 4560.142413583833, 45], [7062.6446855101285, 6175.871182410997, 46]] num_refinements=4 max_pixels=97984 endh=34\");\n"
      ],
      "text/plain": [
       "<IPython.core.display.Javascript object>"
      ]
     },
     "metadata": {},
     "output_type": "display_data"
    },
    {
     "data": {
      "application/javascript": [
       "console.log(\"[120217][INFO][openvisuspy.backend_cpp:109:createBoxQuery] Guess resolution endh=25 original_box=([4470, 4560, 45], [7063, 6176, 46]) aligned_box=([4464, 4560, 40], [7056, 6176, 41]) delta=[8, 8, 8] num_pixels=[324, 202, 1] tot_pixels=65,448 max_pixels=97,984 end=25\");\n"
      ],
      "text/plain": [
       "<IPython.core.display.Javascript object>"
      ]
     },
     "metadata": {},
     "output_type": "display_data"
    },
    {
     "data": {
      "application/javascript": [
       "console.log(\"[120217][INFO][openvisuspy.slice:209:pushJobIfNeeded] pushing new job\");\n"
      ],
      "text/plain": [
       "<IPython.core.display.Javascript object>"
      ]
     },
     "metadata": {},
     "output_type": "display_data"
    },
    {
     "data": {
      "application/javascript": [
       "console.log(\"[120217][INFO][openvisuspy.backend_cpp:138:beginBoxQuery] beginBoxQuery timestep=2015 field=u logic_box=[[4416, 4544, 0], [7040, 6144, 1]] end_resolutions=[16, 19, 22, 25]\");\n"
      ],
      "text/plain": [
       "<IPython.core.display.Javascript object>"
      ]
     },
     "metadata": {},
     "output_type": "display_data"
    },
    {
     "data": {
      "application/javascript": [
       "console.log(\"[120217][INFO][openvisuspy.backend_cpp:76:printStatistics] Stats::printStatistics enlapsed=0.01798224449157715 seconds\");\n"
      ],
      "text/plain": [
       "<IPython.core.display.Javascript object>"
      ]
     },
     "metadata": {},
     "output_type": "display_data"
    },
    {
     "data": {
      "application/javascript": [
       "console.log(\"[120217][INFO][openvisuspy.backend_cpp:74:createBoxQuery] begin timestep=2015 field=u logic_box=[[4467.956865220461, 4566.093532437709, 45], [7059.669126083191, 6181.822301264872, 46]] num_refinements=4 max_pixels=97984 endh=34\");\n"
      ],
      "text/plain": [
       "<IPython.core.display.Javascript object>"
      ]
     },
     "metadata": {},
     "output_type": "display_data"
    },
    {
     "data": {
      "application/javascript": [
       "console.log(\"[120217][INFO][openvisuspy.backend_cpp:109:createBoxQuery] Guess resolution endh=25 original_box=([4467, 4566, 45], [7060, 6182, 46]) aligned_box=([4464, 4560, 40], [7056, 6176, 41]) delta=[8, 8, 8] num_pixels=[324, 202, 1] tot_pixels=65,448 max_pixels=97,984 end=25\");\n"
      ],
      "text/plain": [
       "<IPython.core.display.Javascript object>"
      ]
     },
     "metadata": {},
     "output_type": "display_data"
    },
    {
     "data": {
      "application/javascript": [
       "console.log(\"[120217][INFO][openvisuspy.backend_cpp:138:beginBoxQuery] beginBoxQuery timestep=2015 field=u logic_box=[[4416, 4544, 0], [7040, 6144, 1]] end_resolutions=[16, 19, 22, 25]\");\n"
      ],
      "text/plain": [
       "<IPython.core.display.Javascript object>"
      ]
     },
     "metadata": {},
     "output_type": "display_data"
    },
    {
     "data": {
      "application/javascript": [
       "console.log(\"[120217][INFO][openvisuspy.slice:209:pushJobIfNeeded] pushing new job\");\n"
      ],
      "text/plain": [
       "<IPython.core.display.Javascript object>"
      ]
     },
     "metadata": {},
     "output_type": "display_data"
    },
    {
     "data": {
      "application/javascript": [
       "console.log(\"[120217][INFO][openvisuspy.backend_cpp:76:printStatistics] Stats::printStatistics enlapsed=0.031058549880981445 seconds\");\n"
      ],
      "text/plain": [
       "<IPython.core.display.Javascript object>"
      ]
     },
     "metadata": {},
     "output_type": "display_data"
    },
    {
     "data": {
      "application/javascript": [
       "console.log(\"[120217][INFO][openvisuspy.backend_cpp:74:createBoxQuery] begin timestep=2015 field=u logic_box=[[4438.201270951084, 4586.922448426272, 45], [7029.913531813814, 6202.651217253436, 46]] num_refinements=4 max_pixels=97984 endh=34\");\n"
      ],
      "text/plain": [
       "<IPython.core.display.Javascript object>"
      ]
     },
     "metadata": {},
     "output_type": "display_data"
    },
    {
     "data": {
      "application/javascript": [
       "console.log(\"[120217][INFO][openvisuspy.backend_cpp:109:createBoxQuery] Guess resolution endh=25 original_box=([4438, 4586, 45], [7030, 6203, 46]) aligned_box=([4432, 4584, 40], [7024, 6200, 41]) delta=[8, 8, 8] num_pixels=[324, 202, 1] tot_pixels=65,448 max_pixels=97,984 end=25\");\n"
      ],
      "text/plain": [
       "<IPython.core.display.Javascript object>"
      ]
     },
     "metadata": {},
     "output_type": "display_data"
    },
    {
     "data": {
      "application/javascript": [
       "console.log(\"[120217][INFO][openvisuspy.backend_cpp:138:beginBoxQuery] beginBoxQuery timestep=2015 field=u logic_box=[[4416, 4544, 0], [6976, 6144, 1]] end_resolutions=[16, 19, 22, 25]\");\n"
      ],
      "text/plain": [
       "<IPython.core.display.Javascript object>"
      ]
     },
     "metadata": {},
     "output_type": "display_data"
    },
    {
     "data": {
      "application/javascript": [
       "console.log(\"[120217][INFO][openvisuspy.slice:209:pushJobIfNeeded] pushing new job\");\n"
      ],
      "text/plain": [
       "<IPython.core.display.Javascript object>"
      ]
     },
     "metadata": {},
     "output_type": "display_data"
    },
    {
     "data": {
      "application/javascript": [
       "console.log(\"[120217][INFO][openvisuspy.backend_cpp:76:printStatistics] Stats::printStatistics enlapsed=0.02901434898376465 seconds\");\n"
      ],
      "text/plain": [
       "<IPython.core.display.Javascript object>"
      ]
     },
     "metadata": {},
     "output_type": "display_data"
    },
    {
     "data": {
      "application/javascript": [
       "console.log(\"[120217][INFO][openvisuspy.backend_cpp:74:createBoxQuery] begin timestep=2015 field=u logic_box=[[4420.347914389457, 4598.824686134023, 45], [7012.060175252188, 6214.553454961187, 46]] num_refinements=4 max_pixels=97984 endh=34\");\n"
      ],
      "text/plain": [
       "<IPython.core.display.Javascript object>"
      ]
     },
     "metadata": {},
     "output_type": "display_data"
    },
    {
     "data": {
      "application/javascript": [
       "console.log(\"[120217][INFO][openvisuspy.backend_cpp:109:createBoxQuery] Guess resolution endh=25 original_box=([4420, 4598, 45], [7013, 6215, 46]) aligned_box=([4416, 4592, 40], [7008, 6208, 41]) delta=[8, 8, 8] num_pixels=[324, 202, 1] tot_pixels=65,448 max_pixels=97,984 end=25\");\n"
      ],
      "text/plain": [
       "<IPython.core.display.Javascript object>"
      ]
     },
     "metadata": {},
     "output_type": "display_data"
    },
    {
     "data": {
      "application/javascript": [
       "console.log(\"[120217][INFO][openvisuspy.slice:209:pushJobIfNeeded] pushing new job\");\n"
      ],
      "text/plain": [
       "<IPython.core.display.Javascript object>"
      ]
     },
     "metadata": {},
     "output_type": "display_data"
    },
    {
     "data": {
      "application/javascript": [
       "console.log(\"[120217][INFO][openvisuspy.backend_cpp:138:beginBoxQuery] beginBoxQuery timestep=2015 field=u logic_box=[[4416, 4544, 0], [6976, 6208, 1]] end_resolutions=[16, 19, 22, 25]\");\n"
      ],
      "text/plain": [
       "<IPython.core.display.Javascript object>"
      ]
     },
     "metadata": {},
     "output_type": "display_data"
    },
    {
     "data": {
      "application/javascript": [
       "console.log(\"[120217][INFO][openvisuspy.backend_cpp:76:printStatistics] Stats::printStatistics enlapsed=0.022077083587646484 seconds\");\n"
      ],
      "text/plain": [
       "<IPython.core.display.Javascript object>"
      ]
     },
     "metadata": {},
     "output_type": "display_data"
    },
    {
     "data": {
      "application/javascript": [
       "console.log(\"[120217][INFO][openvisuspy.backend_cpp:74:createBoxQuery] begin timestep=2015 field=u logic_box=[[4402.49455782783, 4610.726923841774, 45], [6994.206818690562, 6226.455692668937, 46]] num_refinements=4 max_pixels=97984 endh=34\");\n"
      ],
      "text/plain": [
       "<IPython.core.display.Javascript object>"
      ]
     },
     "metadata": {},
     "output_type": "display_data"
    },
    {
     "data": {
      "application/javascript": [
       "console.log(\"[120217][INFO][openvisuspy.backend_cpp:109:createBoxQuery] Guess resolution endh=25 original_box=([4402, 4610, 45], [6995, 6227, 46]) aligned_box=([4400, 4608, 40], [6992, 6224, 41]) delta=[8, 8, 8] num_pixels=[324, 202, 1] tot_pixels=65,448 max_pixels=97,984 end=25\");\n"
      ],
      "text/plain": [
       "<IPython.core.display.Javascript object>"
      ]
     },
     "metadata": {},
     "output_type": "display_data"
    },
    {
     "data": {
      "application/javascript": [
       "console.log(\"[120217][INFO][openvisuspy.backend_cpp:138:beginBoxQuery] beginBoxQuery timestep=2015 field=u logic_box=[[4352, 4608, 0], [6976, 6208, 1]] end_resolutions=[16, 19, 22, 25]\");\n"
      ],
      "text/plain": [
       "<IPython.core.display.Javascript object>"
      ]
     },
     "metadata": {},
     "output_type": "display_data"
    },
    {
     "data": {
      "application/javascript": [
       "console.log(\"[120217][INFO][openvisuspy.slice:209:pushJobIfNeeded] pushing new job\");\n"
      ],
      "text/plain": [
       "<IPython.core.display.Javascript object>"
      ]
     },
     "metadata": {},
     "output_type": "display_data"
    },
    {
     "data": {
      "application/javascript": [
       "console.log(\"[120217][INFO][openvisuspy.backend_cpp:76:printStatistics] Stats::printStatistics enlapsed=0.032855987548828125 seconds\");\n"
      ],
      "text/plain": [
       "<IPython.core.display.Javascript object>"
      ]
     },
     "metadata": {},
     "output_type": "display_data"
    },
    {
     "data": {
      "application/javascript": [
       "console.log(\"[120217][INFO][openvisuspy.backend_cpp:74:createBoxQuery] begin timestep=2015 field=u logic_box=[[4396.543438973955, 4613.702483268712, 45], [6988.255699836686, 6229.431252095876, 46]] num_refinements=4 max_pixels=97984 endh=34\");\n"
      ],
      "text/plain": [
       "<IPython.core.display.Javascript object>"
      ]
     },
     "metadata": {},
     "output_type": "display_data"
    },
    {
     "data": {
      "application/javascript": [
       "console.log(\"[120217][INFO][openvisuspy.backend_cpp:109:createBoxQuery] Guess resolution endh=25 original_box=([4396, 4613, 45], [6989, 6230, 46]) aligned_box=([4392, 4608, 40], [6984, 6224, 41]) delta=[8, 8, 8] num_pixels=[324, 202, 1] tot_pixels=65,448 max_pixels=97,984 end=25\");\n"
      ],
      "text/plain": [
       "<IPython.core.display.Javascript object>"
      ]
     },
     "metadata": {},
     "output_type": "display_data"
    },
    {
     "data": {
      "application/javascript": [
       "console.log(\"[120217][INFO][openvisuspy.slice:209:pushJobIfNeeded] pushing new job\");\n"
      ],
      "text/plain": [
       "<IPython.core.display.Javascript object>"
      ]
     },
     "metadata": {},
     "output_type": "display_data"
    },
    {
     "data": {
      "application/javascript": [
       "console.log(\"[120217][INFO][openvisuspy.backend_cpp:138:beginBoxQuery] beginBoxQuery timestep=2015 field=u logic_box=[[4352, 4608, 0], [6976, 6208, 1]] end_resolutions=[16, 19, 22, 25]\");\n"
      ],
      "text/plain": [
       "<IPython.core.display.Javascript object>"
      ]
     },
     "metadata": {},
     "output_type": "display_data"
    },
    {
     "data": {
      "application/javascript": [
       "console.log(\"[120217][INFO][openvisuspy.backend_cpp:76:printStatistics] Stats::printStatistics enlapsed=0.020002126693725586 seconds\");\n"
      ],
      "text/plain": [
       "<IPython.core.display.Javascript object>"
      ]
     },
     "metadata": {},
     "output_type": "display_data"
    },
    {
     "data": {
      "application/javascript": [
       "console.log(\"[120217][INFO][openvisuspy.backend_cpp:74:createBoxQuery] begin timestep=2015 field=u logic_box=[[4384.641201266204, 4619.6536021225875, 45], [6976.3534621289355, 6235.382370949751, 46]] num_refinements=4 max_pixels=97984 endh=34\");\n"
      ],
      "text/plain": [
       "<IPython.core.display.Javascript object>"
      ]
     },
     "metadata": {},
     "output_type": "display_data"
    },
    {
     "data": {
      "application/javascript": [
       "console.log(\"[120217][INFO][openvisuspy.backend_cpp:109:createBoxQuery] Guess resolution endh=25 original_box=([4384, 4619, 45], [6977, 6236, 46]) aligned_box=([4384, 4616, 40], [6976, 6232, 41]) delta=[8, 8, 8] num_pixels=[324, 202, 1] tot_pixels=65,448 max_pixels=97,984 end=25\");\n"
      ],
      "text/plain": [
       "<IPython.core.display.Javascript object>"
      ]
     },
     "metadata": {},
     "output_type": "display_data"
    },
    {
     "data": {
      "application/javascript": [
       "console.log(\"[120217][INFO][openvisuspy.backend_cpp:138:beginBoxQuery] beginBoxQuery timestep=2015 field=u logic_box=[[4352, 4608, 0], [6976, 6208, 1]] end_resolutions=[16, 19, 22, 25]\");\n"
      ],
      "text/plain": [
       "<IPython.core.display.Javascript object>"
      ]
     },
     "metadata": {},
     "output_type": "display_data"
    },
    {
     "data": {
      "application/javascript": [
       "console.log(\"[120217][INFO][openvisuspy.slice:209:pushJobIfNeeded] pushing new job\");\n"
      ],
      "text/plain": [
       "<IPython.core.display.Javascript object>"
      ]
     },
     "metadata": {},
     "output_type": "display_data"
    },
    {
     "data": {
      "application/javascript": [
       "console.log(\"[120217][INFO][openvisuspy.backend_cpp:76:printStatistics] Stats::printStatistics enlapsed=0.029263019561767578 seconds\");\n"
      ],
      "text/plain": [
       "<IPython.core.display.Javascript object>"
      ]
     },
     "metadata": {},
     "output_type": "display_data"
    },
    {
     "data": {
      "application/javascript": [
       "console.log(\"[120217][INFO][openvisuspy.backend_cpp:74:createBoxQuery] begin timestep=2015 field=u logic_box=[[4381.665641839266, 4619.6536021225875, 45], [6973.377902701997, 6235.382370949751, 46]] num_refinements=4 max_pixels=97984 endh=34\");\n"
      ],
      "text/plain": [
       "<IPython.core.display.Javascript object>"
      ]
     },
     "metadata": {},
     "output_type": "display_data"
    },
    {
     "data": {
      "application/javascript": [
       "console.log(\"[120217][INFO][openvisuspy.backend_cpp:109:createBoxQuery] Guess resolution endh=25 original_box=([4381, 4619, 45], [6974, 6236, 46]) aligned_box=([4376, 4616, 40], [6968, 6232, 41]) delta=[8, 8, 8] num_pixels=[324, 202, 1] tot_pixels=65,448 max_pixels=97,984 end=25\");\n"
      ],
      "text/plain": [
       "<IPython.core.display.Javascript object>"
      ]
     },
     "metadata": {},
     "output_type": "display_data"
    },
    {
     "data": {
      "application/javascript": [
       "console.log(\"[120217][INFO][openvisuspy.backend_cpp:138:beginBoxQuery] beginBoxQuery timestep=2015 field=u logic_box=[[4352, 4608, 0], [6912, 6208, 1]] end_resolutions=[16, 19, 22, 25]\");\n"
      ],
      "text/plain": [
       "<IPython.core.display.Javascript object>"
      ]
     },
     "metadata": {},
     "output_type": "display_data"
    },
    {
     "data": {
      "application/javascript": [
       "console.log(\"[120217][INFO][openvisuspy.slice:209:pushJobIfNeeded] pushing new job\");\n"
      ],
      "text/plain": [
       "<IPython.core.display.Javascript object>"
      ]
     },
     "metadata": {},
     "output_type": "display_data"
    },
    {
     "data": {
      "application/javascript": [
       "console.log(\"[120217][INFO][openvisuspy.backend_cpp:76:printStatistics] Stats::printStatistics enlapsed=0.03167319297790527 seconds\");\n"
      ],
      "text/plain": [
       "<IPython.core.display.Javascript object>"
      ]
     },
     "metadata": {},
     "output_type": "display_data"
    },
    {
     "data": {
      "application/javascript": [
       "console.log(\"[120217][INFO][openvisuspy.backend_cpp:74:createBoxQuery] begin timestep=2015 field=u logic_box=[[4375.71452298539, 4625.604720976463, 45], [6967.426783848122, 6241.333489803626, 46]] num_refinements=4 max_pixels=97984 endh=34\");\n"
      ],
      "text/plain": [
       "<IPython.core.display.Javascript object>"
      ]
     },
     "metadata": {},
     "output_type": "display_data"
    },
    {
     "data": {
      "application/javascript": [
       "console.log(\"[120217][INFO][openvisuspy.backend_cpp:109:createBoxQuery] Guess resolution endh=25 original_box=([4375, 4625, 45], [6968, 6242, 46]) aligned_box=([4368, 4624, 40], [6968, 6240, 41]) delta=[8, 8, 8] num_pixels=[325, 202, 1] tot_pixels=65,650 max_pixels=97,984 end=25\");\n"
      ],
      "text/plain": [
       "<IPython.core.display.Javascript object>"
      ]
     },
     "metadata": {},
     "output_type": "display_data"
    },
    {
     "data": {
      "application/javascript": [
       "console.log(\"[120217][INFO][openvisuspy.slice:209:pushJobIfNeeded] pushing new job\");\n"
      ],
      "text/plain": [
       "<IPython.core.display.Javascript object>"
      ]
     },
     "metadata": {},
     "output_type": "display_data"
    },
    {
     "data": {
      "application/javascript": [
       "console.log(\"[120217][INFO][openvisuspy.backend_cpp:138:beginBoxQuery] beginBoxQuery timestep=2015 field=u logic_box=[[4352, 4608, 0], [6912, 6208, 1]] end_resolutions=[16, 19, 22, 25]\");\n"
      ],
      "text/plain": [
       "<IPython.core.display.Javascript object>"
      ]
     },
     "metadata": {},
     "output_type": "display_data"
    },
    {
     "data": {
      "application/javascript": [
       "console.log(\"[120217][INFO][openvisuspy.backend_cpp:76:printStatistics] Stats::printStatistics enlapsed=0.019001483917236328 seconds\");\n"
      ],
      "text/plain": [
       "<IPython.core.display.Javascript object>"
      ]
     },
     "metadata": {},
     "output_type": "display_data"
    },
    {
     "data": {
      "application/javascript": [
       "console.log(\"[120217][INFO][openvisuspy.backend_cpp:74:createBoxQuery] begin timestep=2015 field=u logic_box=[[4363.81228527764, 4634.531399257276, 45], [6955.524546140371, 6250.260168084439, 46]] num_refinements=4 max_pixels=97984 endh=34\");\n"
      ],
      "text/plain": [
       "<IPython.core.display.Javascript object>"
      ]
     },
     "metadata": {},
     "output_type": "display_data"
    },
    {
     "data": {
      "application/javascript": [
       "console.log(\"[120217][INFO][openvisuspy.backend_cpp:109:createBoxQuery] Guess resolution endh=25 original_box=([4363, 4634, 45], [6956, 6251, 46]) aligned_box=([4360, 4632, 40], [6952, 6248, 41]) delta=[8, 8, 8] num_pixels=[324, 202, 1] tot_pixels=65,448 max_pixels=97,984 end=25\");\n"
      ],
      "text/plain": [
       "<IPython.core.display.Javascript object>"
      ]
     },
     "metadata": {},
     "output_type": "display_data"
    },
    {
     "data": {
      "application/javascript": [
       "console.log(\"[120217][INFO][openvisuspy.backend_cpp:138:beginBoxQuery] beginBoxQuery timestep=2015 field=u logic_box=[[4352, 4608, 0], [6912, 6208, 1]] end_resolutions=[16, 19, 22, 25]\");\n"
      ],
      "text/plain": [
       "<IPython.core.display.Javascript object>"
      ]
     },
     "metadata": {},
     "output_type": "display_data"
    },
    {
     "data": {
      "application/javascript": [
       "console.log(\"[120217][INFO][openvisuspy.slice:209:pushJobIfNeeded] pushing new job\");\n"
      ],
      "text/plain": [
       "<IPython.core.display.Javascript object>"
      ]
     },
     "metadata": {},
     "output_type": "display_data"
    },
    {
     "data": {
      "application/javascript": [
       "console.log(\"[120217][INFO][openvisuspy.backend_cpp:76:printStatistics] Stats::printStatistics enlapsed=0.032034873962402344 seconds\");\n"
      ],
      "text/plain": [
       "<IPython.core.display.Javascript object>"
      ]
     },
     "metadata": {},
     "output_type": "display_data"
    },
    {
     "data": {
      "application/javascript": [
       "console.log(\"[120217][INFO][openvisuspy.backend_cpp:74:createBoxQuery] begin timestep=2015 field=u logic_box=[[4351.910047569889, 4643.458077538088, 45], [6943.62230843262, 6259.186846365253, 46]] num_refinements=4 max_pixels=97984 endh=34\");\n"
      ],
      "text/plain": [
       "<IPython.core.display.Javascript object>"
      ]
     },
     "metadata": {},
     "output_type": "display_data"
    },
    {
     "data": {
      "application/javascript": [
       "console.log(\"[120217][INFO][openvisuspy.backend_cpp:109:createBoxQuery] Guess resolution endh=25 original_box=([4351, 4643, 45], [6944, 6260, 46]) aligned_box=([4344, 4640, 40], [6944, 6256, 41]) delta=[8, 8, 8] num_pixels=[325, 202, 1] tot_pixels=65,650 max_pixels=97,984 end=25\");\n"
      ],
      "text/plain": [
       "<IPython.core.display.Javascript object>"
      ]
     },
     "metadata": {},
     "output_type": "display_data"
    },
    {
     "data": {
      "application/javascript": [
       "console.log(\"[120217][INFO][openvisuspy.backend_cpp:138:beginBoxQuery] beginBoxQuery timestep=2015 field=u logic_box=[[4288, 4608, 0], [6912, 6208, 1]] end_resolutions=[16, 19, 22, 25]\");\n"
      ],
      "text/plain": [
       "<IPython.core.display.Javascript object>"
      ]
     },
     "metadata": {},
     "output_type": "display_data"
    },
    {
     "data": {
      "application/javascript": [
       "console.log(\"[120217][INFO][openvisuspy.slice:209:pushJobIfNeeded] pushing new job\");\n"
      ],
      "text/plain": [
       "<IPython.core.display.Javascript object>"
      ]
     },
     "metadata": {},
     "output_type": "display_data"
    },
    {
     "data": {
      "application/javascript": [
       "console.log(\"[120217][INFO][openvisuspy.backend_cpp:76:printStatistics] Stats::printStatistics enlapsed=0.030000686645507812 seconds\");\n"
      ],
      "text/plain": [
       "<IPython.core.display.Javascript object>"
      ]
     },
     "metadata": {},
     "output_type": "display_data"
    },
    {
     "data": {
      "application/javascript": [
       "console.log(\"[120217][INFO][openvisuspy.backend_cpp:74:createBoxQuery] begin timestep=2015 field=u logic_box=[[4342.983369289075, 4649.409196391964, 45], [6934.695630151808, 6265.137965219127, 46]] num_refinements=4 max_pixels=97984 endh=34\");\n"
      ],
      "text/plain": [
       "<IPython.core.display.Javascript object>"
      ]
     },
     "metadata": {},
     "output_type": "display_data"
    },
    {
     "data": {
      "application/javascript": [
       "console.log(\"[120217][INFO][openvisuspy.slice:209:pushJobIfNeeded] pushing new job\");\n"
      ],
      "text/plain": [
       "<IPython.core.display.Javascript object>"
      ]
     },
     "metadata": {},
     "output_type": "display_data"
    },
    {
     "data": {
      "application/javascript": [
       "console.log(\"[120217][INFO][openvisuspy.backend_cpp:109:createBoxQuery] Guess resolution endh=25 original_box=([4342, 4649, 45], [6935, 6266, 46]) aligned_box=([4336, 4648, 40], [6928, 6264, 41]) delta=[8, 8, 8] num_pixels=[324, 202, 1] tot_pixels=65,448 max_pixels=97,984 end=25\");\n"
      ],
      "text/plain": [
       "<IPython.core.display.Javascript object>"
      ]
     },
     "metadata": {},
     "output_type": "display_data"
    },
    {
     "data": {
      "application/javascript": [
       "console.log(\"[120217][INFO][openvisuspy.backend_cpp:138:beginBoxQuery] beginBoxQuery timestep=2015 field=u logic_box=[[4288, 4608, 0], [6912, 6208, 1]] end_resolutions=[16, 19, 22, 25]\");\n"
      ],
      "text/plain": [
       "<IPython.core.display.Javascript object>"
      ]
     },
     "metadata": {},
     "output_type": "display_data"
    },
    {
     "data": {
      "application/javascript": [
       "console.log(\"[120217][INFO][openvisuspy.backend_cpp:76:printStatistics] Stats::printStatistics enlapsed=0.018007993698120117 seconds\");\n"
      ],
      "text/plain": [
       "<IPython.core.display.Javascript object>"
      ]
     },
     "metadata": {},
     "output_type": "display_data"
    },
    {
     "data": {
      "application/javascript": [
       "console.log(\"[120217][INFO][openvisuspy.backend_cpp:74:createBoxQuery] begin timestep=2015 field=u logic_box=[[4331.081131581324, 4655.360315245839, 45], [6922.793392444057, 6271.089084073003, 46]] num_refinements=4 max_pixels=97984 endh=34\");\n"
      ],
      "text/plain": [
       "<IPython.core.display.Javascript object>"
      ]
     },
     "metadata": {},
     "output_type": "display_data"
    },
    {
     "data": {
      "application/javascript": [
       "console.log(\"[120217][INFO][openvisuspy.backend_cpp:109:createBoxQuery] Guess resolution endh=25 original_box=([4331, 4655, 45], [6923, 6272, 46]) aligned_box=([4328, 4648, 40], [6920, 6272, 41]) delta=[8, 8, 8] num_pixels=[324, 203, 1] tot_pixels=65,772 max_pixels=97,984 end=25\");\n"
      ],
      "text/plain": [
       "<IPython.core.display.Javascript object>"
      ]
     },
     "metadata": {},
     "output_type": "display_data"
    },
    {
     "data": {
      "application/javascript": [
       "console.log(\"[120217][INFO][openvisuspy.backend_cpp:138:beginBoxQuery] beginBoxQuery timestep=2015 field=u logic_box=[[4288, 4608, 0], [6912, 6272, 1]] end_resolutions=[16, 19, 22, 25]\");\n"
      ],
      "text/plain": [
       "<IPython.core.display.Javascript object>"
      ]
     },
     "metadata": {},
     "output_type": "display_data"
    },
    {
     "data": {
      "application/javascript": [
       "console.log(\"[120217][INFO][openvisuspy.slice:209:pushJobIfNeeded] pushing new job\");\n"
      ],
      "text/plain": [
       "<IPython.core.display.Javascript object>"
      ]
     },
     "metadata": {},
     "output_type": "display_data"
    },
    {
     "data": {
      "application/javascript": [
       "console.log(\"[120217][INFO][openvisuspy.backend_cpp:76:printStatistics] Stats::printStatistics enlapsed=0.03157496452331543 seconds\");\n"
      ],
      "text/plain": [
       "<IPython.core.display.Javascript object>"
      ]
     },
     "metadata": {},
     "output_type": "display_data"
    },
    {
     "data": {
      "application/javascript": [
       "console.log(\"[120217][INFO][openvisuspy.backend_cpp:74:createBoxQuery] begin timestep=2015 field=u logic_box=[[4319.1788938735735, 4664.286993526653, 45], [6910.891154736306, 6280.015762353816, 46]] num_refinements=4 max_pixels=97984 endh=34\");\n"
      ],
      "text/plain": [
       "<IPython.core.display.Javascript object>"
      ]
     },
     "metadata": {},
     "output_type": "display_data"
    },
    {
     "data": {
      "application/javascript": [
       "console.log(\"[120217][INFO][openvisuspy.backend_cpp:109:createBoxQuery] Guess resolution endh=25 original_box=([4319, 4664, 45], [6911, 6281, 46]) aligned_box=([4312, 4664, 40], [6904, 6280, 41]) delta=[8, 8, 8] num_pixels=[324, 202, 1] tot_pixels=65,448 max_pixels=97,984 end=25\");\n"
      ],
      "text/plain": [
       "<IPython.core.display.Javascript object>"
      ]
     },
     "metadata": {},
     "output_type": "display_data"
    },
    {
     "data": {
      "application/javascript": [
       "console.log(\"[120217][INFO][openvisuspy.slice:209:pushJobIfNeeded] pushing new job\");\n"
      ],
      "text/plain": [
       "<IPython.core.display.Javascript object>"
      ]
     },
     "metadata": {},
     "output_type": "display_data"
    },
    {
     "data": {
      "application/javascript": [
       "console.log(\"[120217][INFO][openvisuspy.backend_cpp:138:beginBoxQuery] beginBoxQuery timestep=2015 field=u logic_box=[[4288, 4608, 0], [6848, 6272, 1]] end_resolutions=[16, 19, 22, 25]\");\n"
      ],
      "text/plain": [
       "<IPython.core.display.Javascript object>"
      ]
     },
     "metadata": {},
     "output_type": "display_data"
    },
    {
     "data": {
      "application/javascript": [
       "console.log(\"[120217][INFO][openvisuspy.backend_cpp:76:printStatistics] Stats::printStatistics enlapsed=0.016015291213989258 seconds\");\n"
      ],
      "text/plain": [
       "<IPython.core.display.Javascript object>"
      ]
     },
     "metadata": {},
     "output_type": "display_data"
    },
    {
     "data": {
      "application/javascript": [
       "console.log(\"[120217][INFO][openvisuspy.backend_cpp:74:createBoxQuery] begin timestep=2015 field=u logic_box=[[4316.203334446635, 4673.213671807465, 45], [6907.915595309368, 6288.942440634629, 46]] num_refinements=4 max_pixels=97984 endh=34\");\n"
      ],
      "text/plain": [
       "<IPython.core.display.Javascript object>"
      ]
     },
     "metadata": {},
     "output_type": "display_data"
    },
    {
     "data": {
      "application/javascript": [
       "console.log(\"[120217][INFO][openvisuspy.backend_cpp:109:createBoxQuery] Guess resolution endh=25 original_box=([4316, 4673, 45], [6908, 6289, 46]) aligned_box=([4312, 4672, 40], [6904, 6288, 41]) delta=[8, 8, 8] num_pixels=[324, 202, 1] tot_pixels=65,448 max_pixels=97,984 end=25\");\n"
      ],
      "text/plain": [
       "<IPython.core.display.Javascript object>"
      ]
     },
     "metadata": {},
     "output_type": "display_data"
    },
    {
     "data": {
      "application/javascript": [
       "console.log(\"[120217][INFO][openvisuspy.backend_cpp:138:beginBoxQuery] beginBoxQuery timestep=2015 field=u logic_box=[[4288, 4672, 0], [6848, 6272, 1]] end_resolutions=[16, 19, 22, 25]\");\n"
      ],
      "text/plain": [
       "<IPython.core.display.Javascript object>"
      ]
     },
     "metadata": {},
     "output_type": "display_data"
    },
    {
     "data": {
      "application/javascript": [
       "console.log(\"[120217][INFO][openvisuspy.slice:209:pushJobIfNeeded] pushing new job\");\n"
      ],
      "text/plain": [
       "<IPython.core.display.Javascript object>"
      ]
     },
     "metadata": {},
     "output_type": "display_data"
    },
    {
     "data": {
      "application/javascript": [
       "console.log(\"[120217][INFO][openvisuspy.backend_cpp:168:returnBoxQueryData] got data 0/[16, 19, 22, 25] timestep=2015 field=u H=16 data.shape=(25, 40) data.dtype=float32 logic_box=[[4288, 4672, 0], [6848, 6272, 1]] m=-0.8117637634277344 M=4.046962261199951 ms=18\");\n"
      ],
      "text/plain": [
       "<IPython.core.display.Javascript object>"
      ]
     },
     "metadata": {},
     "output_type": "display_data"
    },
    {
     "data": {
      "application/javascript": [
       "console.log(\"[120217][INFO][openvisuspy.backend_cpp:76:printStatistics] Stats::printStatistics enlapsed=0.03610634803771973 seconds\");\n"
      ],
      "text/plain": [
       "<IPython.core.display.Javascript object>"
      ]
     },
     "metadata": {},
     "output_type": "display_data"
    },
    {
     "data": {
      "application/javascript": [
       "console.log(\"[120217][INFO][openvisuspy.backend_cpp:74:createBoxQuery] begin timestep=2015 field=u logic_box=[[4307.276656165823, 4691.0670283690915, 45], [6898.988917028555, 6306.795797196255, 46]] num_refinements=4 max_pixels=97984 endh=34\");\n"
      ],
      "text/plain": [
       "<IPython.core.display.Javascript object>"
      ]
     },
     "metadata": {},
     "output_type": "display_data"
    },
    {
     "data": {
      "application/javascript": [
       "console.log(\"[120217][INFO][openvisuspy.backend_cpp:109:createBoxQuery] Guess resolution endh=25 original_box=([4307, 4691, 45], [6899, 6307, 46]) aligned_box=([4304, 4688, 40], [6896, 6304, 41]) delta=[8, 8, 8] num_pixels=[324, 202, 1] tot_pixels=65,448 max_pixels=97,984 end=25\");\n"
      ],
      "text/plain": [
       "<IPython.core.display.Javascript object>"
      ]
     },
     "metadata": {},
     "output_type": "display_data"
    },
    {
     "data": {
      "application/javascript": [
       "console.log(\"[120217][INFO][openvisuspy.slice:190:renderResultIfNeeded] Slice[6]::rendering result data.shape=(25, 40) data.dtype=float32 logic_box=[[4288, 4672, 0], [6848, 6272, 1]]\");\n"
      ],
      "text/plain": [
       "<IPython.core.display.Javascript object>"
      ]
     },
     "metadata": {},
     "output_type": "display_data"
    },
    {
     "data": {
      "application/javascript": [
       "console.log(\"[120217][INFO][openvisuspy.backend_cpp:138:beginBoxQuery] beginBoxQuery timestep=2015 field=u logic_box=[[4288, 4672, 0], [6848, 6272, 1]] end_resolutions=[16, 19, 22, 25]\");\n"
      ],
      "text/plain": [
       "<IPython.core.display.Javascript object>"
      ]
     },
     "metadata": {},
     "output_type": "display_data"
    },
    {
     "data": {
      "application/javascript": [
       "console.log(\"[120217][INFO][openvisuspy.slice:209:pushJobIfNeeded] pushing new job\");\n"
      ],
      "text/plain": [
       "<IPython.core.display.Javascript object>"
      ]
     },
     "metadata": {},
     "output_type": "display_data"
    },
    {
     "data": {
      "application/javascript": [
       "console.log(\"[120217][INFO][openvisuspy.backend_cpp:76:printStatistics] Stats::printStatistics enlapsed=0.03001546859741211 seconds\");\n"
      ],
      "text/plain": [
       "<IPython.core.display.Javascript object>"
      ]
     },
     "metadata": {},
     "output_type": "display_data"
    },
    {
     "data": {
      "application/javascript": [
       "console.log(\"[120217][INFO][openvisuspy.backend_cpp:74:createBoxQuery] begin timestep=2015 field=u logic_box=[[4301.325537311947, 4697.018147222967, 45], [6893.03779817468, 6312.7469160501305, 46]] num_refinements=4 max_pixels=97984 endh=34\");\n"
      ],
      "text/plain": [
       "<IPython.core.display.Javascript object>"
      ]
     },
     "metadata": {},
     "output_type": "display_data"
    },
    {
     "data": {
      "application/javascript": [
       "console.log(\"[120217][INFO][openvisuspy.slice:209:pushJobIfNeeded] pushing new job\");\n"
      ],
      "text/plain": [
       "<IPython.core.display.Javascript object>"
      ]
     },
     "metadata": {},
     "output_type": "display_data"
    },
    {
     "data": {
      "application/javascript": [
       "console.log(\"[120217][INFO][openvisuspy.backend_cpp:109:createBoxQuery] Guess resolution endh=25 original_box=([4301, 4697, 45], [6894, 6313, 46]) aligned_box=([4296, 4696, 40], [6888, 6312, 41]) delta=[8, 8, 8] num_pixels=[324, 202, 1] tot_pixels=65,448 max_pixels=97,984 end=25\");\n"
      ],
      "text/plain": [
       "<IPython.core.display.Javascript object>"
      ]
     },
     "metadata": {},
     "output_type": "display_data"
    },
    {
     "data": {
      "application/javascript": [
       "console.log(\"[120217][INFO][openvisuspy.backend_cpp:138:beginBoxQuery] beginBoxQuery timestep=2015 field=u logic_box=[[4288, 4672, 0], [6848, 6272, 1]] end_resolutions=[16, 19, 22, 25]\");\n"
      ],
      "text/plain": [
       "<IPython.core.display.Javascript object>"
      ]
     },
     "metadata": {},
     "output_type": "display_data"
    },
    {
     "data": {
      "application/javascript": [
       "console.log(\"[120217][INFO][openvisuspy.backend_cpp:76:printStatistics] Stats::printStatistics enlapsed=0.016794443130493164 seconds\");\n"
      ],
      "text/plain": [
       "<IPython.core.display.Javascript object>"
      ]
     },
     "metadata": {},
     "output_type": "display_data"
    },
    {
     "data": {
      "application/javascript": [
       "console.log(\"[120217][INFO][openvisuspy.backend_cpp:74:createBoxQuery] begin timestep=2015 field=u logic_box=[[4298.349977885009, 4697.018147222967, 45], [6890.0622387477415, 6312.7469160501305, 46]] num_refinements=4 max_pixels=97984 endh=34\");\n"
      ],
      "text/plain": [
       "<IPython.core.display.Javascript object>"
      ]
     },
     "metadata": {},
     "output_type": "display_data"
    },
    {
     "data": {
      "application/javascript": [
       "console.log(\"[120217][INFO][openvisuspy.backend_cpp:109:createBoxQuery] Guess resolution endh=25 original_box=([4298, 4697, 45], [6891, 6313, 46]) aligned_box=([4296, 4696, 40], [6888, 6312, 41]) delta=[8, 8, 8] num_pixels=[324, 202, 1] tot_pixels=65,448 max_pixels=97,984 end=25\");\n"
      ],
      "text/plain": [
       "<IPython.core.display.Javascript object>"
      ]
     },
     "metadata": {},
     "output_type": "display_data"
    },
    {
     "data": {
      "application/javascript": [
       "console.log(\"[120217][INFO][openvisuspy.backend_cpp:138:beginBoxQuery] beginBoxQuery timestep=2015 field=u logic_box=[[4288, 4672, 0], [6848, 6272, 1]] end_resolutions=[16, 19, 22, 25]\");\n"
      ],
      "text/plain": [
       "<IPython.core.display.Javascript object>"
      ]
     },
     "metadata": {},
     "output_type": "display_data"
    },
    {
     "data": {
      "application/javascript": [
       "console.log(\"[120217][INFO][openvisuspy.slice:209:pushJobIfNeeded] pushing new job\");\n"
      ],
      "text/plain": [
       "<IPython.core.display.Javascript object>"
      ]
     },
     "metadata": {},
     "output_type": "display_data"
    },
    {
     "data": {
      "application/javascript": [
       "console.log(\"[120217][INFO][openvisuspy.backend_cpp:76:printStatistics] Stats::printStatistics enlapsed=0.03107905387878418 seconds\");\n"
      ],
      "text/plain": [
       "<IPython.core.display.Javascript object>"
      ]
     },
     "metadata": {},
     "output_type": "display_data"
    },
    {
     "data": {
      "application/javascript": [
       "console.log(\"[120217][INFO][openvisuspy.backend_cpp:74:createBoxQuery] begin timestep=2015 field=u logic_box=[[4295.374418458072, 4711.895944357655, 45], [6887.086679320804, 6327.624713184819, 46]] num_refinements=4 max_pixels=97984 endh=34\");\n"
      ],
      "text/plain": [
       "<IPython.core.display.Javascript object>"
      ]
     },
     "metadata": {},
     "output_type": "display_data"
    },
    {
     "data": {
      "application/javascript": [
       "console.log(\"[120217][INFO][openvisuspy.backend_cpp:109:createBoxQuery] Guess resolution endh=25 original_box=([4295, 4711, 45], [6888, 6328, 46]) aligned_box=([4288, 4704, 40], [6888, 6328, 41]) delta=[8, 8, 8] num_pixels=[325, 203, 1] tot_pixels=65,975 max_pixels=97,984 end=25\");\n"
      ],
      "text/plain": [
       "<IPython.core.display.Javascript object>"
      ]
     },
     "metadata": {},
     "output_type": "display_data"
    },
    {
     "data": {
      "application/javascript": [
       "console.log(\"[120217][INFO][openvisuspy.backend_cpp:138:beginBoxQuery] beginBoxQuery timestep=2015 field=u logic_box=[[4288, 4672, 0], [6848, 6272, 1]] end_resolutions=[16, 19, 22, 25]\");\n"
      ],
      "text/plain": [
       "<IPython.core.display.Javascript object>"
      ]
     },
     "metadata": {},
     "output_type": "display_data"
    },
    {
     "data": {
      "application/javascript": [
       "console.log(\"[120217][INFO][openvisuspy.backend_cpp:168:returnBoxQueryData] got data 0/[16, 19, 22, 25] timestep=2015 field=u H=16 data.shape=(25, 40) data.dtype=float32 logic_box=[[4288, 4672, 0], [6848, 6272, 1]] m=-0.8117637634277344 M=4.046962261199951 ms=20\");\n"
      ],
      "text/plain": [
       "<IPython.core.display.Javascript object>"
      ]
     },
     "metadata": {},
     "output_type": "display_data"
    },
    {
     "data": {
      "application/javascript": [
       "console.log(\"[120217][INFO][openvisuspy.backend_cpp:168:returnBoxQueryData] got data 1/[16, 19, 22, 25] timestep=2015 field=u H=19 data.shape=(50, 80) data.dtype=float32 logic_box=[[4288, 4672, 0], [6848, 6272, 1]] m=-1.2911198139190674 M=4.046962261199951 ms=40\");\n"
      ],
      "text/plain": [
       "<IPython.core.display.Javascript object>"
      ]
     },
     "metadata": {},
     "output_type": "display_data"
    },
    {
     "data": {
      "application/javascript": [
       "console.log(\"[120217][INFO][openvisuspy.slice:190:renderResultIfNeeded] Slice[6]::rendering result data.shape=(50, 80) data.dtype=float32 logic_box=[[4288, 4672, 0], [6848, 6272, 1]]\");\n"
      ],
      "text/plain": [
       "<IPython.core.display.Javascript object>"
      ]
     },
     "metadata": {},
     "output_type": "display_data"
    },
    {
     "data": {
      "application/javascript": [
       "console.log(\"[120217][INFO][openvisuspy.backend_cpp:168:returnBoxQueryData] got data 2/[16, 19, 22, 25] timestep=2015 field=u H=22 data.shape=(100, 160) data.dtype=float32 logic_box=[[4288, 4672, 0], [6848, 6272, 1]] m=-1.8077391386032104 M=4.046962261199951 ms=75\");\n"
      ],
      "text/plain": [
       "<IPython.core.display.Javascript object>"
      ]
     },
     "metadata": {},
     "output_type": "display_data"
    },
    {
     "data": {
      "application/javascript": [
       "console.log(\"[120217][INFO][openvisuspy.slice:190:renderResultIfNeeded] Slice[6]::rendering result data.shape=(100, 160) data.dtype=float32 logic_box=[[4288, 4672, 0], [6848, 6272, 1]]\");\n"
      ],
      "text/plain": [
       "<IPython.core.display.Javascript object>"
      ]
     },
     "metadata": {},
     "output_type": "display_data"
    },
    {
     "data": {
      "application/javascript": [
       "console.log(\"[120217][INFO][openvisuspy.backend_cpp:168:returnBoxQueryData] got data 3/[16, 19, 22, 25] timestep=2015 field=u H=25 data.shape=(200, 320) data.dtype=float32 logic_box=[[4288, 4672, 0], [6848, 6272, 1]] m=-3.3751566410064697 M=5.847737789154053 ms=113\");\n"
      ],
      "text/plain": [
       "<IPython.core.display.Javascript object>"
      ]
     },
     "metadata": {},
     "output_type": "display_data"
    },
    {
     "data": {
      "application/javascript": [
       "console.log(\"[120217][INFO][openvisuspy.backend_cpp:76:printStatistics] Stats::printStatistics enlapsed=0.12513089179992676 seconds\");\n"
      ],
      "text/plain": [
       "<IPython.core.display.Javascript object>"
      ]
     },
     "metadata": {},
     "output_type": "display_data"
    },
    {
     "data": {
      "application/javascript": [
       "console.log(\"[120217][INFO][openvisuspy.backend_cpp:139:_threadLoop] _threadLoop is Alive\");\n"
      ],
      "text/plain": [
       "<IPython.core.display.Javascript object>"
      ]
     },
     "metadata": {},
     "output_type": "display_data"
    },
    {
     "data": {
      "application/javascript": [
       "console.log(\"[120217][INFO][openvisuspy.slice:190:renderResultIfNeeded] Slice[6]::rendering result data.shape=(200, 320) data.dtype=float32 logic_box=[[4288, 4672, 0], [6848, 6272, 1]]\");\n"
      ],
      "text/plain": [
       "<IPython.core.display.Javascript object>"
      ]
     },
     "metadata": {},
     "output_type": "display_data"
    },
    {
     "data": {
      "application/javascript": [
       "console.log(\"[120224][INFO][openvisuspy.slice:209:pushJobIfNeeded] pushing new job\");\n"
      ],
      "text/plain": [
       "<IPython.core.display.Javascript object>"
      ]
     },
     "metadata": {},
     "output_type": "display_data"
    },
    {
     "data": {
      "application/javascript": [
       "console.log(\"[120224][INFO][openvisuspy.backend_cpp:74:createBoxQuery] begin timestep=2015 field=u logic_box=[[4289.4232996041965, 4646.433636965026, 45], [6881.135560466929, 6262.16240579219, 46]] num_refinements=4 max_pixels=97984 endh=34\");\n"
      ],
      "text/plain": [
       "<IPython.core.display.Javascript object>"
      ]
     },
     "metadata": {},
     "output_type": "display_data"
    },
    {
     "data": {
      "application/javascript": [
       "console.log(\"[120224][INFO][openvisuspy.backend_cpp:109:createBoxQuery] Guess resolution endh=25 original_box=([4289, 4646, 45], [6882, 6263, 46]) aligned_box=([4288, 4640, 40], [6880, 6256, 41]) delta=[8, 8, 8] num_pixels=[324, 202, 1] tot_pixels=65,448 max_pixels=97,984 end=25\");\n"
      ],
      "text/plain": [
       "<IPython.core.display.Javascript object>"
      ]
     },
     "metadata": {},
     "output_type": "display_data"
    },
    {
     "data": {
      "application/javascript": [
       "console.log(\"[120224][INFO][openvisuspy.backend_cpp:138:beginBoxQuery] beginBoxQuery timestep=2015 field=u logic_box=[[4288, 4608, 0], [6848, 6208, 1]] end_resolutions=[16, 19, 22, 25]\");\n"
      ],
      "text/plain": [
       "<IPython.core.display.Javascript object>"
      ]
     },
     "metadata": {},
     "output_type": "display_data"
    },
    {
     "data": {
      "application/javascript": [
       "console.log(\"[120224][INFO][openvisuspy.backend_cpp:168:returnBoxQueryData] got data 0/[16, 19, 22, 25] timestep=2015 field=u H=16 data.shape=(25, 40) data.dtype=float32 logic_box=[[4288, 4608, 0], [6848, 6208, 1]] m=-0.8117637634277344 M=4.046962261199951 ms=18\");\n"
      ],
      "text/plain": [
       "<IPython.core.display.Javascript object>"
      ]
     },
     "metadata": {},
     "output_type": "display_data"
    },
    {
     "data": {
      "application/javascript": [
       "console.log(\"[120224][INFO][openvisuspy.slice:190:renderResultIfNeeded] Slice[6]::rendering result data.shape=(25, 40) data.dtype=float32 logic_box=[[4288, 4608, 0], [6848, 6208, 1]]\");\n"
      ],
      "text/plain": [
       "<IPython.core.display.Javascript object>"
      ]
     },
     "metadata": {},
     "output_type": "display_data"
    },
    {
     "data": {
      "application/javascript": [
       "console.log(\"[120224][INFO][openvisuspy.slice:209:pushJobIfNeeded] pushing new job\");\n"
      ],
      "text/plain": [
       "<IPython.core.display.Javascript object>"
      ]
     },
     "metadata": {},
     "output_type": "display_data"
    },
    {
     "data": {
      "application/javascript": [
       "console.log(\"[120224][INFO][openvisuspy.backend_cpp:76:printStatistics] Stats::printStatistics enlapsed=0.046494245529174805 seconds\");\n"
      ],
      "text/plain": [
       "<IPython.core.display.Javascript object>"
      ]
     },
     "metadata": {},
     "output_type": "display_data"
    },
    {
     "data": {
      "application/javascript": [
       "console.log(\"[120224][INFO][openvisuspy.backend_cpp:139:_threadLoop] _threadLoop is Alive\");\n"
      ],
      "text/plain": [
       "<IPython.core.display.Javascript object>"
      ]
     },
     "metadata": {},
     "output_type": "display_data"
    },
    {
     "data": {
      "application/javascript": [
       "console.log(\"[120224][INFO][openvisuspy.slice:209:pushJobIfNeeded] pushing new job\");\n"
      ],
      "text/plain": [
       "<IPython.core.display.Javascript object>"
      ]
     },
     "metadata": {},
     "output_type": "display_data"
    },
    {
     "data": {
      "application/javascript": [
       "console.log(\"[120224][INFO][openvisuspy.backend_cpp:74:createBoxQuery] begin timestep=2015 field=u logic_box=[[4307.276656165823, 4518.484581606705, 45], [6898.988917028555, 6134.213350433869, 46]] num_refinements=4 max_pixels=97984 endh=34\");\n"
      ],
      "text/plain": [
       "<IPython.core.display.Javascript object>"
      ]
     },
     "metadata": {},
     "output_type": "display_data"
    },
    {
     "data": {
      "application/javascript": [
       "console.log(\"[120224][INFO][openvisuspy.backend_cpp:109:createBoxQuery] Guess resolution endh=25 original_box=([4307, 4518, 45], [6899, 6135, 46]) aligned_box=([4304, 4512, 40], [6896, 6128, 41]) delta=[8, 8, 8] num_pixels=[324, 202, 1] tot_pixels=65,448 max_pixels=97,984 end=25\");\n"
      ],
      "text/plain": [
       "<IPython.core.display.Javascript object>"
      ]
     },
     "metadata": {},
     "output_type": "display_data"
    },
    {
     "data": {
      "application/javascript": [
       "console.log(\"[120224][INFO][openvisuspy.backend_cpp:138:beginBoxQuery] beginBoxQuery timestep=2015 field=u logic_box=[[4288, 4480, 0], [6848, 6080, 1]] end_resolutions=[16, 19, 22, 25]\");\n"
      ],
      "text/plain": [
       "<IPython.core.display.Javascript object>"
      ]
     },
     "metadata": {},
     "output_type": "display_data"
    },
    {
     "data": {
      "application/javascript": [
       "console.log(\"[120224][INFO][openvisuspy.backend_cpp:76:printStatistics] Stats::printStatistics enlapsed=0.014207124710083008 seconds\");\n"
      ],
      "text/plain": [
       "<IPython.core.display.Javascript object>"
      ]
     },
     "metadata": {},
     "output_type": "display_data"
    },
    {
     "data": {
      "application/javascript": [
       "console.log(\"[120224][INFO][openvisuspy.backend_cpp:74:createBoxQuery] begin timestep=2015 field=u logic_box=[[4340.007809862137, 4518.484581606705, 45], [6931.720070724869, 6134.213350433869, 46]] num_refinements=4 max_pixels=97984 endh=34\");\n"
      ],
      "text/plain": [
       "<IPython.core.display.Javascript object>"
      ]
     },
     "metadata": {},
     "output_type": "display_data"
    },
    {
     "data": {
      "application/javascript": [
       "console.log(\"[120224][INFO][openvisuspy.backend_cpp:109:createBoxQuery] Guess resolution endh=25 original_box=([4340, 4518, 45], [6932, 6135, 46]) aligned_box=([4336, 4512, 40], [6928, 6128, 41]) delta=[8, 8, 8] num_pixels=[324, 202, 1] tot_pixels=65,448 max_pixels=97,984 end=25\");\n"
      ],
      "text/plain": [
       "<IPython.core.display.Javascript object>"
      ]
     },
     "metadata": {},
     "output_type": "display_data"
    },
    {
     "data": {
      "application/javascript": [
       "console.log(\"[120224][INFO][openvisuspy.slice:209:pushJobIfNeeded] pushing new job\");\n"
      ],
      "text/plain": [
       "<IPython.core.display.Javascript object>"
      ]
     },
     "metadata": {},
     "output_type": "display_data"
    },
    {
     "data": {
      "application/javascript": [
       "console.log(\"[120224][INFO][openvisuspy.backend_cpp:138:beginBoxQuery] beginBoxQuery timestep=2015 field=u logic_box=[[4288, 4480, 0], [6912, 6080, 1]] end_resolutions=[16, 19, 22, 25]\");\n"
      ],
      "text/plain": [
       "<IPython.core.display.Javascript object>"
      ]
     },
     "metadata": {},
     "output_type": "display_data"
    },
    {
     "data": {
      "application/javascript": [
       "console.log(\"[120224][INFO][openvisuspy.backend_cpp:76:printStatistics] Stats::printStatistics enlapsed=0.017983198165893555 seconds\");\n"
      ],
      "text/plain": [
       "<IPython.core.display.Javascript object>"
      ]
     },
     "metadata": {},
     "output_type": "display_data"
    },
    {
     "data": {
      "application/javascript": [
       "console.log(\"[120224][INFO][openvisuspy.backend_cpp:74:createBoxQuery] begin timestep=2015 field=u logic_box=[[4429.274592670267, 4363.7554914059465, 45], [7020.986853533001, 5979.48426023311, 46]] num_refinements=4 max_pixels=97984 endh=34\");\n"
      ],
      "text/plain": [
       "<IPython.core.display.Javascript object>"
      ]
     },
     "metadata": {},
     "output_type": "display_data"
    },
    {
     "data": {
      "application/javascript": [
       "console.log(\"[120224][INFO][openvisuspy.backend_cpp:109:createBoxQuery] Guess resolution endh=25 original_box=([4429, 4363, 45], [7021, 5980, 46]) aligned_box=([4424, 4360, 40], [7016, 5976, 41]) delta=[8, 8, 8] num_pixels=[324, 202, 1] tot_pixels=65,448 max_pixels=97,984 end=25\");\n"
      ],
      "text/plain": [
       "<IPython.core.display.Javascript object>"
      ]
     },
     "metadata": {},
     "output_type": "display_data"
    },
    {
     "data": {
      "application/javascript": [
       "console.log(\"[120224][INFO][openvisuspy.backend_cpp:138:beginBoxQuery] beginBoxQuery timestep=2015 field=u logic_box=[[4416, 4352, 0], [6976, 5952, 1]] end_resolutions=[16, 19, 22, 25]\");\n"
      ],
      "text/plain": [
       "<IPython.core.display.Javascript object>"
      ]
     },
     "metadata": {},
     "output_type": "display_data"
    },
    {
     "data": {
      "application/javascript": [
       "console.log(\"[120224][INFO][openvisuspy.backend_cpp:168:returnBoxQueryData] got data 0/[16, 19, 22, 25] timestep=2015 field=u H=16 data.shape=(25, 40) data.dtype=float32 logic_box=[[4416, 4352, 0], [6976, 5952, 1]] m=-1.7182023525238037 M=1.3544586896896362 ms=19\");\n"
      ],
      "text/plain": [
       "<IPython.core.display.Javascript object>"
      ]
     },
     "metadata": {},
     "output_type": "display_data"
    },
    {
     "data": {
      "application/javascript": [
       "console.log(\"[120224][INFO][openvisuspy.slice:209:pushJobIfNeeded] pushing new job\");\n"
      ],
      "text/plain": [
       "<IPython.core.display.Javascript object>"
      ]
     },
     "metadata": {},
     "output_type": "display_data"
    },
    {
     "data": {
      "application/javascript": [
       "console.log(\"[120224][INFO][openvisuspy.backend_cpp:76:printStatistics] Stats::printStatistics enlapsed=0.0520930290222168 seconds\");\n"
      ],
      "text/plain": [
       "<IPython.core.display.Javascript object>"
      ]
     },
     "metadata": {},
     "output_type": "display_data"
    },
    {
     "data": {
      "application/javascript": [
       "console.log(\"[120224][INFO][openvisuspy.backend_cpp:74:createBoxQuery] begin timestep=2015 field=u logic_box=[[4539.370291466962, 4116.784058970118, 45], [7131.082552329694, 5732.512827797282, 46]] num_refinements=4 max_pixels=97984 endh=34\");\n"
      ],
      "text/plain": [
       "<IPython.core.display.Javascript object>"
      ]
     },
     "metadata": {},
     "output_type": "display_data"
    },
    {
     "data": {
      "application/javascript": [
       "console.log(\"[120224][INFO][openvisuspy.backend_cpp:109:createBoxQuery] Guess resolution endh=25 original_box=([4539, 4116, 45], [7132, 5733, 46]) aligned_box=([4536, 4112, 40], [7128, 5728, 41]) delta=[8, 8, 8] num_pixels=[324, 202, 1] tot_pixels=65,448 max_pixels=97,984 end=25\");\n"
      ],
      "text/plain": [
       "<IPython.core.display.Javascript object>"
      ]
     },
     "metadata": {},
     "output_type": "display_data"
    },
    {
     "data": {
      "application/javascript": [
       "console.log(\"[120224][INFO][openvisuspy.slice:190:renderResultIfNeeded] Slice[6]::rendering result data.shape=(25, 40) data.dtype=float32 logic_box=[[4416, 4352, 0], [6976, 5952, 1]]\");\n"
      ],
      "text/plain": [
       "<IPython.core.display.Javascript object>"
      ]
     },
     "metadata": {},
     "output_type": "display_data"
    },
    {
     "data": {
      "application/javascript": [
       "console.log(\"[120224][INFO][openvisuspy.backend_cpp:138:beginBoxQuery] beginBoxQuery timestep=2015 field=u logic_box=[[4480, 4096, 0], [7104, 5696, 1]] end_resolutions=[16, 19, 22, 25]\");\n"
      ],
      "text/plain": [
       "<IPython.core.display.Javascript object>"
      ]
     },
     "metadata": {},
     "output_type": "display_data"
    },
    {
     "data": {
      "application/javascript": [
       "console.log(\"[120224][INFO][openvisuspy.slice:209:pushJobIfNeeded] pushing new job\");\n"
      ],
      "text/plain": [
       "<IPython.core.display.Javascript object>"
      ]
     },
     "metadata": {},
     "output_type": "display_data"
    },
    {
     "data": {
      "application/javascript": [
       "console.log(\"[120224][INFO][openvisuspy.backend_cpp:76:printStatistics] Stats::printStatistics enlapsed=0.032773494720458984 seconds\");\n"
      ],
      "text/plain": [
       "<IPython.core.display.Javascript object>"
      ]
     },
     "metadata": {},
     "output_type": "display_data"
    },
    {
     "data": {
      "application/javascript": [
       "console.log(\"[120224][INFO][openvisuspy.backend_cpp:74:createBoxQuery] begin timestep=2015 field=u logic_box=[[4575.077004590214, 4066.1995487121776, 45], [7166.789265452947, 5681.928317539341, 46]] num_refinements=4 max_pixels=97984 endh=34\");\n"
      ],
      "text/plain": [
       "<IPython.core.display.Javascript object>"
      ]
     },
     "metadata": {},
     "output_type": "display_data"
    },
    {
     "data": {
      "application/javascript": [
       "console.log(\"[120224][INFO][openvisuspy.slice:209:pushJobIfNeeded] pushing new job\");\n"
      ],
      "text/plain": [
       "<IPython.core.display.Javascript object>"
      ]
     },
     "metadata": {},
     "output_type": "display_data"
    },
    {
     "data": {
      "application/javascript": [
       "console.log(\"[120224][INFO][openvisuspy.backend_cpp:109:createBoxQuery] Guess resolution endh=25 original_box=([4575, 4066, 45], [7167, 5682, 46]) aligned_box=([4568, 4064, 40], [7160, 5680, 41]) delta=[8, 8, 8] num_pixels=[324, 202, 1] tot_pixels=65,448 max_pixels=97,984 end=25\");\n"
      ],
      "text/plain": [
       "<IPython.core.display.Javascript object>"
      ]
     },
     "metadata": {},
     "output_type": "display_data"
    },
    {
     "data": {
      "application/javascript": [
       "console.log(\"[120224][INFO][openvisuspy.backend_cpp:138:beginBoxQuery] beginBoxQuery timestep=2015 field=u logic_box=[[4544, 4032, 0], [7104, 5632, 1]] end_resolutions=[16, 19, 22, 25]\");\n"
      ],
      "text/plain": [
       "<IPython.core.display.Javascript object>"
      ]
     },
     "metadata": {},
     "output_type": "display_data"
    },
    {
     "data": {
      "application/javascript": [
       "console.log(\"[120224][INFO][openvisuspy.backend_cpp:76:printStatistics] Stats::printStatistics enlapsed=0.01699352264404297 seconds\");\n"
      ],
      "text/plain": [
       "<IPython.core.display.Javascript object>"
      ]
     },
     "metadata": {},
     "output_type": "display_data"
    },
    {
     "data": {
      "application/javascript": [
       "console.log(\"[120224][INFO][openvisuspy.backend_cpp:74:createBoxQuery] begin timestep=2015 field=u logic_box=[[4578.052564017152, 4066.1995487121776, 45], [7169.764824879885, 5681.928317539341, 46]] num_refinements=4 max_pixels=97984 endh=34\");\n"
      ],
      "text/plain": [
       "<IPython.core.display.Javascript object>"
      ]
     },
     "metadata": {},
     "output_type": "display_data"
    },
    {
     "data": {
      "application/javascript": [
       "console.log(\"[120224][INFO][openvisuspy.backend_cpp:109:createBoxQuery] Guess resolution endh=25 original_box=([4578, 4066, 45], [7170, 5682, 46]) aligned_box=([4576, 4064, 40], [7168, 5680, 41]) delta=[8, 8, 8] num_pixels=[324, 202, 1] tot_pixels=65,448 max_pixels=97,984 end=25\");\n"
      ],
      "text/plain": [
       "<IPython.core.display.Javascript object>"
      ]
     },
     "metadata": {},
     "output_type": "display_data"
    },
    {
     "data": {
      "application/javascript": [
       "console.log(\"[120224][INFO][openvisuspy.backend_cpp:138:beginBoxQuery] beginBoxQuery timestep=2015 field=u logic_box=[[4544, 4032, 0], [7168, 5632, 1]] end_resolutions=[16, 19, 22, 25]\");\n"
      ],
      "text/plain": [
       "<IPython.core.display.Javascript object>"
      ]
     },
     "metadata": {},
     "output_type": "display_data"
    },
    {
     "data": {
      "application/javascript": [
       "console.log(\"[120224][INFO][openvisuspy.backend_cpp:168:returnBoxQueryData] got data 0/[16, 19, 22, 25] timestep=2015 field=u H=16 data.shape=(25, 41) data.dtype=float32 logic_box=[[4544, 4032, 0], [7168, 5632, 1]] m=-1.7182023525238037 M=0.912960946559906 ms=18\");\n"
      ],
      "text/plain": [
       "<IPython.core.display.Javascript object>"
      ]
     },
     "metadata": {},
     "output_type": "display_data"
    },
    {
     "data": {
      "application/javascript": [
       "console.log(\"[120224][INFO][openvisuspy.slice:190:renderResultIfNeeded] Slice[6]::rendering result data.shape=(25, 41) data.dtype=float32 logic_box=[[4544, 4032, 0], [7168, 5632, 1]]\");\n"
      ],
      "text/plain": [
       "<IPython.core.display.Javascript object>"
      ]
     },
     "metadata": {},
     "output_type": "display_data"
    },
    {
     "data": {
      "application/javascript": [
       "console.log(\"[120224][INFO][openvisuspy.slice:209:pushJobIfNeeded] pushing new job\");\n"
      ],
      "text/plain": [
       "<IPython.core.display.Javascript object>"
      ]
     },
     "metadata": {},
     "output_type": "display_data"
    },
    {
     "data": {
      "application/javascript": [
       "console.log(\"[120224][INFO][openvisuspy.backend_cpp:76:printStatistics] Stats::printStatistics enlapsed=0.04518008232116699 seconds\");\n"
      ],
      "text/plain": [
       "<IPython.core.display.Javascript object>"
      ]
     },
     "metadata": {},
     "output_type": "display_data"
    },
    {
     "data": {
      "application/javascript": [
       "console.log(\"[120224][INFO][openvisuspy.backend_cpp:74:createBoxQuery] begin timestep=2015 field=u logic_box=[[4578.052564017152, 4057.2728704313645, 45], [7169.764824879885, 5673.0016392585285, 46]] num_refinements=4 max_pixels=97984 endh=34\");\n"
      ],
      "text/plain": [
       "<IPython.core.display.Javascript object>"
      ]
     },
     "metadata": {},
     "output_type": "display_data"
    },
    {
     "data": {
      "application/javascript": [
       "console.log(\"[120224][INFO][openvisuspy.backend_cpp:109:createBoxQuery] Guess resolution endh=25 original_box=([4578, 4057, 45], [7170, 5674, 46]) aligned_box=([4576, 4056, 40], [7168, 5672, 41]) delta=[8, 8, 8] num_pixels=[324, 202, 1] tot_pixels=65,448 max_pixels=97,984 end=25\");\n"
      ],
      "text/plain": [
       "<IPython.core.display.Javascript object>"
      ]
     },
     "metadata": {},
     "output_type": "display_data"
    },
    {
     "data": {
      "application/javascript": [
       "console.log(\"[120224][INFO][openvisuspy.backend_cpp:138:beginBoxQuery] beginBoxQuery timestep=2015 field=u logic_box=[[4544, 4032, 0], [7168, 5632, 1]] end_resolutions=[16, 19, 22, 25]\");\n"
      ],
      "text/plain": [
       "<IPython.core.display.Javascript object>"
      ]
     },
     "metadata": {},
     "output_type": "display_data"
    },
    {
     "data": {
      "application/javascript": [
       "console.log(\"[120224][INFO][openvisuspy.backend_cpp:168:returnBoxQueryData] got data 0/[16, 19, 22, 25] timestep=2015 field=u H=16 data.shape=(25, 41) data.dtype=float32 logic_box=[[4544, 4032, 0], [7168, 5632, 1]] m=-1.7182023525238037 M=0.912960946559906 ms=18\");\n"
      ],
      "text/plain": [
       "<IPython.core.display.Javascript object>"
      ]
     },
     "metadata": {},
     "output_type": "display_data"
    },
    {
     "data": {
      "application/javascript": [
       "console.log(\"[120224][INFO][openvisuspy.backend_cpp:168:returnBoxQueryData] got data 1/[16, 19, 22, 25] timestep=2015 field=u H=19 data.shape=(50, 82) data.dtype=float32 logic_box=[[4544, 4032, 0], [7168, 5632, 1]] m=-1.7182023525238037 M=1.0012623071670532 ms=39\");\n"
      ],
      "text/plain": [
       "<IPython.core.display.Javascript object>"
      ]
     },
     "metadata": {},
     "output_type": "display_data"
    },
    {
     "data": {
      "application/javascript": [
       "console.log(\"[120224][INFO][openvisuspy.slice:190:renderResultIfNeeded] Slice[6]::rendering result data.shape=(50, 82) data.dtype=float32 logic_box=[[4544, 4032, 0], [7168, 5632, 1]]\");\n"
      ],
      "text/plain": [
       "<IPython.core.display.Javascript object>"
      ]
     },
     "metadata": {},
     "output_type": "display_data"
    },
    {
     "data": {
      "application/javascript": [
       "console.log(\"[120224][INFO][openvisuspy.backend_cpp:168:returnBoxQueryData] got data 2/[16, 19, 22, 25] timestep=2015 field=u H=22 data.shape=(100, 164) data.dtype=float32 logic_box=[[4544, 4032, 0], [7168, 5632, 1]] m=-1.7182023525238037 M=1.3422585725784302 ms=74\");\n"
      ],
      "text/plain": [
       "<IPython.core.display.Javascript object>"
      ]
     },
     "metadata": {},
     "output_type": "display_data"
    },
    {
     "data": {
      "application/javascript": [
       "console.log(\"[120224][INFO][openvisuspy.slice:190:renderResultIfNeeded] Slice[6]::rendering result data.shape=(100, 164) data.dtype=float32 logic_box=[[4544, 4032, 0], [7168, 5632, 1]]\");\n"
      ],
      "text/plain": [
       "<IPython.core.display.Javascript object>"
      ]
     },
     "metadata": {},
     "output_type": "display_data"
    },
    {
     "data": {
      "application/javascript": [
       "console.log(\"[120224][INFO][openvisuspy.backend_cpp:168:returnBoxQueryData] got data 3/[16, 19, 22, 25] timestep=2015 field=u H=25 data.shape=(200, 328) data.dtype=float32 logic_box=[[4544, 4032, 0], [7168, 5632, 1]] m=-3.3751566410064697 M=2.3354365825653076 ms=130\");\n"
      ],
      "text/plain": [
       "<IPython.core.display.Javascript object>"
      ]
     },
     "metadata": {},
     "output_type": "display_data"
    },
    {
     "data": {
      "application/javascript": [
       "console.log(\"[120224][INFO][openvisuspy.backend_cpp:76:printStatistics] Stats::printStatistics enlapsed=0.14458227157592773 seconds\");\n"
      ],
      "text/plain": [
       "<IPython.core.display.Javascript object>"
      ]
     },
     "metadata": {},
     "output_type": "display_data"
    },
    {
     "data": {
      "application/javascript": [
       "console.log(\"[120224][INFO][openvisuspy.slice:190:renderResultIfNeeded] Slice[6]::rendering result data.shape=(200, 328) data.dtype=float32 logic_box=[[4544, 4032, 0], [7168, 5632, 1]]\");\n"
      ],
      "text/plain": [
       "<IPython.core.display.Javascript object>"
      ]
     },
     "metadata": {},
     "output_type": "display_data"
    },
    {
     "data": {
      "application/javascript": [
       "console.log(\"[120225][INFO][openvisuspy.slice:209:pushJobIfNeeded] pushing new job\");\n"
      ],
      "text/plain": [
       "<IPython.core.display.Javascript object>"
      ]
     },
     "metadata": {},
     "output_type": "display_data"
    },
    {
     "data": {
      "application/javascript": [
       "console.log(\"[120225][INFO][openvisuspy.backend_cpp:74:createBoxQuery] begin timestep=2015 field=u logic_box=[[4891.214695996996, 4185.989062204442, 45], [7050.974913382606, 5532.429702893746, 46]] num_refinements=4 max_pixels=97984 endh=34\");\n"
      ],
      "text/plain": [
       "<IPython.core.display.Javascript object>"
      ]
     },
     "metadata": {},
     "output_type": "display_data"
    },
    {
     "data": {
      "application/javascript": [
       "console.log(\"[120225][INFO][openvisuspy.backend_cpp:109:createBoxQuery] Guess resolution endh=26 original_box=([4891, 4185, 45], [7051, 5533, 46]) aligned_box=([4888, 4184, 40], [7048, 5528, 41]) delta=[4, 8, 8] num_pixels=[540, 168, 1] tot_pixels=90,720 max_pixels=97,984 end=26\");\n"
      ],
      "text/plain": [
       "<IPython.core.display.Javascript object>"
      ]
     },
     "metadata": {},
     "output_type": "display_data"
    },
    {
     "data": {
      "application/javascript": [
       "console.log(\"[120225][INFO][openvisuspy.backend_cpp:138:beginBoxQuery] beginBoxQuery timestep=2015 field=u logic_box=[[4864, 4160, 0], [7040, 5504, 1]] end_resolutions=[17, 20, 23, 26]\");\n"
      ],
      "text/plain": [
       "<IPython.core.display.Javascript object>"
      ]
     },
     "metadata": {},
     "output_type": "display_data"
    },
    {
     "data": {
      "application/javascript": [
       "console.log(\"[120225][INFO][openvisuspy.slice:209:pushJobIfNeeded] pushing new job\");\n"
      ],
      "text/plain": [
       "<IPython.core.display.Javascript object>"
      ]
     },
     "metadata": {},
     "output_type": "display_data"
    },
    {
     "data": {
      "application/javascript": [
       "console.log(\"[120225][INFO][openvisuspy.backend_cpp:168:returnBoxQueryData] got data 0/[17, 20, 23, 26] timestep=2015 field=u H=17 data.shape=(21, 68) data.dtype=float32 logic_box=[[4864, 4160, 0], [7040, 5504, 1]] m=-1.7182023525238037 M=0.8582783937454224 ms=19\");\n"
      ],
      "text/plain": [
       "<IPython.core.display.Javascript object>"
      ]
     },
     "metadata": {},
     "output_type": "display_data"
    },
    {
     "data": {
      "application/javascript": [
       "console.log(\"[120225][INFO][openvisuspy.backend_cpp:76:printStatistics] Stats::printStatistics enlapsed=0.03299975395202637 seconds\");\n"
      ],
      "text/plain": [
       "<IPython.core.display.Javascript object>"
      ]
     },
     "metadata": {},
     "output_type": "display_data"
    },
    {
     "data": {
      "application/javascript": [
       "console.log(\"[120225][INFO][openvisuspy.backend_cpp:74:createBoxQuery] begin timestep=2015 field=u logic_box=[[5152.183139313533, 4293.252555348674, 45], [6951.983320468207, 5415.28642258976, 46]] num_refinements=4 max_pixels=97984 endh=34\");\n"
      ],
      "text/plain": [
       "<IPython.core.display.Javascript object>"
      ]
     },
     "metadata": {},
     "output_type": "display_data"
    },
    {
     "data": {
      "application/javascript": [
       "console.log(\"[120225][INFO][openvisuspy.backend_cpp:109:createBoxQuery] Guess resolution endh=26 original_box=([5152, 4293, 45], [6952, 5416, 46]) aligned_box=([5152, 4288, 40], [6952, 5416, 41]) delta=[4, 8, 8] num_pixels=[450, 141, 1] tot_pixels=63,450 max_pixels=97,984 end=26\");\n"
      ],
      "text/plain": [
       "<IPython.core.display.Javascript object>"
      ]
     },
     "metadata": {},
     "output_type": "display_data"
    },
    {
     "data": {
      "application/javascript": [
       "console.log(\"[120225][INFO][openvisuspy.backend_cpp:138:beginBoxQuery] beginBoxQuery timestep=2015 field=u logic_box=[[5152, 4288, 0], [6944, 5376, 1]] end_resolutions=[17, 20, 23, 26]\");\n"
      ],
      "text/plain": [
       "<IPython.core.display.Javascript object>"
      ]
     },
     "metadata": {},
     "output_type": "display_data"
    },
    {
     "data": {
      "application/javascript": [
       "console.log(\"[120225][INFO][openvisuspy.slice:190:renderResultIfNeeded] Slice[6]::rendering result data.shape=(21, 68) data.dtype=float32 logic_box=[[4864, 4160, 0], [7040, 5504, 1]]\");\n"
      ],
      "text/plain": [
       "<IPython.core.display.Javascript object>"
      ]
     },
     "metadata": {},
     "output_type": "display_data"
    },
    {
     "data": {
      "application/javascript": [
       "console.log(\"[120225][INFO][openvisuspy.slice:209:pushJobIfNeeded] pushing new job\");\n"
      ],
      "text/plain": [
       "<IPython.core.display.Javascript object>"
      ]
     },
     "metadata": {},
     "output_type": "display_data"
    },
    {
     "data": {
      "application/javascript": [
       "console.log(\"[120225][INFO][openvisuspy.backend_cpp:76:printStatistics] Stats::printStatistics enlapsed=0.027025699615478516 seconds\");\n"
      ],
      "text/plain": [
       "<IPython.core.display.Javascript object>"
      ]
     },
     "metadata": {},
     "output_type": "display_data"
    },
    {
     "data": {
      "application/javascript": [
       "console.log(\"[120225][INFO][openvisuspy.backend_cpp:74:createBoxQuery] begin timestep=2015 field=u logic_box=[[5370.001235529505, 4382.983193087725, 45], [6869.834719825066, 5318.01141578863, 46]] num_refinements=4 max_pixels=97984 endh=34\");\n"
      ],
      "text/plain": [
       "<IPython.core.display.Javascript object>"
      ]
     },
     "metadata": {},
     "output_type": "display_data"
    },
    {
     "data": {
      "application/javascript": [
       "console.log(\"[120225][INFO][openvisuspy.backend_cpp:109:createBoxQuery] Guess resolution endh=28 original_box=([5370, 4382, 45], [6870, 5319, 46]) aligned_box=([5368, 4380, 44], [6868, 5316, 45]) delta=[4, 4, 4] num_pixels=[375, 234, 1] tot_pixels=87,750 max_pixels=97,984 end=28\");\n"
      ],
      "text/plain": [
       "<IPython.core.display.Javascript object>"
      ]
     },
     "metadata": {},
     "output_type": "display_data"
    },
    {
     "data": {
      "application/javascript": [
       "console.log(\"[120225][INFO][openvisuspy.backend_cpp:138:beginBoxQuery] beginBoxQuery timestep=2015 field=u logic_box=[[5344, 4352, 32], [6848, 5312, 33]] end_resolutions=[19, 22, 25, 28]\");\n"
      ],
      "text/plain": [
       "<IPython.core.display.Javascript object>"
      ]
     },
     "metadata": {},
     "output_type": "display_data"
    },
    {
     "data": {
      "application/javascript": [
       "console.log(\"[120225][INFO][openvisuspy.backend_cpp:168:returnBoxQueryData] got data 0/[19, 22, 25, 28] timestep=2015 field=u H=19 data.shape=(30, 47) data.dtype=float32 logic_box=[[5344, 4352, 32], [6848, 5312, 33]] m=-0.24639426171779633 M=0.4029015302658081 ms=18\");\n"
      ],
      "text/plain": [
       "<IPython.core.display.Javascript object>"
      ]
     },
     "metadata": {},
     "output_type": "display_data"
    },
    {
     "data": {
      "application/javascript": [
       "console.log(\"[120225][INFO][openvisuspy.backend_cpp:168:returnBoxQueryData] got data 1/[19, 22, 25, 28] timestep=2015 field=u H=22 data.shape=(60, 94) data.dtype=float32 logic_box=[[5344, 4352, 32], [6848, 5312, 33]] m=-0.3637154698371887 M=0.4029015302658081 ms=53\");\n"
      ],
      "text/plain": [
       "<IPython.core.display.Javascript object>"
      ]
     },
     "metadata": {},
     "output_type": "display_data"
    },
    {
     "data": {
      "application/javascript": [
       "console.log(\"[120225][INFO][openvisuspy.slice:190:renderResultIfNeeded] Slice[6]::rendering result data.shape=(60, 94) data.dtype=float32 logic_box=[[5344, 4352, 32], [6848, 5312, 33]]\");\n"
      ],
      "text/plain": [
       "<IPython.core.display.Javascript object>"
      ]
     },
     "metadata": {},
     "output_type": "display_data"
    },
    {
     "data": {
      "application/javascript": [
       "console.log(\"[120225][INFO][openvisuspy.backend_cpp:168:returnBoxQueryData] got data 2/[19, 22, 25, 28] timestep=2015 field=u H=25 data.shape=(120, 188) data.dtype=float32 logic_box=[[5344, 4352, 32], [6848, 5312, 33]] m=-0.47587257623672485 M=0.42446959018707275 ms=90\");\n"
      ],
      "text/plain": [
       "<IPython.core.display.Javascript object>"
      ]
     },
     "metadata": {},
     "output_type": "display_data"
    },
    {
     "data": {
      "application/javascript": [
       "console.log(\"[120225][INFO][openvisuspy.slice:190:renderResultIfNeeded] Slice[6]::rendering result data.shape=(120, 188) data.dtype=float32 logic_box=[[5344, 4352, 32], [6848, 5312, 33]]\");\n"
      ],
      "text/plain": [
       "<IPython.core.display.Javascript object>"
      ]
     },
     "metadata": {},
     "output_type": "display_data"
    },
    {
     "data": {
      "application/javascript": [
       "console.log(\"[120225][INFO][openvisuspy.slice:209:pushJobIfNeeded] pushing new job\");\n"
      ],
      "text/plain": [
       "<IPython.core.display.Javascript object>"
      ]
     },
     "metadata": {},
     "output_type": "display_data"
    },
    {
     "data": {
      "application/javascript": [
       "console.log(\"[120225][INFO][openvisuspy.backend_cpp:76:printStatistics] Stats::printStatistics enlapsed=0.7861700057983398 seconds\");\n"
      ],
      "text/plain": [
       "<IPython.core.display.Javascript object>"
      ]
     },
     "metadata": {},
     "output_type": "display_data"
    },
    {
     "data": {
      "application/javascript": [
       "console.log(\"[120225][INFO][openvisuspy.backend_cpp:74:createBoxQuery] begin timestep=2015 field=u logic_box=[[5397.552711704854, 4396.7589311754, 45], [6897.386196000415, 5331.787153876305, 46]] num_refinements=4 max_pixels=97984 endh=34\");\n"
      ],
      "text/plain": [
       "<IPython.core.display.Javascript object>"
      ]
     },
     "metadata": {},
     "output_type": "display_data"
    },
    {
     "data": {
      "application/javascript": [
       "console.log(\"[120225][INFO][openvisuspy.backend_cpp:109:createBoxQuery] Guess resolution endh=28 original_box=([5397, 4396, 45], [6898, 5332, 46]) aligned_box=([5396, 4396, 44], [6896, 5332, 45]) delta=[4, 4, 4] num_pixels=[375, 234, 1] tot_pixels=87,750 max_pixels=97,984 end=28\");\n"
      ],
      "text/plain": [
       "<IPython.core.display.Javascript object>"
      ]
     },
     "metadata": {},
     "output_type": "display_data"
    },
    {
     "data": {
      "application/javascript": [
       "console.log(\"[120225][INFO][openvisuspy.backend_cpp:138:beginBoxQuery] beginBoxQuery timestep=2015 field=u logic_box=[[5376, 4384, 32], [6880, 5312, 33]] end_resolutions=[19, 22, 25, 28]\");\n"
      ],
      "text/plain": [
       "<IPython.core.display.Javascript object>"
      ]
     },
     "metadata": {},
     "output_type": "display_data"
    },
    {
     "data": {
      "application/javascript": [
       "console.log(\"[120225][INFO][openvisuspy.slice:209:pushJobIfNeeded] pushing new job\");\n"
      ],
      "text/plain": [
       "<IPython.core.display.Javascript object>"
      ]
     },
     "metadata": {},
     "output_type": "display_data"
    },
    {
     "data": {
      "application/javascript": [
       "console.log(\"[120225][INFO][openvisuspy.backend_cpp:168:returnBoxQueryData] got data 0/[19, 22, 25, 28] timestep=2015 field=u H=19 data.shape=(29, 47) data.dtype=float32 logic_box=[[5376, 4384, 32], [6880, 5312, 33]] m=-0.24639426171779633 M=0.4029015302658081 ms=21\");\n"
      ],
      "text/plain": [
       "<IPython.core.display.Javascript object>"
      ]
     },
     "metadata": {},
     "output_type": "display_data"
    },
    {
     "data": {
      "application/javascript": [
       "console.log(\"[120225][INFO][openvisuspy.backend_cpp:76:printStatistics] Stats::printStatistics enlapsed=0.03302168846130371 seconds\");\n"
      ],
      "text/plain": [
       "<IPython.core.display.Javascript object>"
      ]
     },
     "metadata": {},
     "output_type": "display_data"
    },
    {
     "data": {
      "application/javascript": [
       "console.log(\"[120225][INFO][openvisuspy.backend_cpp:74:createBoxQuery] begin timestep=2015 field=u logic_box=[[5402.718613487732, 4403.646800219237, 45], [6902.552097783293, 5338.675022920142, 46]] num_refinements=4 max_pixels=97984 endh=34\");\n"
      ],
      "text/plain": [
       "<IPython.core.display.Javascript object>"
      ]
     },
     "metadata": {},
     "output_type": "display_data"
    },
    {
     "data": {
      "application/javascript": [
       "console.log(\"[120225][INFO][openvisuspy.backend_cpp:109:createBoxQuery] Guess resolution endh=28 original_box=([5402, 4403, 45], [6903, 5339, 46]) aligned_box=([5400, 4400, 44], [6900, 5336, 45]) delta=[4, 4, 4] num_pixels=[375, 234, 1] tot_pixels=87,750 max_pixels=97,984 end=28\");\n"
      ],
      "text/plain": [
       "<IPython.core.display.Javascript object>"
      ]
     },
     "metadata": {},
     "output_type": "display_data"
    },
    {
     "data": {
      "application/javascript": [
       "console.log(\"[120225][INFO][openvisuspy.backend_cpp:138:beginBoxQuery] beginBoxQuery timestep=2015 field=u logic_box=[[5376, 4384, 32], [6880, 5312, 33]] end_resolutions=[19, 22, 25, 28]\");\n"
      ],
      "text/plain": [
       "<IPython.core.display.Javascript object>"
      ]
     },
     "metadata": {},
     "output_type": "display_data"
    },
    {
     "data": {
      "application/javascript": [
       "console.log(\"[120225][INFO][openvisuspy.slice:190:renderResultIfNeeded] Slice[6]::rendering result data.shape=(29, 47) data.dtype=float32 logic_box=[[5376, 4384, 32], [6880, 5312, 33]]\");\n"
      ],
      "text/plain": [
       "<IPython.core.display.Javascript object>"
      ]
     },
     "metadata": {},
     "output_type": "display_data"
    },
    {
     "data": {
      "application/javascript": [
       "console.log(\"[120225][INFO][openvisuspy.slice:209:pushJobIfNeeded] pushing new job\");\n"
      ],
      "text/plain": [
       "<IPython.core.display.Javascript object>"
      ]
     },
     "metadata": {},
     "output_type": "display_data"
    },
    {
     "data": {
      "application/javascript": [
       "console.log(\"[120225][INFO][openvisuspy.backend_cpp:168:returnBoxQueryData] got data 0/[19, 22, 25, 28] timestep=2015 field=u H=19 data.shape=(29, 47) data.dtype=float32 logic_box=[[5376, 4384, 32], [6880, 5312, 33]] m=-0.24639426171779633 M=0.4029015302658081 ms=20\");\n"
      ],
      "text/plain": [
       "<IPython.core.display.Javascript object>"
      ]
     },
     "metadata": {},
     "output_type": "display_data"
    },
    {
     "data": {
      "application/javascript": [
       "console.log(\"[120225][INFO][openvisuspy.backend_cpp:76:printStatistics] Stats::printStatistics enlapsed=0.03309488296508789 seconds\");\n"
      ],
      "text/plain": [
       "<IPython.core.display.Javascript object>"
      ]
     },
     "metadata": {},
     "output_type": "display_data"
    },
    {
     "data": {
      "application/javascript": [
       "console.log(\"[120225][INFO][openvisuspy.backend_cpp:74:createBoxQuery] begin timestep=2015 field=u logic_box=[[5406.16254800965, 4405.368767480197, 45], [6905.996032305212, 5340.3969901811015, 46]] num_refinements=4 max_pixels=97984 endh=34\");\n"
      ],
      "text/plain": [
       "<IPython.core.display.Javascript object>"
      ]
     },
     "metadata": {},
     "output_type": "display_data"
    },
    {
     "data": {
      "application/javascript": [
       "console.log(\"[120226][INFO][openvisuspy.backend_cpp:109:createBoxQuery] Guess resolution endh=28 original_box=([5406, 4405, 45], [6906, 5341, 46]) aligned_box=([5404, 4404, 44], [6904, 5340, 45]) delta=[4, 4, 4] num_pixels=[375, 234, 1] tot_pixels=87,750 max_pixels=97,984 end=28\");\n"
      ],
      "text/plain": [
       "<IPython.core.display.Javascript object>"
      ]
     },
     "metadata": {},
     "output_type": "display_data"
    },
    {
     "data": {
      "application/javascript": [
       "console.log(\"[120226][INFO][openvisuspy.slice:190:renderResultIfNeeded] Slice[6]::rendering result data.shape=(29, 47) data.dtype=float32 logic_box=[[5376, 4384, 32], [6880, 5312, 33]]\");\n"
      ],
      "text/plain": [
       "<IPython.core.display.Javascript object>"
      ]
     },
     "metadata": {},
     "output_type": "display_data"
    },
    {
     "data": {
      "application/javascript": [
       "console.log(\"[120226][INFO][openvisuspy.backend_cpp:138:beginBoxQuery] beginBoxQuery timestep=2015 field=u logic_box=[[5376, 4384, 32], [6880, 5312, 33]] end_resolutions=[19, 22, 25, 28]\");\n"
      ],
      "text/plain": [
       "<IPython.core.display.Javascript object>"
      ]
     },
     "metadata": {},
     "output_type": "display_data"
    },
    {
     "data": {
      "application/javascript": [
       "console.log(\"[120226][INFO][openvisuspy.slice:209:pushJobIfNeeded] pushing new job\");\n"
      ],
      "text/plain": [
       "<IPython.core.display.Javascript object>"
      ]
     },
     "metadata": {},
     "output_type": "display_data"
    },
    {
     "data": {
      "application/javascript": [
       "console.log(\"[120226][INFO][openvisuspy.backend_cpp:76:printStatistics] Stats::printStatistics enlapsed=0.03404879570007324 seconds\");\n"
      ],
      "text/plain": [
       "<IPython.core.display.Javascript object>"
      ]
     },
     "metadata": {},
     "output_type": "display_data"
    },
    {
     "data": {
      "application/javascript": [
       "console.log(\"[120226][INFO][openvisuspy.backend_cpp:74:createBoxQuery] begin timestep=2015 field=u logic_box=[[5413.050417053488, 4407.090734741156, 45], [6912.88390134905, 5342.1189574420605, 46]] num_refinements=4 max_pixels=97984 endh=34\");\n"
      ],
      "text/plain": [
       "<IPython.core.display.Javascript object>"
      ]
     },
     "metadata": {},
     "output_type": "display_data"
    },
    {
     "data": {
      "application/javascript": [
       "console.log(\"[120226][INFO][openvisuspy.slice:209:pushJobIfNeeded] pushing new job\");\n"
      ],
      "text/plain": [
       "<IPython.core.display.Javascript object>"
      ]
     },
     "metadata": {},
     "output_type": "display_data"
    },
    {
     "data": {
      "application/javascript": [
       "console.log(\"[120226][INFO][openvisuspy.backend_cpp:109:createBoxQuery] Guess resolution endh=28 original_box=([5413, 4407, 45], [6913, 5343, 46]) aligned_box=([5412, 4404, 44], [6912, 5340, 45]) delta=[4, 4, 4] num_pixels=[375, 234, 1] tot_pixels=87,750 max_pixels=97,984 end=28\");\n"
      ],
      "text/plain": [
       "<IPython.core.display.Javascript object>"
      ]
     },
     "metadata": {},
     "output_type": "display_data"
    },
    {
     "data": {
      "application/javascript": [
       "console.log(\"[120226][INFO][openvisuspy.backend_cpp:138:beginBoxQuery] beginBoxQuery timestep=2015 field=u logic_box=[[5408, 4384, 32], [6912, 5312, 33]] end_resolutions=[19, 22, 25, 28]\");\n"
      ],
      "text/plain": [
       "<IPython.core.display.Javascript object>"
      ]
     },
     "metadata": {},
     "output_type": "display_data"
    },
    {
     "data": {
      "application/javascript": [
       "console.log(\"[120226][INFO][openvisuspy.backend_cpp:76:printStatistics] Stats::printStatistics enlapsed=0.015344381332397461 seconds\");\n"
      ],
      "text/plain": [
       "<IPython.core.display.Javascript object>"
      ]
     },
     "metadata": {},
     "output_type": "display_data"
    },
    {
     "data": {
      "application/javascript": [
       "console.log(\"[120226][INFO][openvisuspy.backend_cpp:74:createBoxQuery] begin timestep=2015 field=u logic_box=[[5413.050417053488, 4408.812702002115, 45], [6912.88390134905, 5343.8409247030195, 46]] num_refinements=4 max_pixels=97984 endh=34\");\n"
      ],
      "text/plain": [
       "<IPython.core.display.Javascript object>"
      ]
     },
     "metadata": {},
     "output_type": "display_data"
    },
    {
     "data": {
      "application/javascript": [
       "console.log(\"[120226][INFO][openvisuspy.backend_cpp:109:createBoxQuery] Guess resolution endh=28 original_box=([5413, 4408, 45], [6913, 5344, 46]) aligned_box=([5412, 4408, 44], [6912, 5344, 45]) delta=[4, 4, 4] num_pixels=[375, 234, 1] tot_pixels=87,750 max_pixels=97,984 end=28\");\n"
      ],
      "text/plain": [
       "<IPython.core.display.Javascript object>"
      ]
     },
     "metadata": {},
     "output_type": "display_data"
    },
    {
     "data": {
      "application/javascript": [
       "console.log(\"[120226][INFO][openvisuspy.backend_cpp:138:beginBoxQuery] beginBoxQuery timestep=2015 field=u logic_box=[[5408, 4384, 32], [6912, 5344, 33]] end_resolutions=[19, 22, 25, 28]\");\n"
      ],
      "text/plain": [
       "<IPython.core.display.Javascript object>"
      ]
     },
     "metadata": {},
     "output_type": "display_data"
    },
    {
     "data": {
      "application/javascript": [
       "console.log(\"[120226][INFO][openvisuspy.backend_cpp:168:returnBoxQueryData] got data 0/[19, 22, 25, 28] timestep=2015 field=u H=19 data.shape=(30, 47) data.dtype=float32 logic_box=[[5408, 4384, 32], [6912, 5344, 33]] m=-0.24639426171779633 M=0.4029015302658081 ms=21\");\n"
      ],
      "text/plain": [
       "<IPython.core.display.Javascript object>"
      ]
     },
     "metadata": {},
     "output_type": "display_data"
    },
    {
     "data": {
      "application/javascript": [
       "console.log(\"[120226][INFO][openvisuspy.slice:209:pushJobIfNeeded] pushing new job\");\n"
      ],
      "text/plain": [
       "<IPython.core.display.Javascript object>"
      ]
     },
     "metadata": {},
     "output_type": "display_data"
    },
    {
     "data": {
      "application/javascript": [
       "console.log(\"[120226][INFO][openvisuspy.backend_cpp:76:printStatistics] Stats::printStatistics enlapsed=0.051114559173583984 seconds\");\n"
      ],
      "text/plain": [
       "<IPython.core.display.Javascript object>"
      ]
     },
     "metadata": {},
     "output_type": "display_data"
    },
    {
     "data": {
      "application/javascript": [
       "console.log(\"[120226][INFO][openvisuspy.backend_cpp:74:createBoxQuery] begin timestep=2015 field=u logic_box=[[5418.216318836366, 4412.256636524034, 45], [6918.049803131928, 5347.284859224938, 46]] num_refinements=4 max_pixels=97984 endh=34\");\n"
      ],
      "text/plain": [
       "<IPython.core.display.Javascript object>"
      ]
     },
     "metadata": {},
     "output_type": "display_data"
    },
    {
     "data": {
      "application/javascript": [
       "console.log(\"[120226][INFO][openvisuspy.backend_cpp:109:createBoxQuery] Guess resolution endh=28 original_box=([5418, 4412, 45], [6919, 5348, 46]) aligned_box=([5416, 4412, 44], [6916, 5348, 45]) delta=[4, 4, 4] num_pixels=[375, 234, 1] tot_pixels=87,750 max_pixels=97,984 end=28\");\n"
      ],
      "text/plain": [
       "<IPython.core.display.Javascript object>"
      ]
     },
     "metadata": {},
     "output_type": "display_data"
    },
    {
     "data": {
      "application/javascript": [
       "console.log(\"[120226][INFO][openvisuspy.backend_cpp:138:beginBoxQuery] beginBoxQuery timestep=2015 field=u logic_box=[[5408, 4384, 32], [6912, 5344, 33]] end_resolutions=[19, 22, 25, 28]\");\n"
      ],
      "text/plain": [
       "<IPython.core.display.Javascript object>"
      ]
     },
     "metadata": {},
     "output_type": "display_data"
    },
    {
     "data": {
      "application/javascript": [
       "console.log(\"[120226][INFO][openvisuspy.slice:190:renderResultIfNeeded] Slice[6]::rendering result data.shape=(30, 47) data.dtype=float32 logic_box=[[5408, 4384, 32], [6912, 5344, 33]]\");\n"
      ],
      "text/plain": [
       "<IPython.core.display.Javascript object>"
      ]
     },
     "metadata": {},
     "output_type": "display_data"
    },
    {
     "data": {
      "application/javascript": [
       "console.log(\"[120226][INFO][openvisuspy.backend_cpp:168:returnBoxQueryData] got data 0/[19, 22, 25, 28] timestep=2015 field=u H=19 data.shape=(30, 47) data.dtype=float32 logic_box=[[5408, 4384, 32], [6912, 5344, 33]] m=-0.24639426171779633 M=0.4029015302658081 ms=19\");\n"
      ],
      "text/plain": [
       "<IPython.core.display.Javascript object>"
      ]
     },
     "metadata": {},
     "output_type": "display_data"
    },
    {
     "data": {
      "application/javascript": [
       "console.log(\"[120226][INFO][openvisuspy.slice:190:renderResultIfNeeded] Slice[6]::rendering result data.shape=(30, 47) data.dtype=float32 logic_box=[[5408, 4384, 32], [6912, 5344, 33]]\");\n"
      ],
      "text/plain": [
       "<IPython.core.display.Javascript object>"
      ]
     },
     "metadata": {},
     "output_type": "display_data"
    },
    {
     "data": {
      "application/javascript": [
       "console.log(\"[120226][INFO][openvisuspy.backend_cpp:168:returnBoxQueryData] got data 1/[19, 22, 25, 28] timestep=2015 field=u H=22 data.shape=(60, 94) data.dtype=float32 logic_box=[[5408, 4384, 32], [6912, 5344, 33]] m=-0.27744027972221375 M=0.4029015302658081 ms=58\");\n"
      ],
      "text/plain": [
       "<IPython.core.display.Javascript object>"
      ]
     },
     "metadata": {},
     "output_type": "display_data"
    },
    {
     "data": {
      "application/javascript": [
       "console.log(\"[120226][INFO][openvisuspy.backend_cpp:168:returnBoxQueryData] got data 2/[19, 22, 25, 28] timestep=2015 field=u H=25 data.shape=(120, 188) data.dtype=float32 logic_box=[[5408, 4384, 32], [6912, 5344, 33]] m=-0.47587257623672485 M=0.4029015302658081 ms=96\");\n"
      ],
      "text/plain": [
       "<IPython.core.display.Javascript object>"
      ]
     },
     "metadata": {},
     "output_type": "display_data"
    },
    {
     "data": {
      "application/javascript": [
       "console.log(\"[120226][INFO][openvisuspy.slice:190:renderResultIfNeeded] Slice[6]::rendering result data.shape=(60, 94) data.dtype=float32 logic_box=[[5408, 4384, 32], [6912, 5344, 33]]\");\n"
      ],
      "text/plain": [
       "<IPython.core.display.Javascript object>"
      ]
     },
     "metadata": {},
     "output_type": "display_data"
    },
    {
     "data": {
      "application/javascript": [
       "console.log(\"[120226][INFO][openvisuspy.slice:190:renderResultIfNeeded] Slice[6]::rendering result data.shape=(120, 188) data.dtype=float32 logic_box=[[5408, 4384, 32], [6912, 5344, 33]]\");\n"
      ],
      "text/plain": [
       "<IPython.core.display.Javascript object>"
      ]
     },
     "metadata": {},
     "output_type": "display_data"
    },
    {
     "data": {
      "application/javascript": [
       "console.log(\"[120226][INFO][openvisuspy.slice:209:pushJobIfNeeded] pushing new job\");\n"
      ],
      "text/plain": [
       "<IPython.core.display.Javascript object>"
      ]
     },
     "metadata": {},
     "output_type": "display_data"
    },
    {
     "data": {
      "application/javascript": [
       "console.log(\"[120226][INFO][openvisuspy.backend_cpp:76:printStatistics] Stats::printStatistics enlapsed=0.31204748153686523 seconds\");\n"
      ],
      "text/plain": [
       "<IPython.core.display.Javascript object>"
      ]
     },
     "metadata": {},
     "output_type": "display_data"
    },
    {
     "data": {
      "application/javascript": [
       "console.log(\"[120226][INFO][openvisuspy.backend_cpp:74:createBoxQuery] begin timestep=2015 field=u logic_box=[[5419.938286097325, 4412.256636524034, 45], [6919.7717703928865, 5347.284859224938, 46]] num_refinements=4 max_pixels=97984 endh=34\");\n"
      ],
      "text/plain": [
       "<IPython.core.display.Javascript object>"
      ]
     },
     "metadata": {},
     "output_type": "display_data"
    },
    {
     "data": {
      "application/javascript": [
       "console.log(\"[120226][INFO][openvisuspy.backend_cpp:109:createBoxQuery] Guess resolution endh=28 original_box=([5419, 4412, 45], [6920, 5348, 46]) aligned_box=([5416, 4412, 44], [6920, 5348, 45]) delta=[4, 4, 4] num_pixels=[376, 234, 1] tot_pixels=87,984 max_pixels=97,984 end=28\");\n"
      ],
      "text/plain": [
       "<IPython.core.display.Javascript object>"
      ]
     },
     "metadata": {},
     "output_type": "display_data"
    },
    {
     "data": {
      "application/javascript": [
       "console.log(\"[120226][INFO][openvisuspy.backend_cpp:138:beginBoxQuery] beginBoxQuery timestep=2015 field=u logic_box=[[5408, 4384, 32], [6912, 5344, 33]] end_resolutions=[19, 22, 25, 28]\");\n"
      ],
      "text/plain": [
       "<IPython.core.display.Javascript object>"
      ]
     },
     "metadata": {},
     "output_type": "display_data"
    },
    {
     "data": {
      "application/javascript": [
       "console.log(\"[120226][INFO][openvisuspy.backend_cpp:168:returnBoxQueryData] got data 0/[19, 22, 25, 28] timestep=2015 field=u H=19 data.shape=(30, 47) data.dtype=float32 logic_box=[[5408, 4384, 32], [6912, 5344, 33]] m=-0.24639426171779633 M=0.4029015302658081 ms=19\");\n"
      ],
      "text/plain": [
       "<IPython.core.display.Javascript object>"
      ]
     },
     "metadata": {},
     "output_type": "display_data"
    },
    {
     "data": {
      "application/javascript": [
       "console.log(\"[120226][INFO][openvisuspy.slice:190:renderResultIfNeeded] Slice[6]::rendering result data.shape=(30, 47) data.dtype=float32 logic_box=[[5408, 4384, 32], [6912, 5344, 33]]\");\n"
      ],
      "text/plain": [
       "<IPython.core.display.Javascript object>"
      ]
     },
     "metadata": {},
     "output_type": "display_data"
    },
    {
     "data": {
      "application/javascript": [
       "console.log(\"[120226][INFO][openvisuspy.backend_cpp:168:returnBoxQueryData] got data 1/[19, 22, 25, 28] timestep=2015 field=u H=22 data.shape=(60, 94) data.dtype=float32 logic_box=[[5408, 4384, 32], [6912, 5344, 33]] m=-0.27744027972221375 M=0.4029015302658081 ms=49\");\n"
      ],
      "text/plain": [
       "<IPython.core.display.Javascript object>"
      ]
     },
     "metadata": {},
     "output_type": "display_data"
    },
    {
     "data": {
      "application/javascript": [
       "console.log(\"[120226][INFO][openvisuspy.slice:190:renderResultIfNeeded] Slice[6]::rendering result data.shape=(60, 94) data.dtype=float32 logic_box=[[5408, 4384, 32], [6912, 5344, 33]]\");\n"
      ],
      "text/plain": [
       "<IPython.core.display.Javascript object>"
      ]
     },
     "metadata": {},
     "output_type": "display_data"
    },
    {
     "data": {
      "application/javascript": [
       "console.log(\"[120226][INFO][openvisuspy.backend_cpp:168:returnBoxQueryData] got data 2/[19, 22, 25, 28] timestep=2015 field=u H=25 data.shape=(120, 188) data.dtype=float32 logic_box=[[5408, 4384, 32], [6912, 5344, 33]] m=-0.47587257623672485 M=0.4029015302658081 ms=87\");\n"
      ],
      "text/plain": [
       "<IPython.core.display.Javascript object>"
      ]
     },
     "metadata": {},
     "output_type": "display_data"
    },
    {
     "data": {
      "application/javascript": [
       "console.log(\"[120226][INFO][openvisuspy.slice:190:renderResultIfNeeded] Slice[6]::rendering result data.shape=(120, 188) data.dtype=float32 logic_box=[[5408, 4384, 32], [6912, 5344, 33]]\");\n"
      ],
      "text/plain": [
       "<IPython.core.display.Javascript object>"
      ]
     },
     "metadata": {},
     "output_type": "display_data"
    },
    {
     "data": {
      "application/javascript": [
       "console.log(\"[120227][INFO][openvisuspy.slice:209:pushJobIfNeeded] pushing new job\");\n"
      ],
      "text/plain": [
       "<IPython.core.display.Javascript object>"
      ]
     },
     "metadata": {},
     "output_type": "display_data"
    },
    {
     "data": {
      "application/javascript": [
       "console.log(\"[120227][INFO][openvisuspy.backend_cpp:76:printStatistics] Stats::printStatistics enlapsed=0.6409828662872314 seconds\");\n"
      ],
      "text/plain": [
       "<IPython.core.display.Javascript object>"
      ]
     },
     "metadata": {},
     "output_type": "display_data"
    },
    {
     "data": {
      "application/javascript": [
       "console.log(\"[120227][INFO][openvisuspy.backend_cpp:74:createBoxQuery] begin timestep=2015 field=u logic_box=[[5419.938286097325, 4413.978603784993, 45], [6919.7717703928865, 5349.006826485897, 46]] num_refinements=4 max_pixels=97984 endh=34\");\n"
      ],
      "text/plain": [
       "<IPython.core.display.Javascript object>"
      ]
     },
     "metadata": {},
     "output_type": "display_data"
    },
    {
     "data": {
      "application/javascript": [
       "console.log(\"[120227][INFO][openvisuspy.backend_cpp:109:createBoxQuery] Guess resolution endh=28 original_box=([5419, 4413, 45], [6920, 5350, 46]) aligned_box=([5416, 4412, 44], [6920, 5348, 45]) delta=[4, 4, 4] num_pixels=[376, 234, 1] tot_pixels=87,984 max_pixels=97,984 end=28\");\n"
      ],
      "text/plain": [
       "<IPython.core.display.Javascript object>"
      ]
     },
     "metadata": {},
     "output_type": "display_data"
    },
    {
     "data": {
      "application/javascript": [
       "console.log(\"[120227][INFO][openvisuspy.backend_cpp:138:beginBoxQuery] beginBoxQuery timestep=2015 field=u logic_box=[[5408, 4384, 32], [6912, 5344, 33]] end_resolutions=[19, 22, 25, 28]\");\n"
      ],
      "text/plain": [
       "<IPython.core.display.Javascript object>"
      ]
     },
     "metadata": {},
     "output_type": "display_data"
    },
    {
     "data": {
      "application/javascript": [
       "console.log(\"[120227][INFO][openvisuspy.slice:209:pushJobIfNeeded] pushing new job\");\n"
      ],
      "text/plain": [
       "<IPython.core.display.Javascript object>"
      ]
     },
     "metadata": {},
     "output_type": "display_data"
    },
    {
     "data": {
      "application/javascript": [
       "console.log(\"[120227][INFO][openvisuspy.backend_cpp:76:printStatistics] Stats::printStatistics enlapsed=0.029969453811645508 seconds\");\n"
      ],
      "text/plain": [
       "<IPython.core.display.Javascript object>"
      ]
     },
     "metadata": {},
     "output_type": "display_data"
    },
    {
     "data": {
      "application/javascript": [
       "console.log(\"[120227][INFO][openvisuspy.backend_cpp:74:createBoxQuery] begin timestep=2015 field=u logic_box=[[5426.826155141162, 4415.7005710459525, 45], [6926.659639436724, 5350.728793746857, 46]] num_refinements=4 max_pixels=97984 endh=34\");\n"
      ],
      "text/plain": [
       "<IPython.core.display.Javascript object>"
      ]
     },
     "metadata": {},
     "output_type": "display_data"
    },
    {
     "data": {
      "application/javascript": [
       "console.log(\"[120227][INFO][openvisuspy.backend_cpp:109:createBoxQuery] Guess resolution endh=28 original_box=([5426, 4415, 45], [6927, 5351, 46]) aligned_box=([5424, 4412, 44], [6924, 5348, 45]) delta=[4, 4, 4] num_pixels=[375, 234, 1] tot_pixels=87,750 max_pixels=97,984 end=28\");\n"
      ],
      "text/plain": [
       "<IPython.core.display.Javascript object>"
      ]
     },
     "metadata": {},
     "output_type": "display_data"
    },
    {
     "data": {
      "application/javascript": [
       "console.log(\"[120227][INFO][openvisuspy.slice:209:pushJobIfNeeded] pushing new job\");\n"
      ],
      "text/plain": [
       "<IPython.core.display.Javascript object>"
      ]
     },
     "metadata": {},
     "output_type": "display_data"
    },
    {
     "data": {
      "application/javascript": [
       "console.log(\"[120227][INFO][openvisuspy.backend_cpp:138:beginBoxQuery] beginBoxQuery timestep=2015 field=u logic_box=[[5408, 4384, 32], [6912, 5344, 33]] end_resolutions=[19, 22, 25, 28]\");\n"
      ],
      "text/plain": [
       "<IPython.core.display.Javascript object>"
      ]
     },
     "metadata": {},
     "output_type": "display_data"
    },
    {
     "data": {
      "application/javascript": [
       "console.log(\"[120227][INFO][openvisuspy.backend_cpp:76:printStatistics] Stats::printStatistics enlapsed=0.016983985900878906 seconds\");\n"
      ],
      "text/plain": [
       "<IPython.core.display.Javascript object>"
      ]
     },
     "metadata": {},
     "output_type": "display_data"
    },
    {
     "data": {
      "application/javascript": [
       "console.log(\"[120227][INFO][openvisuspy.backend_cpp:74:createBoxQuery] begin timestep=2015 field=u logic_box=[[5431.99205692404, 4429.476309133627, 45], [6931.825541219602, 5364.504531834532, 46]] num_refinements=4 max_pixels=97984 endh=34\");\n"
      ],
      "text/plain": [
       "<IPython.core.display.Javascript object>"
      ]
     },
     "metadata": {},
     "output_type": "display_data"
    },
    {
     "data": {
      "application/javascript": [
       "console.log(\"[120227][INFO][openvisuspy.backend_cpp:109:createBoxQuery] Guess resolution endh=28 original_box=([5431, 4429, 45], [6932, 5365, 46]) aligned_box=([5428, 4428, 44], [6932, 5364, 45]) delta=[4, 4, 4] num_pixels=[376, 234, 1] tot_pixels=87,984 max_pixels=97,984 end=28\");\n"
      ],
      "text/plain": [
       "<IPython.core.display.Javascript object>"
      ]
     },
     "metadata": {},
     "output_type": "display_data"
    },
    {
     "data": {
      "application/javascript": [
       "console.log(\"[120227][INFO][openvisuspy.backend_cpp:138:beginBoxQuery] beginBoxQuery timestep=2015 field=u logic_box=[[5408, 4416, 32], [6912, 5344, 33]] end_resolutions=[19, 22, 25, 28]\");\n"
      ],
      "text/plain": [
       "<IPython.core.display.Javascript object>"
      ]
     },
     "metadata": {},
     "output_type": "display_data"
    },
    {
     "data": {
      "application/javascript": [
       "console.log(\"[120227][INFO][openvisuspy.slice:209:pushJobIfNeeded] pushing new job\");\n"
      ],
      "text/plain": [
       "<IPython.core.display.Javascript object>"
      ]
     },
     "metadata": {},
     "output_type": "display_data"
    },
    {
     "data": {
      "application/javascript": [
       "console.log(\"[120227][INFO][openvisuspy.backend_cpp:76:printStatistics] Stats::printStatistics enlapsed=0.02899789810180664 seconds\");\n"
      ],
      "text/plain": [
       "<IPython.core.display.Javascript object>"
      ]
     },
     "metadata": {},
     "output_type": "display_data"
    },
    {
     "data": {
      "application/javascript": [
       "console.log(\"[120227][INFO][openvisuspy.backend_cpp:74:createBoxQuery] begin timestep=2015 field=u logic_box=[[5440.601893228837, 4439.808112699383, 45], [6940.435377524399, 5374.836335400288, 46]] num_refinements=4 max_pixels=97984 endh=34\");\n"
      ],
      "text/plain": [
       "<IPython.core.display.Javascript object>"
      ]
     },
     "metadata": {},
     "output_type": "display_data"
    },
    {
     "data": {
      "application/javascript": [
       "console.log(\"[120227][INFO][openvisuspy.backend_cpp:109:createBoxQuery] Guess resolution endh=28 original_box=([5440, 4439, 45], [6941, 5375, 46]) aligned_box=([5440, 4436, 44], [6940, 5372, 45]) delta=[4, 4, 4] num_pixels=[375, 234, 1] tot_pixels=87,750 max_pixels=97,984 end=28\");\n"
      ],
      "text/plain": [
       "<IPython.core.display.Javascript object>"
      ]
     },
     "metadata": {},
     "output_type": "display_data"
    },
    {
     "data": {
      "application/javascript": [
       "console.log(\"[120227][INFO][openvisuspy.backend_cpp:138:beginBoxQuery] beginBoxQuery timestep=2015 field=u logic_box=[[5440, 4416, 32], [6912, 5344, 33]] end_resolutions=[19, 22, 25, 28]\");\n"
      ],
      "text/plain": [
       "<IPython.core.display.Javascript object>"
      ]
     },
     "metadata": {},
     "output_type": "display_data"
    },
    {
     "data": {
      "application/javascript": [
       "console.log(\"[120227][INFO][openvisuspy.slice:209:pushJobIfNeeded] pushing new job\");\n"
      ],
      "text/plain": [
       "<IPython.core.display.Javascript object>"
      ]
     },
     "metadata": {},
     "output_type": "display_data"
    },
    {
     "data": {
      "application/javascript": [
       "console.log(\"[120227][INFO][openvisuspy.backend_cpp:76:printStatistics] Stats::printStatistics enlapsed=0.030966520309448242 seconds\");\n"
      ],
      "text/plain": [
       "<IPython.core.display.Javascript object>"
      ]
     },
     "metadata": {},
     "output_type": "display_data"
    },
    {
     "data": {
      "application/javascript": [
       "console.log(\"[120227][INFO][openvisuspy.backend_cpp:74:createBoxQuery] begin timestep=2015 field=u logic_box=[[5454.377631316511, 4453.583850787057, 45], [6954.211115612074, 5388.612073487961, 46]] num_refinements=4 max_pixels=97984 endh=34\");\n"
      ],
      "text/plain": [
       "<IPython.core.display.Javascript object>"
      ]
     },
     "metadata": {},
     "output_type": "display_data"
    },
    {
     "data": {
      "application/javascript": [
       "console.log(\"[120227][INFO][openvisuspy.backend_cpp:109:createBoxQuery] Guess resolution endh=28 original_box=([5454, 4453, 45], [6955, 5389, 46]) aligned_box=([5452, 4452, 44], [6952, 5388, 45]) delta=[4, 4, 4] num_pixels=[375, 234, 1] tot_pixels=87,750 max_pixels=97,984 end=28\");\n"
      ],
      "text/plain": [
       "<IPython.core.display.Javascript object>"
      ]
     },
     "metadata": {},
     "output_type": "display_data"
    },
    {
     "data": {
      "application/javascript": [
       "console.log(\"[120227][INFO][openvisuspy.slice:209:pushJobIfNeeded] pushing new job\");\n"
      ],
      "text/plain": [
       "<IPython.core.display.Javascript object>"
      ]
     },
     "metadata": {},
     "output_type": "display_data"
    },
    {
     "data": {
      "application/javascript": [
       "console.log(\"[120227][INFO][openvisuspy.backend_cpp:138:beginBoxQuery] beginBoxQuery timestep=2015 field=u logic_box=[[5440, 4448, 32], [6944, 5376, 33]] end_resolutions=[19, 22, 25, 28]\");\n"
      ],
      "text/plain": [
       "<IPython.core.display.Javascript object>"
      ]
     },
     "metadata": {},
     "output_type": "display_data"
    },
    {
     "data": {
      "application/javascript": [
       "console.log(\"[120227][INFO][openvisuspy.backend_cpp:76:printStatistics] Stats::printStatistics enlapsed=0.017047405242919922 seconds\");\n"
      ],
      "text/plain": [
       "<IPython.core.display.Javascript object>"
      ]
     },
     "metadata": {},
     "output_type": "display_data"
    },
    {
     "data": {
      "application/javascript": [
       "console.log(\"[120227][INFO][openvisuspy.backend_cpp:74:createBoxQuery] begin timestep=2015 field=u logic_box=[[5461.265500360349, 4458.749752569935, 45], [6961.098984655911, 5393.777975270839, 46]] num_refinements=4 max_pixels=97984 endh=34\");\n"
      ],
      "text/plain": [
       "<IPython.core.display.Javascript object>"
      ]
     },
     "metadata": {},
     "output_type": "display_data"
    },
    {
     "data": {
      "application/javascript": [
       "console.log(\"[120227][INFO][openvisuspy.backend_cpp:109:createBoxQuery] Guess resolution endh=28 original_box=([5461, 4458, 45], [6962, 5394, 46]) aligned_box=([5460, 4456, 44], [6960, 5392, 45]) delta=[4, 4, 4] num_pixels=[375, 234, 1] tot_pixels=87,750 max_pixels=97,984 end=28\");\n"
      ],
      "text/plain": [
       "<IPython.core.display.Javascript object>"
      ]
     },
     "metadata": {},
     "output_type": "display_data"
    },
    {
     "data": {
      "application/javascript": [
       "console.log(\"[120227][INFO][openvisuspy.backend_cpp:138:beginBoxQuery] beginBoxQuery timestep=2015 field=u logic_box=[[5440, 4448, 32], [6944, 5376, 33]] end_resolutions=[19, 22, 25, 28]\");\n"
      ],
      "text/plain": [
       "<IPython.core.display.Javascript object>"
      ]
     },
     "metadata": {},
     "output_type": "display_data"
    },
    {
     "data": {
      "application/javascript": [
       "console.log(\"[120227][INFO][openvisuspy.slice:209:pushJobIfNeeded] pushing new job\");\n"
      ],
      "text/plain": [
       "<IPython.core.display.Javascript object>"
      ]
     },
     "metadata": {},
     "output_type": "display_data"
    },
    {
     "data": {
      "application/javascript": [
       "console.log(\"[120227][INFO][openvisuspy.backend_cpp:76:printStatistics] Stats::printStatistics enlapsed=0.028067827224731445 seconds\");\n"
      ],
      "text/plain": [
       "<IPython.core.display.Javascript object>"
      ]
     },
     "metadata": {},
     "output_type": "display_data"
    },
    {
     "data": {
      "application/javascript": [
       "console.log(\"[120227][INFO][openvisuspy.backend_cpp:74:createBoxQuery] begin timestep=2015 field=u logic_box=[[5461.265500360349, 4460.471719830894, 45], [6961.098984655911, 5395.499942531798, 46]] num_refinements=4 max_pixels=97984 endh=34\");\n"
      ],
      "text/plain": [
       "<IPython.core.display.Javascript object>"
      ]
     },
     "metadata": {},
     "output_type": "display_data"
    },
    {
     "data": {
      "application/javascript": [
       "console.log(\"[120227][INFO][openvisuspy.backend_cpp:109:createBoxQuery] Guess resolution endh=28 original_box=([5461, 4460, 45], [6962, 5396, 46]) aligned_box=([5460, 4460, 44], [6960, 5396, 45]) delta=[4, 4, 4] num_pixels=[375, 234, 1] tot_pixels=87,750 max_pixels=97,984 end=28\");\n"
      ],
      "text/plain": [
       "<IPython.core.display.Javascript object>"
      ]
     },
     "metadata": {},
     "output_type": "display_data"
    },
    {
     "data": {
      "application/javascript": [
       "console.log(\"[120227][INFO][openvisuspy.backend_cpp:138:beginBoxQuery] beginBoxQuery timestep=2015 field=u logic_box=[[5440, 4448, 32], [6944, 5376, 33]] end_resolutions=[19, 22, 25, 28]\");\n"
      ],
      "text/plain": [
       "<IPython.core.display.Javascript object>"
      ]
     },
     "metadata": {},
     "output_type": "display_data"
    },
    {
     "data": {
      "application/javascript": [
       "console.log(\"[120227][INFO][openvisuspy.backend_cpp:168:returnBoxQueryData] got data 0/[19, 22, 25, 28] timestep=2015 field=u H=19 data.shape=(29, 47) data.dtype=float32 logic_box=[[5440, 4448, 32], [6944, 5376, 33]] m=-0.24639426171779633 M=0.4029015302658081 ms=18\");\n"
      ],
      "text/plain": [
       "<IPython.core.display.Javascript object>"
      ]
     },
     "metadata": {},
     "output_type": "display_data"
    },
    {
     "data": {
      "application/javascript": [
       "console.log(\"[120227][INFO][openvisuspy.slice:190:renderResultIfNeeded] Slice[6]::rendering result data.shape=(29, 47) data.dtype=float32 logic_box=[[5440, 4448, 32], [6944, 5376, 33]]\");\n"
      ],
      "text/plain": [
       "<IPython.core.display.Javascript object>"
      ]
     },
     "metadata": {},
     "output_type": "display_data"
    },
    {
     "data": {
      "application/javascript": [
       "console.log(\"[120227][INFO][openvisuspy.backend_cpp:168:returnBoxQueryData] got data 1/[19, 22, 25, 28] timestep=2015 field=u H=22 data.shape=(58, 94) data.dtype=float32 logic_box=[[5440, 4448, 32], [6944, 5376, 33]] m=-0.27744027972221375 M=0.4029015302658081 ms=53\");\n"
      ],
      "text/plain": [
       "<IPython.core.display.Javascript object>"
      ]
     },
     "metadata": {},
     "output_type": "display_data"
    },
    {
     "data": {
      "application/javascript": [
       "console.log(\"[120227][INFO][openvisuspy.slice:190:renderResultIfNeeded] Slice[6]::rendering result data.shape=(58, 94) data.dtype=float32 logic_box=[[5440, 4448, 32], [6944, 5376, 33]]\");\n"
      ],
      "text/plain": [
       "<IPython.core.display.Javascript object>"
      ]
     },
     "metadata": {},
     "output_type": "display_data"
    },
    {
     "data": {
      "application/javascript": [
       "console.log(\"[120227][INFO][openvisuspy.backend_cpp:168:returnBoxQueryData] got data 2/[19, 22, 25, 28] timestep=2015 field=u H=25 data.shape=(116, 188) data.dtype=float32 logic_box=[[5440, 4448, 32], [6944, 5376, 33]] m=-0.47587257623672485 M=0.4029015302658081 ms=94\");\n"
      ],
      "text/plain": [
       "<IPython.core.display.Javascript object>"
      ]
     },
     "metadata": {},
     "output_type": "display_data"
    },
    {
     "data": {
      "application/javascript": [
       "console.log(\"[120227][INFO][openvisuspy.slice:190:renderResultIfNeeded] Slice[6]::rendering result data.shape=(116, 188) data.dtype=float32 logic_box=[[5440, 4448, 32], [6944, 5376, 33]]\");\n"
      ],
      "text/plain": [
       "<IPython.core.display.Javascript object>"
      ]
     },
     "metadata": {},
     "output_type": "display_data"
    },
    {
     "data": {
      "application/javascript": [
       "console.log(\"[120227][INFO][openvisuspy.slice:209:pushJobIfNeeded] pushing new job\");\n"
      ],
      "text/plain": [
       "<IPython.core.display.Javascript object>"
      ]
     },
     "metadata": {},
     "output_type": "display_data"
    },
    {
     "data": {
      "application/javascript": [
       "console.log(\"[120227][INFO][openvisuspy.backend_cpp:76:printStatistics] Stats::printStatistics enlapsed=0.7124953269958496 seconds\");\n"
      ],
      "text/plain": [
       "<IPython.core.display.Javascript object>"
      ]
     },
     "metadata": {},
     "output_type": "display_data"
    },
    {
     "data": {
      "application/javascript": [
       "console.log(\"[120227][INFO][openvisuspy.backend_cpp:74:createBoxQuery] begin timestep=2015 field=u logic_box=[[5461.265500360349, 4462.193687091853, 45], [6961.098984655911, 5397.221909792757, 46]] num_refinements=4 max_pixels=97984 endh=34\");\n"
      ],
      "text/plain": [
       "<IPython.core.display.Javascript object>"
      ]
     },
     "metadata": {},
     "output_type": "display_data"
    },
    {
     "data": {
      "application/javascript": [
       "console.log(\"[120227][INFO][openvisuspy.backend_cpp:109:createBoxQuery] Guess resolution endh=28 original_box=([5461, 4462, 45], [6962, 5398, 46]) aligned_box=([5460, 4460, 44], [6960, 5396, 45]) delta=[4, 4, 4] num_pixels=[375, 234, 1] tot_pixels=87,750 max_pixels=97,984 end=28\");\n"
      ],
      "text/plain": [
       "<IPython.core.display.Javascript object>"
      ]
     },
     "metadata": {},
     "output_type": "display_data"
    },
    {
     "data": {
      "application/javascript": [
       "console.log(\"[120227][INFO][openvisuspy.backend_cpp:138:beginBoxQuery] beginBoxQuery timestep=2015 field=u logic_box=[[5440, 4448, 32], [6944, 5376, 33]] end_resolutions=[19, 22, 25, 28]\");\n"
      ],
      "text/plain": [
       "<IPython.core.display.Javascript object>"
      ]
     },
     "metadata": {},
     "output_type": "display_data"
    },
    {
     "data": {
      "application/javascript": [
       "console.log(\"[120227][INFO][openvisuspy.slice:209:pushJobIfNeeded] pushing new job\");\n"
      ],
      "text/plain": [
       "<IPython.core.display.Javascript object>"
      ]
     },
     "metadata": {},
     "output_type": "display_data"
    },
    {
     "data": {
      "application/javascript": [
       "console.log(\"[120228][INFO][openvisuspy.backend_cpp:76:printStatistics] Stats::printStatistics enlapsed=0.03150439262390137 seconds\");\n"
      ],
      "text/plain": [
       "<IPython.core.display.Javascript object>"
      ]
     },
     "metadata": {},
     "output_type": "display_data"
    },
    {
     "data": {
      "application/javascript": [
       "console.log(\"[120228][INFO][openvisuspy.backend_cpp:74:createBoxQuery] begin timestep=2015 field=u logic_box=[[5464.709434882267, 4467.35958887473, 45], [6964.54291917783, 5402.387811575635, 46]] num_refinements=4 max_pixels=97984 endh=34\");\n"
      ],
      "text/plain": [
       "<IPython.core.display.Javascript object>"
      ]
     },
     "metadata": {},
     "output_type": "display_data"
    },
    {
     "data": {
      "application/javascript": [
       "console.log(\"[120228][INFO][openvisuspy.backend_cpp:109:createBoxQuery] Guess resolution endh=28 original_box=([5464, 4467, 45], [6965, 5403, 46]) aligned_box=([5464, 4464, 44], [6964, 5400, 45]) delta=[4, 4, 4] num_pixels=[375, 234, 1] tot_pixels=87,750 max_pixels=97,984 end=28\");\n"
      ],
      "text/plain": [
       "<IPython.core.display.Javascript object>"
      ]
     },
     "metadata": {},
     "output_type": "display_data"
    },
    {
     "data": {
      "application/javascript": [
       "console.log(\"[120228][INFO][openvisuspy.backend_cpp:138:beginBoxQuery] beginBoxQuery timestep=2015 field=u logic_box=[[5440, 4448, 32], [6944, 5376, 33]] end_resolutions=[19, 22, 25, 28]\");\n"
      ],
      "text/plain": [
       "<IPython.core.display.Javascript object>"
      ]
     },
     "metadata": {},
     "output_type": "display_data"
    },
    {
     "data": {
      "application/javascript": [
       "console.log(\"[120228][INFO][openvisuspy.slice:209:pushJobIfNeeded] pushing new job\");\n"
      ],
      "text/plain": [
       "<IPython.core.display.Javascript object>"
      ]
     },
     "metadata": {},
     "output_type": "display_data"
    },
    {
     "data": {
      "application/javascript": [
       "console.log(\"[120228][INFO][openvisuspy.backend_cpp:76:printStatistics] Stats::printStatistics enlapsed=0.034002065658569336 seconds\");\n"
      ],
      "text/plain": [
       "<IPython.core.display.Javascript object>"
      ]
     },
     "metadata": {},
     "output_type": "display_data"
    },
    {
     "data": {
      "application/javascript": [
       "console.log(\"[120228][INFO][openvisuspy.backend_cpp:74:createBoxQuery] begin timestep=2015 field=u logic_box=[[5468.153369404185, 4470.803523396649, 45], [6967.986853699748, 5405.831746097554, 46]] num_refinements=4 max_pixels=97984 endh=34\");\n"
      ],
      "text/plain": [
       "<IPython.core.display.Javascript object>"
      ]
     },
     "metadata": {},
     "output_type": "display_data"
    },
    {
     "data": {
      "application/javascript": [
       "console.log(\"[120228][INFO][openvisuspy.slice:209:pushJobIfNeeded] pushing new job\");\n"
      ],
      "text/plain": [
       "<IPython.core.display.Javascript object>"
      ]
     },
     "metadata": {},
     "output_type": "display_data"
    },
    {
     "data": {
      "application/javascript": [
       "console.log(\"[120228][INFO][openvisuspy.backend_cpp:109:createBoxQuery] Guess resolution endh=28 original_box=([5468, 4470, 45], [6968, 5406, 46]) aligned_box=([5468, 4468, 44], [6968, 5404, 45]) delta=[4, 4, 4] num_pixels=[375, 234, 1] tot_pixels=87,750 max_pixels=97,984 end=28\");\n"
      ],
      "text/plain": [
       "<IPython.core.display.Javascript object>"
      ]
     },
     "metadata": {},
     "output_type": "display_data"
    },
    {
     "data": {
      "application/javascript": [
       "console.log(\"[120228][INFO][openvisuspy.backend_cpp:138:beginBoxQuery] beginBoxQuery timestep=2015 field=u logic_box=[[5440, 4448, 32], [6944, 5376, 33]] end_resolutions=[19, 22, 25, 28]\");\n"
      ],
      "text/plain": [
       "<IPython.core.display.Javascript object>"
      ]
     },
     "metadata": {},
     "output_type": "display_data"
    },
    {
     "data": {
      "application/javascript": [
       "console.log(\"[120228][INFO][openvisuspy.backend_cpp:76:printStatistics] Stats::printStatistics enlapsed=0.0240018367767334 seconds\");\n"
      ],
      "text/plain": [
       "<IPython.core.display.Javascript object>"
      ]
     },
     "metadata": {},
     "output_type": "display_data"
    },
    {
     "data": {
      "application/javascript": [
       "console.log(\"[120228][INFO][openvisuspy.slice:209:pushJobIfNeeded] pushing new job\");\n"
      ],
      "text/plain": [
       "<IPython.core.display.Javascript object>"
      ]
     },
     "metadata": {},
     "output_type": "display_data"
    },
    {
     "data": {
      "application/javascript": [
       "console.log(\"[120228][INFO][openvisuspy.backend_cpp:74:createBoxQuery] begin timestep=2015 field=u logic_box=[[5473.319271187062, 4479.413359701446, 45], [6973.152755482626, 5414.441582402351, 46]] num_refinements=4 max_pixels=97984 endh=34\");\n"
      ],
      "text/plain": [
       "<IPython.core.display.Javascript object>"
      ]
     },
     "metadata": {},
     "output_type": "display_data"
    },
    {
     "data": {
      "application/javascript": [
       "console.log(\"[120228][INFO][openvisuspy.backend_cpp:109:createBoxQuery] Guess resolution endh=28 original_box=([5473, 4479, 45], [6974, 5415, 46]) aligned_box=([5472, 4476, 44], [6972, 5412, 45]) delta=[4, 4, 4] num_pixels=[375, 234, 1] tot_pixels=87,750 max_pixels=97,984 end=28\");\n"
      ],
      "text/plain": [
       "<IPython.core.display.Javascript object>"
      ]
     },
     "metadata": {},
     "output_type": "display_data"
    },
    {
     "data": {
      "application/javascript": [
       "console.log(\"[120228][INFO][openvisuspy.backend_cpp:138:beginBoxQuery] beginBoxQuery timestep=2015 field=u logic_box=[[5472, 4448, 32], [6944, 5408, 33]] end_resolutions=[19, 22, 25, 28]\");\n"
      ],
      "text/plain": [
       "<IPython.core.display.Javascript object>"
      ]
     },
     "metadata": {},
     "output_type": "display_data"
    },
    {
     "data": {
      "application/javascript": [
       "console.log(\"[120228][INFO][openvisuspy.backend_cpp:76:printStatistics] Stats::printStatistics enlapsed=0.01600050926208496 seconds\");\n"
      ],
      "text/plain": [
       "<IPython.core.display.Javascript object>"
      ]
     },
     "metadata": {},
     "output_type": "display_data"
    },
    {
     "data": {
      "application/javascript": [
       "console.log(\"[120228][INFO][openvisuspy.backend_cpp:74:createBoxQuery] begin timestep=2015 field=u logic_box=[[5476.763205708981, 4479.413359701446, 45], [6976.596690004545, 5414.441582402351, 46]] num_refinements=4 max_pixels=97984 endh=34\");\n"
      ],
      "text/plain": [
       "<IPython.core.display.Javascript object>"
      ]
     },
     "metadata": {},
     "output_type": "display_data"
    },
    {
     "data": {
      "application/javascript": [
       "console.log(\"[120228][INFO][openvisuspy.slice:209:pushJobIfNeeded] pushing new job\");\n"
      ],
      "text/plain": [
       "<IPython.core.display.Javascript object>"
      ]
     },
     "metadata": {},
     "output_type": "display_data"
    },
    {
     "data": {
      "application/javascript": [
       "console.log(\"[120228][INFO][openvisuspy.backend_cpp:109:createBoxQuery] Guess resolution endh=28 original_box=([5476, 4479, 45], [6977, 5415, 46]) aligned_box=([5476, 4476, 44], [6976, 5412, 45]) delta=[4, 4, 4] num_pixels=[375, 234, 1] tot_pixels=87,750 max_pixels=97,984 end=28\");\n"
      ],
      "text/plain": [
       "<IPython.core.display.Javascript object>"
      ]
     },
     "metadata": {},
     "output_type": "display_data"
    },
    {
     "data": {
      "application/javascript": [
       "console.log(\"[120228][INFO][openvisuspy.backend_cpp:138:beginBoxQuery] beginBoxQuery timestep=2015 field=u logic_box=[[5472, 4448, 32], [6976, 5408, 33]] end_resolutions=[19, 22, 25, 28]\");\n"
      ],
      "text/plain": [
       "<IPython.core.display.Javascript object>"
      ]
     },
     "metadata": {},
     "output_type": "display_data"
    },
    {
     "data": {
      "application/javascript": [
       "console.log(\"[120228][INFO][openvisuspy.backend_cpp:76:printStatistics] Stats::printStatistics enlapsed=0.01800394058227539 seconds\");\n"
      ],
      "text/plain": [
       "<IPython.core.display.Javascript object>"
      ]
     },
     "metadata": {},
     "output_type": "display_data"
    },
    {
     "data": {
      "application/javascript": [
       "console.log(\"[120228][INFO][openvisuspy.backend_cpp:74:createBoxQuery] begin timestep=2015 field=u logic_box=[[5483.651074752819, 4486.301228745283, 45], [6983.484559048383, 5421.329451446188, 46]] num_refinements=4 max_pixels=97984 endh=34\");\n"
      ],
      "text/plain": [
       "<IPython.core.display.Javascript object>"
      ]
     },
     "metadata": {},
     "output_type": "display_data"
    },
    {
     "data": {
      "application/javascript": [
       "console.log(\"[120228][INFO][openvisuspy.backend_cpp:109:createBoxQuery] Guess resolution endh=28 original_box=([5483, 4486, 45], [6984, 5422, 46]) aligned_box=([5480, 4484, 44], [6984, 5420, 45]) delta=[4, 4, 4] num_pixels=[376, 234, 1] tot_pixels=87,984 max_pixels=97,984 end=28\");\n"
      ],
      "text/plain": [
       "<IPython.core.display.Javascript object>"
      ]
     },
     "metadata": {},
     "output_type": "display_data"
    },
    {
     "data": {
      "application/javascript": [
       "console.log(\"[120228][INFO][openvisuspy.slice:209:pushJobIfNeeded] pushing new job\");\n"
      ],
      "text/plain": [
       "<IPython.core.display.Javascript object>"
      ]
     },
     "metadata": {},
     "output_type": "display_data"
    },
    {
     "data": {
      "application/javascript": [
       "console.log(\"[120228][INFO][openvisuspy.backend_cpp:138:beginBoxQuery] beginBoxQuery timestep=2015 field=u logic_box=[[5472, 4480, 32], [6976, 5408, 33]] end_resolutions=[19, 22, 25, 28]\");\n"
      ],
      "text/plain": [
       "<IPython.core.display.Javascript object>"
      ]
     },
     "metadata": {},
     "output_type": "display_data"
    },
    {
     "data": {
      "application/javascript": [
       "console.log(\"[120228][INFO][openvisuspy.backend_cpp:76:printStatistics] Stats::printStatistics enlapsed=0.021001815795898438 seconds\");\n"
      ],
      "text/plain": [
       "<IPython.core.display.Javascript object>"
      ]
     },
     "metadata": {},
     "output_type": "display_data"
    },
    {
     "data": {
      "application/javascript": [
       "console.log(\"[120228][INFO][openvisuspy.backend_cpp:74:createBoxQuery] begin timestep=2015 field=u logic_box=[[5492.260911057616, 4501.798934093917, 45], [6992.09439535318, 5436.827156794821, 46]] num_refinements=4 max_pixels=97984 endh=34\");\n"
      ],
      "text/plain": [
       "<IPython.core.display.Javascript object>"
      ]
     },
     "metadata": {},
     "output_type": "display_data"
    },
    {
     "data": {
      "application/javascript": [
       "console.log(\"[120228][INFO][openvisuspy.backend_cpp:109:createBoxQuery] Guess resolution endh=28 original_box=([5492, 4501, 45], [6993, 5437, 46]) aligned_box=([5492, 4500, 44], [6992, 5436, 45]) delta=[4, 4, 4] num_pixels=[375, 234, 1] tot_pixels=87,750 max_pixels=97,984 end=28\");\n"
      ],
      "text/plain": [
       "<IPython.core.display.Javascript object>"
      ]
     },
     "metadata": {},
     "output_type": "display_data"
    },
    {
     "data": {
      "application/javascript": [
       "console.log(\"[120228][INFO][openvisuspy.backend_cpp:138:beginBoxQuery] beginBoxQuery timestep=2015 field=u logic_box=[[5472, 4480, 32], [6976, 5408, 33]] end_resolutions=[19, 22, 25, 28]\");\n"
      ],
      "text/plain": [
       "<IPython.core.display.Javascript object>"
      ]
     },
     "metadata": {},
     "output_type": "display_data"
    },
    {
     "data": {
      "application/javascript": [
       "console.log(\"[120228][INFO][openvisuspy.backend_cpp:168:returnBoxQueryData] got data 0/[19, 22, 25, 28] timestep=2015 field=u H=19 data.shape=(29, 47) data.dtype=float32 logic_box=[[5472, 4480, 32], [6976, 5408, 33]] m=-0.24639426171779633 M=0.4029015302658081 ms=21\");\n"
      ],
      "text/plain": [
       "<IPython.core.display.Javascript object>"
      ]
     },
     "metadata": {},
     "output_type": "display_data"
    },
    {
     "data": {
      "application/javascript": [
       "console.log(\"[120228][INFO][openvisuspy.slice:190:renderResultIfNeeded] Slice[6]::rendering result data.shape=(29, 47) data.dtype=float32 logic_box=[[5472, 4480, 32], [6976, 5408, 33]]\");\n"
      ],
      "text/plain": [
       "<IPython.core.display.Javascript object>"
      ]
     },
     "metadata": {},
     "output_type": "display_data"
    },
    {
     "data": {
      "application/javascript": [
       "console.log(\"[120228][INFO][openvisuspy.slice:209:pushJobIfNeeded] pushing new job\");\n"
      ],
      "text/plain": [
       "<IPython.core.display.Javascript object>"
      ]
     },
     "metadata": {},
     "output_type": "display_data"
    },
    {
     "data": {
      "application/javascript": [
       "console.log(\"[120228][INFO][openvisuspy.backend_cpp:76:printStatistics] Stats::printStatistics enlapsed=0.0630500316619873 seconds\");\n"
      ],
      "text/plain": [
       "<IPython.core.display.Javascript object>"
      ]
     },
     "metadata": {},
     "output_type": "display_data"
    },
    {
     "data": {
      "application/javascript": [
       "console.log(\"[120228][INFO][openvisuspy.backend_cpp:74:createBoxQuery] begin timestep=2015 field=u logic_box=[[5493.982878318576, 4503.5209013548765, 45], [6993.8163626141395, 5438.549124055781, 46]] num_refinements=4 max_pixels=97984 endh=34\");\n"
      ],
      "text/plain": [
       "<IPython.core.display.Javascript object>"
      ]
     },
     "metadata": {},
     "output_type": "display_data"
    },
    {
     "data": {
      "application/javascript": [
       "console.log(\"[120228][INFO][openvisuspy.backend_cpp:109:createBoxQuery] Guess resolution endh=28 original_box=([5493, 4503, 45], [6994, 5439, 46]) aligned_box=([5492, 4500, 44], [6992, 5436, 45]) delta=[4, 4, 4] num_pixels=[375, 234, 1] tot_pixels=87,750 max_pixels=97,984 end=28\");\n"
      ],
      "text/plain": [
       "<IPython.core.display.Javascript object>"
      ]
     },
     "metadata": {},
     "output_type": "display_data"
    },
    {
     "data": {
      "application/javascript": [
       "console.log(\"[120228][INFO][openvisuspy.backend_cpp:138:beginBoxQuery] beginBoxQuery timestep=2015 field=u logic_box=[[5472, 4480, 32], [6976, 5408, 33]] end_resolutions=[19, 22, 25, 28]\");\n"
      ],
      "text/plain": [
       "<IPython.core.display.Javascript object>"
      ]
     },
     "metadata": {},
     "output_type": "display_data"
    },
    {
     "data": {
      "application/javascript": [
       "console.log(\"[120228][INFO][openvisuspy.backend_cpp:168:returnBoxQueryData] got data 0/[19, 22, 25, 28] timestep=2015 field=u H=19 data.shape=(29, 47) data.dtype=float32 logic_box=[[5472, 4480, 32], [6976, 5408, 33]] m=-0.24639426171779633 M=0.4029015302658081 ms=19\");\n"
      ],
      "text/plain": [
       "<IPython.core.display.Javascript object>"
      ]
     },
     "metadata": {},
     "output_type": "display_data"
    },
    {
     "data": {
      "application/javascript": [
       "console.log(\"[120228][INFO][openvisuspy.slice:190:renderResultIfNeeded] Slice[6]::rendering result data.shape=(29, 47) data.dtype=float32 logic_box=[[5472, 4480, 32], [6976, 5408, 33]]\");\n"
      ],
      "text/plain": [
       "<IPython.core.display.Javascript object>"
      ]
     },
     "metadata": {},
     "output_type": "display_data"
    },
    {
     "data": {
      "application/javascript": [
       "console.log(\"[120228][INFO][openvisuspy.backend_cpp:168:returnBoxQueryData] got data 1/[19, 22, 25, 28] timestep=2015 field=u H=22 data.shape=(58, 94) data.dtype=float32 logic_box=[[5472, 4480, 32], [6976, 5408, 33]] m=-0.2741498351097107 M=0.4029015302658081 ms=59\");\n"
      ],
      "text/plain": [
       "<IPython.core.display.Javascript object>"
      ]
     },
     "metadata": {},
     "output_type": "display_data"
    },
    {
     "data": {
      "application/javascript": [
       "console.log(\"[120228][INFO][openvisuspy.slice:190:renderResultIfNeeded] Slice[6]::rendering result data.shape=(58, 94) data.dtype=float32 logic_box=[[5472, 4480, 32], [6976, 5408, 33]]\");\n"
      ],
      "text/plain": [
       "<IPython.core.display.Javascript object>"
      ]
     },
     "metadata": {},
     "output_type": "display_data"
    },
    {
     "data": {
      "application/javascript": [
       "console.log(\"[120228][INFO][openvisuspy.backend_cpp:168:returnBoxQueryData] got data 2/[19, 22, 25, 28] timestep=2015 field=u H=25 data.shape=(116, 188) data.dtype=float32 logic_box=[[5472, 4480, 32], [6976, 5408, 33]] m=-0.47587257623672485 M=0.4029015302658081 ms=97\");\n"
      ],
      "text/plain": [
       "<IPython.core.display.Javascript object>"
      ]
     },
     "metadata": {},
     "output_type": "display_data"
    },
    {
     "data": {
      "application/javascript": [
       "console.log(\"[120228][INFO][openvisuspy.slice:190:renderResultIfNeeded] Slice[6]::rendering result data.shape=(116, 188) data.dtype=float32 logic_box=[[5472, 4480, 32], [6976, 5408, 33]]\");\n"
      ],
      "text/plain": [
       "<IPython.core.display.Javascript object>"
      ]
     },
     "metadata": {},
     "output_type": "display_data"
    },
    {
     "data": {
      "application/javascript": [
       "console.log(\"[120228][INFO][openvisuspy.slice:209:pushJobIfNeeded] pushing new job\");\n"
      ],
      "text/plain": [
       "<IPython.core.display.Javascript object>"
      ]
     },
     "metadata": {},
     "output_type": "display_data"
    },
    {
     "data": {
      "application/javascript": [
       "console.log(\"[120228][INFO][openvisuspy.backend_cpp:76:printStatistics] Stats::printStatistics enlapsed=0.13254261016845703 seconds\");\n"
      ],
      "text/plain": [
       "<IPython.core.display.Javascript object>"
      ]
     },
     "metadata": {},
     "output_type": "display_data"
    },
    {
     "data": {
      "application/javascript": [
       "console.log(\"[120228][INFO][openvisuspy.backend_cpp:74:createBoxQuery] begin timestep=2015 field=u logic_box=[[5495.704845579536, 4505.2428686158355, 45], [6995.538329875099, 5440.27109131674, 46]] num_refinements=4 max_pixels=97984 endh=34\");\n"
      ],
      "text/plain": [
       "<IPython.core.display.Javascript object>"
      ]
     },
     "metadata": {},
     "output_type": "display_data"
    },
    {
     "data": {
      "application/javascript": [
       "console.log(\"[120228][INFO][openvisuspy.backend_cpp:109:createBoxQuery] Guess resolution endh=28 original_box=([5495, 4505, 45], [6996, 5441, 46]) aligned_box=([5492, 4504, 44], [6996, 5440, 45]) delta=[4, 4, 4] num_pixels=[376, 234, 1] tot_pixels=87,984 max_pixels=97,984 end=28\");\n"
      ],
      "text/plain": [
       "<IPython.core.display.Javascript object>"
      ]
     },
     "metadata": {},
     "output_type": "display_data"
    },
    {
     "data": {
      "application/javascript": [
       "console.log(\"[120228][INFO][openvisuspy.backend_cpp:138:beginBoxQuery] beginBoxQuery timestep=2015 field=u logic_box=[[5472, 4480, 32], [6976, 5440, 33]] end_resolutions=[19, 22, 25, 28]\");\n"
      ],
      "text/plain": [
       "<IPython.core.display.Javascript object>"
      ]
     },
     "metadata": {},
     "output_type": "display_data"
    },
    {
     "data": {
      "application/javascript": [
       "console.log(\"[120228][INFO][openvisuspy.backend_cpp:168:returnBoxQueryData] got data 0/[19, 22, 25, 28] timestep=2015 field=u H=19 data.shape=(30, 47) data.dtype=float32 logic_box=[[5472, 4480, 32], [6976, 5440, 33]] m=-0.24639426171779633 M=0.4029015302658081 ms=19\");\n"
      ],
      "text/plain": [
       "<IPython.core.display.Javascript object>"
      ]
     },
     "metadata": {},
     "output_type": "display_data"
    },
    {
     "data": {
      "application/javascript": [
       "console.log(\"[120228][INFO][openvisuspy.slice:190:renderResultIfNeeded] Slice[6]::rendering result data.shape=(30, 47) data.dtype=float32 logic_box=[[5472, 4480, 32], [6976, 5440, 33]]\");\n"
      ],
      "text/plain": [
       "<IPython.core.display.Javascript object>"
      ]
     },
     "metadata": {},
     "output_type": "display_data"
    },
    {
     "data": {
      "application/javascript": [
       "console.log(\"[120228][INFO][openvisuspy.backend_cpp:168:returnBoxQueryData] got data 1/[19, 22, 25, 28] timestep=2015 field=u H=22 data.shape=(60, 94) data.dtype=float32 logic_box=[[5472, 4480, 32], [6976, 5440, 33]] m=-0.2741498351097107 M=0.4029015302658081 ms=53\");\n"
      ],
      "text/plain": [
       "<IPython.core.display.Javascript object>"
      ]
     },
     "metadata": {},
     "output_type": "display_data"
    },
    {
     "data": {
      "application/javascript": [
       "console.log(\"[120228][INFO][openvisuspy.slice:190:renderResultIfNeeded] Slice[6]::rendering result data.shape=(60, 94) data.dtype=float32 logic_box=[[5472, 4480, 32], [6976, 5440, 33]]\");\n"
      ],
      "text/plain": [
       "<IPython.core.display.Javascript object>"
      ]
     },
     "metadata": {},
     "output_type": "display_data"
    },
    {
     "data": {
      "application/javascript": [
       "console.log(\"[120228][INFO][openvisuspy.backend_cpp:168:returnBoxQueryData] got data 2/[19, 22, 25, 28] timestep=2015 field=u H=25 data.shape=(120, 188) data.dtype=float32 logic_box=[[5472, 4480, 32], [6976, 5440, 33]] m=-0.47587257623672485 M=0.4029015302658081 ms=92\");\n"
      ],
      "text/plain": [
       "<IPython.core.display.Javascript object>"
      ]
     },
     "metadata": {},
     "output_type": "display_data"
    },
    {
     "data": {
      "application/javascript": [
       "console.log(\"[120228][INFO][openvisuspy.slice:190:renderResultIfNeeded] Slice[6]::rendering result data.shape=(120, 188) data.dtype=float32 logic_box=[[5472, 4480, 32], [6976, 5440, 33]]\");\n"
      ],
      "text/plain": [
       "<IPython.core.display.Javascript object>"
      ]
     },
     "metadata": {},
     "output_type": "display_data"
    },
    {
     "data": {
      "application/javascript": [
       "console.log(\"[120229][INFO][openvisuspy.slice:209:pushJobIfNeeded] pushing new job\");\n"
      ],
      "text/plain": [
       "<IPython.core.display.Javascript object>"
      ]
     },
     "metadata": {},
     "output_type": "display_data"
    },
    {
     "data": {
      "application/javascript": [
       "console.log(\"[120229][INFO][openvisuspy.backend_cpp:76:printStatistics] Stats::printStatistics enlapsed=0.9943943023681641 seconds\");\n"
      ],
      "text/plain": [
       "<IPython.core.display.Javascript object>"
      ]
     },
     "metadata": {},
     "output_type": "display_data"
    },
    {
     "data": {
      "application/javascript": [
       "console.log(\"[120229][INFO][openvisuspy.backend_cpp:74:createBoxQuery] begin timestep=2015 field=u logic_box=[[5670.9060458026615, 4565.381678346891, 45], [6920.767282715631, 5344.571863930978, 46]] num_refinements=4 max_pixels=97984 endh=34\");\n"
      ],
      "text/plain": [
       "<IPython.core.display.Javascript object>"
      ]
     },
     "metadata": {},
     "output_type": "display_data"
    },
    {
     "data": {
      "application/javascript": [
       "console.log(\"[120229][INFO][openvisuspy.backend_cpp:109:createBoxQuery] Guess resolution endh=28 original_box=([5670, 4565, 45], [6921, 5345, 46]) aligned_box=([5668, 4564, 44], [6920, 5344, 45]) delta=[4, 4, 4] num_pixels=[313, 195, 1] tot_pixels=61,035 max_pixels=97,984 end=28\");\n"
      ],
      "text/plain": [
       "<IPython.core.display.Javascript object>"
      ]
     },
     "metadata": {},
     "output_type": "display_data"
    },
    {
     "data": {
      "application/javascript": [
       "console.log(\"[120229][INFO][openvisuspy.backend_cpp:138:beginBoxQuery] beginBoxQuery timestep=2015 field=u logic_box=[[5664, 4544, 32], [6912, 5344, 33]] end_resolutions=[19, 22, 25, 28]\");\n"
      ],
      "text/plain": [
       "<IPython.core.display.Javascript object>"
      ]
     },
     "metadata": {},
     "output_type": "display_data"
    },
    {
     "data": {
      "application/javascript": [
       "console.log(\"[120229][INFO][openvisuspy.backend_cpp:168:returnBoxQueryData] got data 0/[19, 22, 25, 28] timestep=2015 field=u H=19 data.shape=(25, 39) data.dtype=float32 logic_box=[[5664, 4544, 32], [6912, 5344, 33]] m=-0.24639426171779633 M=0.27831825613975525 ms=20\");\n"
      ],
      "text/plain": [
       "<IPython.core.display.Javascript object>"
      ]
     },
     "metadata": {},
     "output_type": "display_data"
    },
    {
     "data": {
      "application/javascript": [
       "console.log(\"[120229][INFO][openvisuspy.slice:190:renderResultIfNeeded] Slice[6]::rendering result data.shape=(25, 39) data.dtype=float32 logic_box=[[5664, 4544, 32], [6912, 5344, 33]]\");\n"
      ],
      "text/plain": [
       "<IPython.core.display.Javascript object>"
      ]
     },
     "metadata": {},
     "output_type": "display_data"
    },
    {
     "data": {
      "application/javascript": [
       "console.log(\"[120229][INFO][openvisuspy.backend_cpp:168:returnBoxQueryData] got data 1/[19, 22, 25, 28] timestep=2015 field=u H=22 data.shape=(50, 78) data.dtype=float32 logic_box=[[5664, 4544, 32], [6912, 5344, 33]] m=-0.2711183428764343 M=0.27831825613975525 ms=54\");\n"
      ],
      "text/plain": [
       "<IPython.core.display.Javascript object>"
      ]
     },
     "metadata": {},
     "output_type": "display_data"
    },
    {
     "data": {
      "application/javascript": [
       "console.log(\"[120229][INFO][openvisuspy.slice:190:renderResultIfNeeded] Slice[6]::rendering result data.shape=(50, 78) data.dtype=float32 logic_box=[[5664, 4544, 32], [6912, 5344, 33]]\");\n"
      ],
      "text/plain": [
       "<IPython.core.display.Javascript object>"
      ]
     },
     "metadata": {},
     "output_type": "display_data"
    },
    {
     "data": {
      "application/javascript": [
       "console.log(\"[120229][INFO][openvisuspy.backend_cpp:168:returnBoxQueryData] got data 2/[19, 22, 25, 28] timestep=2015 field=u H=25 data.shape=(100, 156) data.dtype=float32 logic_box=[[5664, 4544, 32], [6912, 5344, 33]] m=-0.47587257623672485 M=0.3163203001022339 ms=93\");\n"
      ],
      "text/plain": [
       "<IPython.core.display.Javascript object>"
      ]
     },
     "metadata": {},
     "output_type": "display_data"
    },
    {
     "data": {
      "application/javascript": [
       "console.log(\"[120229][INFO][openvisuspy.slice:190:renderResultIfNeeded] Slice[6]::rendering result data.shape=(100, 156) data.dtype=float32 logic_box=[[5664, 4544, 32], [6912, 5344, 33]]\");\n"
      ],
      "text/plain": [
       "<IPython.core.display.Javascript object>"
      ]
     },
     "metadata": {},
     "output_type": "display_data"
    },
    {
     "data": {
      "application/javascript": [
       "console.log(\"[120229][INFO][openvisuspy.slice:209:pushJobIfNeeded] pushing new job\");\n"
      ],
      "text/plain": [
       "<IPython.core.display.Javascript object>"
      ]
     },
     "metadata": {},
     "output_type": "display_data"
    },
    {
     "data": {
      "application/javascript": [
       "console.log(\"[120229][INFO][openvisuspy.backend_cpp:76:printStatistics] Stats::printStatistics enlapsed=0.6049211025238037 seconds\");\n"
      ],
      "text/plain": [
       "<IPython.core.display.Javascript object>"
      ]
     },
     "metadata": {},
     "output_type": "display_data"
    },
    {
     "data": {
      "application/javascript": [
       "console.log(\"[120229][INFO][openvisuspy.backend_cpp:139:_threadLoop] _threadLoop is Alive\");\n"
      ],
      "text/plain": [
       "<IPython.core.display.Javascript object>"
      ]
     },
     "metadata": {},
     "output_type": "display_data"
    },
    {
     "data": {
      "application/javascript": [
       "console.log(\"[120229][INFO][openvisuspy.backend_cpp:74:createBoxQuery] begin timestep=2015 field=u logic_box=[[5816.9070459886, 4615.497353122771, 45], [6858.458076749407, 5264.822507776176, 46]] num_refinements=4 max_pixels=97984 endh=34\");\n"
      ],
      "text/plain": [
       "<IPython.core.display.Javascript object>"
      ]
     },
     "metadata": {},
     "output_type": "display_data"
    },
    {
     "data": {
      "application/javascript": [
       "console.log(\"[120229][INFO][openvisuspy.backend_cpp:109:createBoxQuery] Guess resolution endh=29 original_box=([5816, 4615, 45], [6859, 5265, 46]) aligned_box=([5816, 4612, 44], [6858, 5264, 45]) delta=[2, 4, 4] num_pixels=[521, 163, 1] tot_pixels=84,923 max_pixels=97,984 end=29\");\n"
      ],
      "text/plain": [
       "<IPython.core.display.Javascript object>"
      ]
     },
     "metadata": {},
     "output_type": "display_data"
    },
    {
     "data": {
      "application/javascript": [
       "console.log(\"[120229][INFO][openvisuspy.backend_cpp:138:beginBoxQuery] beginBoxQuery timestep=2015 field=u logic_box=[[5808, 4608, 32], [6848, 5248, 33]] end_resolutions=[20, 23, 26, 29]\");\n"
      ],
      "text/plain": [
       "<IPython.core.display.Javascript object>"
      ]
     },
     "metadata": {},
     "output_type": "display_data"
    },
    {
     "data": {
      "application/javascript": [
       "console.log(\"[120230][INFO][openvisuspy.backend_cpp:168:returnBoxQueryData] got data 0/[20, 23, 26, 29] timestep=2015 field=u H=20 data.shape=(20, 65) data.dtype=float32 logic_box=[[5808, 4608, 32], [6848, 5248, 33]] m=-0.2235686480998993 M=0.209219828248024 ms=23\");\n"
      ],
      "text/plain": [
       "<IPython.core.display.Javascript object>"
      ]
     },
     "metadata": {},
     "output_type": "display_data"
    },
    {
     "data": {
      "application/javascript": [
       "console.log(\"[120230][INFO][openvisuspy.slice:190:renderResultIfNeeded] Slice[6]::rendering result data.shape=(20, 65) data.dtype=float32 logic_box=[[5808, 4608, 32], [6848, 5248, 33]]\");\n"
      ],
      "text/plain": [
       "<IPython.core.display.Javascript object>"
      ]
     },
     "metadata": {},
     "output_type": "display_data"
    },
    {
     "data": {
      "application/javascript": [
       "console.log(\"[120230][INFO][openvisuspy.slice:209:pushJobIfNeeded] pushing new job\");\n"
      ],
      "text/plain": [
       "<IPython.core.display.Javascript object>"
      ]
     },
     "metadata": {},
     "output_type": "display_data"
    },
    {
     "data": {
      "application/javascript": [
       "console.log(\"[120230][INFO][openvisuspy.backend_cpp:76:printStatistics] Stats::printStatistics enlapsed=0.050917625427246094 seconds\");\n"
      ],
      "text/plain": [
       "<IPython.core.display.Javascript object>"
      ]
     },
     "metadata": {},
     "output_type": "display_data"
    },
    {
     "data": {
      "application/javascript": [
       "console.log(\"[120230][INFO][openvisuspy.backend_cpp:74:createBoxQuery] begin timestep=2015 field=u logic_box=[[5938.574546143549, 4657.260415436003, 45], [6806.533738444222, 5198.364710980509, 46]] num_refinements=4 max_pixels=97984 endh=34\");\n"
      ],
      "text/plain": [
       "<IPython.core.display.Javascript object>"
      ]
     },
     "metadata": {},
     "output_type": "display_data"
    },
    {
     "data": {
      "application/javascript": [
       "console.log(\"[120230][INFO][openvisuspy.backend_cpp:109:createBoxQuery] Guess resolution endh=29 original_box=([5938, 4657, 45], [6807, 5199, 46]) aligned_box=([5938, 4656, 44], [6806, 5196, 45]) delta=[2, 4, 4] num_pixels=[434, 135, 1] tot_pixels=58,590 max_pixels=97,984 end=29\");\n"
      ],
      "text/plain": [
       "<IPython.core.display.Javascript object>"
      ]
     },
     "metadata": {},
     "output_type": "display_data"
    },
    {
     "data": {
      "application/javascript": [
       "console.log(\"[120230][INFO][openvisuspy.backend_cpp:138:beginBoxQuery] beginBoxQuery timestep=2015 field=u logic_box=[[5936, 4640, 32], [6800, 5184, 33]] end_resolutions=[20, 23, 26, 29]\");\n"
      ],
      "text/plain": [
       "<IPython.core.display.Javascript object>"
      ]
     },
     "metadata": {},
     "output_type": "display_data"
    },
    {
     "data": {
      "application/javascript": [
       "console.log(\"[120230][INFO][openvisuspy.backend_cpp:168:returnBoxQueryData] got data 0/[20, 23, 26, 29] timestep=2015 field=u H=20 data.shape=(17, 54) data.dtype=float32 logic_box=[[5936, 4640, 32], [6800, 5184, 33]] m=-0.2235686480998993 M=0.209219828248024 ms=22\");\n"
      ],
      "text/plain": [
       "<IPython.core.display.Javascript object>"
      ]
     },
     "metadata": {},
     "output_type": "display_data"
    },
    {
     "data": {
      "application/javascript": [
       "console.log(\"[120230][INFO][openvisuspy.backend_cpp:168:returnBoxQueryData] got data 1/[20, 23, 26, 29] timestep=2015 field=u H=23 data.shape=(34, 108) data.dtype=float32 logic_box=[[5936, 4640, 32], [6800, 5184, 33]] m=-0.23167134821414948 M=0.209219828248024 ms=58\");\n"
      ],
      "text/plain": [
       "<IPython.core.display.Javascript object>"
      ]
     },
     "metadata": {},
     "output_type": "display_data"
    },
    {
     "data": {
      "application/javascript": [
       "console.log(\"[120230][INFO][openvisuspy.slice:190:renderResultIfNeeded] Slice[6]::rendering result data.shape=(34, 108) data.dtype=float32 logic_box=[[5936, 4640, 32], [6800, 5184, 33]]\");\n"
      ],
      "text/plain": [
       "<IPython.core.display.Javascript object>"
      ]
     },
     "metadata": {},
     "output_type": "display_data"
    },
    {
     "data": {
      "application/javascript": [
       "console.log(\"[120230][INFO][openvisuspy.backend_cpp:168:returnBoxQueryData] got data 2/[20, 23, 26, 29] timestep=2015 field=u H=26 data.shape=(68, 216) data.dtype=float32 logic_box=[[5936, 4640, 32], [6800, 5184, 33]] m=-0.2500767707824707 M=0.25254595279693604 ms=115\");\n"
      ],
      "text/plain": [
       "<IPython.core.display.Javascript object>"
      ]
     },
     "metadata": {},
     "output_type": "display_data"
    },
    {
     "data": {
      "application/javascript": [
       "console.log(\"[120230][INFO][openvisuspy.slice:190:renderResultIfNeeded] Slice[6]::rendering result data.shape=(68, 216) data.dtype=float32 logic_box=[[5936, 4640, 32], [6800, 5184, 33]]\");\n"
      ],
      "text/plain": [
       "<IPython.core.display.Javascript object>"
      ]
     },
     "metadata": {},
     "output_type": "display_data"
    },
    {
     "data": {
      "application/javascript": [
       "console.log(\"[120230][INFO][openvisuspy.slice:209:pushJobIfNeeded] pushing new job\");\n"
      ],
      "text/plain": [
       "<IPython.core.display.Javascript object>"
      ]
     },
     "metadata": {},
     "output_type": "display_data"
    },
    {
     "data": {
      "application/javascript": [
       "console.log(\"[120230][INFO][openvisuspy.backend_cpp:76:printStatistics] Stats::printStatistics enlapsed=0.779874324798584 seconds\");\n"
      ],
      "text/plain": [
       "<IPython.core.display.Javascript object>"
      ]
     },
     "metadata": {},
     "output_type": "display_data"
    },
    {
     "data": {
      "application/javascript": [
       "console.log(\"[120230][INFO][openvisuspy.backend_cpp:74:createBoxQuery] begin timestep=2015 field=u logic_box=[[5718.343499290685, 4582.934437493537, 45], [6899.732399922156, 5319.4375064291135, 46]] num_refinements=4 max_pixels=97984 endh=34\");\n"
      ],
      "text/plain": [
       "<IPython.core.display.Javascript object>"
      ]
     },
     "metadata": {},
     "output_type": "display_data"
    },
    {
     "data": {
      "application/javascript": [
       "console.log(\"[120230][INFO][openvisuspy.backend_cpp:109:createBoxQuery] Guess resolution endh=28 original_box=([5718, 4582, 45], [6900, 5320, 46]) aligned_box=([5716, 4580, 44], [6900, 5320, 45]) delta=[4, 4, 4] num_pixels=[296, 185, 1] tot_pixels=54,760 max_pixels=97,984 end=28\");\n"
      ],
      "text/plain": [
       "<IPython.core.display.Javascript object>"
      ]
     },
     "metadata": {},
     "output_type": "display_data"
    },
    {
     "data": {
      "application/javascript": [
       "console.log(\"[120230][INFO][openvisuspy.backend_cpp:138:beginBoxQuery] beginBoxQuery timestep=2015 field=u logic_box=[[5696, 4576, 32], [6880, 5312, 33]] end_resolutions=[19, 22, 25, 28]\");\n"
      ],
      "text/plain": [
       "<IPython.core.display.Javascript object>"
      ]
     },
     "metadata": {},
     "output_type": "display_data"
    },
    {
     "data": {
      "application/javascript": [
       "console.log(\"[120230][INFO][openvisuspy.backend_cpp:168:returnBoxQueryData] got data 0/[19, 22, 25, 28] timestep=2015 field=u H=19 data.shape=(23, 37) data.dtype=float32 logic_box=[[5696, 4576, 32], [6880, 5312, 33]] m=-0.20673970878124237 M=0.17908859252929688 ms=20\");\n"
      ],
      "text/plain": [
       "<IPython.core.display.Javascript object>"
      ]
     },
     "metadata": {},
     "output_type": "display_data"
    },
    {
     "data": {
      "application/javascript": [
       "console.log(\"[120230][INFO][openvisuspy.slice:190:renderResultIfNeeded] Slice[6]::rendering result data.shape=(23, 37) data.dtype=float32 logic_box=[[5696, 4576, 32], [6880, 5312, 33]]\");\n"
      ],
      "text/plain": [
       "<IPython.core.display.Javascript object>"
      ]
     },
     "metadata": {},
     "output_type": "display_data"
    },
    {
     "data": {
      "application/javascript": [
       "console.log(\"[120230][INFO][openvisuspy.slice:209:pushJobIfNeeded] pushing new job\");\n"
      ],
      "text/plain": [
       "<IPython.core.display.Javascript object>"
      ]
     },
     "metadata": {},
     "output_type": "display_data"
    },
    {
     "data": {
      "application/javascript": [
       "console.log(\"[120230][INFO][openvisuspy.backend_cpp:76:printStatistics] Stats::printStatistics enlapsed=0.05030655860900879 seconds\");\n"
      ],
      "text/plain": [
       "<IPython.core.display.Javascript object>"
      ]
     },
     "metadata": {},
     "output_type": "display_data"
    },
    {
     "data": {
      "application/javascript": [
       "console.log(\"[120230][INFO][openvisuspy.backend_cpp:74:createBoxQuery] begin timestep=2015 field=u logic_box=[[5579.888890941349, 4536.694596738877, 45], [6958.175941678066, 5395.9481771637165, 46]] num_refinements=4 max_pixels=97984 endh=34\");\n"
      ],
      "text/plain": [
       "<IPython.core.display.Javascript object>"
      ]
     },
     "metadata": {},
     "output_type": "display_data"
    },
    {
     "data": {
      "application/javascript": [
       "console.log(\"[120230][INFO][openvisuspy.backend_cpp:109:createBoxQuery] Guess resolution endh=28 original_box=([5579, 4536, 45], [6959, 5396, 46]) aligned_box=([5576, 4536, 44], [6956, 5396, 45]) delta=[4, 4, 4] num_pixels=[345, 215, 1] tot_pixels=74,175 max_pixels=97,984 end=28\");\n"
      ],
      "text/plain": [
       "<IPython.core.display.Javascript object>"
      ]
     },
     "metadata": {},
     "output_type": "display_data"
    },
    {
     "data": {
      "application/javascript": [
       "console.log(\"[120230][INFO][openvisuspy.backend_cpp:138:beginBoxQuery] beginBoxQuery timestep=2015 field=u logic_box=[[5568, 4512, 32], [6944, 5376, 33]] end_resolutions=[19, 22, 25, 28]\");\n"
      ],
      "text/plain": [
       "<IPython.core.display.Javascript object>"
      ]
     },
     "metadata": {},
     "output_type": "display_data"
    },
    {
     "data": {
      "application/javascript": [
       "console.log(\"[120230][INFO][openvisuspy.backend_cpp:168:returnBoxQueryData] got data 0/[19, 22, 25, 28] timestep=2015 field=u H=19 data.shape=(27, 43) data.dtype=float32 logic_box=[[5568, 4512, 32], [6944, 5376, 33]] m=-0.24639426171779633 M=0.27831825613975525 ms=21\");\n"
      ],
      "text/plain": [
       "<IPython.core.display.Javascript object>"
      ]
     },
     "metadata": {},
     "output_type": "display_data"
    },
    {
     "data": {
      "application/javascript": [
       "console.log(\"[120230][INFO][openvisuspy.backend_cpp:168:returnBoxQueryData] got data 1/[19, 22, 25, 28] timestep=2015 field=u H=22 data.shape=(54, 86) data.dtype=float32 logic_box=[[5568, 4512, 32], [6944, 5376, 33]] m=-0.2711183428764343 M=0.27831825613975525 ms=57\");\n"
      ],
      "text/plain": [
       "<IPython.core.display.Javascript object>"
      ]
     },
     "metadata": {},
     "output_type": "display_data"
    },
    {
     "data": {
      "application/javascript": [
       "console.log(\"[120230][INFO][openvisuspy.slice:190:renderResultIfNeeded] Slice[6]::rendering result data.shape=(54, 86) data.dtype=float32 logic_box=[[5568, 4512, 32], [6944, 5376, 33]]\");\n"
      ],
      "text/plain": [
       "<IPython.core.display.Javascript object>"
      ]
     },
     "metadata": {},
     "output_type": "display_data"
    },
    {
     "data": {
      "application/javascript": [
       "console.log(\"[120230][INFO][openvisuspy.backend_cpp:168:returnBoxQueryData] got data 2/[19, 22, 25, 28] timestep=2015 field=u H=25 data.shape=(108, 172) data.dtype=float32 logic_box=[[5568, 4512, 32], [6944, 5376, 33]] m=-0.47587257623672485 M=0.3163203001022339 ms=96\");\n"
      ],
      "text/plain": [
       "<IPython.core.display.Javascript object>"
      ]
     },
     "metadata": {},
     "output_type": "display_data"
    },
    {
     "data": {
      "application/javascript": [
       "console.log(\"[120230][INFO][openvisuspy.slice:190:renderResultIfNeeded] Slice[6]::rendering result data.shape=(108, 172) data.dtype=float32 logic_box=[[5568, 4512, 32], [6944, 5376, 33]]\");\n"
      ],
      "text/plain": [
       "<IPython.core.display.Javascript object>"
      ]
     },
     "metadata": {},
     "output_type": "display_data"
    },
    {
     "data": {
      "application/javascript": [
       "console.log(\"[120231][INFO][openvisuspy.slice:209:pushJobIfNeeded] pushing new job\");\n"
      ],
      "text/plain": [
       "<IPython.core.display.Javascript object>"
      ]
     },
     "metadata": {},
     "output_type": "display_data"
    },
    {
     "data": {
      "application/javascript": [
       "console.log(\"[120231][INFO][openvisuspy.backend_cpp:76:printStatistics] Stats::printStatistics enlapsed=0.284740686416626 seconds\");\n"
      ],
      "text/plain": [
       "<IPython.core.display.Javascript object>"
      ]
     },
     "metadata": {},
     "output_type": "display_data"
    },
    {
     "data": {
      "application/javascript": [
       "console.log(\"[120231][INFO][openvisuspy.backend_cpp:74:createBoxQuery] begin timestep=2015 field=u logic_box=[[5417.303568455921, 4482.7481158584405, 45], [7025.305127648757, 5485.210626354086, 46]] num_refinements=4 max_pixels=97984 endh=34\");\n"
      ],
      "text/plain": [
       "<IPython.core.display.Javascript object>"
      ]
     },
     "metadata": {},
     "output_type": "display_data"
    },
    {
     "data": {
      "application/javascript": [
       "console.log(\"[120231][INFO][openvisuspy.backend_cpp:109:createBoxQuery] Guess resolution endh=26 original_box=([5417, 4482, 45], [7026, 5486, 46]) aligned_box=([5416, 4480, 40], [7024, 5480, 41]) delta=[4, 8, 8] num_pixels=[402, 125, 1] tot_pixels=50,250 max_pixels=97,984 end=26\");\n"
      ],
      "text/plain": [
       "<IPython.core.display.Javascript object>"
      ]
     },
     "metadata": {},
     "output_type": "display_data"
    },
    {
     "data": {
      "application/javascript": [
       "console.log(\"[120231][INFO][openvisuspy.backend_cpp:138:beginBoxQuery] beginBoxQuery timestep=2015 field=u logic_box=[[5408, 4480, 0], [7008, 5440, 1]] end_resolutions=[17, 20, 23, 26]\");\n"
      ],
      "text/plain": [
       "<IPython.core.display.Javascript object>"
      ]
     },
     "metadata": {},
     "output_type": "display_data"
    },
    {
     "data": {
      "application/javascript": [
       "console.log(\"[120231][INFO][openvisuspy.backend_cpp:168:returnBoxQueryData] got data 0/[17, 20, 23, 26] timestep=2015 field=u H=17 data.shape=(15, 50) data.dtype=float32 logic_box=[[5408, 4480, 0], [7008, 5440, 1]] m=-1.7182023525238037 M=0.6202242970466614 ms=20\");\n"
      ],
      "text/plain": [
       "<IPython.core.display.Javascript object>"
      ]
     },
     "metadata": {},
     "output_type": "display_data"
    },
    {
     "data": {
      "application/javascript": [
       "console.log(\"[120231][INFO][openvisuspy.slice:190:renderResultIfNeeded] Slice[6]::rendering result data.shape=(15, 50) data.dtype=float32 logic_box=[[5408, 4480, 0], [7008, 5440, 1]]\");\n"
      ],
      "text/plain": [
       "<IPython.core.display.Javascript object>"
      ]
     },
     "metadata": {},
     "output_type": "display_data"
    },
    {
     "data": {
      "application/javascript": [
       "console.log(\"[120231][INFO][openvisuspy.slice:209:pushJobIfNeeded] pushing new job\");\n"
      ],
      "text/plain": [
       "<IPython.core.display.Javascript object>"
      ]
     },
     "metadata": {},
     "output_type": "display_data"
    },
    {
     "data": {
      "application/javascript": [
       "console.log(\"[120231][INFO][openvisuspy.backend_cpp:76:printStatistics] Stats::printStatistics enlapsed=0.04909253120422363 seconds\");\n"
      ],
      "text/plain": [
       "<IPython.core.display.Javascript object>"
      ]
     },
     "metadata": {},
     "output_type": "display_data"
    },
    {
     "data": {
      "application/javascript": [
       "console.log(\"[120231][INFO][openvisuspy.backend_cpp:74:createBoxQuery] begin timestep=2015 field=u logic_box=[[5006.324003284421, 4347.40904231971, 45], [7194.992792185781, 5711.871903827672, 46]] num_refinements=4 max_pixels=97984 endh=34\");\n"
      ],
      "text/plain": [
       "<IPython.core.display.Javascript object>"
      ]
     },
     "metadata": {},
     "output_type": "display_data"
    },
    {
     "data": {
      "application/javascript": [
       "console.log(\"[120231][INFO][openvisuspy.backend_cpp:109:createBoxQuery] Guess resolution endh=26 original_box=([5006, 4347, 45], [7195, 5712, 46]) aligned_box=([5004, 4344, 40], [7192, 5712, 41]) delta=[4, 8, 8] num_pixels=[547, 171, 1] tot_pixels=93,537 max_pixels=97,984 end=26\");\n"
      ],
      "text/plain": [
       "<IPython.core.display.Javascript object>"
      ]
     },
     "metadata": {},
     "output_type": "display_data"
    },
    {
     "data": {
      "application/javascript": [
       "console.log(\"[120231][INFO][openvisuspy.backend_cpp:138:beginBoxQuery] beginBoxQuery timestep=2015 field=u logic_box=[[4992, 4288, 0], [7168, 5696, 1]] end_resolutions=[17, 20, 23, 26]\");\n"
      ],
      "text/plain": [
       "<IPython.core.display.Javascript object>"
      ]
     },
     "metadata": {},
     "output_type": "display_data"
    },
    {
     "data": {
      "application/javascript": [
       "console.log(\"[120231][INFO][openvisuspy.backend_cpp:168:returnBoxQueryData] got data 0/[17, 20, 23, 26] timestep=2015 field=u H=17 data.shape=(22, 68) data.dtype=float32 logic_box=[[4992, 4288, 0], [7168, 5696, 1]] m=-1.7182023525238037 M=0.8582783937454224 ms=19\");\n"
      ],
      "text/plain": [
       "<IPython.core.display.Javascript object>"
      ]
     },
     "metadata": {},
     "output_type": "display_data"
    },
    {
     "data": {
      "application/javascript": [
       "console.log(\"[120231][INFO][openvisuspy.backend_cpp:168:returnBoxQueryData] got data 1/[17, 20, 23, 26] timestep=2015 field=u H=20 data.shape=(44, 136) data.dtype=float32 logic_box=[[4992, 4288, 0], [7168, 5696, 1]] m=-1.7182023525238037 M=1.1959556341171265 ms=41\");\n"
      ],
      "text/plain": [
       "<IPython.core.display.Javascript object>"
      ]
     },
     "metadata": {},
     "output_type": "display_data"
    },
    {
     "data": {
      "application/javascript": [
       "console.log(\"[120231][INFO][openvisuspy.slice:190:renderResultIfNeeded] Slice[6]::rendering result data.shape=(44, 136) data.dtype=float32 logic_box=[[4992, 4288, 0], [7168, 5696, 1]]\");\n"
      ],
      "text/plain": [
       "<IPython.core.display.Javascript object>"
      ]
     },
     "metadata": {},
     "output_type": "display_data"
    },
    {
     "data": {
      "application/javascript": [
       "console.log(\"[120231][INFO][openvisuspy.backend_cpp:168:returnBoxQueryData] got data 2/[17, 20, 23, 26] timestep=2015 field=u H=23 data.shape=(88, 272) data.dtype=float32 logic_box=[[4992, 4288, 0], [7168, 5696, 1]] m=-2.9559743404388428 M=2.3354365825653076 ms=78\");\n"
      ],
      "text/plain": [
       "<IPython.core.display.Javascript object>"
      ]
     },
     "metadata": {},
     "output_type": "display_data"
    },
    {
     "data": {
      "application/javascript": [
       "console.log(\"[120231][INFO][openvisuspy.slice:190:renderResultIfNeeded] Slice[6]::rendering result data.shape=(88, 272) data.dtype=float32 logic_box=[[4992, 4288, 0], [7168, 5696, 1]]\");\n"
      ],
      "text/plain": [
       "<IPython.core.display.Javascript object>"
      ]
     },
     "metadata": {},
     "output_type": "display_data"
    },
    {
     "data": {
      "application/javascript": [
       "console.log(\"[120231][INFO][openvisuspy.backend_cpp:168:returnBoxQueryData] got data 3/[17, 20, 23, 26] timestep=2015 field=u H=26 data.shape=(176, 544) data.dtype=float32 logic_box=[[4992, 4288, 0], [7168, 5696, 1]] m=-4.867165565490723 M=2.3354365825653076 ms=136\");\n"
      ],
      "text/plain": [
       "<IPython.core.display.Javascript object>"
      ]
     },
     "metadata": {},
     "output_type": "display_data"
    },
    {
     "data": {
      "application/javascript": [
       "console.log(\"[120231][INFO][openvisuspy.backend_cpp:76:printStatistics] Stats::printStatistics enlapsed=0.14807724952697754 seconds\");\n"
      ],
      "text/plain": [
       "<IPython.core.display.Javascript object>"
      ]
     },
     "metadata": {},
     "output_type": "display_data"
    },
    {
     "data": {
      "application/javascript": [
       "console.log(\"[120231][INFO][openvisuspy.slice:190:renderResultIfNeeded] Slice[6]::rendering result data.shape=(176, 544) data.dtype=float32 logic_box=[[4992, 4288, 0], [7168, 5696, 1]]\");\n"
      ],
      "text/plain": [
       "<IPython.core.display.Javascript object>"
      ]
     },
     "metadata": {},
     "output_type": "display_data"
    },
    {
     "data": {
      "application/javascript": [
       "console.log(\"[120231][INFO][openvisuspy.slice:209:pushJobIfNeeded] pushing new job\");\n"
      ],
      "text/plain": [
       "<IPython.core.display.Javascript object>"
      ]
     },
     "metadata": {},
     "output_type": "display_data"
    },
    {
     "data": {
      "application/javascript": [
       "console.log(\"[120231][INFO][openvisuspy.backend_cpp:74:createBoxQuery] begin timestep=2015 field=u logic_box=[[4923.400845955209, 4357.4603341171905, 45], [7112.069634856569, 5721.923195625152, 46]] num_refinements=4 max_pixels=97984 endh=34\");\n"
      ],
      "text/plain": [
       "<IPython.core.display.Javascript object>"
      ]
     },
     "metadata": {},
     "output_type": "display_data"
    },
    {
     "data": {
      "application/javascript": [
       "console.log(\"[120231][INFO][openvisuspy.backend_cpp:109:createBoxQuery] Guess resolution endh=26 original_box=([4923, 4357, 45], [7113, 5722, 46]) aligned_box=([4920, 4352, 40], [7112, 5720, 41]) delta=[4, 8, 8] num_pixels=[548, 171, 1] tot_pixels=93,708 max_pixels=97,984 end=26\");\n"
      ],
      "text/plain": [
       "<IPython.core.display.Javascript object>"
      ]
     },
     "metadata": {},
     "output_type": "display_data"
    },
    {
     "data": {
      "application/javascript": [
       "console.log(\"[120231][INFO][openvisuspy.backend_cpp:138:beginBoxQuery] beginBoxQuery timestep=2015 field=u logic_box=[[4896, 4352, 0], [7104, 5696, 1]] end_resolutions=[17, 20, 23, 26]\");\n"
      ],
      "text/plain": [
       "<IPython.core.display.Javascript object>"
      ]
     },
     "metadata": {},
     "output_type": "display_data"
    },
    {
     "data": {
      "application/javascript": [
       "console.log(\"[120231][INFO][openvisuspy.backend_cpp:168:returnBoxQueryData] got data 0/[17, 20, 23, 26] timestep=2015 field=u H=17 data.shape=(21, 69) data.dtype=float32 logic_box=[[4896, 4352, 0], [7104, 5696, 1]] m=-1.7182023525238037 M=0.8582783937454224 ms=20\");\n"
      ],
      "text/plain": [
       "<IPython.core.display.Javascript object>"
      ]
     },
     "metadata": {},
     "output_type": "display_data"
    },
    {
     "data": {
      "application/javascript": [
       "console.log(\"[120231][INFO][openvisuspy.slice:209:pushJobIfNeeded] pushing new job\");\n"
      ],
      "text/plain": [
       "<IPython.core.display.Javascript object>"
      ]
     },
     "metadata": {},
     "output_type": "display_data"
    },
    {
     "data": {
      "application/javascript": [
       "console.log(\"[120231][INFO][openvisuspy.backend_cpp:76:printStatistics] Stats::printStatistics enlapsed=0.04935097694396973 seconds\");\n"
      ],
      "text/plain": [
       "<IPython.core.display.Javascript object>"
      ]
     },
     "metadata": {},
     "output_type": "display_data"
    },
    {
     "data": {
      "application/javascript": [
       "console.log(\"[120231][INFO][openvisuspy.backend_cpp:74:createBoxQuery] begin timestep=2015 field=u logic_box=[[4858.067449271586, 4400.178324256482, 45], [7046.736238172947, 5764.641185764443, 46]] num_refinements=4 max_pixels=97984 endh=34\");\n"
      ],
      "text/plain": [
       "<IPython.core.display.Javascript object>"
      ]
     },
     "metadata": {},
     "output_type": "display_data"
    },
    {
     "data": {
      "application/javascript": [
       "console.log(\"[120231][INFO][openvisuspy.slice:190:renderResultIfNeeded] Slice[6]::rendering result data.shape=(21, 69) data.dtype=float32 logic_box=[[4896, 4352, 0], [7104, 5696, 1]]\");\n"
      ],
      "text/plain": [
       "<IPython.core.display.Javascript object>"
      ]
     },
     "metadata": {},
     "output_type": "display_data"
    },
    {
     "data": {
      "application/javascript": [
       "console.log(\"[120231][INFO][openvisuspy.backend_cpp:109:createBoxQuery] Guess resolution endh=26 original_box=([4858, 4400, 45], [7047, 5765, 46]) aligned_box=([4856, 4400, 40], [7044, 5760, 41]) delta=[4, 8, 8] num_pixels=[547, 170, 1] tot_pixels=92,990 max_pixels=97,984 end=26\");\n"
      ],
      "text/plain": [
       "<IPython.core.display.Javascript object>"
      ]
     },
     "metadata": {},
     "output_type": "display_data"
    },
    {
     "data": {
      "application/javascript": [
       "console.log(\"[120231][INFO][openvisuspy.slice:209:pushJobIfNeeded] pushing new job\");\n"
      ],
      "text/plain": [
       "<IPython.core.display.Javascript object>"
      ]
     },
     "metadata": {},
     "output_type": "display_data"
    },
    {
     "data": {
      "application/javascript": [
       "console.log(\"[120231][INFO][openvisuspy.backend_cpp:138:beginBoxQuery] beginBoxQuery timestep=2015 field=u logic_box=[[4832, 4352, 0], [7040, 5760, 1]] end_resolutions=[17, 20, 23, 26]\");\n"
      ],
      "text/plain": [
       "<IPython.core.display.Javascript object>"
      ]
     },
     "metadata": {},
     "output_type": "display_data"
    },
    {
     "data": {
      "application/javascript": [
       "console.log(\"[120231][INFO][openvisuspy.backend_cpp:76:printStatistics] Stats::printStatistics enlapsed=0.019983530044555664 seconds\");\n"
      ],
      "text/plain": [
       "<IPython.core.display.Javascript object>"
      ]
     },
     "metadata": {},
     "output_type": "display_data"
    },
    {
     "data": {
      "application/javascript": [
       "console.log(\"[120231][INFO][openvisuspy.backend_cpp:74:createBoxQuery] begin timestep=2015 field=u logic_box=[[4672.118551018199, 4460.4860750413645, 45], [6860.78733991956, 5824.948936549326, 46]] num_refinements=4 max_pixels=97984 endh=34\");\n"
      ],
      "text/plain": [
       "<IPython.core.display.Javascript object>"
      ]
     },
     "metadata": {},
     "output_type": "display_data"
    },
    {
     "data": {
      "application/javascript": [
       "console.log(\"[120231][INFO][openvisuspy.backend_cpp:109:createBoxQuery] Guess resolution endh=26 original_box=([4672, 4460, 45], [6861, 5825, 46]) aligned_box=([4672, 4456, 40], [6860, 5824, 41]) delta=[4, 8, 8] num_pixels=[547, 171, 1] tot_pixels=93,537 max_pixels=97,984 end=26\");\n"
      ],
      "text/plain": [
       "<IPython.core.display.Javascript object>"
      ]
     },
     "metadata": {},
     "output_type": "display_data"
    },
    {
     "data": {
      "application/javascript": [
       "console.log(\"[120231][INFO][openvisuspy.slice:209:pushJobIfNeeded] pushing new job\");\n"
      ],
      "text/plain": [
       "<IPython.core.display.Javascript object>"
      ]
     },
     "metadata": {},
     "output_type": "display_data"
    },
    {
     "data": {
      "application/javascript": [
       "console.log(\"[120231][INFO][openvisuspy.backend_cpp:138:beginBoxQuery] beginBoxQuery timestep=2015 field=u logic_box=[[4672, 4416, 0], [6848, 5824, 1]] end_resolutions=[17, 20, 23, 26]\");\n"
      ],
      "text/plain": [
       "<IPython.core.display.Javascript object>"
      ]
     },
     "metadata": {},
     "output_type": "display_data"
    },
    {
     "data": {
      "application/javascript": [
       "console.log(\"[120231][INFO][openvisuspy.backend_cpp:76:printStatistics] Stats::printStatistics enlapsed=0.0180203914642334 seconds\");\n"
      ],
      "text/plain": [
       "<IPython.core.display.Javascript object>"
      ]
     },
     "metadata": {},
     "output_type": "display_data"
    },
    {
     "data": {
      "application/javascript": [
       "console.log(\"[120231][INFO][openvisuspy.backend_cpp:74:createBoxQuery] begin timestep=2015 field=u logic_box=[[4468.57989211922, 4508.229711079396, 45], [6657.248681020581, 5872.692572587358, 46]] num_refinements=4 max_pixels=97984 endh=34\");\n"
      ],
      "text/plain": [
       "<IPython.core.display.Javascript object>"
      ]
     },
     "metadata": {},
     "output_type": "display_data"
    },
    {
     "data": {
      "application/javascript": [
       "console.log(\"[120231][INFO][openvisuspy.backend_cpp:109:createBoxQuery] Guess resolution endh=26 original_box=([4468, 4508, 45], [6658, 5873, 46]) aligned_box=([4468, 4504, 40], [6656, 5872, 41]) delta=[4, 8, 8] num_pixels=[547, 171, 1] tot_pixels=93,537 max_pixels=97,984 end=26\");\n"
      ],
      "text/plain": [
       "<IPython.core.display.Javascript object>"
      ]
     },
     "metadata": {},
     "output_type": "display_data"
    },
    {
     "data": {
      "application/javascript": [
       "console.log(\"[120231][INFO][openvisuspy.backend_cpp:138:beginBoxQuery] beginBoxQuery timestep=2015 field=u logic_box=[[4448, 4480, 0], [6656, 5824, 1]] end_resolutions=[17, 20, 23, 26]\");\n"
      ],
      "text/plain": [
       "<IPython.core.display.Javascript object>"
      ]
     },
     "metadata": {},
     "output_type": "display_data"
    },
    {
     "data": {
      "application/javascript": [
       "console.log(\"[120231][INFO][openvisuspy.slice:209:pushJobIfNeeded] pushing new job\");\n"
      ],
      "text/plain": [
       "<IPython.core.display.Javascript object>"
      ]
     },
     "metadata": {},
     "output_type": "display_data"
    },
    {
     "data": {
      "application/javascript": [
       "console.log(\"[120231][INFO][openvisuspy.backend_cpp:76:printStatistics] Stats::printStatistics enlapsed=0.035132646560668945 seconds\");\n"
      ],
      "text/plain": [
       "<IPython.core.display.Javascript object>"
      ]
     },
     "metadata": {},
     "output_type": "display_data"
    },
    {
     "data": {
      "application/javascript": [
       "console.log(\"[120231][INFO][openvisuspy.backend_cpp:74:createBoxQuery] begin timestep=2015 field=u logic_box=[[3810.2202793842525, 4666.5375568897125, 45], [5998.889068285614, 6031.000418397674, 46]] num_refinements=4 max_pixels=97984 endh=34\");\n"
      ],
      "text/plain": [
       "<IPython.core.display.Javascript object>"
      ]
     },
     "metadata": {},
     "output_type": "display_data"
    },
    {
     "data": {
      "application/javascript": [
       "console.log(\"[120231][INFO][openvisuspy.backend_cpp:109:createBoxQuery] Guess resolution endh=26 original_box=([3810, 4666, 45], [5999, 6032, 46]) aligned_box=([3808, 4664, 40], [5996, 6032, 41]) delta=[4, 8, 8] num_pixels=[547, 171, 1] tot_pixels=93,537 max_pixels=97,984 end=26\");\n"
      ],
      "text/plain": [
       "<IPython.core.display.Javascript object>"
      ]
     },
     "metadata": {},
     "output_type": "display_data"
    },
    {
     "data": {
      "application/javascript": [
       "console.log(\"[120231][INFO][openvisuspy.backend_cpp:138:beginBoxQuery] beginBoxQuery timestep=2015 field=u logic_box=[[3808, 4608, 0], [5984, 6016, 1]] end_resolutions=[17, 20, 23, 26]\");\n"
      ],
      "text/plain": [
       "<IPython.core.display.Javascript object>"
      ]
     },
     "metadata": {},
     "output_type": "display_data"
    },
    {
     "data": {
      "application/javascript": [
       "console.log(\"[120231][INFO][openvisuspy.backend_cpp:168:returnBoxQueryData] got data 0/[17, 20, 23, 26] timestep=2015 field=u H=17 data.shape=(22, 68) data.dtype=float32 logic_box=[[3808, 4608, 0], [5984, 6016, 1]] m=-1.076973795890808 M=2.0182831287384033 ms=20\");\n"
      ],
      "text/plain": [
       "<IPython.core.display.Javascript object>"
      ]
     },
     "metadata": {},
     "output_type": "display_data"
    },
    {
     "data": {
      "application/javascript": [
       "console.log(\"[120231][INFO][openvisuspy.slice:209:pushJobIfNeeded] pushing new job\");\n"
      ],
      "text/plain": [
       "<IPython.core.display.Javascript object>"
      ]
     },
     "metadata": {},
     "output_type": "display_data"
    },
    {
     "data": {
      "application/javascript": [
       "console.log(\"[120231][INFO][openvisuspy.backend_cpp:76:printStatistics] Stats::printStatistics enlapsed=0.049234867095947266 seconds\");\n"
      ],
      "text/plain": [
       "<IPython.core.display.Javascript object>"
      ]
     },
     "metadata": {},
     "output_type": "display_data"
    },
    {
     "data": {
      "application/javascript": [
       "console.log(\"[120231][INFO][openvisuspy.backend_cpp:74:createBoxQuery] begin timestep=2015 field=u logic_box=[[3785.0920498905516, 4671.563202788452, 45], [5973.760838791913, 6036.026064296414, 46]] num_refinements=4 max_pixels=97984 endh=34\");\n"
      ],
      "text/plain": [
       "<IPython.core.display.Javascript object>"
      ]
     },
     "metadata": {},
     "output_type": "display_data"
    },
    {
     "data": {
      "application/javascript": [
       "console.log(\"[120231][INFO][openvisuspy.backend_cpp:109:createBoxQuery] Guess resolution endh=26 original_box=([3785, 4671, 45], [5974, 6037, 46]) aligned_box=([3784, 4664, 40], [5972, 6032, 41]) delta=[4, 8, 8] num_pixels=[547, 171, 1] tot_pixels=93,537 max_pixels=97,984 end=26\");\n"
      ],
      "text/plain": [
       "<IPython.core.display.Javascript object>"
      ]
     },
     "metadata": {},
     "output_type": "display_data"
    },
    {
     "data": {
      "application/javascript": [
       "console.log(\"[120231][INFO][openvisuspy.backend_cpp:138:beginBoxQuery] beginBoxQuery timestep=2015 field=u logic_box=[[3776, 4608, 0], [5952, 6016, 1]] end_resolutions=[17, 20, 23, 26]\");\n"
      ],
      "text/plain": [
       "<IPython.core.display.Javascript object>"
      ]
     },
     "metadata": {},
     "output_type": "display_data"
    },
    {
     "data": {
      "application/javascript": [
       "console.log(\"[120231][INFO][openvisuspy.slice:190:renderResultIfNeeded] Slice[6]::rendering result data.shape=(22, 68) data.dtype=float32 logic_box=[[3808, 4608, 0], [5984, 6016, 1]]\");\n"
      ],
      "text/plain": [
       "<IPython.core.display.Javascript object>"
      ]
     },
     "metadata": {},
     "output_type": "display_data"
    },
    {
     "data": {
      "application/javascript": [
       "console.log(\"[120231][INFO][openvisuspy.backend_cpp:168:returnBoxQueryData] got data 0/[17, 20, 23, 26] timestep=2015 field=u H=17 data.shape=(22, 68) data.dtype=float32 logic_box=[[3776, 4608, 0], [5952, 6016, 1]] m=-1.076973795890808 M=2.0182831287384033 ms=21\");\n"
      ],
      "text/plain": [
       "<IPython.core.display.Javascript object>"
      ]
     },
     "metadata": {},
     "output_type": "display_data"
    },
    {
     "data": {
      "application/javascript": [
       "console.log(\"[120231][INFO][openvisuspy.backend_cpp:168:returnBoxQueryData] got data 1/[17, 20, 23, 26] timestep=2015 field=u H=20 data.shape=(44, 136) data.dtype=float32 logic_box=[[3776, 4608, 0], [5952, 6016, 1]] m=-1.8077391386032104 M=3.1127405166625977 ms=42\");\n"
      ],
      "text/plain": [
       "<IPython.core.display.Javascript object>"
      ]
     },
     "metadata": {},
     "output_type": "display_data"
    },
    {
     "data": {
      "application/javascript": [
       "console.log(\"[120231][INFO][openvisuspy.slice:190:renderResultIfNeeded] Slice[6]::rendering result data.shape=(44, 136) data.dtype=float32 logic_box=[[3776, 4608, 0], [5952, 6016, 1]]\");\n"
      ],
      "text/plain": [
       "<IPython.core.display.Javascript object>"
      ]
     },
     "metadata": {},
     "output_type": "display_data"
    },
    {
     "data": {
      "application/javascript": [
       "console.log(\"[120231][INFO][openvisuspy.backend_cpp:168:returnBoxQueryData] got data 2/[17, 20, 23, 26] timestep=2015 field=u H=23 data.shape=(88, 272) data.dtype=float32 logic_box=[[3776, 4608, 0], [5952, 6016, 1]] m=-2.9559743404388428 M=4.76045036315918 ms=94\");\n"
      ],
      "text/plain": [
       "<IPython.core.display.Javascript object>"
      ]
     },
     "metadata": {},
     "output_type": "display_data"
    },
    {
     "data": {
      "application/javascript": [
       "console.log(\"[120231][INFO][openvisuspy.slice:190:renderResultIfNeeded] Slice[6]::rendering result data.shape=(88, 272) data.dtype=float32 logic_box=[[3776, 4608, 0], [5952, 6016, 1]]\");\n"
      ],
      "text/plain": [
       "<IPython.core.display.Javascript object>"
      ]
     },
     "metadata": {},
     "output_type": "display_data"
    },
    {
     "data": {
      "application/javascript": [
       "console.log(\"[120231][INFO][openvisuspy.backend_cpp:168:returnBoxQueryData] got data 3/[17, 20, 23, 26] timestep=2015 field=u H=26 data.shape=(176, 544) data.dtype=float32 logic_box=[[3776, 4608, 0], [5952, 6016, 1]] m=-4.867165565490723 M=5.847737789154053 ms=164\");\n"
      ],
      "text/plain": [
       "<IPython.core.display.Javascript object>"
      ]
     },
     "metadata": {},
     "output_type": "display_data"
    },
    {
     "data": {
      "application/javascript": [
       "console.log(\"[120231][INFO][openvisuspy.backend_cpp:76:printStatistics] Stats::printStatistics enlapsed=0.17743635177612305 seconds\");\n"
      ],
      "text/plain": [
       "<IPython.core.display.Javascript object>"
      ]
     },
     "metadata": {},
     "output_type": "display_data"
    },
    {
     "data": {
      "application/javascript": [
       "console.log(\"[120231][INFO][openvisuspy.slice:190:renderResultIfNeeded] Slice[6]::rendering result data.shape=(176, 544) data.dtype=float32 logic_box=[[3776, 4608, 0], [5952, 6016, 1]]\");\n"
      ],
      "text/plain": [
       "<IPython.core.display.Javascript object>"
      ]
     },
     "metadata": {},
     "output_type": "display_data"
    },
    {
     "data": {
      "application/javascript": [
       "console.log(\"[120232][INFO][openvisuspy.slice:209:pushJobIfNeeded] pushing new job\");\n"
      ],
      "text/plain": [
       "<IPython.core.display.Javascript object>"
      ]
     },
     "metadata": {},
     "output_type": "display_data"
    },
    {
     "data": {
      "application/javascript": [
       "console.log(\"[120232][INFO][openvisuspy.backend_cpp:74:createBoxQuery] begin timestep=2015 field=u logic_box=[[3709.7073614094484, 4734.3837765227045, 45], [5898.376150310811, 6098.846638030666, 46]] num_refinements=4 max_pixels=97984 endh=34\");\n"
      ],
      "text/plain": [
       "<IPython.core.display.Javascript object>"
      ]
     },
     "metadata": {},
     "output_type": "display_data"
    },
    {
     "data": {
      "application/javascript": [
       "console.log(\"[120232][INFO][openvisuspy.backend_cpp:109:createBoxQuery] Guess resolution endh=26 original_box=([3709, 4734, 45], [5899, 6099, 46]) aligned_box=([3708, 4728, 40], [5896, 6096, 41]) delta=[4, 8, 8] num_pixels=[547, 171, 1] tot_pixels=93,537 max_pixels=97,984 end=26\");\n"
      ],
      "text/plain": [
       "<IPython.core.display.Javascript object>"
      ]
     },
     "metadata": {},
     "output_type": "display_data"
    },
    {
     "data": {
      "application/javascript": [
       "console.log(\"[120232][INFO][openvisuspy.backend_cpp:138:beginBoxQuery] beginBoxQuery timestep=2015 field=u logic_box=[[3680, 4672, 0], [5888, 6080, 1]] end_resolutions=[17, 20, 23, 26]\");\n"
      ],
      "text/plain": [
       "<IPython.core.display.Javascript object>"
      ]
     },
     "metadata": {},
     "output_type": "display_data"
    },
    {
     "data": {
      "application/javascript": [
       "console.log(\"[120232][INFO][openvisuspy.backend_cpp:168:returnBoxQueryData] got data 0/[17, 20, 23, 26] timestep=2015 field=u H=17 data.shape=(22, 69) data.dtype=float32 logic_box=[[3680, 4672, 0], [5888, 6080, 1]] m=-1.076973795890808 M=4.046962261199951 ms=21\");\n"
      ],
      "text/plain": [
       "<IPython.core.display.Javascript object>"
      ]
     },
     "metadata": {},
     "output_type": "display_data"
    },
    {
     "data": {
      "application/javascript": [
       "console.log(\"[120232][INFO][openvisuspy.slice:209:pushJobIfNeeded] pushing new job\");\n"
      ],
      "text/plain": [
       "<IPython.core.display.Javascript object>"
      ]
     },
     "metadata": {},
     "output_type": "display_data"
    },
    {
     "data": {
      "application/javascript": [
       "console.log(\"[120232][INFO][openvisuspy.backend_cpp:76:printStatistics] Stats::printStatistics enlapsed=0.05150747299194336 seconds\");\n"
      ],
      "text/plain": [
       "<IPython.core.display.Javascript object>"
      ]
     },
     "metadata": {},
     "output_type": "display_data"
    },
    {
     "data": {
      "application/javascript": [
       "console.log(\"[120232][INFO][openvisuspy.slice:190:renderResultIfNeeded] Slice[6]::rendering result data.shape=(22, 69) data.dtype=float32 logic_box=[[3680, 4672, 0], [5888, 6080, 1]]\");\n"
      ],
      "text/plain": [
       "<IPython.core.display.Javascript object>"
      ]
     },
     "metadata": {},
     "output_type": "display_data"
    },
    {
     "data": {
      "application/javascript": [
       "console.log(\"[120232][INFO][openvisuspy.backend_cpp:74:createBoxQuery] begin timestep=2015 field=u logic_box=[[3541.3482238016513, 4854.999278092468, 45], [5730.017012703013, 6219.462139600431, 46]] num_refinements=4 max_pixels=97984 endh=34\");\n"
      ],
      "text/plain": [
       "<IPython.core.display.Javascript object>"
      ]
     },
     "metadata": {},
     "output_type": "display_data"
    },
    {
     "data": {
      "application/javascript": [
       "console.log(\"[120232][INFO][openvisuspy.slice:209:pushJobIfNeeded] pushing new job\");\n"
      ],
      "text/plain": [
       "<IPython.core.display.Javascript object>"
      ]
     },
     "metadata": {},
     "output_type": "display_data"
    },
    {
     "data": {
      "application/javascript": [
       "console.log(\"[120232][INFO][openvisuspy.backend_cpp:109:createBoxQuery] Guess resolution endh=26 original_box=([3541, 4854, 45], [5731, 6220, 46]) aligned_box=([3540, 4848, 40], [5728, 6216, 41]) delta=[4, 8, 8] num_pixels=[547, 171, 1] tot_pixels=93,537 max_pixels=97,984 end=26\");\n"
      ],
      "text/plain": [
       "<IPython.core.display.Javascript object>"
      ]
     },
     "metadata": {},
     "output_type": "display_data"
    },
    {
     "data": {
      "application/javascript": [
       "console.log(\"[120232][INFO][openvisuspy.backend_cpp:138:beginBoxQuery] beginBoxQuery timestep=2015 field=u logic_box=[[3520, 4800, 0], [5728, 6208, 1]] end_resolutions=[17, 20, 23, 26]\");\n"
      ],
      "text/plain": [
       "<IPython.core.display.Javascript object>"
      ]
     },
     "metadata": {},
     "output_type": "display_data"
    },
    {
     "data": {
      "application/javascript": [
       "console.log(\"[120232][INFO][openvisuspy.backend_cpp:76:printStatistics] Stats::printStatistics enlapsed=0.01900339126586914 seconds\");\n"
      ],
      "text/plain": [
       "<IPython.core.display.Javascript object>"
      ]
     },
     "metadata": {},
     "output_type": "display_data"
    },
    {
     "data": {
      "application/javascript": [
       "console.log(\"[120232][INFO][openvisuspy.backend_cpp:74:createBoxQuery] begin timestep=2015 field=u logic_box=[[3430.7840140293665, 4854.999278092468, 45], [5619.4528029307285, 6219.462139600431, 46]] num_refinements=4 max_pixels=97984 endh=34\");\n"
      ],
      "text/plain": [
       "<IPython.core.display.Javascript object>"
      ]
     },
     "metadata": {},
     "output_type": "display_data"
    },
    {
     "data": {
      "application/javascript": [
       "console.log(\"[120232][INFO][openvisuspy.slice:209:pushJobIfNeeded] pushing new job\");\n"
      ],
      "text/plain": [
       "<IPython.core.display.Javascript object>"
      ]
     },
     "metadata": {},
     "output_type": "display_data"
    },
    {
     "data": {
      "application/javascript": [
       "console.log(\"[120232][INFO][openvisuspy.backend_cpp:109:createBoxQuery] Guess resolution endh=26 original_box=([3430, 4854, 45], [5620, 6220, 46]) aligned_box=([3428, 4848, 40], [5620, 6216, 41]) delta=[4, 8, 8] num_pixels=[548, 171, 1] tot_pixels=93,708 max_pixels=97,984 end=26\");\n"
      ],
      "text/plain": [
       "<IPython.core.display.Javascript object>"
      ]
     },
     "metadata": {},
     "output_type": "display_data"
    },
    {
     "data": {
      "application/javascript": [
       "console.log(\"[120232][INFO][openvisuspy.backend_cpp:138:beginBoxQuery] beginBoxQuery timestep=2015 field=u logic_box=[[3424, 4800, 0], [5600, 6208, 1]] end_resolutions=[17, 20, 23, 26]\");\n"
      ],
      "text/plain": [
       "<IPython.core.display.Javascript object>"
      ]
     },
     "metadata": {},
     "output_type": "display_data"
    },
    {
     "data": {
      "application/javascript": [
       "console.log(\"[120232][INFO][openvisuspy.backend_cpp:76:printStatistics] Stats::printStatistics enlapsed=0.020996809005737305 seconds\");\n"
      ],
      "text/plain": [
       "<IPython.core.display.Javascript object>"
      ]
     },
     "metadata": {},
     "output_type": "display_data"
    },
    {
     "data": {
      "application/javascript": [
       "console.log(\"[120232][INFO][openvisuspy.backend_cpp:74:createBoxQuery] begin timestep=2015 field=u logic_box=[[3430.7840140293665, 4912.79420592798, 45], [5619.4528029307285, 6277.257067435944, 46]] num_refinements=4 max_pixels=97984 endh=34\");\n"
      ],
      "text/plain": [
       "<IPython.core.display.Javascript object>"
      ]
     },
     "metadata": {},
     "output_type": "display_data"
    },
    {
     "data": {
      "application/javascript": [
       "console.log(\"[120232][INFO][openvisuspy.backend_cpp:109:createBoxQuery] Guess resolution endh=26 original_box=([3430, 4912, 45], [5620, 6278, 46]) aligned_box=([3428, 4912, 40], [5620, 6272, 41]) delta=[4, 8, 8] num_pixels=[548, 170, 1] tot_pixels=93,160 max_pixels=97,984 end=26\");\n"
      ],
      "text/plain": [
       "<IPython.core.display.Javascript object>"
      ]
     },
     "metadata": {},
     "output_type": "display_data"
    },
    {
     "data": {
      "application/javascript": [
       "console.log(\"[120232][INFO][openvisuspy.slice:209:pushJobIfNeeded] pushing new job\");\n"
      ],
      "text/plain": [
       "<IPython.core.display.Javascript object>"
      ]
     },
     "metadata": {},
     "output_type": "display_data"
    },
    {
     "data": {
      "application/javascript": [
       "console.log(\"[120232][INFO][openvisuspy.backend_cpp:138:beginBoxQuery] beginBoxQuery timestep=2015 field=u logic_box=[[3424, 4864, 0], [5600, 6272, 1]] end_resolutions=[17, 20, 23, 26]\");\n"
      ],
      "text/plain": [
       "<IPython.core.display.Javascript object>"
      ]
     },
     "metadata": {},
     "output_type": "display_data"
    },
    {
     "data": {
      "application/javascript": [
       "console.log(\"[120232][INFO][openvisuspy.backend_cpp:76:printStatistics] Stats::printStatistics enlapsed=0.02105569839477539 seconds\");\n"
      ],
      "text/plain": [
       "<IPython.core.display.Javascript object>"
      ]
     },
     "metadata": {},
     "output_type": "display_data"
    },
    {
     "data": {
      "application/javascript": [
       "console.log(\"[120232][INFO][openvisuspy.backend_cpp:74:createBoxQuery] begin timestep=2015 field=u logic_box=[[3282.5274600165303, 4980.640425560973, 45], [5471.196248917892, 6345.103287068937, 46]] num_refinements=4 max_pixels=97984 endh=34\");\n"
      ],
      "text/plain": [
       "<IPython.core.display.Javascript object>"
      ]
     },
     "metadata": {},
     "output_type": "display_data"
    },
    {
     "data": {
      "application/javascript": [
       "console.log(\"[120232][INFO][openvisuspy.backend_cpp:109:createBoxQuery] Guess resolution endh=26 original_box=([3282, 4980, 45], [5472, 6346, 46]) aligned_box=([3280, 4976, 40], [5472, 6344, 41]) delta=[4, 8, 8] num_pixels=[548, 171, 1] tot_pixels=93,708 max_pixels=97,984 end=26\");\n"
      ],
      "text/plain": [
       "<IPython.core.display.Javascript object>"
      ]
     },
     "metadata": {},
     "output_type": "display_data"
    },
    {
     "data": {
      "application/javascript": [
       "console.log(\"[120232][INFO][openvisuspy.slice:209:pushJobIfNeeded] pushing new job\");\n"
      ],
      "text/plain": [
       "<IPython.core.display.Javascript object>"
      ]
     },
     "metadata": {},
     "output_type": "display_data"
    },
    {
     "data": {
      "application/javascript": [
       "console.log(\"[120232][INFO][openvisuspy.backend_cpp:138:beginBoxQuery] beginBoxQuery timestep=2015 field=u logic_box=[[3264, 4928, 0], [5472, 6336, 1]] end_resolutions=[17, 20, 23, 26]\");\n"
      ],
      "text/plain": [
       "<IPython.core.display.Javascript object>"
      ]
     },
     "metadata": {},
     "output_type": "display_data"
    },
    {
     "data": {
      "application/javascript": [
       "console.log(\"[120232][INFO][openvisuspy.backend_cpp:76:printStatistics] Stats::printStatistics enlapsed=0.021028995513916016 seconds\");\n"
      ],
      "text/plain": [
       "<IPython.core.display.Javascript object>"
      ]
     },
     "metadata": {},
     "output_type": "display_data"
    },
    {
     "data": {
      "application/javascript": [
       "console.log(\"[120232][INFO][openvisuspy.backend_cpp:74:createBoxQuery] begin timestep=2015 field=u logic_box=[[3119.193968307474, 5038.435353396486, 45], [5307.862757208835, 6402.89821490445, 46]] num_refinements=4 max_pixels=97984 endh=34\");\n"
      ],
      "text/plain": [
       "<IPython.core.display.Javascript object>"
      ]
     },
     "metadata": {},
     "output_type": "display_data"
    },
    {
     "data": {
      "application/javascript": [
       "console.log(\"[120232][INFO][openvisuspy.backend_cpp:109:createBoxQuery] Guess resolution endh=26 original_box=([3119, 5038, 45], [5308, 6403, 46]) aligned_box=([3116, 5032, 40], [5308, 6400, 41]) delta=[4, 8, 8] num_pixels=[548, 171, 1] tot_pixels=93,708 max_pixels=97,984 end=26\");\n"
      ],
      "text/plain": [
       "<IPython.core.display.Javascript object>"
      ]
     },
     "metadata": {},
     "output_type": "display_data"
    },
    {
     "data": {
      "application/javascript": [
       "console.log(\"[120232][INFO][openvisuspy.backend_cpp:138:beginBoxQuery] beginBoxQuery timestep=2015 field=u logic_box=[[3104, 4992, 0], [5280, 6400, 1]] end_resolutions=[17, 20, 23, 26]\");\n"
      ],
      "text/plain": [
       "<IPython.core.display.Javascript object>"
      ]
     },
     "metadata": {},
     "output_type": "display_data"
    },
    {
     "data": {
      "application/javascript": [
       "console.log(\"[120232][INFO][openvisuspy.backend_cpp:168:returnBoxQueryData] got data 0/[17, 20, 23, 26] timestep=2015 field=u H=17 data.shape=(22, 68) data.dtype=float32 logic_box=[[3104, 4992, 0], [5280, 6400, 1]] m=-1.0601310729980469 M=4.046962261199951 ms=20\");\n"
      ],
      "text/plain": [
       "<IPython.core.display.Javascript object>"
      ]
     },
     "metadata": {},
     "output_type": "display_data"
    },
    {
     "data": {
      "application/javascript": [
       "console.log(\"[120232][INFO][openvisuspy.slice:190:renderResultIfNeeded] Slice[6]::rendering result data.shape=(22, 68) data.dtype=float32 logic_box=[[3104, 4992, 0], [5280, 6400, 1]]\");\n"
      ],
      "text/plain": [
       "<IPython.core.display.Javascript object>"
      ]
     },
     "metadata": {},
     "output_type": "display_data"
    },
    {
     "data": {
      "application/javascript": [
       "console.log(\"[120232][INFO][openvisuspy.slice:209:pushJobIfNeeded] pushing new job\");\n"
      ],
      "text/plain": [
       "<IPython.core.display.Javascript object>"
      ]
     },
     "metadata": {},
     "output_type": "display_data"
    },
    {
     "data": {
      "application/javascript": [
       "console.log(\"[120232][INFO][openvisuspy.backend_cpp:76:printStatistics] Stats::printStatistics enlapsed=0.05005621910095215 seconds\");\n"
      ],
      "text/plain": [
       "<IPython.core.display.Javascript object>"
      ]
     },
     "metadata": {},
     "output_type": "display_data"
    },
    {
     "data": {
      "application/javascript": [
       "console.log(\"[120232][INFO][openvisuspy.backend_cpp:74:createBoxQuery] begin timestep=2015 field=u logic_box=[[3119.193968307474, 5043.4609992952255, 45], [5307.862757208835, 6407.923860803189, 46]] num_refinements=4 max_pixels=97984 endh=34\");\n"
      ],
      "text/plain": [
       "<IPython.core.display.Javascript object>"
      ]
     },
     "metadata": {},
     "output_type": "display_data"
    },
    {
     "data": {
      "application/javascript": [
       "console.log(\"[120232][INFO][openvisuspy.backend_cpp:109:createBoxQuery] Guess resolution endh=26 original_box=([3119, 5043, 45], [5308, 6408, 46]) aligned_box=([3116, 5040, 40], [5308, 6408, 41]) delta=[4, 8, 8] num_pixels=[548, 171, 1] tot_pixels=93,708 max_pixels=97,984 end=26\");\n"
      ],
      "text/plain": [
       "<IPython.core.display.Javascript object>"
      ]
     },
     "metadata": {},
     "output_type": "display_data"
    },
    {
     "data": {
      "application/javascript": [
       "console.log(\"[120232][INFO][openvisuspy.backend_cpp:138:beginBoxQuery] beginBoxQuery timestep=2015 field=u logic_box=[[3104, 4992, 0], [5280, 6400, 1]] end_resolutions=[17, 20, 23, 26]\");\n"
      ],
      "text/plain": [
       "<IPython.core.display.Javascript object>"
      ]
     },
     "metadata": {},
     "output_type": "display_data"
    },
    {
     "data": {
      "application/javascript": [
       "console.log(\"[120232][INFO][openvisuspy.backend_cpp:168:returnBoxQueryData] got data 0/[17, 20, 23, 26] timestep=2015 field=u H=17 data.shape=(22, 68) data.dtype=float32 logic_box=[[3104, 4992, 0], [5280, 6400, 1]] m=-1.0601310729980469 M=4.046962261199951 ms=20\");\n"
      ],
      "text/plain": [
       "<IPython.core.display.Javascript object>"
      ]
     },
     "metadata": {},
     "output_type": "display_data"
    },
    {
     "data": {
      "application/javascript": [
       "console.log(\"[120232][INFO][openvisuspy.backend_cpp:168:returnBoxQueryData] got data 1/[17, 20, 23, 26] timestep=2015 field=u H=20 data.shape=(44, 136) data.dtype=float32 logic_box=[[3104, 4992, 0], [5280, 6400, 1]] m=-1.0601310729980469 M=4.046962261199951 ms=44\");\n"
      ],
      "text/plain": [
       "<IPython.core.display.Javascript object>"
      ]
     },
     "metadata": {},
     "output_type": "display_data"
    },
    {
     "data": {
      "application/javascript": [
       "console.log(\"[120232][INFO][openvisuspy.slice:190:renderResultIfNeeded] Slice[6]::rendering result data.shape=(44, 136) data.dtype=float32 logic_box=[[3104, 4992, 0], [5280, 6400, 1]]\");\n"
      ],
      "text/plain": [
       "<IPython.core.display.Javascript object>"
      ]
     },
     "metadata": {},
     "output_type": "display_data"
    },
    {
     "data": {
      "application/javascript": [
       "console.log(\"[120232][INFO][openvisuspy.backend_cpp:168:returnBoxQueryData] got data 2/[17, 20, 23, 26] timestep=2015 field=u H=23 data.shape=(88, 272) data.dtype=float32 logic_box=[[3104, 4992, 0], [5280, 6400, 1]] m=-1.9000571966171265 M=4.046962261199951 ms=99\");\n"
      ],
      "text/plain": [
       "<IPython.core.display.Javascript object>"
      ]
     },
     "metadata": {},
     "output_type": "display_data"
    },
    {
     "data": {
      "application/javascript": [
       "console.log(\"[120232][INFO][openvisuspy.slice:190:renderResultIfNeeded] Slice[6]::rendering result data.shape=(88, 272) data.dtype=float32 logic_box=[[3104, 4992, 0], [5280, 6400, 1]]\");\n"
      ],
      "text/plain": [
       "<IPython.core.display.Javascript object>"
      ]
     },
     "metadata": {},
     "output_type": "display_data"
    },
    {
     "data": {
      "application/javascript": [
       "console.log(\"[120232][INFO][openvisuspy.backend_cpp:168:returnBoxQueryData] got data 3/[17, 20, 23, 26] timestep=2015 field=u H=26 data.shape=(176, 544) data.dtype=float32 logic_box=[[3104, 4992, 0], [5280, 6400, 1]] m=-2.491788864135742 M=4.046962261199951 ms=476\");\n"
      ],
      "text/plain": [
       "<IPython.core.display.Javascript object>"
      ]
     },
     "metadata": {},
     "output_type": "display_data"
    },
    {
     "data": {
      "application/javascript": [
       "console.log(\"[120232][INFO][openvisuspy.backend_cpp:76:printStatistics] Stats::printStatistics enlapsed=0.48960375785827637 seconds\");\n"
      ],
      "text/plain": [
       "<IPython.core.display.Javascript object>"
      ]
     },
     "metadata": {},
     "output_type": "display_data"
    },
    {
     "data": {
      "application/javascript": [
       "console.log(\"[120232][INFO][openvisuspy.slice:190:renderResultIfNeeded] Slice[6]::rendering result data.shape=(176, 544) data.dtype=float32 logic_box=[[3104, 4992, 0], [5280, 6400, 1]]\");\n"
      ],
      "text/plain": [
       "<IPython.core.display.Javascript object>"
      ]
     },
     "metadata": {},
     "output_type": "display_data"
    },
    {
     "data": {
      "application/javascript": [
       "console.log(\"[120232][INFO][openvisuspy.slice:209:pushJobIfNeeded] pushing new job\");\n"
      ],
      "text/plain": [
       "<IPython.core.display.Javascript object>"
      ]
     },
     "metadata": {},
     "output_type": "display_data"
    },
    {
     "data": {
      "application/javascript": [
       "console.log(\"[120232][INFO][openvisuspy.backend_cpp:74:createBoxQuery] begin timestep=2015 field=u logic_box=[[3567.1853660197844, 5262.705892262728, 45], [5087.094247201286, 6210.249546087703, 46]] num_refinements=4 max_pixels=97984 endh=34\");\n"
      ],
      "text/plain": [
       "<IPython.core.display.Javascript object>"
      ]
     },
     "metadata": {},
     "output_type": "display_data"
    },
    {
     "data": {
      "application/javascript": [
       "console.log(\"[120232][INFO][openvisuspy.backend_cpp:109:createBoxQuery] Guess resolution endh=28 original_box=([3567, 5262, 45], [5088, 6211, 46]) aligned_box=([3564, 5260, 44], [5088, 6208, 45]) delta=[4, 4, 4] num_pixels=[381, 237, 1] tot_pixels=90,297 max_pixels=97,984 end=28\");\n"
      ],
      "text/plain": [
       "<IPython.core.display.Javascript object>"
      ]
     },
     "metadata": {},
     "output_type": "display_data"
    },
    {
     "data": {
      "application/javascript": [
       "console.log(\"[120232][INFO][openvisuspy.backend_cpp:138:beginBoxQuery] beginBoxQuery timestep=2015 field=u logic_box=[[3552, 5248, 32], [5088, 6208, 33]] end_resolutions=[19, 22, 25, 28]\");\n"
      ],
      "text/plain": [
       "<IPython.core.display.Javascript object>"
      ]
     },
     "metadata": {},
     "output_type": "display_data"
    },
    {
     "data": {
      "application/javascript": [
       "console.log(\"[120232][INFO][openvisuspy.slice:209:pushJobIfNeeded] pushing new job\");\n"
      ],
      "text/plain": [
       "<IPython.core.display.Javascript object>"
      ]
     },
     "metadata": {},
     "output_type": "display_data"
    },
    {
     "data": {
      "application/javascript": [
       "console.log(\"[120232][INFO][openvisuspy.backend_cpp:76:printStatistics] Stats::printStatistics enlapsed=0.03336453437805176 seconds\");\n"
      ],
      "text/plain": [
       "<IPython.core.display.Javascript object>"
      ]
     },
     "metadata": {},
     "output_type": "display_data"
    },
    {
     "data": {
      "application/javascript": [
       "console.log(\"[120232][INFO][openvisuspy.backend_cpp:74:createBoxQuery] begin timestep=2015 field=u logic_box=[[3878.29050332, 5414.959290156827, 45], [4933.782781918266, 6072.97571642417, 46]] num_refinements=4 max_pixels=97984 endh=34\");\n"
      ],
      "text/plain": [
       "<IPython.core.display.Javascript object>"
      ]
     },
     "metadata": {},
     "output_type": "display_data"
    },
    {
     "data": {
      "application/javascript": [
       "console.log(\"[120232][INFO][openvisuspy.backend_cpp:109:createBoxQuery] Guess resolution endh=29 original_box=([3878, 5414, 45], [4934, 6073, 46]) aligned_box=([3878, 5412, 44], [4934, 6072, 45]) delta=[2, 4, 4] num_pixels=[528, 165, 1] tot_pixels=87,120 max_pixels=97,984 end=29\");\n"
      ],
      "text/plain": [
       "<IPython.core.display.Javascript object>"
      ]
     },
     "metadata": {},
     "output_type": "display_data"
    },
    {
     "data": {
      "application/javascript": [
       "console.log(\"[120232][INFO][openvisuspy.backend_cpp:138:beginBoxQuery] beginBoxQuery timestep=2015 field=u logic_box=[[3872, 5408, 32], [4928, 6048, 33]] end_resolutions=[20, 23, 26, 29]\");\n"
      ],
      "text/plain": [
       "<IPython.core.display.Javascript object>"
      ]
     },
     "metadata": {},
     "output_type": "display_data"
    },
    {
     "data": {
      "application/javascript": [
       "console.log(\"[120232][INFO][openvisuspy.backend_cpp:168:returnBoxQueryData] got data 0/[20, 23, 26, 29] timestep=2015 field=u H=20 data.shape=(20, 66) data.dtype=float32 logic_box=[[3872, 5408, 32], [4928, 6048, 33]] m=-0.35413146018981934 M=0.739615797996521 ms=22\");\n"
      ],
      "text/plain": [
       "<IPython.core.display.Javascript object>"
      ]
     },
     "metadata": {},
     "output_type": "display_data"
    },
    {
     "data": {
      "application/javascript": [
       "console.log(\"[120233][INFO][openvisuspy.slice:190:renderResultIfNeeded] Slice[6]::rendering result data.shape=(20, 66) data.dtype=float32 logic_box=[[3872, 5408, 32], [4928, 6048, 33]]\");\n"
      ],
      "text/plain": [
       "<IPython.core.display.Javascript object>"
      ]
     },
     "metadata": {},
     "output_type": "display_data"
    },
    {
     "data": {
      "application/javascript": [
       "console.log(\"[120233][INFO][openvisuspy.slice:209:pushJobIfNeeded] pushing new job\");\n"
      ],
      "text/plain": [
       "<IPython.core.display.Javascript object>"
      ]
     },
     "metadata": {},
     "output_type": "display_data"
    },
    {
     "data": {
      "application/javascript": [
       "console.log(\"[120233][INFO][openvisuspy.backend_cpp:76:printStatistics] Stats::printStatistics enlapsed=0.08719134330749512 seconds\");\n"
      ],
      "text/plain": [
       "<IPython.core.display.Javascript object>"
      ]
     },
     "metadata": {},
     "output_type": "display_data"
    },
    {
     "data": {
      "application/javascript": [
       "console.log(\"[120233][INFO][openvisuspy.backend_cpp:74:createBoxQuery] begin timestep=2015 field=u logic_box=[[3996.941236106601, 5472.83300122054, 45], [4876.518134938488, 6021.180023109992, 46]] num_refinements=4 max_pixels=97984 endh=34\");\n"
      ],
      "text/plain": [
       "<IPython.core.display.Javascript object>"
      ]
     },
     "metadata": {},
     "output_type": "display_data"
    },
    {
     "data": {
      "application/javascript": [
       "console.log(\"[120233][INFO][openvisuspy.backend_cpp:109:createBoxQuery] Guess resolution endh=29 original_box=([3996, 5472, 45], [4877, 6022, 46]) aligned_box=([3996, 5472, 44], [4876, 6020, 45]) delta=[2, 4, 4] num_pixels=[440, 137, 1] tot_pixels=60,280 max_pixels=97,984 end=29\");\n"
      ],
      "text/plain": [
       "<IPython.core.display.Javascript object>"
      ]
     },
     "metadata": {},
     "output_type": "display_data"
    },
    {
     "data": {
      "application/javascript": [
       "console.log(\"[120233][INFO][openvisuspy.backend_cpp:138:beginBoxQuery] beginBoxQuery timestep=2015 field=u logic_box=[[3984, 5472, 32], [4864, 6016, 33]] end_resolutions=[20, 23, 26, 29]\");\n"
      ],
      "text/plain": [
       "<IPython.core.display.Javascript object>"
      ]
     },
     "metadata": {},
     "output_type": "display_data"
    },
    {
     "data": {
      "application/javascript": [
       "console.log(\"[120233][INFO][openvisuspy.backend_cpp:168:returnBoxQueryData] got data 0/[20, 23, 26, 29] timestep=2015 field=u H=20 data.shape=(17, 55) data.dtype=float32 logic_box=[[3984, 5472, 32], [4864, 6016, 33]] m=-0.35413146018981934 M=0.2675641179084778 ms=22\");\n"
      ],
      "text/plain": [
       "<IPython.core.display.Javascript object>"
      ]
     },
     "metadata": {},
     "output_type": "display_data"
    },
    {
     "data": {
      "application/javascript": [
       "console.log(\"[120233][INFO][openvisuspy.slice:190:renderResultIfNeeded] Slice[6]::rendering result data.shape=(17, 55) data.dtype=float32 logic_box=[[3984, 5472, 32], [4864, 6016, 33]]\");\n"
      ],
      "text/plain": [
       "<IPython.core.display.Javascript object>"
      ]
     },
     "metadata": {},
     "output_type": "display_data"
    },
    {
     "data": {
      "application/javascript": [
       "console.log(\"[120233][INFO][openvisuspy.backend_cpp:168:returnBoxQueryData] got data 1/[20, 23, 26, 29] timestep=2015 field=u H=23 data.shape=(34, 110) data.dtype=float32 logic_box=[[3984, 5472, 32], [4864, 6016, 33]] m=-0.5957619547843933 M=0.2675641179084778 ms=78\");\n"
      ],
      "text/plain": [
       "<IPython.core.display.Javascript object>"
      ]
     },
     "metadata": {},
     "output_type": "display_data"
    },
    {
     "data": {
      "application/javascript": [
       "console.log(\"[120233][INFO][openvisuspy.slice:190:renderResultIfNeeded] Slice[6]::rendering result data.shape=(34, 110) data.dtype=float32 logic_box=[[3984, 5472, 32], [4864, 6016, 33]]\");\n"
      ],
      "text/plain": [
       "<IPython.core.display.Javascript object>"
      ]
     },
     "metadata": {},
     "output_type": "display_data"
    },
    {
     "data": {
      "application/javascript": [
       "console.log(\"[120233][INFO][openvisuspy.backend_cpp:168:returnBoxQueryData] got data 2/[20, 23, 26, 29] timestep=2015 field=u H=26 data.shape=(68, 220) data.dtype=float32 logic_box=[[3984, 5472, 32], [4864, 6016, 33]] m=-0.6824796795845032 M=0.38004204630851746 ms=206\");\n"
      ],
      "text/plain": [
       "<IPython.core.display.Javascript object>"
      ]
     },
     "metadata": {},
     "output_type": "display_data"
    },
    {
     "data": {
      "application/javascript": [
       "console.log(\"[120233][INFO][openvisuspy.slice:190:renderResultIfNeeded] Slice[6]::rendering result data.shape=(68, 220) data.dtype=float32 logic_box=[[3984, 5472, 32], [4864, 6016, 33]]\");\n"
      ],
      "text/plain": [
       "<IPython.core.display.Javascript object>"
      ]
     },
     "metadata": {},
     "output_type": "display_data"
    },
    {
     "data": {
      "application/javascript": [
       "console.log(\"[120233][INFO][openvisuspy.slice:209:pushJobIfNeeded] pushing new job\");\n"
      ],
      "text/plain": [
       "<IPython.core.display.Javascript object>"
      ]
     },
     "metadata": {},
     "output_type": "display_data"
    },
    {
     "data": {
      "application/javascript": [
       "console.log(\"[120233][INFO][openvisuspy.backend_cpp:76:printStatistics] Stats::printStatistics enlapsed=0.4946012496948242 seconds\");\n"
      ],
      "text/plain": [
       "<IPython.core.display.Javascript object>"
      ]
     },
     "metadata": {},
     "output_type": "display_data"
    },
    {
     "data": {
      "application/javascript": [
       "console.log(\"[120233][INFO][openvisuspy.backend_cpp:74:createBoxQuery] begin timestep=2015 field=u logic_box=[[3897.3923939939004, 5425.446447988946, 45], [4923.565442631102, 6065.184640193307, 46]] num_refinements=4 max_pixels=97984 endh=34\");\n"
      ],
      "text/plain": [
       "<IPython.core.display.Javascript object>"
      ]
     },
     "metadata": {},
     "output_type": "display_data"
    },
    {
     "data": {
      "application/javascript": [
       "console.log(\"[120233][INFO][openvisuspy.backend_cpp:109:createBoxQuery] Guess resolution endh=29 original_box=([3897, 5425, 45], [4924, 6066, 46]) aligned_box=([3896, 5424, 44], [4924, 6064, 45]) delta=[2, 4, 4] num_pixels=[514, 160, 1] tot_pixels=82,240 max_pixels=97,984 end=29\");\n"
      ],
      "text/plain": [
       "<IPython.core.display.Javascript object>"
      ]
     },
     "metadata": {},
     "output_type": "display_data"
    },
    {
     "data": {
      "application/javascript": [
       "console.log(\"[120233][INFO][openvisuspy.backend_cpp:138:beginBoxQuery] beginBoxQuery timestep=2015 field=u logic_box=[[3888, 5408, 32], [4912, 6048, 33]] end_resolutions=[20, 23, 26, 29]\");\n"
      ],
      "text/plain": [
       "<IPython.core.display.Javascript object>"
      ]
     },
     "metadata": {},
     "output_type": "display_data"
    },
    {
     "data": {
      "application/javascript": [
       "console.log(\"[120233][INFO][openvisuspy.slice:209:pushJobIfNeeded] pushing new job\");\n"
      ],
      "text/plain": [
       "<IPython.core.display.Javascript object>"
      ]
     },
     "metadata": {},
     "output_type": "display_data"
    },
    {
     "data": {
      "application/javascript": [
       "console.log(\"[120233][INFO][openvisuspy.backend_cpp:168:returnBoxQueryData] got data 0/[20, 23, 26, 29] timestep=2015 field=u H=20 data.shape=(20, 64) data.dtype=float32 logic_box=[[3888, 5408, 32], [4912, 6048, 33]] m=-0.35413146018981934 M=0.739615797996521 ms=22\");\n"
      ],
      "text/plain": [
       "<IPython.core.display.Javascript object>"
      ]
     },
     "metadata": {},
     "output_type": "display_data"
    },
    {
     "data": {
      "application/javascript": [
       "console.log(\"[120233][INFO][openvisuspy.backend_cpp:76:printStatistics] Stats::printStatistics enlapsed=0.037016868591308594 seconds\");\n"
      ],
      "text/plain": [
       "<IPython.core.display.Javascript object>"
      ]
     },
     "metadata": {},
     "output_type": "display_data"
    },
    {
     "data": {
      "application/javascript": [
       "console.log(\"[120233][INFO][openvisuspy.backend_cpp:74:createBoxQuery] begin timestep=2015 field=u logic_box=[[3781.25207819575, 5370.358495060436, 45], [4978.453968272485, 6116.719719298858, 46]] num_refinements=4 max_pixels=97984 endh=34\");\n"
      ],
      "text/plain": [
       "<IPython.core.display.Javascript object>"
      ]
     },
     "metadata": {},
     "output_type": "display_data"
    },
    {
     "data": {
      "application/javascript": [
       "console.log(\"[120233][INFO][openvisuspy.backend_cpp:109:createBoxQuery] Guess resolution endh=28 original_box=([3781, 5370, 45], [4979, 6117, 46]) aligned_box=([3780, 5368, 44], [4976, 6116, 45]) delta=[4, 4, 4] num_pixels=[299, 187, 1] tot_pixels=55,913 max_pixels=97,984 end=28\");\n"
      ],
      "text/plain": [
       "<IPython.core.display.Javascript object>"
      ]
     },
     "metadata": {},
     "output_type": "display_data"
    },
    {
     "data": {
      "application/javascript": [
       "console.log(\"[120233][INFO][openvisuspy.backend_cpp:138:beginBoxQuery] beginBoxQuery timestep=2015 field=u logic_box=[[3776, 5344, 32], [4960, 6112, 33]] end_resolutions=[19, 22, 25, 28]\");\n"
      ],
      "text/plain": [
       "<IPython.core.display.Javascript object>"
      ]
     },
     "metadata": {},
     "output_type": "display_data"
    },
    {
     "data": {
      "application/javascript": [
       "console.log(\"[120233][INFO][openvisuspy.backend_cpp:168:returnBoxQueryData] got data 0/[19, 22, 25, 28] timestep=2015 field=u H=19 data.shape=(24, 37) data.dtype=float32 logic_box=[[3776, 5344, 32], [4960, 6112, 33]] m=-0.49019381403923035 M=0.2675641179084778 ms=20\");\n"
      ],
      "text/plain": [
       "<IPython.core.display.Javascript object>"
      ]
     },
     "metadata": {},
     "output_type": "display_data"
    },
    {
     "data": {
      "application/javascript": [
       "console.log(\"[120233][INFO][openvisuspy.slice:190:renderResultIfNeeded] Slice[6]::rendering result data.shape=(24, 37) data.dtype=float32 logic_box=[[3776, 5344, 32], [4960, 6112, 33]]\");\n"
      ],
      "text/plain": [
       "<IPython.core.display.Javascript object>"
      ]
     },
     "metadata": {},
     "output_type": "display_data"
    },
    {
     "data": {
      "application/javascript": [
       "console.log(\"[120233][INFO][openvisuspy.slice:209:pushJobIfNeeded] pushing new job\");\n"
      ],
      "text/plain": [
       "<IPython.core.display.Javascript object>"
      ]
     },
     "metadata": {},
     "output_type": "display_data"
    },
    {
     "data": {
      "application/javascript": [
       "console.log(\"[120233][INFO][openvisuspy.backend_cpp:76:printStatistics] Stats::printStatistics enlapsed=0.05200338363647461 seconds\");\n"
      ],
      "text/plain": [
       "<IPython.core.display.Javascript object>"
      ]
     },
     "metadata": {},
     "output_type": "display_data"
    },
    {
     "data": {
      "application/javascript": [
       "console.log(\"[120233][INFO][openvisuspy.backend_cpp:74:createBoxQuery] begin timestep=2015 field=u logic_box=[[3645.2968716895352, 5306.318302348028, 45], [5042.032410112393, 6177.07306395952, 46]] num_refinements=4 max_pixels=97984 endh=34\");\n"
      ],
      "text/plain": [
       "<IPython.core.display.Javascript object>"
      ]
     },
     "metadata": {},
     "output_type": "display_data"
    },
    {
     "data": {
      "application/javascript": [
       "console.log(\"[120233][INFO][openvisuspy.backend_cpp:109:createBoxQuery] Guess resolution endh=28 original_box=([3645, 5306, 45], [5043, 6178, 46]) aligned_box=([3644, 5304, 44], [5040, 6176, 45]) delta=[4, 4, 4] num_pixels=[349, 218, 1] tot_pixels=76,082 max_pixels=97,984 end=28\");\n"
      ],
      "text/plain": [
       "<IPython.core.display.Javascript object>"
      ]
     },
     "metadata": {},
     "output_type": "display_data"
    },
    {
     "data": {
      "application/javascript": [
       "console.log(\"[120233][INFO][openvisuspy.backend_cpp:138:beginBoxQuery] beginBoxQuery timestep=2015 field=u logic_box=[[3616, 5280, 32], [5024, 6176, 33]] end_resolutions=[19, 22, 25, 28]\");\n"
      ],
      "text/plain": [
       "<IPython.core.display.Javascript object>"
      ]
     },
     "metadata": {},
     "output_type": "display_data"
    },
    {
     "data": {
      "application/javascript": [
       "console.log(\"[120233][INFO][openvisuspy.backend_cpp:168:returnBoxQueryData] got data 0/[19, 22, 25, 28] timestep=2015 field=u H=19 data.shape=(28, 44) data.dtype=float32 logic_box=[[3616, 5280, 32], [5024, 6176, 33]] m=-0.49019381403923035 M=0.2675641179084778 ms=21\");\n"
      ],
      "text/plain": [
       "<IPython.core.display.Javascript object>"
      ]
     },
     "metadata": {},
     "output_type": "display_data"
    },
    {
     "data": {
      "application/javascript": [
       "console.log(\"[120233][INFO][openvisuspy.backend_cpp:168:returnBoxQueryData] got data 1/[19, 22, 25, 28] timestep=2015 field=u H=22 data.shape=(56, 88) data.dtype=float32 logic_box=[[3616, 5280, 32], [5024, 6176, 33]] m=-0.5957619547843933 M=0.7902184724807739 ms=55\");\n"
      ],
      "text/plain": [
       "<IPython.core.display.Javascript object>"
      ]
     },
     "metadata": {},
     "output_type": "display_data"
    },
    {
     "data": {
      "application/javascript": [
       "console.log(\"[120233][INFO][openvisuspy.slice:190:renderResultIfNeeded] Slice[6]::rendering result data.shape=(56, 88) data.dtype=float32 logic_box=[[3616, 5280, 32], [5024, 6176, 33]]\");\n"
      ],
      "text/plain": [
       "<IPython.core.display.Javascript object>"
      ]
     },
     "metadata": {},
     "output_type": "display_data"
    },
    {
     "data": {
      "application/javascript": [
       "console.log(\"[120233][INFO][openvisuspy.backend_cpp:168:returnBoxQueryData] got data 2/[19, 22, 25, 28] timestep=2015 field=u H=25 data.shape=(112, 176) data.dtype=float32 logic_box=[[3616, 5280, 32], [5024, 6176, 33]] m=-0.6668294668197632 M=0.7902184724807739 ms=133\");\n"
      ],
      "text/plain": [
       "<IPython.core.display.Javascript object>"
      ]
     },
     "metadata": {},
     "output_type": "display_data"
    },
    {
     "data": {
      "application/javascript": [
       "console.log(\"[120233][INFO][openvisuspy.slice:190:renderResultIfNeeded] Slice[6]::rendering result data.shape=(112, 176) data.dtype=float32 logic_box=[[3616, 5280, 32], [5024, 6176, 33]]\");\n"
      ],
      "text/plain": [
       "<IPython.core.display.Javascript object>"
      ]
     },
     "metadata": {},
     "output_type": "display_data"
    },
    {
     "data": {
      "application/javascript": [
       "console.log(\"[120233][INFO][openvisuspy.slice:209:pushJobIfNeeded] pushing new job\");\n"
      ],
      "text/plain": [
       "<IPython.core.display.Javascript object>"
      ]
     },
     "metadata": {},
     "output_type": "display_data"
    },
    {
     "data": {
      "application/javascript": [
       "console.log(\"[120233][INFO][openvisuspy.backend_cpp:76:printStatistics] Stats::printStatistics enlapsed=0.34330081939697266 seconds\");\n"
      ],
      "text/plain": [
       "<IPython.core.display.Javascript object>"
      ]
     },
     "metadata": {},
     "output_type": "display_data"
    },
    {
     "data": {
      "application/javascript": [
       "console.log(\"[120233][INFO][openvisuspy.backend_cpp:74:createBoxQuery] begin timestep=2015 field=u logic_box=[[3485.8806641342994, 5233.208344112854, 45], [5115.405458960968, 6249.088899326262, 46]] num_refinements=4 max_pixels=97984 endh=34\");\n"
      ],
      "text/plain": [
       "<IPython.core.display.Javascript object>"
      ]
     },
     "metadata": {},
     "output_type": "display_data"
    },
    {
     "data": {
      "application/javascript": [
       "console.log(\"[120233][INFO][openvisuspy.backend_cpp:109:createBoxQuery] Guess resolution endh=26 original_box=([3485, 5233, 45], [5116, 6250, 46]) aligned_box=([3484, 5232, 40], [5116, 6248, 41]) delta=[4, 8, 8] num_pixels=[408, 127, 1] tot_pixels=51,816 max_pixels=97,984 end=26\");\n"
      ],
      "text/plain": [
       "<IPython.core.display.Javascript object>"
      ]
     },
     "metadata": {},
     "output_type": "display_data"
    },
    {
     "data": {
      "application/javascript": [
       "console.log(\"[120233][INFO][openvisuspy.backend_cpp:138:beginBoxQuery] beginBoxQuery timestep=2015 field=u logic_box=[[3456, 5184, 0], [5088, 6208, 1]] end_resolutions=[17, 20, 23, 26]\");\n"
      ],
      "text/plain": [
       "<IPython.core.display.Javascript object>"
      ]
     },
     "metadata": {},
     "output_type": "display_data"
    },
    {
     "data": {
      "application/javascript": [
       "console.log(\"[120234][INFO][openvisuspy.slice:209:pushJobIfNeeded] pushing new job\");\n"
      ],
      "text/plain": [
       "<IPython.core.display.Javascript object>"
      ]
     },
     "metadata": {},
     "output_type": "display_data"
    },
    {
     "data": {
      "application/javascript": [
       "console.log(\"[120234][INFO][openvisuspy.backend_cpp:76:printStatistics] Stats::printStatistics enlapsed=0.026823043823242188 seconds\");\n"
      ],
      "text/plain": [
       "<IPython.core.display.Javascript object>"
      ]
     },
     "metadata": {},
     "output_type": "display_data"
    },
    {
     "data": {
      "application/javascript": [
       "console.log(\"[120234][INFO][openvisuspy.backend_cpp:74:createBoxQuery] begin timestep=2015 field=u logic_box=[[3299.271466458463, 5233.208344112854, 45], [5200.383727089576, 6249.088899326262, 46]] num_refinements=4 max_pixels=97984 endh=34\");\n"
      ],
      "text/plain": [
       "<IPython.core.display.Javascript object>"
      ]
     },
     "metadata": {},
     "output_type": "display_data"
    },
    {
     "data": {
      "application/javascript": [
       "console.log(\"[120234][INFO][openvisuspy.backend_cpp:109:createBoxQuery] Guess resolution endh=26 original_box=([3299, 5233, 45], [5201, 6250, 46]) aligned_box=([3296, 5232, 40], [5200, 6248, 41]) delta=[4, 8, 8] num_pixels=[476, 127, 1] tot_pixels=60,452 max_pixels=97,984 end=26\");\n"
      ],
      "text/plain": [
       "<IPython.core.display.Javascript object>"
      ]
     },
     "metadata": {},
     "output_type": "display_data"
    },
    {
     "data": {
      "application/javascript": [
       "console.log(\"[120234][INFO][openvisuspy.backend_cpp:138:beginBoxQuery] beginBoxQuery timestep=2015 field=u logic_box=[[3296, 5184, 0], [5184, 6208, 1]] end_resolutions=[17, 20, 23, 26]\");\n"
      ],
      "text/plain": [
       "<IPython.core.display.Javascript object>"
      ]
     },
     "metadata": {},
     "output_type": "display_data"
    },
    {
     "data": {
      "application/javascript": [
       "console.log(\"[120234][INFO][openvisuspy.slice:209:pushJobIfNeeded] pushing new job\");\n"
      ],
      "text/plain": [
       "<IPython.core.display.Javascript object>"
      ]
     },
     "metadata": {},
     "output_type": "display_data"
    },
    {
     "data": {
      "application/javascript": [
       "console.log(\"[120234][INFO][openvisuspy.backend_cpp:76:printStatistics] Stats::printStatistics enlapsed=0.028095006942749023 seconds\");\n"
      ],
      "text/plain": [
       "<IPython.core.display.Javascript object>"
      ]
     },
     "metadata": {},
     "output_type": "display_data"
    },
    {
     "data": {
      "application/javascript": [
       "console.log(\"[120234][INFO][openvisuspy.backend_cpp:74:createBoxQuery] begin timestep=2015 field=u logic_box=[[3299.271466458463, 5148.537015033215, 45], [5200.383727089576, 6333.730996115523, 46]] num_refinements=4 max_pixels=97984 endh=34\");\n"
      ],
      "text/plain": [
       "<IPython.core.display.Javascript object>"
      ]
     },
     "metadata": {},
     "output_type": "display_data"
    },
    {
     "data": {
      "application/javascript": [
       "console.log(\"[120234][INFO][openvisuspy.backend_cpp:109:createBoxQuery] Guess resolution endh=26 original_box=([3299, 5148, 45], [5201, 6334, 46]) aligned_box=([3296, 5144, 40], [5200, 6328, 41]) delta=[4, 8, 8] num_pixels=[476, 148, 1] tot_pixels=70,448 max_pixels=97,984 end=26\");\n"
      ],
      "text/plain": [
       "<IPython.core.display.Javascript object>"
      ]
     },
     "metadata": {},
     "output_type": "display_data"
    },
    {
     "data": {
      "application/javascript": [
       "console.log(\"[120234][INFO][openvisuspy.backend_cpp:138:beginBoxQuery] beginBoxQuery timestep=2015 field=u logic_box=[[3296, 5120, 0], [5184, 6272, 1]] end_resolutions=[17, 20, 23, 26]\");\n"
      ],
      "text/plain": [
       "<IPython.core.display.Javascript object>"
      ]
     },
     "metadata": {},
     "output_type": "display_data"
    },
    {
     "data": {
      "application/javascript": [
       "console.log(\"[120234][INFO][openvisuspy.backend_cpp:168:returnBoxQueryData] got data 0/[17, 20, 23, 26] timestep=2015 field=u H=17 data.shape=(18, 59) data.dtype=float32 logic_box=[[3296, 5120, 0], [5184, 6272, 1]] m=-0.7854130268096924 M=4.046962261199951 ms=19\");\n"
      ],
      "text/plain": [
       "<IPython.core.display.Javascript object>"
      ]
     },
     "metadata": {},
     "output_type": "display_data"
    },
    {
     "data": {
      "application/javascript": [
       "console.log(\"[120234][INFO][openvisuspy.slice:190:renderResultIfNeeded] Slice[6]::rendering result data.shape=(18, 59) data.dtype=float32 logic_box=[[3296, 5120, 0], [5184, 6272, 1]]\");\n"
      ],
      "text/plain": [
       "<IPython.core.display.Javascript object>"
      ]
     },
     "metadata": {},
     "output_type": "display_data"
    },
    {
     "data": {
      "application/javascript": [
       "console.log(\"[120234][INFO][openvisuspy.backend_cpp:168:returnBoxQueryData] got data 1/[17, 20, 23, 26] timestep=2015 field=u H=20 data.shape=(36, 118) data.dtype=float32 logic_box=[[3296, 5120, 0], [5184, 6272, 1]] m=-0.7926248908042908 M=4.046962261199951 ms=41\");\n"
      ],
      "text/plain": [
       "<IPython.core.display.Javascript object>"
      ]
     },
     "metadata": {},
     "output_type": "display_data"
    },
    {
     "data": {
      "application/javascript": [
       "console.log(\"[120234][INFO][openvisuspy.slice:190:renderResultIfNeeded] Slice[6]::rendering result data.shape=(36, 118) data.dtype=float32 logic_box=[[3296, 5120, 0], [5184, 6272, 1]]\");\n"
      ],
      "text/plain": [
       "<IPython.core.display.Javascript object>"
      ]
     },
     "metadata": {},
     "output_type": "display_data"
    },
    {
     "data": {
      "application/javascript": [
       "console.log(\"[120234][INFO][openvisuspy.backend_cpp:168:returnBoxQueryData] got data 2/[17, 20, 23, 26] timestep=2015 field=u H=23 data.shape=(72, 236) data.dtype=float32 logic_box=[[3296, 5120, 0], [5184, 6272, 1]] m=-1.9000571966171265 M=4.046962261199951 ms=92\");\n"
      ],
      "text/plain": [
       "<IPython.core.display.Javascript object>"
      ]
     },
     "metadata": {},
     "output_type": "display_data"
    },
    {
     "data": {
      "application/javascript": [
       "console.log(\"[120234][INFO][openvisuspy.slice:190:renderResultIfNeeded] Slice[6]::rendering result data.shape=(72, 236) data.dtype=float32 logic_box=[[3296, 5120, 0], [5184, 6272, 1]]\");\n"
      ],
      "text/plain": [
       "<IPython.core.display.Javascript object>"
      ]
     },
     "metadata": {},
     "output_type": "display_data"
    },
    {
     "data": {
      "application/javascript": [
       "console.log(\"[120234][INFO][openvisuspy.backend_cpp:168:returnBoxQueryData] got data 3/[17, 20, 23, 26] timestep=2015 field=u H=26 data.shape=(144, 472) data.dtype=float32 logic_box=[[3296, 5120, 0], [5184, 6272, 1]] m=-2.491788864135742 M=4.046962261199951 ms=187\");\n"
      ],
      "text/plain": [
       "<IPython.core.display.Javascript object>"
      ]
     },
     "metadata": {},
     "output_type": "display_data"
    },
    {
     "data": {
      "application/javascript": [
       "console.log(\"[120234][INFO][openvisuspy.backend_cpp:76:printStatistics] Stats::printStatistics enlapsed=0.20048236846923828 seconds\");\n"
      ],
      "text/plain": [
       "<IPython.core.display.Javascript object>"
      ]
     },
     "metadata": {},
     "output_type": "display_data"
    },
    {
     "data": {
      "application/javascript": [
       "console.log(\"[120234][INFO][openvisuspy.slice:190:renderResultIfNeeded] Slice[6]::rendering result data.shape=(144, 472) data.dtype=float32 logic_box=[[3296, 5120, 0], [5184, 6272, 1]]\");\n"
      ],
      "text/plain": [
       "<IPython.core.display.Javascript object>"
      ]
     },
     "metadata": {},
     "output_type": "display_data"
    },
    {
     "data": {
      "application/javascript": [
       "console.log(\"[120236][INFO][openvisuspy.slice:209:pushJobIfNeeded] pushing new job\");\n"
      ],
      "text/plain": [
       "<IPython.core.display.Javascript object>"
      ]
     },
     "metadata": {},
     "output_type": "display_data"
    },
    {
     "data": {
      "application/javascript": [
       "console.log(\"[120236][INFO][openvisuspy.backend_cpp:74:createBoxQuery] begin timestep=2015 field=u logic_box=[[3612.656235454934, 5250.23046920153, 45], [5196.916452647528, 6237.892120103454, 46]] num_refinements=4 max_pixels=97984 endh=34\");\n"
      ],
      "text/plain": [
       "<IPython.core.display.Javascript object>"
      ]
     },
     "metadata": {},
     "output_type": "display_data"
    },
    {
     "data": {
      "application/javascript": [
       "console.log(\"[120236][INFO][openvisuspy.backend_cpp:109:createBoxQuery] Guess resolution endh=28 original_box=([3612, 5250, 45], [5197, 6238, 46]) aligned_box=([3612, 5248, 44], [5196, 6236, 45]) delta=[4, 4, 4] num_pixels=[396, 247, 1] tot_pixels=97,812 max_pixels=97,984 end=28\");\n"
      ],
      "text/plain": [
       "<IPython.core.display.Javascript object>"
      ]
     },
     "metadata": {},
     "output_type": "display_data"
    },
    {
     "data": {
      "application/javascript": [
       "console.log(\"[120236][INFO][openvisuspy.backend_cpp:138:beginBoxQuery] beginBoxQuery timestep=2015 field=u logic_box=[[3584, 5248, 32], [5184, 6208, 33]] end_resolutions=[19, 22, 25, 28]\");\n"
      ],
      "text/plain": [
       "<IPython.core.display.Javascript object>"
      ]
     },
     "metadata": {},
     "output_type": "display_data"
    },
    {
     "data": {
      "application/javascript": [
       "console.log(\"[120236][INFO][openvisuspy.backend_cpp:168:returnBoxQueryData] got data 0/[19, 22, 25, 28] timestep=2015 field=u H=19 data.shape=(30, 50) data.dtype=float32 logic_box=[[3584, 5248, 32], [5184, 6208, 33]] m=-0.49019381403923035 M=0.2917725741863251 ms=19\");\n"
      ],
      "text/plain": [
       "<IPython.core.display.Javascript object>"
      ]
     },
     "metadata": {},
     "output_type": "display_data"
    },
    {
     "data": {
      "application/javascript": [
       "console.log(\"[120236][INFO][openvisuspy.slice:190:renderResultIfNeeded] Slice[6]::rendering result data.shape=(30, 50) data.dtype=float32 logic_box=[[3584, 5248, 32], [5184, 6208, 33]]\");\n"
      ],
      "text/plain": [
       "<IPython.core.display.Javascript object>"
      ]
     },
     "metadata": {},
     "output_type": "display_data"
    },
    {
     "data": {
      "application/javascript": [
       "console.log(\"[120236][INFO][openvisuspy.slice:209:pushJobIfNeeded] pushing new job\");\n"
      ],
      "text/plain": [
       "<IPython.core.display.Javascript object>"
      ]
     },
     "metadata": {},
     "output_type": "display_data"
    },
    {
     "data": {
      "application/javascript": [
       "console.log(\"[120236][INFO][openvisuspy.backend_cpp:76:printStatistics] Stats::printStatistics enlapsed=0.06196308135986328 seconds\");\n"
      ],
      "text/plain": [
       "<IPython.core.display.Javascript object>"
      ]
     },
     "metadata": {},
     "output_type": "display_data"
    },
    {
     "data": {
      "application/javascript": [
       "console.log(\"[120236][INFO][openvisuspy.backend_cpp:139:_threadLoop] _threadLoop is Alive\");\n"
      ],
      "text/plain": [
       "<IPython.core.display.Javascript object>"
      ]
     },
     "metadata": {},
     "output_type": "display_data"
    },
    {
     "data": {
      "application/javascript": [
       "console.log(\"[120236][INFO][openvisuspy.backend_cpp:74:createBoxQuery] begin timestep=2015 field=u logic_box=[[3873.810209618661, 5334.975014341792, 45], [5194.027057279155, 6158.026390093395, 46]] num_refinements=4 max_pixels=97984 endh=34\");\n"
      ],
      "text/plain": [
       "<IPython.core.display.Javascript object>"
      ]
     },
     "metadata": {},
     "output_type": "display_data"
    },
    {
     "data": {
      "application/javascript": [
       "console.log(\"[120236][INFO][openvisuspy.backend_cpp:109:createBoxQuery] Guess resolution endh=28 original_box=([3873, 5334, 45], [5195, 6159, 46]) aligned_box=([3872, 5332, 44], [5192, 6156, 45]) delta=[4, 4, 4] num_pixels=[330, 206, 1] tot_pixels=67,980 max_pixels=97,984 end=28\");\n"
      ],
      "text/plain": [
       "<IPython.core.display.Javascript object>"
      ]
     },
     "metadata": {},
     "output_type": "display_data"
    },
    {
     "data": {
      "application/javascript": [
       "console.log(\"[120236][INFO][openvisuspy.backend_cpp:138:beginBoxQuery] beginBoxQuery timestep=2015 field=u logic_box=[[3872, 5312, 32], [5184, 6144, 33]] end_resolutions=[19, 22, 25, 28]\");\n"
      ],
      "text/plain": [
       "<IPython.core.display.Javascript object>"
      ]
     },
     "metadata": {},
     "output_type": "display_data"
    },
    {
     "data": {
      "application/javascript": [
       "console.log(\"[120236][INFO][openvisuspy.backend_cpp:168:returnBoxQueryData] got data 0/[19, 22, 25, 28] timestep=2015 field=u H=19 data.shape=(26, 41) data.dtype=float32 logic_box=[[3872, 5312, 32], [5184, 6144, 33]] m=-0.49019381403923035 M=0.2917725741863251 ms=19\");\n"
      ],
      "text/plain": [
       "<IPython.core.display.Javascript object>"
      ]
     },
     "metadata": {},
     "output_type": "display_data"
    },
    {
     "data": {
      "application/javascript": [
       "console.log(\"[120236][INFO][openvisuspy.slice:190:renderResultIfNeeded] Slice[6]::rendering result data.shape=(26, 41) data.dtype=float32 logic_box=[[3872, 5312, 32], [5184, 6144, 33]]\");\n"
      ],
      "text/plain": [
       "<IPython.core.display.Javascript object>"
      ]
     },
     "metadata": {},
     "output_type": "display_data"
    },
    {
     "data": {
      "application/javascript": [
       "console.log(\"[120236][INFO][openvisuspy.slice:209:pushJobIfNeeded] pushing new job\");\n"
      ],
      "text/plain": [
       "<IPython.core.display.Javascript object>"
      ]
     },
     "metadata": {},
     "output_type": "display_data"
    },
    {
     "data": {
      "application/javascript": [
       "console.log(\"[120236][INFO][openvisuspy.backend_cpp:76:printStatistics] Stats::printStatistics enlapsed=0.059859514236450195 seconds\");\n"
      ],
      "text/plain": [
       "<IPython.core.display.Javascript object>"
      ]
     },
     "metadata": {},
     "output_type": "display_data"
    },
    {
     "data": {
      "application/javascript": [
       "console.log(\"[120236][INFO][openvisuspy.backend_cpp:74:createBoxQuery] begin timestep=2015 field=u logic_box=[[4091.438521421766, 5405.848093357005, 45], [5191.619227805511, 6091.7242398166745, 46]] num_refinements=4 max_pixels=97984 endh=34\");\n"
      ],
      "text/plain": [
       "<IPython.core.display.Javascript object>"
      ]
     },
     "metadata": {},
     "output_type": "display_data"
    },
    {
     "data": {
      "application/javascript": [
       "console.log(\"[120236][INFO][openvisuspy.backend_cpp:109:createBoxQuery] Guess resolution endh=29 original_box=([4091, 5405, 45], [5192, 6092, 46]) aligned_box=([4090, 5404, 44], [5192, 6092, 45]) delta=[2, 4, 4] num_pixels=[551, 172, 1] tot_pixels=94,772 max_pixels=97,984 end=29\");\n"
      ],
      "text/plain": [
       "<IPython.core.display.Javascript object>"
      ]
     },
     "metadata": {},
     "output_type": "display_data"
    },
    {
     "data": {
      "application/javascript": [
       "console.log(\"[120236][INFO][openvisuspy.backend_cpp:138:beginBoxQuery] beginBoxQuery timestep=2015 field=u logic_box=[[4080, 5376, 32], [5184, 6080, 33]] end_resolutions=[20, 23, 26, 29]\");\n"
      ],
      "text/plain": [
       "<IPython.core.display.Javascript object>"
      ]
     },
     "metadata": {},
     "output_type": "display_data"
    },
    {
     "data": {
      "application/javascript": [
       "console.log(\"[120236][INFO][openvisuspy.backend_cpp:168:returnBoxQueryData] got data 0/[20, 23, 26, 29] timestep=2015 field=u H=20 data.shape=(22, 69) data.dtype=float32 logic_box=[[4080, 5376, 32], [5184, 6080, 33]] m=-0.5234313607215881 M=0.739615797996521 ms=20\");\n"
      ],
      "text/plain": [
       "<IPython.core.display.Javascript object>"
      ]
     },
     "metadata": {},
     "output_type": "display_data"
    },
    {
     "data": {
      "application/javascript": [
       "console.log(\"[120236][INFO][openvisuspy.slice:190:renderResultIfNeeded] Slice[6]::rendering result data.shape=(22, 69) data.dtype=float32 logic_box=[[4080, 5376, 32], [5184, 6080, 33]]\");\n"
      ],
      "text/plain": [
       "<IPython.core.display.Javascript object>"
      ]
     },
     "metadata": {},
     "output_type": "display_data"
    },
    {
     "data": {
      "application/javascript": [
       "console.log(\"[120236][INFO][openvisuspy.backend_cpp:168:returnBoxQueryData] got data 1/[20, 23, 26, 29] timestep=2015 field=u H=23 data.shape=(44, 138) data.dtype=float32 logic_box=[[4080, 5376, 32], [5184, 6080, 33]] m=-0.5957619547843933 M=0.7902184724807739 ms=72\");\n"
      ],
      "text/plain": [
       "<IPython.core.display.Javascript object>"
      ]
     },
     "metadata": {},
     "output_type": "display_data"
    },
    {
     "data": {
      "application/javascript": [
       "console.log(\"[120236][INFO][openvisuspy.slice:190:renderResultIfNeeded] Slice[6]::rendering result data.shape=(44, 138) data.dtype=float32 logic_box=[[4080, 5376, 32], [5184, 6080, 33]]\");\n"
      ],
      "text/plain": [
       "<IPython.core.display.Javascript object>"
      ]
     },
     "metadata": {},
     "output_type": "display_data"
    },
    {
     "data": {
      "application/javascript": [
       "console.log(\"[120236][INFO][openvisuspy.backend_cpp:168:returnBoxQueryData] got data 2/[20, 23, 26, 29] timestep=2015 field=u H=26 data.shape=(88, 276) data.dtype=float32 logic_box=[[4080, 5376, 32], [5184, 6080, 33]] m=-0.7536529302597046 M=0.9808372855186462 ms=174\");\n"
      ],
      "text/plain": [
       "<IPython.core.display.Javascript object>"
      ]
     },
     "metadata": {},
     "output_type": "display_data"
    },
    {
     "data": {
      "application/javascript": [
       "console.log(\"[120236][INFO][openvisuspy.slice:190:renderResultIfNeeded] Slice[6]::rendering result data.shape=(88, 276) data.dtype=float32 logic_box=[[4080, 5376, 32], [5184, 6080, 33]]\");\n"
      ],
      "text/plain": [
       "<IPython.core.display.Javascript object>"
      ]
     },
     "metadata": {},
     "output_type": "display_data"
    },
    {
     "data": {
      "application/javascript": [
       "console.log(\"[120238][INFO][openvisuspy.backend_cpp:168:returnBoxQueryData] got data 3/[20, 23, 26, 29] timestep=2015 field=u H=29 data.shape=(176, 552) data.dtype=float32 logic_box=[[4080, 5376, 32], [5184, 6080, 33]] m=-0.9453670382499695 M=1.4790756702423096 ms=2077\");\n"
      ],
      "text/plain": [
       "<IPython.core.display.Javascript object>"
      ]
     },
     "metadata": {},
     "output_type": "display_data"
    },
    {
     "data": {
      "application/javascript": [
       "console.log(\"[120238][INFO][openvisuspy.backend_cpp:76:printStatistics] Stats::printStatistics enlapsed=2.0891902446746826 seconds\");\n"
      ],
      "text/plain": [
       "<IPython.core.display.Javascript object>"
      ]
     },
     "metadata": {},
     "output_type": "display_data"
    },
    {
     "data": {
      "application/javascript": [
       "console.log(\"[120238][INFO][openvisuspy.slice:190:renderResultIfNeeded] Slice[6]::rendering result data.shape=(176, 552) data.dtype=float32 logic_box=[[4080, 5376, 32], [5184, 6080, 33]]\");\n"
      ],
      "text/plain": [
       "<IPython.core.display.Javascript object>"
      ]
     },
     "metadata": {},
     "output_type": "display_data"
    }
   ],
   "source": [
    "def MyApp(doc, timestep=2015, timestep_delta=10, quality=-6):\n",
    "    \n",
    "    view=Slices(\n",
    "        show_options=[\"palette\",\"timestep\",\"timestep-delta\",\"field\",\"play-button\", \"play-sec\"],\n",
    "        slice_show_options=[\"direction\",\"offset\",\"status_bar\"])\n",
    "\n",
    "    view.setNumberOfViews(1)  \n",
    "    view.setDataset(url)\n",
    "    view.setPalette(\"colorcet.rainbow4\")\n",
    "    view.setPaletteRange(palette_range)\n",
    "    view.setTimestepDelta(timestep_delta)\n",
    "    view.setTimestep(timestep)\n",
    "    view.setField(view.getField())\n",
    "    view.setQuality(quality)\n",
    "    view.setLogicToPixel([(0.0,1.0), (0.0,1.0), (0.0,30.0)])\n",
    "    \n",
    "    view.children[0].setDirection(2)\n",
    "    # view.children[0].setOffset(0)\n",
    "    \n",
    "    doc.add_root(view.getBokehLayout(doc=doc))\n",
    "    \n",
    "ShowBokehApp(MyApp)"
   ]
  }
 ],
 "metadata": {
  "kernelspec": {
   "display_name": "Python 3 (ipykernel)",
   "language": "python",
   "name": "python3"
  },
  "language_info": {
   "codemirror_mode": {
    "name": "ipython",
    "version": 3
   },
   "file_extension": ".py",
   "mimetype": "text/x-python",
   "name": "python",
   "nbconvert_exporter": "python",
   "pygments_lexer": "ipython3",
   "version": "3.9.9"
  },
  "vscode": {
   "interpreter": {
    "hash": "81794d4967e6c3204c66dcd87b604927b115b27c00565d3d43f05ba2f3a2cb0d"
   }
  }
 },
 "nbformat": 4,
 "nbformat_minor": 4
}
