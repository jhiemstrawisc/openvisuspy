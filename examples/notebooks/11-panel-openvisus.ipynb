{
 "cells": [
  {
   "cell_type": "markdown",
   "id": "bc9167ac",
   "metadata": {},
   "source": [
    "# Import OpenVisus"
   ]
  },
  {
   "cell_type": "code",
   "execution_count": null,
   "id": "fa10faeb",
   "metadata": {
    "scrolled": false
   },
   "outputs": [],
   "source": [
    "import os,sys,logging,time\n",
    "import asyncio\n",
    "import numpy as np\n",
    "\n",
    "import panel as pn\n",
    "pn.extension()\n",
    "\n",
    "from openvisuspy import Slice,Slices, SetupLogger\n",
    "SetupLogger(stream=False)"
   ]
  },
  {
   "cell_type": "markdown",
   "id": "cc9ea2be",
   "metadata": {},
   "source": [
    "# Single slice"
   ]
  },
  {
   "cell_type": "code",
   "execution_count": null,
   "id": "7ef90a3f",
   "metadata": {},
   "outputs": [],
   "source": [
    "url=f\"https://atlantis.sci.utah.edu/mod_visus?dataset=david_subsampled&cached=1\" \n",
    "\n",
    "view=Slice(show_options=[\"palette\",\"timestep\",\"field\",\"direction\",\"offset\"]) \n",
    "view.setDataset(url)   \n",
    "view.setDirection(2)\n",
    "view.setPalette(\"Greys256\")\n",
    "view.setPaletteRange((0,255))\n",
    "view.setTimestep(view.getTimestep())\n",
    "view.setField(view.getField()) \n",
    "\n",
    "# !!!!THIS FAILS A LOT: you may need to run twice !!!\n",
    "view.getPanelLayout()"
   ]
  },
  {
   "cell_type": "markdown",
   "id": "bfc1d4fe",
   "metadata": {},
   "source": [
    "# Multiple slices"
   ]
  },
  {
   "cell_type": "code",
   "execution_count": null,
   "id": "0e1719c0",
   "metadata": {},
   "outputs": [],
   "source": [
    "view=Slices(show_options=[\"palette\",\"timestep\",\"field\",\"direction\",\"offset\"],num_views=2) \n",
    "view.setDataset(url)   \n",
    "view.setDirection(2)\n",
    "view.setPalette(\"Greys256\")\n",
    "view.setPaletteRange((0,255))\n",
    "view.setTimestep(view.getTimestep())\n",
    "view.setField(view.getField())\n",
    "\n",
    "# !!! this has ratio problems !!!\n",
    "view.getPanelLayout()"
   ]
  },
  {
   "cell_type": "code",
   "execution_count": null,
   "id": "4faf146d",
   "metadata": {},
   "outputs": [],
   "source": []
  }
 ],
 "metadata": {
  "kernelspec": {
   "display_name": "Python 3 (ipykernel)",
   "language": "python",
   "name": "python3"
  },
  "language_info": {
   "codemirror_mode": {
    "name": "ipython",
    "version": 3
   },
   "file_extension": ".py",
   "mimetype": "text/x-python",
   "name": "python",
   "nbconvert_exporter": "python",
   "pygments_lexer": "ipython3",
   "version": "3.9.16"
  }
 },
 "nbformat": 4,
 "nbformat_minor": 5
}
