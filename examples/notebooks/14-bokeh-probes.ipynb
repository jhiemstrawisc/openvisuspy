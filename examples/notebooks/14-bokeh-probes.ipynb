{
 "cells": [
  {
   "cell_type": "code",
   "execution_count": 4,
   "metadata": {},
   "outputs": [
    {
     "data": {
      "text/html": [
       "<div class=\"bk-root\">\n",
       "        <a href=\"https://bokeh.org\" target=\"_blank\" class=\"bk-logo bk-logo-small bk-logo-notebook\"></a>\n",
       "        <span id=\"1106\">Loading BokehJS ...</span>\n",
       "    </div>\n"
      ]
     },
     "metadata": {},
     "output_type": "display_data"
    },
    {
     "data": {
      "application/javascript": "(function(root) {\n  function now() {\n    return new Date();\n  }\n\n  const force = true;\n\n  if (typeof root._bokeh_onload_callbacks === \"undefined\" || force === true) {\n    root._bokeh_onload_callbacks = [];\n    root._bokeh_is_loading = undefined;\n  }\n\nconst JS_MIME_TYPE = 'application/javascript';\n  const HTML_MIME_TYPE = 'text/html';\n  const EXEC_MIME_TYPE = 'application/vnd.bokehjs_exec.v0+json';\n  const CLASS_NAME = 'output_bokeh rendered_html';\n\n  /**\n   * Render data to the DOM node\n   */\n  function render(props, node) {\n    const script = document.createElement(\"script\");\n    node.appendChild(script);\n  }\n\n  /**\n   * Handle when an output is cleared or removed\n   */\n  function handleClearOutput(event, handle) {\n    const cell = handle.cell;\n\n    const id = cell.output_area._bokeh_element_id;\n    const server_id = cell.output_area._bokeh_server_id;\n    // Clean up Bokeh references\n    if (id != null && id in Bokeh.index) {\n      Bokeh.index[id].model.document.clear();\n      delete Bokeh.index[id];\n    }\n\n    if (server_id !== undefined) {\n      // Clean up Bokeh references\n      const cmd_clean = \"from bokeh.io.state import curstate; print(curstate().uuid_to_server['\" + server_id + \"'].get_sessions()[0].document.roots[0]._id)\";\n      cell.notebook.kernel.execute(cmd_clean, {\n        iopub: {\n          output: function(msg) {\n            const id = msg.content.text.trim();\n            if (id in Bokeh.index) {\n              Bokeh.index[id].model.document.clear();\n              delete Bokeh.index[id];\n            }\n          }\n        }\n      });\n      // Destroy server and session\n      const cmd_destroy = \"import bokeh.io.notebook as ion; ion.destroy_server('\" + server_id + \"')\";\n      cell.notebook.kernel.execute(cmd_destroy);\n    }\n  }\n\n  /**\n   * Handle when a new output is added\n   */\n  function handleAddOutput(event, handle) {\n    const output_area = handle.output_area;\n    const output = handle.output;\n\n    // limit handleAddOutput to display_data with EXEC_MIME_TYPE content only\n    if ((output.output_type != \"display_data\") || (!Object.prototype.hasOwnProperty.call(output.data, EXEC_MIME_TYPE))) {\n      return\n    }\n\n    const toinsert = output_area.element.find(\".\" + CLASS_NAME.split(' ')[0]);\n\n    if (output.metadata[EXEC_MIME_TYPE][\"id\"] !== undefined) {\n      toinsert[toinsert.length - 1].firstChild.textContent = output.data[JS_MIME_TYPE];\n      // store reference to embed id on output_area\n      output_area._bokeh_element_id = output.metadata[EXEC_MIME_TYPE][\"id\"];\n    }\n    if (output.metadata[EXEC_MIME_TYPE][\"server_id\"] !== undefined) {\n      const bk_div = document.createElement(\"div\");\n      bk_div.innerHTML = output.data[HTML_MIME_TYPE];\n      const script_attrs = bk_div.children[0].attributes;\n      for (let i = 0; i < script_attrs.length; i++) {\n        toinsert[toinsert.length - 1].firstChild.setAttribute(script_attrs[i].name, script_attrs[i].value);\n        toinsert[toinsert.length - 1].firstChild.textContent = bk_div.children[0].textContent\n      }\n      // store reference to server id on output_area\n      output_area._bokeh_server_id = output.metadata[EXEC_MIME_TYPE][\"server_id\"];\n    }\n  }\n\n  function register_renderer(events, OutputArea) {\n\n    function append_mime(data, metadata, element) {\n      // create a DOM node to render to\n      const toinsert = this.create_output_subarea(\n        metadata,\n        CLASS_NAME,\n        EXEC_MIME_TYPE\n      );\n      this.keyboard_manager.register_events(toinsert);\n      // Render to node\n      const props = {data: data, metadata: metadata[EXEC_MIME_TYPE]};\n      render(props, toinsert[toinsert.length - 1]);\n      element.append(toinsert);\n      return toinsert\n    }\n\n    /* Handle when an output is cleared or removed */\n    events.on('clear_output.CodeCell', handleClearOutput);\n    events.on('delete.Cell', handleClearOutput);\n\n    /* Handle when a new output is added */\n    events.on('output_added.OutputArea', handleAddOutput);\n\n    /**\n     * Register the mime type and append_mime function with output_area\n     */\n    OutputArea.prototype.register_mime_type(EXEC_MIME_TYPE, append_mime, {\n      /* Is output safe? */\n      safe: true,\n      /* Index of renderer in `output_area.display_order` */\n      index: 0\n    });\n  }\n\n  // register the mime type if in Jupyter Notebook environment and previously unregistered\n  if (root.Jupyter !== undefined) {\n    const events = require('base/js/events');\n    const OutputArea = require('notebook/js/outputarea').OutputArea;\n\n    if (OutputArea.prototype.mime_types().indexOf(EXEC_MIME_TYPE) == -1) {\n      register_renderer(events, OutputArea);\n    }\n  }\n  if (typeof (root._bokeh_timeout) === \"undefined\" || force === true) {\n    root._bokeh_timeout = Date.now() + 5000;\n    root._bokeh_failed_load = false;\n  }\n\n  const NB_LOAD_WARNING = {'data': {'text/html':\n     \"<div style='background-color: #fdd'>\\n\"+\n     \"<p>\\n\"+\n     \"BokehJS does not appear to have successfully loaded. If loading BokehJS from CDN, this \\n\"+\n     \"may be due to a slow or bad network connection. Possible fixes:\\n\"+\n     \"</p>\\n\"+\n     \"<ul>\\n\"+\n     \"<li>re-rerun `output_notebook()` to attempt to load from CDN again, or</li>\\n\"+\n     \"<li>use INLINE resources instead, as so:</li>\\n\"+\n     \"</ul>\\n\"+\n     \"<code>\\n\"+\n     \"from bokeh.resources import INLINE\\n\"+\n     \"output_notebook(resources=INLINE)\\n\"+\n     \"</code>\\n\"+\n     \"</div>\"}};\n\n  function display_loaded() {\n    const el = document.getElementById(\"1106\");\n    if (el != null) {\n      el.textContent = \"BokehJS is loading...\";\n    }\n    if (root.Bokeh !== undefined) {\n      if (el != null) {\n        el.textContent = \"BokehJS \" + root.Bokeh.version + \" successfully loaded.\";\n      }\n    } else if (Date.now() < root._bokeh_timeout) {\n      setTimeout(display_loaded, 100)\n    }\n  }\n\n  function run_callbacks() {\n    try {\n      root._bokeh_onload_callbacks.forEach(function(callback) {\n        if (callback != null)\n          callback();\n      });\n    } finally {\n      delete root._bokeh_onload_callbacks\n    }\n    console.debug(\"Bokeh: all callbacks have finished\");\n  }\n\n  function load_libs(css_urls, js_urls, callback) {\n    if (css_urls == null) css_urls = [];\n    if (js_urls == null) js_urls = [];\n\n    root._bokeh_onload_callbacks.push(callback);\n    if (root._bokeh_is_loading > 0) {\n      console.debug(\"Bokeh: BokehJS is being loaded, scheduling callback at\", now());\n      return null;\n    }\n    if (js_urls == null || js_urls.length === 0) {\n      run_callbacks();\n      return null;\n    }\n    console.debug(\"Bokeh: BokehJS not loaded, scheduling load and callback at\", now());\n    root._bokeh_is_loading = css_urls.length + js_urls.length;\n\n    function on_load() {\n      root._bokeh_is_loading--;\n      if (root._bokeh_is_loading === 0) {\n        console.debug(\"Bokeh: all BokehJS libraries/stylesheets loaded\");\n        run_callbacks()\n      }\n    }\n\n    function on_error(url) {\n      console.error(\"failed to load \" + url);\n    }\n\n    for (let i = 0; i < css_urls.length; i++) {\n      const url = css_urls[i];\n      const element = document.createElement(\"link\");\n      element.onload = on_load;\n      element.onerror = on_error.bind(null, url);\n      element.rel = \"stylesheet\";\n      element.type = \"text/css\";\n      element.href = url;\n      console.debug(\"Bokeh: injecting link tag for BokehJS stylesheet: \", url);\n      document.body.appendChild(element);\n    }\n\n    for (let i = 0; i < js_urls.length; i++) {\n      const url = js_urls[i];\n      const element = document.createElement('script');\n      element.onload = on_load;\n      element.onerror = on_error.bind(null, url);\n      element.async = false;\n      element.src = url;\n      console.debug(\"Bokeh: injecting script tag for BokehJS library: \", url);\n      document.head.appendChild(element);\n    }\n  };\n\n  function inject_raw_css(css) {\n    const element = document.createElement(\"style\");\n    element.appendChild(document.createTextNode(css));\n    document.body.appendChild(element);\n  }\n\n  const js_urls = [\"https://cdn.bokeh.org/bokeh/release/bokeh-2.4.3.min.js\", \"https://cdn.bokeh.org/bokeh/release/bokeh-gl-2.4.3.min.js\", \"https://cdn.bokeh.org/bokeh/release/bokeh-widgets-2.4.3.min.js\", \"https://cdn.bokeh.org/bokeh/release/bokeh-tables-2.4.3.min.js\", \"https://cdn.bokeh.org/bokeh/release/bokeh-mathjax-2.4.3.min.js\"];\n  const css_urls = [];\n\n  const inline_js = [    function(Bokeh) {\n      Bokeh.set_log_level(\"error\");\n    },\nfunction(Bokeh) {\n    }\n  ];\n\n  function run_inline_js() {\n    if (root.Bokeh !== undefined || force === true) {\n          for (let i = 0; i < inline_js.length; i++) {\n      inline_js[i].call(root, root.Bokeh);\n    }\nif (force === true) {\n        display_loaded();\n      }} else if (Date.now() < root._bokeh_timeout) {\n      setTimeout(run_inline_js, 100);\n    } else if (!root._bokeh_failed_load) {\n      console.log(\"Bokeh: BokehJS failed to load within specified timeout.\");\n      root._bokeh_failed_load = true;\n    } else if (force !== true) {\n      const cell = $(document.getElementById(\"1106\")).parents('.cell').data().cell;\n      cell.output_area.append_execute_result(NB_LOAD_WARNING)\n    }\n  }\n\n  if (root._bokeh_is_loading === 0) {\n    console.debug(\"Bokeh: BokehJS loaded, going straight to plotting\");\n    run_inline_js();\n  } else {\n    load_libs(css_urls, js_urls, function() {\n      console.debug(\"Bokeh: BokehJS plotting callback run at\", now());\n      run_inline_js();\n    });\n  }\n}(window));",
      "application/vnd.bokehjs_load.v0+json": ""
     },
     "metadata": {},
     "output_type": "display_data"
    },
    {
     "data": {
      "application/vnd.bokehjs_exec.v0+json": "",
      "text/html": [
       "<script id=\"1107\">\n",
       "  (function() {\n",
       "    const xhr = new XMLHttpRequest()\n",
       "    xhr.responseType = 'blob';\n",
       "    xhr.open('GET', \"http://localhost:52365/autoload.js?bokeh-autoload-element=1107&bokeh-absolute-url=http://localhost:52365&resources=none\", true);\n",
       "    xhr.onload = function (event) {\n",
       "      const script = document.createElement('script');\n",
       "      const src = URL.createObjectURL(event.target.response);\n",
       "      script.src = src;\n",
       "      document.body.appendChild(script);\n",
       "    };\n",
       "    xhr.send();\n",
       "  })();\n",
       "</script>"
      ]
     },
     "metadata": {
      "application/vnd.bokehjs_exec.v0+json": {
       "server_id": "f725daf59d024a67bea6f130504263be"
      }
     },
     "output_type": "display_data"
    }
   ],
   "source": [
    "import os,sys,logging,time\n",
    "\n",
    "# import bokeh\n",
    "os.environ[\"BOKEH_ALLOW_WS_ORIGIN\"]=\"*\"\n",
    "os.environ[\"BOKEH_LOG_LEVEL\"]=\"error\" \n",
    "\n",
    "# change as needed\n",
    "os.environ[\"VISUS_USE_PUBLIC_IP\"]=str(False)\n",
    "os.environ[\"VISUS_SSL_TUNNELS\"]=\"\"\n",
    "os.environ[\"VISUS_CPP_VERBOSE\"]=\"0\"\n",
    "os.environ[\"VISUS_NETSERVICE_VERBOSE\"]=\"0\"\n",
    "\n",
    "sys.path.append(r\"C:\\projects\\OpenVisus\\build\\RelWithDebInfo\")\n",
    "sys.path.append(r\"C:\\projects\\openvisuspy\\src\")\n",
    "import openvisuspy\n",
    "from openvisuspy import ShowBokehApp, TestBokehApp, Slice, Slices, GetBackend, SetupLogger,ExecuteBoxQuery\n",
    "\n",
    "# by default, it does not print logs\n",
    "logger=SetupLogger(stream=False) \n",
    "logger.info(f\"GetBackend={GetBackend()}\")\n",
    "\n",
    "import bokeh.io\n",
    "bokeh.io.output_notebook()\n",
    "\n",
    "# the `ShowBokehApp` function should take care of all proxy/jupyter hub problem\n",
    "ShowBokehApp(TestBokehApp)"
   ]
  },
  {
   "cell_type": "code",
   "execution_count": 6,
   "metadata": {},
   "outputs": [
    {
     "data": {
      "application/vnd.bokehjs_exec.v0+json": "",
      "text/html": [
       "<script id=\"1212\">\n",
       "  (function() {\n",
       "    const xhr = new XMLHttpRequest()\n",
       "    xhr.responseType = 'blob';\n",
       "    xhr.open('GET', \"http://localhost:52381/autoload.js?bokeh-autoload-element=1212&bokeh-absolute-url=http://localhost:52381&resources=none\", true);\n",
       "    xhr.onload = function (event) {\n",
       "      const script = document.createElement('script');\n",
       "      const src = URL.createObjectURL(event.target.response);\n",
       "      script.src = src;\n",
       "      document.body.appendChild(script);\n",
       "    };\n",
       "    xhr.send();\n",
       "  })();\n",
       "</script>"
      ]
     },
     "metadata": {
      "application/vnd.bokehjs_exec.v0+json": {
       "server_id": "b69257418ddf4f1589f7346874c952a0"
      }
     },
     "output_type": "display_data"
    },
    {
     "name": "stdout",
     "output_type": "stream",
     "text": [
      "Dataset logic_box= (0, 0, 0) (1200, 1200, 200) logic_size (1200, 1200, 200)\n"
     ]
    }
   ],
   "source": [
    "import os,sys,logging,time,types\n",
    "\n",
    "from bokeh.io import show\n",
    "from bokeh.models import Range1d,CheckboxButtonGroup,Slider, RangeSlider,Button,Row,Column,Div\n",
    "from bokeh.layouts import column, row\n",
    "from bokeh.plotting import figure\n",
    "from bokeh.events import ButtonClick\n",
    "import bokeh.colors\n",
    "\n",
    "# //////////////////////////////////////////////////////////////////////////////////////\n",
    "def MyApp(doc,\n",
    "    url=\"http://atlantis.sci.utah.edu/mod_visus?dataset=block_raw&cached=1\",\n",
    "    palette=\"colorcet.coolwarm\",\n",
    "    palette_range=[ 8644., 65530.//4]):  \n",
    "\n",
    "    P=0\n",
    "\n",
    "    view=Slice(show_options=[\"palette\",\"field\",\"offset\",\"quality\",\"status_bar\"])\n",
    "    view.setDataset(url)\n",
    "    view.setDirection(2)\n",
    "    view.setPalette(palette)\n",
    "    view.setPaletteRange(palette_range)\n",
    "    view.setTimestep(view.getTimestep())\n",
    "    view.setField(view.getField())\n",
    "\n",
    "    db=view.db\n",
    "    (X1,Y1,Z1),(X2,Y2,Z2)=db.getLogicBox()\n",
    "    W,H,D = db.getLogicSize()\n",
    "    print(\"Dataset logic_box=\",(X1,Y1,Z1),(X2,Y2,Z2),\"logic_size\",(W,H,D))\n",
    "\n",
    "    fig = figure(\n",
    "        title=\"Line Plot\", \n",
    "        x_axis_label=\"Z\", \n",
    "        y_axis_label=\"f\", \n",
    "        toolbar_location=None, \n",
    "        x_range = (Z1,Z2), \n",
    "        y_range = view.getPaletteRange())   \n",
    "\n",
    "    view_setOffset=view.setOffset\n",
    "    def SetOffset(slice,value):\n",
    "        view_setOffset(value)\n",
    "        nonlocal fig\n",
    "        for it in fig.select(name=\"draw-offset\"):\n",
    "            fig.renderers.remove(it)\n",
    "        fig.line([value,value],[fig.y_range.start,fig.y_range.end],name=\"draw-offset\")\n",
    "\n",
    "    view.setOffset = types.MethodType(SetOffset, view)\n",
    "    view.setOffset(0)\n",
    "\n",
    "    slider_x=Slider(start=X1, end=X2-1, value=0, step=1, title=\"X coordindate\")\n",
    "    slider_y=Slider(start=Y1, end=Y2-1, value=0, step=1, title=\"Y coordinate\")\n",
    "\n",
    "    colors = [\"blue\",\"red\",\"green\",\"yellow\",\"orange\",\"brown\",\"cyan\",\"pink\",\"purple\"] \n",
    "\n",
    "    def RemoveProbe(P):\n",
    "        for it in fig.select(name=f\"draw-probe-{P}\"):\n",
    "            if it in fig.renderers:\n",
    "                fig.renderers.remove(it)\n",
    "\n",
    "        for it in view.canvas.fig.select(name=f\"draw-probe-{P}\"):\n",
    "            if it in view.canvas.fig.renderers:\n",
    "                view.canvas.fig.renderers.remove(it)      \n",
    "\n",
    "    def AddProbe(P, x, y):\n",
    "        RemoveProbe(P)\n",
    "        color=colors[P]\n",
    "\n",
    "        # I need the logic_box to be full-dim enough... is delta enough?\n",
    "        delta=8\n",
    "        x,y=int(x),int(y)\n",
    "        logic_box=([x,y,Z1], [x+delta,y+delta,Z2])\n",
    "\n",
    "        # I need tom use the current resolution from the view\n",
    "        endh=view.H \n",
    "        logic_box, delta, __num_pixels=db.getAlignedBox(logic_box, endh)\n",
    "        x,y,Z=logic_box[0]\n",
    "        \n",
    "        access=db.createAccess()\n",
    "        data=list(ExecuteBoxQuery(db, access=access, logic_box=logic_box,  endh=endh, num_refinements=1))[0]['data']\n",
    "        # print(\"DrawProbe\",logic_box,data.dtype, data.shape)\n",
    "\n",
    "        ys=list(data[:,0,0])\n",
    "        xs=[logic_box[0][2]+I*delta[2] for I in range(len(ys))]\n",
    "\n",
    "        fig.line(xs,ys, line_width=2, legend_label=color, line_color=color,name=f\"draw-probe-{P}\")\n",
    "        view.canvas.fig.line([x ,x ], [Y1,Y2],line_width=2, color= color,name=f\"draw-probe-{P}\")\n",
    "        view.canvas.fig.line([X1,X2], [y ,y ],line_width=2, color= color,name=f\"draw-probe-{P}\")\n",
    "\n",
    "        slider_x.value = x\n",
    "        slider_y.value = y      \n",
    "\n",
    "    buttons = []\n",
    "    for I,color in enumerate(colors):\n",
    "        button = Button(label=color, width=80, css_classes =[f\"custom_button_{color}\"])\n",
    "        def onButtonClick(I):\n",
    "            global P\n",
    "            if P==I: RemoveProbe(P)\n",
    "            P=I\n",
    "        button.on_event(ButtonClick, lambda evt,I=I:  onButtonClick(I))\n",
    "        buttons.append(button)\n",
    "\n",
    "    slider_x.on_change('value_throttled', lambda attr,old, x: AddProbe(P, x,slider_y.value))\n",
    "    slider_y.on_change('value_throttled', lambda attr,old, y: AddProbe(P, slider_x.value,y))\n",
    "    view.canvas.enableDoubleTap(lambda x,y: AddProbe(P, x,y))\n",
    "\n",
    "    styles=Div(text=\"\"\"\n",
    "    <style>\n",
    "    .custom-button                                        {background-color: #FF0000; color: #FFFFFF;}\n",
    "    .custom_button_blue button.bk.bk-btn.bk-btn-default   {color: black;font-size:12pt;background-color: blue;   border-color: #05b7ff;}\n",
    "    .custom_button_red button.bk.bk-btn.bk-btn-default    {color: black;font-size:12pt;background-color: red;    border-color: #05b7ff;}\n",
    "    .custom_button_green button.bk.bk-btn.bk-btn-default  {color: black;font-size:12pt;background-color: green;  border-color: #05b7ff;}\n",
    "    .custom_button_yellow button.bk.bk-btn.bk-btn-default {color: black;font-size:12pt;background-color: yellow;  border-color: #05b7ff;}\n",
    "    .custom_button_orange button.bk.bk-btn.bk-btn-default {color: black;font-size:12pt;background-color: orange;border-color: #05b7ff;}\n",
    "    .custom_button_brown button.bk.bk-btn.bk-btn-default  {color: black;font-size:12pt;background-color: brown;border-color: #05b7ff;}\n",
    "    .custom_button_cyan button.bk.bk-btn.bk-btn-default   {color: black;font-size:12pt;background-color: cyan;border-color: #05b7ff;}\n",
    "    .custom_button_pink button.bk.bk-btn.bk-btn-default   {color: black;font-size:12pt;background-color: pink;border-color: #05b7ff;}\n",
    "    .custom_button_purple button.bk.bk-btn.bk-btn-default {color: black;font-size:12pt;background-color: purple;border-color: #05b7ff;}\n",
    "    </style>   \n",
    "    \"\"\")\n",
    "\n",
    "    doc.add_root(Column(\n",
    "        styles,\n",
    "        slider_x,slider_y,\n",
    "        Row(*buttons, sizing_mode=\"stretch_width\"),\n",
    "        Row(view.getBokehLayout(doc=doc) , fig)))     \n",
    "\n",
    "ShowBokehApp(MyApp)"
   ]
  },
  {
   "cell_type": "code",
   "execution_count": null,
   "metadata": {},
   "outputs": [],
   "source": []
  }
 ],
 "metadata": {
  "kernelspec": {
   "display_name": "Python 3",
   "language": "python",
   "name": "python3"
  },
  "language_info": {
   "codemirror_mode": {
    "name": "ipython",
    "version": 3
   },
   "file_extension": ".py",
   "mimetype": "text/x-python",
   "name": "python",
   "nbconvert_exporter": "python",
   "pygments_lexer": "ipython3",
   "version": "3.9.13"
  },
  "orig_nbformat": 4
 },
 "nbformat": 4,
 "nbformat_minor": 2
}
