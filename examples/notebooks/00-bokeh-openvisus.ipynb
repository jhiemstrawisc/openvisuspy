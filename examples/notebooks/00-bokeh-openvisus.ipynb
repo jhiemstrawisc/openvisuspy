{
 "cells": [
  {
   "cell_type": "markdown",
   "metadata": {},
   "source": [
    "# Import OpenVisus\n",
    "\n",
    "Note: \n",
    "- the `ShowBokehApp` function should take care of all proxy/jupyter hub problem\n",
    "- change configuration (i.e. `USE_PUBLIC_IP` and `SSH_TUNNELS`) as needed"
   ]
  },
  {
   "cell_type": "code",
   "execution_count": 1,
   "metadata": {},
   "outputs": [
    {
     "data": {
      "application/javascript": [
       "console.log(\"[130047][INFO][openvisuspy:14:<module>] GetBackend=cpp\");\n"
      ],
      "text/plain": [
       "<IPython.core.display.Javascript object>"
      ]
     },
     "metadata": {},
     "output_type": "display_data"
    },
    {
     "data": {
      "text/html": [
       "<div class=\"bk-root\">\n",
       "        <a href=\"https://bokeh.org\" target=\"_blank\" class=\"bk-logo bk-logo-small bk-logo-notebook\"></a>\n",
       "        <span id=\"1002\">Loading BokehJS ...</span>\n",
       "    </div>\n"
      ]
     },
     "metadata": {},
     "output_type": "display_data"
    },
    {
     "data": {
      "application/javascript": [
       "(function(root) {\n",
       "  function now() {\n",
       "    return new Date();\n",
       "  }\n",
       "\n",
       "  const force = true;\n",
       "\n",
       "  if (typeof root._bokeh_onload_callbacks === \"undefined\" || force === true) {\n",
       "    root._bokeh_onload_callbacks = [];\n",
       "    root._bokeh_is_loading = undefined;\n",
       "  }\n",
       "\n",
       "const JS_MIME_TYPE = 'application/javascript';\n",
       "  const HTML_MIME_TYPE = 'text/html';\n",
       "  const EXEC_MIME_TYPE = 'application/vnd.bokehjs_exec.v0+json';\n",
       "  const CLASS_NAME = 'output_bokeh rendered_html';\n",
       "\n",
       "  /**\n",
       "   * Render data to the DOM node\n",
       "   */\n",
       "  function render(props, node) {\n",
       "    const script = document.createElement(\"script\");\n",
       "    node.appendChild(script);\n",
       "  }\n",
       "\n",
       "  /**\n",
       "   * Handle when an output is cleared or removed\n",
       "   */\n",
       "  function handleClearOutput(event, handle) {\n",
       "    const cell = handle.cell;\n",
       "\n",
       "    const id = cell.output_area._bokeh_element_id;\n",
       "    const server_id = cell.output_area._bokeh_server_id;\n",
       "    // Clean up Bokeh references\n",
       "    if (id != null && id in Bokeh.index) {\n",
       "      Bokeh.index[id].model.document.clear();\n",
       "      delete Bokeh.index[id];\n",
       "    }\n",
       "\n",
       "    if (server_id !== undefined) {\n",
       "      // Clean up Bokeh references\n",
       "      const cmd_clean = \"from bokeh.io.state import curstate; print(curstate().uuid_to_server['\" + server_id + \"'].get_sessions()[0].document.roots[0]._id)\";\n",
       "      cell.notebook.kernel.execute(cmd_clean, {\n",
       "        iopub: {\n",
       "          output: function(msg) {\n",
       "            const id = msg.content.text.trim();\n",
       "            if (id in Bokeh.index) {\n",
       "              Bokeh.index[id].model.document.clear();\n",
       "              delete Bokeh.index[id];\n",
       "            }\n",
       "          }\n",
       "        }\n",
       "      });\n",
       "      // Destroy server and session\n",
       "      const cmd_destroy = \"import bokeh.io.notebook as ion; ion.destroy_server('\" + server_id + \"')\";\n",
       "      cell.notebook.kernel.execute(cmd_destroy);\n",
       "    }\n",
       "  }\n",
       "\n",
       "  /**\n",
       "   * Handle when a new output is added\n",
       "   */\n",
       "  function handleAddOutput(event, handle) {\n",
       "    const output_area = handle.output_area;\n",
       "    const output = handle.output;\n",
       "\n",
       "    // limit handleAddOutput to display_data with EXEC_MIME_TYPE content only\n",
       "    if ((output.output_type != \"display_data\") || (!Object.prototype.hasOwnProperty.call(output.data, EXEC_MIME_TYPE))) {\n",
       "      return\n",
       "    }\n",
       "\n",
       "    const toinsert = output_area.element.find(\".\" + CLASS_NAME.split(' ')[0]);\n",
       "\n",
       "    if (output.metadata[EXEC_MIME_TYPE][\"id\"] !== undefined) {\n",
       "      toinsert[toinsert.length - 1].firstChild.textContent = output.data[JS_MIME_TYPE];\n",
       "      // store reference to embed id on output_area\n",
       "      output_area._bokeh_element_id = output.metadata[EXEC_MIME_TYPE][\"id\"];\n",
       "    }\n",
       "    if (output.metadata[EXEC_MIME_TYPE][\"server_id\"] !== undefined) {\n",
       "      const bk_div = document.createElement(\"div\");\n",
       "      bk_div.innerHTML = output.data[HTML_MIME_TYPE];\n",
       "      const script_attrs = bk_div.children[0].attributes;\n",
       "      for (let i = 0; i < script_attrs.length; i++) {\n",
       "        toinsert[toinsert.length - 1].firstChild.setAttribute(script_attrs[i].name, script_attrs[i].value);\n",
       "        toinsert[toinsert.length - 1].firstChild.textContent = bk_div.children[0].textContent\n",
       "      }\n",
       "      // store reference to server id on output_area\n",
       "      output_area._bokeh_server_id = output.metadata[EXEC_MIME_TYPE][\"server_id\"];\n",
       "    }\n",
       "  }\n",
       "\n",
       "  function register_renderer(events, OutputArea) {\n",
       "\n",
       "    function append_mime(data, metadata, element) {\n",
       "      // create a DOM node to render to\n",
       "      const toinsert = this.create_output_subarea(\n",
       "        metadata,\n",
       "        CLASS_NAME,\n",
       "        EXEC_MIME_TYPE\n",
       "      );\n",
       "      this.keyboard_manager.register_events(toinsert);\n",
       "      // Render to node\n",
       "      const props = {data: data, metadata: metadata[EXEC_MIME_TYPE]};\n",
       "      render(props, toinsert[toinsert.length - 1]);\n",
       "      element.append(toinsert);\n",
       "      return toinsert\n",
       "    }\n",
       "\n",
       "    /* Handle when an output is cleared or removed */\n",
       "    events.on('clear_output.CodeCell', handleClearOutput);\n",
       "    events.on('delete.Cell', handleClearOutput);\n",
       "\n",
       "    /* Handle when a new output is added */\n",
       "    events.on('output_added.OutputArea', handleAddOutput);\n",
       "\n",
       "    /**\n",
       "     * Register the mime type and append_mime function with output_area\n",
       "     */\n",
       "    OutputArea.prototype.register_mime_type(EXEC_MIME_TYPE, append_mime, {\n",
       "      /* Is output safe? */\n",
       "      safe: true,\n",
       "      /* Index of renderer in `output_area.display_order` */\n",
       "      index: 0\n",
       "    });\n",
       "  }\n",
       "\n",
       "  // register the mime type if in Jupyter Notebook environment and previously unregistered\n",
       "  if (root.Jupyter !== undefined) {\n",
       "    const events = require('base/js/events');\n",
       "    const OutputArea = require('notebook/js/outputarea').OutputArea;\n",
       "\n",
       "    if (OutputArea.prototype.mime_types().indexOf(EXEC_MIME_TYPE) == -1) {\n",
       "      register_renderer(events, OutputArea);\n",
       "    }\n",
       "  }\n",
       "  if (typeof (root._bokeh_timeout) === \"undefined\" || force === true) {\n",
       "    root._bokeh_timeout = Date.now() + 5000;\n",
       "    root._bokeh_failed_load = false;\n",
       "  }\n",
       "\n",
       "  const NB_LOAD_WARNING = {'data': {'text/html':\n",
       "     \"<div style='background-color: #fdd'>\\n\"+\n",
       "     \"<p>\\n\"+\n",
       "     \"BokehJS does not appear to have successfully loaded. If loading BokehJS from CDN, this \\n\"+\n",
       "     \"may be due to a slow or bad network connection. Possible fixes:\\n\"+\n",
       "     \"</p>\\n\"+\n",
       "     \"<ul>\\n\"+\n",
       "     \"<li>re-rerun `output_notebook()` to attempt to load from CDN again, or</li>\\n\"+\n",
       "     \"<li>use INLINE resources instead, as so:</li>\\n\"+\n",
       "     \"</ul>\\n\"+\n",
       "     \"<code>\\n\"+\n",
       "     \"from bokeh.resources import INLINE\\n\"+\n",
       "     \"output_notebook(resources=INLINE)\\n\"+\n",
       "     \"</code>\\n\"+\n",
       "     \"</div>\"}};\n",
       "\n",
       "  function display_loaded() {\n",
       "    const el = document.getElementById(\"1002\");\n",
       "    if (el != null) {\n",
       "      el.textContent = \"BokehJS is loading...\";\n",
       "    }\n",
       "    if (root.Bokeh !== undefined) {\n",
       "      if (el != null) {\n",
       "        el.textContent = \"BokehJS \" + root.Bokeh.version + \" successfully loaded.\";\n",
       "      }\n",
       "    } else if (Date.now() < root._bokeh_timeout) {\n",
       "      setTimeout(display_loaded, 100)\n",
       "    }\n",
       "  }\n",
       "\n",
       "  function run_callbacks() {\n",
       "    try {\n",
       "      root._bokeh_onload_callbacks.forEach(function(callback) {\n",
       "        if (callback != null)\n",
       "          callback();\n",
       "      });\n",
       "    } finally {\n",
       "      delete root._bokeh_onload_callbacks\n",
       "    }\n",
       "    console.debug(\"Bokeh: all callbacks have finished\");\n",
       "  }\n",
       "\n",
       "  function load_libs(css_urls, js_urls, callback) {\n",
       "    if (css_urls == null) css_urls = [];\n",
       "    if (js_urls == null) js_urls = [];\n",
       "\n",
       "    root._bokeh_onload_callbacks.push(callback);\n",
       "    if (root._bokeh_is_loading > 0) {\n",
       "      console.debug(\"Bokeh: BokehJS is being loaded, scheduling callback at\", now());\n",
       "      return null;\n",
       "    }\n",
       "    if (js_urls == null || js_urls.length === 0) {\n",
       "      run_callbacks();\n",
       "      return null;\n",
       "    }\n",
       "    console.debug(\"Bokeh: BokehJS not loaded, scheduling load and callback at\", now());\n",
       "    root._bokeh_is_loading = css_urls.length + js_urls.length;\n",
       "\n",
       "    function on_load() {\n",
       "      root._bokeh_is_loading--;\n",
       "      if (root._bokeh_is_loading === 0) {\n",
       "        console.debug(\"Bokeh: all BokehJS libraries/stylesheets loaded\");\n",
       "        run_callbacks()\n",
       "      }\n",
       "    }\n",
       "\n",
       "    function on_error(url) {\n",
       "      console.error(\"failed to load \" + url);\n",
       "    }\n",
       "\n",
       "    for (let i = 0; i < css_urls.length; i++) {\n",
       "      const url = css_urls[i];\n",
       "      const element = document.createElement(\"link\");\n",
       "      element.onload = on_load;\n",
       "      element.onerror = on_error.bind(null, url);\n",
       "      element.rel = \"stylesheet\";\n",
       "      element.type = \"text/css\";\n",
       "      element.href = url;\n",
       "      console.debug(\"Bokeh: injecting link tag for BokehJS stylesheet: \", url);\n",
       "      document.body.appendChild(element);\n",
       "    }\n",
       "\n",
       "    for (let i = 0; i < js_urls.length; i++) {\n",
       "      const url = js_urls[i];\n",
       "      const element = document.createElement('script');\n",
       "      element.onload = on_load;\n",
       "      element.onerror = on_error.bind(null, url);\n",
       "      element.async = false;\n",
       "      element.src = url;\n",
       "      console.debug(\"Bokeh: injecting script tag for BokehJS library: \", url);\n",
       "      document.head.appendChild(element);\n",
       "    }\n",
       "  };\n",
       "\n",
       "  function inject_raw_css(css) {\n",
       "    const element = document.createElement(\"style\");\n",
       "    element.appendChild(document.createTextNode(css));\n",
       "    document.body.appendChild(element);\n",
       "  }\n",
       "\n",
       "  const js_urls = [\"https://cdn.bokeh.org/bokeh/release/bokeh-2.4.3.min.js\", \"https://cdn.bokeh.org/bokeh/release/bokeh-gl-2.4.3.min.js\", \"https://cdn.bokeh.org/bokeh/release/bokeh-widgets-2.4.3.min.js\", \"https://cdn.bokeh.org/bokeh/release/bokeh-tables-2.4.3.min.js\", \"https://cdn.bokeh.org/bokeh/release/bokeh-mathjax-2.4.3.min.js\"];\n",
       "  const css_urls = [];\n",
       "\n",
       "  const inline_js = [    function(Bokeh) {\n",
       "      Bokeh.set_log_level(\"error\");\n",
       "    },\n",
       "function(Bokeh) {\n",
       "    }\n",
       "  ];\n",
       "\n",
       "  function run_inline_js() {\n",
       "    if (root.Bokeh !== undefined || force === true) {\n",
       "          for (let i = 0; i < inline_js.length; i++) {\n",
       "      inline_js[i].call(root, root.Bokeh);\n",
       "    }\n",
       "if (force === true) {\n",
       "        display_loaded();\n",
       "      }} else if (Date.now() < root._bokeh_timeout) {\n",
       "      setTimeout(run_inline_js, 100);\n",
       "    } else if (!root._bokeh_failed_load) {\n",
       "      console.log(\"Bokeh: BokehJS failed to load within specified timeout.\");\n",
       "      root._bokeh_failed_load = true;\n",
       "    } else if (force !== true) {\n",
       "      const cell = $(document.getElementById(\"1002\")).parents('.cell').data().cell;\n",
       "      cell.output_area.append_execute_result(NB_LOAD_WARNING)\n",
       "    }\n",
       "  }\n",
       "\n",
       "  if (root._bokeh_is_loading === 0) {\n",
       "    console.debug(\"Bokeh: BokehJS loaded, going straight to plotting\");\n",
       "    run_inline_js();\n",
       "  } else {\n",
       "    load_libs(css_urls, js_urls, function() {\n",
       "      console.debug(\"Bokeh: BokehJS plotting callback run at\", now());\n",
       "      run_inline_js();\n",
       "    });\n",
       "  }\n",
       "}(window));"
      ],
      "application/vnd.bokehjs_load.v0+json": "(function(root) {\n  function now() {\n    return new Date();\n  }\n\n  const force = true;\n\n  if (typeof root._bokeh_onload_callbacks === \"undefined\" || force === true) {\n    root._bokeh_onload_callbacks = [];\n    root._bokeh_is_loading = undefined;\n  }\n\n\n  if (typeof (root._bokeh_timeout) === \"undefined\" || force === true) {\n    root._bokeh_timeout = Date.now() + 5000;\n    root._bokeh_failed_load = false;\n  }\n\n  const NB_LOAD_WARNING = {'data': {'text/html':\n     \"<div style='background-color: #fdd'>\\n\"+\n     \"<p>\\n\"+\n     \"BokehJS does not appear to have successfully loaded. If loading BokehJS from CDN, this \\n\"+\n     \"may be due to a slow or bad network connection. Possible fixes:\\n\"+\n     \"</p>\\n\"+\n     \"<ul>\\n\"+\n     \"<li>re-rerun `output_notebook()` to attempt to load from CDN again, or</li>\\n\"+\n     \"<li>use INLINE resources instead, as so:</li>\\n\"+\n     \"</ul>\\n\"+\n     \"<code>\\n\"+\n     \"from bokeh.resources import INLINE\\n\"+\n     \"output_notebook(resources=INLINE)\\n\"+\n     \"</code>\\n\"+\n     \"</div>\"}};\n\n  function display_loaded() {\n    const el = document.getElementById(\"1002\");\n    if (el != null) {\n      el.textContent = \"BokehJS is loading...\";\n    }\n    if (root.Bokeh !== undefined) {\n      if (el != null) {\n        el.textContent = \"BokehJS \" + root.Bokeh.version + \" successfully loaded.\";\n      }\n    } else if (Date.now() < root._bokeh_timeout) {\n      setTimeout(display_loaded, 100)\n    }\n  }\n\n  function run_callbacks() {\n    try {\n      root._bokeh_onload_callbacks.forEach(function(callback) {\n        if (callback != null)\n          callback();\n      });\n    } finally {\n      delete root._bokeh_onload_callbacks\n    }\n    console.debug(\"Bokeh: all callbacks have finished\");\n  }\n\n  function load_libs(css_urls, js_urls, callback) {\n    if (css_urls == null) css_urls = [];\n    if (js_urls == null) js_urls = [];\n\n    root._bokeh_onload_callbacks.push(callback);\n    if (root._bokeh_is_loading > 0) {\n      console.debug(\"Bokeh: BokehJS is being loaded, scheduling callback at\", now());\n      return null;\n    }\n    if (js_urls == null || js_urls.length === 0) {\n      run_callbacks();\n      return null;\n    }\n    console.debug(\"Bokeh: BokehJS not loaded, scheduling load and callback at\", now());\n    root._bokeh_is_loading = css_urls.length + js_urls.length;\n\n    function on_load() {\n      root._bokeh_is_loading--;\n      if (root._bokeh_is_loading === 0) {\n        console.debug(\"Bokeh: all BokehJS libraries/stylesheets loaded\");\n        run_callbacks()\n      }\n    }\n\n    function on_error(url) {\n      console.error(\"failed to load \" + url);\n    }\n\n    for (let i = 0; i < css_urls.length; i++) {\n      const url = css_urls[i];\n      const element = document.createElement(\"link\");\n      element.onload = on_load;\n      element.onerror = on_error.bind(null, url);\n      element.rel = \"stylesheet\";\n      element.type = \"text/css\";\n      element.href = url;\n      console.debug(\"Bokeh: injecting link tag for BokehJS stylesheet: \", url);\n      document.body.appendChild(element);\n    }\n\n    for (let i = 0; i < js_urls.length; i++) {\n      const url = js_urls[i];\n      const element = document.createElement('script');\n      element.onload = on_load;\n      element.onerror = on_error.bind(null, url);\n      element.async = false;\n      element.src = url;\n      console.debug(\"Bokeh: injecting script tag for BokehJS library: \", url);\n      document.head.appendChild(element);\n    }\n  };\n\n  function inject_raw_css(css) {\n    const element = document.createElement(\"style\");\n    element.appendChild(document.createTextNode(css));\n    document.body.appendChild(element);\n  }\n\n  const js_urls = [\"https://cdn.bokeh.org/bokeh/release/bokeh-2.4.3.min.js\", \"https://cdn.bokeh.org/bokeh/release/bokeh-gl-2.4.3.min.js\", \"https://cdn.bokeh.org/bokeh/release/bokeh-widgets-2.4.3.min.js\", \"https://cdn.bokeh.org/bokeh/release/bokeh-tables-2.4.3.min.js\", \"https://cdn.bokeh.org/bokeh/release/bokeh-mathjax-2.4.3.min.js\"];\n  const css_urls = [];\n\n  const inline_js = [    function(Bokeh) {\n      Bokeh.set_log_level(\"error\");\n    },\nfunction(Bokeh) {\n    }\n  ];\n\n  function run_inline_js() {\n    if (root.Bokeh !== undefined || force === true) {\n          for (let i = 0; i < inline_js.length; i++) {\n      inline_js[i].call(root, root.Bokeh);\n    }\nif (force === true) {\n        display_loaded();\n      }} else if (Date.now() < root._bokeh_timeout) {\n      setTimeout(run_inline_js, 100);\n    } else if (!root._bokeh_failed_load) {\n      console.log(\"Bokeh: BokehJS failed to load within specified timeout.\");\n      root._bokeh_failed_load = true;\n    } else if (force !== true) {\n      const cell = $(document.getElementById(\"1002\")).parents('.cell').data().cell;\n      cell.output_area.append_execute_result(NB_LOAD_WARNING)\n    }\n  }\n\n  if (root._bokeh_is_loading === 0) {\n    console.debug(\"Bokeh: BokehJS loaded, going straight to plotting\");\n    run_inline_js();\n  } else {\n    load_libs(css_urls, js_urls, function() {\n      console.debug(\"Bokeh: BokehJS plotting callback run at\", now());\n      run_inline_js();\n    });\n  }\n}(window));"
     },
     "metadata": {},
     "output_type": "display_data"
    },
    {
     "data": {
      "application/javascript": [
       "console.log(\"[130047][INFO][openvisuspy.app:33:ShowBokehApp] ShowBokehApp VISUS_USE_PUBLIC_IP=False VISUS_SSH_TUNNELS=\");\n"
      ],
      "text/plain": [
       "<IPython.core.display.Javascript object>"
      ]
     },
     "metadata": {},
     "output_type": "display_data"
    },
    {
     "data": {
      "application/vnd.bokehjs_exec.v0+json": "",
      "text/html": [
       "<script id=\"1003\">\n",
       "  (function() {\n",
       "    const xhr = new XMLHttpRequest()\n",
       "    xhr.responseType = 'blob';\n",
       "    xhr.open('GET', \"http://localhost:51563/autoload.js?bokeh-autoload-element=1003&bokeh-absolute-url=http://localhost:51563&resources=none\", true);\n",
       "    xhr.onload = function (event) {\n",
       "      const script = document.createElement('script');\n",
       "      const src = URL.createObjectURL(event.target.response);\n",
       "      script.src = src;\n",
       "      document.body.appendChild(script);\n",
       "    };\n",
       "    xhr.send();\n",
       "  })();\n",
       "</script>"
      ]
     },
     "metadata": {
      "application/vnd.bokehjs_exec.v0+json": {
       "server_id": "aa43e0e79c3b48439035c2f53efac538"
      }
     },
     "output_type": "display_data"
    }
   ],
   "source": [
    "import os,sys,logging,time\n",
    "\n",
    "# import bokeh\n",
    "os.environ[\"BOKEH_ALLOW_WS_ORIGIN\"]=\"*\" # for debugging \n",
    "os.environ[\"BOKEH_LOG_LEVEL\"]=\"error\"   # for debugging \n",
    "\n",
    "os.environ[\"VISUS_USE_PUBLIC_IP\"]=str(False)\n",
    "os.environ[\"VISUS_SSL_TUNNELS\"]=\"\"\n",
    "\n",
    "import openvisuspy\n",
    "from openvisuspy import ShowBokehApp, TestBokehApp, Slice, Slices, GetBackend, SetupLogger\n",
    "\n",
    "logger=SetupLogger()\n",
    "logger.info(f\"GetBackend={GetBackend()}\")\n",
    "\n",
    "import bokeh.io\n",
    "bokeh.io.output_notebook()\n",
    "ShowBokehApp(TestBokehApp)"
   ]
  },
  {
   "cell_type": "markdown",
   "metadata": {},
   "source": [
    "# Show single slice of a RGB 2D dataset (David)"
   ]
  },
  {
   "cell_type": "code",
   "execution_count": 2,
   "metadata": {
    "scrolled": false
   },
   "outputs": [
    {
     "data": {
      "application/javascript": [
       "console.log(\"[130047][INFO][openvisuspy.app:33:ShowBokehApp] ShowBokehApp VISUS_USE_PUBLIC_IP=False VISUS_SSH_TUNNELS=\");\n"
      ],
      "text/plain": [
       "<IPython.core.display.Javascript object>"
      ]
     },
     "metadata": {},
     "output_type": "display_data"
    },
    {
     "data": {
      "application/vnd.bokehjs_exec.v0+json": "",
      "text/html": [
       "<script id=\"1004\">\n",
       "  (function() {\n",
       "    const xhr = new XMLHttpRequest()\n",
       "    xhr.responseType = 'blob';\n",
       "    xhr.open('GET', \"http://localhost:51565/autoload.js?bokeh-autoload-element=1004&bokeh-absolute-url=http://localhost:51565&resources=none\", true);\n",
       "    xhr.onload = function (event) {\n",
       "      const script = document.createElement('script');\n",
       "      const src = URL.createObjectURL(event.target.response);\n",
       "      script.src = src;\n",
       "      document.body.appendChild(script);\n",
       "    };\n",
       "    xhr.send();\n",
       "  })();\n",
       "</script>"
      ]
     },
     "metadata": {
      "application/vnd.bokehjs_exec.v0+json": {
       "server_id": "28fd5c6da4114faeae1a8832f6ae8ad0"
      }
     },
     "output_type": "display_data"
    }
   ],
   "source": [
    "def MyApp(doc,url=f\"http://atlantis.sci.utah.edu/mod_visus?dataset=david_subsampled&cached=1\"):  \n",
    "    view=Slice(show_options=[\"palette\",\"timestep\",\"field\",\"direction\",\"offset\"])\n",
    "    view.setDataset(url)\n",
    "    view.setDirection(2)\n",
    "    view.setPalette(\"Greys256\")\n",
    "    view.setPaletteRange((0,255))\n",
    "    view.setTimestep(view.getTimestep())\n",
    "    view.setField(view.getField())\n",
    "    doc.add_root(view.getBokehLayout(doc=doc))\n",
    "ShowBokehApp(MyApp)"
   ]
  },
  {
   "cell_type": "markdown",
   "metadata": {},
   "source": [
    "# Single single slice of a gray 3D dataset (2kbit1)"
   ]
  },
  {
   "cell_type": "code",
   "execution_count": 3,
   "metadata": {},
   "outputs": [
    {
     "data": {
      "application/javascript": [
       "console.log(\"[130047][INFO][openvisuspy.app:33:ShowBokehApp] ShowBokehApp VISUS_USE_PUBLIC_IP=False VISUS_SSH_TUNNELS=\");\n"
      ],
      "text/plain": [
       "<IPython.core.display.Javascript object>"
      ]
     },
     "metadata": {},
     "output_type": "display_data"
    },
    {
     "data": {
      "application/vnd.bokehjs_exec.v0+json": "",
      "text/html": [
       "<script id=\"1005\">\n",
       "  (function() {\n",
       "    const xhr = new XMLHttpRequest()\n",
       "    xhr.responseType = 'blob';\n",
       "    xhr.open('GET', \"http://localhost:51567/autoload.js?bokeh-autoload-element=1005&bokeh-absolute-url=http://localhost:51567&resources=none\", true);\n",
       "    xhr.onload = function (event) {\n",
       "      const script = document.createElement('script');\n",
       "      const src = URL.createObjectURL(event.target.response);\n",
       "      script.src = src;\n",
       "      document.body.appendChild(script);\n",
       "    };\n",
       "    xhr.send();\n",
       "  })();\n",
       "</script>"
      ]
     },
     "metadata": {
      "application/vnd.bokehjs_exec.v0+json": {
       "server_id": "4627bcffa10647d7ae9fa88ac396f244"
      }
     },
     "output_type": "display_data"
    }
   ],
   "source": [
    "def MyApp(doc, url=f\"http://atlantis.sci.utah.edu/mod_visus?dataset=2kbit1&cached=1\"):\n",
    "    view=Slice()\n",
    "    view.setDataset(url)   \n",
    "    view.setDirection(2)\n",
    "    view.setPalette(\"Greys256\")\n",
    "    view.setPaletteRange((0,255))\n",
    "    view.setTimestep(view.getTimestep())\n",
    "    view.setField(view.getField())\n",
    "    doc.add_root(view.getBokehLayout(doc=doc))\n",
    "ShowBokehApp(MyApp)"
   ]
  },
  {
   "cell_type": "markdown",
   "metadata": {},
   "source": [
    "# Show multiple slices of a RGB 2D dataset (David)"
   ]
  },
  {
   "cell_type": "code",
   "execution_count": 4,
   "metadata": {},
   "outputs": [
    {
     "data": {
      "application/javascript": [
       "console.log(\"[130047][INFO][openvisuspy.app:33:ShowBokehApp] ShowBokehApp VISUS_USE_PUBLIC_IP=False VISUS_SSH_TUNNELS=\");\n"
      ],
      "text/plain": [
       "<IPython.core.display.Javascript object>"
      ]
     },
     "metadata": {},
     "output_type": "display_data"
    },
    {
     "data": {
      "application/vnd.bokehjs_exec.v0+json": "",
      "text/html": [
       "<script id=\"1008\">\n",
       "  (function() {\n",
       "    const xhr = new XMLHttpRequest()\n",
       "    xhr.responseType = 'blob';\n",
       "    xhr.open('GET', \"http://localhost:51569/autoload.js?bokeh-autoload-element=1008&bokeh-absolute-url=http://localhost:51569&resources=none\", true);\n",
       "    xhr.onload = function (event) {\n",
       "      const script = document.createElement('script');\n",
       "      const src = URL.createObjectURL(event.target.response);\n",
       "      script.src = src;\n",
       "      document.body.appendChild(script);\n",
       "    };\n",
       "    xhr.send();\n",
       "  })();\n",
       "</script>"
      ]
     },
     "metadata": {
      "application/vnd.bokehjs_exec.v0+json": {
       "server_id": "9168b04c23e34b01bd9c45bd0d34ead2"
      }
     },
     "output_type": "display_data"
    }
   ],
   "source": [
    "def MyApp(doc,url=f\"http://atlantis.sci.utah.edu/mod_visus?dataset=david_subsampled&cached=1\"):\n",
    "    view=Slices(num_views=2)\n",
    "    view.setDataset(url)\n",
    "    view.setPalette(\"Greys256\")\n",
    "    view.setPaletteRange((0,255))\n",
    "    view.setTimestep(view.getTimestep())\n",
    "    view.setField(view.getField())\n",
    "    doc.add_root(view.getBokehLayout(doc=doc))\n",
    "ShowBokehApp(MyApp)"
   ]
  },
  {
   "cell_type": "markdown",
   "metadata": {},
   "source": [
    "# Show multiple slices of a grayscale 3D dataset (2kbit1)"
   ]
  },
  {
   "cell_type": "code",
   "execution_count": 5,
   "metadata": {
    "scrolled": false
   },
   "outputs": [
    {
     "data": {
      "application/javascript": [
       "console.log(\"[130047][INFO][openvisuspy.app:33:ShowBokehApp] ShowBokehApp VISUS_USE_PUBLIC_IP=False VISUS_SSH_TUNNELS=\");\n"
      ],
      "text/plain": [
       "<IPython.core.display.Javascript object>"
      ]
     },
     "metadata": {},
     "output_type": "display_data"
    },
    {
     "data": {
      "application/vnd.bokehjs_exec.v0+json": "",
      "text/html": [
       "<script id=\"1009\">\n",
       "  (function() {\n",
       "    const xhr = new XMLHttpRequest()\n",
       "    xhr.responseType = 'blob';\n",
       "    xhr.open('GET', \"http://localhost:51572/autoload.js?bokeh-autoload-element=1009&bokeh-absolute-url=http://localhost:51572&resources=none\", true);\n",
       "    xhr.onload = function (event) {\n",
       "      const script = document.createElement('script');\n",
       "      const src = URL.createObjectURL(event.target.response);\n",
       "      script.src = src;\n",
       "      document.body.appendChild(script);\n",
       "    };\n",
       "    xhr.send();\n",
       "  })();\n",
       "</script>"
      ]
     },
     "metadata": {
      "application/vnd.bokehjs_exec.v0+json": {
       "server_id": "1c8f699dd2d4468caa4d1902850d624b"
      }
     },
     "output_type": "display_data"
    },
    {
     "data": {
      "application/javascript": [
       "console.log(\"[130047][INFO][openvisuspy.widgets:278:setDataset] Widgets[0]::setDataset value=http://atlantis.sci.utah.edu/mod_visus?dataset=2kbit1&cached=1\");\n"
      ],
      "text/plain": [
       "<IPython.core.display.Javascript object>"
      ]
     },
     "metadata": {},
     "output_type": "display_data"
    },
    {
     "data": {
      "application/javascript": [
       "console.log(\"[130048][INFO][openvisuspy.widgets:328:setTimesteps] Widgets[0]::setTimesteps start=0 end=0\");\n"
      ],
      "text/plain": [
       "<IPython.core.display.Javascript object>"
      ]
     },
     "metadata": {},
     "output_type": "display_data"
    },
    {
     "data": {
      "application/javascript": [
       "console.log(\"[130048][INFO][openvisuspy.widgets:339:setTimestepDelta] Widgets[0]::setTimestepDelta value=1\");\n"
      ],
      "text/plain": [
       "<IPython.core.display.Javascript object>"
      ]
     },
     "metadata": {},
     "output_type": "display_data"
    },
    {
     "data": {
      "application/javascript": [
       "console.log(\"[130048][INFO][openvisuspy.widgets:360:setTimestep] Widgets[0]::setTimestep value=0\");\n"
      ],
      "text/plain": [
       "<IPython.core.display.Javascript object>"
      ]
     },
     "metadata": {},
     "output_type": "display_data"
    },
    {
     "data": {
      "application/javascript": [
       "console.log(\"[130048][INFO][openvisuspy.widgets:360:setTimestep] Widgets[0]::setTimestep value=0\");\n"
      ],
      "text/plain": [
       "<IPython.core.display.Javascript object>"
      ]
     },
     "metadata": {},
     "output_type": "display_data"
    },
    {
     "data": {
      "application/javascript": [
       "console.log(\"[130048][INFO][openvisuspy.widgets:466:setDirection] Widgets[0]::setDirection value=2\");\n"
      ],
      "text/plain": [
       "<IPython.core.display.Javascript object>"
      ]
     },
     "metadata": {},
     "output_type": "display_data"
    },
    {
     "data": {
      "application/javascript": [
       "console.log(\"[130048][INFO][openvisuspy.widgets:494:setOffset] Widgets[0]::getOffset value=1024\");\n"
      ],
      "text/plain": [
       "<IPython.core.display.Javascript object>"
      ]
     },
     "metadata": {},
     "output_type": "display_data"
    },
    {
     "data": {
      "application/javascript": [
       "console.log(\"[130048][INFO][openvisuspy.slice:139:setLogicBox] Slice[0]::setLogicBox value=([0, 0, 0], [2048, 2048, 2048])\");\n"
      ],
      "text/plain": [
       "<IPython.core.display.Javascript object>"
      ]
     },
     "metadata": {},
     "output_type": "display_data"
    },
    {
     "data": {
      "application/javascript": [
       "console.log(\"[130048][INFO][openvisuspy.widgets:372:setFields] Widgets[0]::setFields value=['DATA']\");\n"
      ],
      "text/plain": [
       "<IPython.core.display.Javascript object>"
      ]
     },
     "metadata": {},
     "output_type": "display_data"
    },
    {
     "data": {
      "application/javascript": [
       "console.log(\"[130048][INFO][openvisuspy.widgets:381:setField] Widgets[0]::setField value=DATA\");\n"
      ],
      "text/plain": [
       "<IPython.core.display.Javascript object>"
      ]
     },
     "metadata": {},
     "output_type": "display_data"
    },
    {
     "data": {
      "application/javascript": [
       "console.log(\"[130048][INFO][openvisuspy.widgets:381:setField] Widgets[0]::setField value=DATA\");\n"
      ],
      "text/plain": [
       "<IPython.core.display.Javascript object>"
      ]
     },
     "metadata": {},
     "output_type": "display_data"
    },
    {
     "data": {
      "application/javascript": [
       "console.log(\"[130048][INFO][openvisuspy.widgets:466:setDirection] Widgets[0]::setDirection value=2\");\n"
      ],
      "text/plain": [
       "<IPython.core.display.Javascript object>"
      ]
     },
     "metadata": {},
     "output_type": "display_data"
    },
    {
     "data": {
      "application/javascript": [
       "console.log(\"[130048][INFO][openvisuspy.slice:139:setLogicBox] Slice[0]::setLogicBox value=([0, 0, 0], [2048, 2048, 2048])\");\n"
      ],
      "text/plain": [
       "<IPython.core.display.Javascript object>"
      ]
     },
     "metadata": {},
     "output_type": "display_data"
    },
    {
     "data": {
      "application/javascript": [
       "console.log(\"[130048][INFO][openvisuspy.widgets:394:setPalette] Widgets[0]::setPalette value=Greys256\");\n"
      ],
      "text/plain": [
       "<IPython.core.display.Javascript object>"
      ]
     },
     "metadata": {},
     "output_type": "display_data"
    },
    {
     "data": {
      "application/javascript": [
       "console.log(\"[130048][INFO][openvisuspy.widgets:408:setPaletteRange] Widgets[0]::setPaletteRange value=(0, 255)\");\n"
      ],
      "text/plain": [
       "<IPython.core.display.Javascript object>"
      ]
     },
     "metadata": {},
     "output_type": "display_data"
    },
    {
     "data": {
      "application/javascript": [
       "console.log(\"[130048][INFO][openvisuspy.widgets:360:setTimestep] Widgets[0]::setTimestep value=0\");\n"
      ],
      "text/plain": [
       "<IPython.core.display.Javascript object>"
      ]
     },
     "metadata": {},
     "output_type": "display_data"
    },
    {
     "data": {
      "application/javascript": [
       "console.log(\"[130048][INFO][openvisuspy.widgets:381:setField] Widgets[0]::setField value=DATA\");\n"
      ],
      "text/plain": [
       "<IPython.core.display.Javascript object>"
      ]
     },
     "metadata": {},
     "output_type": "display_data"
    },
    {
     "data": {
      "application/javascript": [
       "console.log(\"[130048][INFO][openvisuspy.backend_cpp:139:_threadLoop] _threadLoop is Alive\");\n"
      ],
      "text/plain": [
       "<IPython.core.display.Javascript object>"
      ]
     },
     "metadata": {},
     "output_type": "display_data"
    },
    {
     "data": {
      "application/javascript": [
       "console.log(\"[130048][INFO][openvisuspy.widgets:278:setDataset] Widgets[1]::setDataset value=http://atlantis.sci.utah.edu/mod_visus?dataset=david_subsampled&cached=1\");\n"
      ],
      "text/plain": [
       "<IPython.core.display.Javascript object>"
      ]
     },
     "metadata": {},
     "output_type": "display_data"
    },
    {
     "data": {
      "application/javascript": [
       "console.log(\"[130048][INFO][openvisuspy.widgets:328:setTimesteps] Widgets[1]::setTimesteps start=0 end=3\");\n"
      ],
      "text/plain": [
       "<IPython.core.display.Javascript object>"
      ]
     },
     "metadata": {},
     "output_type": "display_data"
    },
    {
     "data": {
      "application/javascript": [
       "console.log(\"[130048][INFO][openvisuspy.widgets:339:setTimestepDelta] Widgets[1]::setTimestepDelta value=1\");\n"
      ],
      "text/plain": [
       "<IPython.core.display.Javascript object>"
      ]
     },
     "metadata": {},
     "output_type": "display_data"
    },
    {
     "data": {
      "application/javascript": [
       "console.log(\"[130048][INFO][openvisuspy.widgets:360:setTimestep] Widgets[1]::setTimestep value=0\");\n"
      ],
      "text/plain": [
       "<IPython.core.display.Javascript object>"
      ]
     },
     "metadata": {},
     "output_type": "display_data"
    },
    {
     "data": {
      "application/javascript": [
       "console.log(\"[130048][INFO][openvisuspy.widgets:360:setTimestep] Widgets[1]::setTimestep value=0\");\n"
      ],
      "text/plain": [
       "<IPython.core.display.Javascript object>"
      ]
     },
     "metadata": {},
     "output_type": "display_data"
    },
    {
     "data": {
      "application/javascript": [
       "console.log(\"[130048][INFO][openvisuspy.widgets:466:setDirection] Widgets[1]::setDirection value=2\");\n"
      ],
      "text/plain": [
       "<IPython.core.display.Javascript object>"
      ]
     },
     "metadata": {},
     "output_type": "display_data"
    },
    {
     "data": {
      "application/javascript": [
       "console.log(\"[130048][INFO][openvisuspy.slice:139:setLogicBox] Slice[1]::setLogicBox value=([0, 0], [29280, 70416])\");\n"
      ],
      "text/plain": [
       "<IPython.core.display.Javascript object>"
      ]
     },
     "metadata": {},
     "output_type": "display_data"
    },
    {
     "data": {
      "application/javascript": [
       "console.log(\"[130048][INFO][openvisuspy.widgets:372:setFields] Widgets[1]::setFields value=['data']\");\n"
      ],
      "text/plain": [
       "<IPython.core.display.Javascript object>"
      ]
     },
     "metadata": {},
     "output_type": "display_data"
    },
    {
     "data": {
      "application/javascript": [
       "console.log(\"[130048][INFO][openvisuspy.widgets:381:setField] Widgets[1]::setField value=data\");\n"
      ],
      "text/plain": [
       "<IPython.core.display.Javascript object>"
      ]
     },
     "metadata": {},
     "output_type": "display_data"
    },
    {
     "data": {
      "application/javascript": [
       "console.log(\"[130048][INFO][openvisuspy.widgets:466:setDirection] Widgets[1]::setDirection value=2\");\n"
      ],
      "text/plain": [
       "<IPython.core.display.Javascript object>"
      ]
     },
     "metadata": {},
     "output_type": "display_data"
    },
    {
     "data": {
      "application/javascript": [
       "console.log(\"[130048][INFO][openvisuspy.slice:139:setLogicBox] Slice[1]::setLogicBox value=([0, 0], [29280, 70416])\");\n"
      ],
      "text/plain": [
       "<IPython.core.display.Javascript object>"
      ]
     },
     "metadata": {},
     "output_type": "display_data"
    },
    {
     "data": {
      "application/javascript": [
       "console.log(\"[130048][INFO][openvisuspy.widgets:394:setPalette] Widgets[1]::setPalette value=Greys256\");\n"
      ],
      "text/plain": [
       "<IPython.core.display.Javascript object>"
      ]
     },
     "metadata": {},
     "output_type": "display_data"
    },
    {
     "data": {
      "application/javascript": [
       "console.log(\"[130048][INFO][openvisuspy.widgets:408:setPaletteRange] Widgets[1]::setPaletteRange value=(0, 255)\");\n"
      ],
      "text/plain": [
       "<IPython.core.display.Javascript object>"
      ]
     },
     "metadata": {},
     "output_type": "display_data"
    },
    {
     "data": {
      "application/javascript": [
       "console.log(\"[130048][INFO][openvisuspy.widgets:360:setTimestep] Widgets[1]::setTimestep value=0\");\n"
      ],
      "text/plain": [
       "<IPython.core.display.Javascript object>"
      ]
     },
     "metadata": {},
     "output_type": "display_data"
    },
    {
     "data": {
      "application/javascript": [
       "console.log(\"[130048][INFO][openvisuspy.widgets:381:setField] Widgets[1]::setField value=data\");\n"
      ],
      "text/plain": [
       "<IPython.core.display.Javascript object>"
      ]
     },
     "metadata": {},
     "output_type": "display_data"
    },
    {
     "data": {
      "application/javascript": [
       "console.log(\"[130048][INFO][openvisuspy.backend_cpp:139:_threadLoop] _threadLoop is Alive\");\n"
      ],
      "text/plain": [
       "<IPython.core.display.Javascript object>"
      ]
     },
     "metadata": {},
     "output_type": "display_data"
    },
    {
     "data": {
      "application/javascript": [
       "console.log(\"[130048][INFO][openvisuspy.widgets:319:setNumberOfViews] Widgets[2]::setNumberOfViews value=2\");\n"
      ],
      "text/plain": [
       "<IPython.core.display.Javascript object>"
      ]
     },
     "metadata": {},
     "output_type": "display_data"
    },
    {
     "data": {
      "application/javascript": [
       "console.log(\"[130048][INFO][openvisuspy.widgets:319:setNumberOfViews] Widgets[2]::setNumberOfViews value=2\");\n"
      ],
      "text/plain": [
       "<IPython.core.display.Javascript object>"
      ]
     },
     "metadata": {},
     "output_type": "display_data"
    },
    {
     "data": {
      "application/javascript": [
       "console.log(\"[130048][INFO][openvisuspy.widgets:147:stop] <class 'openvisuspy.slices.Slices'> stop\");\n"
      ],
      "text/plain": [
       "<IPython.core.display.Javascript object>"
      ]
     },
     "metadata": {},
     "output_type": "display_data"
    },
    {
     "data": {
      "application/javascript": [
       "console.log(\"[130048][INFO][openvisuspy.widgets:147:stop] <class 'openvisuspy.slices.Slices'> stop\");\n"
      ],
      "text/plain": [
       "<IPython.core.display.Javascript object>"
      ]
     },
     "metadata": {},
     "output_type": "display_data"
    },
    {
     "data": {
      "application/javascript": [
       "console.log(\"[130048][INFO][openvisuspy.widgets:147:stop] <class 'openvisuspy.slice.Slice'> stop\");\n"
      ],
      "text/plain": [
       "<IPython.core.display.Javascript object>"
      ]
     },
     "metadata": {},
     "output_type": "display_data"
    },
    {
     "data": {
      "application/javascript": [
       "console.log(\"[130048][INFO][openvisuspy.widgets:147:stop] <class 'openvisuspy.slice.Slice'> stop\");\n"
      ],
      "text/plain": [
       "<IPython.core.display.Javascript object>"
      ]
     },
     "metadata": {},
     "output_type": "display_data"
    },
    {
     "data": {
      "application/javascript": [
       "console.log(\"[130048][INFO][openvisuspy.widgets:278:setDataset] Widgets[2]::setDataset value=http://atlantis.sci.utah.edu/mod_visus?dataset=david_subsampled&cached=1\");\n"
      ],
      "text/plain": [
       "<IPython.core.display.Javascript object>"
      ]
     },
     "metadata": {},
     "output_type": "display_data"
    },
    {
     "data": {
      "application/javascript": [
       "console.log(\"[130049][INFO][openvisuspy.widgets:278:setDataset] Widgets[5]::setDataset value=http://atlantis.sci.utah.edu/mod_visus?dataset=david_subsampled&cached=1\");\n"
      ],
      "text/plain": [
       "<IPython.core.display.Javascript object>"
      ]
     },
     "metadata": {},
     "output_type": "display_data"
    },
    {
     "data": {
      "application/javascript": [
       "console.log(\"[130049][INFO][openvisuspy.widgets:328:setTimesteps] Widgets[5]::setTimesteps start=0 end=3\");\n"
      ],
      "text/plain": [
       "<IPython.core.display.Javascript object>"
      ]
     },
     "metadata": {},
     "output_type": "display_data"
    },
    {
     "data": {
      "application/javascript": [
       "console.log(\"[130049][INFO][openvisuspy.widgets:339:setTimestepDelta] Widgets[5]::setTimestepDelta value=1\");\n"
      ],
      "text/plain": [
       "<IPython.core.display.Javascript object>"
      ]
     },
     "metadata": {},
     "output_type": "display_data"
    },
    {
     "data": {
      "application/javascript": [
       "console.log(\"[130049][INFO][openvisuspy.widgets:360:setTimestep] Widgets[5]::setTimestep value=0\");\n"
      ],
      "text/plain": [
       "<IPython.core.display.Javascript object>"
      ]
     },
     "metadata": {},
     "output_type": "display_data"
    },
    {
     "data": {
      "application/javascript": [
       "console.log(\"[130049][INFO][openvisuspy.widgets:360:setTimestep] Widgets[5]::setTimestep value=0\");\n"
      ],
      "text/plain": [
       "<IPython.core.display.Javascript object>"
      ]
     },
     "metadata": {},
     "output_type": "display_data"
    },
    {
     "data": {
      "application/javascript": [
       "console.log(\"[130049][INFO][openvisuspy.widgets:466:setDirection] Widgets[5]::setDirection value=2\");\n"
      ],
      "text/plain": [
       "<IPython.core.display.Javascript object>"
      ]
     },
     "metadata": {},
     "output_type": "display_data"
    },
    {
     "data": {
      "application/javascript": [
       "console.log(\"[130049][INFO][openvisuspy.slice:139:setLogicBox] Slice[5]::setLogicBox value=([0, 0], [29280, 70416])\");\n"
      ],
      "text/plain": [
       "<IPython.core.display.Javascript object>"
      ]
     },
     "metadata": {},
     "output_type": "display_data"
    },
    {
     "data": {
      "application/javascript": [
       "console.log(\"[130049][INFO][openvisuspy.widgets:372:setFields] Widgets[5]::setFields value=['data']\");\n"
      ],
      "text/plain": [
       "<IPython.core.display.Javascript object>"
      ]
     },
     "metadata": {},
     "output_type": "display_data"
    },
    {
     "data": {
      "application/javascript": [
       "console.log(\"[130049][INFO][openvisuspy.widgets:381:setField] Widgets[5]::setField value=data\");\n"
      ],
      "text/plain": [
       "<IPython.core.display.Javascript object>"
      ]
     },
     "metadata": {},
     "output_type": "display_data"
    },
    {
     "data": {
      "application/javascript": [
       "console.log(\"[130049][INFO][openvisuspy.widgets:278:setDataset] Widgets[6]::setDataset value=http://atlantis.sci.utah.edu/mod_visus?dataset=david_subsampled&cached=1\");\n"
      ],
      "text/plain": [
       "<IPython.core.display.Javascript object>"
      ]
     },
     "metadata": {},
     "output_type": "display_data"
    },
    {
     "data": {
      "application/javascript": [
       "console.log(\"[130049][INFO][openvisuspy.widgets:328:setTimesteps] Widgets[6]::setTimesteps start=0 end=3\");\n"
      ],
      "text/plain": [
       "<IPython.core.display.Javascript object>"
      ]
     },
     "metadata": {},
     "output_type": "display_data"
    },
    {
     "data": {
      "application/javascript": [
       "console.log(\"[130049][INFO][openvisuspy.widgets:339:setTimestepDelta] Widgets[6]::setTimestepDelta value=1\");\n"
      ],
      "text/plain": [
       "<IPython.core.display.Javascript object>"
      ]
     },
     "metadata": {},
     "output_type": "display_data"
    },
    {
     "data": {
      "application/javascript": [
       "console.log(\"[130049][INFO][openvisuspy.widgets:360:setTimestep] Widgets[6]::setTimestep value=0\");\n"
      ],
      "text/plain": [
       "<IPython.core.display.Javascript object>"
      ]
     },
     "metadata": {},
     "output_type": "display_data"
    },
    {
     "data": {
      "application/javascript": [
       "console.log(\"[130049][INFO][openvisuspy.widgets:360:setTimestep] Widgets[6]::setTimestep value=0\");\n"
      ],
      "text/plain": [
       "<IPython.core.display.Javascript object>"
      ]
     },
     "metadata": {},
     "output_type": "display_data"
    },
    {
     "data": {
      "application/javascript": [
       "console.log(\"[130049][INFO][openvisuspy.widgets:466:setDirection] Widgets[6]::setDirection value=2\");\n"
      ],
      "text/plain": [
       "<IPython.core.display.Javascript object>"
      ]
     },
     "metadata": {},
     "output_type": "display_data"
    },
    {
     "data": {
      "application/javascript": [
       "console.log(\"[130049][INFO][openvisuspy.slice:139:setLogicBox] Slice[6]::setLogicBox value=([0, 0], [29280, 70416])\");\n"
      ],
      "text/plain": [
       "<IPython.core.display.Javascript object>"
      ]
     },
     "metadata": {},
     "output_type": "display_data"
    },
    {
     "data": {
      "application/javascript": [
       "console.log(\"[130049][INFO][openvisuspy.widgets:372:setFields] Widgets[6]::setFields value=['data']\");\n"
      ],
      "text/plain": [
       "<IPython.core.display.Javascript object>"
      ]
     },
     "metadata": {},
     "output_type": "display_data"
    },
    {
     "data": {
      "application/javascript": [
       "console.log(\"[130049][INFO][openvisuspy.widgets:381:setField] Widgets[6]::setField value=data\");\n"
      ],
      "text/plain": [
       "<IPython.core.display.Javascript object>"
      ]
     },
     "metadata": {},
     "output_type": "display_data"
    },
    {
     "data": {
      "application/javascript": [
       "console.log(\"[130049][INFO][openvisuspy.widgets:328:setTimesteps] Widgets[2]::setTimesteps start=0 end=3\");\n"
      ],
      "text/plain": [
       "<IPython.core.display.Javascript object>"
      ]
     },
     "metadata": {},
     "output_type": "display_data"
    },
    {
     "data": {
      "application/javascript": [
       "console.log(\"[130049][INFO][openvisuspy.widgets:339:setTimestepDelta] Widgets[2]::setTimestepDelta value=1\");\n"
      ],
      "text/plain": [
       "<IPython.core.display.Javascript object>"
      ]
     },
     "metadata": {},
     "output_type": "display_data"
    },
    {
     "data": {
      "application/javascript": [
       "console.log(\"[130049][INFO][openvisuspy.widgets:360:setTimestep] Widgets[2]::setTimestep value=0\");\n"
      ],
      "text/plain": [
       "<IPython.core.display.Javascript object>"
      ]
     },
     "metadata": {},
     "output_type": "display_data"
    },
    {
     "data": {
      "application/javascript": [
       "console.log(\"[130049][INFO][openvisuspy.widgets:360:setTimestep] Widgets[5]::setTimestep value=0\");\n"
      ],
      "text/plain": [
       "<IPython.core.display.Javascript object>"
      ]
     },
     "metadata": {},
     "output_type": "display_data"
    },
    {
     "data": {
      "application/javascript": [
       "console.log(\"[130049][INFO][openvisuspy.widgets:360:setTimestep] Widgets[6]::setTimestep value=0\");\n"
      ],
      "text/plain": [
       "<IPython.core.display.Javascript object>"
      ]
     },
     "metadata": {},
     "output_type": "display_data"
    },
    {
     "data": {
      "application/javascript": [
       "console.log(\"[130049][INFO][openvisuspy.widgets:339:setTimestepDelta] Widgets[5]::setTimestepDelta value=1\");\n"
      ],
      "text/plain": [
       "<IPython.core.display.Javascript object>"
      ]
     },
     "metadata": {},
     "output_type": "display_data"
    },
    {
     "data": {
      "application/javascript": [
       "console.log(\"[130049][INFO][openvisuspy.widgets:360:setTimestep] Widgets[5]::setTimestep value=0\");\n"
      ],
      "text/plain": [
       "<IPython.core.display.Javascript object>"
      ]
     },
     "metadata": {},
     "output_type": "display_data"
    },
    {
     "data": {
      "application/javascript": [
       "console.log(\"[130049][INFO][openvisuspy.widgets:339:setTimestepDelta] Widgets[6]::setTimestepDelta value=1\");\n"
      ],
      "text/plain": [
       "<IPython.core.display.Javascript object>"
      ]
     },
     "metadata": {},
     "output_type": "display_data"
    },
    {
     "data": {
      "application/javascript": [
       "console.log(\"[130049][INFO][openvisuspy.widgets:360:setTimestep] Widgets[6]::setTimestep value=0\");\n"
      ],
      "text/plain": [
       "<IPython.core.display.Javascript object>"
      ]
     },
     "metadata": {},
     "output_type": "display_data"
    },
    {
     "data": {
      "application/javascript": [
       "console.log(\"[130049][INFO][openvisuspy.widgets:360:setTimestep] Widgets[2]::setTimestep value=0\");\n"
      ],
      "text/plain": [
       "<IPython.core.display.Javascript object>"
      ]
     },
     "metadata": {},
     "output_type": "display_data"
    },
    {
     "data": {
      "application/javascript": [
       "console.log(\"[130049][INFO][openvisuspy.widgets:360:setTimestep] Widgets[5]::setTimestep value=0\");\n"
      ],
      "text/plain": [
       "<IPython.core.display.Javascript object>"
      ]
     },
     "metadata": {},
     "output_type": "display_data"
    },
    {
     "data": {
      "application/javascript": [
       "console.log(\"[130049][INFO][openvisuspy.widgets:360:setTimestep] Widgets[6]::setTimestep value=0\");\n"
      ],
      "text/plain": [
       "<IPython.core.display.Javascript object>"
      ]
     },
     "metadata": {},
     "output_type": "display_data"
    },
    {
     "data": {
      "application/javascript": [
       "console.log(\"[130049][INFO][openvisuspy.widgets:466:setDirection] Widgets[2]::setDirection value=2\");\n"
      ],
      "text/plain": [
       "<IPython.core.display.Javascript object>"
      ]
     },
     "metadata": {},
     "output_type": "display_data"
    },
    {
     "data": {
      "application/javascript": [
       "console.log(\"[130049][INFO][openvisuspy.widgets:466:setDirection] Widgets[5]::setDirection value=2\");\n"
      ],
      "text/plain": [
       "<IPython.core.display.Javascript object>"
      ]
     },
     "metadata": {},
     "output_type": "display_data"
    },
    {
     "data": {
      "application/javascript": [
       "console.log(\"[130049][INFO][openvisuspy.slice:139:setLogicBox] Slice[5]::setLogicBox value=([0, 0], [29280, 70416])\");\n"
      ],
      "text/plain": [
       "<IPython.core.display.Javascript object>"
      ]
     },
     "metadata": {},
     "output_type": "display_data"
    },
    {
     "data": {
      "application/javascript": [
       "console.log(\"[130049][INFO][openvisuspy.widgets:466:setDirection] Widgets[6]::setDirection value=2\");\n"
      ],
      "text/plain": [
       "<IPython.core.display.Javascript object>"
      ]
     },
     "metadata": {},
     "output_type": "display_data"
    },
    {
     "data": {
      "application/javascript": [
       "console.log(\"[130049][INFO][openvisuspy.slice:139:setLogicBox] Slice[6]::setLogicBox value=([0, 0], [29280, 70416])\");\n"
      ],
      "text/plain": [
       "<IPython.core.display.Javascript object>"
      ]
     },
     "metadata": {},
     "output_type": "display_data"
    },
    {
     "data": {
      "application/javascript": [
       "console.log(\"[130049][INFO][openvisuspy.widgets:372:setFields] Widgets[2]::setFields value=['data']\");\n"
      ],
      "text/plain": [
       "<IPython.core.display.Javascript object>"
      ]
     },
     "metadata": {},
     "output_type": "display_data"
    },
    {
     "data": {
      "application/javascript": [
       "console.log(\"[130049][INFO][openvisuspy.widgets:381:setField] Widgets[2]::setField value=data\");\n"
      ],
      "text/plain": [
       "<IPython.core.display.Javascript object>"
      ]
     },
     "metadata": {},
     "output_type": "display_data"
    },
    {
     "data": {
      "application/javascript": [
       "console.log(\"[130049][INFO][openvisuspy.widgets:381:setField] Widgets[5]::setField value=data\");\n"
      ],
      "text/plain": [
       "<IPython.core.display.Javascript object>"
      ]
     },
     "metadata": {},
     "output_type": "display_data"
    },
    {
     "data": {
      "application/javascript": [
       "console.log(\"[130049][INFO][openvisuspy.widgets:381:setField] Widgets[6]::setField value=data\");\n"
      ],
      "text/plain": [
       "<IPython.core.display.Javascript object>"
      ]
     },
     "metadata": {},
     "output_type": "display_data"
    },
    {
     "data": {
      "application/javascript": [
       "console.log(\"[130049][INFO][openvisuspy.widgets:394:setPalette] Widgets[2]::setPalette value=Greys256\");\n"
      ],
      "text/plain": [
       "<IPython.core.display.Javascript object>"
      ]
     },
     "metadata": {},
     "output_type": "display_data"
    },
    {
     "data": {
      "application/javascript": [
       "console.log(\"[130049][INFO][openvisuspy.widgets:394:setPalette] Widgets[5]::setPalette value=Greys256\");\n"
      ],
      "text/plain": [
       "<IPython.core.display.Javascript object>"
      ]
     },
     "metadata": {},
     "output_type": "display_data"
    },
    {
     "data": {
      "application/javascript": [
       "console.log(\"[130049][INFO][openvisuspy.widgets:394:setPalette] Widgets[6]::setPalette value=Greys256\");\n"
      ],
      "text/plain": [
       "<IPython.core.display.Javascript object>"
      ]
     },
     "metadata": {},
     "output_type": "display_data"
    },
    {
     "data": {
      "application/javascript": [
       "console.log(\"[130049][INFO][openvisuspy.widgets:408:setPaletteRange] Widgets[2]::setPaletteRange value=(0, 255)\");\n"
      ],
      "text/plain": [
       "<IPython.core.display.Javascript object>"
      ]
     },
     "metadata": {},
     "output_type": "display_data"
    },
    {
     "data": {
      "application/javascript": [
       "console.log(\"[130049][INFO][openvisuspy.widgets:408:setPaletteRange] Widgets[5]::setPaletteRange value=(0, 255)\");\n"
      ],
      "text/plain": [
       "<IPython.core.display.Javascript object>"
      ]
     },
     "metadata": {},
     "output_type": "display_data"
    },
    {
     "data": {
      "application/javascript": [
       "console.log(\"[130049][INFO][openvisuspy.widgets:408:setPaletteRange] Widgets[6]::setPaletteRange value=(0, 255)\");\n"
      ],
      "text/plain": [
       "<IPython.core.display.Javascript object>"
      ]
     },
     "metadata": {},
     "output_type": "display_data"
    },
    {
     "data": {
      "application/javascript": [
       "console.log(\"[130049][INFO][openvisuspy.widgets:360:setTimestep] Widgets[2]::setTimestep value=0\");\n"
      ],
      "text/plain": [
       "<IPython.core.display.Javascript object>"
      ]
     },
     "metadata": {},
     "output_type": "display_data"
    },
    {
     "data": {
      "application/javascript": [
       "console.log(\"[130049][INFO][openvisuspy.widgets:360:setTimestep] Widgets[5]::setTimestep value=0\");\n"
      ],
      "text/plain": [
       "<IPython.core.display.Javascript object>"
      ]
     },
     "metadata": {},
     "output_type": "display_data"
    },
    {
     "data": {
      "application/javascript": [
       "console.log(\"[130049][INFO][openvisuspy.widgets:360:setTimestep] Widgets[6]::setTimestep value=0\");\n"
      ],
      "text/plain": [
       "<IPython.core.display.Javascript object>"
      ]
     },
     "metadata": {},
     "output_type": "display_data"
    },
    {
     "data": {
      "application/javascript": [
       "console.log(\"[130049][INFO][openvisuspy.widgets:381:setField] Widgets[2]::setField value=data\");\n"
      ],
      "text/plain": [
       "<IPython.core.display.Javascript object>"
      ]
     },
     "metadata": {},
     "output_type": "display_data"
    },
    {
     "data": {
      "application/javascript": [
       "console.log(\"[130049][INFO][openvisuspy.widgets:381:setField] Widgets[5]::setField value=data\");\n"
      ],
      "text/plain": [
       "<IPython.core.display.Javascript object>"
      ]
     },
     "metadata": {},
     "output_type": "display_data"
    },
    {
     "data": {
      "application/javascript": [
       "console.log(\"[130049][INFO][openvisuspy.widgets:381:setField] Widgets[6]::setField value=data\");\n"
      ],
      "text/plain": [
       "<IPython.core.display.Javascript object>"
      ]
     },
     "metadata": {},
     "output_type": "display_data"
    },
    {
     "data": {
      "application/javascript": [
       "console.log(\"[130049][INFO][openvisuspy.backend_cpp:139:_threadLoop] _threadLoop is Alive\");\n"
      ],
      "text/plain": [
       "<IPython.core.display.Javascript object>"
      ]
     },
     "metadata": {},
     "output_type": "display_data"
    },
    {
     "data": {
      "application/javascript": [
       "console.log(\"[130049][INFO][openvisuspy.backend_cpp:139:_threadLoop] _threadLoop is Alive\");\n"
      ],
      "text/plain": [
       "<IPython.core.display.Javascript object>"
      ]
     },
     "metadata": {},
     "output_type": "display_data"
    },
    {
     "data": {
      "application/javascript": [
       "console.log(\"[130049][INFO][openvisuspy.widgets:319:setNumberOfViews] Widgets[7]::setNumberOfViews value=2\");\n"
      ],
      "text/plain": [
       "<IPython.core.display.Javascript object>"
      ]
     },
     "metadata": {},
     "output_type": "display_data"
    },
    {
     "data": {
      "application/javascript": [
       "console.log(\"[130049][INFO][openvisuspy.widgets:319:setNumberOfViews] Widgets[7]::setNumberOfViews value=2\");\n"
      ],
      "text/plain": [
       "<IPython.core.display.Javascript object>"
      ]
     },
     "metadata": {},
     "output_type": "display_data"
    },
    {
     "data": {
      "application/javascript": [
       "console.log(\"[130049][INFO][openvisuspy.widgets:147:stop] <class 'openvisuspy.slices.Slices'> stop\");\n"
      ],
      "text/plain": [
       "<IPython.core.display.Javascript object>"
      ]
     },
     "metadata": {},
     "output_type": "display_data"
    },
    {
     "data": {
      "application/javascript": [
       "console.log(\"[130049][INFO][openvisuspy.widgets:147:stop] <class 'openvisuspy.slices.Slices'> stop\");\n"
      ],
      "text/plain": [
       "<IPython.core.display.Javascript object>"
      ]
     },
     "metadata": {},
     "output_type": "display_data"
    },
    {
     "data": {
      "application/javascript": [
       "console.log(\"[130049][INFO][openvisuspy.widgets:147:stop] <class 'openvisuspy.slice.Slice'> stop\");\n"
      ],
      "text/plain": [
       "<IPython.core.display.Javascript object>"
      ]
     },
     "metadata": {},
     "output_type": "display_data"
    },
    {
     "data": {
      "application/javascript": [
       "console.log(\"[130049][INFO][openvisuspy.widgets:147:stop] <class 'openvisuspy.slice.Slice'> stop\");\n"
      ],
      "text/plain": [
       "<IPython.core.display.Javascript object>"
      ]
     },
     "metadata": {},
     "output_type": "display_data"
    },
    {
     "data": {
      "application/javascript": [
       "console.log(\"[130049][INFO][openvisuspy.widgets:278:setDataset] Widgets[7]::setDataset value=http://atlantis.sci.utah.edu/mod_visus?dataset=2kbit1&cached=1\");\n"
      ],
      "text/plain": [
       "<IPython.core.display.Javascript object>"
      ]
     },
     "metadata": {},
     "output_type": "display_data"
    },
    {
     "data": {
      "application/javascript": [
       "console.log(\"[130049][INFO][openvisuspy.widgets:278:setDataset] Widgets[10]::setDataset value=http://atlantis.sci.utah.edu/mod_visus?dataset=2kbit1&cached=1\");\n"
      ],
      "text/plain": [
       "<IPython.core.display.Javascript object>"
      ]
     },
     "metadata": {},
     "output_type": "display_data"
    },
    {
     "data": {
      "application/javascript": [
       "console.log(\"[130049][INFO][openvisuspy.widgets:328:setTimesteps] Widgets[10]::setTimesteps start=0 end=0\");\n"
      ],
      "text/plain": [
       "<IPython.core.display.Javascript object>"
      ]
     },
     "metadata": {},
     "output_type": "display_data"
    },
    {
     "data": {
      "application/javascript": [
       "console.log(\"[130049][INFO][openvisuspy.widgets:339:setTimestepDelta] Widgets[10]::setTimestepDelta value=1\");\n"
      ],
      "text/plain": [
       "<IPython.core.display.Javascript object>"
      ]
     },
     "metadata": {},
     "output_type": "display_data"
    },
    {
     "data": {
      "application/javascript": [
       "console.log(\"[130049][INFO][openvisuspy.widgets:360:setTimestep] Widgets[10]::setTimestep value=0\");\n"
      ],
      "text/plain": [
       "<IPython.core.display.Javascript object>"
      ]
     },
     "metadata": {},
     "output_type": "display_data"
    },
    {
     "data": {
      "application/javascript": [
       "console.log(\"[130049][INFO][openvisuspy.widgets:360:setTimestep] Widgets[10]::setTimestep value=0\");\n"
      ],
      "text/plain": [
       "<IPython.core.display.Javascript object>"
      ]
     },
     "metadata": {},
     "output_type": "display_data"
    },
    {
     "data": {
      "application/javascript": [
       "console.log(\"[130049][INFO][openvisuspy.widgets:466:setDirection] Widgets[10]::setDirection value=2\");\n"
      ],
      "text/plain": [
       "<IPython.core.display.Javascript object>"
      ]
     },
     "metadata": {},
     "output_type": "display_data"
    },
    {
     "data": {
      "application/javascript": [
       "console.log(\"[130049][INFO][openvisuspy.widgets:494:setOffset] Widgets[10]::getOffset value=1024\");\n"
      ],
      "text/plain": [
       "<IPython.core.display.Javascript object>"
      ]
     },
     "metadata": {},
     "output_type": "display_data"
    },
    {
     "data": {
      "application/javascript": [
       "console.log(\"[130049][INFO][openvisuspy.slice:139:setLogicBox] Slice[10]::setLogicBox value=([0, 0, 0], [2048, 2048, 2048])\");\n"
      ],
      "text/plain": [
       "<IPython.core.display.Javascript object>"
      ]
     },
     "metadata": {},
     "output_type": "display_data"
    },
    {
     "data": {
      "application/javascript": [
       "console.log(\"[130049][INFO][openvisuspy.widgets:372:setFields] Widgets[10]::setFields value=['DATA']\");\n"
      ],
      "text/plain": [
       "<IPython.core.display.Javascript object>"
      ]
     },
     "metadata": {},
     "output_type": "display_data"
    },
    {
     "data": {
      "application/javascript": [
       "console.log(\"[130049][INFO][openvisuspy.widgets:381:setField] Widgets[10]::setField value=DATA\");\n"
      ],
      "text/plain": [
       "<IPython.core.display.Javascript object>"
      ]
     },
     "metadata": {},
     "output_type": "display_data"
    },
    {
     "data": {
      "application/javascript": [
       "console.log(\"[130049][INFO][openvisuspy.widgets:381:setField] Widgets[10]::setField value=DATA\");\n"
      ],
      "text/plain": [
       "<IPython.core.display.Javascript object>"
      ]
     },
     "metadata": {},
     "output_type": "display_data"
    },
    {
     "data": {
      "application/javascript": [
       "console.log(\"[130049][INFO][openvisuspy.widgets:278:setDataset] Widgets[11]::setDataset value=http://atlantis.sci.utah.edu/mod_visus?dataset=2kbit1&cached=1\");\n"
      ],
      "text/plain": [
       "<IPython.core.display.Javascript object>"
      ]
     },
     "metadata": {},
     "output_type": "display_data"
    },
    {
     "data": {
      "application/javascript": [
       "console.log(\"[130049][INFO][openvisuspy.widgets:328:setTimesteps] Widgets[11]::setTimesteps start=0 end=0\");\n"
      ],
      "text/plain": [
       "<IPython.core.display.Javascript object>"
      ]
     },
     "metadata": {},
     "output_type": "display_data"
    },
    {
     "data": {
      "application/javascript": [
       "console.log(\"[130049][INFO][openvisuspy.widgets:339:setTimestepDelta] Widgets[11]::setTimestepDelta value=1\");\n"
      ],
      "text/plain": [
       "<IPython.core.display.Javascript object>"
      ]
     },
     "metadata": {},
     "output_type": "display_data"
    },
    {
     "data": {
      "application/javascript": [
       "console.log(\"[130049][INFO][openvisuspy.widgets:360:setTimestep] Widgets[11]::setTimestep value=0\");\n"
      ],
      "text/plain": [
       "<IPython.core.display.Javascript object>"
      ]
     },
     "metadata": {},
     "output_type": "display_data"
    },
    {
     "data": {
      "application/javascript": [
       "console.log(\"[130049][INFO][openvisuspy.widgets:360:setTimestep] Widgets[11]::setTimestep value=0\");\n"
      ],
      "text/plain": [
       "<IPython.core.display.Javascript object>"
      ]
     },
     "metadata": {},
     "output_type": "display_data"
    },
    {
     "data": {
      "application/javascript": [
       "console.log(\"[130049][INFO][openvisuspy.widgets:466:setDirection] Widgets[11]::setDirection value=2\");\n"
      ],
      "text/plain": [
       "<IPython.core.display.Javascript object>"
      ]
     },
     "metadata": {},
     "output_type": "display_data"
    },
    {
     "data": {
      "application/javascript": [
       "console.log(\"[130049][INFO][openvisuspy.widgets:494:setOffset] Widgets[11]::getOffset value=1024\");\n"
      ],
      "text/plain": [
       "<IPython.core.display.Javascript object>"
      ]
     },
     "metadata": {},
     "output_type": "display_data"
    },
    {
     "data": {
      "application/javascript": [
       "console.log(\"[130049][INFO][openvisuspy.slice:139:setLogicBox] Slice[11]::setLogicBox value=([0, 0, 0], [2048, 2048, 2048])\");\n"
      ],
      "text/plain": [
       "<IPython.core.display.Javascript object>"
      ]
     },
     "metadata": {},
     "output_type": "display_data"
    },
    {
     "data": {
      "application/javascript": [
       "console.log(\"[130049][INFO][openvisuspy.widgets:372:setFields] Widgets[11]::setFields value=['DATA']\");\n"
      ],
      "text/plain": [
       "<IPython.core.display.Javascript object>"
      ]
     },
     "metadata": {},
     "output_type": "display_data"
    },
    {
     "data": {
      "application/javascript": [
       "console.log(\"[130049][INFO][openvisuspy.widgets:381:setField] Widgets[11]::setField value=DATA\");\n"
      ],
      "text/plain": [
       "<IPython.core.display.Javascript object>"
      ]
     },
     "metadata": {},
     "output_type": "display_data"
    },
    {
     "data": {
      "application/javascript": [
       "console.log(\"[130049][INFO][openvisuspy.widgets:381:setField] Widgets[11]::setField value=DATA\");\n"
      ],
      "text/plain": [
       "<IPython.core.display.Javascript object>"
      ]
     },
     "metadata": {},
     "output_type": "display_data"
    },
    {
     "data": {
      "application/javascript": [
       "console.log(\"[130049][INFO][openvisuspy.widgets:328:setTimesteps] Widgets[7]::setTimesteps start=0 end=0\");\n"
      ],
      "text/plain": [
       "<IPython.core.display.Javascript object>"
      ]
     },
     "metadata": {},
     "output_type": "display_data"
    },
    {
     "data": {
      "application/javascript": [
       "console.log(\"[130049][INFO][openvisuspy.widgets:339:setTimestepDelta] Widgets[7]::setTimestepDelta value=1\");\n"
      ],
      "text/plain": [
       "<IPython.core.display.Javascript object>"
      ]
     },
     "metadata": {},
     "output_type": "display_data"
    },
    {
     "data": {
      "application/javascript": [
       "console.log(\"[130049][INFO][openvisuspy.widgets:360:setTimestep] Widgets[7]::setTimestep value=0\");\n"
      ],
      "text/plain": [
       "<IPython.core.display.Javascript object>"
      ]
     },
     "metadata": {},
     "output_type": "display_data"
    },
    {
     "data": {
      "application/javascript": [
       "console.log(\"[130049][INFO][openvisuspy.widgets:360:setTimestep] Widgets[10]::setTimestep value=0\");\n"
      ],
      "text/plain": [
       "<IPython.core.display.Javascript object>"
      ]
     },
     "metadata": {},
     "output_type": "display_data"
    },
    {
     "data": {
      "application/javascript": [
       "console.log(\"[130049][INFO][openvisuspy.widgets:360:setTimestep] Widgets[11]::setTimestep value=0\");\n"
      ],
      "text/plain": [
       "<IPython.core.display.Javascript object>"
      ]
     },
     "metadata": {},
     "output_type": "display_data"
    },
    {
     "data": {
      "application/javascript": [
       "console.log(\"[130049][INFO][openvisuspy.widgets:339:setTimestepDelta] Widgets[10]::setTimestepDelta value=1\");\n"
      ],
      "text/plain": [
       "<IPython.core.display.Javascript object>"
      ]
     },
     "metadata": {},
     "output_type": "display_data"
    },
    {
     "data": {
      "application/javascript": [
       "console.log(\"[130049][INFO][openvisuspy.widgets:360:setTimestep] Widgets[10]::setTimestep value=0\");\n"
      ],
      "text/plain": [
       "<IPython.core.display.Javascript object>"
      ]
     },
     "metadata": {},
     "output_type": "display_data"
    },
    {
     "data": {
      "application/javascript": [
       "console.log(\"[130049][INFO][openvisuspy.widgets:339:setTimestepDelta] Widgets[11]::setTimestepDelta value=1\");\n"
      ],
      "text/plain": [
       "<IPython.core.display.Javascript object>"
      ]
     },
     "metadata": {},
     "output_type": "display_data"
    },
    {
     "data": {
      "application/javascript": [
       "console.log(\"[130049][INFO][openvisuspy.widgets:360:setTimestep] Widgets[11]::setTimestep value=0\");\n"
      ],
      "text/plain": [
       "<IPython.core.display.Javascript object>"
      ]
     },
     "metadata": {},
     "output_type": "display_data"
    },
    {
     "data": {
      "application/javascript": [
       "console.log(\"[130049][INFO][openvisuspy.widgets:360:setTimestep] Widgets[7]::setTimestep value=0\");\n"
      ],
      "text/plain": [
       "<IPython.core.display.Javascript object>"
      ]
     },
     "metadata": {},
     "output_type": "display_data"
    },
    {
     "data": {
      "application/javascript": [
       "console.log(\"[130049][INFO][openvisuspy.widgets:360:setTimestep] Widgets[10]::setTimestep value=0\");\n"
      ],
      "text/plain": [
       "<IPython.core.display.Javascript object>"
      ]
     },
     "metadata": {},
     "output_type": "display_data"
    },
    {
     "data": {
      "application/javascript": [
       "console.log(\"[130049][INFO][openvisuspy.widgets:360:setTimestep] Widgets[11]::setTimestep value=0\");\n"
      ],
      "text/plain": [
       "<IPython.core.display.Javascript object>"
      ]
     },
     "metadata": {},
     "output_type": "display_data"
    },
    {
     "data": {
      "application/javascript": [
       "console.log(\"[130049][INFO][openvisuspy.widgets:466:setDirection] Widgets[7]::setDirection value=2\");\n"
      ],
      "text/plain": [
       "<IPython.core.display.Javascript object>"
      ]
     },
     "metadata": {},
     "output_type": "display_data"
    },
    {
     "data": {
      "application/javascript": [
       "console.log(\"[130049][INFO][openvisuspy.widgets:494:setOffset] Widgets[7]::getOffset value=1024\");\n"
      ],
      "text/plain": [
       "<IPython.core.display.Javascript object>"
      ]
     },
     "metadata": {},
     "output_type": "display_data"
    },
    {
     "data": {
      "application/javascript": [
       "console.log(\"[130049][INFO][openvisuspy.widgets:466:setDirection] Widgets[10]::setDirection value=0\");\n"
      ],
      "text/plain": [
       "<IPython.core.display.Javascript object>"
      ]
     },
     "metadata": {},
     "output_type": "display_data"
    },
    {
     "data": {
      "application/javascript": [
       "console.log(\"[130049][INFO][openvisuspy.widgets:466:setDirection] Widgets[10]::setDirection value=0\");\n"
      ],
      "text/plain": [
       "<IPython.core.display.Javascript object>"
      ]
     },
     "metadata": {},
     "output_type": "display_data"
    },
    {
     "data": {
      "application/javascript": [
       "console.log(\"[130049][INFO][openvisuspy.slice:139:setLogicBox] Slice[10]::setLogicBox value=([0, 0, 0], [2048, 2048, 2048])\");\n"
      ],
      "text/plain": [
       "<IPython.core.display.Javascript object>"
      ]
     },
     "metadata": {},
     "output_type": "display_data"
    },
    {
     "data": {
      "application/javascript": [
       "console.log(\"[130049][INFO][openvisuspy.slice:139:setLogicBox] Slice[10]::setLogicBox value=([0, 0, 0], [2048, 2048, 2048])\");\n"
      ],
      "text/plain": [
       "<IPython.core.display.Javascript object>"
      ]
     },
     "metadata": {},
     "output_type": "display_data"
    },
    {
     "data": {
      "application/javascript": [
       "console.log(\"[130049][INFO][openvisuspy.widgets:466:setDirection] Widgets[11]::setDirection value=1\");\n"
      ],
      "text/plain": [
       "<IPython.core.display.Javascript object>"
      ]
     },
     "metadata": {},
     "output_type": "display_data"
    },
    {
     "data": {
      "application/javascript": [
       "console.log(\"[130049][INFO][openvisuspy.widgets:466:setDirection] Widgets[11]::setDirection value=1\");\n"
      ],
      "text/plain": [
       "<IPython.core.display.Javascript object>"
      ]
     },
     "metadata": {},
     "output_type": "display_data"
    },
    {
     "data": {
      "application/javascript": [
       "console.log(\"[130049][INFO][openvisuspy.slice:139:setLogicBox] Slice[11]::setLogicBox value=([0, 0, 0], [2048, 2048, 2048])\");\n"
      ],
      "text/plain": [
       "<IPython.core.display.Javascript object>"
      ]
     },
     "metadata": {},
     "output_type": "display_data"
    },
    {
     "data": {
      "application/javascript": [
       "console.log(\"[130049][INFO][openvisuspy.slice:139:setLogicBox] Slice[11]::setLogicBox value=([0, 0, 0], [2048, 2048, 2048])\");\n"
      ],
      "text/plain": [
       "<IPython.core.display.Javascript object>"
      ]
     },
     "metadata": {},
     "output_type": "display_data"
    },
    {
     "data": {
      "application/javascript": [
       "console.log(\"[130049][INFO][openvisuspy.widgets:372:setFields] Widgets[7]::setFields value=['DATA']\");\n"
      ],
      "text/plain": [
       "<IPython.core.display.Javascript object>"
      ]
     },
     "metadata": {},
     "output_type": "display_data"
    },
    {
     "data": {
      "application/javascript": [
       "console.log(\"[130049][INFO][openvisuspy.widgets:381:setField] Widgets[7]::setField value=DATA\");\n"
      ],
      "text/plain": [
       "<IPython.core.display.Javascript object>"
      ]
     },
     "metadata": {},
     "output_type": "display_data"
    },
    {
     "data": {
      "application/javascript": [
       "console.log(\"[130049][INFO][openvisuspy.widgets:381:setField] Widgets[7]::setField value=DATA\");\n"
      ],
      "text/plain": [
       "<IPython.core.display.Javascript object>"
      ]
     },
     "metadata": {},
     "output_type": "display_data"
    },
    {
     "data": {
      "application/javascript": [
       "console.log(\"[130049][INFO][openvisuspy.widgets:381:setField] Widgets[10]::setField value=DATA\");\n"
      ],
      "text/plain": [
       "<IPython.core.display.Javascript object>"
      ]
     },
     "metadata": {},
     "output_type": "display_data"
    },
    {
     "data": {
      "application/javascript": [
       "console.log(\"[130049][INFO][openvisuspy.widgets:381:setField] Widgets[11]::setField value=DATA\");\n"
      ],
      "text/plain": [
       "<IPython.core.display.Javascript object>"
      ]
     },
     "metadata": {},
     "output_type": "display_data"
    },
    {
     "data": {
      "application/javascript": [
       "console.log(\"[130049][INFO][openvisuspy.widgets:381:setField] Widgets[10]::setField value=DATA\");\n"
      ],
      "text/plain": [
       "<IPython.core.display.Javascript object>"
      ]
     },
     "metadata": {},
     "output_type": "display_data"
    },
    {
     "data": {
      "application/javascript": [
       "console.log(\"[130049][INFO][openvisuspy.widgets:381:setField] Widgets[11]::setField value=DATA\");\n"
      ],
      "text/plain": [
       "<IPython.core.display.Javascript object>"
      ]
     },
     "metadata": {},
     "output_type": "display_data"
    },
    {
     "data": {
      "application/javascript": [
       "console.log(\"[130049][INFO][openvisuspy.widgets:394:setPalette] Widgets[7]::setPalette value=Greys256\");\n"
      ],
      "text/plain": [
       "<IPython.core.display.Javascript object>"
      ]
     },
     "metadata": {},
     "output_type": "display_data"
    },
    {
     "data": {
      "application/javascript": [
       "console.log(\"[130049][INFO][openvisuspy.widgets:394:setPalette] Widgets[10]::setPalette value=Greys256\");\n"
      ],
      "text/plain": [
       "<IPython.core.display.Javascript object>"
      ]
     },
     "metadata": {},
     "output_type": "display_data"
    },
    {
     "data": {
      "application/javascript": [
       "console.log(\"[130049][INFO][openvisuspy.widgets:394:setPalette] Widgets[11]::setPalette value=Greys256\");\n"
      ],
      "text/plain": [
       "<IPython.core.display.Javascript object>"
      ]
     },
     "metadata": {},
     "output_type": "display_data"
    },
    {
     "data": {
      "application/javascript": [
       "console.log(\"[130049][INFO][openvisuspy.widgets:408:setPaletteRange] Widgets[7]::setPaletteRange value=(0, 255)\");\n"
      ],
      "text/plain": [
       "<IPython.core.display.Javascript object>"
      ]
     },
     "metadata": {},
     "output_type": "display_data"
    },
    {
     "data": {
      "application/javascript": [
       "console.log(\"[130049][INFO][openvisuspy.widgets:408:setPaletteRange] Widgets[10]::setPaletteRange value=(0, 255)\");\n"
      ],
      "text/plain": [
       "<IPython.core.display.Javascript object>"
      ]
     },
     "metadata": {},
     "output_type": "display_data"
    },
    {
     "data": {
      "application/javascript": [
       "console.log(\"[130049][INFO][openvisuspy.widgets:408:setPaletteRange] Widgets[11]::setPaletteRange value=(0, 255)\");\n"
      ],
      "text/plain": [
       "<IPython.core.display.Javascript object>"
      ]
     },
     "metadata": {},
     "output_type": "display_data"
    },
    {
     "data": {
      "application/javascript": [
       "console.log(\"[130049][INFO][openvisuspy.widgets:360:setTimestep] Widgets[7]::setTimestep value=0\");\n"
      ],
      "text/plain": [
       "<IPython.core.display.Javascript object>"
      ]
     },
     "metadata": {},
     "output_type": "display_data"
    },
    {
     "data": {
      "application/javascript": [
       "console.log(\"[130049][INFO][openvisuspy.widgets:360:setTimestep] Widgets[10]::setTimestep value=0\");\n"
      ],
      "text/plain": [
       "<IPython.core.display.Javascript object>"
      ]
     },
     "metadata": {},
     "output_type": "display_data"
    },
    {
     "data": {
      "application/javascript": [
       "console.log(\"[130049][INFO][openvisuspy.widgets:360:setTimestep] Widgets[11]::setTimestep value=0\");\n"
      ],
      "text/plain": [
       "<IPython.core.display.Javascript object>"
      ]
     },
     "metadata": {},
     "output_type": "display_data"
    },
    {
     "data": {
      "application/javascript": [
       "console.log(\"[130049][INFO][openvisuspy.widgets:381:setField] Widgets[7]::setField value=DATA\");\n"
      ],
      "text/plain": [
       "<IPython.core.display.Javascript object>"
      ]
     },
     "metadata": {},
     "output_type": "display_data"
    },
    {
     "data": {
      "application/javascript": [
       "console.log(\"[130049][INFO][openvisuspy.widgets:381:setField] Widgets[10]::setField value=DATA\");\n"
      ],
      "text/plain": [
       "<IPython.core.display.Javascript object>"
      ]
     },
     "metadata": {},
     "output_type": "display_data"
    },
    {
     "data": {
      "application/javascript": [
       "console.log(\"[130049][INFO][openvisuspy.widgets:381:setField] Widgets[11]::setField value=DATA\");\n"
      ],
      "text/plain": [
       "<IPython.core.display.Javascript object>"
      ]
     },
     "metadata": {},
     "output_type": "display_data"
    },
    {
     "data": {
      "application/javascript": [
       "console.log(\"[130049][INFO][openvisuspy.backend_cpp:139:_threadLoop] _threadLoop is Alive\");\n"
      ],
      "text/plain": [
       "<IPython.core.display.Javascript object>"
      ]
     },
     "metadata": {},
     "output_type": "display_data"
    },
    {
     "data": {
      "application/javascript": [
       "console.log(\"[130049][INFO][openvisuspy.backend_cpp:139:_threadLoop] _threadLoop is Alive\");\n"
      ],
      "text/plain": [
       "<IPython.core.display.Javascript object>"
      ]
     },
     "metadata": {},
     "output_type": "display_data"
    },
    {
     "data": {
      "application/javascript": [
       "console.log(\"[130049][INFO][openvisuspy.canvas:61:onResize] Calling on_resize callback w=875 h=543\");\n"
      ],
      "text/plain": [
       "<IPython.core.display.Javascript object>"
      ]
     },
     "metadata": {},
     "output_type": "display_data"
    },
    {
     "data": {
      "application/javascript": [
       "console.log(\"[130049][INFO][openvisuspy.widgets:466:setDirection] Widgets[0]::setDirection value=2\");\n"
      ],
      "text/plain": [
       "<IPython.core.display.Javascript object>"
      ]
     },
     "metadata": {},
     "output_type": "display_data"
    },
    {
     "data": {
      "application/javascript": [
       "console.log(\"[130049][INFO][openvisuspy.slice:139:setLogicBox] Slice[0]::setLogicBox value=([0, 0, 0], [2048, 2048, 2048])\");\n"
      ],
      "text/plain": [
       "<IPython.core.display.Javascript object>"
      ]
     },
     "metadata": {},
     "output_type": "display_data"
    },
    {
     "data": {
      "application/javascript": [
       "console.log(\"[130049][INFO][openvisuspy.widgets:494:setOffset] Widgets[0]::getOffset value=1024\");\n"
      ],
      "text/plain": [
       "<IPython.core.display.Javascript object>"
      ]
     },
     "metadata": {},
     "output_type": "display_data"
    },
    {
     "data": {
      "application/javascript": [
       "console.log(\"[130049][INFO][openvisuspy.slice:211:pushJobIfNeeded] pushing new job\");\n"
      ],
      "text/plain": [
       "<IPython.core.display.Javascript object>"
      ]
     },
     "metadata": {},
     "output_type": "display_data"
    },
    {
     "data": {
      "application/javascript": [
       "console.log(\"[130049][INFO][openvisuspy.backend_cpp:74:createBoxQuery] begin timestep=0 field=DATA logic_box=[[-626.0920810313075, 0.0, 1024], [2674.0920810313073, 2048.0, 1025]] num_refinements=4 max_pixels=475125 endh=33\");\n"
      ],
      "text/plain": [
       "<IPython.core.display.Javascript object>"
      ]
     },
     "metadata": {},
     "output_type": "display_data"
    },
    {
     "data": {
      "application/javascript": [
       "console.log(\"[130049][INFO][openvisuspy.backend_cpp:109:createBoxQuery] Guess resolution endh=27 original_box=([0, 0, 1024], [2048, 2048, 1025]) aligned_box=([0, 0, 1024], [2048, 2048, 1025]) delta=[4, 4, 4] num_pixels=[512, 512, 1] tot_pixels=262,144 max_pixels=475,125 end=27\");\n"
      ],
      "text/plain": [
       "<IPython.core.display.Javascript object>"
      ]
     },
     "metadata": {},
     "output_type": "display_data"
    },
    {
     "data": {
      "application/javascript": [
       "console.log(\"[130049][INFO][openvisuspy.backend_cpp:138:beginBoxQuery] beginBoxQuery timestep=0 field=DATA logic_box=[[0, 0, 1024], [2048, 2048, 1025]] end_resolutions=[18, 21, 24, 27]\");\n"
      ],
      "text/plain": [
       "<IPython.core.display.Javascript object>"
      ]
     },
     "metadata": {},
     "output_type": "display_data"
    },
    {
     "data": {
      "application/javascript": [
       "console.log(\"[130049][INFO][openvisuspy.canvas:61:onResize] Calling on_resize callback w=868 h=543\");\n"
      ],
      "text/plain": [
       "<IPython.core.display.Javascript object>"
      ]
     },
     "metadata": {},
     "output_type": "display_data"
    },
    {
     "data": {
      "application/javascript": [
       "console.log(\"[130049][INFO][openvisuspy.widgets:466:setDirection] Widgets[1]::setDirection value=2\");\n"
      ],
      "text/plain": [
       "<IPython.core.display.Javascript object>"
      ]
     },
     "metadata": {},
     "output_type": "display_data"
    },
    {
     "data": {
      "application/javascript": [
       "console.log(\"[130049][INFO][openvisuspy.slice:139:setLogicBox] Slice[1]::setLogicBox value=([0, 0], [29280, 70416])\");\n"
      ],
      "text/plain": [
       "<IPython.core.display.Javascript object>"
      ]
     },
     "metadata": {},
     "output_type": "display_data"
    },
    {
     "data": {
      "application/javascript": [
       "console.log(\"[130049][INFO][openvisuspy.widgets:494:setOffset] Widgets[1]::getOffset value=0\");\n"
      ],
      "text/plain": [
       "<IPython.core.display.Javascript object>"
      ]
     },
     "metadata": {},
     "output_type": "display_data"
    },
    {
     "data": {
      "application/javascript": [
       "console.log(\"[130049][INFO][openvisuspy.slice:211:pushJobIfNeeded] pushing new job\");\n"
      ],
      "text/plain": [
       "<IPython.core.display.Javascript object>"
      ]
     },
     "metadata": {},
     "output_type": "display_data"
    },
    {
     "data": {
      "application/javascript": [
       "console.log(\"[130049][INFO][openvisuspy.backend_cpp:74:createBoxQuery] begin timestep=0 field=data logic_box=[[-41640.928176795576, 0.0], [70920.92817679557, 70416.0]] num_refinements=3 max_pixels=471324 endh=32\");\n"
      ],
      "text/plain": [
       "<IPython.core.display.Javascript object>"
      ]
     },
     "metadata": {},
     "output_type": "display_data"
    },
    {
     "data": {
      "application/javascript": [
       "console.log(\"[130049][INFO][openvisuspy.backend_cpp:109:createBoxQuery] Guess resolution endh=19 original_box=([0, 0], [29280, 70416]) aligned_box=([0, 0], [29248, 70400]) delta=[64, 128, 1] num_pixels=[457, 550] tot_pixels=251,350 max_pixels=471,324 end=19\");\n"
      ],
      "text/plain": [
       "<IPython.core.display.Javascript object>"
      ]
     },
     "metadata": {},
     "output_type": "display_data"
    },
    {
     "data": {
      "application/javascript": [
       "console.log(\"[130049][INFO][openvisuspy.backend_cpp:138:beginBoxQuery] beginBoxQuery timestep=0 field=data logic_box=[[0, 0], [29184, 70144]] end_resolutions=[15, 17, 19]\");\n"
      ],
      "text/plain": [
       "<IPython.core.display.Javascript object>"
      ]
     },
     "metadata": {},
     "output_type": "display_data"
    },
    {
     "data": {
      "application/javascript": [
       "console.log(\"[130049][INFO][openvisuspy.backend_cpp:168:returnBoxQueryData] got data 0/[18, 21, 24, 27] timestep=0 field=DATA H=18 data.shape=(64, 64) data.dtype=uint8 logic_box=[[0, 0, 1024], [2048, 2048, 1025]] m=3 M=230 ms=92\");\n"
      ],
      "text/plain": [
       "<IPython.core.display.Javascript object>"
      ]
     },
     "metadata": {},
     "output_type": "display_data"
    },
    {
     "data": {
      "application/javascript": [
       "console.log(\"[130049][INFO][openvisuspy.slice:192:renderResultIfNeeded] Slice[0]::rendering result data.shape=(64, 64) data.dtype=uint8 logic_box=[[0, 0, 1024], [2048, 2048, 1025]]\");\n"
      ],
      "text/plain": [
       "<IPython.core.display.Javascript object>"
      ]
     },
     "metadata": {},
     "output_type": "display_data"
    },
    {
     "data": {
      "application/javascript": [
       "console.log(\"[130049][INFO][openvisuspy.backend_cpp:168:returnBoxQueryData] got data 0/[15, 17, 19] timestep=0 field=data H=15 data.shape=(137, 114, 3) data.dtype=uint8 logic_box=[[0, 0], [29184, 70144]] m=0 M=245 ms=102\");\n"
      ],
      "text/plain": [
       "<IPython.core.display.Javascript object>"
      ]
     },
     "metadata": {},
     "output_type": "display_data"
    },
    {
     "data": {
      "application/javascript": [
       "console.log(\"[130049][INFO][openvisuspy.slice:192:renderResultIfNeeded] Slice[1]::rendering result data.shape=(137, 114, 3) data.dtype=uint8 logic_box=[[0, 0], [29184, 70144]]\");\n"
      ],
      "text/plain": [
       "<IPython.core.display.Javascript object>"
      ]
     },
     "metadata": {},
     "output_type": "display_data"
    },
    {
     "data": {
      "application/javascript": [
       "console.log(\"[130049][INFO][openvisuspy.canvas:61:onResize] Calling on_resize callback w=383 h=543\");\n"
      ],
      "text/plain": [
       "<IPython.core.display.Javascript object>"
      ]
     },
     "metadata": {},
     "output_type": "display_data"
    },
    {
     "data": {
      "application/javascript": [
       "console.log(\"[130049][INFO][openvisuspy.widgets:466:setDirection] Widgets[10]::setDirection value=0\");\n"
      ],
      "text/plain": [
       "<IPython.core.display.Javascript object>"
      ]
     },
     "metadata": {},
     "output_type": "display_data"
    },
    {
     "data": {
      "application/javascript": [
       "console.log(\"[130049][INFO][openvisuspy.slice:139:setLogicBox] Slice[10]::setLogicBox value=([0, 0, 0], [2048, 2048, 2048])\");\n"
      ],
      "text/plain": [
       "<IPython.core.display.Javascript object>"
      ]
     },
     "metadata": {},
     "output_type": "display_data"
    },
    {
     "data": {
      "application/javascript": [
       "console.log(\"[130049][INFO][openvisuspy.widgets:494:setOffset] Widgets[10]::getOffset value=1024\");\n"
      ],
      "text/plain": [
       "<IPython.core.display.Javascript object>"
      ]
     },
     "metadata": {},
     "output_type": "display_data"
    },
    {
     "data": {
      "application/javascript": [
       "console.log(\"[130049][INFO][openvisuspy.slice:211:pushJobIfNeeded] pushing new job\");\n"
      ],
      "text/plain": [
       "<IPython.core.display.Javascript object>"
      ]
     },
     "metadata": {},
     "output_type": "display_data"
    },
    {
     "data": {
      "application/javascript": [
       "console.log(\"[130049][INFO][openvisuspy.backend_cpp:74:createBoxQuery] begin timestep=0 field=DATA logic_box=[[1024, 0.0, -427.780678851175], [1025, 2048.0, 2475.7806788511753]] num_refinements=4 max_pixels=207969 endh=33\");\n"
      ],
      "text/plain": [
       "<IPython.core.display.Javascript object>"
      ]
     },
     "metadata": {},
     "output_type": "display_data"
    },
    {
     "data": {
      "application/javascript": [
       "console.log(\"[130049][INFO][openvisuspy.canvas:61:onResize] Calling on_resize callback w=383 h=543\");\n"
      ],
      "text/plain": [
       "<IPython.core.display.Javascript object>"
      ]
     },
     "metadata": {},
     "output_type": "display_data"
    },
    {
     "data": {
      "application/javascript": [
       "console.log(\"[130049][INFO][openvisuspy.backend_cpp:109:createBoxQuery] Guess resolution endh=26 original_box=([1024, 0, 0], [1025, 2048, 2048]) aligned_box=([1024, 0, 0], [1025, 2048, 2048]) delta=[4, 4, 8] num_pixels=[1, 512, 256] tot_pixels=131,072 max_pixels=207,969 end=26\");\n"
      ],
      "text/plain": [
       "<IPython.core.display.Javascript object>"
      ]
     },
     "metadata": {},
     "output_type": "display_data"
    },
    {
     "data": {
      "application/javascript": [
       "console.log(\"[130049][INFO][openvisuspy.widgets:466:setDirection] Widgets[11]::setDirection value=1\");\n"
      ],
      "text/plain": [
       "<IPython.core.display.Javascript object>"
      ]
     },
     "metadata": {},
     "output_type": "display_data"
    },
    {
     "data": {
      "application/javascript": [
       "console.log(\"[130049][INFO][openvisuspy.backend_cpp:138:beginBoxQuery] beginBoxQuery timestep=0 field=DATA logic_box=[[1024, 0, 0], [1025, 2048, 2048]] end_resolutions=[17, 20, 23, 26]\");\n"
      ],
      "text/plain": [
       "<IPython.core.display.Javascript object>"
      ]
     },
     "metadata": {},
     "output_type": "display_data"
    },
    {
     "data": {
      "application/javascript": [
       "console.log(\"[130049][INFO][openvisuspy.slice:139:setLogicBox] Slice[11]::setLogicBox value=([0, 0, 0], [2048, 2048, 2048])\");\n"
      ],
      "text/plain": [
       "<IPython.core.display.Javascript object>"
      ]
     },
     "metadata": {},
     "output_type": "display_data"
    },
    {
     "data": {
      "application/javascript": [
       "console.log(\"[130049][INFO][openvisuspy.backend_cpp:168:returnBoxQueryData] got data 0/[17, 20, 23, 26] timestep=0 field=DATA H=17 data.shape=(32, 64) data.dtype=uint8 logic_box=[[1024, 0, 0], [1025, 2048, 2048]] m=0 M=230 ms=4\");\n"
      ],
      "text/plain": [
       "<IPython.core.display.Javascript object>"
      ]
     },
     "metadata": {},
     "output_type": "display_data"
    },
    {
     "data": {
      "application/javascript": [
       "console.log(\"[130049][INFO][openvisuspy.widgets:494:setOffset] Widgets[11]::getOffset value=1024\");\n"
      ],
      "text/plain": [
       "<IPython.core.display.Javascript object>"
      ]
     },
     "metadata": {},
     "output_type": "display_data"
    },
    {
     "data": {
      "application/javascript": [
       "console.log(\"[130049][INFO][openvisuspy.backend_cpp:168:returnBoxQueryData] got data 1/[18, 21, 24, 27] timestep=0 field=DATA H=21 data.shape=(128, 128) data.dtype=uint8 logic_box=[[0, 0, 1024], [2048, 2048, 1025]] m=3 M=230 ms=245\");\n"
      ],
      "text/plain": [
       "<IPython.core.display.Javascript object>"
      ]
     },
     "metadata": {},
     "output_type": "display_data"
    },
    {
     "data": {
      "application/javascript": [
       "console.log(\"[130049][INFO][openvisuspy.backend_cpp:168:returnBoxQueryData] got data 1/[15, 17, 19] timestep=0 field=data H=17 data.shape=(274, 228, 3) data.dtype=uint8 logic_box=[[0, 0], [29184, 70144]] m=0 M=247 ms=169\");\n"
      ],
      "text/plain": [
       "<IPython.core.display.Javascript object>"
      ]
     },
     "metadata": {},
     "output_type": "display_data"
    },
    {
     "data": {
      "application/javascript": [
       "console.log(\"[130050][INFO][openvisuspy.slice:192:renderResultIfNeeded] Slice[10]::rendering result data.shape=(32, 64) data.dtype=uint8 logic_box=[[1024, 0, 0], [1025, 2048, 2048]]\");\n"
      ],
      "text/plain": [
       "<IPython.core.display.Javascript object>"
      ]
     },
     "metadata": {},
     "output_type": "display_data"
    },
    {
     "data": {
      "application/javascript": [
       "console.log(\"[130050][INFO][openvisuspy.slice:211:pushJobIfNeeded] pushing new job\");\n"
      ],
      "text/plain": [
       "<IPython.core.display.Javascript object>"
      ]
     },
     "metadata": {},
     "output_type": "display_data"
    },
    {
     "data": {
      "application/javascript": [
       "console.log(\"[130050][INFO][openvisuspy.slice:192:renderResultIfNeeded] Slice[0]::rendering result data.shape=(128, 128) data.dtype=uint8 logic_box=[[0, 0, 1024], [2048, 2048, 1025]]\");\n"
      ],
      "text/plain": [
       "<IPython.core.display.Javascript object>"
      ]
     },
     "metadata": {},
     "output_type": "display_data"
    },
    {
     "data": {
      "application/javascript": [
       "console.log(\"[130050][INFO][openvisuspy.backend_cpp:74:createBoxQuery] begin timestep=0 field=DATA logic_box=[[0.0, 1024, -427.780678851175], [2048.0, 1025, 2475.7806788511753]] num_refinements=4 max_pixels=207969 endh=33\");\n"
      ],
      "text/plain": [
       "<IPython.core.display.Javascript object>"
      ]
     },
     "metadata": {},
     "output_type": "display_data"
    },
    {
     "data": {
      "application/javascript": [
       "console.log(\"[130050][INFO][openvisuspy.slice:192:renderResultIfNeeded] Slice[1]::rendering result data.shape=(274, 228, 3) data.dtype=uint8 logic_box=[[0, 0], [29184, 70144]]\");\n"
      ],
      "text/plain": [
       "<IPython.core.display.Javascript object>"
      ]
     },
     "metadata": {},
     "output_type": "display_data"
    },
    {
     "data": {
      "application/javascript": [
       "console.log(\"[130050][INFO][openvisuspy.backend_cpp:109:createBoxQuery] Guess resolution endh=26 original_box=([0, 1024, 0], [2048, 1025, 2048]) aligned_box=([0, 1024, 0], [2048, 1025, 2048]) delta=[4, 4, 8] num_pixels=[512, 1, 256] tot_pixels=131,072 max_pixels=207,969 end=26\");\n"
      ],
      "text/plain": [
       "<IPython.core.display.Javascript object>"
      ]
     },
     "metadata": {},
     "output_type": "display_data"
    },
    {
     "data": {
      "application/javascript": [
       "console.log(\"[130050][INFO][openvisuspy.backend_cpp:138:beginBoxQuery] beginBoxQuery timestep=0 field=DATA logic_box=[[0, 1024, 0], [2048, 1025, 2048]] end_resolutions=[17, 20, 23, 26]\");\n"
      ],
      "text/plain": [
       "<IPython.core.display.Javascript object>"
      ]
     },
     "metadata": {},
     "output_type": "display_data"
    },
    {
     "data": {
      "application/javascript": [
       "console.log(\"[130050][INFO][openvisuspy.canvas:61:onResize] Calling on_resize callback w=376 h=543\");\n"
      ],
      "text/plain": [
       "<IPython.core.display.Javascript object>"
      ]
     },
     "metadata": {},
     "output_type": "display_data"
    },
    {
     "data": {
      "application/javascript": [
       "console.log(\"[130050][INFO][openvisuspy.backend_cpp:168:returnBoxQueryData] got data 0/[17, 20, 23, 26] timestep=0 field=DATA H=17 data.shape=(32, 64) data.dtype=uint8 logic_box=[[0, 1024, 0], [2048, 1025, 2048]] m=0 M=230 ms=5\");\n"
      ],
      "text/plain": [
       "<IPython.core.display.Javascript object>"
      ]
     },
     "metadata": {},
     "output_type": "display_data"
    },
    {
     "data": {
      "application/javascript": [
       "console.log(\"[130050][INFO][openvisuspy.widgets:466:setDirection] Widgets[5]::setDirection value=2\");\n"
      ],
      "text/plain": [
       "<IPython.core.display.Javascript object>"
      ]
     },
     "metadata": {},
     "output_type": "display_data"
    },
    {
     "data": {
      "application/javascript": [
       "console.log(\"[130050][INFO][openvisuspy.slice:139:setLogicBox] Slice[5]::setLogicBox value=([0, 0], [29280, 70416])\");\n"
      ],
      "text/plain": [
       "<IPython.core.display.Javascript object>"
      ]
     },
     "metadata": {},
     "output_type": "display_data"
    },
    {
     "data": {
      "application/javascript": [
       "console.log(\"[130050][INFO][openvisuspy.widgets:494:setOffset] Widgets[5]::getOffset value=0\");\n"
      ],
      "text/plain": [
       "<IPython.core.display.Javascript object>"
      ]
     },
     "metadata": {},
     "output_type": "display_data"
    },
    {
     "data": {
      "application/javascript": [
       "console.log(\"[130050][INFO][openvisuspy.slice:211:pushJobIfNeeded] pushing new job\");\n"
      ],
      "text/plain": [
       "<IPython.core.display.Javascript object>"
      ]
     },
     "metadata": {},
     "output_type": "display_data"
    },
    {
     "data": {
      "application/javascript": [
       "console.log(\"[130050][INFO][openvisuspy.backend_cpp:74:createBoxQuery] begin timestep=0 field=data logic_box=[[-9739.756906077346, 0.0], [39019.756906077346, 70416.0]] num_refinements=3 max_pixels=204168 endh=32\");\n"
      ],
      "text/plain": [
       "<IPython.core.display.Javascript object>"
      ]
     },
     "metadata": {},
     "output_type": "display_data"
    },
    {
     "data": {
      "application/javascript": [
       "console.log(\"[130050][INFO][openvisuspy.slice:192:renderResultIfNeeded] Slice[11]::rendering result data.shape=(32, 64) data.dtype=uint8 logic_box=[[0, 1024, 0], [2048, 1025, 2048]]\");\n"
      ],
      "text/plain": [
       "<IPython.core.display.Javascript object>"
      ]
     },
     "metadata": {},
     "output_type": "display_data"
    },
    {
     "data": {
      "application/javascript": [
       "console.log(\"[130050][INFO][openvisuspy.backend_cpp:109:createBoxQuery] Guess resolution endh=18 original_box=([0, 0], [29280, 70416]) aligned_box=([0, 0], [29184, 70400]) delta=[128, 128, 1] num_pixels=[228, 550] tot_pixels=125,400 max_pixels=204,168 end=18\");\n"
      ],
      "text/plain": [
       "<IPython.core.display.Javascript object>"
      ]
     },
     "metadata": {},
     "output_type": "display_data"
    },
    {
     "data": {
      "application/javascript": [
       "console.log(\"[130050][INFO][openvisuspy.backend_cpp:168:returnBoxQueryData] got data 2/[15, 17, 19] timestep=0 field=data H=19 data.shape=(548, 456, 3) data.dtype=uint8 logic_box=[[0, 0], [29184, 70144]] m=0 M=247 ms=305\");\n"
      ],
      "text/plain": [
       "<IPython.core.display.Javascript object>"
      ]
     },
     "metadata": {},
     "output_type": "display_data"
    },
    {
     "data": {
      "application/javascript": [
       "console.log(\"[130050][INFO][openvisuspy.canvas:61:onResize] Calling on_resize callback w=376 h=543\");\n"
      ],
      "text/plain": [
       "<IPython.core.display.Javascript object>"
      ]
     },
     "metadata": {},
     "output_type": "display_data"
    },
    {
     "data": {
      "application/javascript": [
       "console.log(\"[130050][INFO][openvisuspy.backend_cpp:138:beginBoxQuery] beginBoxQuery timestep=0 field=data logic_box=[[0, 0], [29184, 70144]] end_resolutions=[14, 16, 18]\");\n"
      ],
      "text/plain": [
       "<IPython.core.display.Javascript object>"
      ]
     },
     "metadata": {},
     "output_type": "display_data"
    },
    {
     "data": {
      "application/javascript": [
       "console.log(\"[130050][INFO][openvisuspy.widgets:466:setDirection] Widgets[6]::setDirection value=2\");\n"
      ],
      "text/plain": [
       "<IPython.core.display.Javascript object>"
      ]
     },
     "metadata": {},
     "output_type": "display_data"
    },
    {
     "data": {
      "application/javascript": [
       "console.log(\"[130050][INFO][openvisuspy.backend_cpp:168:returnBoxQueryData] got data 0/[14, 16, 18] timestep=0 field=data H=14 data.shape=(137, 57, 3) data.dtype=uint8 logic_box=[[0, 0], [29184, 70144]] m=0 M=245 ms=12\");\n"
      ],
      "text/plain": [
       "<IPython.core.display.Javascript object>"
      ]
     },
     "metadata": {},
     "output_type": "display_data"
    },
    {
     "data": {
      "application/javascript": [
       "console.log(\"[130050][INFO][openvisuspy.slice:139:setLogicBox] Slice[6]::setLogicBox value=([0, 0], [29280, 70416])\");\n"
      ],
      "text/plain": [
       "<IPython.core.display.Javascript object>"
      ]
     },
     "metadata": {},
     "output_type": "display_data"
    },
    {
     "data": {
      "application/javascript": [
       "console.log(\"[130050][INFO][openvisuspy.backend_cpp:168:returnBoxQueryData] got data 1/[14, 16, 18] timestep=0 field=data H=16 data.shape=(274, 114, 3) data.dtype=uint8 logic_box=[[0, 0], [29184, 70144]] m=0 M=247 ms=19\");\n"
      ],
      "text/plain": [
       "<IPython.core.display.Javascript object>"
      ]
     },
     "metadata": {},
     "output_type": "display_data"
    },
    {
     "data": {
      "application/javascript": [
       "console.log(\"[130050][INFO][openvisuspy.widgets:494:setOffset] Widgets[6]::getOffset value=0\");\n"
      ],
      "text/plain": [
       "<IPython.core.display.Javascript object>"
      ]
     },
     "metadata": {},
     "output_type": "display_data"
    },
    {
     "data": {
      "application/javascript": [
       "console.log(\"[130050][INFO][openvisuspy.backend_cpp:168:returnBoxQueryData] got data 1/[17, 20, 23, 26] timestep=0 field=DATA H=20 data.shape=(64, 128) data.dtype=uint8 logic_box=[[1024, 0, 0], [1025, 2048, 2048]] m=0 M=230 ms=178\");\n"
      ],
      "text/plain": [
       "<IPython.core.display.Javascript object>"
      ]
     },
     "metadata": {},
     "output_type": "display_data"
    },
    {
     "data": {
      "application/javascript": [
       "console.log(\"[130050][INFO][openvisuspy.slice:192:renderResultIfNeeded] Slice[1]::rendering result data.shape=(548, 456, 3) data.dtype=uint8 logic_box=[[0, 0], [29184, 70144]]\");\n"
      ],
      "text/plain": [
       "<IPython.core.display.Javascript object>"
      ]
     },
     "metadata": {},
     "output_type": "display_data"
    },
    {
     "data": {
      "application/javascript": [
       "console.log(\"[130050][INFO][openvisuspy.backend_cpp:168:returnBoxQueryData] got data 2/[14, 16, 18] timestep=0 field=data H=18 data.shape=(548, 228, 3) data.dtype=uint8 logic_box=[[0, 0], [29184, 70144]] m=0 M=247 ms=28\");\n"
      ],
      "text/plain": [
       "<IPython.core.display.Javascript object>"
      ]
     },
     "metadata": {},
     "output_type": "display_data"
    },
    {
     "data": {
      "application/javascript": [
       "console.log(\"[130050][INFO][openvisuspy.backend_cpp:168:returnBoxQueryData] got data 1/[17, 20, 23, 26] timestep=0 field=DATA H=20 data.shape=(64, 128) data.dtype=uint8 logic_box=[[0, 1024, 0], [2048, 1025, 2048]] m=0 M=230 ms=104\");\n"
      ],
      "text/plain": [
       "<IPython.core.display.Javascript object>"
      ]
     },
     "metadata": {},
     "output_type": "display_data"
    },
    {
     "data": {
      "application/javascript": [
       "console.log(\"[130050][INFO][openvisuspy.slice:192:renderResultIfNeeded] Slice[5]::rendering result data.shape=(548, 228, 3) data.dtype=uint8 logic_box=[[0, 0], [29184, 70144]]\");\n"
      ],
      "text/plain": [
       "<IPython.core.display.Javascript object>"
      ]
     },
     "metadata": {},
     "output_type": "display_data"
    },
    {
     "data": {
      "application/javascript": [
       "console.log(\"[130050][INFO][openvisuspy.slice:211:pushJobIfNeeded] pushing new job\");\n"
      ],
      "text/plain": [
       "<IPython.core.display.Javascript object>"
      ]
     },
     "metadata": {},
     "output_type": "display_data"
    },
    {
     "data": {
      "application/javascript": [
       "console.log(\"[130050][INFO][openvisuspy.backend_cpp:74:createBoxQuery] begin timestep=0 field=data logic_box=[[-9739.756906077346, 0.0], [39019.756906077346, 70416.0]] num_refinements=3 max_pixels=204168 endh=32\");\n"
      ],
      "text/plain": [
       "<IPython.core.display.Javascript object>"
      ]
     },
     "metadata": {},
     "output_type": "display_data"
    },
    {
     "data": {
      "application/javascript": [
       "console.log(\"[130050][INFO][openvisuspy.slice:192:renderResultIfNeeded] Slice[10]::rendering result data.shape=(64, 128) data.dtype=uint8 logic_box=[[1024, 0, 0], [1025, 2048, 2048]]\");\n"
      ],
      "text/plain": [
       "<IPython.core.display.Javascript object>"
      ]
     },
     "metadata": {},
     "output_type": "display_data"
    },
    {
     "data": {
      "application/javascript": [
       "console.log(\"[130050][INFO][openvisuspy.backend_cpp:109:createBoxQuery] Guess resolution endh=18 original_box=([0, 0], [29280, 70416]) aligned_box=([0, 0], [29184, 70400]) delta=[128, 128, 1] num_pixels=[228, 550] tot_pixels=125,400 max_pixels=204,168 end=18\");\n"
      ],
      "text/plain": [
       "<IPython.core.display.Javascript object>"
      ]
     },
     "metadata": {},
     "output_type": "display_data"
    },
    {
     "data": {
      "application/javascript": [
       "console.log(\"[130050][INFO][openvisuspy.slice:192:renderResultIfNeeded] Slice[11]::rendering result data.shape=(64, 128) data.dtype=uint8 logic_box=[[0, 1024, 0], [2048, 1025, 2048]]\");\n"
      ],
      "text/plain": [
       "<IPython.core.display.Javascript object>"
      ]
     },
     "metadata": {},
     "output_type": "display_data"
    },
    {
     "data": {
      "application/javascript": [
       "console.log(\"[130050][INFO][openvisuspy.backend_cpp:138:beginBoxQuery] beginBoxQuery timestep=0 field=data logic_box=[[0, 0], [29184, 70144]] end_resolutions=[14, 16, 18]\");\n"
      ],
      "text/plain": [
       "<IPython.core.display.Javascript object>"
      ]
     },
     "metadata": {},
     "output_type": "display_data"
    },
    {
     "data": {
      "application/javascript": [
       "console.log(\"[130050][INFO][openvisuspy.backend_cpp:168:returnBoxQueryData] got data 0/[14, 16, 18] timestep=0 field=data H=14 data.shape=(137, 57, 3) data.dtype=uint8 logic_box=[[0, 0], [29184, 70144]] m=0 M=245 ms=9\");\n"
      ],
      "text/plain": [
       "<IPython.core.display.Javascript object>"
      ]
     },
     "metadata": {},
     "output_type": "display_data"
    },
    {
     "data": {
      "application/javascript": [
       "console.log(\"[130050][INFO][openvisuspy.slice:192:renderResultIfNeeded] Slice[6]::rendering result data.shape=(137, 57, 3) data.dtype=uint8 logic_box=[[0, 0], [29184, 70144]]\");\n"
      ],
      "text/plain": [
       "<IPython.core.display.Javascript object>"
      ]
     },
     "metadata": {},
     "output_type": "display_data"
    },
    {
     "data": {
      "application/javascript": [
       "console.log(\"[130050][INFO][openvisuspy.backend_cpp:168:returnBoxQueryData] got data 1/[14, 16, 18] timestep=0 field=data H=16 data.shape=(274, 114, 3) data.dtype=uint8 logic_box=[[0, 0], [29184, 70144]] m=0 M=247 ms=17\");\n"
      ],
      "text/plain": [
       "<IPython.core.display.Javascript object>"
      ]
     },
     "metadata": {},
     "output_type": "display_data"
    },
    {
     "data": {
      "application/javascript": [
       "console.log(\"[130050][INFO][openvisuspy.slice:192:renderResultIfNeeded] Slice[6]::rendering result data.shape=(274, 114, 3) data.dtype=uint8 logic_box=[[0, 0], [29184, 70144]]\");\n"
      ],
      "text/plain": [
       "<IPython.core.display.Javascript object>"
      ]
     },
     "metadata": {},
     "output_type": "display_data"
    },
    {
     "data": {
      "application/javascript": [
       "console.log(\"[130050][INFO][openvisuspy.backend_cpp:168:returnBoxQueryData] got data 2/[14, 16, 18] timestep=0 field=data H=18 data.shape=(548, 228, 3) data.dtype=uint8 logic_box=[[0, 0], [29184, 70144]] m=0 M=247 ms=43\");\n"
      ],
      "text/plain": [
       "<IPython.core.display.Javascript object>"
      ]
     },
     "metadata": {},
     "output_type": "display_data"
    },
    {
     "data": {
      "application/javascript": [
       "console.log(\"[130050][INFO][openvisuspy.slice:192:renderResultIfNeeded] Slice[6]::rendering result data.shape=(548, 228, 3) data.dtype=uint8 logic_box=[[0, 0], [29184, 70144]]\");\n"
      ],
      "text/plain": [
       "<IPython.core.display.Javascript object>"
      ]
     },
     "metadata": {},
     "output_type": "display_data"
    },
    {
     "data": {
      "application/javascript": [
       "console.log(\"[130050][INFO][openvisuspy.backend_cpp:168:returnBoxQueryData] got data 2/[18, 21, 24, 27] timestep=0 field=DATA H=24 data.shape=(256, 256) data.dtype=uint8 logic_box=[[0, 0, 1024], [2048, 2048, 1025]] m=3 M=230 ms=558\");\n"
      ],
      "text/plain": [
       "<IPython.core.display.Javascript object>"
      ]
     },
     "metadata": {},
     "output_type": "display_data"
    },
    {
     "data": {
      "application/javascript": [
       "console.log(\"[130050][INFO][openvisuspy.backend_cpp:168:returnBoxQueryData] got data 2/[17, 20, 23, 26] timestep=0 field=DATA H=23 data.shape=(128, 256) data.dtype=uint8 logic_box=[[1024, 0, 0], [1025, 2048, 2048]] m=0 M=230 ms=339\");\n"
      ],
      "text/plain": [
       "<IPython.core.display.Javascript object>"
      ]
     },
     "metadata": {},
     "output_type": "display_data"
    },
    {
     "data": {
      "application/javascript": [
       "console.log(\"[130050][INFO][openvisuspy.slice:192:renderResultIfNeeded] Slice[10]::rendering result data.shape=(128, 256) data.dtype=uint8 logic_box=[[1024, 0, 0], [1025, 2048, 2048]]\");\n"
      ],
      "text/plain": [
       "<IPython.core.display.Javascript object>"
      ]
     },
     "metadata": {},
     "output_type": "display_data"
    },
    {
     "data": {
      "application/javascript": [
       "console.log(\"[130050][INFO][openvisuspy.slice:192:renderResultIfNeeded] Slice[0]::rendering result data.shape=(256, 256) data.dtype=uint8 logic_box=[[0, 0, 1024], [2048, 2048, 1025]]\");\n"
      ],
      "text/plain": [
       "<IPython.core.display.Javascript object>"
      ]
     },
     "metadata": {},
     "output_type": "display_data"
    },
    {
     "data": {
      "application/javascript": [
       "console.log(\"[130050][INFO][openvisuspy.backend_cpp:168:returnBoxQueryData] got data 2/[17, 20, 23, 26] timestep=0 field=DATA H=23 data.shape=(128, 256) data.dtype=uint8 logic_box=[[0, 1024, 0], [2048, 1025, 2048]] m=0 M=230 ms=463\");\n"
      ],
      "text/plain": [
       "<IPython.core.display.Javascript object>"
      ]
     },
     "metadata": {},
     "output_type": "display_data"
    },
    {
     "data": {
      "application/javascript": [
       "console.log(\"[130050][INFO][openvisuspy.slice:192:renderResultIfNeeded] Slice[11]::rendering result data.shape=(128, 256) data.dtype=uint8 logic_box=[[0, 1024, 0], [2048, 1025, 2048]]\");\n"
      ],
      "text/plain": [
       "<IPython.core.display.Javascript object>"
      ]
     },
     "metadata": {},
     "output_type": "display_data"
    },
    {
     "data": {
      "application/javascript": [
       "console.log(\"[130050][INFO][openvisuspy.backend_cpp:168:returnBoxQueryData] got data 3/[17, 20, 23, 26] timestep=0 field=DATA H=26 data.shape=(256, 512) data.dtype=uint8 logic_box=[[1024, 0, 0], [1025, 2048, 2048]] m=0 M=230 ms=886\");\n"
      ],
      "text/plain": [
       "<IPython.core.display.Javascript object>"
      ]
     },
     "metadata": {},
     "output_type": "display_data"
    },
    {
     "data": {
      "application/javascript": [
       "console.log(\"[130050][INFO][openvisuspy.slice:192:renderResultIfNeeded] Slice[10]::rendering result data.shape=(256, 512) data.dtype=uint8 logic_box=[[1024, 0, 0], [1025, 2048, 2048]]\");\n"
      ],
      "text/plain": [
       "<IPython.core.display.Javascript object>"
      ]
     },
     "metadata": {},
     "output_type": "display_data"
    },
    {
     "data": {
      "application/javascript": [
       "console.log(\"[130051][INFO][openvisuspy.backend_cpp:168:returnBoxQueryData] got data 3/[17, 20, 23, 26] timestep=0 field=DATA H=26 data.shape=(256, 512) data.dtype=uint8 logic_box=[[0, 1024, 0], [2048, 1025, 2048]] m=0 M=230 ms=947\");\n"
      ],
      "text/plain": [
       "<IPython.core.display.Javascript object>"
      ]
     },
     "metadata": {},
     "output_type": "display_data"
    },
    {
     "data": {
      "application/javascript": [
       "console.log(\"[130051][INFO][openvisuspy.slice:192:renderResultIfNeeded] Slice[11]::rendering result data.shape=(256, 512) data.dtype=uint8 logic_box=[[0, 1024, 0], [2048, 1025, 2048]]\");\n"
      ],
      "text/plain": [
       "<IPython.core.display.Javascript object>"
      ]
     },
     "metadata": {},
     "output_type": "display_data"
    },
    {
     "data": {
      "application/javascript": [
       "console.log(\"[130051][INFO][openvisuspy.backend_cpp:168:returnBoxQueryData] got data 3/[18, 21, 24, 27] timestep=0 field=DATA H=27 data.shape=(512, 512) data.dtype=uint8 logic_box=[[0, 0, 1024], [2048, 2048, 1025]] m=3 M=230 ms=1665\");\n"
      ],
      "text/plain": [
       "<IPython.core.display.Javascript object>"
      ]
     },
     "metadata": {},
     "output_type": "display_data"
    },
    {
     "data": {
      "application/javascript": [
       "console.log(\"[130051][INFO][openvisuspy.backend_cpp:76:printStatistics] Stats::printStatistics enlapsed=1.674222707748413 seconds\");\n"
      ],
      "text/plain": [
       "<IPython.core.display.Javascript object>"
      ]
     },
     "metadata": {},
     "output_type": "display_data"
    },
    {
     "data": {
      "application/javascript": [
       "console.log(\"[130051][INFO][openvisuspy.slice:192:renderResultIfNeeded] Slice[0]::rendering result data.shape=(512, 512) data.dtype=uint8 logic_box=[[0, 0, 1024], [2048, 2048, 1025]]\");\n"
      ],
      "text/plain": [
       "<IPython.core.display.Javascript object>"
      ]
     },
     "metadata": {},
     "output_type": "display_data"
    },
    {
     "data": {
      "application/javascript": [
       "console.log(\"[130058][INFO][openvisuspy.slice:211:pushJobIfNeeded] pushing new job\");\n"
      ],
      "text/plain": [
       "<IPython.core.display.Javascript object>"
      ]
     },
     "metadata": {},
     "output_type": "display_data"
    },
    {
     "data": {
      "application/javascript": [
       "console.log(\"[130058][INFO][openvisuspy.backend_cpp:74:createBoxQuery] begin timestep=0 field=DATA logic_box=[[-0.9265397994679822, 420.4084305299775, 1024], [2290.8680171884594, 1842.6306527521992, 1025]] num_refinements=4 max_pixels=475125 endh=33\");\n"
      ],
      "text/plain": [
       "<IPython.core.display.Javascript object>"
      ]
     },
     "metadata": {},
     "output_type": "display_data"
    },
    {
     "data": {
      "application/javascript": [
       "console.log(\"[130058][INFO][openvisuspy.backend_cpp:109:createBoxQuery] Guess resolution endh=28 original_box=([0, 420, 1024], [2048, 1843, 1025]) aligned_box=([0, 420, 1024], [2048, 1840, 1025]) delta=[2, 4, 4] num_pixels=[1024, 355, 1] tot_pixels=363,520 max_pixels=475,125 end=28\");\n"
      ],
      "text/plain": [
       "<IPython.core.display.Javascript object>"
      ]
     },
     "metadata": {},
     "output_type": "display_data"
    },
    {
     "data": {
      "application/javascript": [
       "console.log(\"[130058][INFO][openvisuspy.backend_cpp:138:beginBoxQuery] beginBoxQuery timestep=0 field=DATA logic_box=[[0, 416, 1024], [2048, 1824, 1025]] end_resolutions=[19, 22, 25, 28]\");\n"
      ],
      "text/plain": [
       "<IPython.core.display.Javascript object>"
      ]
     },
     "metadata": {},
     "output_type": "display_data"
    },
    {
     "data": {
      "application/javascript": [
       "console.log(\"[130058][INFO][openvisuspy.backend_cpp:168:returnBoxQueryData] got data 0/[19, 22, 25, 28] timestep=0 field=DATA H=19 data.shape=(44, 128) data.dtype=uint8 logic_box=[[0, 416, 1024], [2048, 1824, 1025]] m=3 M=230 ms=5\");\n"
      ],
      "text/plain": [
       "<IPython.core.display.Javascript object>"
      ]
     },
     "metadata": {},
     "output_type": "display_data"
    },
    {
     "data": {
      "application/javascript": [
       "console.log(\"[130058][INFO][openvisuspy.slice:192:renderResultIfNeeded] Slice[0]::rendering result data.shape=(44, 128) data.dtype=uint8 logic_box=[[0, 416, 1024], [2048, 1824, 1025]]\");\n"
      ],
      "text/plain": [
       "<IPython.core.display.Javascript object>"
      ]
     },
     "metadata": {},
     "output_type": "display_data"
    },
    {
     "data": {
      "application/javascript": [
       "console.log(\"[130058][INFO][openvisuspy.slice:211:pushJobIfNeeded] pushing new job\");\n"
      ],
      "text/plain": [
       "<IPython.core.display.Javascript object>"
      ]
     },
     "metadata": {},
     "output_type": "display_data"
    },
    {
     "data": {
      "application/javascript": [
       "console.log(\"[130058][INFO][openvisuspy.backend_cpp:76:printStatistics] Stats::printStatistics enlapsed=0.03557443618774414 seconds\");\n"
      ],
      "text/plain": [
       "<IPython.core.display.Javascript object>"
      ]
     },
     "metadata": {},
     "output_type": "display_data"
    },
    {
     "data": {
      "application/javascript": [
       "console.log(\"[130058][INFO][openvisuspy.backend_cpp:139:_threadLoop] _threadLoop is Alive\");\n"
      ],
      "text/plain": [
       "<IPython.core.display.Javascript object>"
      ]
     },
     "metadata": {},
     "output_type": "display_data"
    },
    {
     "data": {
      "application/javascript": [
       "console.log(\"[130058][INFO][openvisuspy.backend_cpp:74:createBoxQuery] begin timestep=0 field=DATA logic_box=[[236.31512175158588, 579.6540481549691, 1024], [2146.1439192415255, 1764.8392333401537, 1025]] num_refinements=4 max_pixels=475125 endh=33\");\n"
      ],
      "text/plain": [
       "<IPython.core.display.Javascript object>"
      ]
     },
     "metadata": {},
     "output_type": "display_data"
    },
    {
     "data": {
      "application/javascript": [
       "console.log(\"[130058][INFO][openvisuspy.backend_cpp:109:createBoxQuery] Guess resolution endh=28 original_box=([236, 579, 1024], [2048, 1765, 1025]) aligned_box=([236, 576, 1024], [2048, 1764, 1025]) delta=[2, 4, 4] num_pixels=[906, 297, 1] tot_pixels=269,082 max_pixels=475,125 end=28\");\n"
      ],
      "text/plain": [
       "<IPython.core.display.Javascript object>"
      ]
     },
     "metadata": {},
     "output_type": "display_data"
    },
    {
     "data": {
      "application/javascript": [
       "console.log(\"[130058][INFO][openvisuspy.backend_cpp:138:beginBoxQuery] beginBoxQuery timestep=0 field=DATA logic_box=[[224, 576, 1024], [2048, 1760, 1025]] end_resolutions=[19, 22, 25, 28]\");\n"
      ],
      "text/plain": [
       "<IPython.core.display.Javascript object>"
      ]
     },
     "metadata": {},
     "output_type": "display_data"
    },
    {
     "data": {
      "application/javascript": [
       "console.log(\"[130058][INFO][openvisuspy.backend_cpp:168:returnBoxQueryData] got data 0/[19, 22, 25, 28] timestep=0 field=DATA H=19 data.shape=(37, 114) data.dtype=uint8 logic_box=[[224, 576, 1024], [2048, 1760, 1025]] m=3 M=230 ms=5\");\n"
      ],
      "text/plain": [
       "<IPython.core.display.Javascript object>"
      ]
     },
     "metadata": {},
     "output_type": "display_data"
    },
    {
     "data": {
      "application/javascript": [
       "console.log(\"[130058][INFO][openvisuspy.slice:192:renderResultIfNeeded] Slice[0]::rendering result data.shape=(37, 114) data.dtype=uint8 logic_box=[[224, 576, 1024], [2048, 1760, 1025]]\");\n"
      ],
      "text/plain": [
       "<IPython.core.display.Javascript object>"
      ]
     },
     "metadata": {},
     "output_type": "display_data"
    },
    {
     "data": {
      "application/javascript": [
       "console.log(\"[130058][INFO][openvisuspy.slice:211:pushJobIfNeeded] pushing new job\");\n"
      ],
      "text/plain": [
       "<IPython.core.display.Javascript object>"
      ]
     },
     "metadata": {},
     "output_type": "display_data"
    },
    {
     "data": {
      "application/javascript": [
       "console.log(\"[130058][INFO][openvisuspy.backend_cpp:76:printStatistics] Stats::printStatistics enlapsed=0.05298638343811035 seconds\");\n"
      ],
      "text/plain": [
       "<IPython.core.display.Javascript object>"
      ]
     },
     "metadata": {},
     "output_type": "display_data"
    },
    {
     "data": {
      "application/javascript": [
       "console.log(\"[130058][INFO][openvisuspy.backend_cpp:74:createBoxQuery] begin timestep=0 field=DATA logic_box=[[434.0165063774641, 713.4500602505516, 1024], [2025.540504285747, 1701.1043812382052, 1025]] num_refinements=4 max_pixels=475125 endh=33\");\n"
      ],
      "text/plain": [
       "<IPython.core.display.Javascript object>"
      ]
     },
     "metadata": {},
     "output_type": "display_data"
    },
    {
     "data": {
      "application/javascript": [
       "console.log(\"[130058][INFO][openvisuspy.backend_cpp:109:createBoxQuery] Guess resolution endh=30 original_box=([434, 713, 1024], [2026, 1702, 1025]) aligned_box=([434, 712, 1024], [2026, 1702, 1025]) delta=[2, 2, 2] num_pixels=[796, 495, 1] tot_pixels=394,020 max_pixels=475,125 end=30\");\n"
      ],
      "text/plain": [
       "<IPython.core.display.Javascript object>"
      ]
     },
     "metadata": {},
     "output_type": "display_data"
    },
    {
     "data": {
      "application/javascript": [
       "console.log(\"[130058][INFO][openvisuspy.backend_cpp:138:beginBoxQuery] beginBoxQuery timestep=0 field=DATA logic_box=[[432, 704, 1024], [2016, 1696, 1025]] end_resolutions=[21, 24, 27, 30]\");\n"
      ],
      "text/plain": [
       "<IPython.core.display.Javascript object>"
      ]
     },
     "metadata": {},
     "output_type": "display_data"
    },
    {
     "data": {
      "application/javascript": [
       "console.log(\"[130058][INFO][openvisuspy.backend_cpp:168:returnBoxQueryData] got data 0/[21, 24, 27, 30] timestep=0 field=DATA H=21 data.shape=(62, 99) data.dtype=uint8 logic_box=[[432, 704, 1024], [2016, 1696, 1025]] m=3 M=230 ms=4\");\n"
      ],
      "text/plain": [
       "<IPython.core.display.Javascript object>"
      ]
     },
     "metadata": {},
     "output_type": "display_data"
    },
    {
     "data": {
      "application/javascript": [
       "console.log(\"[130058][INFO][openvisuspy.slice:192:renderResultIfNeeded] Slice[0]::rendering result data.shape=(62, 99) data.dtype=uint8 logic_box=[[432, 704, 1024], [2016, 1696, 1025]]\");\n"
      ],
      "text/plain": [
       "<IPython.core.display.Javascript object>"
      ]
     },
     "metadata": {},
     "output_type": "display_data"
    },
    {
     "data": {
      "application/javascript": [
       "console.log(\"[130058][INFO][openvisuspy.backend_cpp:168:returnBoxQueryData] got data 1/[21, 24, 27, 30] timestep=0 field=DATA H=24 data.shape=(124, 198) data.dtype=uint8 logic_box=[[432, 704, 1024], [2016, 1696, 1025]] m=3 M=230 ms=140\");\n"
      ],
      "text/plain": [
       "<IPython.core.display.Javascript object>"
      ]
     },
     "metadata": {},
     "output_type": "display_data"
    },
    {
     "data": {
      "application/javascript": [
       "console.log(\"[130058][INFO][openvisuspy.slice:192:renderResultIfNeeded] Slice[0]::rendering result data.shape=(124, 198) data.dtype=uint8 logic_box=[[432, 704, 1024], [2016, 1696, 1025]]\");\n"
      ],
      "text/plain": [
       "<IPython.core.display.Javascript object>"
      ]
     },
     "metadata": {},
     "output_type": "display_data"
    },
    {
     "data": {
      "application/javascript": [
       "console.log(\"[130058][INFO][openvisuspy.backend_cpp:168:returnBoxQueryData] got data 2/[21, 24, 27, 30] timestep=0 field=DATA H=27 data.shape=(248, 396) data.dtype=uint8 logic_box=[[432, 704, 1024], [2016, 1696, 1025]] m=3 M=230 ms=256\");\n"
      ],
      "text/plain": [
       "<IPython.core.display.Javascript object>"
      ]
     },
     "metadata": {},
     "output_type": "display_data"
    },
    {
     "data": {
      "application/javascript": [
       "console.log(\"[130058][INFO][openvisuspy.slice:192:renderResultIfNeeded] Slice[0]::rendering result data.shape=(248, 396) data.dtype=uint8 logic_box=[[432, 704, 1024], [2016, 1696, 1025]]\");\n"
      ],
      "text/plain": [
       "<IPython.core.display.Javascript object>"
      ]
     },
     "metadata": {},
     "output_type": "display_data"
    },
    {
     "data": {
      "application/javascript": [
       "console.log(\"[130058][INFO][openvisuspy.slice:211:pushJobIfNeeded] pushing new job\");\n"
      ],
      "text/plain": [
       "<IPython.core.display.Javascript object>"
      ]
     },
     "metadata": {},
     "output_type": "display_data"
    },
    {
     "data": {
      "application/javascript": [
       "console.log(\"[130059][INFO][openvisuspy.backend_cpp:76:printStatistics] Stats::printStatistics enlapsed=0.3782377243041992 seconds\");\n"
      ],
      "text/plain": [
       "<IPython.core.display.Javascript object>"
      ]
     },
     "metadata": {},
     "output_type": "display_data"
    },
    {
     "data": {
      "application/javascript": [
       "console.log(\"[130059][INFO][openvisuspy.slice:211:pushJobIfNeeded] pushing new job\");\n"
      ],
      "text/plain": [
       "<IPython.core.display.Javascript object>"
      ]
     },
     "metadata": {},
     "output_type": "display_data"
    },
    {
     "data": {
      "application/javascript": [
       "console.log(\"[130059][INFO][openvisuspy.backend_cpp:74:createBoxQuery] begin timestep=0 field=DATA logic_box=[[434.0165063774641, 742.5522133551601, 1024], [2025.540504285747, 1730.2065343428137, 1025]] num_refinements=4 max_pixels=475125 endh=33\");\n"
      ],
      "text/plain": [
       "<IPython.core.display.Javascript object>"
      ]
     },
     "metadata": {},
     "output_type": "display_data"
    },
    {
     "data": {
      "application/javascript": [
       "console.log(\"[130059][INFO][openvisuspy.backend_cpp:109:createBoxQuery] Guess resolution endh=30 original_box=([434, 742, 1024], [2026, 1731, 1025]) aligned_box=([434, 742, 1024], [2026, 1730, 1025]) delta=[2, 2, 2] num_pixels=[796, 494, 1] tot_pixels=393,224 max_pixels=475,125 end=30\");\n"
      ],
      "text/plain": [
       "<IPython.core.display.Javascript object>"
      ]
     },
     "metadata": {},
     "output_type": "display_data"
    },
    {
     "data": {
      "application/javascript": [
       "console.log(\"[130059][INFO][openvisuspy.backend_cpp:138:beginBoxQuery] beginBoxQuery timestep=0 field=DATA logic_box=[[432, 736, 1024], [2016, 1728, 1025]] end_resolutions=[21, 24, 27, 30]\");\n"
      ],
      "text/plain": [
       "<IPython.core.display.Javascript object>"
      ]
     },
     "metadata": {},
     "output_type": "display_data"
    },
    {
     "data": {
      "application/javascript": [
       "console.log(\"[130059][INFO][openvisuspy.backend_cpp:76:printStatistics] Stats::printStatistics enlapsed=0.009998083114624023 seconds\");\n"
      ],
      "text/plain": [
       "<IPython.core.display.Javascript object>"
      ]
     },
     "metadata": {},
     "output_type": "display_data"
    },
    {
     "data": {
      "application/javascript": [
       "console.log(\"[130059][INFO][openvisuspy.backend_cpp:74:createBoxQuery] begin timestep=0 field=DATA logic_box=[[434.0165063774641, 757.1032899074644, 1024], [2025.540504285747, 1744.757610895118, 1025]] num_refinements=4 max_pixels=475125 endh=33\");\n"
      ],
      "text/plain": [
       "<IPython.core.display.Javascript object>"
      ]
     },
     "metadata": {},
     "output_type": "display_data"
    },
    {
     "data": {
      "application/javascript": [
       "console.log(\"[130059][INFO][openvisuspy.slice:211:pushJobIfNeeded] pushing new job\");\n"
      ],
      "text/plain": [
       "<IPython.core.display.Javascript object>"
      ]
     },
     "metadata": {},
     "output_type": "display_data"
    },
    {
     "data": {
      "application/javascript": [
       "console.log(\"[130059][INFO][openvisuspy.backend_cpp:109:createBoxQuery] Guess resolution endh=30 original_box=([434, 757, 1024], [2026, 1745, 1025]) aligned_box=([434, 756, 1024], [2026, 1744, 1025]) delta=[2, 2, 2] num_pixels=[796, 494, 1] tot_pixels=393,224 max_pixels=475,125 end=30\");\n"
      ],
      "text/plain": [
       "<IPython.core.display.Javascript object>"
      ]
     },
     "metadata": {},
     "output_type": "display_data"
    },
    {
     "data": {
      "application/javascript": [
       "console.log(\"[130059][INFO][openvisuspy.backend_cpp:138:beginBoxQuery] beginBoxQuery timestep=0 field=DATA logic_box=[[432, 752, 1024], [2016, 1744, 1025]] end_resolutions=[21, 24, 27, 30]\");\n"
      ],
      "text/plain": [
       "<IPython.core.display.Javascript object>"
      ]
     },
     "metadata": {},
     "output_type": "display_data"
    },
    {
     "data": {
      "application/javascript": [
       "console.log(\"[130059][INFO][openvisuspy.backend_cpp:76:printStatistics] Stats::printStatistics enlapsed=0.012001276016235352 seconds\");\n"
      ],
      "text/plain": [
       "<IPython.core.display.Javascript object>"
      ]
     },
     "metadata": {},
     "output_type": "display_data"
    },
    {
     "data": {
      "application/javascript": [
       "console.log(\"[130059][INFO][openvisuspy.backend_cpp:74:createBoxQuery] begin timestep=0 field=DATA logic_box=[[432.1976218084261, 766.1977127526545, 1024], [2023.721619716709, 1753.8520337403081, 1025]] num_refinements=4 max_pixels=475125 endh=33\");\n"
      ],
      "text/plain": [
       "<IPython.core.display.Javascript object>"
      ]
     },
     "metadata": {},
     "output_type": "display_data"
    },
    {
     "data": {
      "application/javascript": [
       "console.log(\"[130059][INFO][openvisuspy.backend_cpp:109:createBoxQuery] Guess resolution endh=30 original_box=([432, 766, 1024], [2024, 1754, 1025]) aligned_box=([432, 766, 1024], [2024, 1754, 1025]) delta=[2, 2, 2] num_pixels=[796, 494, 1] tot_pixels=393,224 max_pixels=475,125 end=30\");\n"
      ],
      "text/plain": [
       "<IPython.core.display.Javascript object>"
      ]
     },
     "metadata": {},
     "output_type": "display_data"
    },
    {
     "data": {
      "application/javascript": [
       "console.log(\"[130059][INFO][openvisuspy.backend_cpp:138:beginBoxQuery] beginBoxQuery timestep=0 field=DATA logic_box=[[432, 752, 1024], [2016, 1744, 1025]] end_resolutions=[21, 24, 27, 30]\");\n"
      ],
      "text/plain": [
       "<IPython.core.display.Javascript object>"
      ]
     },
     "metadata": {},
     "output_type": "display_data"
    },
    {
     "data": {
      "application/javascript": [
       "console.log(\"[130059][INFO][openvisuspy.backend_cpp:168:returnBoxQueryData] got data 0/[21, 24, 27, 30] timestep=0 field=DATA H=21 data.shape=(62, 99) data.dtype=uint8 logic_box=[[432, 752, 1024], [2016, 1744, 1025]] m=3 M=230 ms=7\");\n"
      ],
      "text/plain": [
       "<IPython.core.display.Javascript object>"
      ]
     },
     "metadata": {},
     "output_type": "display_data"
    },
    {
     "data": {
      "application/javascript": [
       "console.log(\"[130059][INFO][openvisuspy.backend_cpp:168:returnBoxQueryData] got data 1/[21, 24, 27, 30] timestep=0 field=DATA H=24 data.shape=(124, 198) data.dtype=uint8 logic_box=[[432, 752, 1024], [2016, 1744, 1025]] m=3 M=230 ms=16\");\n"
      ],
      "text/plain": [
       "<IPython.core.display.Javascript object>"
      ]
     },
     "metadata": {},
     "output_type": "display_data"
    },
    {
     "data": {
      "application/javascript": [
       "console.log(\"[130059][INFO][openvisuspy.slice:192:renderResultIfNeeded] Slice[0]::rendering result data.shape=(124, 198) data.dtype=uint8 logic_box=[[432, 752, 1024], [2016, 1744, 1025]]\");\n"
      ],
      "text/plain": [
       "<IPython.core.display.Javascript object>"
      ]
     },
     "metadata": {},
     "output_type": "display_data"
    },
    {
     "data": {
      "application/javascript": [
       "console.log(\"[130059][INFO][openvisuspy.slice:211:pushJobIfNeeded] pushing new job\");\n"
      ],
      "text/plain": [
       "<IPython.core.display.Javascript object>"
      ]
     },
     "metadata": {},
     "output_type": "display_data"
    },
    {
     "data": {
      "application/javascript": [
       "console.log(\"[130059][INFO][openvisuspy.backend_cpp:76:printStatistics] Stats::printStatistics enlapsed=0.045038700103759766 seconds\");\n"
      ],
      "text/plain": [
       "<IPython.core.display.Javascript object>"
      ]
     },
     "metadata": {},
     "output_type": "display_data"
    },
    {
     "data": {
      "application/javascript": [
       "console.log(\"[130059][INFO][openvisuspy.backend_cpp:74:createBoxQuery] begin timestep=0 field=DATA logic_box=[[423.1031989632359, 795.2998658572631, 1024], [2014.627196871519, 1782.9541868449169, 1025]] num_refinements=4 max_pixels=475125 endh=33\");\n"
      ],
      "text/plain": [
       "<IPython.core.display.Javascript object>"
      ]
     },
     "metadata": {},
     "output_type": "display_data"
    },
    {
     "data": {
      "application/javascript": [
       "console.log(\"[130059][INFO][openvisuspy.backend_cpp:109:createBoxQuery] Guess resolution endh=30 original_box=([423, 795, 1024], [2015, 1783, 1025]) aligned_box=([422, 794, 1024], [2014, 1782, 1025]) delta=[2, 2, 2] num_pixels=[796, 494, 1] tot_pixels=393,224 max_pixels=475,125 end=30\");\n"
      ],
      "text/plain": [
       "<IPython.core.display.Javascript object>"
      ]
     },
     "metadata": {},
     "output_type": "display_data"
    },
    {
     "data": {
      "application/javascript": [
       "console.log(\"[130059][INFO][openvisuspy.backend_cpp:138:beginBoxQuery] beginBoxQuery timestep=0 field=DATA logic_box=[[416, 784, 1024], [2000, 1776, 1025]] end_resolutions=[21, 24, 27, 30]\");\n"
      ],
      "text/plain": [
       "<IPython.core.display.Javascript object>"
      ]
     },
     "metadata": {},
     "output_type": "display_data"
    },
    {
     "data": {
      "application/javascript": [
       "console.log(\"[130059][INFO][openvisuspy.backend_cpp:168:returnBoxQueryData] got data 0/[21, 24, 27, 30] timestep=0 field=DATA H=21 data.shape=(62, 99) data.dtype=uint8 logic_box=[[416, 784, 1024], [2000, 1776, 1025]] m=3 M=230 ms=6\");\n"
      ],
      "text/plain": [
       "<IPython.core.display.Javascript object>"
      ]
     },
     "metadata": {},
     "output_type": "display_data"
    },
    {
     "data": {
      "application/javascript": [
       "console.log(\"[130059][INFO][openvisuspy.slice:192:renderResultIfNeeded] Slice[0]::rendering result data.shape=(62, 99) data.dtype=uint8 logic_box=[[416, 784, 1024], [2000, 1776, 1025]]\");\n"
      ],
      "text/plain": [
       "<IPython.core.display.Javascript object>"
      ]
     },
     "metadata": {},
     "output_type": "display_data"
    },
    {
     "data": {
      "application/javascript": [
       "console.log(\"[130059][INFO][openvisuspy.backend_cpp:168:returnBoxQueryData] got data 1/[21, 24, 27, 30] timestep=0 field=DATA H=24 data.shape=(124, 198) data.dtype=uint8 logic_box=[[416, 784, 1024], [2000, 1776, 1025]] m=3 M=230 ms=17\");\n"
      ],
      "text/plain": [
       "<IPython.core.display.Javascript object>"
      ]
     },
     "metadata": {},
     "output_type": "display_data"
    },
    {
     "data": {
      "application/javascript": [
       "console.log(\"[130059][INFO][openvisuspy.backend_cpp:168:returnBoxQueryData] got data 2/[21, 24, 27, 30] timestep=0 field=DATA H=27 data.shape=(248, 396) data.dtype=uint8 logic_box=[[416, 784, 1024], [2000, 1776, 1025]] m=3 M=230 ms=39\");\n"
      ],
      "text/plain": [
       "<IPython.core.display.Javascript object>"
      ]
     },
     "metadata": {},
     "output_type": "display_data"
    },
    {
     "data": {
      "application/javascript": [
       "console.log(\"[130059][INFO][openvisuspy.slice:192:renderResultIfNeeded] Slice[0]::rendering result data.shape=(248, 396) data.dtype=uint8 logic_box=[[416, 784, 1024], [2000, 1776, 1025]]\");\n"
      ],
      "text/plain": [
       "<IPython.core.display.Javascript object>"
      ]
     },
     "metadata": {},
     "output_type": "display_data"
    },
    {
     "data": {
      "application/javascript": [
       "console.log(\"[130100][INFO][openvisuspy.backend_cpp:168:returnBoxQueryData] got data 3/[21, 24, 27, 30] timestep=0 field=DATA H=30 data.shape=(496, 792) data.dtype=uint8 logic_box=[[416, 784, 1024], [2000, 1776, 1025]] m=3 M=230 ms=1704\");\n"
      ],
      "text/plain": [
       "<IPython.core.display.Javascript object>"
      ]
     },
     "metadata": {},
     "output_type": "display_data"
    },
    {
     "data": {
      "application/javascript": [
       "console.log(\"[130100][INFO][openvisuspy.backend_cpp:76:printStatistics] Stats::printStatistics enlapsed=1.7159767150878906 seconds\");\n"
      ],
      "text/plain": [
       "<IPython.core.display.Javascript object>"
      ]
     },
     "metadata": {},
     "output_type": "display_data"
    },
    {
     "data": {
      "application/javascript": [
       "console.log(\"[130100][INFO][openvisuspy.slice:192:renderResultIfNeeded] Slice[0]::rendering result data.shape=(496, 792) data.dtype=uint8 logic_box=[[416, 784, 1024], [2000, 1776, 1025]]\");\n"
      ],
      "text/plain": [
       "<IPython.core.display.Javascript object>"
      ]
     },
     "metadata": {},
     "output_type": "display_data"
    }
   ],
   "source": [
    "def MyApp(doc,url=f\"http://atlantis.sci.utah.edu/mod_visus?dataset=2kbit1&cached=1\"):\n",
    "    view=Slices(num_views=2)\n",
    "    view.setDataset(url)\n",
    "    view.setPalette(\"Greys256\")\n",
    "    view.setPaletteRange((0,255))\n",
    "    view.setTimestep(view.getTimestep())\n",
    "    view.setField(view.getField())\n",
    "    doc.add_root(view.getBokehLayout(doc=doc))\n",
    "ShowBokehApp(MyApp)"
   ]
  },
  {
   "cell_type": "code",
   "execution_count": null,
   "metadata": {},
   "outputs": [],
   "source": []
  }
 ],
 "metadata": {
  "kernelspec": {
   "display_name": "Python 3 (ipykernel)",
   "language": "python",
   "name": "python3"
  },
  "language_info": {
   "codemirror_mode": {
    "name": "ipython",
    "version": 3
   },
   "file_extension": ".py",
   "mimetype": "text/x-python",
   "name": "python",
   "nbconvert_exporter": "python",
   "pygments_lexer": "ipython3",
   "version": "3.9.9"
  },
  "vscode": {
   "interpreter": {
    "hash": "81794d4967e6c3204c66dcd87b604927b115b27c00565d3d43f05ba2f3a2cb0d"
   }
  }
 },
 "nbformat": 4,
 "nbformat_minor": 4
}
