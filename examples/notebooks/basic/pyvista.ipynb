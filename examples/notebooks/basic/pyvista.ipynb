{
 "cells": [
  {
   "cell_type": "code",
   "execution_count": 1,
   "id": "2bf6da98-d4bf-4526-bd41-ec0caa25bc00",
   "metadata": {
    "tags": []
   },
   "outputs": [
    {
     "name": "stdout",
     "output_type": "stream",
     "text": [
      "C:\\Users\\scrgi\\Desktop\\test\\.venv\\Scripts\\python.exe\n"
     ]
    },
    {
     "data": {
      "application/vnd.jupyter.widget-view+json": {
       "model_id": "d048c156e4454b8482616f1fdbbf921d",
       "version_major": 2,
       "version_minor": 0
      },
      "text/plain": [
       "Widget(value='<iframe src=\"http://localhost:51130/index.html?ui=P_0x249e33a3f10_0&reconnect=auto\" class=\"pyvis…"
      ]
     },
     "metadata": {},
     "output_type": "display_data"
    }
   ],
   "source": [
    "import sys\n",
    "print(sys.executable)\n",
    "\n",
    "import pyvista as pv\n",
    "import imageio.v2 as imageio\n",
    "stent  = imageio.imread('imageio:stent.npz')\n",
    "pl = pv.Plotter()\n",
    "vol = pl.add_volume(stent)\n",
    "pl.show()"
   ]
  },
  {
   "cell_type": "code",
   "execution_count": 2,
   "id": "4367a4f7-a532-4b6a-a0c7-d50ef568e2d1",
   "metadata": {
    "tags": []
   },
   "outputs": [
    {
     "name": "stdout",
     "output_type": "stream",
     "text": [
      "\n",
      "--------------------------------------------------------------------------------\n",
      "  Date: Sat Jan 20 11:20:23 2024 W. Europe Standard Time\n",
      "\n",
      "                  OS : Windows\n",
      "              CPU(s) : 16\n",
      "             Machine : AMD64\n",
      "        Architecture : 64bit\n",
      "                 RAM : 31.9 GiB\n",
      "         Environment : Jupyter\n",
      "          GPU Vendor : NVIDIA Corporation\n",
      "        GPU Renderer : GeForce GTX 660/PCIe/SSE2\n",
      "         GPU Version : 4.5.0 NVIDIA 456.71\n",
      "    MathText Support : False\n",
      "\n",
      "  Python 3.10.0 (tags/v3.10.0:b494f59, Oct  4 2021, 19:00:18) [MSC v.1929 64\n",
      "  bit (AMD64)]\n",
      "\n",
      "             pyvista : 0.43.2\n",
      "                 vtk : 9.3.0\n",
      "               numpy : 1.26.3\n",
      "          matplotlib : 3.8.2\n",
      "              scooby : 0.9.2\n",
      "               pooch : 1.8.0\n",
      "              pillow : 10.2.0\n",
      "             imageio : 2.33.1\n",
      "             IPython : 8.20.0\n",
      "            colorcet : 3.0.1\n",
      "          ipywidgets : 8.1.1\n",
      "               scipy : 1.11.4\n",
      "                tqdm : 4.66.1\n",
      "          jupyterlab : 3.6.6\n",
      "               trame : 3.5.1\n",
      "        trame_client : 2.15.0\n",
      "        trame_server : 2.15.0\n",
      "           trame_vtk : 2.7.0\n",
      "       trame_vuetify : 2.4.2\n",
      "jupyter_server_proxy : 4.1.0\n",
      "        nest_asyncio : 1.5.9\n",
      "--------------------------------------------------------------------------------\n"
     ]
    }
   ],
   "source": [
    "import pyvista as pv\n",
    "print(pv.Report())"
   ]
  },
  {
   "cell_type": "code",
   "execution_count": null,
   "id": "cba5966b-8b67-40c3-ad08-ccb0efe9c0c3",
   "metadata": {},
   "outputs": [],
   "source": []
  }
 ],
 "metadata": {
  "kernelspec": {
   "display_name": "Python 3 (ipykernel)",
   "language": "python",
   "name": "python3"
  },
  "language_info": {
   "codemirror_mode": {
    "name": "ipython",
    "version": 3
   },
   "file_extension": ".py",
   "mimetype": "text/x-python",
   "name": "python",
   "nbconvert_exporter": "python",
   "pygments_lexer": "ipython3",
   "version": "3.10.0"
  }
 },
 "nbformat": 4,
 "nbformat_minor": 5
}
