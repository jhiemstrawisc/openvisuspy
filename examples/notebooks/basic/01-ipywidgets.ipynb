{
 "cells": [
  {
   "cell_type": "code",
   "execution_count": 1,
   "id": "a441cf52-3600-4ef1-a9d5-a9801ef2ddf7",
   "metadata": {
    "tags": []
   },
   "outputs": [
    {
     "name": "stdout",
     "output_type": "stream",
     "text": [
      "8.1.1\n"
     ]
    },
    {
     "data": {
      "application/vnd.jupyter.widget-view+json": {
       "model_id": "59129548208a45a8820bc058110f3e54",
       "version_major": 2,
       "version_minor": 0
      },
      "text/plain": [
       "interactive(children=(IntSlider(value=0, description='a', max=50), IntSlider(value=0, description='b', max=50)…"
      ]
     },
     "metadata": {},
     "output_type": "display_data"
    }
   ],
   "source": [
    "from ipywidgets import interact, interactive, fixed, interact_manual\n",
    "import ipywidgets\n",
    "import ipywidgets as widgets\n",
    "from IPython.display import display\n",
    "\n",
    "print(ipywidgets.__version__)\n",
    "\n",
    "def func3(a,b,c): \n",
    "    display(a+b+c)\n",
    "    \n",
    "w = interactive(func3,  \n",
    "                a=widgets.IntSlider(min=0, max=50, value=0, step=1),    \n",
    "                b=widgets.IntSlider(min=0, max=50, value=0, step=1),\n",
    "                c=widgets.IntSlider(min=0, max=50, value=0, step=1))\n",
    "display(w)"
   ]
  }
 ],
 "metadata": {
  "kernelspec": {
   "display_name": "Python 3 (ipykernel)",
   "language": "python",
   "name": "python3"
  },
  "language_info": {
   "codemirror_mode": {
    "name": "ipython",
    "version": 3
   },
   "file_extension": ".py",
   "mimetype": "text/x-python",
   "name": "python",
   "nbconvert_exporter": "python",
   "pygments_lexer": "ipython3",
   "version": "3.10.0"
  }
 },
 "nbformat": 4,
 "nbformat_minor": 5
}
