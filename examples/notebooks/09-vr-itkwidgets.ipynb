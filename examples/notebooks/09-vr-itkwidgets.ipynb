{
 "cells": [
  {
   "cell_type": "markdown",
   "id": "6edea670",
   "metadata": {},
   "source": [
    "# Import OpenVisus and Load dataset"
   ]
  },
  {
   "cell_type": "code",
   "execution_count": 1,
   "id": "502716f3",
   "metadata": {},
   "outputs": [
    {
     "name": "stdout",
     "output_type": "stream",
     "text": [
      "Loaded dataset \n",
      "fields=['DATA'] \n",
      "logic_box=([0, 0, 0], [2048, 2048, 2048])\n"
     ]
    }
   ],
   "source": [
    "import os,sys\n",
    "import matplotlib.pyplot as plt, skimage\n",
    "%matplotlib notebook\n",
    "\n",
    "def ShowData(data,extent):\n",
    "    fig, ax = plt.subplots()\n",
    "    im = ax.imshow(data, extent=extent) \n",
    "    plt.colorbar(im)\n",
    "    return fig,im,ax\n",
    "\n",
    "from openvisuspy import LoadDataset, ExecuteBoxQuery, SetupLogger\n",
    "SetupLogger(stream=False)\n",
    "\n",
    "url=f\"http://atlantis.sci.utah.edu/mod_visus?dataset=2kbit1&cached=1\"\n",
    "db=LoadDataset(url)\n",
    "print(f\"Loaded dataset \\nfields={db.getFields()} \\nlogic_box={db.getLogicBox()}\")\n",
    "W,H,D=db.getLogicBox()[1]\n",
    "access=db.createAccess()\n"
   ]
  },
  {
   "cell_type": "markdown",
   "id": "586a5583",
   "metadata": {},
   "source": [
    "# Extract data"
   ]
  },
  {
   "cell_type": "code",
   "execution_count": 2,
   "id": "0188c6f4",
   "metadata": {},
   "outputs": [
    {
     "name": "stdout",
     "output_type": "stream",
     "text": [
      "Got data shape=(128, 128, 128) dtype=uint8\n"
     ]
    }
   ],
   "source": [
    "result=list(ExecuteBoxQuery(db,\n",
    "                            access=access,\n",
    "                            logic_box=[[0,0,0],[W,H,D]],\n",
    "                            endh=21,\n",
    "                            num_refinements=1))[0]\n",
    "data=result['data']\n",
    "print(f\"Got data shape={data.shape} dtype={data.dtype}\")"
   ]
  },
  {
   "cell_type": "markdown",
   "id": "c0862d3b",
   "metadata": {},
   "source": [
    "# Show volume in itkwidgets"
   ]
  },
  {
   "cell_type": "code",
   "execution_count": 3,
   "id": "0f258605",
   "metadata": {},
   "outputs": [
    {
     "data": {
      "application/vnd.jupyter.widget-view+json": {
       "model_id": "db60285c83014a44807c7b122d9196cd",
       "version_major": 2,
       "version_minor": 0
      },
      "text/plain": [
       "Viewer(geometries=[], gradient_opacity=0.22, point_sets=[], rendered_image=<itk.itkImagePython.itkImageUC3; pr…"
      ]
     },
     "metadata": {},
     "output_type": "display_data"
    }
   ],
   "source": [
    "from itkwidgets import view\n",
    "view(data)"
   ]
  },
  {
   "cell_type": "code",
   "execution_count": null,
   "id": "75a402d5",
   "metadata": {},
   "outputs": [],
   "source": []
  }
 ],
 "metadata": {
  "kernelspec": {
   "display_name": "Python 3 (ipykernel)",
   "language": "python",
   "name": "python3"
  },
  "language_info": {
   "codemirror_mode": {
    "name": "ipython",
    "version": 3
   },
   "file_extension": ".py",
   "mimetype": "text/x-python",
   "name": "python",
   "nbconvert_exporter": "python",
   "pygments_lexer": "ipython3",
   "version": "3.9.16"
  }
 },
 "nbformat": 4,
 "nbformat_minor": 5
}
