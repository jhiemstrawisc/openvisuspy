{
 "cells": [
  {
   "cell_type": "code",
   "execution_count": null,
   "metadata": {},
   "outputs": [],
   "source": [
    "import matplotlib.pyplot as plt\n",
    "from scipy import ndimage\n",
    "import time\n",
    "import numpy as np\n",
    "import h5py\n",
    "f = h5py.File(\"/nfs/chess/raw/2023-3/id3a/berman-3804-a/zx30-t1-ff-0/1/ff/ff1_000231.h5\", 'r')\n",
    "data=f[\"imageseries\"][\"images\"][:,:,:]\n",
    "\n",
    "# need for max filter (if I used uint16 i would need an extra bit)\n",
    "data=data.astype(np.float32,copy=False) "
   ]
  },
  {
   "cell_type": "code",
   "execution_count": null,
   "metadata": {},
   "outputs": [],
   "source": [
    "max_projection=np.max(data,axis=0)"
   ]
  },
  {
   "cell_type": "code",
   "execution_count": 14,
   "metadata": {},
   "outputs": [
    {
     "name": "stdout",
     "output_type": "stream",
     "text": [
      "RefreshColors min=285 max=15000 show_staturation=True \n"
     ]
    },
    {
     "data": {
      "application/vnd.jupyter.widget-view+json": {
       "model_id": "6b21e7f7087542b3936ba86264fc9647",
       "version_major": 2,
       "version_minor": 0
      },
      "text/plain": [
       "HBox(children=(FigureWidget({\n",
       "    'data': [{'marker': {'opacity': 0},\n",
       "              'mode': 'markers',\n",
       "       …"
      ]
     },
     "execution_count": 14,
     "metadata": {},
     "output_type": "execute_result"
    }
   ],
   "source": [
    "import tifffile\n",
    "import numpy as np\n",
    "import PIL\n",
    "\n",
    "import plotly.express as px\n",
    "import plotly.graph_objects as go\n",
    "from ipywidgets import widgets\n",
    "\n",
    "# ////////////////////////////////////////////////\n",
    "def ShowSaturation(img,user_zmin,user_zmax):\n",
    "\n",
    "    H,W=img.shape\n",
    "    zmin,zmax=np.min(img),np.max(img)\n",
    "\n",
    "    show_min        = widgets.BoundedIntText(value=user_zmin, min=zmin, max=zmax, step=1, description=f'Min/{zmin}')\n",
    "    show_max        = widgets.BoundedIntText(value=user_zmax, min=zmin, max=zmax, step=1, description=f'Max/{zmax}')\n",
    "    show_saturation = widgets.Checkbox(description='Show saturation: ',value=True)\n",
    "\n",
    "    fig = go.Figure()\n",
    "    fig.layout.dragmode='pan'\n",
    "\n",
    "    fig.add_trace(go.Scatter(x=[0, W ],y=[0, H],mode=\"markers\",marker_opacity=0)) # This trace is added to help the autoresize logic work.\n",
    "    fig.update_xaxes(visible=False,range=[0, W])\n",
    "    fig.update_yaxes(visible=False,range=[0, H],scaleanchor=\"x\")\n",
    "\n",
    "    # ////////////////////////////////////////////////\n",
    "    def CreateImage(r=None,g=None,b=None):\n",
    "        if r is None:\n",
    "            gray=(np.random.random([256,256])*255.0).astype(np.uint8)\n",
    "            return CreateImage(gray,gray,gray)\n",
    "        return PIL.Image.fromarray(np.stack([r,g,b],axis=-1))\n",
    "\n",
    "\n",
    "    fig.add_layout_image(dict(\n",
    "        x=0, y=H, sizex=W, sizey=H,\n",
    "        xref=\"x\",yref=\"y\",opacity=1.0, layer=\"below\",sizing=\"stretch\",\n",
    "        source=CreateImage()\n",
    "    ))\n",
    "    fig.update_layout(margin={\"l\": 0, \"r\": 0, \"t\": 0, \"b\": 0})\n",
    "\n",
    "    figure_widget=go.FigureWidget(fig)\n",
    "    figure_widget.set_trait(\"_config\",{\"scrollZoom\": True})  # if you cannot debug, comment this line\n",
    "\n",
    "    def onChange(change=None):\n",
    "        print(f\"RefreshColors min={show_min.value} max={show_max.value} show_staturation={show_saturation.value} \")\n",
    "        r=g=b=(255.0*(img/zmax)).astype(np.uint8)\n",
    "        if show_saturation.value: \n",
    "            g,b=np.copy(r),np.copy(r)\n",
    "            mask=r>(255.0*(show_max.value/zmax))\n",
    "            r[mask],g[mask],b[mask]=255,0,0\n",
    "        new_image=CreateImage(r,g,b)\n",
    "        figure_widget.update_layout_images(source=new_image)\n",
    "\n",
    "\n",
    "    show_min       .observe(onChange, names=\"value\")\n",
    "    show_max       .observe(onChange, names=\"value\")\n",
    "    show_saturation.observe(onChange, names=\"value\")\n",
    "\n",
    "    onChange()\n",
    "    return widgets.HBox([figure_widget,widgets.VBox([show_min,show_max,show_saturation])])\n",
    "\n",
    "ShowSaturation(max_projection,200,15000)"
   ]
  },
  {
   "cell_type": "markdown",
   "metadata": {},
   "source": [
    "Write the data without filters"
   ]
  },
  {
   "cell_type": "code",
   "execution_count": 15,
   "metadata": {},
   "outputs": [
    {
     "name": "stdout",
     "output_type": "stream",
     "text": [
      "db.write done in 142.13905215263367 seconds\n"
     ]
    }
   ],
   "source": [
    "import sys,os,shutil\n",
    "sys.path.append(r\"C:\\projects\\OpenVisus\\build\\RelWithDebInfo\")\n",
    "os.environ[\"VISUS_DISABLE_WRITE_LOCK\"]=\"1\"\n",
    "import OpenVisus as ov\n",
    "D,H,W=data.shape\n",
    "\n",
    "idx_filename='./tmp/visus.idx'\n",
    "shutil.rmtree(os.path.splitext(idx_filename)[0], ignore_errors=True)\n",
    "field=ov.Field.fromString(\"DATA float32 default_layout(row_major)\")\n",
    "db = ov.CreateIdx(url=idx_filename, dim=3, dims=(W,H,D), fields=[field], compression=\"raw\") \n",
    "t1 = time.time()\n",
    "db.write(data)\n",
    "print(f\"db.write done in {time.time()-t1} seconds\")"
   ]
  },
  {
   "cell_type": "code",
   "execution_count": 16,
   "metadata": {},
   "outputs": [
    {
     "name": "stdout",
     "output_type": "stream",
     "text": [
      "db.compressDataset done in 527.7871034145355 seconds\n"
     ]
    }
   ],
   "source": [
    "t1 = time.time()\n",
    "db.compressDataset([\"zip\"])\n",
    "print(f\"db.compressDataset done in {time.time()-t1} seconds\")"
   ]
  },
  {
   "cell_type": "markdown",
   "metadata": {},
   "source": [
    "Check the data is the same"
   ]
  },
  {
   "cell_type": "code",
   "execution_count": 17,
   "metadata": {},
   "outputs": [],
   "source": [
    "ov_max_projection=db.read(z=[0,D])\n",
    "ShowSaturation(ov_max_projection,200,15000)"
   ]
  },
  {
   "cell_type": "markdown",
   "metadata": {},
   "source": [
    "Write the data with **MAX** filter"
   ]
  },
  {
   "cell_type": "code",
   "execution_count": null,
   "metadata": {},
   "outputs": [],
   "source": [
    "import sys,os,shutil\n",
    "sys.path.append(r\"C:\\projects\\OpenVisus\\build\\RelWithDebInfo\")\n",
    "os.environ[\"VISUS_DISABLE_WRITE_LOCK\"]=\"1\"\n",
    "import OpenVisus as ov\n",
    "D,H,W=data.shape\n",
    "\n",
    "idx_filename='./tmp/visus-max.idx'\n",
    "shutil.rmtree(os.path.splitext(idx_filename)[0], ignore_errors=True)\n",
    "field=ov.Field.fromString(\"DATA float32 default_layout(row_major)\")\n",
    "db = ov.CreateIdx(url=idx_filename, dim=3, dims=(W,H,D), filters=['max'], fields=[field], compression=\"raw\") \n",
    "db.write(data)\n",
    "\n",
    "for img in db.read(z=[100,100+1],num_refinements=4):\n",
    "    assert img.shape[0]==1\n",
    "    print(img.shape,img.dtype)\n",
    "    ShowData(img[0,:,:])"
   ]
  },
  {
   "cell_type": "markdown",
   "metadata": {},
   "source": [
    "Compute the filter (SLOW)"
   ]
  },
  {
   "cell_type": "code",
   "execution_count": null,
   "metadata": {},
   "outputs": [],
   "source": [
    "sliding_window=1024 # i.e. 1k cube of float32 == 4GB\n",
    "db.computeFilter(db.getField(), sliding_window)\n",
    "print(\"filter computed\")"
   ]
  },
  {
   "cell_type": "code",
   "execution_count": null,
   "metadata": {},
   "outputs": [],
   "source": [
    "\n",
    "for img in db.read(z=[100,100+1],num_refinements=4):\n",
    "    assert img.shape[0]==1\n",
    "    print(img.shape,img.dtype)\n",
    "    ShowData(img[0,:,:])"
   ]
  }
 ],
 "metadata": {
  "kernelspec": {
   "display_name": "nsdf-env",
   "language": "python",
   "name": "python3"
  },
  "language_info": {
   "codemirror_mode": {
    "name": "ipython",
    "version": 3
   },
   "file_extension": ".py",
   "mimetype": "text/x-python",
   "name": "python",
   "nbconvert_exporter": "python",
   "pygments_lexer": "ipython3",
   "version": "3.10.12"
  }
 },
 "nbformat": 4,
 "nbformat_minor": 2
}
