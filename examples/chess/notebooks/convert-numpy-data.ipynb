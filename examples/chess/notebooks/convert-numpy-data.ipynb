{
 "cells": [
  {
   "attachments": {},
   "cell_type": "markdown",
   "metadata": {},
   "source": [
    "![nsdf](https://www.sci.utah.edu/~pascucci/public/NSDF-large.png)  \n",
    "[National Science Data Fabric](https://nationalsciencedatafabric.org/) \n",
    "\n",
    "# Converting numpy data \n",
    "\n",
    "\n",
    "- `912*816*2025*float32` Each timestep is 5 GiB.\n",
    "- 900 timesteps  5T"
   ]
  },
  {
   "cell_type": "code",
   "execution_count": null,
   "metadata": {},
   "outputs": [],
   "source": [
    "import os ,sys, time, logging,shutil\n",
    "from datetime import datetime\n",
    "import numpy as np\n",
    "\n",
    "t1 = time.time()\n",
    "data=np.load(\"/mnt/data1/DemoNSDF-feb-2023/recon_combined_1_2_3_fullres.npy\")\n",
    "shape,dtype=data.shape,data.dtype\n",
    "D,H,W=data.shape\n",
    "m,M=np.min(data),np.max(data)\n",
    "print(f\"np.load done in {time.time()-t1} seconds \\ndtype={data.dtype} \\nshape={data.shape} \\nc_size={W*H*D*4:,} \\nm={m} M={M}\")"
   ]
  },
  {
   "attachments": {},
   "cell_type": "markdown",
   "metadata": {},
   "source": [
    "# Show a slice along Z"
   ]
  },
  {
   "cell_type": "code",
   "execution_count": null,
   "metadata": {},
   "outputs": [],
   "source": [
    "import matplotlib.pyplot as plt\n",
    "from scipy import ndimage\n",
    "\n",
    "def ShowData(data,cmap=\"viridis\"):\n",
    "\tprint(\"ShowImage\",data.dtype,data.shape,np.min(data),np.max(data))\n",
    "\tplt.imshow(data, cmap=cmap)\n",
    "\tplt.colorbar()\n",
    "\tplt.show()\n",
    "\t\n",
    "Z=200\n",
    "slice=data[Z,:,:]\n",
    "ShowData(slice,cmap=\"viridis\") "
   ]
  },
  {
   "attachments": {},
   "cell_type": "markdown",
   "metadata": {},
   "source": [
    "# Import OpenVisus"
   ]
  },
  {
   "cell_type": "code",
   "execution_count": null,
   "metadata": {},
   "outputs": [],
   "source": [
    "import OpenVisus as ov\n",
    "os.environ[\"VISUS_DISABLE_WRITE_LOCK\"]=\"1\"\n",
    "logger= logging.getLogger(\"OpenVisus\")\n",
    "# ov.SetupLogger(logger, output_stdout=True) \n",
    "print(\"OpenVisus imported\")"
   ]
  },
  {
   "attachments": {},
   "cell_type": "markdown",
   "metadata": {},
   "source": [
    "# Create the IDX file"
   ]
  },
  {
   "cell_type": "code",
   "execution_count": null,
   "metadata": {},
   "outputs": [],
   "source": [
    "idx_filename=\"/mnt/data1/nsdf/tmp/recon_combined_1_2_3_fullres/visus.idx\"\n",
    "\n",
    "# ************ dangerous (make sure you are in a tmp directory) ************ \n",
    "import os,sys,shutil\n",
    "shutil.rmtree(os.path.dirname(idx_filename), ignore_errors=True)\n",
    "\n",
    "fields=[ov.Field(\"data\",str(data.dtype),\"row_major\")]\n",
    "db=ov.CreateIdx(\n",
    "\turl=idx_filename,\n",
    "\tdims=[W,H,D],\n",
    "\tfields=fields,\n",
    "\tcompression=\"raw\")\n",
    "\n",
    "print(type(db))\n",
    "print(db.getDatasetBody().toString())"
   ]
  },
  {
   "attachments": {},
   "cell_type": "markdown",
   "metadata": {},
   "source": [
    "# Write data to OpenVisus"
   ]
  },
  {
   "cell_type": "code",
   "execution_count": null,
   "metadata": {},
   "outputs": [],
   "source": [
    "t1 = time.time()\n",
    "db.write(data)\n",
    "print(f\"db.write done in {time.time() - t1} seconds\")"
   ]
  },
  {
   "attachments": {},
   "cell_type": "markdown",
   "metadata": {},
   "source": [
    "# Compress dataset using zip"
   ]
  },
  {
   "cell_type": "code",
   "execution_count": null,
   "metadata": {},
   "outputs": [],
   "source": [
    "t1 = time.time()\n",
    "db.compressDataset([\"zip\"])\n",
    "print(f\"db.compressDataset done in {time.time()-t1} seconds\")"
   ]
  },
  {
   "attachments": {},
   "cell_type": "markdown",
   "metadata": {},
   "source": [
    "# Show OpenVisus data"
   ]
  },
  {
   "cell_type": "code",
   "execution_count": null,
   "metadata": {},
   "outputs": [],
   "source": [
    "slice=db.read(x=[0,W],y=[0,H],z=[Z,Z+1], num_refinements=1)[0,:,:]\n",
    "ShowData(slice)"
   ]
  },
  {
   "attachments": {},
   "cell_type": "markdown",
   "metadata": {},
   "source": [
    "# Show coarse to fine"
   ]
  },
  {
   "cell_type": "code",
   "execution_count": null,
   "metadata": {},
   "outputs": [],
   "source": [
    "import os,sys\n",
    "for slice in db.read(x=[0,W],y=[0,H],z=[Z,Z+1], num_refinements=3):\n",
    "\tShowData(slice[0,:,:])"
   ]
  },
  {
   "attachments": {},
   "cell_type": "markdown",
   "metadata": {},
   "source": [
    "# Get from OpenVisus server\n",
    "\n",
    "You need to \n",
    "\n",
    "- add the dataset to the `/nfs/chess/nsdf01/openvisus/lib64/python3.6/site-packages/OpenVisus/visus.config`\n",
    "- launch the Open Visus server\n",
    "\n",
    "\n",
    "if you want to enable dynmamic dataset  you can do for example:\n",
    "\n",
    "```\n",
    "<visus> \n",
    "\n",
    "<Configuration> \n",
    "    <ModVisus> \n",
    "      <Dynamic enabled=\"true\"  filename=\"/nfs/chess/nsdf01/openvisus/lib64/python3.6/site-packages/OpenVisus/visus.config\" msec=\"10000\" /> \n",
    "    </ModVisus>\n",
    "</Configuration>\n",
    "\n",
    "...\n",
    "\n",
    "</visus>\n",
    "```"
   ]
  },
  {
   "attachments": {},
   "cell_type": "markdown",
   "metadata": {},
   "source": [
    "Get credentials to access the OpenVisus server:"
   ]
  },
  {
   "cell_type": "code",
   "execution_count": null,
   "metadata": {},
   "outputs": [],
   "source": [
    "username,password=None,None\n",
    "with open(\"/nfs/chess/nsdf01/openvisus/.mod_visus.identity.sh\",\"rt\") as file:\n",
    "    for line in file.read().split():\n",
    "        if \"MODVISUS_USERNAME=\" in line:\n",
    "            username=line[line.index(\"MODVISUS_USERNAME=\")+len(\"MODVISUS_USERNAME=\"):].strip()\n",
    "            continue\n",
    "        if \"MODVISUS_PASSWORD=\" in line:\n",
    "            password=line[line.index(\"MODVISUS_PASSWORD=\")+len(\"MODVISUS_PASSWORD=\"):].strip()\n",
    "            continue"
   ]
  },
  {
   "cell_type": "code",
   "execution_count": null,
   "metadata": {},
   "outputs": [],
   "source": [
    "db=ov.LoadDataset(f\"https://nsdf01.classe.cornell.edu/mod_visus?dataset=recon_combined_1_fullres&~auth_username={username}&~auth_password={password}\")\n",
    "slice=db.read(x=[0,W],y=[0,H],z=[Z,Z+1], num_refinements=1)[0,:,:]\n",
    "ShowData(slice)"
   ]
  },
  {
   "attachments": {},
   "cell_type": "markdown",
   "metadata": {},
   "source": []
  }
 ],
 "metadata": {
  "kernelspec": {
   "display_name": "my-env",
   "language": "python",
   "name": "python3"
  },
  "language_info": {
   "codemirror_mode": {
    "name": "ipython",
    "version": 3
   },
   "file_extension": ".py",
   "mimetype": "text/x-python",
   "name": "python",
   "nbconvert_exporter": "python",
   "pygments_lexer": "ipython3",
   "version": "3.9.16"
  }
 },
 "nbformat": 4,
 "nbformat_minor": 2
}
