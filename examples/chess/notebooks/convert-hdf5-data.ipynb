{
 "cells": [
  {
   "attachments": {},
   "cell_type": "markdown",
   "metadata": {},
   "source": [
    "![nsdf](https://www.sci.utah.edu/~pascucci/public/NSDF-large.png)  \n",
    "[National Science Data Fabric](https://nationalsciencedatafabric.org/) \n",
    "\n",
    "# Converting HDF5 data \n",
    "\n",
    "- `1420*1420 *310*float32` Each timestep is **2 GiB**\n",
    "- 900 timesteps **2TB**"
   ]
  },
  {
   "cell_type": "code",
   "execution_count": null,
   "metadata": {},
   "outputs": [],
   "source": [
    "import os ,sys, time, logging,shutil\n",
    "from datetime import datetime\n",
    "import numpy as np\n",
    "\n",
    "import h5py\n",
    "# 10-19\n",
    "f = h5py.File('/nfs/chess/raw/2023-2/id3a/clausen-3559-c/ti25nb/10/ff/ff1_000018.h5', 'r')\n",
    "\n",
    "print(f.tree)\n",
    "\n",
    "#data = a.entry.data.counts.nxdata\n",
    "#D,H,W=data.shape\n",
    "##m,M=np.min(data),np.max(data)\n",
    "#print(f\"Nexus load done in {time.time()-t1} seconds \\ndtype={data.dtype} \\nshape={data.shape} c_size={W*H*D*4:,} \\nm={m} M={M}\")"
   ]
  },
  {
   "attachments": {},
   "cell_type": "markdown",
   "metadata": {},
   "source": [
    "# Show slice"
   ]
  },
  {
   "cell_type": "code",
   "execution_count": null,
   "metadata": {},
   "outputs": [],
   "source": [
    "import matplotlib.pyplot as plt\n",
    "from scipy import ndimage\n",
    "\n",
    "def ShowData(slice,cmap=\"viridis\"):\n",
    "\t\n",
    "\t# I added this to 'see' the data better, do not know if it makes any scientific sense\n",
    "\tt1=time.time()\n",
    "\tslice=ndimage.percentile_filter(slice, percentile=20, size=16)\n",
    "\tprint(f\"Filter took {time.time()-t1} seconds to compute\")\n",
    "\n",
    "\tprint(\"ShowData\",slice.dtype,slice.shape,np.min(slice),np.max(slice))\n",
    "\tplt.imshow(slice, cmap=cmap)\n",
    "\tplt.colorbar()\n",
    "\tplt.show()\n",
    "\n",
    "X=100\n",
    "slice=data[:,:,X]\n",
    "print(\"data ready\")\n",
    "ShowData(slice)"
   ]
  },
  {
   "attachments": {},
   "cell_type": "markdown",
   "metadata": {},
   "source": [
    "# Import OpenVisus"
   ]
  },
  {
   "cell_type": "code",
   "execution_count": null,
   "metadata": {},
   "outputs": [],
   "source": [
    "# import \n",
    "# sys.path.append(r\"C:\\projects\\OpenVisus\\build\\RelWithDebInfo\")\n",
    "import OpenVisus as ov\n",
    "\n",
    "os.environ[\"VISUS_DISABLE_WRITE_LOCK\"]=\"1\"\n",
    "logger= logging.getLogger(\"OpenVisus\")\n",
    "# ov.SetupLogger(logger, output_stdout=True) # for debugging\n",
    "print(\"OpenVisus imported\")"
   ]
  },
  {
   "attachments": {},
   "cell_type": "markdown",
   "metadata": {},
   "source": [
    "# Create OpenVisus file"
   ]
  },
  {
   "cell_type": "code",
   "execution_count": null,
   "metadata": {},
   "outputs": [],
   "source": [
    "idx_filename=\"/mnt/data1/nsdf/tmp/3scans_HKLI/visus.idx\"\n",
    "\n",
    "# ************ dangerous (make sure you are in a tmp directory) ************ \n",
    "import os,sys,shutil\n",
    "shutil.rmtree(os.path.dirname(idx_filename), ignore_errors=True)\n",
    "\n",
    "fields=[ov.Field(\"data\",str(data.dtype),\"row_major\")]\n",
    "\n",
    "# NOTE: we are first creating the dataset with no-compression\n",
    "db=ov.CreateIdx(\n",
    "\turl=idx_filename,\n",
    "\tdims=[W,H,D],\n",
    "\tfields=fields,\n",
    "\tcompression=\"raw\")\n",
    "\n",
    "print(db.getDatasetBody().toString())\n",
    "print(\"Dataset created\")"
   ]
  },
  {
   "attachments": {},
   "cell_type": "markdown",
   "metadata": {},
   "source": [
    "# Write  data to OpenVisus"
   ]
  },
  {
   "cell_type": "code",
   "execution_count": null,
   "metadata": {},
   "outputs": [],
   "source": [
    "t1 = time.time()\n",
    "db.write(data)\n",
    "print(f\"db.write done in {time.time() - t1} seconds\")"
   ]
  },
  {
   "attachments": {},
   "cell_type": "markdown",
   "metadata": {},
   "source": [
    "# Compress using zip"
   ]
  },
  {
   "cell_type": "code",
   "execution_count": null,
   "metadata": {},
   "outputs": [],
   "source": [
    "t1 = time.time()\n",
    "db.compressDataset([\"zip\"])\n",
    "print(f\"db.compressDataset done in {time.time()-t1} seconds\")"
   ]
  },
  {
   "attachments": {},
   "cell_type": "markdown",
   "metadata": {},
   "source": [
    "# Show OpenVisus data"
   ]
  },
  {
   "cell_type": "code",
   "execution_count": null,
   "metadata": {},
   "outputs": [],
   "source": [
    "import os,sys\n",
    "slice=db.read(x=[X,X+1],y=[0,H],z=[0,D], num_refinements=1)[:,:,0]\n",
    "print(\"data ready\")\n",
    "ShowData(slice)"
   ]
  },
  {
   "attachments": {},
   "cell_type": "markdown",
   "metadata": {},
   "source": [
    "# Show coarse to fine"
   ]
  },
  {
   "cell_type": "code",
   "execution_count": null,
   "metadata": {},
   "outputs": [],
   "source": [
    "import os,sys\n",
    "for slice in db.read(x=[X,X+1],y=[0,H],z=[0,D], num_refinements=3):\n",
    "\tprint(\"data ready\")\n",
    "\tShowData(slice[:,:,0])"
   ]
  },
  {
   "attachments": {},
   "cell_type": "markdown",
   "metadata": {},
   "source": [
    "# Get from OpenVisus server\n",
    "\n",
    "You need to \n",
    "\n",
    "- add the dataset to the `/nfs/chess/nsdf01/openvisus/lib64/python3.6/site-packages/OpenVisus/visus.config`\n",
    "- launch the Open Visus server\n",
    "\n",
    "\n",
    "if you want to enable dynmamic dataset  you can do for example:\n",
    "\n",
    "```\n",
    "<visus> \n",
    "\n",
    "<Configuration> \n",
    "    <ModVisus> \n",
    "      <Dynamic enabled=\"true\"  filename=\"/nfs/chess/nsdf01/openvisus/lib64/python3.6/site-packages/OpenVisus/visus.config\" msec=\"10000\" /> \n",
    "    </ModVisus>\n",
    "</Configuration>\n",
    "\n",
    "<datasets>\n",
    "    <dataset \n",
    "       name='recon_combined_1_fullres-arco-1mb' \n",
    "       url='/mnt/data1/nsdf/visus-datasets/chess/recon_combined_1_fullres/arco/1mb/zip/visus.idx'  />\n",
    "</datasets>\n",
    "\n",
    "</visus>\n",
    "```"
   ]
  },
  {
   "cell_type": "code",
   "execution_count": null,
   "metadata": {},
   "outputs": [],
   "source": [
    "# Get credentials to access the OpenVisus server\n",
    "username,password=None,None\n",
    "with open(\"/nfs/chess/nsdf01/openvisus/.mod_visus.identity.sh\",\"rt\") as file:\n",
    "    for line in file.read().split():\n",
    "        if \"MODVISUS_USERNAME=\" in line:\n",
    "            username=line[line.index(\"MODVISUS_USERNAME=\")+len(\"MODVISUS_USERNAME=\"):].strip()\n",
    "            continue\n",
    "        if \"MODVISUS_PASSWORD=\" in line:\n",
    "            password=line[line.index(\"MODVISUS_PASSWORD=\")+len(\"MODVISUS_PASSWORD=\"):].strip()\n",
    "            continue\n",
    "\n",
    "db=ov.LoadDataset(f\"https://nsdf01.classe.cornell.edu/mod_visus?dataset=3scans_HKLI&~auth_username={username}&~auth_password={password}\")\n",
    "slice=db.read(x=[X,X+1],y=[0,H],z=[0,D], num_refinements=1)[:,:,0]\n",
    "print(\"data ready\")\n",
    "ShowData(slice)"
   ]
  },
  {
   "cell_type": "markdown",
   "metadata": {},
   "source": [
    "# New HDF5 data (Far Field)"
   ]
  },
  {
   "cell_type": "code",
   "execution_count": null,
   "metadata": {},
   "outputs": [],
   "source": [
    "from nexusformat.nexus import * \n",
    "\n",
    "from nexusformat.nexus.tree import NX_CONFIG\n",
    "NX_CONFIG['memory']=4000\n",
    "\n",
    "a=nxload(\"/nfs/chess/daq/current/id3a/nygren-3738-a/ss718-1ff/5/ff/ff1_000051.h5\")\n",
    "print(a.tree)"
   ]
  },
  {
   "cell_type": "code",
   "execution_count": null,
   "metadata": {},
   "outputs": [],
   "source": [
    "import matplotlib.pyplot as plt\n",
    "from scipy import ndimage\n",
    "import time\n",
    "import numpy as np\n",
    "\n",
    "def ShowData(slice,cmap=\"viridis\"):\n",
    "\t\n",
    "\tif True:\n",
    "\t\tt1=time.time()\n",
    "\t\tslice=ndimage.percentile_filter(slice, percentile=20, size=16)\n",
    "\t\tprint(f\"Filter took {time.time()-t1} seconds to compute\")\n",
    "\n",
    "\tplt.imshow(slice, cmap=cmap)\n",
    "\tplt.colorbar()\n",
    "\tplt.show()\n",
    "\n",
    "slice=a.imageseries.images[100,:,:]\n",
    "print(\"data ready\")\n",
    "ShowData(slice)"
   ]
  }
 ],
 "metadata": {
  "kernelspec": {
   "display_name": "my-env",
   "language": "python",
   "name": "python3"
  },
  "language_info": {
   "codemirror_mode": {
    "name": "ipython",
    "version": 3
   },
   "file_extension": ".py",
   "mimetype": "text/x-python",
   "name": "python",
   "nbconvert_exporter": "python",
   "pygments_lexer": "ipython3",
   "version": "3.10.12"
  },
  "orig_nbformat": 4
 },
 "nbformat": 4,
 "nbformat_minor": 2
}
