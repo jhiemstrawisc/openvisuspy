{
 "cells": [
  {
   "cell_type": "markdown",
   "metadata": {},
   "source": [
    "Links:\n",
    "- https://cornell.app.box.com/s/tblu711mnoajszul8x4kmpjxoy30ajvb\n",
    "- `/nfs/chess/user/chess_id3a/CHAP_tomo/`\n",
    "- https://github.com/CHESSComputing/ChessAnalysisPipeline"
   ]
  },
  {
   "cell_type": "markdown",
   "metadata": {},
   "source": []
  },
  {
   "cell_type": "markdown",
   "metadata": {},
   "source": [
    "Copy "
   ]
  },
  {
   "cell_type": "code",
   "execution_count": 4,
   "metadata": {},
   "outputs": [
    {
     "name": "stdout",
     "output_type": "stream",
     "text": [
      "saved ./out/map.yaml\n",
      "saved ./out/pipeline.yaml\n",
      "saved ./out/tomo_detector_retiga.yaml\n"
     ]
    }
   ],
   "source": [
    "from jinja2 import Template\n",
    "import yaml,glob,os\n",
    "\n",
    "def Load(filename):\n",
    "    with open(filename, 'r') as f: return f.read()\n",
    "\n",
    "def Save(filename,body):\n",
    "    os.makedirs(os.path.dirname(filename),exist_ok=True)\n",
    "    with open(filename, 'w') as f: return f.write(body)\n",
    "\n",
    "# load \"arguments\" (user should be define) from file\n",
    "args=yaml.safe_load(Load(\"args.yaml\"))['args']\n",
    "\n",
    "# load spec file\n",
    "spec_file=args[\"spec_file\"]\n",
    "spec=[line for line in Load(spec_file).splitlines() if line]\n",
    "\n",
    "# find the dark,brigh and tomo from *.par file\n",
    "par_filenames=list(glob.glob(os.path.dirname(spec_file) + \"/*.par\"))\n",
    "assert(len(par_filenames)==1)\n",
    "par=[[token for token in line.split()] for line in Load(par_filenames[0]).splitlines() if line]\n",
    "dark,bright,tomo=zip(*[(I-2,I-1,I) for I,it in enumerate(par) if it[-1]==\"tomo\"])\n",
    "assert(len(tomo)==1)\n",
    "\n",
    "SCAN_N=3 # i could get this number from the *.json file\n",
    "dark,bright,tomo=par[dark[0]][SCAN_N],par[bright[0]][SCAN_N],par[tomo[0]][SCAN_N]\n",
    "\n",
    "args[\"tomo_scan_number\"]=tomo\n",
    "args[\"darkfield_scan_number\"]=dark\n",
    "args[\"brightfield_scan_number\"]=bright\n",
    "\n",
    "# complete the template\n",
    "for template_filename in glob.glob(\"templates/*.yaml\"):\n",
    "    template=Template(Load(template_filename))\n",
    "    body=template.render(args)\n",
    "    output_filename=os.path.join(args['output_folder'],os.path.basename(template_filename))\n",
    "    Save(output_filename,body)\n",
    "    print(f\"saved {output_filename}\")"
   ]
  },
  {
   "cell_type": "code",
   "execution_count": null,
   "metadata": {},
   "outputs": [],
   "source": []
  }
 ],
 "metadata": {
  "kernelspec": {
   "display_name": "nsdf-env",
   "language": "python",
   "name": "python3"
  },
  "language_info": {
   "codemirror_mode": {
    "name": "ipython",
    "version": 3
   },
   "file_extension": ".py",
   "mimetype": "text/x-python",
   "name": "python",
   "nbconvert_exporter": "python",
   "pygments_lexer": "ipython3",
   "version": "3.10.12"
  }
 },
 "nbformat": 4,
 "nbformat_minor": 2
}
