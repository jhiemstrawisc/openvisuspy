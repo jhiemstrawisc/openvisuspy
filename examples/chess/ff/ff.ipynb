{
 "cells": [
  {
   "cell_type": "markdown",
   "metadata": {},
   "source": [
    "# Far Field - Raw Data"
   ]
  },
  {
   "cell_type": "code",
   "execution_count": null,
   "metadata": {},
   "outputs": [],
   "source": [
    "import h5py\n",
    "import numpy as np\n",
    "\n",
    "f = h5py.File(\"/nfs/chess/raw/2023-3/id3a/berman-3804-a/zx30-t1-ff-0/1/ff/ff1_000231.h5\", 'r')\n",
    "vol=f[\"imageseries\"][\"images\"][:,:,:] # this is IO bounded\n",
    "D,H,W=vol.shape\n",
    "print(\"Loaded hdf5 raw data\", vol.shape,vol.dtype)"
   ]
  },
  {
   "cell_type": "code",
   "execution_count": null,
   "metadata": {},
   "outputs": [],
   "source": [
    "low =np.min(vol,axis=0)\n",
    "high=np.max(vol,axis=0)"
   ]
  },
  {
   "cell_type": "code",
   "execution_count": null,
   "metadata": {},
   "outputs": [],
   "source": [
    "import plotly.express as px\n",
    "# high=tifffile.imread('test.tif')\n",
    "fig = px.imshow(high,zmin=349,zmax=16000, binary_string=True)\n",
    "fig.update_layout(width=600, height=600, margin=dict(l=0, r=0, b=0, t=0),paper_bgcolor=\"white\",showlegend=False)\n",
    "fig.update_xaxes(visible=False)\n",
    "fig.update_yaxes(visible=False)\n",
    "fig.layout.dragmode='pan'\n",
    "fig.show(config=dict({'scrollZoom': True}))"
   ]
  },
  {
   "cell_type": "markdown",
   "metadata": {},
   "source": [
    "# Far Field - Reduced Data\n"
   ]
  },
  {
   "cell_type": "code",
   "execution_count": null,
   "metadata": {},
   "outputs": [],
   "source": [
    "import os\n",
    "import numpy as np\n",
    "import hexrd\n",
    "import h5py\n",
    "from pp_dexela import PP_Dexela\n",
    "\n",
    "# hardcoded\n",
    "frame_start = 4\n",
    "threshold  = 50\n",
    "ostart     = 0. # omega start\n",
    "oend       = 360.# omega end\n",
    "\n",
    "filename=\"/nfs/chess/raw/2023-3/id3a/berman-3804-a/zx30-t1-ff-0/1/ff/ff1_000231.h5\"\n",
    "f = h5py.File(filename, 'r')\n",
    "# \"/nfs/chess/raw/2023-3/id3a/berman-3804-a/zx30-c3-ff/40/ff/ff1_000157.h5\", 'r'))\n",
    "data=f[\"imageseries\"][\"images\"]\n",
    "print(data)\n",
    "D,H,W=data.shape\n",
    "panel_id=os.path.basename(filename)[0:3];assert panel_id in [\"ff1\",\"ff2\"]\n",
    "print(D,H,W,panel_id)\n",
    "\n",
    "panel_opts = {\n",
    "    'ff1' : [('add-row', 1944), ('add-column', 1296),('flip', 'v'), ],\n",
    "    'ff2' : [('add-row', 1944), ('add-column', 1296),('flip', 'h'), ]\n",
    "}\n",
    "\n",
    "num_frames = D-frame_start\n",
    "omw = hexrd.imageseries.omega.OmegaWedges(num_frames)\n",
    "omw.addwedge(ostart, oend, num_frames)\n",
    "ppd = PP_Dexela(filename, omw, panel_opts[panel_id], panel_id=panel_id, frame_start=frame_start)\n",
    "processed = ppd.processed()\n",
    "processed.metadata['omega']    = ppd.omegas\n",
    "processed.metadata['panel_id'] = ppd.panel_id.upper()\n",
    "\n",
    "hexrd.imageseries.write(processed, \"__dummy_filename\", ppd.PROCFMT, style=\"npz\", threshold=threshold, cache_file=f\"test.npz\")"
   ]
  },
  {
   "cell_type": "code",
   "execution_count": null,
   "metadata": {},
   "outputs": [],
   "source": [
    "reduced=np.load(\"test.npz\")\n",
    "# reduced=np.load(\"/nfs/chess/aux/reduced_data/cycles/2023-3/id3a/berman-3804-a/mg1y-1-ff-0/monolithic_cache_files/mg1y-1-ff-0_5_ff1_000030-cachefile.npz\")\n",
    "D=int(reduced['nframes'])\n",
    "H,W=reduced['shape']\n",
    "print(D,H,W)\n",
    "\n",
    "assert(reduced['dtype'].tobytes().decode('ascii')==\"float32\")\n",
    "assert(len(reduced['omega'])==D) # angle ranges from 0 to 360\n",
    "assert(reduced['panel_id'] in (\"FF1\",\"FF2\"))\n",
    "\n",
    "low,high=[np.zeros(shape=(H,W),dtype=np.float32) for I in range(2)]\n",
    "for Z in range(D):\n",
    "    # convert the sparse representation to an image\n",
    "    for r,c,d in zip(reduced[f'{Z}_row'],reduced[f'{Z}_col'],reduced[f'{Z}_data']):\n",
    "        low[r,c] =np.minimum(d,low [r,c]) if Z else d\n",
    "        high[r,c]=np.maximum(d,high[r,c]) if Z else d\n",
    "\n",
    "print(high.dtype,high.shape,np.min(high),np.max(high))"
   ]
  },
  {
   "cell_type": "code",
   "execution_count": null,
   "metadata": {},
   "outputs": [],
   "source": [
    "import plotly.express as px\n",
    "import plotly.graph_objects as go\n",
    "from ipywidgets import widgets\n",
    "\n",
    "fig = px.imshow(high,zmin=349,zmax=16000, binary_string=True)\n",
    "fig.update_layout(width=600, height=600, margin=dict(l=0, r=0, b=0, t=0),paper_bgcolor=\"white\",showlegend=False)\n",
    "fig.update_xaxes(visible=False)\n",
    "fig.update_yaxes(visible=False)\n",
    "fig.show(config=dict({'scrollZoom': True}))"
   ]
  },
  {
   "cell_type": "code",
   "execution_count": null,
   "metadata": {},
   "outputs": [],
   "source": []
  }
 ],
 "metadata": {
  "kernelspec": {
   "display_name": "nsdf-env",
   "language": "python",
   "name": "python3"
  },
  "language_info": {
   "codemirror_mode": {
    "name": "ipython",
    "version": 3
   },
   "file_extension": ".py",
   "mimetype": "text/x-python",
   "name": "python",
   "nbconvert_exporter": "python",
   "pygments_lexer": "ipython3",
   "version": "3.10.12"
  }
 },
 "nbformat": 4,
 "nbformat_minor": 2
}
