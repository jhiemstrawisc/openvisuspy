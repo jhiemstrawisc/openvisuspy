{
 "cells": [
  {
   "cell_type": "markdown",
   "metadata": {},
   "source": [
    "# Far Field - Preprocess Raw Data"
   ]
  },
  {
   "cell_type": "markdown",
   "metadata": {},
   "source": [
    "Open far-field raw data"
   ]
  },
  {
   "cell_type": "code",
   "execution_count": 1,
   "metadata": {},
   "outputs": [
    {
     "name": "stdout",
     "output_type": "stream",
     "text": [
      "Loaded hdf5 raw data (1445, 3888, 3072) uint16\n"
     ]
    }
   ],
   "source": [
    "import h5py\n",
    "import numpy as np\n",
    "\n",
    "h5_filename=\"/nfs/chess/raw/2023-3/id3a/berman-3804-a/zx30-t1-ff-0/1/ff/ff1_000231.h5\"\n",
    "f = h5py.File(h5_filename, 'r')\n",
    "vol=f[\"imageseries\"][\"images\"][:,:,:] # this is IO bounded\n",
    "D,H,W=vol.shape\n",
    "print(\"Loaded hdf5 raw data\", vol.shape,vol.dtype)"
   ]
  },
  {
   "cell_type": "markdown",
   "metadata": {},
   "source": [
    "Compute min and max projection"
   ]
  },
  {
   "cell_type": "code",
   "execution_count": 2,
   "metadata": {},
   "outputs": [],
   "source": [
    "low =np.min(vol,axis=0)\n",
    "high=np.max(vol,axis=0)"
   ]
  },
  {
   "cell_type": "markdown",
   "metadata": {},
   "source": [
    "Show saturation"
   ]
  },
  {
   "cell_type": "code",
   "execution_count": 3,
   "metadata": {},
   "outputs": [
    {
     "name": "stdout",
     "output_type": "stream",
     "text": [
      "RefreshColors min=285 max=10000 show_staturation=True \n"
     ]
    },
    {
     "data": {
      "application/vnd.jupyter.widget-view+json": {
       "model_id": "f559c218921b4ea19da240a6c2ae0f2e",
       "version_major": 2,
       "version_minor": 0
      },
      "text/plain": [
       "HBox(children=(FigureWidget({\n",
       "    'data': [{'marker': {'opacity': 0},\n",
       "              'mode': 'markers',\n",
       "       …"
      ]
     },
     "execution_count": 3,
     "metadata": {},
     "output_type": "execute_result"
    }
   ],
   "source": [
    "import tifffile\n",
    "import numpy as np\n",
    "import PIL\n",
    "\n",
    "import plotly.express as px\n",
    "import plotly.graph_objects as go\n",
    "from ipywidgets import widgets\n",
    "\n",
    "\n",
    "# ////////////////////////////////////////////////\n",
    "def ShowSaturation(img):\n",
    "\n",
    "    H,W=img.shape\n",
    "    zmin,zmax=np.min(img),np.max(img)\n",
    "\n",
    "    show_min        = widgets.BoundedIntText(value=0    , min=zmin, max=zmax, step=1, description=f'Min/{zmin}')\n",
    "    show_max        = widgets.BoundedIntText(value=10000, min=zmin, max=zmax, step=1, description=f'Max/{zmax}')\n",
    "    show_saturation = widgets.Checkbox(description='Show saturation: ',value=True)\n",
    "\n",
    "    fig = go.Figure()\n",
    "    fig.layout.dragmode='pan'\n",
    "\n",
    "    fig.add_trace(go.Scatter(x=[0, W ],y=[0, H],mode=\"markers\",marker_opacity=0)) # This trace is added to help the autoresize logic work.\n",
    "    fig.update_xaxes(visible=False,range=[0, W])\n",
    "    fig.update_yaxes(visible=False,range=[0, H],scaleanchor=\"x\")\n",
    "\n",
    "    # ////////////////////////////////////////////////\n",
    "    def CreateImage(r=None,g=None,b=None):\n",
    "        if r is None:\n",
    "            gray=(np.random.random([256,256])*255.0).astype(np.uint8)\n",
    "            return CreateImage(gray,gray,gray)\n",
    "        return PIL.Image.fromarray(np.stack([r,g,b],axis=-1))\n",
    "\n",
    "\n",
    "    fig.add_layout_image(dict(\n",
    "        x=0, y=H, sizex=W, sizey=H,\n",
    "        xref=\"x\",yref=\"y\",opacity=1.0, layer=\"below\",sizing=\"stretch\",\n",
    "        source=CreateImage()\n",
    "    ))\n",
    "    fig.update_layout(margin={\"l\": 0, \"r\": 0, \"t\": 0, \"b\": 0})\n",
    "\n",
    "    figure_widget=go.FigureWidget(fig)\n",
    "    figure_widget.set_trait(\"_config\",{\"scrollZoom\": True})  # if you cannot debug, comment this line\n",
    "\n",
    "    def onChange(change=None):\n",
    "        print(f\"RefreshColors min={show_min.value} max={show_max.value} show_staturation={show_saturation.value} \")\n",
    "        r=g=b=(255.0*(img/zmax)).astype(np.uint8)\n",
    "        if show_saturation.value: \n",
    "            g,b=np.copy(r),np.copy(r)\n",
    "            mask=r>(255.0*(show_max.value/zmax))\n",
    "            r[mask],g[mask],b[mask]=255,0,0\n",
    "        new_image=CreateImage(r,g,b)\n",
    "        figure_widget.update_layout_images(source=new_image)\n",
    "\n",
    "\n",
    "    show_min       .observe(onChange, names=\"value\")\n",
    "    show_max       .observe(onChange, names=\"value\")\n",
    "    show_saturation.observe(onChange, names=\"value\")\n",
    "\n",
    "    onChange()\n",
    "    return widgets.HBox([figure_widget,widgets.VBox([show_min,show_max,show_saturation])])\n",
    "\n",
    "ShowSaturation(high)"
   ]
  },
  {
   "cell_type": "markdown",
   "metadata": {},
   "source": [
    "# Far Field - Reduced Data\n"
   ]
  },
  {
   "cell_type": "code",
   "execution_count": null,
   "metadata": {},
   "outputs": [],
   "source": [
    "import os\n",
    "import hexrd\n",
    "from pp_dexela import PP_Dexela\n",
    "\n",
    "# hardcoded\n",
    "frame_start = 4\n",
    "threshold  = 50\n",
    "ostart     = 0. # omega start\n",
    "oend       = 360.# omega end\n",
    "\n",
    "data=f[\"imageseries\"][\"images\"]\n",
    "print(data)\n",
    "D,H,W=data.shape\n",
    "\n",
    "# get panel id (first 3 letters)\n",
    "panel_id=os.path.basename(h5_filename)[0:3]\n",
    "assert panel_id in [\"ff1\",\"ff2\"]\n",
    "print(D,H,W,panel_id)\n",
    "\n",
    "panel_opts = {\n",
    "    'ff1' : [('add-row', 1944), ('add-column', 1296),('flip', 'v'), ],\n",
    "    'ff2' : [('add-row', 1944), ('add-column', 1296),('flip', 'h'), ]\n",
    "}\n",
    "\n",
    "num_frames = D-frame_start\n",
    "omw = hexrd.imageseries.omega.OmegaWedges(num_frames)\n",
    "omw.addwedge(ostart, oend, num_frames)\n",
    "ppd = PP_Dexela(h5_filename, omw, panel_opts[panel_id], panel_id=panel_id, frame_start=frame_start)\n",
    "processed = ppd.processed()\n",
    "processed.metadata['omega']    = ppd.omegas\n",
    "processed.metadata['panel_id'] = ppd.panel_id.upper()\n",
    "\n",
    "# write all results to several NPZ file (sparse)\n",
    "hexrd.imageseries.write(processed, \"__dummy_filename\", ppd.PROCFMT, style=\"npz\", threshold=threshold, cache_file=f\"test.npz\")"
   ]
  },
  {
   "cell_type": "markdown",
   "metadata": {},
   "source": [
    "Read the NPZ file (i.e. 3d Volume)"
   ]
  },
  {
   "cell_type": "code",
   "execution_count": null,
   "metadata": {},
   "outputs": [],
   "source": [
    "reduced=np.load(\"test.npz\")\n",
    "# reduced=np.load(\"/nfs/chess/aux/reduced_data/cycles/2023-3/id3a/berman-3804-a/mg1y-1-ff-0/monolithic_cache_files/mg1y-1-ff-0_5_ff1_000030-cachefile.npz\")\n",
    "D=int(reduced['nframes'])\n",
    "H,W=reduced['shape']\n",
    "print(D,H,W)\n",
    "\n",
    "assert(reduced['dtype'].tobytes().decode('ascii')==\"float32\")\n",
    "assert(len(reduced['omega'])==D) # angle ranges from 0 to 360\n",
    "assert(reduced['panel_id'] in (\"FF1\",\"FF2\"))\n",
    "\n",
    "# convert the sparse representation to a 3D volume\n",
    "low,high=[np.zeros(shape=(H,W),dtype=np.float32) for I in range(2)]\n",
    "for Z in range(D):\n",
    "    for r,c,d in zip(reduced[f'{Z}_row'],reduced[f'{Z}_col'],reduced[f'{Z}_data']):\n",
    "        low[r,c] =np.minimum(d,low [r,c]) if Z else d\n",
    "        high[r,c]=np.maximum(d,high[r,c]) if Z else d\n",
    "\n",
    "print(high.dtype,high.shape,np.min(high),np.max(high))"
   ]
  },
  {
   "cell_type": "markdown",
   "metadata": {},
   "source": [
    "Show the preprocessed data"
   ]
  },
  {
   "cell_type": "code",
   "execution_count": null,
   "metadata": {},
   "outputs": [],
   "source": [
    "ShowSaturation(high)"
   ]
  },
  {
   "cell_type": "code",
   "execution_count": null,
   "metadata": {},
   "outputs": [],
   "source": []
  }
 ],
 "metadata": {
  "kernelspec": {
   "display_name": "nsdf-env",
   "language": "python",
   "name": "python3"
  },
  "language_info": {
   "codemirror_mode": {
    "name": "ipython",
    "version": 3
   },
   "file_extension": ".py",
   "mimetype": "text/x-python",
   "name": "python",
   "nbconvert_exporter": "python",
   "pygments_lexer": "ipython3",
   "version": "3.10.12"
  }
 },
 "nbformat": 4,
 "nbformat_minor": 2
}
