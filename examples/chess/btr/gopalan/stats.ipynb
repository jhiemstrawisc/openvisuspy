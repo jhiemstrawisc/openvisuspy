{
 "cells": [
  {
   "cell_type": "code",
   "execution_count": 45,
   "metadata": {},
   "outputs": [
    {
     "data": {
      "text/html": [
       "\n",
       "\n",
       "<section style=\"background-image: url('https://raw.github.com/nsdf-fabric/nsdf-web/master/assets/images/header.background.gif');background-size: 100%;background-position: center;\">\n",
       "<h1 style=\"font-family: helvetica;color: white;font-size: 3.25rem;text-align: center;\"><br><br><br>CHESS Beamline Stats</h1>\n",
       "<h2 style=\"font-family: helvetica;color: white;font-size: 1.25rem;text-align: center;font-weight: normal;\">Last Updated 2023-11-14 18:49:22 - by <a href='https://nationalsciencedatafabric.org/'> National Science Data Fabric </a><br><br><br><br></h2>\n",
       "</section>\n"
      ],
      "text/plain": [
       "<IPython.core.display.HTML object>"
      ]
     },
     "metadata": {},
     "output_type": "display_data"
    }
   ],
   "source": [
    "# HEADER for HTML pages\n",
    "from datetime import datetime\n",
    "from IPython.display import display, Markdown,HTML\n",
    "display(HTML(\"\"\"\n",
    "<section style=\"background-image: url('https://raw.github.com/nsdf-fabric/nsdf-web/master/assets/images/header.background.gif');background-size: 100%;background-position: center;\">\n",
    "<h1 style=\"font-family: helvetica;color: white;font-size: 3.25rem;text-align: center;\"><br>gopalan stats</h1>\n",
    "<h2 style=\"font-family: helvetica;color: white;font-size: 1.25rem;text-align: center;font-weight: normal;\">Last Updated {todays_date} - by <a href='https://nationalsciencedatafabric.org/'> National Science Data Fabric </a><br><br><br><br></h2>\n",
    "</section>\n",
    "\"\"\".replace(\"{todays_date}\",str(datetime.now()).split(\".\")[0])\n",
    "))"
   ]
  },
  {
   "cell_type": "code",
   "execution_count": null,
   "metadata": {},
   "outputs": [],
   "source": [
    "from glob import glob\n",
    "import os\n",
    "import sys\n",
    "from datetime import datetime, timezone\n",
    "import pandas as pd\n",
    "import plotly.express as px\n",
    "pd.options.plotting.backend = \"plotly\"\n",
    "\n",
    "# TO CHANGE AS NEEDED\n",
    "DIR=\"/nfs/chess/id4b/2023-3/gopalan-3842-a\"\n",
    "\n",
    "files=[]\n",
    "for filename in glob(f'{DIR}/**/*', recursive=True):\n",
    "    if os.path.isfile(filename):\n",
    "        stat = os.stat(filename)\n",
    "        size=stat.st_size\n",
    "        # ctime=datetime.fromtimestamp(stat.st_ctime)   # Time of most recent metadata change expressed in seconds.\n",
    "        mtime=datetime.fromtimestamp(stat.st_mtime)     # Time of most recent content modification expressed in seconds.\n",
    "\n",
    "        files.append((mtime,filename,size))\n",
    "\n",
    "\n",
    "df = pd.DataFrame(files, columns =['date', 'path', 'size'])\n",
    "df=df.sort_values(by=['date'])\n",
    "# df.set_index(\"date\",inplace=True)\n",
    "df['num_files']=[I for I,it in enumerate(df.iterrows())]\n",
    "df['cumsum']=df['size'].cumsum()\n",
    "df['ext']=[os.path.splitext(it)[-1] for it in df['path']]\n",
    "df['dirname']=[os.path.dirname(it) for it in df['path']]\n",
    "#df"
   ]
  },
  {
   "cell_type": "code",
   "execution_count": null,
   "metadata": {},
   "outputs": [],
   "source": [
    "import plotly.graph_objects as go\n",
    "\n",
    "fig = go.Figure()\n",
    "fig.add_trace(go.Scatter(x=df['date'], y=df['size']     , name=\"size\"))\n",
    "fig.add_trace(go.Scatter(x=df['date'], y=df['num_files'], name=\"num_files\", yaxis=\"y2\"))\n",
    "fig.add_trace(go.Scatter(x=df['date'], y=df['cumsum']   , name=\"cumsum\"   , yaxis=\"y3\"))\n",
    "\n",
    "fig.update_layout(\n",
    "    showlegend=False,   \n",
    "    xaxis =dict(domain=[0.0, 0.85]),\n",
    "    yaxis =dict(title=\"size\"     ,side=\"right\"                                           ,visible=True,titlefont=dict(color=\"blue\" ),tickfont=dict(color=\"blue\" )),\n",
    "    yaxis2=dict(title=\"num_files\",anchor=\"free\",overlaying=\"y\",side=\"right\",position=0.90,visible=True,titlefont=dict(color=\"red\"  ),tickfont=dict(color=\"red\"  )),\n",
    "    yaxis3=dict(title=\"cumsum\"   ,anchor=\"free\",overlaying=\"y\",side=\"right\",position=0.95,visible=True,titlefont=dict(color=\"green\"),tickfont=dict(color=\"green\")),\n",
    ")\n",
    "fig.layout.dragmode='pan'\n",
    "fig.show(config=dict({'scrollZoom': True,'displayModeBar': False}))"
   ]
  },
  {
   "cell_type": "code",
   "execution_count": null,
   "metadata": {},
   "outputs": [],
   "source": [
    "header=['date', 'temperature',\"sample\", \"color\", \"basename\",\"size\"]\n",
    "rows=[]\n",
    "for index, row in df[df['ext']==\".cbf\"].iterrows():\n",
    "    # /previx/\n",
    "    # /nfs/chess/id4b/2023-3/gopalan-3842-a/aw6M/KNO_GSO/sample1/200/KNO_GSO_019/KNO_GSO_PIL10_019_01239.cbf \n",
    "    v=row['path'].split(\"/\")\n",
    "    temperature=int(v[-3])\n",
    "    basename=os.path.basename(v[-1])\n",
    "    sample=\"/\".join(v[-6:-3])\n",
    "    size=row['size']\n",
    "    color=\"/\".join(v[len(DIR.split(\"/\")):-1])\n",
    "    new_row=[row['date'], temperature, sample, color, basename, size]\n",
    "    rows.append(new_row)"
   ]
  },
  {
   "cell_type": "markdown",
   "metadata": {},
   "source": []
  },
  {
   "cell_type": "code",
   "execution_count": null,
   "metadata": {},
   "outputs": [],
   "source": [
    "fields = pd.DataFrame(rows, columns=header).sort_values(by=['date'])\n",
    "fig = px.line(fields, x=\"date\", y=\"temperature\", hover_data=['basename','size'], symbol='sample',color='color')\n",
    "\n",
    "#for data in fig.data:\n",
    "#    fig.add_scatter(x=[data.x[0]], y=[data.y[0]],mode='text',showlegend=False, text=[data.y[-1]], textposition='top right')\n",
    "\n",
    "fig.layout.dragmode='pan'\n",
    "fig.update_yaxes(type=\"linear\")\n",
    "fig.update_layout(showlegend=False)\n",
    "fig.show(config=dict({'scrollZoom': True}))"
   ]
  },
  {
   "cell_type": "markdown",
   "metadata": {},
   "source": [
    "# Time histogram"
   ]
  },
  {
   "cell_type": "code",
   "execution_count": null,
   "metadata": {},
   "outputs": [],
   "source": [
    "import plotly.express as px\n",
    "fig =px.histogram(df, x=\"date\")\n",
    "fig.layout.dragmode='pan'\n",
    "fig.update_layout(bargap=0.2)\n",
    "fig.show(config=dict({'scrollZoom': True}))"
   ]
  },
  {
   "cell_type": "code",
   "execution_count": null,
   "metadata": {},
   "outputs": [],
   "source": [
    "fig=px.pie(df, names='ext', title='Number of Files per Extension') \n",
    "fig.layout.dragmode='pan'\n",
    "fig.show(config=dict({'scrollZoom': True}))"
   ]
  },
  {
   "cell_type": "markdown",
   "metadata": {},
   "source": [
    "# Total size per extension"
   ]
  },
  {
   "cell_type": "code",
   "execution_count": null,
   "metadata": {},
   "outputs": [],
   "source": [
    "fig=px.bar(df.groupby(['ext'])['size'].sum())\n",
    "fig.layout.dragmode='pan'\n",
    "fig.show(config=dict({'scrollZoom': True}))"
   ]
  },
  {
   "cell_type": "code",
   "execution_count": null,
   "metadata": {},
   "outputs": [],
   "source": []
  }
 ],
 "metadata": {
  "kernelspec": {
   "display_name": "nsdf-env",
   "language": "python",
   "name": "python3"
  },
  "language_info": {
   "codemirror_mode": {
    "name": "ipython",
    "version": 3
   },
   "file_extension": ".py",
   "mimetype": "text/x-python",
   "name": "python",
   "nbconvert_exporter": "python",
   "pygments_lexer": "ipython3",
   "version": "3.10.12"
  }
 },
 "nbformat": 4,
 "nbformat_minor": 2
}
