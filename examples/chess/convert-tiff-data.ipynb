{
 "cells": [
  {
   "attachments": {},
   "cell_type": "markdown",
   "metadata": {},
   "source": [
    "![nsdf](https://www.sci.utah.edu/~pascucci/public/NSDF-large.png)  \n",
    "[National Science Data Fabric](https://nationalsciencedatafabric.org/) \n",
    "\n",
    "# Converting TIFF  data \n",
    "\n",
    "- `2048*2048*1447*float32` Each timestep is **22 GiB**\n",
    "- 900 timesteps **20TB**"
   ]
  },
  {
   "cell_type": "code",
   "execution_count": null,
   "metadata": {},
   "outputs": [],
   "source": [
    "import time\n",
    "import os\n",
    "import numpy as np\n",
    "import argparse\n",
    "import glob\n",
    "import os\n",
    "import numpy as np\n",
    "\n",
    "from matplotlib import pyplot as plt\n",
    "from skimage import io\n",
    "\n",
    "# ///////////////////////////////////////////////////////////////\n",
    "def ShowImage(img, histogram=True):\n",
    "\tprint(\"dtype\",img.dtype,\"shape\",img.shape,\"m\",np.min(img),\"M\",np.max(img))\n",
    "\tfig = plt.figure()\n",
    "\tfig.set_size_inches(18.5, 10.5)\n",
    "\n",
    "\tax = fig.add_subplot(1, 2, 1) # nrows, ncols, index\n",
    "\timgplot = plt.imshow(img)\n",
    "\n",
    "\tplt.colorbar(orientation='horizontal')\n",
    "\t\n",
    "\tif histogram:\n",
    "\t\tax = fig.add_subplot(1, 2, 2)\n",
    "\t\thistogram, bin_edges = np.histogram(img, bins=256, range=(np.min(img), np.max(img)))\n",
    "\t\tplt.title(\"Histogram\")\n",
    "\t\tplt.xlabel(\"value\")\n",
    "\t\tplt.ylabel(\"pixel count\")\n",
    "\t\tplt.xlim([np.min(img), np.max(img)])\n",
    "\t\tplt.plot(bin_edges[0:-1], histogram)\n"
   ]
  },
  {
   "cell_type": "code",
   "execution_count": null,
   "metadata": {},
   "outputs": [],
   "source": [
    "# example: show a tif image\n",
    "\n",
    "filenames=list(sorted(glob.glob(\"/nfs/chess/nsdf01/vpascucci/allison-1110-3/mg4al-sht/11/nf/*.tif\")))\n",
    "\n",
    "D=len(filenames)\n",
    "img = io.imread(filenames[D//2])\n",
    "H,W=img.shape\n",
    "print(\"W\",W,\"H\",H,\"D\",D,\"dtype\",img.dtype)\n",
    "ShowImage(np.clip(img, 0, 70))"
   ]
  },
  {
   "attachments": {},
   "cell_type": "markdown",
   "metadata": {},
   "source": [
    "# Import OpenVisus"
   ]
  },
  {
   "cell_type": "code",
   "execution_count": null,
   "metadata": {},
   "outputs": [],
   "source": [
    "import OpenVisus as ov\n",
    "import logging\n",
    "os.environ[\"VISUS_DISABLE_WRITE_LOCK\"]=\"1\"\n",
    "logger= logging.getLogger(\"OpenVisus\")\n",
    "# ov.SetupLogger(logger, output_stdout=True) \n",
    "print(\"OpenVisus imported\")"
   ]
  },
  {
   "attachments": {},
   "cell_type": "markdown",
   "metadata": {},
   "source": [
    "# Create the IDX file"
   ]
  },
  {
   "cell_type": "code",
   "execution_count": null,
   "metadata": {},
   "outputs": [],
   "source": [
    "idx_filename=\"/mnt/data1/nsdf/tmp/allison-1110-3/mg4al-sht/11/nf/visus.idx\"\n",
    "\n",
    "# ************ dangerous (make sure you are in a tmp directory) ************ \n",
    "import os,sys,shutil\n",
    "shutil.rmtree(os.path.dirname(idx_filename), ignore_errors=True)\n",
    "\n",
    "fields=[ov.Field(\"data\",str(img.dtype),\"row_major\")]\n",
    "db=ov.CreateIdx(\n",
    "\turl=idx_filename,\n",
    "\tdims=[W,H,D],\n",
    "\tfields=fields,\n",
    "\tcompression=\"raw\")\n",
    "\n",
    "print(type(db))\n",
    "print(db.getDatasetBody().toString())"
   ]
  },
  {
   "attachments": {},
   "cell_type": "markdown",
   "metadata": {},
   "source": [
    "# Write data to OpenVisus"
   ]
  },
  {
   "cell_type": "code",
   "execution_count": null,
   "metadata": {},
   "outputs": [],
   "source": [
    "t1 = time.time()\n",
    "\n",
    "def generateSlices():\n",
    "    for Z in range(D): \n",
    "        # print(f\"Writing {Z}/{D}...\")\n",
    "        yield io.imread(filenames[Z])\n",
    "\n",
    "db.writeSlabs(generateSlices())\n",
    "print(f\"db.write done in {time.time() - t1} seconds\")"
   ]
  },
  {
   "attachments": {},
   "cell_type": "markdown",
   "metadata": {},
   "source": [
    "# Show OpenVisus data"
   ]
  },
  {
   "cell_type": "code",
   "execution_count": null,
   "metadata": {},
   "outputs": [],
   "source": [
    "Z=D//2\n",
    "slice=db.read(x=[0,W],y=[0,H],z=[Z,Z+1], num_refinements=1)[0,:,:]\n",
    "print(slice.shape,slice.dtype)\n",
    "ShowImage(np.clip(slice, 0, 70))"
   ]
  },
  {
   "attachments": {},
   "cell_type": "markdown",
   "metadata": {},
   "source": [
    "\n",
    "# Get from OpenVisus server\n",
    "\n",
    "You need to \n",
    "\n",
    "- add the dataset to the `/nfs/chess/nsdf01/openvisus/lib64/python3.6/site-packages/OpenVisus/visus.config`\n",
    "- launch the Open Visus server\n",
    "```"
   ]
  },
  {
   "attachments": {},
   "cell_type": "markdown",
   "metadata": {},
   "source": [
    "Get credentials to access the OpenVisus server:"
   ]
  },
  {
   "cell_type": "code",
   "execution_count": null,
   "metadata": {},
   "outputs": [],
   "source": [
    "username,password=None,None\n",
    "with open(\"/nfs/chess/nsdf01/openvisus/.mod_visus.identity.sh\",\"rt\") as file:\n",
    "    for line in file.read().split():\n",
    "        if \"MODVISUS_USERNAME=\" in line:\n",
    "            username=line[line.index(\"MODVISUS_USERNAME=\")+len(\"MODVISUS_USERNAME=\"):].strip()\n",
    "            continue\n",
    "        if \"MODVISUS_PASSWORD=\" in line:\n",
    "            password=line[line.index(\"MODVISUS_PASSWORD=\")+len(\"MODVISUS_PASSWORD=\"):].strip()\n",
    "            continue\n",
    "\n",
    "db=ov.LoadDataset(f\"https://nsdf01.classe.cornell.edu/mod_visus?dataset=allison-1110-3-mg4al-sht-11-nf&~auth_username={username}&~auth_password={password}\")\n",
    "slice=db.read(x=[0,W],y=[0,H],z=[Z,Z+1], num_refinements=1)[0,:,:]\n",
    "ShowImage(np.clip(slice, 0, 70))"
   ]
  },
  {
   "cell_type": "code",
   "execution_count": null,
   "metadata": {},
   "outputs": [],
   "source": []
  }
 ],
 "metadata": {
  "kernelspec": {
   "display_name": "my-env",
   "language": "python",
   "name": "my-env"
  },
  "language_info": {
   "codemirror_mode": {
    "name": "ipython",
    "version": 3
   },
   "file_extension": ".py",
   "mimetype": "text/x-python",
   "name": "python",
   "nbconvert_exporter": "python",
   "pygments_lexer": "ipython3",
   "version": "3.9.16"
  },
  "orig_nbformat": 4
 },
 "nbformat": 4,
 "nbformat_minor": 2
}
