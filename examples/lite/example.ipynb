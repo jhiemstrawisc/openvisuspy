{
 "cells": [
  {
   "cell_type": "code",
   "execution_count": null,
   "metadata": {},
   "outputs": [],
   "source": [
    "\n",
    "# I have no ide why I have to do this, there is some confusion between bokeh version\n",
    "import shutil,os,sys,micropip\n",
    "for it in os.listdir(\"/lib/python3.10/site-packages\"):\n",
    "    if it.startswith(\"bokeh\"):\n",
    "        shutil.rmtree(f\"/lib/python3.10/site-packages/{it}\", ignore_errors=True)\n",
    "\n",
    "await micropip.install(\"https://cdn.holoviz.org/panel/0.14.3/dist/wheels/bokeh-2.4.3-py3-none-any.whl\")\n",
    "await micropip.install(\"bokeh==2.4.3\")\n",
    "\n",
    "import shutil,os,sys,micropip\n",
    "await micropip.install([\n",
    "    \"pyviz_comms\",\n",
    "    \"numpy\",\n",
    "    \"pandas\",\n",
    "    \"requests\",\n",
    "    \"xmltodict\",\n",
    "    \"xyzservices\",\n",
    "    \"pyodide-http\",\n",
    "    \"colorcet\",\n",
    "    \"https://cdn.holoviz.org/panel/0.14.3/dist/wheels/bokeh-2.4.3-py3-none-any.whl\",\n",
    "    \"panel==0.14.2\",\n",
    "    \"openvisuspy==0.0.20\",\n",
    "])\n",
    "\n",
    "import bokeh\n",
    "print(bokeh.__version__)\n",
    "\n",
    "import os,sys,logging,time,piplite\n",
    "await piplite.install(['panel', 'pyodide-http', 'openvisuspy','xmltodict','requests','colorcet'])\n",
    "import panel as pn\n",
    "pn.extension('vega')\n",
    "\n",
    "import bokeh\n",
    "button = bokeh.models.widgets.Button(label=\"Panel is working? Push...\", sizing_mode='stretch_width')\n",
    "def OnClick(evt=None): button.label=\"YES!\"\n",
    "button.on_click(OnClick)    \n",
    "pn.pane.Bokeh(button) # NOTE: bokeh will not work (complaining about tornado)"
   ]
  },
  {
   "cell_type": "code",
   "execution_count": null,
   "metadata": {},
   "outputs": [],
   "source": [
    "import openvisuspy\n",
    "from openvisuspy import Slice, Slices, GetBackend, SetupLogger\n",
    "logger=SetupLogger()\n",
    "logger.info(f\"GetBackend={GetBackend()}\")\n",
    "\n",
    "view=Slice(show_options=[\"palette\",\"timestep\",\"field\",\"direction\",\"offset\"]) \n",
    "view.setDataset(f\"https://atlantis.sci.utah.edu/mod_visus?dataset=david_subsampled&cached=1\" )   \n",
    "view.setDirection(2)\n",
    "view.setPalette(\"Greys256\")\n",
    "view.setPaletteRange((0,255))\n",
    "view.setTimestep(view.getTimestep())\n",
    "view.setField(view.getField()) \n",
    "\n",
    "view.getPanelLayout()"
   ]
  }
 ],
 "metadata": {
  "kernelspec": {
   "display_name": "Python 3",
   "language": "python",
   "name": "python3"
  },
  "language_info": {
   "name": "python",
   "version": "3.9.9"
  },
  "orig_nbformat": 4
 },
 "nbformat": 4,
 "nbformat_minor": 2
}
