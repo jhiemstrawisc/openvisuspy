{
 "cells": [
  {
   "cell_type": "markdown",
   "id": "6935afb8",
   "metadata": {},
   "source": [
    "# Import OpenVisus and Load Dataset"
   ]
  },
  {
   "cell_type": "code",
   "execution_count": 3,
   "id": "502716f3",
   "metadata": {},
   "outputs": [
    {
     "name": "stdout",
     "output_type": "stream",
     "text": [
      "VISUS_BACKEND=cpp\n",
      "Loaded dataset \n",
      "fields=['DATA'] \n",
      "logic_box=([0, 0, 0], [2048, 2048, 2048])\n"
     ]
    }
   ],
   "source": [
    "import os,sys\n",
    "import matplotlib.pyplot as plt, skimage\n",
    "%matplotlib notebook\n",
    "\n",
    "def ShowData(data,extent):\n",
    "    fig, ax = plt.subplots()\n",
    "    im = ax.imshow(data, extent=extent) \n",
    "    plt.colorbar(im)\n",
    "    return fig,im,ax\n",
    "\n",
    "from openvisus_py import LoadDataset, ExecuteBoxQuery\n",
    "\n",
    "url=f\"http://atlantis.sci.utah.edu/mod_visus?dataset=2kbit1&cached=1\"\n",
    "db=LoadDataset(url)\n",
    "print(f\"Loaded dataset \\nfields={db.getFields()} \\nlogic_box={db.getLogicBox()}\")\n",
    "W,H,D=db.getLogicBox()[1]\n",
    "access=db.createAccess()\n"
   ]
  },
  {
   "cell_type": "markdown",
   "id": "23c0f58c",
   "metadata": {},
   "source": [
    "# Extract data"
   ]
  },
  {
   "cell_type": "code",
   "execution_count": 4,
   "id": "6155f76a",
   "metadata": {},
   "outputs": [
    {
     "name": "stdout",
     "output_type": "stream",
     "text": [
      "God data shape=(128, 128, 128) dtype=uint8\n"
     ]
    }
   ],
   "source": [
    "result=list(ExecuteBoxQuery(db,\n",
    "                            access=access,\n",
    "                            logic_box=[[0,0,0],[W,H,D]],\n",
    "                            endh=21,\n",
    "                            num_refinements=1))[0]\n",
    "data=result['data']\n",
    "print(f\"God data shape={data.shape} dtype={data.dtype}\")"
   ]
  },
  {
   "cell_type": "markdown",
   "id": "b731a9f5",
   "metadata": {},
   "source": [
    "# Show volume in pyvista"
   ]
  },
  {
   "cell_type": "code",
   "execution_count": 5,
   "id": "e04d6ff0",
   "metadata": {},
   "outputs": [
    {
     "data": {
      "application/vnd.jupyter.widget-view+json": {
       "model_id": "e100accca38c4e72a7cc9feff4c69ce6",
       "version_major": 2,
       "version_minor": 0
      },
      "text/plain": [
       "Widget(value=\"<iframe src='http://localhost:51277/index.html?ui=P_0x15e7f31a280_0&reconnect=auto' style='width…"
      ]
     },
     "metadata": {},
     "output_type": "display_data"
    }
   ],
   "source": [
    "# !pip install pyvista trame\n",
    "import pyvista as pv\n",
    "p = pv.Plotter()\n",
    "p.add_volume(data)\n",
    "p.show()"
   ]
  },
  {
   "cell_type": "code",
   "execution_count": null,
   "id": "5ecc7b41",
   "metadata": {},
   "outputs": [],
   "source": []
  }
 ],
 "metadata": {
  "kernelspec": {
   "display_name": "Python 3 (ipykernel)",
   "language": "python",
   "name": "python3"
  },
  "language_info": {
   "codemirror_mode": {
    "name": "ipython",
    "version": 3
   },
   "file_extension": ".py",
   "mimetype": "text/x-python",
   "name": "python",
   "nbconvert_exporter": "python",
   "pygments_lexer": "ipython3",
   "version": "3.9.9"
  }
 },
 "nbformat": 4,
 "nbformat_minor": 5
}
