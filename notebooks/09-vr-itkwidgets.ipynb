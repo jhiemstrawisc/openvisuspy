{
 "cells": [
  {
   "cell_type": "markdown",
   "id": "6edea670",
   "metadata": {},
   "source": [
    "# Import OpenVisus and Load dataset"
   ]
  },
  {
   "cell_type": "code",
   "execution_count": 2,
   "id": "548f5721",
   "metadata": {},
   "outputs": [],
   "source": [
    "# !pip install itkwidgets[all]"
   ]
  },
  {
   "cell_type": "code",
   "execution_count": 2,
   "id": "502716f3",
   "metadata": {},
   "outputs": [
    {
     "name": "stdout",
     "output_type": "stream",
     "text": [
      "VISUS_BACKEND=cpp\n",
      "Loaded dataset \n",
      "fields=['DATA'] \n",
      "logic_box=([0, 0, 0], [2048, 2048, 2048])\n"
     ]
    }
   ],
   "source": [
    "import os,sys\n",
    "import matplotlib.pyplot as plt, skimage\n",
    "%matplotlib notebook\n",
    "\n",
    "def ShowData(data,extent):\n",
    "    fig, ax = plt.subplots()\n",
    "    im = ax.imshow(data, extent=extent) \n",
    "    plt.colorbar(im)\n",
    "    return fig,im,ax\n",
    "\n",
    "from openvisus_py import LoadDataset, ExecuteBoxQuery\n",
    "\n",
    "url=f\"http://atlantis.sci.utah.edu/mod_visus?dataset=2kbit1&cached=1\"\n",
    "db=LoadDataset(url)\n",
    "print(f\"Loaded dataset \\nfields={db.getFields()} \\nlogic_box={db.getLogicBox()}\")\n",
    "W,H,D=db.getLogicBox()[1]\n",
    "access=db.createAccess()\n"
   ]
  },
  {
   "cell_type": "markdown",
   "id": "586a5583",
   "metadata": {},
   "source": [
    "# Extract data"
   ]
  },
  {
   "cell_type": "code",
   "execution_count": 3,
   "id": "0188c6f4",
   "metadata": {},
   "outputs": [
    {
     "name": "stdout",
     "output_type": "stream",
     "text": [
      "Got data shape=(128, 128, 128) dtype=uint8\n"
     ]
    }
   ],
   "source": [
    "result=list(ExecuteBoxQuery(db,\n",
    "                            access=access,\n",
    "                            logic_box=[[0,0,0],[W,H,D]],\n",
    "                            endh=21,\n",
    "                            num_refinements=1))[0]\n",
    "data=result['data']\n",
    "print(f\"Got data shape={data.shape} dtype={data.dtype}\")"
   ]
  },
  {
   "cell_type": "markdown",
   "id": "c0862d3b",
   "metadata": {},
   "source": [
    "# Show volume in itkwidgets"
   ]
  },
  {
   "cell_type": "code",
   "execution_count": 4,
   "id": "0f258605",
   "metadata": {},
   "outputs": [
    {
     "data": {
      "text/html": [
       "<div />"
      ],
      "text/plain": [
       "<IPython.core.display.HTML object>"
      ]
     },
     "metadata": {},
     "output_type": "display_data"
    },
    {
     "data": {
      "application/javascript": "window.connectPlugin && window.connectPlugin(\"v2-195088rln07GkJLv6\")",
      "text/plain": [
       "<IPython.core.display.Javascript object>"
      ]
     },
     "metadata": {},
     "output_type": "display_data"
    },
    {
     "data": {
      "text/html": [
       "<div id=\"5ae668ba-f3ef-43d0-8a2b-42d48e63c5fd\"></div>"
      ],
      "text/plain": [
       "<IPython.core.display.HTML object>"
      ]
     },
     "metadata": {},
     "output_type": "display_data"
    },
    {
     "data": {
      "text/plain": [
       "<itkwidgets.viewer.Viewer at 0x26f7d3142b0>"
      ]
     },
     "execution_count": 4,
     "metadata": {},
     "output_type": "execute_result"
    }
   ],
   "source": [
    "from itkwidgets import view\n",
    "view(data)"
   ]
  }
 ],
 "metadata": {
  "kernelspec": {
   "display_name": "Python 3 (ipykernel)",
   "language": "python",
   "name": "python3"
  },
  "language_info": {
   "codemirror_mode": {
    "name": "ipython",
    "version": 3
   },
   "file_extension": ".py",
   "mimetype": "text/x-python",
   "name": "python",
   "nbconvert_exporter": "python",
   "pygments_lexer": "ipython3",
   "version": "3.9.9"
  }
 },
 "nbformat": 4,
 "nbformat_minor": 5
}
